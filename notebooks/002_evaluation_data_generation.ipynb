{
 "cells": [
  {
   "cell_type": "code",
   "execution_count": 1,
   "id": "7e9bd3d3-cf94-45ba-a62b-ca479eaca14a",
   "metadata": {},
   "outputs": [
    {
     "data": {
      "text/plain": [
       "4"
      ]
     },
     "execution_count": 1,
     "metadata": {},
     "output_type": "execute_result"
    }
   ],
   "source": [
    "2+2"
   ]
  },
  {
   "cell_type": "code",
   "execution_count": 2,
   "id": "bb98219d-a5e8-4eff-87bb-d42ab9447c20",
   "metadata": {},
   "outputs": [],
   "source": [
    "import os\n",
    "import json"
   ]
  },
  {
   "cell_type": "code",
   "execution_count": 3,
   "id": "d49c1330-b853-4299-9e47-0281fdbbbb45",
   "metadata": {
    "scrolled": true
   },
   "outputs": [
    {
     "name": "stdout",
     "output_type": "stream",
     "text": [
      "Author ID: 76561198420943538\n",
      "Review: ---{ Graphics }---\n",
      "✅ You forget what reality is\n",
      "☐ Beautiful\n",
      "☐ Good\n",
      "☐ Decent\n",
      "☐ Bad\n",
      "☐ You will get eye cancer\n",
      "☐ Get a pepper spray for your eye instead\n",
      "\n",
      "---{ Gameplay }---\n",
      "☐ Won’t ever touch any other game anymore\n",
      "✅ Very good\n",
      "☐ Good\n",
      "☐ It's just gameplay\n",
      "☐ Mehh\n",
      "☐ Watch paint dry instead\n",
      "☐ Tic Tac toe is better\n",
      "\n",
      "---{ Audio }---\n",
      "☐ Eargasm\n",
      "✅ Very good\n",
      "☐ Good\n",
      "☐ Not too bad\n",
      "☐ Bad\n",
      "☐ I'm now deaf\n",
      "\n",
      "---{ Audience }---\n",
      "☐ Kids\n",
      "✅Teens\n",
      "✅ Adults\n",
      "☐ Grandma\n",
      "\n",
      "---{ PC Requirements }---\n",
      "☐ Check if you can run paint\n",
      "☐ Potato\n",
      "☐ Decent\n",
      "✅ Fast\n",
      "☐ Rich boi\n",
      "☐ Ask NASA if they have a spare computer\n",
      "☐ Search the galaxy for dark matter fuel to run\n",
      "\n",
      "---{ Difficulty }---\n",
      "☐ Just press 'W'\n",
      "☐ Easy\n",
      "✅ Easy to learn / Hard to master\n",
      "☐ Significant brain usage\n",
      "☐ Difficult\n",
      "☐ Dark Souls\n",
      "\n",
      "---{ Grind }---\n",
      "☐ Nothing to grind\n",
      "☐ Only if u care about leaderboards/ranks\n",
      "✅ Isn't necessary to progress\n",
      "☐ Average grind level\n",
      "☐ Too much grind\n",
      "☐ You'll need a second life for grinding\n",
      "\n",
      "---{ Story }---\n",
      "☐ No Story\n",
      "☐ Some lore\n",
      "☐ Average\n",
      "☐ Good\n",
      "☐ Lovely\n",
      "✅ It'll replace your life\n",
      "\n",
      "---{ Game Time }---\n",
      "☐ Long enough for a cup of coffee\n",
      "☐ Short\n",
      "☐ Average\n",
      "✅ Long\n",
      "☐ To infinity and beyond\n",
      "☐ Until GTA6 releases\n",
      "\n",
      "---{ Price }---\n",
      "☐ It's free!\n",
      "☐ Worth the price\n",
      "✅ If it's on sale\n",
      "☐ If u have some spare money left\n",
      "☐ Not recommended\n",
      "☐ You could also just burn your money\n",
      "\n",
      "---{ Bugs }---\n",
      "☐ Never heard of\n",
      "✅ Minor bugs\n",
      "☐ Can get annoying\n",
      "☐ ARK: Survival Evolved\n",
      "☐ The game itself is a big terrarium for bugs\n",
      "\n",
      "---{ ? / 10 }---\n",
      "☐ 1\n",
      "☐ 2\n",
      "☐ 3\n",
      "☐ 4\n",
      "☐ 5\n",
      "☐ 6\n",
      "☐ 7\n",
      "☐ 8\n",
      "✅ 9\n",
      "☐ 10\n",
      "Timestamp Created: 1725394822\n",
      "-------------------------------------------------------------------------------\n",
      "Author ID: 76561198835479154\n",
      "Review: Despite being an ambitious game, Assassin's Creed Odyssey often feels bloated. While the vast, open-world is beautiful, it can feel repetitive and is filled with unnecessary quests that drag down the experience. The RPG mechanics, a fresh idea, sometimes take away from the Assassin's Creed experience, making it feel more like an open-world checklist simulator. That said, the story is engaging and the historical setting is captivating, especially for fans of Ancient Greece. If you have the patience for the grind, there's still fun to be had\n",
      "Timestamp Created: 1726669780\n",
      "-------------------------------------------------------------------------------\n"
     ]
    }
   ],
   "source": [
    "# Directory containing the data files\n",
    "data_dir = os.path.abspath('../reviews-assistant/data/reviews')\n",
    "\n",
    "# Initialize an empty list to hold all reviews\n",
    "reviews = []\n",
    "\n",
    "# List objects in the directory\n",
    "objects_in_directory = os.listdir(data_dir)\n",
    "\n",
    "# Iterate over the files in the directory\n",
    "for obj in objects_in_directory:\n",
    "    if obj.endswith('.json'):  # Check if the file is a JSON file\n",
    "        file_path = os.path.join(data_dir, obj)\n",
    "        with open(file_path, 'r', encoding='utf-8') as jsonfile:\n",
    "            # Load the reviews from the JSON file\n",
    "            file_reviews = json.load(jsonfile)\n",
    "            reviews.extend(file_reviews)  # Append reviews to the main list\n",
    "\n",
    "# Print the first i reviews\n",
    "i = 2  # Change this to print more reviews if needed\n",
    "for review in reviews[:i]:\n",
    "    print(f\"Author ID: {review['author.steamid']}\")\n",
    "    print(f\"Review: {review.get('review', 'No text')}\")\n",
    "    print(f\"Timestamp Created: {review['timestamp_created']}\")\n",
    "    print(\"-\" * 79)"
   ]
  },
  {
   "cell_type": "code",
   "execution_count": 4,
   "id": "9ab15625-0aa0-4486-940e-e418847171b1",
   "metadata": {
    "scrolled": true
   },
   "outputs": [
    {
     "name": "stdout",
     "output_type": "stream",
     "text": [
      "Author ID: 76561199490516845\n",
      "Review: ubisoft is Good. but if u lost ur old Email. and get into that Ubisoft account and cant remmber the email. download a Ubisoft Game that was linked to the old email. and make sure the ubisoft Launcher is uninstalled. then  after that game redownloads and it also redownloads Ubisoft. u launch the game then u click on ubisoft then u go to account Seetts u find ur old email then u contact Ubi Soft. and they will Sort you out ♥ thanks ubisoft for Helping me Change My LONG LOST Email ♥♥\n",
      "Timestamp Created: 1725197662\n",
      "-------------------------------------------------------------------------------\n",
      "Author ID: 76561199062748925\n",
      "Review: i feel ashamed to have given money to a company that has secretly turnt into a political tool, after using men for years, you decide to throw them away, backwards losers who let their insecurities make nasty choices. you guys will die alone in this life, just watch, bunch of losers\n",
      "\n",
      "Only recently they came out the shadow and let us know their real intentions, ever since syndicate things has been weird, dumb ass b's dont know how to carry themselves, b's like u need equality to bring u to the middle line while dragging actual worth and talent down to the middle line, useless\n",
      "\n",
      "f Ubisoft, im never playing any game from them again, the rest of people should do the same, so much for equality, why allow childish women when there are real talented people who can offer better, its too political now\n",
      "\n",
      "will soon be a dead company dw, everything will be exposed\n",
      "Timestamp Created: 1726413681\n",
      "-------------------------------------------------------------------------------\n"
     ]
    }
   ],
   "source": [
    "import os\n",
    "import json\n",
    "import random  # Import random for shuffling\n",
    "\n",
    "# Directory containing the data files\n",
    "data_dir = os.path.abspath('../reviews-assistant/data/reviews')\n",
    "\n",
    "# Initialize an empty list to hold all reviews\n",
    "reviews = []\n",
    "\n",
    "# List objects in the directory\n",
    "objects_in_directory = os.listdir(data_dir)\n",
    "\n",
    "# Iterate over the files in the directory\n",
    "for obj in objects_in_directory:\n",
    "    if obj.endswith('.json'):  # Check if the file is a JSON file\n",
    "        file_path = os.path.join(data_dir, obj)\n",
    "        with open(file_path, 'r', encoding='utf-8') as jsonfile:\n",
    "            # Load the reviews from the JSON file\n",
    "            file_reviews = json.load(jsonfile)\n",
    "            \n",
    "            # If the loaded content is a list of reviews, extend the main list\n",
    "            if isinstance(file_reviews, list):\n",
    "                reviews.extend(file_reviews)  # Append reviews to the main list\n",
    "            else:\n",
    "                reviews.append(file_reviews)  # Handle the case where it's not a list\n",
    "\n",
    "# Shuffle the reviews to randomize their order\n",
    "random.shuffle(reviews)\n",
    "\n",
    "# Print the first i shuffled reviews\n",
    "i = 2  # Change this to print more reviews if needed\n",
    "for review in reviews[:i]:\n",
    "    print(f\"Author ID: {review['author.steamid']}\")\n",
    "    print(f\"Review: {review.get('review', 'No text')}\")\n",
    "    print(f\"Timestamp Created: {review['timestamp_created']}\")\n",
    "    print(\"-\" * 79)\n"
   ]
  },
  {
   "cell_type": "code",
   "execution_count": 5,
   "id": "1d9fda07-17f9-49cb-b744-c4902c53016c",
   "metadata": {},
   "outputs": [
    {
     "data": {
      "text/plain": [
       "1784"
      ]
     },
     "execution_count": 5,
     "metadata": {},
     "output_type": "execute_result"
    }
   ],
   "source": [
    "len(reviews)"
   ]
  },
  {
   "cell_type": "code",
   "execution_count": 6,
   "id": "0d8fde50-f6fe-4c8d-977c-4edc7ac74b18",
   "metadata": {},
   "outputs": [
    {
     "data": {
      "text/plain": [
       "{'appid': '2322010',\n",
       " 'timestamp_query': 1727531870,\n",
       " 'title': 'God of War: Ragnarok',\n",
       " 'recommendationid': '175599311',\n",
       " 'author.steamid': '76561198197991033',\n",
       " 'author.playtimeforever': None,\n",
       " 'author.playtime_last_two_weeks': 1220,\n",
       " 'author.playtime_at_review': 139,\n",
       " 'author.last_played': 1727443448,\n",
       " 'language': 'english',\n",
       " 'review': \"The game is amazing and I'm really enjoying it, however I can't recommend it in it's current state. A single player game requiring a Sony PSN login and not being able to play it offline? Really Sony? Are you serious?\",\n",
       " 'timestamp_created': 1727082025,\n",
       " 'timestamp_updated': 1727082025}"
      ]
     },
     "execution_count": 6,
     "metadata": {},
     "output_type": "execute_result"
    }
   ],
   "source": [
    "reviews[-1]"
   ]
  },
  {
   "cell_type": "code",
   "execution_count": 7,
   "id": "fe667866-f214-4de5-ac81-9ef0b05aaf3e",
   "metadata": {},
   "outputs": [],
   "source": [
    "from openai import OpenAI\n",
    "\n",
    "client = OpenAI()"
   ]
  },
  {
   "cell_type": "code",
   "execution_count": 8,
   "id": "e42b1497-8fd1-470c-a540-82c5d9e7f364",
   "metadata": {},
   "outputs": [],
   "source": [
    "prompt_template = \"\"\"\n",
    "You are emulating a user of our computer game preselection application.\n",
    "The application and its recommendations are based on reviews from an online shop called Steam.\n",
    "The application is designed for conservative fathers of young children who are not aware of how the modern gaming industry works.\n",
    "This application is for fathers who are not up to date with the latest titles released on a daily basis.\n",
    "Formulate 10 questions this user who is a father might ask based on a provided exercise.\n",
    "Make the questions specific to this exercise and user, who is a father. Remeber, user needs to keep his child from not suitable games, including DEI games.\n",
    "DEI ideology, which enforces Diversity, equity, and inclusion (DEI) hurts creativity, and uses corporate propaganda to improve sales. \n",
    "The record should contain the answer to the questions, and the questions should\n",
    "be complete and not too short. Use as fewer words as possible from the record. \n",
    "\n",
    "The record:\n",
    "\n",
    "title: {title}\n",
    "language: {language}\n",
    "review: {review}\n",
    "\n",
    "Provide the output in parsable JSON without using code blocks:\n",
    "\n",
    "{{\"questions\": [\"question1\", \"question2\", ..., \"question5\"]}}\n",
    "\"\"\".strip()"
   ]
  },
  {
   "cell_type": "code",
   "execution_count": 9,
   "id": "fe72a648-d3a6-4e98-a728-1df0640dd3e7",
   "metadata": {},
   "outputs": [],
   "source": [
    "prompt_template = \"\"\"\n",
    "You are emulating a user of a software application.\n",
    "The application returns recommendations to the user. The knowledge base of the application is based on reviews from an online shop called Steam.\n",
    "The application is designed for users who are conservative fathers, unfamiliar with how the modern gaming industry works.\n",
    "These fathers are not up to date with the latest titles released regularly. They want to protect their children from harmful content.\n",
    "Types of harmful content include:\n",
    "\n",
    "Violence: Excessive or graphic depictions of violence.\n",
    "Gore and Blood: Intense visual representations of injury or mutilation.\n",
    "Sexual Content: Explicit or suggestive sexual themes or imagery.\n",
    "Profanity: Use of strong language or offensive words.\n",
    "Substance Abuse: Depictions of drugs, alcohol, or smoking.\n",
    "Discrimination: Racist, sexist, or other discriminatory content.\n",
    "Gambling: In-game gambling or loot boxes mimicking gambling mechanics.\n",
    "Horror and Disturbing Imagery: Intense fear-inducing or disturbing scenes.\n",
    "Addiction Mechanisms: Features that encourage excessive play (e.g., microtransactions, time-gated rewards).\n",
    "DEI ideology (Diversity, Equity, and Inclusion): Corporate policies focused on DEI, which some argue hurt creativity and are mainly aimed at improving sales.\n",
    "Do \n",
    "\n",
    "\n",
    "Formulate 5 questions this user would ask based on a provided exercise.\n",
    "Create only questions which are related to this exercise and type of users.\n",
    "The record should contain the answer to the questions, and the questions should\n",
    "be complete and not too short. Use as fewer words as possible from the record.\n",
    "\n",
    "The record:\n",
    "\n",
    "title: {title}\n",
    "language: {language}\n",
    "review: {review}\n",
    "\n",
    "Provide the output in parsable JSON without using code blocks:\n",
    "\n",
    "{{\"questions\": [\"question1\", \"question2\", ..., \"question5\"]}}\n",
    "\"\"\".strip()"
   ]
  },
  {
   "cell_type": "code",
   "execution_count": 10,
   "id": "334fd8bb-954d-4250-880f-0c1a18c17eb3",
   "metadata": {},
   "outputs": [],
   "source": [
    "prompt = prompt_template.format(**reviews[0])"
   ]
  },
  {
   "cell_type": "code",
   "execution_count": 11,
   "id": "af92ad0d-437d-4d23-a31f-3402657e374c",
   "metadata": {},
   "outputs": [
    {
     "data": {
      "text/plain": [
       "'You are emulating a user of a software application.\\nThe application returns recommendations to the user. The knowledge base of the application is based on reviews from an online shop called Steam.\\nThe application is designed for users who are conservative fathers, unfamiliar with how the modern gaming industry works.\\nThese fathers are not up to date with the latest titles released regularly. They want to protect their children from harmful content.\\nTypes of harmful content include:\\n\\nViolence: Excessive or graphic depictions of violence.\\nGore and Blood: Intense visual representations of injury or mutilation.\\nSexual Content: Explicit or suggestive sexual themes or imagery.\\nProfanity: Use of strong language or offensive words.\\nSubstance Abuse: Depictions of drugs, alcohol, or smoking.\\nDiscrimination: Racist, sexist, or other discriminatory content.\\nGambling: In-game gambling or loot boxes mimicking gambling mechanics.\\nHorror and Disturbing Imagery: Intense fear-inducing or disturbing scenes.\\nAddiction Mechanisms: Features that encourage excessive play (e.g., microtransactions, time-gated rewards).\\nDEI ideology (Diversity, Equity, and Inclusion): Corporate policies focused on DEI, which some argue hurt creativity and are mainly aimed at improving sales.\\nDo \\n\\n\\nFormulate 5 questions this user would ask based on a provided exercise.\\nCreate only questions which are related to this exercise and type of users.\\nThe record should contain the answer to the questions, and the questions should\\nbe complete and not too short. Use as fewer words as possible from the record.\\n\\nThe record:\\n\\ntitle: Assassin\\'s Creed Valhalla\\nlanguage: english\\nreview: ubisoft is Good. but if u lost ur old Email. and get into that Ubisoft account and cant remmber the email. download a Ubisoft Game that was linked to the old email. and make sure the ubisoft Launcher is uninstalled. then  after that game redownloads and it also redownloads Ubisoft. u launch the game then u click on ubisoft then u go to account Seetts u find ur old email then u contact Ubi Soft. and they will Sort you out ♥ thanks ubisoft for Helping me Change My LONG LOST Email ♥♥\\n\\nProvide the output in parsable JSON without using code blocks:\\n\\n{\"questions\": [\"question1\", \"question2\", ..., \"question5\"]}'"
      ]
     },
     "execution_count": 11,
     "metadata": {},
     "output_type": "execute_result"
    }
   ],
   "source": [
    "prompt"
   ]
  },
  {
   "cell_type": "code",
   "execution_count": 12,
   "id": "152a6e47-327f-43d3-a6ef-7552e6be1116",
   "metadata": {},
   "outputs": [],
   "source": [
    "def llm(prompt):\n",
    "    response = client.chat.completions.create(\n",
    "        model='gpt-4o-mini',\n",
    "        messages=[{\"role\": \"user\", \"content\": prompt}]\n",
    "    )\n",
    "    \n",
    "    return response.choices[0].message.content"
   ]
  },
  {
   "cell_type": "code",
   "execution_count": 13,
   "id": "9178efc9-74b3-46c1-bf85-6abd37386692",
   "metadata": {},
   "outputs": [],
   "source": [
    "questions = llm(prompt)"
   ]
  },
  {
   "cell_type": "code",
   "execution_count": 14,
   "id": "537bcfe7-79b6-4c72-96bf-974eeac4bf3c",
   "metadata": {},
   "outputs": [
    {
     "data": {
      "text/plain": [
       "{'questions': [\"What is the main objective of Assassin's Creed Valhalla?\",\n",
       "  \"Does Assassin's Creed Valhalla contain excessive violence or disturbing imagery?\",\n",
       "  'Is there any explicit sexual content or nudity in this game?',\n",
       "  'Are there microtransactions or mechanics that encourage excessive play?',\n",
       "  'Does the game promote any form of discrimination, such as racism or sexism?']}"
      ]
     },
     "execution_count": 14,
     "metadata": {},
     "output_type": "execute_result"
    }
   ],
   "source": [
    "json.loads(questions)"
   ]
  },
  {
   "cell_type": "code",
   "execution_count": 15,
   "id": "923c20e8-54fa-4c26-9f6e-ea4f6a1db3f5",
   "metadata": {},
   "outputs": [],
   "source": [
    "def generate_questions(doc):\n",
    "    prompt = prompt_template.format(**doc)\n",
    "\n",
    "    response = client.chat.completions.create(\n",
    "        model='gpt-4o-mini',\n",
    "        messages=[{\"role\": \"user\", \"content\": prompt}]\n",
    "    )\n",
    "\n",
    "    json_response = response.choices[0].message.content\n",
    "    return json_response"
   ]
  },
  {
   "cell_type": "code",
   "execution_count": 16,
   "id": "1ea2a7ef-463a-4f7d-bf71-12f0a49ff589",
   "metadata": {},
   "outputs": [],
   "source": [
    "from tqdm.auto import tqdm"
   ]
  },
  {
   "cell_type": "code",
   "execution_count": 17,
   "id": "fcf6664b-7116-4057-802b-cfae58789147",
   "metadata": {},
   "outputs": [],
   "source": [
    "results = {}"
   ]
  },
  {
   "cell_type": "code",
   "execution_count": 18,
   "id": "9a2434ca-108a-4aa2-be79-701661e01358",
   "metadata": {},
   "outputs": [
    {
     "data": {
      "application/vnd.jupyter.widget-view+json": {
       "model_id": "f8ee258af0f14951bf7c3d1ef8c2784e",
       "version_major": 2,
       "version_minor": 0
      },
      "text/plain": [
       "  0%|          | 0/1784 [00:00<?, ?it/s]"
      ]
     },
     "metadata": {},
     "output_type": "display_data"
    }
   ],
   "source": [
    "for doc in tqdm(reviews): \n",
    "    doc_id = doc['appid']\n",
    "    if doc_id in results:\n",
    "        continue\n",
    "\n",
    "    questions_raw = generate_questions(doc)\n",
    "    questions = json.loads(questions_raw)\n",
    "    results[doc_id] = questions['questions']"
   ]
  },
  {
   "cell_type": "code",
   "execution_count": 19,
   "id": "e89cf1b7-52ad-4ae9-9510-a2cdcc8d2118",
   "metadata": {},
   "outputs": [],
   "source": [
    "final_results = []\n",
    "\n",
    "for doc_id, reviews in results.items():\n",
    "    for q in reviews:\n",
    "        final_results.append((doc_id, q))"
   ]
  },
  {
   "cell_type": "code",
   "execution_count": 20,
   "id": "c5b9eeb2-a4a1-4fe5-9b7a-1d245d82013f",
   "metadata": {},
   "outputs": [],
   "source": [
    "final_results = []\n",
    "\n",
    "for doc_id, reviews in results.items():\n",
    "    for q in reviews:\n",
    "        final_results.append({\n",
    "            \"appid\": doc_id,\n",
    "            \"question\": q\n",
    "        })"
   ]
  },
  {
   "cell_type": "code",
   "execution_count": 21,
   "id": "3c52c53d-a829-41f8-a318-8614df7a9130",
   "metadata": {},
   "outputs": [
    {
     "data": {
      "text/plain": [
       "{'appid': '2208920',\n",
       " 'question': \"What is the overall content rating of Assassin's Creed Valhalla?\"}"
      ]
     },
     "execution_count": 21,
     "metadata": {},
     "output_type": "execute_result"
    }
   ],
   "source": [
    "final_results[0]"
   ]
  },
  {
   "cell_type": "code",
   "execution_count": 22,
   "id": "be042d8a-21c0-4826-a502-e95c1694055c",
   "metadata": {},
   "outputs": [
    {
     "data": {
      "text/plain": [
       "{'appid': '1545560',\n",
       " 'question': 'Is there any indication that Shadow Gambit: The Cursed Crew has addictive features that could affect children?'}"
      ]
     },
     "execution_count": 22,
     "metadata": {},
     "output_type": "execute_result"
    }
   ],
   "source": [
    "final_results[-1]"
   ]
  },
  {
   "cell_type": "code",
   "execution_count": 23,
   "id": "157381c5-2b26-4314-b5fa-943d2a03beb7",
   "metadata": {},
   "outputs": [
    {
     "name": "stdout",
     "output_type": "stream",
     "text": [
      "Data saved to /mnt/c/Users/KonuTech/llm-zoomcamp-capstone-01/reviews-assistant/data/ground_truth/ground_truth_retrieval.json\n"
     ]
    }
   ],
   "source": [
    "import json\n",
    "import os\n",
    "\n",
    "# Assuming final_results is defined as a list of dictionaries\n",
    "# Example: final_results = [{'recommendationid': 1, 'question': 'What is the best game?'}, ...]\n",
    "data_dir = os.path.abspath('../reviews-assistant/data/ground_truth')\n",
    "\n",
    "# Define the output file path\n",
    "output_file = os.path.join(data_dir, \"ground_truth_retrieval.json\")\n",
    "\n",
    "# Save the results to a JSON file\n",
    "with open(output_file, 'w', encoding='utf-8') as json_file:\n",
    "    json.dump(final_results, json_file, ensure_ascii=False, indent=4)\n",
    "\n",
    "print(f\"Data saved to {output_file}\")\n"
   ]
  },
  {
   "cell_type": "code",
   "execution_count": null,
   "id": "70fb82e2-3d21-45e1-943e-28961b24ef60",
   "metadata": {},
   "outputs": [],
   "source": []
  }
 ],
 "metadata": {
  "kernelspec": {
   "display_name": "Python 3 (ipykernel)",
   "language": "python",
   "name": "python3"
  },
  "language_info": {
   "codemirror_mode": {
    "name": "ipython",
    "version": 3
   },
   "file_extension": ".py",
   "mimetype": "text/x-python",
   "name": "python",
   "nbconvert_exporter": "python",
   "pygments_lexer": "ipython3",
   "version": "3.11.6"
  }
 },
 "nbformat": 4,
 "nbformat_minor": 5
}
