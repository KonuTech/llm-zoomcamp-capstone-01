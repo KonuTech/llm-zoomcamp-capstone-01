{
 "cells": [
  {
   "cell_type": "code",
   "execution_count": 1,
   "id": "531840c5-b86a-4df9-be75-80ed49eaea93",
   "metadata": {},
   "outputs": [
    {
     "data": {
      "text/plain": [
       "4"
      ]
     },
     "execution_count": 1,
     "metadata": {},
     "output_type": "execute_result"
    }
   ],
   "source": [
    "2+2"
   ]
  },
  {
   "cell_type": "code",
   "execution_count": 2,
   "id": "90e9002f-7c01-4ade-91b2-027aa38676c7",
   "metadata": {},
   "outputs": [],
   "source": [
    "# !pip list"
   ]
  },
  {
   "cell_type": "code",
   "execution_count": 3,
   "id": "d77e5346-19bf-4816-97f1-0d31d8c483b9",
   "metadata": {},
   "outputs": [],
   "source": [
    "# https://partner.steamgames.com/doc/store/getreviews"
   ]
  },
  {
   "cell_type": "code",
   "execution_count": 4,
   "id": "fff3d013-3e13-497f-b0f2-b4d3de8a96fc",
   "metadata": {},
   "outputs": [
    {
     "data": {
      "text/plain": [
       "True"
      ]
     },
     "execution_count": 4,
     "metadata": {},
     "output_type": "execute_result"
    }
   ],
   "source": [
    "import os\n",
    "from dotenv import load_dotenv\n",
    "# Load environment variables from .env\n",
    "load_dotenv(\"/home/jovyan/.envrc\")"
   ]
  },
  {
   "cell_type": "code",
   "execution_count": 5,
   "id": "ffefbc7d-24d0-48be-a2e2-5f001e8d91c9",
   "metadata": {},
   "outputs": [],
   "source": [
    "# Verify that the environment variable is loaded (optional for debugging)\n",
    "# print(f\"OPENAI_API_KEY: {os.getenv('OPENAI_API_KEY')}\")"
   ]
  },
  {
   "cell_type": "code",
   "execution_count": 6,
   "id": "9bc7b342-a62f-45db-83c0-41056e34a8a9",
   "metadata": {},
   "outputs": [
    {
     "name": "stdout",
     "output_type": "stream",
     "text": [
      "Reviews for App ID 2322010 (God of War: Ragnarok) saved to /home/jovyan/reviews-assistant/data/reviews/reviews_god_of_war_ragnarok.json\n",
      "Reviews for App ID 1086940 (Baldur's Gate 3) saved to /home/jovyan/reviews-assistant/data/reviews/reviews_baldurs_gate_3.json\n",
      "Reviews for App ID 1680880 (Forspoken) saved to /home/jovyan/reviews-assistant/data/reviews/reviews_forspoken.json\n",
      "Reviews for App ID 1496790 (Gotham Knights) saved to /home/jovyan/reviews-assistant/data/reviews/reviews_gotham_knights.json\n",
      "Reviews for App ID 315210 (Suicide Squad: Kill the Justice League) saved to /home/jovyan/reviews-assistant/data/reviews/reviews_suicide_squad_kill_the_justice_league.json\n",
      "Reviews for App ID 2443720 (Concord) saved to /home/jovyan/reviews-assistant/data/reviews/reviews_concord.json\n",
      "Reviews for App ID 2208920 (Assassin's Creed Valhalla) saved to /home/jovyan/reviews-assistant/data/reviews/reviews_assassins_creed_valhalla.json\n",
      "Reviews for App ID 1817070 (Marvel’s Spider-Man Remastered) saved to /home/jovyan/reviews-assistant/data/reviews/reviews_marvel’s_spider-man_remastered.json\n",
      "Reviews for App ID 1832040 (Flintlock: The Siege of Dawn) saved to /home/jovyan/reviews-assistant/data/reviews/reviews_flintlock_the_siege_of_dawn.json\n",
      "Reviews for App ID 2698940 (The Crew Motorfest) saved to /home/jovyan/reviews-assistant/data/reviews/reviews_the_crew_motorfest.json\n",
      "No reviews to save for App ID 2702430 (Usual June).\n",
      "Reviews for App ID 1545560 (Shadow Gambit: The Cursed Crew) saved to /home/jovyan/reviews-assistant/data/reviews/reviews_shadow_gambit_the_cursed_crew.json\n",
      "Reviews for App ID 794540 (Neo Cab) saved to /home/jovyan/reviews-assistant/data/reviews/reviews_neo_cab.json\n",
      "Reviews for App ID 721180 (Dustborn) saved to /home/jovyan/reviews-assistant/data/reviews/reviews_dustborn.json\n",
      "No reviews to save for App ID 1477940 (Unknown 9: Awakening).\n",
      "Reviews for App ID 2239550 (Watch Dogs: Legion) saved to /home/jovyan/reviews-assistant/data/reviews/reviews_watch_dogs_legion.json\n",
      "Reviews for App ID 447040 (Watch_Dogs 2) saved to /home/jovyan/reviews-assistant/data/reviews/reviews_watch_dogs_2.json\n",
      "Reviews for App ID 243470 (Watch_Dogs) saved to /home/jovyan/reviews-assistant/data/reviews/reviews_watch_dogs.json\n",
      "Reviews for App ID 582160 (Assassin's Creed Origin) saved to /home/jovyan/reviews-assistant/data/reviews/reviews_assassins_creed_origin.json\n",
      "Reviews for App ID 812140 (Assassin's Creed Odyssey) saved to /home/jovyan/reviews-assistant/data/reviews/reviews_assassins_creed_odyssey.json\n",
      "Reviews for App ID 552520 (Far Cry 5) saved to /home/jovyan/reviews-assistant/data/reviews/reviews_far_cry_5.json\n",
      "Reviews for App ID 2369390 (Far Cry 6) saved to /home/jovyan/reviews-assistant/data/reviews/reviews_far_cry_6.json\n",
      "Reviews for App ID 304390 (FOR HONOR) saved to /home/jovyan/reviews-assistant/data/reviews/reviews_for_honor.json\n",
      "No reviews to save for App ID 2842040 (Star Wars Outlaws).\n"
     ]
    }
   ],
   "source": [
    "import requests\n",
    "import json\n",
    "import csv\n",
    "import sys\n",
    "import os\n",
    "import time  # Import time for the epoch timestamp\n",
    "import re  # Import re for regex\n",
    "\n",
    "\n",
    "# Construct the path to the scripts directory\n",
    "script_path = os.path.abspath('../reviews-assistant/scripts')\n",
    "\n",
    "# Add the path to sys.path\n",
    "if script_path not in sys.path:\n",
    "    sys.path.append(script_path)\n",
    "\n",
    "import minsearch\n",
    "\n",
    "\n",
    "class SteamReviewFetcher:\n",
    "    def __init__(self, appids_with_titles, filter=\"all\", language=\"english\", day_range=30, review_type=\"all\", purchase_type=\"all\"):\n",
    "        \"\"\"\n",
    "        Initializes the SteamReviewFetcher with the required parameters.\n",
    "\n",
    "        :param appids_with_titles: List of tuples containing Steam application IDs and their corresponding titles.\n",
    "        :param filter: Type of review filter.\n",
    "        :param language: Language of the reviews.\n",
    "        :param day_range: Number of days to consider for reviews.\n",
    "        :param review_type: Type of review (all or specific).\n",
    "        :param purchase_type: Type of purchase.\n",
    "        \"\"\"\n",
    "        self.base_url = \"https://store.steampowered.com/appreviews/\"\n",
    "        self.appids_with_titles = appids_with_titles if isinstance(appids_with_titles, list) else [appids_with_titles]\n",
    "        self.filter = filter\n",
    "        self.language = language\n",
    "        self.day_range = day_range\n",
    "        self.review_type = review_type\n",
    "        self.purchase_type = purchase_type\n",
    "        self.data_dir = os.path.abspath('../reviews-assistant/data/reviews')\n",
    "\n",
    "        # Ensure the data directory exists\n",
    "        os.makedirs(self.data_dir, exist_ok=True)\n",
    "\n",
    "    def _construct_url(self, appid):\n",
    "        return f\"{self.base_url}{appid}?json=1\"\n",
    "\n",
    "    def _fetch_reviews(self, appid, num_reviews):\n",
    "        url = self._construct_url(appid)\n",
    "        params = {\n",
    "            \"filter\": self.filter,\n",
    "            \"language\": self.language,\n",
    "            \"day_range\": self.day_range,\n",
    "            \"review_type\": self.review_type,\n",
    "            \"purchase_type\": self.purchase_type,\n",
    "            \"num_per_page\": num_reviews\n",
    "        }\n",
    "        response = requests.get(url, params=params)\n",
    "        response.raise_for_status()\n",
    "        return response.json()\n",
    "\n",
    "    def get_reviews(self, num_reviews=20, print_reviews=True):\n",
    "        all_reviews = {}\n",
    "        for appid, title in self.appids_with_titles:\n",
    "            review_data = self._fetch_reviews(appid, num_reviews)\n",
    "            reviews = review_data.get(\"reviews\", [])\n",
    "            all_reviews[appid] = (title, reviews)  # Store title along with reviews\n",
    "            \n",
    "            if print_reviews:\n",
    "                self.print_first_last_reviews(appid, title, reviews)\n",
    "\n",
    "        return all_reviews\n",
    "\n",
    "    def print_first_last_reviews(self, appid, title, reviews):\n",
    "        total_reviews = len(reviews)\n",
    "        if total_reviews == 0:\n",
    "            print(f\"No reviews found for App ID {appid} ({title}).\")\n",
    "            return\n",
    "\n",
    "        print(f\"\\nFirst 5 Reviews for App ID {appid} ({title}):\")\n",
    "        for review in reviews[:5]:\n",
    "            self._print_review(review)\n",
    "\n",
    "        print(f\"\\nLast 5 Reviews for App ID {appid} ({title}):\")\n",
    "        for review in reviews[-5:]:\n",
    "            self._print_review(review)\n",
    "\n",
    "    def _print_review(self, review):\n",
    "        print(f\"Author: {review['author']['steamid']}\")\n",
    "        print(f\"Review: {review.get('review', 'No text')}\")\n",
    "        print(f\"Rating: {'Positive' if review['voted_up'] else 'Negative'}\")\n",
    "        print(f\"Timestamp: {review['timestamp_created']}\")\n",
    "        print(\"-\" * 79)\n",
    "\n",
    "    def _extract_columns_to_save(self, reviews, appid, title):\n",
    "        extracted_reviews = []\n",
    "        current_time = int(time.time())  # Get current epoch time\n",
    "        for review in reviews:\n",
    "            review_dict = {\n",
    "                \"appid\": appid,  # Move appid to the first field\n",
    "                \"timestamp_query\": current_time,  # Move timestamp_query to the second field\n",
    "                \"title\": title,\n",
    "            }\n",
    "            for column in [\"recommendationid\", \"author.steamid\", \"author.playtimeforever\",\n",
    "                           \"author.playtime_last_two_weeks\", \"author.playtime_at_review\",\n",
    "                           \"author.last_played\", \"language\", \"review\", \"voted_up\", \"votes_up\", \"timestamp_created\", \"timestamp_updated\"]:\n",
    "                if column.split('.')[0] == 'author':\n",
    "                    nested_column = column.split('.')[1]\n",
    "                    review_dict[column] = review['author'].get(nested_column)\n",
    "                else:\n",
    "                    review_dict[column] = review.get(column)\n",
    "            extracted_reviews.append(review_dict)\n",
    "        return extracted_reviews\n",
    "\n",
    "    def save_reviews(self, all_reviews, filename_prefix, format):\n",
    "        for appid, (title, reviews) in all_reviews.items():\n",
    "            if not reviews:\n",
    "                print(f\"No reviews to save for App ID {appid} ({title}).\")\n",
    "                continue\n",
    "\n",
    "            safe_title = self._sanitize_title(title)  # Sanitize title for filename\n",
    "            lower_safe_title = safe_title.lower()  # Convert to lowercase for the filename\n",
    "            if format == \"csv\":\n",
    "                self._save_reviews_as_csv(appid, lower_safe_title, reviews, filename_prefix, title)\n",
    "            elif format == \"json\":\n",
    "                self._save_reviews_as_json(appid, lower_safe_title, reviews, filename_prefix, title)\n",
    "            else:\n",
    "                print(\"Invalid format. Please specify 'csv' or 'json'.\")\n",
    "\n",
    "    def _sanitize_title(self, title):\n",
    "        \"\"\"Remove special characters from the title for safe filename.\"\"\"\n",
    "        return re.sub(r'[<>:\"/\\\\|?*]', '', title).replace(\"'\", \"\").replace(\" \", \"_\")\n",
    "\n",
    "    def _save_reviews_as_csv(self, appid, lower_safe_title, reviews, filename_prefix, title):\n",
    "        keys = ['appid', 'timestamp_query', 'title', 'steamid', 'review', 'voted_up', \"votes_up\", 'timestamp_created']  # Update the keys\n",
    "        filename = os.path.join(self.data_dir, f\"{filename_prefix}_{lower_safe_title}_{appid}_reviews.csv\")\n",
    "        with open(filename, 'w', newline='', encoding='utf-8') as csvfile:\n",
    "            writer = csv.writer(csvfile)\n",
    "            writer.writerow(keys)  # Write the header\n",
    "            for review in reviews:\n",
    "                row = [\n",
    "                    appid,  # App ID as the first field\n",
    "                    int(time.time()),  # Current epoch timestamp as the second field\n",
    "                    title,  # Keep the original title\n",
    "                    review['author']['steamid'],\n",
    "                    review.get('review', 'No text'),\n",
    "                    'Positive' if review['voted_up'] else 'Negative',\n",
    "                    review['timestamp_created'],\n",
    "                ]\n",
    "                writer.writerow(row)\n",
    "        print(f\"Reviews for App ID {appid} ({title}) saved to {filename}\")\n",
    "\n",
    "    def _save_reviews_as_json(self, appid, lower_safe_title, reviews, filename_prefix, title):\n",
    "        filename = os.path.join(self.data_dir, f\"reviews_{lower_safe_title}.json\")\n",
    "        extracted_reviews = self._extract_columns_to_save(reviews, appid, title)  # Use original title here\n",
    "        with open(filename, 'w', encoding='utf-8') as jsonfile:\n",
    "            json.dump(extracted_reviews, jsonfile, indent=4)\n",
    "        print(f\"Reviews for App ID {appid} ({title}) saved to {filename}\")\n",
    "\n",
    "\n",
    "# Example usage\n",
    "if __name__ == \"__main__\":\n",
    "    appids_with_titles = [\n",
    "        (\"2322010\", \"God of War: Ragnarok\"),\n",
    "        (\"1086940\", \"Baldur's Gate 3\"),\n",
    "        (\"1680880\", \"Forspoken\"),\n",
    "        (\"1496790\", \"Gotham Knights\"),\n",
    "        (\"315210\", \"Suicide Squad: Kill the Justice League\"),\n",
    "        (\"2443720\", \"Concord\"),\n",
    "        (\"2208920\", \"Assassin's Creed Valhalla\"),\n",
    "        (\"1817070\", \"Marvel’s Spider-Man Remastered\"),\n",
    "        (\"1832040\", \"Flintlock: The Siege of Dawn\"),\n",
    "        (\"2698940\", \"The Crew Motorfest\"),\n",
    "        (\"2702430\", \"Usual June\"),\n",
    "        (\"1545560\", \"Shadow Gambit: The Cursed Crew\"),\n",
    "        (\"794540\", \"Neo Cab\"),\n",
    "        (\"721180\", \"Dustborn\"),\n",
    "        (\"1477940\", \"Unknown 9: Awakening\"),\n",
    "        (\"2239550\", \"Watch Dogs: Legion\"),\n",
    "        (\"447040\", \"Watch_Dogs 2\"),\n",
    "        (\"243470\", \"Watch_Dogs\"),\n",
    "        (\"582160\", \"Assassin's Creed Origin\"),\n",
    "        (\"812140\", \"Assassin's Creed Odyssey\"),\n",
    "        (\"552520\", \"Far Cry 5\"),\n",
    "        (\"2369390\", \"Far Cry 6\"),\n",
    "        (\"304390\", \"FOR HONOR\"),\n",
    "        (\"2842040\", \"Star Wars Outlaws\"),\n",
    "        \n",
    "    ]  # List of tuples containing app IDs and their titles\n",
    "    review_fetcher = SteamReviewFetcher(appids_with_titles)\n",
    "\n",
    "    num_reviews = 10000  # Specify the number of reviews to fetch\n",
    "    print_reviews_flag = False  # Set to False to turn off printing reviews\n",
    "\n",
    "    all_reviews = review_fetcher.get_reviews(num_reviews, print_reviews=print_reviews_flag)\n",
    "\n",
    "    # Save reviews to file\n",
    "    review_fetcher.save_reviews(all_reviews, \"reviews\", format=\"json\")\n"
   ]
  },
  {
   "cell_type": "markdown",
   "id": "a14d8b5c-e4d1-43e9-851d-ef82b93da69c",
   "metadata": {},
   "source": [
    "# Ingestion"
   ]
  },
  {
   "cell_type": "code",
   "execution_count": 7,
   "id": "75070581-df59-4291-9173-a96f14750c2f",
   "metadata": {
    "scrolled": true
   },
   "outputs": [
    {
     "name": "stdout",
     "output_type": "stream",
     "text": [
      "Author ID: 76561198420943538\n",
      "Review: ---{ Graphics }---\n",
      "✅ You forget what reality is\n",
      "☐ Beautiful\n",
      "☐ Good\n",
      "☐ Decent\n",
      "☐ Bad\n",
      "☐ You will get eye cancer\n",
      "☐ Get a pepper spray for your eye instead\n",
      "\n",
      "---{ Gameplay }---\n",
      "☐ Won’t ever touch any other game anymore\n",
      "✅ Very good\n",
      "☐ Good\n",
      "☐ It's just gameplay\n",
      "☐ Mehh\n",
      "☐ Watch paint dry instead\n",
      "☐ Tic Tac toe is better\n",
      "\n",
      "---{ Audio }---\n",
      "☐ Eargasm\n",
      "✅ Very good\n",
      "☐ Good\n",
      "☐ Not too bad\n",
      "☐ Bad\n",
      "☐ I'm now deaf\n",
      "\n",
      "---{ Audience }---\n",
      "☐ Kids\n",
      "✅Teens\n",
      "✅ Adults\n",
      "☐ Grandma\n",
      "\n",
      "---{ PC Requirements }---\n",
      "☐ Check if you can run paint\n",
      "☐ Potato\n",
      "☐ Decent\n",
      "✅ Fast\n",
      "☐ Rich boi\n",
      "☐ Ask NASA if they have a spare computer\n",
      "☐ Search the galaxy for dark matter fuel to run\n",
      "\n",
      "---{ Difficulty }---\n",
      "☐ Just press 'W'\n",
      "☐ Easy\n",
      "✅ Easy to learn / Hard to master\n",
      "☐ Significant brain usage\n",
      "☐ Difficult\n",
      "☐ Dark Souls\n",
      "\n",
      "---{ Grind }---\n",
      "☐ Nothing to grind\n",
      "☐ Only if u care about leaderboards/ranks\n",
      "✅ Isn't necessary to progress\n",
      "☐ Average grind level\n",
      "☐ Too much grind\n",
      "☐ You'll need a second life for grinding\n",
      "\n",
      "---{ Story }---\n",
      "☐ No Story\n",
      "☐ Some lore\n",
      "☐ Average\n",
      "☐ Good\n",
      "☐ Lovely\n",
      "✅ It'll replace your life\n",
      "\n",
      "---{ Game Time }---\n",
      "☐ Long enough for a cup of coffee\n",
      "☐ Short\n",
      "☐ Average\n",
      "✅ Long\n",
      "☐ To infinity and beyond\n",
      "☐ Until GTA6 releases\n",
      "\n",
      "---{ Price }---\n",
      "☐ It's free!\n",
      "☐ Worth the price\n",
      "✅ If it's on sale\n",
      "☐ If u have some spare money left\n",
      "☐ Not recommended\n",
      "☐ You could also just burn your money\n",
      "\n",
      "---{ Bugs }---\n",
      "☐ Never heard of\n",
      "✅ Minor bugs\n",
      "☐ Can get annoying\n",
      "☐ ARK: Survival Evolved\n",
      "☐ The game itself is a big terrarium for bugs\n",
      "\n",
      "---{ ? / 10 }---\n",
      "☐ 1\n",
      "☐ 2\n",
      "☐ 3\n",
      "☐ 4\n",
      "☐ 5\n",
      "☐ 6\n",
      "☐ 7\n",
      "☐ 8\n",
      "✅ 9\n",
      "☐ 10\n",
      "Timestamp Created: 1725394822\n",
      "-------------------------------------------------------------------------------\n",
      "Author ID: 76561198835479154\n",
      "Review: Despite being an ambitious game, Assassin's Creed Odyssey often feels bloated. While the vast, open-world is beautiful, it can feel repetitive and is filled with unnecessary quests that drag down the experience. The RPG mechanics, a fresh idea, sometimes take away from the Assassin's Creed experience, making it feel more like an open-world checklist simulator. That said, the story is engaging and the historical setting is captivating, especially for fans of Ancient Greece. If you have the patience for the grind, there's still fun to be had\n",
      "Timestamp Created: 1726669780\n",
      "-------------------------------------------------------------------------------\n"
     ]
    }
   ],
   "source": [
    "# Directory containing the data files\n",
    "data_dir = os.path.abspath('../reviews-assistant/data/reviews')\n",
    "\n",
    "# Initialize an empty list to hold all reviews\n",
    "reviews = []\n",
    "\n",
    "# List objects in the directory\n",
    "objects_in_directory = os.listdir(data_dir)\n",
    "\n",
    "# Iterate over the files in the directory\n",
    "for obj in objects_in_directory:\n",
    "    if obj.endswith('.json'):  # Check if the file is a JSON file\n",
    "        file_path = os.path.join(data_dir, obj)\n",
    "        with open(file_path, 'r', encoding='utf-8') as jsonfile:\n",
    "            # Load the reviews from the JSON file\n",
    "            file_reviews = json.load(jsonfile)\n",
    "            reviews.extend(file_reviews)  # Append reviews to the main list\n",
    "# Print the first i reviews\n",
    "i = 2  # Change this to print more reviews if needed\n",
    "for review in reviews[:i]:\n",
    "    print(f\"Author ID: {review['author.steamid']}\")\n",
    "    print(f\"Review: {review.get('review', 'No text')}\")\n",
    "    print(f\"Timestamp Created: {review['timestamp_created']}\")\n",
    "    print(\"-\" * 79)"
   ]
  },
  {
   "cell_type": "code",
   "execution_count": 8,
   "id": "fb4b1280-5b2b-4054-a452-08102953bf2c",
   "metadata": {},
   "outputs": [
    {
     "data": {
      "text/plain": [
       "1782"
      ]
     },
     "execution_count": 8,
     "metadata": {},
     "output_type": "execute_result"
    }
   ],
   "source": [
    "len(reviews)"
   ]
  },
  {
   "cell_type": "code",
   "execution_count": 9,
   "id": "3b10dc88-a6b0-4dc6-86b8-f2700f590062",
   "metadata": {},
   "outputs": [
    {
     "data": {
      "text/plain": [
       "{'appid': '812140',\n",
       " 'timestamp_query': 1727643597,\n",
       " 'title': \"Assassin's Creed Odyssey\",\n",
       " 'recommendationid': '175243766',\n",
       " 'author.steamid': '76561198835479154',\n",
       " 'author.playtimeforever': None,\n",
       " 'author.playtime_last_two_weeks': 1,\n",
       " 'author.playtime_at_review': 9510,\n",
       " 'author.last_played': 1726863394,\n",
       " 'language': 'english',\n",
       " 'review': \"Despite being an ambitious game, Assassin's Creed Odyssey often feels bloated. While the vast, open-world is beautiful, it can feel repetitive and is filled with unnecessary quests that drag down the experience. The RPG mechanics, a fresh idea, sometimes take away from the Assassin's Creed experience, making it feel more like an open-world checklist simulator. That said, the story is engaging and the historical setting is captivating, especially for fans of Ancient Greece. If you have the patience for the grind, there's still fun to be had\",\n",
       " 'voted_up': True,\n",
       " 'votes_up': 18,\n",
       " 'timestamp_created': 1726669780,\n",
       " 'timestamp_updated': 1726938113}"
      ]
     },
     "execution_count": 9,
     "metadata": {},
     "output_type": "execute_result"
    }
   ],
   "source": [
    "reviews[1]"
   ]
  },
  {
   "cell_type": "code",
   "execution_count": 10,
   "id": "c64a1e88-355c-47b4-85ed-9c85c7833819",
   "metadata": {},
   "outputs": [
    {
     "data": {
      "text/plain": [
       "{'appid': '2239550',\n",
       " 'timestamp_query': 1727643597,\n",
       " 'title': 'Watch Dogs: Legion',\n",
       " 'recommendationid': '174862159',\n",
       " 'author.steamid': '76561199371555316',\n",
       " 'author.playtimeforever': None,\n",
       " 'author.playtime_last_two_weeks': 1,\n",
       " 'author.playtime_at_review': 109,\n",
       " 'author.last_played': 1726993288,\n",
       " 'language': 'english',\n",
       " 'review': 'meh',\n",
       " 'voted_up': True,\n",
       " 'votes_up': 0,\n",
       " 'timestamp_created': 1726233314,\n",
       " 'timestamp_updated': 1726233314}"
      ]
     },
     "execution_count": 10,
     "metadata": {},
     "output_type": "execute_result"
    }
   ],
   "source": [
    "reviews[-1]"
   ]
  },
  {
   "cell_type": "code",
   "execution_count": 11,
   "id": "0aa442cd-9eb8-442d-94fb-d0da13512c23",
   "metadata": {},
   "outputs": [],
   "source": [
    "index = minsearch.Index(\n",
    "    # text_fields=[\"author.steamid\", \"author.playtimeforever\", \"author.playtime_last_two_weeks\", \"author.playtime_at_review\", \"author.last_played\", \"language\", \"review\", \"timestamp_created\", \"timestamp_updated\"],\n",
    "    text_fields=[\"title\", \"language\", \"review\"],\n",
    "    keyword_fields=[\"appid\", \"recommendationid\"]\n",
    ")"
   ]
  },
  {
   "cell_type": "code",
   "execution_count": 12,
   "id": "3440d6c9-aa9e-4827-b97c-5d9bd88a2145",
   "metadata": {},
   "outputs": [
    {
     "data": {
      "text/plain": [
       "<minsearch.Index at 0x7f4727d80d90>"
      ]
     },
     "execution_count": 12,
     "metadata": {},
     "output_type": "execute_result"
    }
   ],
   "source": [
    "index.fit(reviews)"
   ]
  },
  {
   "cell_type": "markdown",
   "id": "2706611d-c083-4d49-a5a3-36de2feec0a0",
   "metadata": {},
   "source": [
    "# RAG flow"
   ]
  },
  {
   "cell_type": "code",
   "execution_count": 13,
   "id": "420d1cee-257c-4e2d-a2ec-4f08b279aa4b",
   "metadata": {},
   "outputs": [],
   "source": [
    "from openai import OpenAI\n",
    "\n",
    "client = OpenAI(\n",
    "  api_key=os.environ['OPENAI_API_KEY'],  # this is also the default, it can be omitted\n",
    ")"
   ]
  },
  {
   "cell_type": "code",
   "execution_count": 14,
   "id": "61c134ff-9098-4f3d-8097-d00f1faa7cd5",
   "metadata": {},
   "outputs": [],
   "source": [
    "def search(query):\n",
    "    boost = {}\n",
    "\n",
    "    results = index.search(\n",
    "        query=query,\n",
    "        filter_dict={},\n",
    "        boost_dict=boost,\n",
    "        num_results=10\n",
    "    )\n",
    "\n",
    "    return results"
   ]
  },
  {
   "cell_type": "code",
   "execution_count": 15,
   "id": "f2275ac7-b1d5-42a5-8a59-32c1777abc5f",
   "metadata": {},
   "outputs": [],
   "source": [
    "prompt_template = \"\"\"\n",
    "You're a conservative father of young children who is not aware of how the modern gaming industry works, who is not up to date with the titles released on a daily basis.\n",
    "A father who needs to keep his child from not suitable games, including DEI games.\n",
    "DEI ideology, which enforces Diversity, equity, and inclusion (DEI) hurts creativity, and uses corporate propaganda to improve sales.\n",
    "Answer the QUESTION based on the CONTEXT from our exercises database.\n",
    "Use only the facts from the CONTEXT when answering the QUESTION.\n",
    "\n",
    "QUESTION: {question}\n",
    "\n",
    "CONTEXT:\n",
    "{context}\n",
    "\"\"\".strip()\n",
    "\n",
    "entry_template = \"\"\"\n",
    "title: {title}\n",
    "language: {language}\n",
    "review: {review}\n",
    "\"\"\".strip()\n",
    "\n",
    "def build_prompt(query, search_results):\n",
    "    context = \"\"\n",
    "    \n",
    "    for doc in search_results:\n",
    "        context = context + entry_template.format(**doc) + \"\\n\\n\"\n",
    "\n",
    "    prompt = prompt_template.format(question=query, context=context).strip()\n",
    "    return prompt"
   ]
  },
  {
   "cell_type": "code",
   "execution_count": 16,
   "id": "f2aa5f71-2e33-4a20-97a5-1516ac4756c7",
   "metadata": {},
   "outputs": [],
   "source": [
    "prompt_template = \"\"\"\n",
    "You're a PC video game enthusiast who loves playing games on release day.\n",
    "You're aware that it's now common for unfinished, unoptimized products to be released.\n",
    "You know that developers often fail to deliver what was promised beforehand about the game.\n",
    "You prefer to play games that simply work well and are delivered with proper quality—games that aren't released too early.\n",
    "Answer the QUESTION based on the CONTEXT from our exercises database.\n",
    "Use only the facts from the CONTEXT when answering the QUESTION.\n",
    "\n",
    "QUESTION: {question}\n",
    "\n",
    "CONTEXT:\n",
    "{context}\n",
    "\"\"\".strip()\n",
    "\n",
    "entry_template = \"\"\"\n",
    "title: {title}\n",
    "language: {language}\n",
    "review: {review}\n",
    "\"\"\".strip()\n",
    "\n",
    "def build_prompt(query, search_results):\n",
    "    context = \"\"\n",
    "    \n",
    "    for doc in search_results:\n",
    "        context = context + entry_template.format(**doc) + \"\\n\\n\"\n",
    "\n",
    "    prompt = prompt_template.format(question=query, context=context).strip()\n",
    "    return prompt"
   ]
  },
  {
   "cell_type": "code",
   "execution_count": 17,
   "id": "d353de10-e60e-4087-ac77-967db264ab5e",
   "metadata": {},
   "outputs": [],
   "source": [
    "def llm(prompt, model='gpt-4o-mini'):\n",
    "    response = client.chat.completions.create(\n",
    "        model=model,\n",
    "        messages=[{\"role\": \"user\", \"content\": prompt}]\n",
    "    )\n",
    "    \n",
    "    return response.choices[0].message.content"
   ]
  },
  {
   "cell_type": "code",
   "execution_count": 18,
   "id": "9c94b3a8-e5a2-46fb-9670-ffc4f8642cb8",
   "metadata": {},
   "outputs": [],
   "source": [
    "def rag(query, model='gpt-4o-mini'):\n",
    "    search_results = search(query)\n",
    "    prompt = build_prompt(query, search_results)\n",
    "    #print(prompt)\n",
    "    answer = llm(prompt, model=model)\n",
    "    return answer"
   ]
  },
  {
   "cell_type": "code",
   "execution_count": 19,
   "id": "42cc3da8-b904-41f7-902d-946a1fa37c45",
   "metadata": {},
   "outputs": [
    {
     "name": "stdout",
     "output_type": "stream",
     "text": [
      "Baldur's Gate 3 is not specifically a game for kids. While it offers a deeply engaging and immersive experience with a rich narrative and gameplay depth that could appeal to various ages, it also contains complexities and themes that may not be suitable or comprehensible for younger audiences. The game incorporates elements from Dungeons & Dragons and features intricate mechanics that can be daunting for newcomers, which suggests it may be better suited for older players familiar with RPGs. Additionally, with player characters facing choices that can impact the story significantly, the mature themes and strategic depth indicate that it is designed more for adult gamers or those with more gaming experience.\n"
     ]
    }
   ],
   "source": [
    "question = \"Is Baldur's Gate 3 a game for kids?\"\n",
    "answer = rag(question)\n",
    "print(answer)"
   ]
  },
  {
   "cell_type": "code",
   "execution_count": 20,
   "id": "7045cb05-5808-44aa-aa57-94e5c4bbaceb",
   "metadata": {},
   "outputs": [
    {
     "name": "stdout",
     "output_type": "stream",
     "text": [
      "Based on the provided reviews of Baldur's Gate 3, it can be inferred that the game features a diversity of characters and complex narratives that appeal to a wide range of players. One review specifically mentions \"the diversity of characters to play,\" which suggests an emphasis on character variety and representation. However, there is no explicit mention of how the game addresses equity and inclusion within its mechanics or development process.\n",
      "\n",
      "While the game's diversity in character creation and storytelling may align with broader DEI concepts, the reviews do not provide enough details to definitively classify Baldur's Gate 3 as fully embodying DEI principles. Therefore, while the game showcases diversity in its design, specific aspects of equity and inclusion in the gameplay experience or development context remain unclear.\n"
     ]
    }
   ],
   "source": [
    "question = \"Is Baldur's Gate 3 a game following DEI concepts, namely diversity, equity and inclusion?\"\n",
    "answer = rag(question)\n",
    "print(answer)"
   ]
  },
  {
   "cell_type": "code",
   "execution_count": 21,
   "id": "670c15f8-321c-4b44-8349-ce9fa4d8e5ec",
   "metadata": {},
   "outputs": [
    {
     "name": "stdout",
     "output_type": "stream",
     "text": [
      "Based on the context provided, **God of War Ragnarök** is generally not considered a game for kids. The game features mature themes, complex narratives, and intense combat, which align more with an adult audience. Additionally, there are references to violence, mythology, and emotional struggles throughout the story. While it may appeal to a wide range of players, it is more suitable for mature gamers than for a younger audience.\n"
     ]
    }
   ],
   "source": [
    "question = \"Is God of War Ragnarök a game for kids?\"\n",
    "answer = rag(question)\n",
    "print(answer)"
   ]
  },
  {
   "cell_type": "code",
   "execution_count": 22,
   "id": "054165ce-28ed-4f38-939c-40a54a59df4d",
   "metadata": {},
   "outputs": [
    {
     "name": "stdout",
     "output_type": "stream",
     "text": [
      "God of War Ragnarök incorporates elements of diversity, equity, and inclusion (DEI) that some players perceive as a \"woke influence.\" The developers collaborated with Sweet Baby Inc., a company known for inclusive storytelling, which has led to noticeable changes in plotlines and character decisions. While some players enjoy these elements, others feel they are forced and detract from the game's overall experience. This mixed reception highlights that while the game attempts to engage with DEI concepts, the effectiveness and implementation of those themes have been subjects of debate among players.\n"
     ]
    }
   ],
   "source": [
    "question = \"Is God of War Ragnarök a game following DEI concepts, namely diversity, equity and inclusion?\"\n",
    "answer = rag(question)\n",
    "print(answer)"
   ]
  },
  {
   "cell_type": "code",
   "execution_count": 23,
   "id": "147362da-7e39-4aa5-a868-88a3e1e0b32f",
   "metadata": {},
   "outputs": [
    {
     "name": "stdout",
     "output_type": "stream",
     "text": [
      "Based on the context provided, Far Cry 6 is not specifically labeled as a game for kids. The reviews mention elements typical of the Far Cry series, such as shooting, looting, and taking over bases, which are generally more suited for a mature audience. Additionally, it discusses themes like immersion in story and character interactions, and mentions both positive and critical aspects of the game's gameplay, indicating a level of complexity that may not appeal to younger players. Thus, it is more appropriate for an older audience rather than children.\n"
     ]
    }
   ],
   "source": [
    "question = \"Is Far Cry 6 a game for kids?\"\n",
    "answer = rag(question)\n",
    "print(answer)"
   ]
  },
  {
   "cell_type": "code",
   "execution_count": 24,
   "id": "e1134990-af84-40be-bcce-a6f690b223be",
   "metadata": {},
   "outputs": [
    {
     "name": "stdout",
     "output_type": "stream",
     "text": [
      "Based on the reviews in the provided context, there is no indication that \"Far Cry 6\" explicitly follows DEI concepts, namely diversity, equity, and inclusion. The reviews focus more on gameplay, story engagement, mechanics, and comparisons to previous titles in the Far Cry series rather than discussing themes of diversity, equity, or inclusion. Therefore, we cannot conclude that \"Far Cry 6\" is a game following DEI concepts based on the available information.\n"
     ]
    }
   ],
   "source": [
    "question = \"Is Far Cry 6 a game following DEI concepts, namely diversity, equity and inclusion?\"\n",
    "answer = rag(question)\n",
    "print(answer)"
   ]
  },
  {
   "cell_type": "code",
   "execution_count": 25,
   "id": "fcbfb3ee-48f3-43d3-b14d-5c295119a421",
   "metadata": {},
   "outputs": [
    {
     "name": "stdout",
     "output_type": "stream",
     "text": [
      "Based on the context provided, it does not suggest that Watch Dogs: Legion is a game specifically for kids. The reviews mention technical issues, comparisons to previous Watch Dogs games, and a remark about the depth of the story, which implies a more mature and complex gaming experience. Additionally, the content and themes typically associated with the Watch Dogs series, such as hacking and urban exploration, are not aimed at a young audience. Therefore, it can be inferred that Watch Dogs: Legion is likely more suitable for an older demographic of gamers rather than kids.\n"
     ]
    }
   ],
   "source": [
    "question = \"Is Watch Dogs: Legion a game for kids?\"\n",
    "answer = rag(question)\n",
    "print(answer)"
   ]
  },
  {
   "cell_type": "code",
   "execution_count": 26,
   "id": "77db5ed0-9dab-423b-a4df-f56184cb5fcd",
   "metadata": {},
   "outputs": [
    {
     "name": "stdout",
     "output_type": "stream",
     "text": [
      "Based on the context provided, Watch Dogs: Legion incorporates elements that align with DEI concepts, particularly through its unique \"Play as Anyone\" mechanic. This feature allows players to recruit and control a diverse range of characters from various backgrounds, professions, and abilities, promoting diversity within gameplay. Each character's unique skills and backstories add to the representation of different personas within the game's narrative.\n",
      "\n",
      "However, the context does not provide specific information on how effectively these DEI concepts are implemented into the game's overarching themes or whether they resonate with players in a meaningful way. Overall, while the game features mechanics that reflect diversity and inclusion, the effectiveness and depth of these elements in relation to equity are not explicitly addressed in the reviews provided.\n"
     ]
    }
   ],
   "source": [
    "question = \"Is Watch Dogs: Legion a game following DEI concepts, namely diversity, equity and inclusion?\"\n",
    "answer = rag(question)\n",
    "print(answer)"
   ]
  },
  {
   "cell_type": "code",
   "execution_count": 27,
   "id": "8de79bd3-dbe9-429b-babb-973f8bb09041",
   "metadata": {},
   "outputs": [
    {
     "name": "stdout",
     "output_type": "stream",
     "text": [
      "Based on the context provided, it is not explicitly stated whether \"Forspoken\" is a game targeted towards kids. However, there are reviews that mention elements like a \"learning curve,\" \"campy and fun\" dialogue, and a \"somewhat grating\" main character, which suggests that the game may appeal to a broader audience rather than being specifically for children. Additionally, the complexity of gameplay and references to mechanics such as \"parkour\" and \"combat\" imply that it may be aimed more towards older gamers. Therefore, while it may be suitable for younger players, \"Forspoken\" does not seem to be primarily a game for kids.\n"
     ]
    }
   ],
   "source": [
    "question = \"Is Forspoken a game for kids?\"\n",
    "answer = rag(question)\n",
    "print(answer)"
   ]
  },
  {
   "cell_type": "code",
   "execution_count": 28,
   "id": "4fb8fb85-6ee7-4723-9e6a-00cf747e01e0",
   "metadata": {},
   "outputs": [
    {
     "name": "stdout",
     "output_type": "stream",
     "text": [
      "The provided context does not explicitly discuss whether Forspoken follows DEI (diversity, equity, and inclusion) concepts. However, there is a mention of a \"mostly female cast,\" which suggests an effort towards diversity. There is no further elaboration on equity and inclusion specifically, nor is there a comprehensive discussion of how these principles are integrated into the game's narrative or mechanics. Therefore, while some elements of diversity are noted, there isn't enough detailed information to conclusively state that Forspoken fully embraces DEI concepts in a robust manner.\n"
     ]
    }
   ],
   "source": [
    "question = \"Is Forspoken a game following DEI concepts, namely diversity, equity and inclusion?\"\n",
    "answer = rag(question)\n",
    "print(answer)"
   ]
  },
  {
   "cell_type": "code",
   "execution_count": null,
   "id": "ec484c5f-4c69-4379-b421-d654c05ee582",
   "metadata": {},
   "outputs": [],
   "source": []
  },
  {
   "cell_type": "code",
   "execution_count": null,
   "id": "aacf461e-4fd9-42c5-a195-c144eca79640",
   "metadata": {},
   "outputs": [],
   "source": []
  },
  {
   "cell_type": "code",
   "execution_count": 29,
   "id": "9f1cd7b0-1469-4e3f-bcfc-9397ae0f8a6b",
   "metadata": {},
   "outputs": [
    {
     "name": "stdout",
     "output_type": "stream",
     "text": [
      "Based on the reviews provided, there are no specific mentions of significant technical issues when playing Baldur's Gate 3. The overwhelming feedback highlights the game's quality, polished experience, and engaging content, suggesting that it performs well and meets players' expectations. However, one reviewer did note a concern regarding the immersion due to every character having a British accent, though this is a subjective critique rather than a technical issue. Overall, the reviews reflect a strong positive reception, indicating that the game is well-optimized and enjoyable to play.\n"
     ]
    }
   ],
   "source": [
    "question = \"Are there any technical issues when playing Baldur's Gate 3?\"\n",
    "answer = rag(question)\n",
    "print(answer)"
   ]
  },
  {
   "cell_type": "code",
   "execution_count": 30,
   "id": "99f2f3ab-6797-4b91-a37c-06db3cf3d927",
   "metadata": {},
   "outputs": [
    {
     "name": "stdout",
     "output_type": "stream",
     "text": [
      "Yes, the release version of Baldur's Gate 3 is ready to be played. Reviews indicate it offers an amazing and polished RPG experience with a phenomenal story, engaging characters, and a well-designed combat system. Players have expressed a high level of satisfaction with the game's depth, replayability, and overall quality, noting that it feels complete and satisfying. Many also appreciate the immersive world and the seamless integration of D&D mechanics. Overall, it appears to have been well-received and is recommended for its quality gameplay experience.\n"
     ]
    }
   ],
   "source": [
    "question = \"Is the release version of Baldur's Gate 3 ready to be played?\"\n",
    "answer = rag(question)\n",
    "print(answer)"
   ]
  },
  {
   "cell_type": "code",
   "execution_count": 31,
   "id": "aa510bdf-527d-4019-84ed-90de93886ee6",
   "metadata": {},
   "outputs": [
    {
     "name": "stdout",
     "output_type": "stream",
     "text": [
      "Yes, there are technical issues when playing God of War Ragnarok. One reviewer mentions that the game crashes approximately every two hours, which, while not frequent enough to make it unplayable, is still disappointing for a full-priced AAA game. Additionally, another review discusses issues related to frame pacing and stuttering, even though they have a powerful PC setup. The game runs well overall but can feel \"off\" despite a good average framerate. Furthermore, users with 4GB VRAM graphics cards encounter an error preventing the game from launching, though there is a workaround available through mods. These issues contribute to the perception that the game may not have been fully optimized for PC at launch.\n"
     ]
    }
   ],
   "source": [
    "question = \"Are there any technical issues when playing God of War Ragnarok?\"\n",
    "answer = rag(question)\n",
    "print(answer)"
   ]
  },
  {
   "cell_type": "code",
   "execution_count": 32,
   "id": "3bae8b5c-f197-459f-b772-8d5dd5978b51",
   "metadata": {},
   "outputs": [
    {
     "name": "stdout",
     "output_type": "stream",
     "text": [
      "The release version of God of War Ragnarok on PC has several notable issues that suggest it may not be fully ready to be played for everyone. Users with 4GB VRAM graphics cards are encountering a significant error that prevents them from launching the game, as it indicates insufficient VRAM despite the game running well on weaker integrated graphics. Additionally, some players are experiencing crashes approximately every two hours, which is concerning considering the specs are above the minimum requirements. While there are some players who have reported a smooth experience, the requirement for a PSN account for a single-player game and the crashes for others further imply that the game may not be polished and optimized for all users. Thus, while some can play without issues, the overall readiness of the release version is questionable due to these bugs and limitations.\n"
     ]
    }
   ],
   "source": [
    "question = \"Is the release version of God of War Ragnarok ready to be played?\"\n",
    "answer = rag(question)\n",
    "print(answer)"
   ]
  },
  {
   "cell_type": "code",
   "execution_count": 33,
   "id": "7ba75540-8022-43b3-a263-da47f765d440",
   "metadata": {},
   "outputs": [
    {
     "name": "stdout",
     "output_type": "stream",
     "text": [
      "Yes, Far Cry 6 does have technical issues. The game is reported to suffer from frequent bugs and glitches, such as disappearing enemies and missions that don't trigger properly. Additionally, players have noted long load times and inconsistent performance, including frame drops and stuttering during intense sequences. These technical problems can significantly hamper the overall gaming experience.\n"
     ]
    }
   ],
   "source": [
    "question = \"Are there any technical issues when playing Far Cry 6?\"\n",
    "answer = rag(question)\n",
    "print(answer)"
   ]
  },
  {
   "cell_type": "code",
   "execution_count": 34,
   "id": "0a62df02-10c7-48f4-b681-667b5dcbcc5b",
   "metadata": {},
   "outputs": [
    {
     "name": "stdout",
     "output_type": "stream",
     "text": [
      "Based on the reviews provided, the release version of Far Cry 6 does not seem ready to be played due to numerous issues. One review explicitly states that the game is \"so glitched one would think it's trying to rival Cyberpunk\" and should not have been released in its current state. Another review warns against downloading the game on an HDD due to increased bugs and crashes. Overall, while some players find enjoyment in the gameplay and elements of the Far Cry formula, the consensus indicates significant problems with glitches and stability, implying that it may not provide a satisfactory experience upon release.\n"
     ]
    }
   ],
   "source": [
    "question = \"Is the release version of Far Cry 6 ready to be played?\"\n",
    "answer = rag(question)\n",
    "print(answer)"
   ]
  }
 ],
 "metadata": {
  "kernelspec": {
   "display_name": "Python 3 (ipykernel)",
   "language": "python",
   "name": "python3"
  },
  "language_info": {
   "codemirror_mode": {
    "name": "ipython",
    "version": 3
   },
   "file_extension": ".py",
   "mimetype": "text/x-python",
   "name": "python",
   "nbconvert_exporter": "python",
   "pygments_lexer": "ipython3",
   "version": "3.11.6"
  }
 },
 "nbformat": 4,
 "nbformat_minor": 5
}
