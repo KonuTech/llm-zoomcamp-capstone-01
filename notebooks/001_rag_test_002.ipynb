{
 "cells": [
  {
   "cell_type": "code",
   "execution_count": 1,
   "id": "531840c5-b86a-4df9-be75-80ed49eaea93",
   "metadata": {},
   "outputs": [
    {
     "data": {
      "text/plain": [
       "4"
      ]
     },
     "execution_count": 1,
     "metadata": {},
     "output_type": "execute_result"
    }
   ],
   "source": [
    "2+2"
   ]
  },
  {
   "cell_type": "code",
   "execution_count": 2,
   "id": "90e9002f-7c01-4ade-91b2-027aa38676c7",
   "metadata": {},
   "outputs": [],
   "source": [
    "# !pip list"
   ]
  },
  {
   "cell_type": "code",
   "execution_count": 3,
   "id": "d77e5346-19bf-4816-97f1-0d31d8c483b9",
   "metadata": {},
   "outputs": [],
   "source": [
    "# https://partner.steamgames.com/doc/store/getreviews"
   ]
  },
  {
   "cell_type": "code",
   "execution_count": 4,
   "id": "fff3d013-3e13-497f-b0f2-b4d3de8a96fc",
   "metadata": {},
   "outputs": [
    {
     "data": {
      "text/plain": [
       "True"
      ]
     },
     "execution_count": 4,
     "metadata": {},
     "output_type": "execute_result"
    }
   ],
   "source": [
    "import os\n",
    "from dotenv import load_dotenv\n",
    "# Load environment variables from .env\n",
    "load_dotenv(\"/home/jovyan/.envrc\")"
   ]
  },
  {
   "cell_type": "code",
   "execution_count": 5,
   "id": "ffefbc7d-24d0-48be-a2e2-5f001e8d91c9",
   "metadata": {},
   "outputs": [],
   "source": [
    "# Verify that the environment variable is loaded (optional for debugging)\n",
    "# print(f\"OPENAI_API_KEY: {os.getenv('OPENAI_API_KEY')}\")"
   ]
  },
  {
   "cell_type": "code",
   "execution_count": 6,
   "id": "9bc7b342-a62f-45db-83c0-41056e34a8a9",
   "metadata": {},
   "outputs": [
    {
     "name": "stdout",
     "output_type": "stream",
     "text": [
      "Reviews for App ID 2322010 (God of War: Ragnarok) saved to /home/jovyan/reviews-assistant/data/reviews/reviews_god_of_war_ragnarok.json\n",
      "Reviews for App ID 1086940 (Baldur's Gate 3) saved to /home/jovyan/reviews-assistant/data/reviews/reviews_baldurs_gate_3.json\n",
      "Reviews for App ID 1680880 (Forspoken) saved to /home/jovyan/reviews-assistant/data/reviews/reviews_forspoken.json\n",
      "Reviews for App ID 1496790 (Gotham Knights) saved to /home/jovyan/reviews-assistant/data/reviews/reviews_gotham_knights.json\n",
      "Reviews for App ID 315210 (Suicide Squad: Kill the Justice League) saved to /home/jovyan/reviews-assistant/data/reviews/reviews_suicide_squad_kill_the_justice_league.json\n",
      "Reviews for App ID 2443720 (Concord) saved to /home/jovyan/reviews-assistant/data/reviews/reviews_concord.json\n",
      "Reviews for App ID 2208920 (Assassin's Creed Valhalla) saved to /home/jovyan/reviews-assistant/data/reviews/reviews_assassins_creed_valhalla.json\n",
      "Reviews for App ID 1817070 (Marvel’s Spider-Man Remastered) saved to /home/jovyan/reviews-assistant/data/reviews/reviews_marvel’s_spider-man_remastered.json\n",
      "Reviews for App ID 1832040 (Flintlock: The Siege of Dawn) saved to /home/jovyan/reviews-assistant/data/reviews/reviews_flintlock_the_siege_of_dawn.json\n",
      "Reviews for App ID 2698940 (The Crew Motorfest) saved to /home/jovyan/reviews-assistant/data/reviews/reviews_the_crew_motorfest.json\n",
      "No reviews to save for App ID 2702430 (Usual June).\n",
      "Reviews for App ID 1545560 (Shadow Gambit: The Cursed Crew) saved to /home/jovyan/reviews-assistant/data/reviews/reviews_shadow_gambit_the_cursed_crew.json\n",
      "Reviews for App ID 794540 (Neo Cab) saved to /home/jovyan/reviews-assistant/data/reviews/reviews_neo_cab.json\n",
      "Reviews for App ID 721180 (Dustborn) saved to /home/jovyan/reviews-assistant/data/reviews/reviews_dustborn.json\n",
      "No reviews to save for App ID 1477940 (Unknown 9: Awakening).\n",
      "Reviews for App ID 2239550 (Watch Dogs: Legion) saved to /home/jovyan/reviews-assistant/data/reviews/reviews_watch_dogs_legion.json\n",
      "Reviews for App ID 447040 (Watch_Dogs 2) saved to /home/jovyan/reviews-assistant/data/reviews/reviews_watch_dogs_2.json\n",
      "Reviews for App ID 243470 (Watch_Dogs) saved to /home/jovyan/reviews-assistant/data/reviews/reviews_watch_dogs.json\n",
      "Reviews for App ID 582160 (Assassin's Creed Origin) saved to /home/jovyan/reviews-assistant/data/reviews/reviews_assassins_creed_origin.json\n",
      "Reviews for App ID 812140 (Assassin's Creed Odyssey) saved to /home/jovyan/reviews-assistant/data/reviews/reviews_assassins_creed_odyssey.json\n",
      "Reviews for App ID 552520 (Far Cry 5) saved to /home/jovyan/reviews-assistant/data/reviews/reviews_far_cry_5.json\n",
      "Reviews for App ID 2369390 (Far Cry 6) saved to /home/jovyan/reviews-assistant/data/reviews/reviews_far_cry_6.json\n",
      "Reviews for App ID 304390 (FOR HONOR) saved to /home/jovyan/reviews-assistant/data/reviews/reviews_for_honor.json\n",
      "No reviews to save for App ID 2842040 (Star Wars Outlaws).\n"
     ]
    }
   ],
   "source": [
    "import requests\n",
    "import json\n",
    "import csv\n",
    "import sys\n",
    "import os\n",
    "import time  # Import time for the epoch timestamp\n",
    "import re  # Import re for regex\n",
    "\n",
    "\n",
    "# Construct the path to the scripts directory\n",
    "script_path = os.path.abspath('../reviews-assistant/scripts')\n",
    "\n",
    "# Add the path to sys.path\n",
    "if script_path not in sys.path:\n",
    "    sys.path.append(script_path)\n",
    "\n",
    "import minsearch\n",
    "\n",
    "\n",
    "class SteamReviewFetcher:\n",
    "    def __init__(self, appids_with_titles, filter=\"all\", language=\"english\", day_range=30, review_type=\"all\", purchase_type=\"all\"):\n",
    "        \"\"\"\n",
    "        Initializes the SteamReviewFetcher with the required parameters.\n",
    "\n",
    "        :param appids_with_titles: List of tuples containing Steam application IDs and their corresponding titles.\n",
    "        :param filter: Type of review filter.\n",
    "        :param language: Language of the reviews.\n",
    "        :param day_range: Number of days to consider for reviews.\n",
    "        :param review_type: Type of review (all or specific).\n",
    "        :param purchase_type: Type of purchase.\n",
    "        \"\"\"\n",
    "        self.base_url = \"https://store.steampowered.com/appreviews/\"\n",
    "        self.appids_with_titles = appids_with_titles if isinstance(appids_with_titles, list) else [appids_with_titles]\n",
    "        self.filter = filter\n",
    "        self.language = language\n",
    "        self.day_range = day_range\n",
    "        self.review_type = review_type\n",
    "        self.purchase_type = purchase_type\n",
    "        self.data_dir = os.path.abspath('../reviews-assistant/data/reviews')\n",
    "\n",
    "        # Ensure the data directory exists\n",
    "        os.makedirs(self.data_dir, exist_ok=True)\n",
    "\n",
    "    def _construct_url(self, appid):\n",
    "        return f\"{self.base_url}{appid}?json=1\"\n",
    "\n",
    "    def _fetch_reviews(self, appid, num_reviews):\n",
    "        url = self._construct_url(appid)\n",
    "        params = {\n",
    "            \"filter\": self.filter,\n",
    "            \"language\": self.language,\n",
    "            \"day_range\": self.day_range,\n",
    "            \"review_type\": self.review_type,\n",
    "            \"purchase_type\": self.purchase_type,\n",
    "            \"num_per_page\": num_reviews\n",
    "        }\n",
    "        response = requests.get(url, params=params)\n",
    "        response.raise_for_status()\n",
    "        return response.json()\n",
    "\n",
    "    def get_reviews(self, num_reviews=20, print_reviews=True):\n",
    "        all_reviews = {}\n",
    "        for appid, title in self.appids_with_titles:\n",
    "            review_data = self._fetch_reviews(appid, num_reviews)\n",
    "            reviews = review_data.get(\"reviews\", [])\n",
    "            all_reviews[appid] = (title, reviews)  # Store title along with reviews\n",
    "            \n",
    "            if print_reviews:\n",
    "                self.print_first_last_reviews(appid, title, reviews)\n",
    "\n",
    "        return all_reviews\n",
    "\n",
    "    def print_first_last_reviews(self, appid, title, reviews):\n",
    "        total_reviews = len(reviews)\n",
    "        if total_reviews == 0:\n",
    "            print(f\"No reviews found for App ID {appid} ({title}).\")\n",
    "            return\n",
    "\n",
    "        print(f\"\\nFirst 5 Reviews for App ID {appid} ({title}):\")\n",
    "        for review in reviews[:5]:\n",
    "            self._print_review(review)\n",
    "\n",
    "        print(f\"\\nLast 5 Reviews for App ID {appid} ({title}):\")\n",
    "        for review in reviews[-5:]:\n",
    "            self._print_review(review)\n",
    "\n",
    "    def _print_review(self, review):\n",
    "        print(f\"Author: {review['author']['steamid']}\")\n",
    "        print(f\"Review: {review.get('review', 'No text')}\")\n",
    "        print(f\"Rating: {'Positive' if review['voted_up'] else 'Negative'}\")\n",
    "        print(f\"Timestamp: {review['timestamp_created']}\")\n",
    "        print(\"-\" * 79)\n",
    "\n",
    "    def _extract_columns_to_save(self, reviews, appid, title):\n",
    "        extracted_reviews = []\n",
    "        current_time = int(time.time())  # Get current epoch time\n",
    "        for review in reviews:\n",
    "            review_dict = {\n",
    "                \"appid\": appid,  # Move appid to the first field\n",
    "                \"timestamp_query\": current_time,  # Move timestamp_query to the second field\n",
    "                \"title\": title,\n",
    "            }\n",
    "            for column in [\"recommendationid\", \"author.steamid\", \"author.playtimeforever\",\n",
    "                           \"author.playtime_last_two_weeks\", \"author.playtime_at_review\",\n",
    "                           \"author.last_played\", \"language\", \"review\", \"voted_up\", \"votes_up\", \"timestamp_created\", \"timestamp_updated\"]:\n",
    "                if column.split('.')[0] == 'author':\n",
    "                    nested_column = column.split('.')[1]\n",
    "                    review_dict[column] = review['author'].get(nested_column)\n",
    "                else:\n",
    "                    review_dict[column] = review.get(column)\n",
    "            extracted_reviews.append(review_dict)\n",
    "        return extracted_reviews\n",
    "\n",
    "    def save_reviews(self, all_reviews, filename_prefix, format):\n",
    "        for appid, (title, reviews) in all_reviews.items():\n",
    "            if not reviews:\n",
    "                print(f\"No reviews to save for App ID {appid} ({title}).\")\n",
    "                continue\n",
    "\n",
    "            safe_title = self._sanitize_title(title)  # Sanitize title for filename\n",
    "            lower_safe_title = safe_title.lower()  # Convert to lowercase for the filename\n",
    "            if format == \"csv\":\n",
    "                self._save_reviews_as_csv(appid, lower_safe_title, reviews, filename_prefix, title)\n",
    "            elif format == \"json\":\n",
    "                self._save_reviews_as_json(appid, lower_safe_title, reviews, filename_prefix, title)\n",
    "            else:\n",
    "                print(\"Invalid format. Please specify 'csv' or 'json'.\")\n",
    "\n",
    "    def _sanitize_title(self, title):\n",
    "        \"\"\"Remove special characters from the title for safe filename.\"\"\"\n",
    "        return re.sub(r'[<>:\"/\\\\|?*]', '', title).replace(\"'\", \"\").replace(\" \", \"_\")\n",
    "\n",
    "    def _save_reviews_as_csv(self, appid, lower_safe_title, reviews, filename_prefix, title):\n",
    "        keys = ['appid', 'timestamp_query', 'title', 'steamid', 'review', 'voted_up', \"votes_up\", 'timestamp_created']  # Update the keys\n",
    "        filename = os.path.join(self.data_dir, f\"{filename_prefix}_{lower_safe_title}_{appid}_reviews.csv\")\n",
    "        with open(filename, 'w', newline='', encoding='utf-8') as csvfile:\n",
    "            writer = csv.writer(csvfile)\n",
    "            writer.writerow(keys)  # Write the header\n",
    "            for review in reviews:\n",
    "                row = [\n",
    "                    appid,  # App ID as the first field\n",
    "                    int(time.time()),  # Current epoch timestamp as the second field\n",
    "                    title,  # Keep the original title\n",
    "                    review['author']['steamid'],\n",
    "                    review.get('review', 'No text'),\n",
    "                    'Positive' if review['voted_up'] else 'Negative',\n",
    "                    review['timestamp_created'],\n",
    "                ]\n",
    "                writer.writerow(row)\n",
    "        print(f\"Reviews for App ID {appid} ({title}) saved to {filename}\")\n",
    "\n",
    "    def _save_reviews_as_json(self, appid, lower_safe_title, reviews, filename_prefix, title):\n",
    "        filename = os.path.join(self.data_dir, f\"reviews_{lower_safe_title}.json\")\n",
    "        extracted_reviews = self._extract_columns_to_save(reviews, appid, title)  # Use original title here\n",
    "        with open(filename, 'w', encoding='utf-8') as jsonfile:\n",
    "            json.dump(extracted_reviews, jsonfile, indent=4)\n",
    "        print(f\"Reviews for App ID {appid} ({title}) saved to {filename}\")\n",
    "\n",
    "\n",
    "# Example usage\n",
    "if __name__ == \"__main__\":\n",
    "    appids_with_titles = [\n",
    "        (\"2322010\", \"God of War: Ragnarok\"),\n",
    "        (\"1086940\", \"Baldur's Gate 3\"),\n",
    "        (\"1680880\", \"Forspoken\"),\n",
    "        (\"1496790\", \"Gotham Knights\"),\n",
    "        (\"315210\", \"Suicide Squad: Kill the Justice League\"),\n",
    "        (\"2443720\", \"Concord\"),\n",
    "        (\"2208920\", \"Assassin's Creed Valhalla\"),\n",
    "        (\"1817070\", \"Marvel’s Spider-Man Remastered\"),\n",
    "        (\"1832040\", \"Flintlock: The Siege of Dawn\"),\n",
    "        (\"2698940\", \"The Crew Motorfest\"),\n",
    "        (\"2702430\", \"Usual June\"),\n",
    "        (\"1545560\", \"Shadow Gambit: The Cursed Crew\"),\n",
    "        (\"794540\", \"Neo Cab\"),\n",
    "        (\"721180\", \"Dustborn\"),\n",
    "        (\"1477940\", \"Unknown 9: Awakening\"),\n",
    "        (\"2239550\", \"Watch Dogs: Legion\"),\n",
    "        (\"447040\", \"Watch_Dogs 2\"),\n",
    "        (\"243470\", \"Watch_Dogs\"),\n",
    "        (\"582160\", \"Assassin's Creed Origin\"),\n",
    "        (\"812140\", \"Assassin's Creed Odyssey\"),\n",
    "        (\"552520\", \"Far Cry 5\"),\n",
    "        (\"2369390\", \"Far Cry 6\"),\n",
    "        (\"304390\", \"FOR HONOR\"),\n",
    "        (\"2842040\", \"Star Wars Outlaws\"),\n",
    "        \n",
    "    ]  # List of tuples containing app IDs and their titles\n",
    "    review_fetcher = SteamReviewFetcher(appids_with_titles)\n",
    "\n",
    "    num_reviews = 10000  # Specify the number of reviews to fetch\n",
    "    print_reviews_flag = False  # Set to False to turn off printing reviews\n",
    "\n",
    "    all_reviews = review_fetcher.get_reviews(num_reviews, print_reviews=print_reviews_flag)\n",
    "\n",
    "    # Save reviews to file\n",
    "    review_fetcher.save_reviews(all_reviews, \"reviews\", format=\"json\")\n"
   ]
  },
  {
   "cell_type": "markdown",
   "id": "a14d8b5c-e4d1-43e9-851d-ef82b93da69c",
   "metadata": {},
   "source": [
    "# Ingestion"
   ]
  },
  {
   "cell_type": "code",
   "execution_count": 7,
   "id": "75070581-df59-4291-9173-a96f14750c2f",
   "metadata": {
    "scrolled": true
   },
   "outputs": [
    {
     "name": "stdout",
     "output_type": "stream",
     "text": [
      "Author ID: 76561198420943538\n",
      "Review: ---{ Graphics }---\n",
      "✅ You forget what reality is\n",
      "☐ Beautiful\n",
      "☐ Good\n",
      "☐ Decent\n",
      "☐ Bad\n",
      "☐ You will get eye cancer\n",
      "☐ Get a pepper spray for your eye instead\n",
      "\n",
      "---{ Gameplay }---\n",
      "☐ Won’t ever touch any other game anymore\n",
      "✅ Very good\n",
      "☐ Good\n",
      "☐ It's just gameplay\n",
      "☐ Mehh\n",
      "☐ Watch paint dry instead\n",
      "☐ Tic Tac toe is better\n",
      "\n",
      "---{ Audio }---\n",
      "☐ Eargasm\n",
      "✅ Very good\n",
      "☐ Good\n",
      "☐ Not too bad\n",
      "☐ Bad\n",
      "☐ I'm now deaf\n",
      "\n",
      "---{ Audience }---\n",
      "☐ Kids\n",
      "✅Teens\n",
      "✅ Adults\n",
      "☐ Grandma\n",
      "\n",
      "---{ PC Requirements }---\n",
      "☐ Check if you can run paint\n",
      "☐ Potato\n",
      "☐ Decent\n",
      "✅ Fast\n",
      "☐ Rich boi\n",
      "☐ Ask NASA if they have a spare computer\n",
      "☐ Search the galaxy for dark matter fuel to run\n",
      "\n",
      "---{ Difficulty }---\n",
      "☐ Just press 'W'\n",
      "☐ Easy\n",
      "✅ Easy to learn / Hard to master\n",
      "☐ Significant brain usage\n",
      "☐ Difficult\n",
      "☐ Dark Souls\n",
      "\n",
      "---{ Grind }---\n",
      "☐ Nothing to grind\n",
      "☐ Only if u care about leaderboards/ranks\n",
      "✅ Isn't necessary to progress\n",
      "☐ Average grind level\n",
      "☐ Too much grind\n",
      "☐ You'll need a second life for grinding\n",
      "\n",
      "---{ Story }---\n",
      "☐ No Story\n",
      "☐ Some lore\n",
      "☐ Average\n",
      "☐ Good\n",
      "☐ Lovely\n",
      "✅ It'll replace your life\n",
      "\n",
      "---{ Game Time }---\n",
      "☐ Long enough for a cup of coffee\n",
      "☐ Short\n",
      "☐ Average\n",
      "✅ Long\n",
      "☐ To infinity and beyond\n",
      "☐ Until GTA6 releases\n",
      "\n",
      "---{ Price }---\n",
      "☐ It's free!\n",
      "☐ Worth the price\n",
      "✅ If it's on sale\n",
      "☐ If u have some spare money left\n",
      "☐ Not recommended\n",
      "☐ You could also just burn your money\n",
      "\n",
      "---{ Bugs }---\n",
      "☐ Never heard of\n",
      "✅ Minor bugs\n",
      "☐ Can get annoying\n",
      "☐ ARK: Survival Evolved\n",
      "☐ The game itself is a big terrarium for bugs\n",
      "\n",
      "---{ ? / 10 }---\n",
      "☐ 1\n",
      "☐ 2\n",
      "☐ 3\n",
      "☐ 4\n",
      "☐ 5\n",
      "☐ 6\n",
      "☐ 7\n",
      "☐ 8\n",
      "✅ 9\n",
      "☐ 10\n",
      "Timestamp Created: 1725394822\n",
      "-------------------------------------------------------------------------------\n",
      "Author ID: 76561198085901084\n",
      "Review: I totally get why everyone hates on this game but I love it. When I used to have an Xbox I did played through this game twice and now that I'm replaying on PC I have fallen in love with it once more. This is better than Valhalla in my opinion and I like the world more than Origins, though I prefer the feel/gameplay of Origins. Still love this game and am planning on completing a playthrough on PC.\n",
      "Timestamp Created: 1725252188\n",
      "-------------------------------------------------------------------------------\n"
     ]
    }
   ],
   "source": [
    "# Directory containing the data files\n",
    "data_dir = os.path.abspath('../reviews-assistant/data/reviews')\n",
    "\n",
    "# Initialize an empty list to hold all reviews\n",
    "reviews = []\n",
    "\n",
    "# List objects in the directory\n",
    "objects_in_directory = os.listdir(data_dir)\n",
    "\n",
    "# Iterate over the files in the directory\n",
    "for obj in objects_in_directory:\n",
    "    if obj.endswith('.json'):  # Check if the file is a JSON file\n",
    "        file_path = os.path.join(data_dir, obj)\n",
    "        with open(file_path, 'r', encoding='utf-8') as jsonfile:\n",
    "            # Load the reviews from the JSON file\n",
    "            file_reviews = json.load(jsonfile)\n",
    "            reviews.extend(file_reviews)  # Append reviews to the main list\n",
    "# Print the first i reviews\n",
    "i = 2  # Change this to print more reviews if needed\n",
    "for review in reviews[:i]:\n",
    "    print(f\"Author ID: {review['author.steamid']}\")\n",
    "    print(f\"Review: {review.get('review', 'No text')}\")\n",
    "    print(f\"Timestamp Created: {review['timestamp_created']}\")\n",
    "    print(\"-\" * 79)"
   ]
  },
  {
   "cell_type": "code",
   "execution_count": 8,
   "id": "fb4b1280-5b2b-4054-a452-08102953bf2c",
   "metadata": {},
   "outputs": [
    {
     "data": {
      "text/plain": [
       "1787"
      ]
     },
     "execution_count": 8,
     "metadata": {},
     "output_type": "execute_result"
    }
   ],
   "source": [
    "len(reviews)"
   ]
  },
  {
   "cell_type": "code",
   "execution_count": 9,
   "id": "3b10dc88-a6b0-4dc6-86b8-f2700f590062",
   "metadata": {},
   "outputs": [
    {
     "data": {
      "text/plain": [
       "{'appid': '812140',\n",
       " 'timestamp_query': 1728201153,\n",
       " 'title': \"Assassin's Creed Odyssey\",\n",
       " 'recommendationid': '174039609',\n",
       " 'author.steamid': '76561198085901084',\n",
       " 'author.playtimeforever': None,\n",
       " 'author.playtime_last_two_weeks': 101,\n",
       " 'author.playtime_at_review': 245,\n",
       " 'author.last_played': 1728159544,\n",
       " 'language': 'english',\n",
       " 'review': \"I totally get why everyone hates on this game but I love it. When I used to have an Xbox I did played through this game twice and now that I'm replaying on PC I have fallen in love with it once more. This is better than Valhalla in my opinion and I like the world more than Origins, though I prefer the feel/gameplay of Origins. Still love this game and am planning on completing a playthrough on PC.\",\n",
       " 'voted_up': True,\n",
       " 'votes_up': 12,\n",
       " 'timestamp_created': 1725252188,\n",
       " 'timestamp_updated': 1725252188}"
      ]
     },
     "execution_count": 9,
     "metadata": {},
     "output_type": "execute_result"
    }
   ],
   "source": [
    "reviews[1]"
   ]
  },
  {
   "cell_type": "code",
   "execution_count": 10,
   "id": "c64a1e88-355c-47b4-85ed-9c85c7833819",
   "metadata": {},
   "outputs": [
    {
     "data": {
      "text/plain": [
       "{'appid': '2239550',\n",
       " 'timestamp_query': 1728201153,\n",
       " 'title': 'Watch Dogs: Legion',\n",
       " 'recommendationid': '174862159',\n",
       " 'author.steamid': '76561199371555316',\n",
       " 'author.playtimeforever': None,\n",
       " 'author.playtime_last_two_weeks': 1,\n",
       " 'author.playtime_at_review': 109,\n",
       " 'author.last_played': 1726993288,\n",
       " 'language': 'english',\n",
       " 'review': 'meh',\n",
       " 'voted_up': True,\n",
       " 'votes_up': 0,\n",
       " 'timestamp_created': 1726233314,\n",
       " 'timestamp_updated': 1726233314}"
      ]
     },
     "execution_count": 10,
     "metadata": {},
     "output_type": "execute_result"
    }
   ],
   "source": [
    "reviews[-1]"
   ]
  },
  {
   "cell_type": "code",
   "execution_count": 11,
   "id": "0aa442cd-9eb8-442d-94fb-d0da13512c23",
   "metadata": {},
   "outputs": [],
   "source": [
    "index = minsearch.Index(\n",
    "    # text_fields=[\"author.steamid\", \"author.playtimeforever\", \"author.playtime_last_two_weeks\", \"author.playtime_at_review\", \"author.last_played\", \"language\", \"review\", \"timestamp_created\", \"timestamp_updated\"],\n",
    "    text_fields=[\"title\", \"language\", \"review\"],\n",
    "    keyword_fields=[\"appid\", \"recommendationid\"]\n",
    ")"
   ]
  },
  {
   "cell_type": "code",
   "execution_count": 12,
   "id": "3440d6c9-aa9e-4827-b97c-5d9bd88a2145",
   "metadata": {},
   "outputs": [
    {
     "data": {
      "text/plain": [
       "<minsearch.Index at 0x7f4f60ebe8d0>"
      ]
     },
     "execution_count": 12,
     "metadata": {},
     "output_type": "execute_result"
    }
   ],
   "source": [
    "index.fit(reviews)"
   ]
  },
  {
   "cell_type": "markdown",
   "id": "2706611d-c083-4d49-a5a3-36de2feec0a0",
   "metadata": {},
   "source": [
    "# RAG flow"
   ]
  },
  {
   "cell_type": "code",
   "execution_count": 13,
   "id": "420d1cee-257c-4e2d-a2ec-4f08b279aa4b",
   "metadata": {},
   "outputs": [],
   "source": [
    "from openai import OpenAI\n",
    "\n",
    "client = OpenAI(\n",
    "  api_key=os.environ['OPENAI_API_KEY'],  # this is also the default, it can be omitted\n",
    ")"
   ]
  },
  {
   "cell_type": "code",
   "execution_count": 14,
   "id": "61c134ff-9098-4f3d-8097-d00f1faa7cd5",
   "metadata": {},
   "outputs": [],
   "source": [
    "def search(query):\n",
    "    boost = {}\n",
    "\n",
    "    results = index.search(\n",
    "        query=query,\n",
    "        filter_dict={},\n",
    "        boost_dict=boost,\n",
    "        num_results=10\n",
    "    )\n",
    "\n",
    "    return results"
   ]
  },
  {
   "cell_type": "code",
   "execution_count": 15,
   "id": "f2275ac7-b1d5-42a5-8a59-32c1777abc5f",
   "metadata": {},
   "outputs": [],
   "source": [
    "prompt_template = \"\"\"\n",
    "You're a conservative father of young children who is not aware of how the modern gaming industry works, who is not up to date with the titles released on a daily basis.\n",
    "A father who needs to keep his child from not suitable games, including DEI games.\n",
    "DEI ideology, which enforces Diversity, equity, and inclusion (DEI) hurts creativity, and uses corporate propaganda to improve sales.\n",
    "Answer the QUESTION based on the CONTEXT from our exercises database.\n",
    "Use only the facts from the CONTEXT when answering the QUESTION.\n",
    "\n",
    "QUESTION: {question}\n",
    "\n",
    "CONTEXT:\n",
    "{context}\n",
    "\"\"\".strip()\n",
    "\n",
    "entry_template = \"\"\"\n",
    "title: {title}\n",
    "language: {language}\n",
    "review: {review}\n",
    "\"\"\".strip()\n",
    "\n",
    "def build_prompt(query, search_results):\n",
    "    context = \"\"\n",
    "    \n",
    "    for doc in search_results:\n",
    "        context = context + entry_template.format(**doc) + \"\\n\\n\"\n",
    "\n",
    "    prompt = prompt_template.format(question=query, context=context).strip()\n",
    "    return prompt"
   ]
  },
  {
   "cell_type": "code",
   "execution_count": 16,
   "id": "f2aa5f71-2e33-4a20-97a5-1516ac4756c7",
   "metadata": {},
   "outputs": [],
   "source": [
    "prompt_template = \"\"\"\n",
    "You're a PC video game enthusiast who loves playing games on release day.\n",
    "You're aware that it's now common for unfinished, unoptimized products to be released.\n",
    "You know that developers often fail to deliver what was promised beforehand about the game.\n",
    "You prefer to play games that simply work well and are delivered with proper quality—games that aren't released too early.\n",
    "Answer the QUESTION based on the CONTEXT from our exercises database.\n",
    "Use only the facts from the CONTEXT when answering the QUESTION.\n",
    "\n",
    "QUESTION: {question}\n",
    "\n",
    "CONTEXT:\n",
    "{context}\n",
    "\"\"\".strip()\n",
    "\n",
    "entry_template = \"\"\"\n",
    "title: {title}\n",
    "language: {language}\n",
    "review: {review}\n",
    "\"\"\".strip()\n",
    "\n",
    "def build_prompt(query, search_results):\n",
    "    context = \"\"\n",
    "    \n",
    "    for doc in search_results:\n",
    "        context = context + entry_template.format(**doc) + \"\\n\\n\"\n",
    "\n",
    "    prompt = prompt_template.format(question=query, context=context).strip()\n",
    "    return prompt"
   ]
  },
  {
   "cell_type": "code",
   "execution_count": 17,
   "id": "d353de10-e60e-4087-ac77-967db264ab5e",
   "metadata": {},
   "outputs": [],
   "source": [
    "def llm(prompt, model='gpt-4o-mini'):\n",
    "    response = client.chat.completions.create(\n",
    "        model=model,\n",
    "        messages=[{\"role\": \"user\", \"content\": prompt}]\n",
    "    )\n",
    "    \n",
    "    return response.choices[0].message.content"
   ]
  },
  {
   "cell_type": "code",
   "execution_count": 18,
   "id": "9c94b3a8-e5a2-46fb-9670-ffc4f8642cb8",
   "metadata": {},
   "outputs": [],
   "source": [
    "def rag(query, model='gpt-4o-mini'):\n",
    "    search_results = search(query)\n",
    "    prompt = build_prompt(query, search_results)\n",
    "    #print(prompt)\n",
    "    answer = llm(prompt, model=model)\n",
    "    return answer"
   ]
  },
  {
   "cell_type": "code",
   "execution_count": 19,
   "id": "42cc3da8-b904-41f7-902d-946a1fa37c45",
   "metadata": {},
   "outputs": [
    {
     "name": "stdout",
     "output_type": "stream",
     "text": [
      "Based on the context provided, Baldur's Gate 3 is not specifically categorized as a game for kids. The reviews highlight its complexity, depth, and the presence of mature themes typical in RPGs and Dungeons & Dragons mechanics. It is recommended for players who enjoy rich narratives, character development, and intricate gameplay, which may be more appealing to older audiences. Additionally, some reviews mention the game's potential challenges for those unfamiliar with D&D, suggesting that it is more suited for players who can grasp its intricacies rather than a young demographic.\n"
     ]
    }
   ],
   "source": [
    "question = \"Is Baldur's Gate 3 a game for kids?\"\n",
    "answer = rag(question)\n",
    "print(answer)"
   ]
  },
  {
   "cell_type": "code",
   "execution_count": 20,
   "id": "7045cb05-5808-44aa-aa57-94e5c4bbaceb",
   "metadata": {},
   "outputs": [
    {
     "name": "stdout",
     "output_type": "stream",
     "text": [
      "Based on the provided reviews, Baldur's Gate 3 features a diverse cast of characters and offers players a variety of choices and playstyles, reflecting elements of diversity, equity, and inclusion (DEI). The game includes different character options and allows for unique adventures based on player decisions, contributing to an immersive experience that many players appreciate. However, the reviews do not explicitly discuss DEI principles, leaving some aspects open to interpretation. Overall, Baldur's Gate 3 seems to align with DEI concepts through its emphasis on diverse character representation and player agency.\n"
     ]
    }
   ],
   "source": [
    "question = \"Is Baldur's Gate 3 a game following DEI concepts, namely diversity, equity and inclusion?\"\n",
    "answer = rag(question)\n",
    "print(answer)"
   ]
  },
  {
   "cell_type": "code",
   "execution_count": 21,
   "id": "670c15f8-321c-4b44-8349-ce9fa4d8e5ec",
   "metadata": {},
   "outputs": [
    {
     "name": "stdout",
     "output_type": "stream",
     "text": [
      "Based on the context provided, \"God of War Ragnarök\" is not a game specifically designed for kids. The game's themes and narrative are complex and often delve into darker, more mature subjects. The review mentions elements such as desperation, end-of-times settings, and character development that might not be suitable for a younger audience. Additionally, the action and combat, while engaging, are geared towards a more mature gaming demographic. Overall, while younger players may enjoy the gameplay, they might not fully grasp the deeper narrative and themes present in the game.\n"
     ]
    }
   ],
   "source": [
    "question = \"Is God of War Ragnarök a game for kids?\"\n",
    "answer = rag(question)\n",
    "print(answer)"
   ]
  },
  {
   "cell_type": "code",
   "execution_count": 22,
   "id": "054165ce-28ed-4f38-939c-40a54a59df4d",
   "metadata": {},
   "outputs": [
    {
     "name": "stdout",
     "output_type": "stream",
     "text": [
      "Based on the provided context, \"God of War Ragnarök\" does exhibit elements that align with DEI (diversity, equity, and inclusion) concepts. The developers collaborated with Sweet Baby Inc., a company known for promoting inclusive storytelling, which influenced the game's narrative and character decisions. However, some reviewers express that this \"woke influence\" sometimes feels forced, detracting from the overall experience and narrative coherence. \n",
      "\n",
      "Therefore, while God of War Ragnarök incorporates DEI elements, its execution and impact on gameplay and storytelling have received mixed feedback from players.\n"
     ]
    }
   ],
   "source": [
    "question = \"Is God of War Ragnarök a game following DEI concepts, namely diversity, equity and inclusion?\"\n",
    "answer = rag(question)\n",
    "print(answer)"
   ]
  },
  {
   "cell_type": "code",
   "execution_count": 23,
   "id": "147362da-7e39-4aa5-a868-88a3e1e0b32f",
   "metadata": {},
   "outputs": [
    {
     "name": "stdout",
     "output_type": "stream",
     "text": [
      "Far Cry 6 is not specifically a game for kids. While it retains the typical gameplay mechanics of the Far Cry series—which include shooting, looting, and exploration—it tends to have themes and content more suited for a mature audience. Reviews mention that the series has historically featured immersive stories with complex characters, and overall, Far Cry games generally are rated for ages 17 and older due to violence, strong language, and other mature themes.\n"
     ]
    }
   ],
   "source": [
    "question = \"Is Far Cry 6 a game for kids?\"\n",
    "answer = rag(question)\n",
    "print(answer)"
   ]
  },
  {
   "cell_type": "code",
   "execution_count": 24,
   "id": "e1134990-af84-40be-bcce-a6f690b223be",
   "metadata": {},
   "outputs": [
    {
     "name": "stdout",
     "output_type": "stream",
     "text": [
      "The reviews provide a mixed view on whether Far Cry 6 incorporates DEI concepts, namely diversity, equity, and inclusion. While some reviews reference diversity positively, there isn't a comprehensive assessment or explicit mention of DEI principles as a focus within the game. Many reviews indicate that Far Cry 6 feels similar to previous titles and lacks depth in story and character engagement. Therefore, while diversity may be present, the overall emphasis on equity and inclusion is not clearly highlighted or explored in the context of the reviews provided.\n"
     ]
    }
   ],
   "source": [
    "question = \"Is Far Cry 6 a game following DEI concepts, namely diversity, equity and inclusion?\"\n",
    "answer = rag(question)\n",
    "print(answer)"
   ]
  },
  {
   "cell_type": "code",
   "execution_count": 25,
   "id": "fcbfb3ee-48f3-43d3-b14d-5c295119a421",
   "metadata": {},
   "outputs": [
    {
     "name": "stdout",
     "output_type": "stream",
     "text": [
      "Based on the reviews provided, Watch Dogs: Legion is not specifically tailored for kids. The game is set in a near-future dystopian London and deals with themes such as authoritarianism and surveillance. Additionally, it features complex gameplay mechanics and a narrative that may not resonate with a younger audience. The content seems to be more suitable for adult players who appreciate open-world games with strategic elements and social commentary, rather than a game designed for children.\n"
     ]
    }
   ],
   "source": [
    "question = \"Is Watch Dogs: Legion a game for kids?\"\n",
    "answer = rag(question)\n",
    "print(answer)"
   ]
  },
  {
   "cell_type": "code",
   "execution_count": 26,
   "id": "77db5ed0-9dab-423b-a4df-f56184cb5fcd",
   "metadata": {},
   "outputs": [
    {
     "name": "stdout",
     "output_type": "stream",
     "text": [
      "Based on the provided context, there is no explicit mention of Watch Dogs: Legion directly addressing DEI concepts such as diversity, equity, and inclusion. However, the game's unique \"Play as Anyone\" mechanic allows players to recruit and control various characters from different backgrounds, which suggests a degree of diversity in gameplay. The diversity of characters, from hackers to construction workers and grandmas, may imply some level of representation.\n",
      "\n",
      "Despite this, the reviews predominantly focus on gameplay mechanics, storyline, and technical aspects rather than a clear indication of DEI principles being a core theme or focus within the game. Therefore, while there are elements that could align with diversity, the overall context does not provide sufficient evidence to conclude that the game fully embodies DEI concepts.\n"
     ]
    }
   ],
   "source": [
    "question = \"Is Watch Dogs: Legion a game following DEI concepts, namely diversity, equity and inclusion?\"\n",
    "answer = rag(question)\n",
    "print(answer)"
   ]
  },
  {
   "cell_type": "code",
   "execution_count": 27,
   "id": "8de79bd3-dbe9-429b-babb-973f8bb09041",
   "metadata": {},
   "outputs": [
    {
     "name": "stdout",
     "output_type": "stream",
     "text": [
      "Based on the provided context, there isn't any explicit information indicating that \"Forspoken\" is specifically a game for kids. The reviews highlight aspects such as unique gameplay, emotional storylines, and character development, but they do not suggest a target audience focused on children. Rather, the discussions seem to cater to a more general gaming audience, with considerations of gameplay complexity and mature themes. Thus, it is not accurate to classify \"Forspoken\" as a game solely for kids.\n"
     ]
    }
   ],
   "source": [
    "question = \"Is Forspoken a game for kids?\"\n",
    "answer = rag(question)\n",
    "print(answer)"
   ]
  },
  {
   "cell_type": "code",
   "execution_count": 28,
   "id": "4fb8fb85-6ee7-4723-9e6a-00cf747e01e0",
   "metadata": {},
   "outputs": [
    {
     "name": "stdout",
     "output_type": "stream",
     "text": [
      "The provided reviews for \"Forspoken\" do not specifically mention whether the game follows DEI (diversity, equity, and inclusion) concepts. However, it is noted that the game features a mostly female cast and includes a protagonist named Frey, which could indicate an element of diversity. The reviews primarily focus on aspects like gameplay mechanics, graphics, and personal enjoyment rather than explicitly addressing DEI themes. Therefore, based on the information in the context, it cannot be definitively stated that \"Forspoken\" embodies DEI concepts.\n"
     ]
    }
   ],
   "source": [
    "question = \"Is Forspoken a game following DEI concepts, namely diversity, equity and inclusion?\"\n",
    "answer = rag(question)\n",
    "print(answer)"
   ]
  },
  {
   "cell_type": "code",
   "execution_count": null,
   "id": "ec484c5f-4c69-4379-b421-d654c05ee582",
   "metadata": {},
   "outputs": [],
   "source": []
  },
  {
   "cell_type": "code",
   "execution_count": null,
   "id": "aacf461e-4fd9-42c5-a195-c144eca79640",
   "metadata": {},
   "outputs": [],
   "source": []
  },
  {
   "cell_type": "code",
   "execution_count": 29,
   "id": "9f1cd7b0-1469-4e3f-bcfc-9397ae0f8a6b",
   "metadata": {},
   "outputs": [
    {
     "name": "stdout",
     "output_type": "stream",
     "text": [
      "Based on the reviews provided, there are no reported technical issues when playing Baldur's Gate 3. The game is described as a polished AAA experience with high-quality voice acting, stunning visuals, and engaging gameplay. Players have expressed enjoyment and satisfaction with the game’s performance and depth. While one review mentions voice acting accents detracting from immersion, this seems to be a subjective opinion rather than a technical issue. Overall, players consider Baldur’s Gate 3 to be an outstanding and stable experience.\n"
     ]
    }
   ],
   "source": [
    "question = \"Are there any technical issues when playing Baldur's Gate 3?\"\n",
    "answer = rag(question)\n",
    "print(answer)"
   ]
  },
  {
   "cell_type": "code",
   "execution_count": 30,
   "id": "99f2f3ab-6797-4b91-a37c-06db3cf3d927",
   "metadata": {},
   "outputs": [
    {
     "name": "stdout",
     "output_type": "stream",
     "text": [
      "Yes, the release version of Baldur's Gate 3 is indeed ready to be played. Reviews consistently praise it as an amazing and polished game, often referring to it as a masterpiece with a deep and engaging story, well-developed characters, and enjoyable gameplay mechanics. Players have invested significant hours into the game (some over 370 hours) and express excitement about replaying it due to its extensive content and choices. The game is also noted for its remarkable balance between narrative and emergent gameplay, making it a complete and satisfying experience. There's no mention of significant issues or that it's unfinished, suggesting that it meets the quality standards you prefer.\n"
     ]
    }
   ],
   "source": [
    "question = \"Is the release version of Baldur's Gate 3 ready to be played?\"\n",
    "answer = rag(question)\n",
    "print(answer)"
   ]
  },
  {
   "cell_type": "code",
   "execution_count": 31,
   "id": "aa510bdf-527d-4019-84ed-90de93886ee6",
   "metadata": {},
   "outputs": [
    {
     "name": "stdout",
     "output_type": "stream",
     "text": [
      "Yes, there are several technical issues when playing God of War: Ragnarok on PC. Users have reported problems such as:\n",
      "\n",
      "1. **VRAM Limitations**: The game displays an error message when trying to launch on systems with 4GB VRAM graphics cards, preventing them from playing. While there is a workaround using a mod, this limitation affects many players.\n",
      "\n",
      "2. **Crashing**: Some players experience crashes every couple of hours of gameplay, which can be frustrating.\n",
      "\n",
      "3. **Performance Issues**: Users have reported various performance problems, including freezing, stuttering, memory leaks, and input lag when using controllers.\n",
      "\n",
      "4. **Audio Issues**: There are mentions of audio cutting in and out during gameplay.\n",
      "\n",
      "5. **Frame Pacing Issues**: Some players with powerful PCs experience jerky and stuttery performance despite having good average frame rates, possibly related to frame pacing and VRR (Variable Refresh Rate) not functioning correctly.\n",
      "\n",
      "Overall, many players suggest waiting for patches to resolve these issues before purchasing the game, as they feel the game isn't optimized well for PC at its current state.\n"
     ]
    }
   ],
   "source": [
    "question = \"Are there any technical issues when playing God of War Ragnarok?\"\n",
    "answer = rag(question)\n",
    "print(answer)"
   ]
  },
  {
   "cell_type": "code",
   "execution_count": 32,
   "id": "3bae8b5c-f197-459f-b772-8d5dd5978b51",
   "metadata": {},
   "outputs": [
    {
     "name": "stdout",
     "output_type": "stream",
     "text": [
      "The release version of God of War: Ragnarok is not entirely ready to be played without issues. There are reports of users with 4GB VRAM graphics cards encountering a VRAM limitation that prevents the game from launching. While some players have found a workaround using a mod, such solutions indicate that the game may not fully support lower-end systems that meet the minimum requirements.\n",
      "\n",
      "Additionally, players have experienced crashes every few hours, which is not typical for modern games, even on systems that exceed the minimum requirements. Although the game offers a great experience overall and is praised for its story, graphics, and gameplay, the presence of these technical issues suggests that the game is not optimized or fully ready for all players at launch. Therefore, while some can enjoy it without problems, others may face significant barriers.\n"
     ]
    }
   ],
   "source": [
    "question = \"Is the release version of God of War Ragnarok ready to be played?\"\n",
    "answer = rag(question)\n",
    "print(answer)"
   ]
  },
  {
   "cell_type": "code",
   "execution_count": 33,
   "id": "7ba75540-8022-43b3-a263-da47f765d440",
   "metadata": {},
   "outputs": [
    {
     "name": "stdout",
     "output_type": "stream",
     "text": [
      "Yes, Far Cry 6 is plagued by technical issues. The game experiences frequent bugs and glitches, including problems like enemies that disappear, missions not triggering properly, and long load times. Additionally, even on higher-end systems, players have reported inconsistent performance with frame drops and stuttering during intense sequences. These issues detract from the overall experience and contribute to a feeling that the game is unfinished.\n"
     ]
    }
   ],
   "source": [
    "question = \"Are there any technical issues when playing Far Cry 6?\"\n",
    "answer = rag(question)\n",
    "print(answer)"
   ]
  },
  {
   "cell_type": "code",
   "execution_count": 34,
   "id": "0a62df02-10c7-48f4-b681-667b5dcbcc5b",
   "metadata": {},
   "outputs": [
    {
     "name": "stdout",
     "output_type": "stream",
     "text": [
      "Based on the reviews provided, the release version of Far Cry 6 is not ready to be played without issues. The game is described as being heavily glitched and buggy, with one review suggesting it should have been treated as an alpha version rather than a finished product. Furthermore, warnings about performance issues, particularly when installed on a hard drive, indicate significant technical problems. Overall, it appears that while the gameplay may have its merits, the game suffers from substantial quality control issues that impact the playing experience.\n"
     ]
    }
   ],
   "source": [
    "question = \"Is the release version of Far Cry 6 ready to be played?\"\n",
    "answer = rag(question)\n",
    "print(answer)"
   ]
  }
 ],
 "metadata": {
  "kernelspec": {
   "display_name": "Python 3 (ipykernel)",
   "language": "python",
   "name": "python3"
  },
  "language_info": {
   "codemirror_mode": {
    "name": "ipython",
    "version": 3
   },
   "file_extension": ".py",
   "mimetype": "text/x-python",
   "name": "python",
   "nbconvert_exporter": "python",
   "pygments_lexer": "ipython3",
   "version": "3.11.6"
  }
 },
 "nbformat": 4,
 "nbformat_minor": 5
}
