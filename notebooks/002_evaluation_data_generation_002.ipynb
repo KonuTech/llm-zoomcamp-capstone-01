{
 "cells": [
  {
   "cell_type": "code",
   "execution_count": 1,
   "id": "7e9bd3d3-cf94-45ba-a62b-ca479eaca14a",
   "metadata": {},
   "outputs": [
    {
     "data": {
      "text/plain": [
       "4"
      ]
     },
     "execution_count": 1,
     "metadata": {},
     "output_type": "execute_result"
    }
   ],
   "source": [
    "2+2"
   ]
  },
  {
   "cell_type": "code",
   "execution_count": 2,
   "id": "bb98219d-a5e8-4eff-87bb-d42ab9447c20",
   "metadata": {},
   "outputs": [
    {
     "data": {
      "text/plain": [
       "True"
      ]
     },
     "execution_count": 2,
     "metadata": {},
     "output_type": "execute_result"
    }
   ],
   "source": [
    "import json\n",
    "import os\n",
    "from dotenv import load_dotenv\n",
    "# Load environment variables from .env\n",
    "load_dotenv(\"/home/jovyan/.envrc\")"
   ]
  },
  {
   "cell_type": "code",
   "execution_count": 3,
   "id": "d49c1330-b853-4299-9e47-0281fdbbbb45",
   "metadata": {
    "scrolled": true
   },
   "outputs": [
    {
     "name": "stdout",
     "output_type": "stream",
     "text": [
      "Author ID: 76561198835479154\n",
      "Review: Despite being an ambitious game, Assassin's Creed Odyssey often feels bloated. While the vast, open-world is beautiful, it can feel repetitive and is filled with unnecessary quests that drag down the experience. The RPG mechanics, a fresh idea, sometimes take away from the Assassin's Creed experience, making it feel more like an open-world checklist simulator. That said, the story is engaging and the historical setting is captivating, especially for fans of Ancient Greece. If you have the patience for the grind, there's still fun to be had\n",
      "Timestamp Created: 1726669780\n",
      "-------------------------------------------------------------------------------\n"
     ]
    }
   ],
   "source": [
    "# Directory containing the data files\n",
    "data_dir = os.path.abspath('../reviews-assistant/data/reviews')\n",
    "\n",
    "# Initialize an empty list to hold all reviews\n",
    "reviews = []\n",
    "\n",
    "# List objects in the directory\n",
    "objects_in_directory = os.listdir(data_dir)\n",
    "\n",
    "# Iterate over the files in the directory\n",
    "for obj in objects_in_directory:\n",
    "    if obj.endswith('.json'):  # Check if the file is a JSON file\n",
    "        file_path = os.path.join(data_dir, obj)\n",
    "        with open(file_path, 'r', encoding='utf-8') as jsonfile:\n",
    "            # Load the reviews from the JSON file\n",
    "            file_reviews = json.load(jsonfile)\n",
    "            reviews.extend(file_reviews)  # Append reviews to the main list\n",
    "\n",
    "# Print the first i reviews\n",
    "i = 2  # Change this to print more reviews if needed\n",
    "for review in reviews[1:i]:\n",
    "    print(f\"Author ID: {review['author.steamid']}\")\n",
    "    print(f\"Review: {review.get('review', 'No text')}\")\n",
    "    print(f\"Timestamp Created: {review['timestamp_created']}\")\n",
    "    print(\"-\" * 79)"
   ]
  },
  {
   "cell_type": "code",
   "execution_count": 4,
   "id": "9ab15625-0aa0-4486-940e-e418847171b1",
   "metadata": {
    "scrolled": true
   },
   "outputs": [
    {
     "name": "stdout",
     "output_type": "stream",
     "text": [
      "Author ID: 76561198048793527\n",
      "Review: One of the best ports i played in years, ZERO stutter\n",
      "RTX 4060Ti + i5-13400, 1440p (DLSS Balanced without Frame Gen - that is not working for nvidia) around 80~150 FPS (if the game is running 120fps, then 1% low is around 100 FPS)\n",
      "and about the game story/gameplay we already know, it's VERY good\n",
      "Timestamp Created: 1726764817\n",
      "-------------------------------------------------------------------------------\n",
      "Author ID: 76561198274326671\n",
      "Review: fun game. the story is pretty dumb tbh and there are endless cutscenes. Not sure why such a recent game relies on such janky and clunky storytelling, when games like cyberpunk and baldurs gate 3 respond to player actions so much better.\n",
      "Timestamp Created: 1725023940\n",
      "-------------------------------------------------------------------------------\n"
     ]
    }
   ],
   "source": [
    "import os\n",
    "import json\n",
    "import random  # Import random for shuffling\n",
    "\n",
    "# Directory containing the data files\n",
    "data_dir = os.path.abspath('../reviews-assistant/data/reviews')\n",
    "\n",
    "# Initialize an empty list to hold all reviews\n",
    "reviews = []\n",
    "\n",
    "# List objects in the directory\n",
    "objects_in_directory = os.listdir(data_dir)\n",
    "\n",
    "# Iterate over the files in the directory\n",
    "for obj in objects_in_directory:\n",
    "    if obj.endswith('.json'):  # Check if the file is a JSON file\n",
    "        file_path = os.path.join(data_dir, obj)\n",
    "        with open(file_path, 'r', encoding='utf-8') as jsonfile:\n",
    "            # Load the reviews from the JSON file\n",
    "            file_reviews = json.load(jsonfile)\n",
    "            \n",
    "            # If the loaded content is a list of reviews, extend the main list\n",
    "            if isinstance(file_reviews, list):\n",
    "                reviews.extend(file_reviews)  # Append reviews to the main list\n",
    "            else:\n",
    "                reviews.append(file_reviews)  # Handle the case where it's not a list\n",
    "\n",
    "# Shuffle the reviews to randomize their order\n",
    "random.shuffle(reviews)\n",
    "\n",
    "# Print the first i shuffled reviews\n",
    "i = 2  # Change this to print more reviews if needed\n",
    "for review in reviews[:i]:\n",
    "    print(f\"Author ID: {review['author.steamid']}\")\n",
    "    print(f\"Review: {review.get('review', 'No text')}\")\n",
    "    print(f\"Timestamp Created: {review['timestamp_created']}\")\n",
    "    print(\"-\" * 79)\n"
   ]
  },
  {
   "cell_type": "code",
   "execution_count": 5,
   "id": "1d9fda07-17f9-49cb-b744-c4902c53016c",
   "metadata": {},
   "outputs": [
    {
     "data": {
      "text/plain": [
       "1782"
      ]
     },
     "execution_count": 5,
     "metadata": {},
     "output_type": "execute_result"
    }
   ],
   "source": [
    "len(reviews)"
   ]
  },
  {
   "cell_type": "code",
   "execution_count": 6,
   "id": "0d8fde50-f6fe-4c8d-977c-4edc7ac74b18",
   "metadata": {},
   "outputs": [
    {
     "data": {
      "text/plain": [
       "{'appid': '552520',\n",
       " 'timestamp_query': 1727643597,\n",
       " 'title': 'Far Cry 5',\n",
       " 'recommendationid': '174823247',\n",
       " 'author.steamid': '76561198052928886',\n",
       " 'author.playtimeforever': None,\n",
       " 'author.playtime_last_two_weeks': 0,\n",
       " 'author.playtime_at_review': 250,\n",
       " 'author.last_played': 1726166777,\n",
       " 'language': 'english',\n",
       " 'review': \"Played about halfway through on PS4 on launch, had to stop playing due to a bug where the main story wouldn't progress. Quest objective wouldn't trigger. Tried playing again on PC in 2024 and still just as buggy. De-synced audio in opening cutscene, had to play the first gameplay section 3 times due to vehicle randomly getting stuck and exploding. Played for awhile and during one of the daredevil stunt race missions, the vehicle kept spinning during the countdown and then starting me facing the wrong way. Got fed up and stopped playing.\\r\\n\\r\\nKnowing how the game ends, I have no motivation to play the story out anyway. This game is a mediocre, buggy disappointment.\",\n",
       " 'voted_up': False,\n",
       " 'votes_up': 1,\n",
       " 'timestamp_created': 1726175427,\n",
       " 'timestamp_updated': 1726175427}"
      ]
     },
     "execution_count": 6,
     "metadata": {},
     "output_type": "execute_result"
    }
   ],
   "source": [
    "reviews[-1]"
   ]
  },
  {
   "cell_type": "code",
   "execution_count": 7,
   "id": "fe667866-f214-4de5-ac81-9ef0b05aaf3e",
   "metadata": {},
   "outputs": [],
   "source": [
    "from openai import OpenAI\n",
    "\n",
    "client = OpenAI()"
   ]
  },
  {
   "cell_type": "code",
   "execution_count": 8,
   "id": "fe72a648-d3a6-4e98-a728-1df0640dd3e7",
   "metadata": {},
   "outputs": [],
   "source": [
    "prompt_template = \"\"\"\n",
    "You are emulating a user of a software application.\n",
    "The application returns recommendations to the user about content of video games, not hardware performance.\n",
    "The knowledge base of the application is based on reviews from an online shop called Steam.\n",
    "The application is designed for users who are conservative fathers, unfamiliar with how the modern gaming industry works.\n",
    "These fathers are not up to date with the latest titles released regularly. They want to protect their children from harmful content.\n",
    "Types of harmful content include:\n",
    "\n",
    "Violence: Excessive or graphic depictions of violence.\n",
    "Gore and Blood: Intense visual representations of injury or mutilation.\n",
    "Sexual Content: Explicit or suggestive sexual themes or imagery.\n",
    "Profanity: Use of strong language or offensive words.\n",
    "Substance Abuse: Depictions of drugs, alcohol, or smoking.\n",
    "Discrimination: Racist, sexist, or other discriminatory content.\n",
    "Gambling: In-game gambling or loot boxes mimicking gambling mechanics.\n",
    "Horror and Disturbing Imagery: Intense fear-inducing or disturbing scenes.\n",
    "Addiction Mechanisms: Features that encourage excessive play (e.g., microtransactions, time-gated rewards).\n",
    "DEI ideology (Diversity, Equity, and Inclusion): Corporate policies focused on DEI, which some argue hurt creativity and are mainly aimed at improving sales.\n",
    "\n",
    "Also a user does want to use any external applications for logging or sharing data. He wants only to use Steam as a mean of buyinh and playing video games.\n",
    "\n",
    "Formulate 5 questions this user would ask based on a provided exercise.\n",
    "Create only questions which are related to this exercise and type of users.\n",
    "The record should contain the answer to the questions, and the questions should\n",
    "be complete and not too short. Use as fewer words as possible from the record.\n",
    "\n",
    "The record:\n",
    "\n",
    "title: {title}\n",
    "language: {language}\n",
    "review: {review}\n",
    "\n",
    "Provide the output in parsable JSON without using code blocks:\n",
    "\n",
    "{{\"questions\": [\"question1\", \"question2\", ..., \"question5\"]}}\n",
    "\"\"\".strip()"
   ]
  },
  {
   "cell_type": "code",
   "execution_count": 9,
   "id": "b2515e13-c73d-408e-ba69-a2e3c5ee9029",
   "metadata": {},
   "outputs": [],
   "source": [
    "prompt_template = \"\"\"\n",
    "You are a PC video game enthusiast who enjoys playing games on their release day.\n",
    "You are aware that it is now common for developers to release unfinished or unoptimized products.\n",
    "You understand that developers often fail to deliver on the promises made about a game prior to its release.\n",
    "You prefer games that function well upon launch and are delivered with proper quality—titles that are not released prematurely.\n",
    "Also a user does want to use any external applications for logging or sharing data. He wants only to use Steam as a mean of buying and playing video games.\n",
    "\n",
    "Formulate 5 questions this user would ask based on a provided exercise.\n",
    "Create only questions which are related to this exercise and type of users.\n",
    "The record should contain the answer to the questions, and the questions should\n",
    "be complete and not too short. Use as fewer words as possible from the record.\n",
    "\n",
    "The record:\n",
    "\n",
    "title: {title}\n",
    "language: {language}\n",
    "review: {review}\n",
    "\n",
    "Provide the output in parsable JSON without using code blocks:\n",
    "\n",
    "{{\"questions\": [\"question1\", \"question2\", ..., \"question5\"]}}\n",
    "\"\"\".strip()"
   ]
  },
  {
   "cell_type": "code",
   "execution_count": 10,
   "id": "334fd8bb-954d-4250-880f-0c1a18c17eb3",
   "metadata": {},
   "outputs": [],
   "source": [
    "prompt = prompt_template.format(**reviews[0])"
   ]
  },
  {
   "cell_type": "code",
   "execution_count": 11,
   "id": "af92ad0d-437d-4d23-a31f-3402657e374c",
   "metadata": {},
   "outputs": [
    {
     "data": {
      "text/plain": [
       "'You are a PC video game enthusiast who enjoys playing games on their release day.\\nYou are aware that it is now common for developers to release unfinished or unoptimized products.\\nYou understand that developers often fail to deliver on the promises made about a game prior to its release.\\nYou prefer games that function well upon launch and are delivered with proper quality—titles that are not released prematurely.\\nAlso a user does want to use any external applications for logging or sharing data. He wants only to use Steam as a mean of buying and playing video games.\\n\\nFormulate 5 questions this user would ask based on a provided exercise.\\nCreate only questions which are related to this exercise and type of users.\\nThe record should contain the answer to the questions, and the questions should\\nbe complete and not too short. Use as fewer words as possible from the record.\\n\\nThe record:\\n\\ntitle: God of War: Ragnarok\\nlanguage: english\\nreview: One of the best ports i played in years, ZERO stutter\\nRTX 4060Ti + i5-13400, 1440p (DLSS Balanced without Frame Gen - that is not working for nvidia) around 80~150 FPS (if the game is running 120fps, then 1% low is around 100 FPS)\\nand about the game story/gameplay we already know, it\\'s VERY good\\n\\nProvide the output in parsable JSON without using code blocks:\\n\\n{\"questions\": [\"question1\", \"question2\", ..., \"question5\"]}'"
      ]
     },
     "execution_count": 11,
     "metadata": {},
     "output_type": "execute_result"
    }
   ],
   "source": [
    "prompt"
   ]
  },
  {
   "cell_type": "code",
   "execution_count": 12,
   "id": "152a6e47-327f-43d3-a6ef-7552e6be1116",
   "metadata": {},
   "outputs": [],
   "source": [
    "def llm(prompt):\n",
    "    response = client.chat.completions.create(\n",
    "        model='gpt-4o-mini',\n",
    "        messages=[{\"role\": \"user\", \"content\": prompt}]\n",
    "    )\n",
    "    \n",
    "    return response.choices[0].message.content"
   ]
  },
  {
   "cell_type": "code",
   "execution_count": 13,
   "id": "9178efc9-74b3-46c1-bf85-6abd37386692",
   "metadata": {},
   "outputs": [],
   "source": [
    "questions = llm(prompt)"
   ]
  },
  {
   "cell_type": "code",
   "execution_count": 14,
   "id": "537bcfe7-79b6-4c72-96bf-974eeac4bf3c",
   "metadata": {},
   "outputs": [
    {
     "data": {
      "text/plain": [
       "{'questions': ['How well does God of War: Ragnarok perform on launch, according to the review?',\n",
       "  'What kind of hardware setup was used to test the game, as mentioned in the review?',\n",
       "  'What frame rates can be expected while playing God of War: Ragnarok on the specified setup?',\n",
       "  'Does the review mention any issues such as stuttering or performance drops in the game?',\n",
       "  'How is the gameplay and story of God of War: Ragnarok described in the review?']}"
      ]
     },
     "execution_count": 14,
     "metadata": {},
     "output_type": "execute_result"
    }
   ],
   "source": [
    "json.loads(questions)"
   ]
  },
  {
   "cell_type": "code",
   "execution_count": 15,
   "id": "923c20e8-54fa-4c26-9f6e-ea4f6a1db3f5",
   "metadata": {},
   "outputs": [],
   "source": [
    "def generate_questions(doc):\n",
    "    prompt = prompt_template.format(**doc)\n",
    "\n",
    "    response = client.chat.completions.create(\n",
    "        model='gpt-4o-mini',\n",
    "        messages=[{\"role\": \"user\", \"content\": prompt}]\n",
    "    )\n",
    "\n",
    "    json_response = response.choices[0].message.content\n",
    "    return json_response"
   ]
  },
  {
   "cell_type": "code",
   "execution_count": 16,
   "id": "1ea2a7ef-463a-4f7d-bf71-12f0a49ff589",
   "metadata": {},
   "outputs": [],
   "source": [
    "from tqdm.auto import tqdm"
   ]
  },
  {
   "cell_type": "code",
   "execution_count": 17,
   "id": "fcf6664b-7116-4057-802b-cfae58789147",
   "metadata": {},
   "outputs": [],
   "source": [
    "results = {}"
   ]
  },
  {
   "cell_type": "code",
   "execution_count": 18,
   "id": "9a2434ca-108a-4aa2-be79-701661e01358",
   "metadata": {},
   "outputs": [
    {
     "data": {
      "application/vnd.jupyter.widget-view+json": {
       "model_id": "81604141fb894844a9fb5ed9bdbf4188",
       "version_major": 2,
       "version_minor": 0
      },
      "text/plain": [
       "  0%|          | 0/1782 [00:00<?, ?it/s]"
      ]
     },
     "metadata": {},
     "output_type": "display_data"
    }
   ],
   "source": [
    "for doc in tqdm(reviews): \n",
    "    doc_id = doc['appid']\n",
    "    if doc_id in results:\n",
    "        continue\n",
    "\n",
    "    questions_raw = generate_questions(doc)\n",
    "    questions = json.loads(questions_raw)\n",
    "    results[doc_id] = questions['questions']"
   ]
  },
  {
   "cell_type": "code",
   "execution_count": 19,
   "id": "e89cf1b7-52ad-4ae9-9510-a2cdcc8d2118",
   "metadata": {},
   "outputs": [],
   "source": [
    "final_results = []\n",
    "\n",
    "for doc_id, reviews in results.items():\n",
    "    for q in reviews:\n",
    "        final_results.append((doc_id, q))"
   ]
  },
  {
   "cell_type": "code",
   "execution_count": 20,
   "id": "c5b9eeb2-a4a1-4fe5-9b7a-1d245d82013f",
   "metadata": {},
   "outputs": [],
   "source": [
    "final_results = []\n",
    "\n",
    "for doc_id, reviews in results.items():\n",
    "    for q in reviews:\n",
    "        final_results.append({\n",
    "            \"appid\": doc_id,\n",
    "            \"question\": q\n",
    "        })"
   ]
  },
  {
   "cell_type": "code",
   "execution_count": 21,
   "id": "3c52c53d-a829-41f8-a318-8614df7a9130",
   "metadata": {},
   "outputs": [
    {
     "data": {
      "text/plain": [
       "{'appid': '2322010',\n",
       " 'question': 'How well does God of War: Ragnarok perform on PC at launch?'}"
      ]
     },
     "execution_count": 21,
     "metadata": {},
     "output_type": "execute_result"
    }
   ],
   "source": [
    "final_results[0]"
   ]
  },
  {
   "cell_type": "code",
   "execution_count": 22,
   "id": "be042d8a-21c0-4826-a502-e95c1694055c",
   "metadata": {},
   "outputs": [
    {
     "data": {
      "text/plain": [
       "{'appid': '794540',\n",
       " 'question': 'Is there a built-in system for saving progress in Neo Cab, and how does it work?'}"
      ]
     },
     "execution_count": 22,
     "metadata": {},
     "output_type": "execute_result"
    }
   ],
   "source": [
    "final_results[-1]"
   ]
  },
  {
   "cell_type": "code",
   "execution_count": 23,
   "id": "157381c5-2b26-4314-b5fa-943d2a03beb7",
   "metadata": {},
   "outputs": [
    {
     "name": "stdout",
     "output_type": "stream",
     "text": [
      "Data saved to /home/jovyan/reviews-assistant/data/ground_truth/ground_truth_retrieval.json\n"
     ]
    }
   ],
   "source": [
    "import json\n",
    "import os\n",
    "\n",
    "# Assuming final_results is defined as a list of dictionaries\n",
    "# Example: final_results = [{'recommendationid': 1, 'question': 'What is the best game?'}, ...]\n",
    "data_dir = os.path.abspath('../reviews-assistant/data/ground_truth')\n",
    "\n",
    "# Define the output file path\n",
    "output_file = os.path.join(data_dir, \"ground_truth_retrieval.json\")\n",
    "\n",
    "# Save the results to a JSON file\n",
    "with open(output_file, 'w', encoding='utf-8') as json_file:\n",
    "    json.dump(final_results, json_file, ensure_ascii=False, indent=4)\n",
    "\n",
    "print(f\"Data saved to {output_file}\")\n"
   ]
  },
  {
   "cell_type": "code",
   "execution_count": null,
   "id": "70fb82e2-3d21-45e1-943e-28961b24ef60",
   "metadata": {},
   "outputs": [],
   "source": []
  }
 ],
 "metadata": {
  "kernelspec": {
   "display_name": "Python 3 (ipykernel)",
   "language": "python",
   "name": "python3"
  },
  "language_info": {
   "codemirror_mode": {
    "name": "ipython",
    "version": 3
   },
   "file_extension": ".py",
   "mimetype": "text/x-python",
   "name": "python",
   "nbconvert_exporter": "python",
   "pygments_lexer": "ipython3",
   "version": "3.11.6"
  }
 },
 "nbformat": 4,
 "nbformat_minor": 5
}
