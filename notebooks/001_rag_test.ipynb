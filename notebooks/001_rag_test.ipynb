{
 "cells": [
  {
   "cell_type": "code",
   "execution_count": 1,
   "id": "531840c5-b86a-4df9-be75-80ed49eaea93",
   "metadata": {},
   "outputs": [
    {
     "data": {
      "text/plain": [
       "4"
      ]
     },
     "execution_count": 1,
     "metadata": {},
     "output_type": "execute_result"
    }
   ],
   "source": [
    "2+2"
   ]
  },
  {
   "cell_type": "code",
   "execution_count": 2,
   "id": "90e9002f-7c01-4ade-91b2-027aa38676c7",
   "metadata": {},
   "outputs": [],
   "source": [
    "# !pip list"
   ]
  },
  {
   "cell_type": "code",
   "execution_count": 3,
   "id": "d77e5346-19bf-4816-97f1-0d31d8c483b9",
   "metadata": {},
   "outputs": [],
   "source": [
    "# https://partner.steamgames.com/doc/store/getreviews"
   ]
  },
  {
   "cell_type": "code",
   "execution_count": 4,
   "id": "9bc7b342-a62f-45db-83c0-41056e34a8a9",
   "metadata": {},
   "outputs": [
    {
     "name": "stdout",
     "output_type": "stream",
     "text": [
      "Reviews for App ID 2322010 (God of War: Ragnarok) saved to /home/jovyan/reviews-assistant/data/reviews/reviews_god_of_war_ragnarok.json\n",
      "Reviews for App ID 1086940 (Baldur's Gate 3) saved to /home/jovyan/reviews-assistant/data/reviews/reviews_baldurs_gate_3.json\n",
      "Reviews for App ID 1680880 (Forspoken) saved to /home/jovyan/reviews-assistant/data/reviews/reviews_forspoken.json\n",
      "Reviews for App ID 1496790 (Gotham Knights) saved to /home/jovyan/reviews-assistant/data/reviews/reviews_gotham_knights.json\n",
      "Reviews for App ID 315210 (Suicide Squad: Kill the Justice League) saved to /home/jovyan/reviews-assistant/data/reviews/reviews_suicide_squad_kill_the_justice_league.json\n",
      "Reviews for App ID 2443720 (Concord) saved to /home/jovyan/reviews-assistant/data/reviews/reviews_concord.json\n",
      "Reviews for App ID 2208920 (Assassin's Creed Valhalla) saved to /home/jovyan/reviews-assistant/data/reviews/reviews_assassins_creed_valhalla.json\n",
      "Reviews for App ID 1817070 (Marvel’s Spider-Man Remastered) saved to /home/jovyan/reviews-assistant/data/reviews/reviews_marvel’s_spider-man_remastered.json\n",
      "Reviews for App ID 1832040 (Flintlock: The Siege of Dawn) saved to /home/jovyan/reviews-assistant/data/reviews/reviews_flintlock_the_siege_of_dawn.json\n",
      "Reviews for App ID 2698940 (The Crew Motorfest) saved to /home/jovyan/reviews-assistant/data/reviews/reviews_the_crew_motorfest.json\n",
      "No reviews to save for App ID 2702430 (Usual June).\n",
      "Reviews for App ID 1545560 (Shadow Gambit: The Cursed Crew) saved to /home/jovyan/reviews-assistant/data/reviews/reviews_shadow_gambit_the_cursed_crew.json\n",
      "Reviews for App ID 794540 (Neo Cab) saved to /home/jovyan/reviews-assistant/data/reviews/reviews_neo_cab.json\n",
      "Reviews for App ID 721180 (Dustborn) saved to /home/jovyan/reviews-assistant/data/reviews/reviews_dustborn.json\n",
      "No reviews to save for App ID 1477940 (Unknown 9: Awakening).\n",
      "Reviews for App ID 2239550 (Watch Dogs: Legion) saved to /home/jovyan/reviews-assistant/data/reviews/reviews_watch_dogs_legion.json\n",
      "Reviews for App ID 447040 (Watch_Dogs 2) saved to /home/jovyan/reviews-assistant/data/reviews/reviews_watch_dogs_2.json\n",
      "Reviews for App ID 243470 (Watch_Dogs) saved to /home/jovyan/reviews-assistant/data/reviews/reviews_watch_dogs.json\n",
      "Reviews for App ID 582160 (Assassin's Creed Origin) saved to /home/jovyan/reviews-assistant/data/reviews/reviews_assassins_creed_origin.json\n",
      "Reviews for App ID 812140 (Assassin's Creed Odyssey) saved to /home/jovyan/reviews-assistant/data/reviews/reviews_assassins_creed_odyssey.json\n",
      "Reviews for App ID 552520 (Far Cry 5) saved to /home/jovyan/reviews-assistant/data/reviews/reviews_far_cry_5.json\n",
      "Reviews for App ID 2369390 (Far Cry 6) saved to /home/jovyan/reviews-assistant/data/reviews/reviews_far_cry_6.json\n",
      "Reviews for App ID 304390 (FOR HONOR) saved to /home/jovyan/reviews-assistant/data/reviews/reviews_for_honor.json\n",
      "No reviews to save for App ID 2842040 (Star Wars Outlaws).\n"
     ]
    }
   ],
   "source": [
    "import requests\n",
    "import json\n",
    "import csv\n",
    "import sys\n",
    "import os\n",
    "import time  # Import time for the epoch timestamp\n",
    "import re  # Import re for regex\n",
    "\n",
    "\n",
    "# Construct the path to the scripts directory\n",
    "script_path = os.path.abspath('../reviews-assistant/scripts')\n",
    "\n",
    "# Add the path to sys.path\n",
    "if script_path not in sys.path:\n",
    "    sys.path.append(script_path)\n",
    "\n",
    "import minsearch\n",
    "\n",
    "\n",
    "class SteamReviewFetcher:\n",
    "    def __init__(self, appids_with_titles, filter=\"all\", language=\"english\", day_range=30, review_type=\"all\", purchase_type=\"all\"):\n",
    "        \"\"\"\n",
    "        Initializes the SteamReviewFetcher with the required parameters.\n",
    "\n",
    "        :param appids_with_titles: List of tuples containing Steam application IDs and their corresponding titles.\n",
    "        :param filter: Type of review filter.\n",
    "        :param language: Language of the reviews.\n",
    "        :param day_range: Number of days to consider for reviews.\n",
    "        :param review_type: Type of review (all or specific).\n",
    "        :param purchase_type: Type of purchase.\n",
    "        \"\"\"\n",
    "        self.base_url = \"https://store.steampowered.com/appreviews/\"\n",
    "        self.appids_with_titles = appids_with_titles if isinstance(appids_with_titles, list) else [appids_with_titles]\n",
    "        self.filter = filter\n",
    "        self.language = language\n",
    "        self.day_range = day_range\n",
    "        self.review_type = review_type\n",
    "        self.purchase_type = purchase_type\n",
    "        self.data_dir = os.path.abspath('../reviews-assistant/data/reviews')\n",
    "\n",
    "        # Ensure the data directory exists\n",
    "        os.makedirs(self.data_dir, exist_ok=True)\n",
    "\n",
    "    def _construct_url(self, appid):\n",
    "        return f\"{self.base_url}{appid}?json=1\"\n",
    "\n",
    "    def _fetch_reviews(self, appid, num_reviews):\n",
    "        url = self._construct_url(appid)\n",
    "        params = {\n",
    "            \"filter\": self.filter,\n",
    "            \"language\": self.language,\n",
    "            \"day_range\": self.day_range,\n",
    "            \"review_type\": self.review_type,\n",
    "            \"purchase_type\": self.purchase_type,\n",
    "            \"num_per_page\": num_reviews\n",
    "        }\n",
    "        response = requests.get(url, params=params)\n",
    "        response.raise_for_status()\n",
    "        return response.json()\n",
    "\n",
    "    def get_reviews(self, num_reviews=20, print_reviews=True):\n",
    "        all_reviews = {}\n",
    "        for appid, title in self.appids_with_titles:\n",
    "            review_data = self._fetch_reviews(appid, num_reviews)\n",
    "            reviews = review_data.get(\"reviews\", [])\n",
    "            all_reviews[appid] = (title, reviews)  # Store title along with reviews\n",
    "            \n",
    "            if print_reviews:\n",
    "                self.print_first_last_reviews(appid, title, reviews)\n",
    "\n",
    "        return all_reviews\n",
    "\n",
    "    def print_first_last_reviews(self, appid, title, reviews):\n",
    "        total_reviews = len(reviews)\n",
    "        if total_reviews == 0:\n",
    "            print(f\"No reviews found for App ID {appid} ({title}).\")\n",
    "            return\n",
    "\n",
    "        print(f\"\\nFirst 5 Reviews for App ID {appid} ({title}):\")\n",
    "        for review in reviews[:5]:\n",
    "            self._print_review(review)\n",
    "\n",
    "        print(f\"\\nLast 5 Reviews for App ID {appid} ({title}):\")\n",
    "        for review in reviews[-5:]:\n",
    "            self._print_review(review)\n",
    "\n",
    "    def _print_review(self, review):\n",
    "        print(f\"Author: {review['author']['steamid']}\")\n",
    "        print(f\"Review: {review.get('review', 'No text')}\")\n",
    "        print(f\"Rating: {'Positive' if review['voted_up'] else 'Negative'}\")\n",
    "        print(f\"Timestamp: {review['timestamp_created']}\")\n",
    "        print(\"-\" * 79)\n",
    "\n",
    "    def _extract_columns_to_save(self, reviews, appid, title):\n",
    "        extracted_reviews = []\n",
    "        current_time = int(time.time())  # Get current epoch time\n",
    "        for review in reviews:\n",
    "            review_dict = {\n",
    "                \"appid\": appid,  # Move appid to the first field\n",
    "                \"timestamp_query\": current_time,  # Move timestamp_query to the second field\n",
    "                \"title\": title,\n",
    "            }\n",
    "            for column in [\"recommendationid\", \"author.steamid\", \"author.playtimeforever\",\n",
    "                           \"author.playtime_last_two_weeks\", \"author.playtime_at_review\",\n",
    "                           \"author.last_played\", \"language\", \"review\", \"timestamp_created\", \"timestamp_updated\"]:\n",
    "                if column.split('.')[0] == 'author':\n",
    "                    nested_column = column.split('.')[1]\n",
    "                    review_dict[column] = review['author'].get(nested_column)\n",
    "                else:\n",
    "                    review_dict[column] = review.get(column)\n",
    "            extracted_reviews.append(review_dict)\n",
    "        return extracted_reviews\n",
    "\n",
    "    def save_reviews(self, all_reviews, filename_prefix, format):\n",
    "        for appid, (title, reviews) in all_reviews.items():\n",
    "            if not reviews:\n",
    "                print(f\"No reviews to save for App ID {appid} ({title}).\")\n",
    "                continue\n",
    "\n",
    "            safe_title = self._sanitize_title(title)  # Sanitize title for filename\n",
    "            lower_safe_title = safe_title.lower()  # Convert to lowercase for the filename\n",
    "            if format == \"csv\":\n",
    "                self._save_reviews_as_csv(appid, lower_safe_title, reviews, filename_prefix, title)\n",
    "            elif format == \"json\":\n",
    "                self._save_reviews_as_json(appid, lower_safe_title, reviews, filename_prefix, title)\n",
    "            else:\n",
    "                print(\"Invalid format. Please specify 'csv' or 'json'.\")\n",
    "\n",
    "    def _sanitize_title(self, title):\n",
    "        \"\"\"Remove special characters from the title for safe filename.\"\"\"\n",
    "        return re.sub(r'[<>:\"/\\\\|?*]', '', title).replace(\"'\", \"\").replace(\" \", \"_\")\n",
    "\n",
    "    def _save_reviews_as_csv(self, appid, lower_safe_title, reviews, filename_prefix, title):\n",
    "        keys = ['appid', 'timestamp_query', 'title', 'steamid', 'review', 'voted_up', 'timestamp_created']  # Update the keys\n",
    "        filename = os.path.join(self.data_dir, f\"{filename_prefix}_{lower_safe_title}_{appid}_reviews.csv\")\n",
    "        with open(filename, 'w', newline='', encoding='utf-8') as csvfile:\n",
    "            writer = csv.writer(csvfile)\n",
    "            writer.writerow(keys)  # Write the header\n",
    "            for review in reviews:\n",
    "                row = [\n",
    "                    appid,  # App ID as the first field\n",
    "                    int(time.time()),  # Current epoch timestamp as the second field\n",
    "                    title,  # Keep the original title\n",
    "                    review['author']['steamid'],\n",
    "                    review.get('review', 'No text'),\n",
    "                    'Positive' if review['voted_up'] else 'Negative',\n",
    "                    review['timestamp_created'],\n",
    "                ]\n",
    "                writer.writerow(row)\n",
    "        print(f\"Reviews for App ID {appid} ({title}) saved to {filename}\")\n",
    "\n",
    "    def _save_reviews_as_json(self, appid, lower_safe_title, reviews, filename_prefix, title):\n",
    "        filename = os.path.join(self.data_dir, f\"reviews_{lower_safe_title}.json\")\n",
    "        extracted_reviews = self._extract_columns_to_save(reviews, appid, title)  # Use original title here\n",
    "        with open(filename, 'w', encoding='utf-8') as jsonfile:\n",
    "            json.dump(extracted_reviews, jsonfile, indent=4)\n",
    "        print(f\"Reviews for App ID {appid} ({title}) saved to {filename}\")\n",
    "\n",
    "\n",
    "# Example usage\n",
    "if __name__ == \"__main__\":\n",
    "    appids_with_titles = [\n",
    "        (\"2322010\", \"God of War: Ragnarok\"),\n",
    "        (\"1086940\", \"Baldur's Gate 3\"),\n",
    "        (\"1680880\", \"Forspoken\"),\n",
    "        (\"1496790\", \"Gotham Knights\"),\n",
    "        (\"315210\", \"Suicide Squad: Kill the Justice League\"),\n",
    "        (\"2443720\", \"Concord\"),\n",
    "        (\"2208920\", \"Assassin's Creed Valhalla\"),\n",
    "        (\"1817070\", \"Marvel’s Spider-Man Remastered\"),\n",
    "        (\"1832040\", \"Flintlock: The Siege of Dawn\"),\n",
    "        (\"2698940\", \"The Crew Motorfest\"),\n",
    "        (\"2702430\", \"Usual June\"),\n",
    "        (\"1545560\", \"Shadow Gambit: The Cursed Crew\"),\n",
    "        (\"794540\", \"Neo Cab\"),\n",
    "        (\"721180\", \"Dustborn\"),\n",
    "        (\"1477940\", \"Unknown 9: Awakening\"),\n",
    "        (\"2239550\", \"Watch Dogs: Legion\"),\n",
    "        (\"447040\", \"Watch_Dogs 2\"),\n",
    "        (\"243470\", \"Watch_Dogs\"),\n",
    "        (\"582160\", \"Assassin's Creed Origin\"),\n",
    "        (\"812140\", \"Assassin's Creed Odyssey\"),\n",
    "        (\"552520\", \"Far Cry 5\"),\n",
    "        (\"2369390\", \"Far Cry 6\"),\n",
    "        (\"304390\", \"FOR HONOR\"),\n",
    "        (\"2842040\", \"Star Wars Outlaws\"),\n",
    "        \n",
    "    ]  # List of tuples containing app IDs and their titles\n",
    "    review_fetcher = SteamReviewFetcher(appids_with_titles)\n",
    "\n",
    "    num_reviews = 3000  # Specify the number of reviews to fetch\n",
    "    print_reviews_flag = False  # Set to False to turn off printing reviews\n",
    "\n",
    "    all_reviews = review_fetcher.get_reviews(num_reviews, print_reviews=print_reviews_flag)\n",
    "\n",
    "    # Save reviews to file\n",
    "    review_fetcher.save_reviews(all_reviews, \"reviews\", format=\"json\")\n"
   ]
  },
  {
   "cell_type": "markdown",
   "id": "a14d8b5c-e4d1-43e9-851d-ef82b93da69c",
   "metadata": {},
   "source": [
    "# Ingestion"
   ]
  },
  {
   "cell_type": "code",
   "execution_count": 5,
   "id": "75070581-df59-4291-9173-a96f14750c2f",
   "metadata": {},
   "outputs": [
    {
     "name": "stdout",
     "output_type": "stream",
     "text": [
      "Author ID: 76561198420943538\n",
      "Review: ---{ Graphics }---\n",
      "✅ You forget what reality is\n",
      "☐ Beautiful\n",
      "☐ Good\n",
      "☐ Decent\n",
      "☐ Bad\n",
      "☐ You will get eye cancer\n",
      "☐ Get a pepper spray for your eye instead\n",
      "\n",
      "---{ Gameplay }---\n",
      "☐ Won’t ever touch any other game anymore\n",
      "✅ Very good\n",
      "☐ Good\n",
      "☐ It's just gameplay\n",
      "☐ Mehh\n",
      "☐ Watch paint dry instead\n",
      "☐ Tic Tac toe is better\n",
      "\n",
      "---{ Audio }---\n",
      "☐ Eargasm\n",
      "✅ Very good\n",
      "☐ Good\n",
      "☐ Not too bad\n",
      "☐ Bad\n",
      "☐ I'm now deaf\n",
      "\n",
      "---{ Audience }---\n",
      "☐ Kids\n",
      "✅Teens\n",
      "✅ Adults\n",
      "☐ Grandma\n",
      "\n",
      "---{ PC Requirements }---\n",
      "☐ Check if you can run paint\n",
      "☐ Potato\n",
      "☐ Decent\n",
      "✅ Fast\n",
      "☐ Rich boi\n",
      "☐ Ask NASA if they have a spare computer\n",
      "☐ Search the galaxy for dark matter fuel to run\n",
      "\n",
      "---{ Difficulty }---\n",
      "☐ Just press 'W'\n",
      "☐ Easy\n",
      "✅ Easy to learn / Hard to master\n",
      "☐ Significant brain usage\n",
      "☐ Difficult\n",
      "☐ Dark Souls\n",
      "\n",
      "---{ Grind }---\n",
      "☐ Nothing to grind\n",
      "☐ Only if u care about leaderboards/ranks\n",
      "✅ Isn't necessary to progress\n",
      "☐ Average grind level\n",
      "☐ Too much grind\n",
      "☐ You'll need a second life for grinding\n",
      "\n",
      "---{ Story }---\n",
      "☐ No Story\n",
      "☐ Some lore\n",
      "☐ Average\n",
      "☐ Good\n",
      "☐ Lovely\n",
      "✅ It'll replace your life\n",
      "\n",
      "---{ Game Time }---\n",
      "☐ Long enough for a cup of coffee\n",
      "☐ Short\n",
      "☐ Average\n",
      "✅ Long\n",
      "☐ To infinity and beyond\n",
      "☐ Until GTA6 releases\n",
      "\n",
      "---{ Price }---\n",
      "☐ It's free!\n",
      "☐ Worth the price\n",
      "✅ If it's on sale\n",
      "☐ If u have some spare money left\n",
      "☐ Not recommended\n",
      "☐ You could also just burn your money\n",
      "\n",
      "---{ Bugs }---\n",
      "☐ Never heard of\n",
      "✅ Minor bugs\n",
      "☐ Can get annoying\n",
      "☐ ARK: Survival Evolved\n",
      "☐ The game itself is a big terrarium for bugs\n",
      "\n",
      "---{ ? / 10 }---\n",
      "☐ 1\n",
      "☐ 2\n",
      "☐ 3\n",
      "☐ 4\n",
      "☐ 5\n",
      "☐ 6\n",
      "☐ 7\n",
      "☐ 8\n",
      "✅ 9\n",
      "☐ 10\n",
      "Timestamp Created: 1725394822\n",
      "-------------------------------------------------------------------------------\n",
      "Author ID: 76561198835479154\n",
      "Review: Despite being an ambitious game, Assassin's Creed Odyssey often feels bloated. While the vast, open-world is beautiful, it can feel repetitive and is filled with unnecessary quests that drag down the experience. The RPG mechanics, a fresh idea, sometimes take away from the Assassin's Creed experience, making it feel more like an open-world checklist simulator. That said, the story is engaging and the historical setting is captivating, especially for fans of Ancient Greece. If you have the patience for the grind, there's still fun to be had\n",
      "Timestamp Created: 1726669780\n",
      "-------------------------------------------------------------------------------\n"
     ]
    }
   ],
   "source": [
    "# Directory containing the data files\n",
    "data_dir = os.path.abspath('../reviews-assistant/data/reviews')\n",
    "\n",
    "# Initialize an empty list to hold all reviews\n",
    "reviews = []\n",
    "\n",
    "# List objects in the directory\n",
    "objects_in_directory = os.listdir(data_dir)\n",
    "\n",
    "# Iterate over the files in the directory\n",
    "for obj in objects_in_directory:\n",
    "    if obj.endswith('.json'):  # Check if the file is a JSON file\n",
    "        file_path = os.path.join(data_dir, obj)\n",
    "        with open(file_path, 'r', encoding='utf-8') as jsonfile:\n",
    "            # Load the reviews from the JSON file\n",
    "            file_reviews = json.load(jsonfile)\n",
    "            reviews.extend(file_reviews)  # Append reviews to the main list\n",
    "# Print the first i reviews\n",
    "i = 2  # Change this to print more reviews if needed\n",
    "for review in reviews[:i]:\n",
    "    print(f\"Author ID: {review['author.steamid']}\")\n",
    "    print(f\"Review: {review.get('review', 'No text')}\")\n",
    "    print(f\"Timestamp Created: {review['timestamp_created']}\")\n",
    "    print(\"-\" * 79)"
   ]
  },
  {
   "cell_type": "code",
   "execution_count": 6,
   "id": "fb4b1280-5b2b-4054-a452-08102953bf2c",
   "metadata": {},
   "outputs": [
    {
     "data": {
      "text/plain": [
       "1785"
      ]
     },
     "execution_count": 6,
     "metadata": {},
     "output_type": "execute_result"
    }
   ],
   "source": [
    "len(reviews)"
   ]
  },
  {
   "cell_type": "code",
   "execution_count": 7,
   "id": "3b10dc88-a6b0-4dc6-86b8-f2700f590062",
   "metadata": {},
   "outputs": [
    {
     "data": {
      "text/plain": [
       "{'appid': '812140',\n",
       " 'timestamp_query': 1727557020,\n",
       " 'title': \"Assassin's Creed Odyssey\",\n",
       " 'recommendationid': '174160338',\n",
       " 'author.steamid': '76561198420943538',\n",
       " 'author.playtimeforever': None,\n",
       " 'author.playtime_last_two_weeks': 0,\n",
       " 'author.playtime_at_review': 5599,\n",
       " 'author.last_played': 1696845057,\n",
       " 'language': 'english',\n",
       " 'review': \"---{ Graphics }---\\n✅ You forget what reality is\\n☐ Beautiful\\n☐ Good\\n☐ Decent\\n☐ Bad\\n☐ You will get eye cancer\\n☐ Get a pepper spray for your eye instead\\n\\n---{ Gameplay }---\\n☐ Won’t ever touch any other game anymore\\n✅ Very good\\n☐ Good\\n☐ It's just gameplay\\n☐ Mehh\\n☐ Watch paint dry instead\\n☐ Tic Tac toe is better\\n\\n---{ Audio }---\\n☐ Eargasm\\n✅ Very good\\n☐ Good\\n☐ Not too bad\\n☐ Bad\\n☐ I'm now deaf\\n\\n---{ Audience }---\\n☐ Kids\\n✅Teens\\n✅ Adults\\n☐ Grandma\\n\\n---{ PC Requirements }---\\n☐ Check if you can run paint\\n☐ Potato\\n☐ Decent\\n✅ Fast\\n☐ Rich boi\\n☐ Ask NASA if they have a spare computer\\n☐ Search the galaxy for dark matter fuel to run\\n\\n---{ Difficulty }---\\n☐ Just press 'W'\\n☐ Easy\\n✅ Easy to learn / Hard to master\\n☐ Significant brain usage\\n☐ Difficult\\n☐ Dark Souls\\n\\n---{ Grind }---\\n☐ Nothing to grind\\n☐ Only if u care about leaderboards/ranks\\n✅ Isn't necessary to progress\\n☐ Average grind level\\n☐ Too much grind\\n☐ You'll need a second life for grinding\\n\\n---{ Story }---\\n☐ No Story\\n☐ Some lore\\n☐ Average\\n☐ Good\\n☐ Lovely\\n✅ It'll replace your life\\n\\n---{ Game Time }---\\n☐ Long enough for a cup of coffee\\n☐ Short\\n☐ Average\\n✅ Long\\n☐ To infinity and beyond\\n☐ Until GTA6 releases\\n\\n---{ Price }---\\n☐ It's free!\\n☐ Worth the price\\n✅ If it's on sale\\n☐ If u have some spare money left\\n☐ Not recommended\\n☐ You could also just burn your money\\n\\n---{ Bugs }---\\n☐ Never heard of\\n✅ Minor bugs\\n☐ Can get annoying\\n☐ ARK: Survival Evolved\\n☐ The game itself is a big terrarium for bugs\\n\\n---{ ? / 10 }---\\n☐ 1\\n☐ 2\\n☐ 3\\n☐ 4\\n☐ 5\\n☐ 6\\n☐ 7\\n☐ 8\\n✅ 9\\n☐ 10\",\n",
       " 'timestamp_created': 1725394822,\n",
       " 'timestamp_updated': 1725394912}"
      ]
     },
     "execution_count": 7,
     "metadata": {},
     "output_type": "execute_result"
    }
   ],
   "source": [
    "reviews[0]"
   ]
  },
  {
   "cell_type": "code",
   "execution_count": 8,
   "id": "c64a1e88-355c-47b4-85ed-9c85c7833819",
   "metadata": {},
   "outputs": [
    {
     "data": {
      "text/plain": [
       "{'appid': '2239550',\n",
       " 'timestamp_query': 1727557020,\n",
       " 'title': 'Watch Dogs: Legion',\n",
       " 'recommendationid': '174862159',\n",
       " 'author.steamid': '76561199371555316',\n",
       " 'author.playtimeforever': None,\n",
       " 'author.playtime_last_two_weeks': 1,\n",
       " 'author.playtime_at_review': 109,\n",
       " 'author.last_played': 1726993288,\n",
       " 'language': 'english',\n",
       " 'review': 'meh',\n",
       " 'timestamp_created': 1726233314,\n",
       " 'timestamp_updated': 1726233314}"
      ]
     },
     "execution_count": 8,
     "metadata": {},
     "output_type": "execute_result"
    }
   ],
   "source": [
    "reviews[-1]"
   ]
  },
  {
   "cell_type": "code",
   "execution_count": 9,
   "id": "0aa442cd-9eb8-442d-94fb-d0da13512c23",
   "metadata": {},
   "outputs": [],
   "source": [
    "index = minsearch.Index(\n",
    "    # text_fields=[\"author.steamid\", \"author.playtimeforever\", \"author.playtime_last_two_weeks\", \"author.playtime_at_review\", \"author.last_played\", \"language\", \"review\", \"timestamp_created\", \"timestamp_updated\"],\n",
    "    text_fields=[\"title\", \"language\", \"review\"],\n",
    "    keyword_fields=[\"appid\", \"recommendationid\"]\n",
    ")"
   ]
  },
  {
   "cell_type": "code",
   "execution_count": 10,
   "id": "3440d6c9-aa9e-4827-b97c-5d9bd88a2145",
   "metadata": {},
   "outputs": [
    {
     "data": {
      "text/plain": [
       "<minsearch.Index at 0x7fa296214ed0>"
      ]
     },
     "execution_count": 10,
     "metadata": {},
     "output_type": "execute_result"
    }
   ],
   "source": [
    "index.fit(reviews)"
   ]
  },
  {
   "cell_type": "markdown",
   "id": "2706611d-c083-4d49-a5a3-36de2feec0a0",
   "metadata": {},
   "source": [
    "# RAG flow"
   ]
  },
  {
   "cell_type": "code",
   "execution_count": 11,
   "id": "420d1cee-257c-4e2d-a2ec-4f08b279aa4b",
   "metadata": {},
   "outputs": [],
   "source": [
    "from openai import OpenAI\n",
    "\n",
    "client = OpenAI(\n",
    "  api_key=os.environ['OPENAI_API_KEY'],  # this is also the default, it can be omitted\n",
    ")"
   ]
  },
  {
   "cell_type": "code",
   "execution_count": 12,
   "id": "61c134ff-9098-4f3d-8097-d00f1faa7cd5",
   "metadata": {},
   "outputs": [],
   "source": [
    "def search(query):\n",
    "    boost = {}\n",
    "\n",
    "    results = index.search(\n",
    "        query=query,\n",
    "        filter_dict={},\n",
    "        boost_dict=boost,\n",
    "        num_results=10\n",
    "    )\n",
    "\n",
    "    return results"
   ]
  },
  {
   "cell_type": "code",
   "execution_count": 13,
   "id": "f2275ac7-b1d5-42a5-8a59-32c1777abc5f",
   "metadata": {},
   "outputs": [],
   "source": [
    "prompt_template = \"\"\"\n",
    "You're a conservative father of young children who is not aware of how the modern gaming industry works, who is not up to date with the titles released on a daily basis.\n",
    "A father who needs to keep his child from not suitable games, including DEI games.\n",
    "DEI ideology, which enforces Diversity, equity, and inclusion (DEI) hurts creativity, and uses corporate propaganda to improve sales.\n",
    "Answer the QUESTION based on the CONTEXT from our exercises database.\n",
    "Use only the facts from the CONTEXT when answering the QUESTION.\n",
    "\n",
    "QUESTION: {question}\n",
    "\n",
    "CONTEXT:\n",
    "{context}\n",
    "\"\"\".strip()\n",
    "\n",
    "entry_template = \"\"\"\n",
    "title: {title}\n",
    "language: {language}\n",
    "review: {review}\n",
    "\"\"\".strip()\n",
    "\n",
    "def build_prompt(query, search_results):\n",
    "    context = \"\"\n",
    "    \n",
    "    for doc in search_results:\n",
    "        context = context + entry_template.format(**doc) + \"\\n\\n\"\n",
    "\n",
    "    prompt = prompt_template.format(question=query, context=context).strip()\n",
    "    return prompt"
   ]
  },
  {
   "cell_type": "code",
   "execution_count": 14,
   "id": "d353de10-e60e-4087-ac77-967db264ab5e",
   "metadata": {},
   "outputs": [],
   "source": [
    "def llm(prompt, model='gpt-4o-mini'):\n",
    "    response = client.chat.completions.create(\n",
    "        model=model,\n",
    "        messages=[{\"role\": \"user\", \"content\": prompt}]\n",
    "    )\n",
    "    \n",
    "    return response.choices[0].message.content"
   ]
  },
  {
   "cell_type": "code",
   "execution_count": 15,
   "id": "9c94b3a8-e5a2-46fb-9670-ffc4f8642cb8",
   "metadata": {},
   "outputs": [],
   "source": [
    "def rag(query, model='gpt-4o-mini'):\n",
    "    search_results = search(query)\n",
    "    prompt = build_prompt(query, search_results)\n",
    "    #print(prompt)\n",
    "    answer = llm(prompt, model=model)\n",
    "    return answer"
   ]
  },
  {
   "cell_type": "code",
   "execution_count": 16,
   "id": "42cc3da8-b904-41f7-902d-946a1fa37c45",
   "metadata": {},
   "outputs": [
    {
     "name": "stdout",
     "output_type": "stream",
     "text": [
      "Baldur's Gate 3 is not considered suitable for children. The game features complex themes, engaging narratives, and mature content, including elements characteristic of role-playing games (RPGs) that might not be appropriate for younger audiences. It’s designed for players who can appreciate intricate storytelling, character development, and strategic gameplay typical of Western CRPGs, which may not align with the interests or maturity levels of children. Therefore, as a parent, you might want to look for games that are specifically designed for younger players that offer age-appropriate content.\n"
     ]
    }
   ],
   "source": [
    "question = \"Is Baldur's Gate 3 a game for kids?\"\n",
    "answer = rag(question)\n",
    "print(answer)"
   ]
  },
  {
   "cell_type": "code",
   "execution_count": 17,
   "id": "7045cb05-5808-44aa-aa57-94e5c4bbaceb",
   "metadata": {},
   "outputs": [
    {
     "name": "stdout",
     "output_type": "stream",
     "text": [
      "Baldur's Gate 3 does incorporate elements that could be associated with diversity, equity, and inclusion (DEI) concepts, particularly through its character diversity and rich storytelling. However, the primary focus of the game appears to be on delivering a high-quality RPG experience that emphasizes player choice, exploration, and immersive storytelling.\n",
      "\n",
      "While some reviews highlight the variety of characters and the engaging narrative, there isn't a clear indication that the game is built around DEI ideology as a central theme or that it enforces corporate propaganda tied to these concepts. Instead, it seems to prioritize creativity and player engagement through a well-crafted blend of structured storytelling and sandbox gameplay.\n",
      "\n",
      "If your concern is mainly about keeping your child away from games that heavily focus on DEI themes, Baldur's Gate 3 seems more about traditional RPG mechanics and storytelling rather than being an overt representation of DEI ideology. Thus, it may not align strictly with the DEI focus you are wary of.\n"
     ]
    }
   ],
   "source": [
    "question = \"Is Baldur's Gate 3 a game following DEI concepts, namely diversity, equity and inclusion?\"\n",
    "answer = rag(question)\n",
    "print(answer)"
   ]
  },
  {
   "cell_type": "code",
   "execution_count": 18,
   "id": "670c15f8-321c-4b44-8349-ce9fa4d8e5ec",
   "metadata": {},
   "outputs": [
    {
     "name": "stdout",
     "output_type": "stream",
     "text": [
      "No, God of War Ragnarök is not suitable for kids. The game contains mature themes, a complex narrative, and elements that lean into 'woke' storytelling. The review comments suggest that certain plot lines and character decisions may feel forced and detract from the overall experience, which may not be appropriate for younger audiences. Overall, the game is designed for an older audience and involves violence, intense themes, and storytelling that may not align with the interests or maturity levels of children.\n"
     ]
    }
   ],
   "source": [
    "question = \"Is God of War Ragnarök a game for kids?\"\n",
    "answer = rag(question)\n",
    "print(answer)"
   ]
  },
  {
   "cell_type": "code",
   "execution_count": 19,
   "id": "054165ce-28ed-4f38-939c-40a54a59df4d",
   "metadata": {},
   "outputs": [
    {
     "name": "stdout",
     "output_type": "stream",
     "text": [
      "Based on the provided context, \"God of War Ragnarök\" does appear to incorporate elements associated with DEI concepts. The review mentions that the game has a \"woke tone\" and highlights that the developers collaborated with a company known for inclusive storytelling. Some players felt that certain plotlines and character decisions seemed forced, which detracted from the overall experience. This suggests that there are indeed aspects of the game that align with DEI ideology, potentially compromising the creative storytelling that is typically expected in such narrative-driven games. Therefore, it can be concluded that \"God of War Ragnarök\" follows DEI concepts to some degree.\n"
     ]
    }
   ],
   "source": [
    "question = \"Is God of War Ragnarök a game following DEI concepts, namely diversity, equity and inclusion?\"\n",
    "answer = rag(question)\n",
    "print(answer)"
   ]
  },
  {
   "cell_type": "code",
   "execution_count": 20,
   "id": "147362da-7e39-4aa5-a868-88a3e1e0b32f",
   "metadata": {},
   "outputs": [
    {
     "name": "stdout",
     "output_type": "stream",
     "text": [
      "Far Cry 6 is not suitable for kids. The game is part of the Far Cry franchise, known for its action-oriented gameplay, which includes shooting and looting mechanics. While the gameplay may be engaging, it typically involves violence, making it more appropriate for older players. Additionally, the reviews suggest that the storytelling and character interactions, which can be mature in nature, may not be designed with a younger audience in mind. Therefore, it would be wise to keep this game away from children.\n"
     ]
    }
   ],
   "source": [
    "question = \"Is Far Cry 6 a game for kids?\"\n",
    "answer = rag(question)\n",
    "print(answer)"
   ]
  },
  {
   "cell_type": "code",
   "execution_count": 21,
   "id": "e1134990-af84-40be-bcce-a6f690b223be",
   "metadata": {},
   "outputs": [
    {
     "name": "stdout",
     "output_type": "stream",
     "text": [
      "Based on the provided reviews of *Far Cry 6*, there is no direct mention of the game embracing DEI (Diversity, Equity, and Inclusion) concepts. The reviews primarily focus on gameplay mechanics, story immersion, and comparisons with previous titles in the *Far Cry* series. Many comments express that the game retains the classic *Far Cry* gameplay with some experimentation and improvements, but they do not highlight any specific adherence to DEI ideologies or practices.\n",
      "\n",
      "Overall, the consensus seems to indicate that *Far Cry 6* is more about continuing the established gameplay style and less about introducing new narratives or ideologies, including those related to DEI. As such, there is no clear indication that this game would be categorized as promoting DEI concepts.\n"
     ]
    }
   ],
   "source": [
    "question = \"Is Far Cry 6 a game following DEI concepts, namely diversity, equity and inclusion?\"\n",
    "answer = rag(question)\n",
    "print(answer)"
   ]
  },
  {
   "cell_type": "code",
   "execution_count": 22,
   "id": "fcbfb3ee-48f3-43d3-b14d-5c295119a421",
   "metadata": {},
   "outputs": [
    {
     "name": "stdout",
     "output_type": "stream",
     "text": [
      "Based on the available reviews for Watch Dogs: Legion, it does not appear to be a suitable game for children. The reviews suggest that the game tackles themes and gameplay that are more mature in nature, with comments about its complexity and lack of appeal compared to earlier titles in the series. Additionally, there is mention of the game's potential shortcomings, which may not align with a child's gaming experience.\n",
      "\n",
      "As a conservative father, it's essential to consider the overall themes and gameplay mechanics of a title like Watch Dogs: Legion, which may not provide the wholesome entertainment you might desire for your young children. It may be wiser to look for games that are specifically designed for younger audiences, ensuring age-appropriate content and values.\n"
     ]
    }
   ],
   "source": [
    "question = \"Is Watch Dogs: Legion a game for kids?\"\n",
    "answer = rag(question)\n",
    "print(answer)"
   ]
  },
  {
   "cell_type": "code",
   "execution_count": 23,
   "id": "77db5ed0-9dab-423b-a4df-f56184cb5fcd",
   "metadata": {},
   "outputs": [
    {
     "name": "stdout",
     "output_type": "stream",
     "text": [
      "Based on the context provided, \"Watch Dogs: Legion\" features a unique gameplay mechanic called \"Play as Anyone,\" which allows players to recruit and control any non-playable character (NPC) in the game, each with their own abilities and backstory. This mechanic introduces a variety of characters, encouraging players to explore diverse skill sets and strategies throughout their missions.\n",
      "\n",
      "While the game does showcase a range of character backgrounds—thereby promoting a sense of diversity—the reviews primarily focus on gameplay mechanics, creativity, and user experience rather than explicitly addressing diversity, equity, and inclusion (DEI) principles as corporate ideology. Thus, while it may reflect elements of diversity through its character options, whether it aligns with DEI concepts as ideological frameworks or propaganda isn't clearly laid out in the reviews.\n",
      "\n",
      "Therefore, it's reasonable to conclude that \"Watch Dogs: Legion\" incorporates diversity through its gameplay features but does not actively present a DEI agenda as part of its narrative or message.\n"
     ]
    }
   ],
   "source": [
    "question = \"Is Watch Dogs: Legion a game following DEI concepts, namely diversity, equity and inclusion?\"\n",
    "answer = rag(question)\n",
    "print(answer)"
   ]
  },
  {
   "cell_type": "code",
   "execution_count": 24,
   "id": "8de79bd3-dbe9-429b-babb-973f8bb09041",
   "metadata": {},
   "outputs": [
    {
     "name": "stdout",
     "output_type": "stream",
     "text": [
      "Based on the provided context, *Forspoken* may not be suitable for kids. While specific content ratings and triggers are not mentioned, reviews indicate that the game has elements like a \"reluctant hero\" whose character attributes may not resonate well with younger audiences. Additionally, the dialogue is described as \"campy\" and \"cringy,\" which might not align with the values you wish to promote for your children.\n",
      "\n",
      "Furthermore, while the reviews praise the gameplay mechanics, such as fun traversal and combat, they also suggest that the story may have darker themes or elements that could be better suited for older players. Since you are concerned about DEI ideologies and the impact of gaming content, it might be wise to explore other titles that have clearer family-friendly values and themes.\n"
     ]
    }
   ],
   "source": [
    "question = \"Is Forspoken a game for kids?\"\n",
    "answer = rag(question)\n",
    "print(answer)"
   ]
  },
  {
   "cell_type": "code",
   "execution_count": 25,
   "id": "4fb8fb85-6ee7-4723-9e6a-00cf747e01e0",
   "metadata": {},
   "outputs": [
    {
     "name": "stdout",
     "output_type": "stream",
     "text": [
      "Based on the provided context, there is no clear indication that \"Forspoken\" specifically follows DEI concepts, such as diversity, equity, and inclusion, or that it was created with a strong DEI ideology in mind. \n",
      "\n",
      "While the game features a mostly female cast and promotes a unique gameplay experience, the reviews primarily focus on aspects like gameplay mechanics, graphics, and personal enjoyment. The storytelling and character development are noted as areas of improvement or personal opinion. The reviews do not explicitly link the game to DEI principles, nor do they articulate that it is part of any corporate propaganda to enforce such ideologies.\n",
      "\n",
      "If you're concerned about games that promote DEI concepts, you might find it crucial to research titles based on their narratives and reviews to determine their suitability for your children. It's always good to consider the content and themes in any game before allowing your kids to play.\n"
     ]
    }
   ],
   "source": [
    "question = \"Is Forspoken a game following DEI concepts, namely diversity, equity and inclusion?\"\n",
    "answer = rag(question)\n",
    "print(answer)"
   ]
  },
  {
   "cell_type": "code",
   "execution_count": null,
   "id": "60255154-dc3b-4f22-b5c2-c66c193f368d",
   "metadata": {},
   "outputs": [],
   "source": []
  }
 ],
 "metadata": {
  "kernelspec": {
   "display_name": "Python 3 (ipykernel)",
   "language": "python",
   "name": "python3"
  },
  "language_info": {
   "codemirror_mode": {
    "name": "ipython",
    "version": 3
   },
   "file_extension": ".py",
   "mimetype": "text/x-python",
   "name": "python",
   "nbconvert_exporter": "python",
   "pygments_lexer": "ipython3",
   "version": "3.11.6"
  }
 },
 "nbformat": 4,
 "nbformat_minor": 5
}
