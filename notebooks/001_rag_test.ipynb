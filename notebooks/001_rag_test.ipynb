{
 "cells": [
  {
   "cell_type": "code",
   "execution_count": 1,
   "id": "531840c5-b86a-4df9-be75-80ed49eaea93",
   "metadata": {},
   "outputs": [
    {
     "data": {
      "text/plain": [
       "4"
      ]
     },
     "execution_count": 1,
     "metadata": {},
     "output_type": "execute_result"
    }
   ],
   "source": [
    "2+2"
   ]
  },
  {
   "cell_type": "code",
   "execution_count": 58,
   "id": "d77e5346-19bf-4816-97f1-0d31d8c483b9",
   "metadata": {},
   "outputs": [],
   "source": [
    "# https://partner.steamgames.com/doc/store/getreviews"
   ]
  },
  {
   "cell_type": "code",
   "execution_count": 2,
   "id": "e7a897e1-c3e3-4dff-ae93-fc3b3612e4b4",
   "metadata": {},
   "outputs": [],
   "source": [
    "import sys\n",
    "import os\n",
    "\n",
    "# Construct the path to the scripts directory\n",
    "script_path = os.path.abspath('../reviews-assistant/scripts')\n",
    "\n",
    "# Add the path to sys.path\n",
    "if script_path not in sys.path:\n",
    "    sys.path.append(script_path)\n",
    "\n",
    "# Now you can import minsearch.py\n",
    "import minsearch"
   ]
  },
  {
   "cell_type": "code",
   "execution_count": 3,
   "id": "37f10621-99c2-49cc-bd81-b4f2fdee4915",
   "metadata": {},
   "outputs": [
    {
     "name": "stdout",
     "output_type": "stream",
     "text": [
      "Reviews saved to baldurs_gate_reviews_20240922_183856.json\n"
     ]
    }
   ],
   "source": [
    "import requests\n",
    "import json\n",
    "import csv\n",
    "from datetime import datetime\n",
    "\n",
    "class SteamReviewFetcher:\n",
    "    def __init__(self, appid, filter=\"all\", language=\"english\", day_range=30, review_type=\"all\", purchase_type=\"all\"):\n",
    "        \"\"\"\n",
    "        Initializes the SteamReviewFetcher with the required parameters.\n",
    "\n",
    "        :param appid: Steam application ID for the game.\n",
    "        :param filter: Type of review filter.\n",
    "        :param language: Language of the reviews.\n",
    "        :param day_range: Number of days to consider for reviews.\n",
    "        :param review_type: Type of review (all or specific).\n",
    "        :param purchase_type: Type of purchase.\n",
    "        \"\"\"\n",
    "        self.base_url = \"https://store.steampowered.com/appreviews/\"\n",
    "        self.appid = appid\n",
    "        self.filter = filter\n",
    "        self.language = language\n",
    "        self.day_range = day_range\n",
    "        self.review_type = review_type\n",
    "        self.purchase_type = purchase_type\n",
    "\n",
    "    def _construct_url(self):\n",
    "        \"\"\"\n",
    "        Constructs the URL for the API request.\n",
    "\n",
    "        :return: Full URL for the API request.\n",
    "        \"\"\"\n",
    "        return f\"{self.base_url}{self.appid}?json=1\"\n",
    "\n",
    "    def _fetch_reviews(self, num_reviews):\n",
    "        \"\"\"\n",
    "        Fetches reviews from the Steam Store API.\n",
    "\n",
    "        :param num_reviews: Number of reviews to fetch.\n",
    "        :return: JSON response containing the reviews.\n",
    "        :raises: HTTPError if the API request fails.\n",
    "        \"\"\"\n",
    "        url = self._construct_url()\n",
    "        params = {\n",
    "            \"filter\": self.filter,\n",
    "            \"language\": self.language,\n",
    "            \"day_range\": self.day_range,\n",
    "            \"review_type\": self.review_type,\n",
    "            \"purchase_type\": self.purchase_type,\n",
    "            \"num_per_page\": num_reviews\n",
    "        }\n",
    "        response = requests.get(url, params=params)\n",
    "        response.raise_for_status()  # Raises an HTTPError for bad responses\n",
    "        return response.json()\n",
    "\n",
    "    def get_reviews(self, num_reviews=20, print_reviews=True):\n",
    "        \"\"\"\n",
    "        Retrieves and processes the reviews.\n",
    "\n",
    "        :param num_reviews: Number of reviews to fetch.\n",
    "        :param print_reviews: Whether to print the reviews (default is True).\n",
    "        :return: List of reviews.\n",
    "        \"\"\"\n",
    "        review_data = self._fetch_reviews(num_reviews)\n",
    "        reviews = review_data.get(\"reviews\", [])\n",
    "        \n",
    "        if print_reviews:\n",
    "            self.print_first_last_reviews(reviews)\n",
    "\n",
    "        return reviews\n",
    "\n",
    "    def print_first_last_reviews(self, reviews):\n",
    "        \"\"\"\n",
    "        Prints the first and last five reviews.\n",
    "\n",
    "        :param reviews: List of reviews to print.\n",
    "        \"\"\"\n",
    "        total_reviews = len(reviews)\n",
    "        if total_reviews == 0:\n",
    "            print(\"No reviews found.\")\n",
    "            return\n",
    "\n",
    "        print(\"\\nFirst 5 Reviews:\")\n",
    "        for review in reviews[:5]:\n",
    "            print(f\"Author: {review['author']['steamid']}\")\n",
    "            print(f\"Review: {review.get('review', 'No text')}\")\n",
    "            print(f\"Rating: {'Positive' if review['voted_up'] else 'Negative'}\")\n",
    "            print(f\"Timestamp: {review['timestamp_created']}\")\n",
    "            print(\"-\" * 79)\n",
    "\n",
    "        print(\"\\nLast 5 Reviews:\")\n",
    "        for review in reviews[-5:]:\n",
    "            print(f\"Author: {review['author']['steamid']}\")\n",
    "            print(f\"Review: {review.get('review', 'No text')}\")\n",
    "            print(f\"Rating: {'Positive' if review['voted_up'] else 'Negative'}\")\n",
    "            print(f\"Timestamp: {review['timestamp_created']}\")\n",
    "            print(\"-\" * 79)\n",
    "\n",
    "    def _extract_columns_to_save(self, reviews, columns):\n",
    "        \"\"\"\n",
    "        Extracts specific columns from the reviews for saving.\n",
    "\n",
    "        :param reviews: List of reviews to extract from.\n",
    "        :param columns: List of columns to extract.\n",
    "        :return: List of dictionaries containing the extracted data.\n",
    "        \"\"\"\n",
    "        extracted_reviews = []\n",
    "        for review in reviews:\n",
    "            review_dict = {}\n",
    "            for column in columns:\n",
    "                if column.split('.')[0] == 'author':\n",
    "                    nested_column = column.split('.')[1]\n",
    "                    review_dict[column] = review['author'].get(nested_column)\n",
    "                else:\n",
    "                    review_dict[column] = review.get(column)\n",
    "            extracted_reviews.append(review_dict)\n",
    "        return extracted_reviews\n",
    "\n",
    "    def save_reviews(self, reviews, filename, format, columns=None):\n",
    "        \"\"\"\n",
    "        Saves the reviews to a file in the specified format.\n",
    "\n",
    "        :param reviews: List of reviews to save.\n",
    "        :param filename: Name of the file to save the reviews to.\n",
    "        :param format: Format to save the reviews ('csv' or 'json').\n",
    "        :param columns: Optional list of columns to save (used in JSON).\n",
    "        \"\"\"\n",
    "        if not reviews:\n",
    "            print(\"No reviews to save.\")\n",
    "            return\n",
    "\n",
    "        if format == \"csv\":\n",
    "            keys = ['steamid', 'review', 'voted_up', 'timestamp_created']\n",
    "            with open(filename, 'w', newline='', encoding='utf-8') as csvfile:\n",
    "                writer = csv.writer(csvfile)\n",
    "                writer.writerow(keys)  # Write the header\n",
    "                for review in reviews:\n",
    "                    row = [\n",
    "                        review['author']['steamid'],\n",
    "                        review.get('review', 'No text'),\n",
    "                        'Positive' if review['voted_up'] else 'Negative',\n",
    "                        review['timestamp_created']\n",
    "                    ]\n",
    "                    writer.writerow(row)\n",
    "            print(f\"Reviews saved to {filename}\")\n",
    "        elif format == \"json\":\n",
    "            extracted_reviews = self._extract_columns_to_save(reviews, columns)\n",
    "            with open(filename, 'w', encoding='utf-8') as jsonfile:\n",
    "                json.dump(extracted_reviews, jsonfile, indent=4)\n",
    "                print(f\"Reviews saved to {filename}\")\n",
    "        else:\n",
    "            print(\"Invalid format. Please specify 'csv' or 'json'.\")\n",
    "\n",
    "    def save_reviews_as_json_with_columns(self, reviews, columns=None):\n",
    "        \"\"\"\n",
    "        Saves the reviews as a JSON file with specified columns.\n",
    "\n",
    "        :param reviews: List of reviews to save.\n",
    "        :param columns: Optional list of columns to extract and save.\n",
    "        \"\"\"\n",
    "        if not reviews:\n",
    "            print(\"No reviews to save.\")\n",
    "            return\n",
    "        \n",
    "        timestamp = datetime.now().strftime(\"%Y%m%d_%H%M%S\")\n",
    "        filename = f\"baldurs_gate_reviews_{timestamp}.json\"\n",
    "        \n",
    "        extracted_reviews = self._extract_columns_to_save(reviews, columns)\n",
    "        with open(filename, 'w', encoding='utf-8') as jsonfile:\n",
    "            json.dump(extracted_reviews, jsonfile, indent=4)\n",
    "        print(f\"Reviews saved to {filename}\")\n",
    "\n",
    "\n",
    "# Example usage\n",
    "if __name__ == \"__main__\":\n",
    "    appid = \"1086940\"  # Baldur's Gate 3\n",
    "    review_fetcher = SteamReviewFetcher(appid)\n",
    "\n",
    "    num_reviews = 50  # Specify the number of reviews to fetch\n",
    "    print_reviews_flag = False  # Set to False to turn off printing reviews\n",
    "    columns = [\"recommendationid\", \"author.steamid\", \"author.playtimeforever\", \"author.playtime_last_two_weeks\", \"author.playtime_at_review\", \"author.last_played\", \"language\", \"review\", \"timestamp_created\", \"timestamp_updated\"]  # Specify the columns to save\n",
    "\n",
    "    reviews = review_fetcher.get_reviews(num_reviews, print_reviews=print_reviews_flag)\n",
    "\n",
    "    # Save reviews to file\n",
    "    review_fetcher.save_reviews_as_json_with_columns(reviews, columns)\n"
   ]
  },
  {
   "cell_type": "code",
   "execution_count": 42,
   "id": "e3924e93-8495-4b7f-bb3c-d1ad257be307",
   "metadata": {},
   "outputs": [
    {
     "name": "stdout",
     "output_type": "stream",
     "text": [
      "Reviews saved to god_of_war_ragnarok_reviews_20240922_190601.json\n"
     ]
    }
   ],
   "source": [
    "import requests\n",
    "import json\n",
    "import csv\n",
    "from datetime import datetime\n",
    "\n",
    "class SteamReviewFetcher:\n",
    "    def __init__(self, appid, filter=\"all\", language=\"english\", day_range=30, review_type=\"all\", purchase_type=\"all\"):\n",
    "        \"\"\"\n",
    "        Initializes the SteamReviewFetcher with the required parameters.\n",
    "\n",
    "        :param appid: Steam application ID for the game.\n",
    "        :param filter: Type of review filter.\n",
    "        :param language: Language of the reviews.\n",
    "        :param day_range: Number of days to consider for reviews.\n",
    "        :param review_type: Type of review (all or specific).\n",
    "        :param purchase_type: Type of purchase.\n",
    "        \"\"\"\n",
    "        self.base_url = \"https://store.steampowered.com/appreviews/\"\n",
    "        self.appid = appid\n",
    "        self.filter = filter\n",
    "        self.language = language\n",
    "        self.day_range = day_range\n",
    "        self.review_type = review_type\n",
    "        self.purchase_type = purchase_type\n",
    "\n",
    "    def _construct_url(self):\n",
    "        \"\"\"\n",
    "        Constructs the URL for the API request.\n",
    "\n",
    "        :return: Full URL for the API request.\n",
    "        \"\"\"\n",
    "        return f\"{self.base_url}{self.appid}?json=1\"\n",
    "\n",
    "    def _fetch_reviews(self, num_reviews):\n",
    "        \"\"\"\n",
    "        Fetches reviews from the Steam Store API.\n",
    "\n",
    "        :param num_reviews: Number of reviews to fetch.\n",
    "        :return: JSON response containing the reviews.\n",
    "        :raises: HTTPError if the API request fails.\n",
    "        \"\"\"\n",
    "        url = self._construct_url()\n",
    "        params = {\n",
    "            \"filter\": self.filter,\n",
    "            \"language\": self.language,\n",
    "            \"day_range\": self.day_range,\n",
    "            \"review_type\": self.review_type,\n",
    "            \"purchase_type\": self.purchase_type,\n",
    "            \"num_per_page\": num_reviews\n",
    "        }\n",
    "        response = requests.get(url, params=params)\n",
    "        response.raise_for_status()  # Raises an HTTPError for bad responses\n",
    "        return response.json()\n",
    "\n",
    "    def get_reviews(self, num_reviews=20, print_reviews=True):\n",
    "        \"\"\"\n",
    "        Retrieves and processes the reviews.\n",
    "\n",
    "        :param num_reviews: Number of reviews to fetch.\n",
    "        :param print_reviews: Whether to print the reviews (default is True).\n",
    "        :return: List of reviews.\n",
    "        \"\"\"\n",
    "        review_data = self._fetch_reviews(num_reviews)\n",
    "        reviews = review_data.get(\"reviews\", [])\n",
    "        \n",
    "        if print_reviews:\n",
    "            self.print_first_last_reviews(reviews)\n",
    "\n",
    "        return reviews\n",
    "\n",
    "    def print_first_last_reviews(self, reviews):\n",
    "        \"\"\"\n",
    "        Prints the first and last five reviews.\n",
    "\n",
    "        :param reviews: List of reviews to print.\n",
    "        \"\"\"\n",
    "        total_reviews = len(reviews)\n",
    "        if total_reviews == 0:\n",
    "            print(\"No reviews found.\")\n",
    "            return\n",
    "\n",
    "        print(\"\\nFirst 5 Reviews:\")\n",
    "        for review in reviews[:5]:\n",
    "            print(f\"Author: {review['author']['steamid']}\")\n",
    "            print(f\"Review: {review.get('review', 'No text')}\")\n",
    "            print(f\"Rating: {'Positive' if review['voted_up'] else 'Negative'}\")\n",
    "            print(f\"Timestamp: {review['timestamp_created']}\")\n",
    "            print(\"-\" * 79)\n",
    "\n",
    "        print(\"\\nLast 5 Reviews:\")\n",
    "        for review in reviews[-5:]:\n",
    "            print(f\"Author: {review['author']['steamid']}\")\n",
    "            print(f\"Review: {review.get('review', 'No text')}\")\n",
    "            print(f\"Rating: {'Positive' if review['voted_up'] else 'Negative'}\")\n",
    "            print(f\"Timestamp: {review['timestamp_created']}\")\n",
    "            print(\"-\" * 79)\n",
    "\n",
    "    def _extract_columns_to_save(self, reviews, columns):\n",
    "        \"\"\"\n",
    "        Extracts specific columns from the reviews for saving.\n",
    "\n",
    "        :param reviews: List of reviews to extract from.\n",
    "        :param columns: List of columns to extract.\n",
    "        :return: List of dictionaries containing the extracted data.\n",
    "        \"\"\"\n",
    "        extracted_reviews = []\n",
    "        for review in reviews:\n",
    "            review_dict = {}\n",
    "            for column in columns:\n",
    "                if column.split('.')[0] == 'author':\n",
    "                    nested_column = column.split('.')[1]\n",
    "                    review_dict[column] = review['author'].get(nested_column)\n",
    "                else:\n",
    "                    review_dict[column] = review.get(column)\n",
    "            extracted_reviews.append(review_dict)\n",
    "        return extracted_reviews\n",
    "\n",
    "    def save_reviews(self, reviews, filename, format, columns=None):\n",
    "        \"\"\"\n",
    "        Saves the reviews to a file in the specified format.\n",
    "\n",
    "        :param reviews: List of reviews to save.\n",
    "        :param filename: Name of the file to save the reviews to.\n",
    "        :param format: Format to save the reviews ('csv' or 'json').\n",
    "        :param columns: Optional list of columns to save (used in JSON).\n",
    "        \"\"\"\n",
    "        if not reviews:\n",
    "            print(\"No reviews to save.\")\n",
    "            return\n",
    "\n",
    "        if format == \"csv\":\n",
    "            keys = ['steamid', 'review', 'voted_up', 'timestamp_created']\n",
    "            with open(filename, 'w', newline='', encoding='utf-8') as csvfile:\n",
    "                writer = csv.writer(csvfile)\n",
    "                writer.writerow(keys)  # Write the header\n",
    "                for review in reviews:\n",
    "                    row = [\n",
    "                        review['author']['steamid'],\n",
    "                        review.get('review', 'No text'),\n",
    "                        'Positive' if review['voted_up'] else 'Negative',\n",
    "                        review['timestamp_created']\n",
    "                    ]\n",
    "                    writer.writerow(row)\n",
    "            print(f\"Reviews saved to {filename}\")\n",
    "        elif format == \"json\":\n",
    "            extracted_reviews = self._extract_columns_to_save(reviews, columns)\n",
    "            with open(filename, 'w', encoding='utf-8') as jsonfile:\n",
    "                json.dump(extracted_reviews, jsonfile, indent=4)\n",
    "                print(f\"Reviews saved to {filename}\")\n",
    "        else:\n",
    "            print(\"Invalid format. Please specify 'csv' or 'json'.\")\n",
    "\n",
    "    def save_reviews_as_json_with_columns(self, reviews, columns=None):\n",
    "        \"\"\"\n",
    "        Saves the reviews as a JSON file with specified columns.\n",
    "\n",
    "        :param reviews: List of reviews to save.\n",
    "        :param columns: Optional list of columns to extract and save.\n",
    "        \"\"\"\n",
    "        if not reviews:\n",
    "            print(\"No reviews to save.\")\n",
    "            return\n",
    "        \n",
    "        timestamp = datetime.now().strftime(\"%Y%m%d_%H%M%S\")\n",
    "        filename = f\"god_of_war_ragnarok_reviews_{timestamp}.json\"\n",
    "        \n",
    "        extracted_reviews = self._extract_columns_to_save(reviews, columns)\n",
    "        with open(filename, 'w', encoding='utf-8') as jsonfile:\n",
    "            json.dump(extracted_reviews, jsonfile, indent=4)\n",
    "        print(f\"Reviews saved to {filename}\")\n",
    "\n",
    "\n",
    "# Example usage\n",
    "if __name__ == \"__main__\":\n",
    "    appid = \"2322010\"  # God of War Ragnarök\n",
    "    review_fetcher = SteamReviewFetcher(appid)\n",
    "\n",
    "    num_reviews = 2000  # Specify the number of reviews to fetch\n",
    "    print_reviews_flag = False  # Set to False to turn off printing reviews\n",
    "    columns = [\"recommendationid\", \"author.steamid\", \"author.playtimeforever\", \"author.playtime_last_two_weeks\", \"author.playtime_at_review\", \"author.last_played\", \"language\", \"review\", \"timestamp_created\", \"timestamp_updated\"]  # Specify the columns to save\n",
    "\n",
    "    reviews = review_fetcher.get_reviews(num_reviews, print_reviews=print_reviews_flag)\n",
    "\n",
    "    # Save reviews to file\n",
    "    review_fetcher.save_reviews_as_json_with_columns(reviews, columns)\n"
   ]
  },
  {
   "cell_type": "markdown",
   "id": "a14d8b5c-e4d1-43e9-851d-ef82b93da69c",
   "metadata": {},
   "source": [
    "# Ingestion"
   ]
  },
  {
   "cell_type": "code",
   "execution_count": 43,
   "id": "e235dfa9-d233-4e76-8e15-77517c5bcac5",
   "metadata": {},
   "outputs": [
    {
     "name": "stdout",
     "output_type": "stream",
     "text": [
      "001_test.ipynb\n",
      "baldurs_gate_reviews.json\n",
      "baldurs_gate_reviews_20240922_181423.json\n",
      "baldurs_gate_reviews_20240922_182037.json\n",
      "baldurs_gate_reviews_20240922_183445.json\n",
      "baldurs_gate_reviews_20240922_183856.json\n",
      "god_of_war_ragnarok_reviews_20240922_190345.json\n",
      "god_of_war_ragnarok_reviews_20240922_190601.json\n"
     ]
    }
   ],
   "source": [
    "!ls"
   ]
  },
  {
   "cell_type": "code",
   "execution_count": 44,
   "id": "e3c8bea9-af67-4927-b8ad-90b440472b91",
   "metadata": {},
   "outputs": [],
   "source": [
    "# Specify the filename\n",
    "filename = \"baldurs_gate_reviews_20240922_182037.json\"\n",
    "filename2 = \"god_of_war_ragnarok_reviews_20240922_190601.json\"\n",
    "\n",
    "# Read the JSON file\n",
    "# with open(filename, 'r', encoding='utf-8') as jsonfile:\n",
    "with open(filename2, 'r', encoding='utf-8') as jsonfile:\n",
    "    reviews = json.load(jsonfile)"
   ]
  },
  {
   "cell_type": "code",
   "execution_count": 45,
   "id": "e9a8f02f-8e37-4469-98fb-177bbcc48d19",
   "metadata": {},
   "outputs": [
    {
     "name": "stdout",
     "output_type": "stream",
     "text": [
      "Author ID: 76561198354466742\n",
      "Review: to God of War: Ragnarok Dev. Team,\n",
      "\n",
      "I’m writing to bring to your attention an issue regarding the current PC port of God of War: Ragnarok that affects users with 4GB VRAM graphics cards. When attempting to launch the game on such systems, an error message is displayed, indicating that there is not enough VRAM, and the game closes without allowing users to proceed. It is my humble request to kindly reconsider or remove this VRAM limitation. From personal experience and community feedback, I can confirm that the game runs well on certain integrated graphics processors (such as the Ryzen 3 3200G, Ryzen 5 3400G, and Ryzen 7 5700G), which are generally weaker than many 4GB VRAM GPUs available today. God of War: Ragnarok performs on the base PlayStation 4, which further suggests that the game should be capable of running on 4GB VRAM graphics cards, and the latest Steam Hardware Survey shows that one of the most widely used graphics cards among gamers is the GTX 1650, which comes with 4GB of VRAM and is ranked within the top three most popular cards. Limiting access to such a significant portion of the player base can potentially prevent many from enjoying your incredible game. Removing or adjusting this VRAM limitation would greatly benefit the gaming community, ensuring that a larger audience can experience God of War: Ragnarok on PC!\n",
      "\n",
      "EDIT : there’s a workaround and you can bypass this VRAM limit error by using a mod. ( MOD LINK : https://www.nexusmods.com/godofwarragnarok/mods/12?tab=files ) To install it, just drag and drop the files into the game's root folder, and the game should launch without any issues. It's unclear why Jetpack Interactive locked out 4GB VRAM cards, especially since the game runs just fine on them!\n",
      "Timestamp Created: 1726803482\n",
      "-------------------------------------------------------------------------------\n",
      "Author ID: 76561197964798094\n",
      "Review: Played it on PS4pro, which almost melted every time I played it in 30FPS.\n",
      "Played it on PS5, which made me chose between 30FPS fidelity and 60FPS 2k blurfest*.\n",
      "Playing it on PC right now, looks twice as good, 4k, everything ultra, full DLAA, still 60-90 FPS. \n",
      "Now I'm happy.\n",
      "Thank you, SONY\n",
      "NOW\n",
      "GIVE\n",
      "ME\n",
      "BLOODBORNE\n",
      "ON\n",
      "PC\n",
      "\n",
      "Pretty please\n",
      "\n",
      "*OK, have to clarify since I got a ton of angry comments below the review. \n",
      "(Oh boy, that will teach me not to tick the \"allow comments\" ever again.)\n",
      "PS5 1440p mode looks fine on my TV and it looks fine on my 2k monitor. 1440p does NOT look fine on a monitor with a native 5120x2880 resolution, which is my primary.\n",
      "\n",
      "Regarding PSN:\n",
      "Complaints come from people with a steam account, a paypal account, an apple or Samsung phone, and 5 different social media accounts. All of your online behaviour is tracked anyways. Deal with it and adapt. In case you need to snort coca**n out of a lad*b**s b*ttcr**ck, use VPN and always pay cash.\n",
      "Update: Nexusmod got a 1.6MB file that gets rid of PSN completely.\n",
      "Timestamp Created: 1726962103\n",
      "-------------------------------------------------------------------------------\n"
     ]
    }
   ],
   "source": [
    "# Print the reviews\n",
    "i=2\n",
    "for review in reviews[:i]:\n",
    "    print(f\"Author ID: {review['author.steamid']}\")\n",
    "    print(f\"Review: {review.get('review', 'No text')}\")\n",
    "    print(f\"Timestamp Created: {review['timestamp_created']}\")\n",
    "    print(\"-\" * 79)"
   ]
  },
  {
   "cell_type": "code",
   "execution_count": 46,
   "id": "0aa442cd-9eb8-442d-94fb-d0da13512c23",
   "metadata": {},
   "outputs": [],
   "source": [
    "index = minsearch.Index(\n",
    "    # text_fields=[\"author.steamid\", \"author.playtimeforever\", \"author.playtime_last_two_weeks\", \"author.playtime_at_review\", \"author.last_played\", \"language\", \"review\", \"timestamp_created\", \"timestamp_updated\"],\n",
    "    text_fields=[\"language\", \"review\"],\n",
    "    keyword_fields=[\"recommendationid\"]\n",
    ")"
   ]
  },
  {
   "cell_type": "code",
   "execution_count": 47,
   "id": "3440d6c9-aa9e-4827-b97c-5d9bd88a2145",
   "metadata": {},
   "outputs": [
    {
     "data": {
      "text/plain": [
       "<minsearch.Index at 0x7fe530cb0f10>"
      ]
     },
     "execution_count": 47,
     "metadata": {},
     "output_type": "execute_result"
    }
   ],
   "source": [
    "index.fit(reviews)"
   ]
  },
  {
   "cell_type": "markdown",
   "id": "2706611d-c083-4d49-a5a3-36de2feec0a0",
   "metadata": {},
   "source": [
    "# RAG flow"
   ]
  },
  {
   "cell_type": "code",
   "execution_count": 48,
   "id": "91e2291e-65ca-4644-8edb-eebe872a61a6",
   "metadata": {},
   "outputs": [],
   "source": [
    "# print(os.environ['OPENAI_API_KEY'])"
   ]
  },
  {
   "cell_type": "code",
   "execution_count": 49,
   "id": "420d1cee-257c-4e2d-a2ec-4f08b279aa4b",
   "metadata": {},
   "outputs": [],
   "source": [
    "from openai import OpenAI\n",
    "\n",
    "client = OpenAI(\n",
    "  api_key=os.environ['OPENAI_API_KEY'],  # this is also the default, it can be omitted\n",
    ")\n"
   ]
  },
  {
   "cell_type": "code",
   "execution_count": 50,
   "id": "61c134ff-9098-4f3d-8097-d00f1faa7cd5",
   "metadata": {},
   "outputs": [],
   "source": [
    "def search(query):\n",
    "    boost = {}\n",
    "\n",
    "    results = index.search(\n",
    "        query=query,\n",
    "        filter_dict={},\n",
    "        boost_dict=boost,\n",
    "        num_results=10\n",
    "    )\n",
    "\n",
    "    return results"
   ]
  },
  {
   "cell_type": "code",
   "execution_count": 51,
   "id": "f2275ac7-b1d5-42a5-8a59-32c1777abc5f",
   "metadata": {},
   "outputs": [],
   "source": [
    "prompt_template = \"\"\"\n",
    "You're a conservative father of little children who is not aware of how the gaming industry works, who is not up to date with what titles are released on daily basis. Answer the QUESTION based on the CONTEXT from our exercises database.\n",
    "Use only the facts from the CONTEXT when answering the QUESTION.\n",
    "\n",
    "QUESTION: {question}\n",
    "\n",
    "CONTEXT:\n",
    "{context}\n",
    "\"\"\".strip()\n",
    "\n",
    "entry_template = \"\"\"\n",
    "language: {language}\n",
    "review: {review}\n",
    "\"\"\".strip()\n",
    "\n",
    "def build_prompt(query, search_results):\n",
    "    context = \"\"\n",
    "    \n",
    "    for doc in search_results:\n",
    "        context = context + entry_template.format(**doc) + \"\\n\\n\"\n",
    "\n",
    "    prompt = prompt_template.format(question=query, context=context).strip()\n",
    "    return prompt"
   ]
  },
  {
   "cell_type": "code",
   "execution_count": 52,
   "id": "d353de10-e60e-4087-ac77-967db264ab5e",
   "metadata": {},
   "outputs": [],
   "source": [
    "def llm(prompt, model='gpt-4o-mini'):\n",
    "    response = client.chat.completions.create(\n",
    "        model=model,\n",
    "        messages=[{\"role\": \"user\", \"content\": prompt}]\n",
    "    )\n",
    "    \n",
    "    return response.choices[0].message.content"
   ]
  },
  {
   "cell_type": "code",
   "execution_count": 53,
   "id": "9c94b3a8-e5a2-46fb-9670-ffc4f8642cb8",
   "metadata": {},
   "outputs": [],
   "source": [
    "def rag(query, model='gpt-4o-mini'):\n",
    "    search_results = search(query)\n",
    "    prompt = build_prompt(query, search_results)\n",
    "    #print(prompt)\n",
    "    answer = llm(prompt, model=model)\n",
    "    return answer"
   ]
  },
  {
   "cell_type": "code",
   "execution_count": 54,
   "id": "42cc3da8-b904-41f7-902d-946a1fa37c45",
   "metadata": {},
   "outputs": [
    {
     "name": "stdout",
     "output_type": "stream",
     "text": [
      "Baldur's Gate 3 is not a game for kids. Based on the audience designation in the context, it is intended for teens and adults.\n"
     ]
    }
   ],
   "source": [
    "question = \"Is Baldur's Gate 3 a game for kids?\"\n",
    "answer = rag(question)\n",
    "print(answer)"
   ]
  },
  {
   "cell_type": "code",
   "execution_count": 55,
   "id": "7045cb05-5808-44aa-aa57-94e5c4bbaceb",
   "metadata": {},
   "outputs": [
    {
     "name": "stdout",
     "output_type": "stream",
     "text": [
      "Based on the context provided, there is no specific mention of Baldur's Gate 3 or any discussion surrounding diversity, equity, and inclusion (DEI) concepts in regard to this game. Therefore, I cannot confirm whether Baldur's Gate 3 follows DEI concepts as there is simply no information available about the game in the provided reviews.\n"
     ]
    }
   ],
   "source": [
    "question = \"Is Baldur's Gate 3 a game following DEI concepts, namely diversity, equity and inclusion?\"\n",
    "answer = rag(question)\n",
    "print(answer)"
   ]
  },
  {
   "cell_type": "code",
   "execution_count": 56,
   "id": "670c15f8-321c-4b44-8349-ce9fa4d8e5ec",
   "metadata": {},
   "outputs": [
    {
     "name": "stdout",
     "output_type": "stream",
     "text": [
      "God of War Ragnarök is not a game geared toward children. It is part of a series known for its mature themes, complex narratives, and intense combat. The game involves exploring mythology, dealing with serious plotlines, and contains elements that may not be suitable for younger audiences. Additionally, there are mentions of \"woke\" influences and narrative complexities, which further indicate that it is targeted at a more mature audience. Therefore, as a conservative father, you may want to consider this before allowing your little children to play it.\n"
     ]
    }
   ],
   "source": [
    "question = \"Is God of War Ragnarök a game for kids?\"\n",
    "answer = rag(question)\n",
    "print(answer)"
   ]
  },
  {
   "cell_type": "code",
   "execution_count": 57,
   "id": "054165ce-28ed-4f38-939c-40a54a59df4d",
   "metadata": {},
   "outputs": [
    {
     "name": "stdout",
     "output_type": "stream",
     "text": [
      "Yes, God of War Ragnarök does follow DEI concepts, specifically regarding diversity, equity, and inclusion. This is evident through the game’s collaboration with Sweet Baby Inc., a company known for its focus on inclusive storytelling. However, some reviews mention that elements of the story and character decisions feel forced, which some players perceive as a \"woke influence.\" This sentiment indicates that while the game aims to incorporate DEI concepts, it has sparked mixed reactions among players regarding the execution.\n"
     ]
    }
   ],
   "source": [
    "question = \"Is God of War Ragnarök a game following DEI concepts, namely diversity, equity and inclusion?\"\n",
    "answer = rag(question)\n",
    "print(answer)"
   ]
  },
  {
   "cell_type": "code",
   "execution_count": null,
   "id": "4362cb85-f1f5-4398-8337-9abaf6e5b338",
   "metadata": {},
   "outputs": [],
   "source": []
  }
 ],
 "metadata": {
  "kernelspec": {
   "display_name": "Python 3 (ipykernel)",
   "language": "python",
   "name": "python3"
  },
  "language_info": {
   "codemirror_mode": {
    "name": "ipython",
    "version": 3
   },
   "file_extension": ".py",
   "mimetype": "text/x-python",
   "name": "python",
   "nbconvert_exporter": "python",
   "pygments_lexer": "ipython3",
   "version": "3.10.12"
  }
 },
 "nbformat": 4,
 "nbformat_minor": 5
}
