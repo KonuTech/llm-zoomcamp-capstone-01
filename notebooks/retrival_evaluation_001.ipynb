{
 "cells": [
  {
   "cell_type": "code",
   "execution_count": 1,
   "id": "531840c5-b86a-4df9-be75-80ed49eaea93",
   "metadata": {},
   "outputs": [
    {
     "data": {
      "text/plain": [
       "4"
      ]
     },
     "execution_count": 1,
     "metadata": {},
     "output_type": "execute_result"
    }
   ],
   "source": [
    "2+2"
   ]
  },
  {
   "cell_type": "code",
   "execution_count": 2,
   "id": "d77e5346-19bf-4816-97f1-0d31d8c483b9",
   "metadata": {},
   "outputs": [],
   "source": [
    "# https://partner.steamgames.com/doc/store/getreviews"
   ]
  },
  {
   "cell_type": "code",
   "execution_count": 3,
   "id": "d4e72001-362c-47eb-b34a-6d5b0db99bb5",
   "metadata": {},
   "outputs": [],
   "source": [
    "import sys\n",
    "import os\n",
    "import json"
   ]
  },
  {
   "cell_type": "code",
   "execution_count": 4,
   "id": "03fd0065-f797-46a5-a58c-2784635a2507",
   "metadata": {},
   "outputs": [],
   "source": [
    "# Construct the path to the scripts directory\n",
    "script_path = os.path.abspath('../reviews-assistant/scripts')\n",
    "\n",
    "# Add the path to sys.path\n",
    "if script_path not in sys.path:\n",
    "    sys.path.append(script_path)\n",
    "\n",
    "import minsearch"
   ]
  },
  {
   "cell_type": "code",
   "execution_count": 5,
   "id": "20fdd822-04be-44b9-9449-31298909f57e",
   "metadata": {},
   "outputs": [
    {
     "name": "stdout",
     "output_type": "stream",
     "text": [
      "Author ID: 76561199211892974\n",
      "Review: ⠀⠀⠀⠀⠀⠀⠀⠀⠀\n",
      "[h2] Pros & Cons [/h2]\n",
      "[hr]\n",
      "[/hr]\n",
      "✅ Pros:\n",
      "[list]\n",
      "  [*]Beautifully crafted world with great visuals.\n",
      "  [*]Entertaining quests.\n",
      "  [*]Good amount of personalization.\n",
      "  [*]Variety of things to do.\n",
      "  [*]Great setting.\n",
      "[/list]\n",
      "\n",
      "❌ Cons:\n",
      "[list]\n",
      "  [*]Yet another Ubisoft game with fillers above fillers. Quantity > Quality.\n",
      "  [*]The game overall is too longs. With such an amount of things to do, it is easy to get distracted. It is a personal view as someone might find this as a positive, but after so many hours I just lost interest to move forward.\n",
      "  [*]The combats is getting repetitive after a while. The skill tree even if it is big, lacks skills that will impact the combat.\n",
      "  [*]The base building although interesting in the beginning, does not bring much value to your characters. It is an add-on that after a while you might forget it even exist.\n",
      "[/list]\n",
      "\n",
      "[h2] Verdict[/h2]\n",
      "[hr]\n",
      "[/hr]\n",
      "Even though I recommend this game, it is easy to notice the amount of cons comparing to pros. I think that Ubisoft with it know-how on world building could do some amazing stuff, but almost every game it puts the quantity value above quality. I would love to see the % of people that actually finish their games. Assassin's Creed Valhalla, as well as most Ubisoft games are good if you buy them on a ~ 50% discount. Then their games are worth it and you will have a good time knowing that those hours you put into their games did not cost you any absurd amount of money, just absurd amount of time before putting it on a \"unfinished\" shelve.\n",
      "\n",
      "\n",
      "🔲 Avoid⠀⠀⠀⠀✅ Wait for a discount⠀⠀⠀⠀🔲 Buy it now\n",
      "⠀⠀⠀⠀⠀⠀⠀⠀⠀\n",
      "Timestamp Created: 1725112260\n",
      "-------------------------------------------------------------------------------\n",
      "Author ID: 76561198850003274\n",
      "Review: Coming from a lifelong fan of the Assassin's Creed games, I have to say that AC Valhalla is quite a different direction that the franchise has taken. But is that really a bad thing?\n",
      "\n",
      "Veering off the long-beaten path, Valhalla presents an absolutely massive open-world map with breathtaking landscapes, and even additional realms of travel beyond the base-game's area (various trips to additional nations, locations, etc). This is quite a stark change from the founding games, and one that has been progressively added to since AC Origins. Another stark difference of Valhalla is the divorce between the traditional combat and stealth we've always known. No longer are the days where stealth is a requirement for an Assassin's Creed game. Now, you are a brute of a viking with a big, heavy ax, and subtlety is not exactly your strong suit. \n",
      "\n",
      "These two major changes were enough to scare off many AC traditionalist, but to put it frankly? The tradition AC format was getting old. How many times can you creep through a building and stalk rooftops to pounce on some dude until you get bored. For me, it was 15 years. I, for one, love the chance that has been made (so far) and look forward to the new face of the Assassin's Creed. Lets hope they don't f*** it up.\n",
      "Timestamp Created: 1725252901\n",
      "-------------------------------------------------------------------------------\n"
     ]
    }
   ],
   "source": [
    "# Directory containing the data files\n",
    "data_dir = os.path.abspath('../reviews-assistant/data/reviews')\n",
    "\n",
    "# Initialize an empty list to hold all reviews\n",
    "reviews = []\n",
    "\n",
    "# List objects in the directory\n",
    "objects_in_directory = os.listdir(data_dir)\n",
    "\n",
    "# Iterate over the files in the directory\n",
    "for obj in objects_in_directory:\n",
    "    if obj.endswith('.json'):  # Check if the file is a JSON file\n",
    "        file_path = os.path.join(data_dir, obj)\n",
    "        with open(file_path, 'r', encoding='utf-8') as jsonfile:\n",
    "            # Load the reviews from the JSON file\n",
    "            file_reviews = json.load(jsonfile)\n",
    "            reviews.extend(file_reviews)  # Append reviews to the main list\n",
    "# Print the first i reviews\n",
    "i = 2  # Change this to print more reviews if needed\n",
    "for review in reviews[:i]:\n",
    "    print(f\"Author ID: {review['author.steamid']}\")\n",
    "    print(f\"Review: {review.get('review', 'No text')}\")\n",
    "    print(f\"Timestamp Created: {review['timestamp_created']}\")\n",
    "    print(\"-\" * 79)"
   ]
  },
  {
   "cell_type": "code",
   "execution_count": 6,
   "id": "824dc330-a24a-47d6-a6eb-95f3cbce7ec3",
   "metadata": {},
   "outputs": [
    {
     "data": {
      "text/plain": [
       "773"
      ]
     },
     "execution_count": 6,
     "metadata": {},
     "output_type": "execute_result"
    }
   ],
   "source": [
    "len(reviews)"
   ]
  },
  {
   "cell_type": "code",
   "execution_count": 7,
   "id": "70b12f5a-e1b4-43e6-bfd0-17512029a996",
   "metadata": {},
   "outputs": [
    {
     "data": {
      "text/plain": [
       "<minsearch.Index at 0x7fc8fc435420>"
      ]
     },
     "execution_count": 7,
     "metadata": {},
     "output_type": "execute_result"
    }
   ],
   "source": [
    "index = minsearch.Index(\n",
    "    # text_fields=[\"author.steamid\", \"author.playtimeforever\", \"author.playtime_last_two_weeks\", \"author.playtime_at_review\", \"author.last_played\", \"language\", \"review\", \"timestamp_created\", \"timestamp_updated\"],\n",
    "    text_fields=[\"title\", \"language\", \"review\"],\n",
    "    keyword_fields=[\"appid\", \"recommendationid\"]\n",
    ")\n",
    "\n",
    "index.fit(reviews)"
   ]
  },
  {
   "cell_type": "markdown",
   "id": "6b026e51-af66-4a4b-b5ac-62f84f16f140",
   "metadata": {},
   "source": [
    "# Retrieval evaluation"
   ]
  },
  {
   "cell_type": "code",
   "execution_count": null,
   "id": "6be329c4-7eb1-44cc-8968-bf2de381791d",
   "metadata": {},
   "outputs": [],
   "source": []
  },
  {
   "cell_type": "code",
   "execution_count": null,
   "id": "18f68950-be02-45a6-a9f4-f2531ac28c66",
   "metadata": {},
   "outputs": [],
   "source": []
  },
  {
   "cell_type": "code",
   "execution_count": null,
   "id": "ee7838aa-288e-4315-9041-63a893e51363",
   "metadata": {},
   "outputs": [],
   "source": []
  },
  {
   "cell_type": "code",
   "execution_count": 8,
   "id": "4ef0933e-6829-4f2f-bc88-b979cd750448",
   "metadata": {},
   "outputs": [
    {
     "name": "stdout",
     "output_type": "stream",
     "text": [
      "Data successfully loaded and is in the correct format.\n",
      "ID: 315210, Question: Is 'Suicide Squad: Kill the Justice League' suitable for my child given its negative controls and gameplay issues?\n",
      "ID: 315210, Question: Can I trust the reviews about this game given the mention of needing a refund?\n",
      "ID: 315210, Question: What age rating does this game have, and does it align with what I want my child to play?\n",
      "ID: 315210, Question: Are there any themes in this game that promote agenda-driven narratives that I should be aware of?\n",
      "ID: 315210, Question: How does this game compare to other titles like 'Gotham Knights' and 'Marvel's Avengers' in terms of gameplay and suitability for children?\n"
     ]
    }
   ],
   "source": [
    "\n",
    "\n",
    "# Directory containing the ground truth file\n",
    "data_dir = os.path.abspath('../reviews-assistant/data/ground_truth')\n",
    "\n",
    "# Path to the ground_truth_retrieval.json file\n",
    "file_path = os.path.join(data_dir, 'ground_truth_retrieval.json')\n",
    "\n",
    "# Check if the file exists\n",
    "if os.path.exists(file_path):\n",
    "    try:\n",
    "        # Open and load the JSON file\n",
    "        with open(file_path, 'r', encoding='utf-8') as jsonfile:\n",
    "            ground_truth_data = json.load(jsonfile)  # Load the JSON data into a Python object\n",
    "\n",
    "        # Ensure each item is a dictionary and contains 'id' and 'question'\n",
    "        if all(isinstance(item, dict) and 'appid' in item and 'question' in item for item in ground_truth_data):\n",
    "            print(\"Data successfully loaded and is in the correct format.\")\n",
    "\n",
    "            # Example: Print a sample of the data\n",
    "            for item in ground_truth_data[:5]:  # Print the first 5 questions\n",
    "                print(f\"ID: {item['appid']}, Question: {item['question']}\")\n",
    "        else:\n",
    "            print(\"Error: The data format is incorrect or missing required fields ('id', 'question').\")\n",
    "    except json.JSONDecodeError as e:\n",
    "        print(f\"Error decoding JSON: {e}\")\n",
    "else:\n",
    "    print(f\"File {file_path} does not exist.\")\n"
   ]
  },
  {
   "cell_type": "code",
   "execution_count": 9,
   "id": "3eb15e88-8bbf-44b4-9ac1-5c62f0999bfa",
   "metadata": {},
   "outputs": [],
   "source": [
    "def hit_rate(relevance_total):\n",
    "    cnt = 0\n",
    "\n",
    "    for line in relevance_total:\n",
    "        if True in line:\n",
    "            cnt = cnt + 1\n",
    "\n",
    "    return cnt / len(relevance_total)\n",
    "\n",
    "def mrr(relevance_total):\n",
    "    total_score = 0.0\n",
    "\n",
    "    for line in relevance_total:\n",
    "        for rank in range(len(line)):\n",
    "            if line[rank] == True:\n",
    "                total_score = total_score + 1 / (rank + 1)\n",
    "\n",
    "    return total_score / len(relevance_total)"
   ]
  },
  {
   "cell_type": "code",
   "execution_count": 10,
   "id": "bbc78756-4451-4372-b4da-18bf072ff031",
   "metadata": {},
   "outputs": [],
   "source": [
    "def minsearch_search(query):\n",
    "    boost = {}\n",
    "\n",
    "    results = index.search(\n",
    "        query=query,\n",
    "        filter_dict={},\n",
    "        boost_dict=boost,\n",
    "        num_results=10\n",
    "    )\n",
    "\n",
    "    return results"
   ]
  },
  {
   "cell_type": "code",
   "execution_count": 11,
   "id": "cfcac158-5579-40be-8eda-7667b8d73fd4",
   "metadata": {},
   "outputs": [],
   "source": [
    "def evaluate(ground_truth, search_function):\n",
    "    relevance_total = []\n",
    "\n",
    "    for q in tqdm(ground_truth):\n",
    "        doc_id = q['appid']\n",
    "        results = search_function(q)\n",
    "        relevance = [d['appid'] == doc_id for d in results]\n",
    "        relevance_total.append(relevance)\n",
    "\n",
    "    return {\n",
    "        'hit_rate': hit_rate(relevance_total),\n",
    "        'mrr': mrr(relevance_total),\n",
    "    }"
   ]
  },
  {
   "cell_type": "code",
   "execution_count": 12,
   "id": "2c6c0f10-0567-41f3-99b7-1f9e5cd7bfb3",
   "metadata": {},
   "outputs": [],
   "source": [
    "from tqdm.auto import tqdm"
   ]
  },
  {
   "cell_type": "code",
   "execution_count": 13,
   "id": "796d06b8-eaba-40ff-922c-9080b4771214",
   "metadata": {},
   "outputs": [
    {
     "data": {
      "application/vnd.jupyter.widget-view+json": {
       "model_id": "898675db94d946a798d7a09e3ec39ee5",
       "version_major": 2,
       "version_minor": 0
      },
      "text/plain": [
       "  0%|          | 0/45 [00:00<?, ?it/s]"
      ]
     },
     "metadata": {},
     "output_type": "display_data"
    },
    {
     "data": {
      "text/plain": [
       "{'hit_rate': 0.7111111111111111, 'mrr': 2.024611992945328}"
      ]
     },
     "execution_count": 13,
     "metadata": {},
     "output_type": "execute_result"
    }
   ],
   "source": [
    "evaluate(ground_truth_data, lambda q: minsearch_search(q['question']))"
   ]
  },
  {
   "cell_type": "markdown",
   "id": "43020ebf-2987-4701-b7f8-fa9b1b83ea3e",
   "metadata": {},
   "source": [
    "# Finding the best parameters"
   ]
  },
  {
   "cell_type": "code",
   "execution_count": 25,
   "id": "fd3791cf-7610-4632-b9ca-0e329ff88569",
   "metadata": {},
   "outputs": [
    {
     "data": {
      "text/plain": [
       "45"
      ]
     },
     "execution_count": 25,
     "metadata": {},
     "output_type": "execute_result"
    }
   ],
   "source": [
    "len(ground_truth_data)"
   ]
  },
  {
   "cell_type": "code",
   "execution_count": 26,
   "id": "8d7e2069-d245-4c49-8d50-713d41aaefa3",
   "metadata": {},
   "outputs": [],
   "source": [
    "df_validation = ground_truth_data[:30]\n",
    "df_test = ground_truth_data[15:]"
   ]
  },
  {
   "cell_type": "code",
   "execution_count": 29,
   "id": "b6c7f4c3-33b2-4f69-b76b-487691244974",
   "metadata": {},
   "outputs": [
    {
     "data": {
      "text/plain": [
       "{'appid': '1086940',\n",
       " 'question': \"Can you provide insights into the community's perception of Baldur's Gate 3 in terms of its adherence to traditional gaming values?\"}"
      ]
     },
     "execution_count": 29,
     "metadata": {},
     "output_type": "execute_result"
    }
   ],
   "source": [
    "df_validation[-1]"
   ]
  },
  {
   "cell_type": "code",
   "execution_count": 30,
   "id": "177fd362-d27c-4f6a-a9b7-1b6689246ba4",
   "metadata": {},
   "outputs": [
    {
     "data": {
      "text/plain": [
       "{'appid': '1680880',\n",
       " 'question': \"How might the game's writing and character representation impact its suitability for my child?\"}"
      ]
     },
     "execution_count": 30,
     "metadata": {},
     "output_type": "execute_result"
    }
   ],
   "source": [
    "df_test[-1]"
   ]
  },
  {
   "cell_type": "code",
   "execution_count": 31,
   "id": "10eaf7d4-ba4f-4e49-9073-f16256a1fb65",
   "metadata": {},
   "outputs": [],
   "source": [
    "import random\n",
    "\n",
    "def simple_optimize(param_ranges, objective_function, n_iterations=10):\n",
    "    best_params = None\n",
    "    best_score = float('-inf')  # Assuming we're minimizing. Use float('-inf') if maximizing.\n",
    "\n",
    "    for _ in range(n_iterations):\n",
    "        # Generate random parameters\n",
    "        current_params = {}\n",
    "        for param, (min_val, max_val) in param_ranges.items():\n",
    "            if isinstance(min_val, int) and isinstance(max_val, int):\n",
    "                current_params[param] = random.randint(min_val, max_val)\n",
    "            else:\n",
    "                current_params[param] = random.uniform(min_val, max_val)\n",
    "        \n",
    "        # Evaluate the objective function\n",
    "        current_score = objective_function(current_params)\n",
    "        \n",
    "        # Update best if current is better\n",
    "        if current_score > best_score:  # Change to > if maximizing\n",
    "            best_score = current_score\n",
    "            best_params = current_params\n",
    "    \n",
    "    return best_params, best_score"
   ]
  },
  {
   "cell_type": "code",
   "execution_count": 32,
   "id": "b7b59570-a73e-417f-9d6c-186a3b44515d",
   "metadata": {},
   "outputs": [],
   "source": [
    "def minsearch_search(query, boost=None):\n",
    "    if boost is None:\n",
    "        boost = {}\n",
    "\n",
    "    results = index.search(\n",
    "        query=query,\n",
    "        filter_dict={},\n",
    "        boost_dict=boost,\n",
    "        num_results=10\n",
    "    )\n",
    "\n",
    "    return results"
   ]
  },
  {
   "cell_type": "code",
   "execution_count": 33,
   "id": "25bc676a-53a9-492f-a7c9-56bc7b2cda52",
   "metadata": {},
   "outputs": [],
   "source": [
    "param_ranges = {\n",
    "    'exercise_name': (0.0, 3.0),\n",
    "    'type_of_activity': (0.0, 3.0),\n",
    "    'type_of_equipment': (0.0, 3.0),\n",
    "    'body_part': (0.0, 3.0),\n",
    "    'type': (0.0, 3.0),\n",
    "    'muscle_groups_activated': (0.0, 3.0),\n",
    "    'instructions': (0.0, 3.0),\n",
    "}\n",
    "\n",
    "def objective(boost_params):\n",
    "    def search_function(q):\n",
    "        return minsearch_search(q['question'], boost_params)\n",
    "\n",
    "    results = evaluate(df_validation, search_function)\n",
    "    return results['mrr']"
   ]
  },
  {
   "cell_type": "code",
   "execution_count": 34,
   "id": "30303513-a39d-4c63-8291-2330b9722774",
   "metadata": {},
   "outputs": [
    {
     "data": {
      "application/vnd.jupyter.widget-view+json": {
       "model_id": "d0df99e48ade4b0b82a5fb137443fca5",
       "version_major": 2,
       "version_minor": 0
      },
      "text/plain": [
       "  0%|          | 0/30 [00:00<?, ?it/s]"
      ]
     },
     "metadata": {},
     "output_type": "display_data"
    },
    {
     "data": {
      "application/vnd.jupyter.widget-view+json": {
       "model_id": "27f1d7f180384e4780a8034fd8314bfc",
       "version_major": 2,
       "version_minor": 0
      },
      "text/plain": [
       "  0%|          | 0/30 [00:00<?, ?it/s]"
      ]
     },
     "metadata": {},
     "output_type": "display_data"
    },
    {
     "data": {
      "application/vnd.jupyter.widget-view+json": {
       "model_id": "ad08b8f37ed7469d9abd0d048baeb0fe",
       "version_major": 2,
       "version_minor": 0
      },
      "text/plain": [
       "  0%|          | 0/30 [00:00<?, ?it/s]"
      ]
     },
     "metadata": {},
     "output_type": "display_data"
    },
    {
     "data": {
      "application/vnd.jupyter.widget-view+json": {
       "model_id": "a0b16e6a93174bbd8e354438bfcba30a",
       "version_major": 2,
       "version_minor": 0
      },
      "text/plain": [
       "  0%|          | 0/30 [00:00<?, ?it/s]"
      ]
     },
     "metadata": {},
     "output_type": "display_data"
    },
    {
     "data": {
      "application/vnd.jupyter.widget-view+json": {
       "model_id": "3b53c37bb0e94dfd9215f147f84859a6",
       "version_major": 2,
       "version_minor": 0
      },
      "text/plain": [
       "  0%|          | 0/30 [00:00<?, ?it/s]"
      ]
     },
     "metadata": {},
     "output_type": "display_data"
    },
    {
     "data": {
      "application/vnd.jupyter.widget-view+json": {
       "model_id": "9fd74a4513e34d8fb9c1bc9a9cc3b76b",
       "version_major": 2,
       "version_minor": 0
      },
      "text/plain": [
       "  0%|          | 0/30 [00:00<?, ?it/s]"
      ]
     },
     "metadata": {},
     "output_type": "display_data"
    },
    {
     "data": {
      "application/vnd.jupyter.widget-view+json": {
       "model_id": "3e3fabe5a6be4aee9374844636876712",
       "version_major": 2,
       "version_minor": 0
      },
      "text/plain": [
       "  0%|          | 0/30 [00:00<?, ?it/s]"
      ]
     },
     "metadata": {},
     "output_type": "display_data"
    },
    {
     "data": {
      "application/vnd.jupyter.widget-view+json": {
       "model_id": "101ce976923a496f9bb56c81b5db0069",
       "version_major": 2,
       "version_minor": 0
      },
      "text/plain": [
       "  0%|          | 0/30 [00:00<?, ?it/s]"
      ]
     },
     "metadata": {},
     "output_type": "display_data"
    },
    {
     "data": {
      "application/vnd.jupyter.widget-view+json": {
       "model_id": "5aa16b46f2ae4bb1b3d0b646688dba30",
       "version_major": 2,
       "version_minor": 0
      },
      "text/plain": [
       "  0%|          | 0/30 [00:00<?, ?it/s]"
      ]
     },
     "metadata": {},
     "output_type": "display_data"
    },
    {
     "data": {
      "application/vnd.jupyter.widget-view+json": {
       "model_id": "2d248eb75cc0469689087d2d07874bd1",
       "version_major": 2,
       "version_minor": 0
      },
      "text/plain": [
       "  0%|          | 0/30 [00:00<?, ?it/s]"
      ]
     },
     "metadata": {},
     "output_type": "display_data"
    },
    {
     "data": {
      "application/vnd.jupyter.widget-view+json": {
       "model_id": "6302051bbda2471db3bf53e49bc3248b",
       "version_major": 2,
       "version_minor": 0
      },
      "text/plain": [
       "  0%|          | 0/30 [00:00<?, ?it/s]"
      ]
     },
     "metadata": {},
     "output_type": "display_data"
    },
    {
     "data": {
      "application/vnd.jupyter.widget-view+json": {
       "model_id": "d1f55c89407d4d70af270755c720feaa",
       "version_major": 2,
       "version_minor": 0
      },
      "text/plain": [
       "  0%|          | 0/30 [00:00<?, ?it/s]"
      ]
     },
     "metadata": {},
     "output_type": "display_data"
    },
    {
     "data": {
      "application/vnd.jupyter.widget-view+json": {
       "model_id": "3cfc12a83b684e44b2807d759da03878",
       "version_major": 2,
       "version_minor": 0
      },
      "text/plain": [
       "  0%|          | 0/30 [00:00<?, ?it/s]"
      ]
     },
     "metadata": {},
     "output_type": "display_data"
    },
    {
     "data": {
      "application/vnd.jupyter.widget-view+json": {
       "model_id": "504c88538120434aa715fb7198e7735c",
       "version_major": 2,
       "version_minor": 0
      },
      "text/plain": [
       "  0%|          | 0/30 [00:00<?, ?it/s]"
      ]
     },
     "metadata": {},
     "output_type": "display_data"
    },
    {
     "data": {
      "application/vnd.jupyter.widget-view+json": {
       "model_id": "c92701b565e241069669b9d82e51ce7d",
       "version_major": 2,
       "version_minor": 0
      },
      "text/plain": [
       "  0%|          | 0/30 [00:00<?, ?it/s]"
      ]
     },
     "metadata": {},
     "output_type": "display_data"
    },
    {
     "data": {
      "application/vnd.jupyter.widget-view+json": {
       "model_id": "1ca610231a0d45f5a2fa2ad1ea5feb76",
       "version_major": 2,
       "version_minor": 0
      },
      "text/plain": [
       "  0%|          | 0/30 [00:00<?, ?it/s]"
      ]
     },
     "metadata": {},
     "output_type": "display_data"
    },
    {
     "data": {
      "application/vnd.jupyter.widget-view+json": {
       "model_id": "74bbabcfd7fb4587a98ce31d87fc1c26",
       "version_major": 2,
       "version_minor": 0
      },
      "text/plain": [
       "  0%|          | 0/30 [00:00<?, ?it/s]"
      ]
     },
     "metadata": {},
     "output_type": "display_data"
    },
    {
     "data": {
      "application/vnd.jupyter.widget-view+json": {
       "model_id": "eb9113c58cd64a7693d83605b0146f45",
       "version_major": 2,
       "version_minor": 0
      },
      "text/plain": [
       "  0%|          | 0/30 [00:00<?, ?it/s]"
      ]
     },
     "metadata": {},
     "output_type": "display_data"
    },
    {
     "data": {
      "application/vnd.jupyter.widget-view+json": {
       "model_id": "ffc5ed40c0ed4b8d8bbefc98fe2cb536",
       "version_major": 2,
       "version_minor": 0
      },
      "text/plain": [
       "  0%|          | 0/30 [00:00<?, ?it/s]"
      ]
     },
     "metadata": {},
     "output_type": "display_data"
    },
    {
     "data": {
      "application/vnd.jupyter.widget-view+json": {
       "model_id": "66254d1edf944c10b195628ef496c379",
       "version_major": 2,
       "version_minor": 0
      },
      "text/plain": [
       "  0%|          | 0/30 [00:00<?, ?it/s]"
      ]
     },
     "metadata": {},
     "output_type": "display_data"
    },
    {
     "data": {
      "text/plain": [
       "({'exercise_name': 0.6736240252805771,\n",
       "  'type_of_activity': 1.7006633621565135,\n",
       "  'type_of_equipment': 0.6327765863786196,\n",
       "  'body_part': 1.692151876047895,\n",
       "  'type': 2.1767103834520816,\n",
       "  'muscle_groups_activated': 1.9495515830509804,\n",
       "  'instructions': 1.0392632375680444},\n",
       " 1.962962962962966)"
      ]
     },
     "execution_count": 34,
     "metadata": {},
     "output_type": "execute_result"
    }
   ],
   "source": [
    "simple_optimize(param_ranges, objective, n_iterations=20)"
   ]
  },
  {
   "cell_type": "code",
   "execution_count": 36,
   "id": "9ea5c458-3dad-44d1-9080-3cf0cfc6989f",
   "metadata": {},
   "outputs": [
    {
     "data": {
      "application/vnd.jupyter.widget-view+json": {
       "model_id": "a53e08bbeeda4af696e4e71159e190f8",
       "version_major": 2,
       "version_minor": 0
      },
      "text/plain": [
       "  0%|          | 0/45 [00:00<?, ?it/s]"
      ]
     },
     "metadata": {},
     "output_type": "display_data"
    },
    {
     "data": {
      "text/plain": [
       "{'hit_rate': 0.7111111111111111, 'mrr': 2.024611992945328}"
      ]
     },
     "execution_count": 36,
     "metadata": {},
     "output_type": "execute_result"
    }
   ],
   "source": [
    "def minsearch_improved(query):\n",
    "    boost = {'exercise_name': 0.6736240252805771,\n",
    "  'type_of_activity': 1.7006633621565135,\n",
    "  'type_of_equipment': 0.6327765863786196,\n",
    "  'body_part': 1.692151876047895,\n",
    "  'type': 2.1767103834520816,\n",
    "  'muscle_groups_activated': 1.9495515830509804,\n",
    "  'instructions': 1.0392632375680444}\n",
    "\n",
    "    results = index.search(\n",
    "        query=query,\n",
    "        filter_dict={},\n",
    "        boost_dict=boost,\n",
    "        num_results=10\n",
    "    )\n",
    "\n",
    "    return results\n",
    "\n",
    "evaluate(ground_truth_data, lambda q: minsearch_improved(q['question']))"
   ]
  },
  {
   "cell_type": "markdown",
   "id": "85ee9215-ef85-45d6-9142-baa1a3da4c30",
   "metadata": {},
   "source": [
    "# RAG evaluation"
   ]
  },
  {
   "cell_type": "code",
   "execution_count": null,
   "id": "e1134990-af84-40be-bcce-a6f690b223be",
   "metadata": {},
   "outputs": [],
   "source": []
  }
 ],
 "metadata": {
  "kernelspec": {
   "display_name": "Python 3 (ipykernel)",
   "language": "python",
   "name": "python3"
  },
  "language_info": {
   "codemirror_mode": {
    "name": "ipython",
    "version": 3
   },
   "file_extension": ".py",
   "mimetype": "text/x-python",
   "name": "python",
   "nbconvert_exporter": "python",
   "pygments_lexer": "ipython3",
   "version": "3.10.12"
  }
 },
 "nbformat": 4,
 "nbformat_minor": 5
}
