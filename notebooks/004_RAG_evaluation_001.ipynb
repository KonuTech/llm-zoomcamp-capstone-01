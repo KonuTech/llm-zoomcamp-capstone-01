{
 "cells": [
  {
   "cell_type": "code",
   "execution_count": 1,
   "id": "ad18abe1-a83d-45ff-a635-6dedcf232bab",
   "metadata": {},
   "outputs": [
    {
     "data": {
      "text/html": [
       "<style>.container { width:100% !important; }</style>"
      ],
      "text/plain": [
       "<IPython.core.display.HTML object>"
      ]
     },
     "metadata": {},
     "output_type": "display_data"
    }
   ],
   "source": [
    "from IPython.display import display, HTML\n",
    "display(HTML(\"<style>.container { width:100% !important; }</style>\"))"
   ]
  },
  {
   "cell_type": "code",
   "execution_count": 2,
   "id": "e350446c-571b-4524-bb23-362f0fb986ca",
   "metadata": {},
   "outputs": [
    {
     "data": {
      "text/plain": [
       "4"
      ]
     },
     "execution_count": 2,
     "metadata": {},
     "output_type": "execute_result"
    }
   ],
   "source": [
    "2+2"
   ]
  },
  {
   "cell_type": "code",
   "execution_count": 3,
   "id": "7b0986d1-7483-4c45-8624-1b5ca940e1d1",
   "metadata": {},
   "outputs": [],
   "source": [
    "from tqdm.auto import tqdm\n",
    "import pandas as pd"
   ]
  },
  {
   "cell_type": "code",
   "execution_count": 4,
   "id": "9e59ce44-5af1-4a58-ba98-ac6980785a86",
   "metadata": {},
   "outputs": [
    {
     "data": {
      "text/plain": [
       "True"
      ]
     },
     "execution_count": 4,
     "metadata": {},
     "output_type": "execute_result"
    }
   ],
   "source": [
    "import json\n",
    "import sys\n",
    "import os\n",
    "from dotenv import load_dotenv\n",
    "# Load environment variables from .env\n",
    "load_dotenv(\"/home/jovyan/.envrc\")"
   ]
  },
  {
   "cell_type": "code",
   "execution_count": 5,
   "id": "5b93dfb2-aac8-4dc7-8fc8-3555bb2db98c",
   "metadata": {},
   "outputs": [],
   "source": [
    "# Construct the path to the scripts directory\n",
    "script_path = os.path.abspath('../reviews-assistant/scripts')\n",
    "\n",
    "# Add the path to sys.path\n",
    "if script_path not in sys.path:\n",
    "    sys.path.append(script_path)\n",
    "    \n",
    "import minsearch"
   ]
  },
  {
   "cell_type": "code",
   "execution_count": 6,
   "id": "45c4e9b2-3ae4-4f46-bebf-d4ecd098ca89",
   "metadata": {},
   "outputs": [
    {
     "name": "stdout",
     "output_type": "stream",
     "text": [
      "Data successfully loaded and is in the correct format.\n",
      "ID: 2239550, Question: What are the content themes present in Watch Dogs: Legion that I should be aware of?\n",
      "ID: 2239550, Question: Does Watch Dogs: Legion contain any excessive violence or graphic depictions?\n",
      "ID: 2239550, Question: Are there any instances of strong language or profanity in Watch Dogs: Legion?\n",
      "ID: 2239550, Question: Does Watch Dogs: Legion include any substance abuse or gambling mechanics?\n",
      "ID: 2239550, Question: Is there any disturbing imagery or horror elements in Watch Dogs: Legion?\n"
     ]
    }
   ],
   "source": [
    "# Directory containing the ground truth file\n",
    "data_dir = os.path.abspath('../reviews-assistant/data/ground_truth')\n",
    "\n",
    "# Path to the ground_truth_retrieval.json file\n",
    "file_path = os.path.join(data_dir, 'ground_truth_retrieval.json')\n",
    "\n",
    "# Check if the file exists\n",
    "if os.path.exists(file_path):\n",
    "    try:\n",
    "        # Open and load the JSON file\n",
    "        with open(file_path, 'r', encoding='utf-8') as jsonfile:\n",
    "            ground_truth_data = json.load(jsonfile)  # Load the JSON data into a Python object\n",
    "\n",
    "        # Ensure each item is a dictionary and contains 'id' and 'question'\n",
    "        if all(isinstance(item, dict) and 'appid' in item and 'question' in item for item in ground_truth_data):\n",
    "            print(\"Data successfully loaded and is in the correct format.\")\n",
    "\n",
    "            # Example: Print a sample of the data\n",
    "            for item in ground_truth_data[:5]:  # Print the first 5 questions\n",
    "                print(f\"ID: {item['appid']}, Question: {item['question']}\")\n",
    "        else:\n",
    "            print(\"Error: The data format is incorrect or missing required fields ('id', 'question').\")\n",
    "    except json.JSONDecodeError as e:\n",
    "        print(f\"Error decoding JSON: {e}\")\n",
    "else:\n",
    "    print(f\"File {file_path} does not exist.\")"
   ]
  },
  {
   "cell_type": "code",
   "execution_count": 7,
   "id": "b9ba7a63-a62b-462b-b03e-71edd5893c2d",
   "metadata": {},
   "outputs": [
    {
     "data": {
      "text/plain": [
       "105"
      ]
     },
     "execution_count": 7,
     "metadata": {},
     "output_type": "execute_result"
    }
   ],
   "source": [
    "len(ground_truth_data)"
   ]
  },
  {
   "cell_type": "code",
   "execution_count": 8,
   "id": "12f4beb1-9b0c-438d-88cb-eea9d7b9944a",
   "metadata": {
    "scrolled": true
   },
   "outputs": [
    {
     "name": "stdout",
     "output_type": "stream",
     "text": [
      "Author ID: 76561198420943538\n",
      "Review: ---{ Graphics }---\n",
      "✅ You forget what reality is\n",
      "☐ Beautiful\n",
      "☐ Good\n",
      "☐ Decent\n",
      "☐ Bad\n",
      "☐ You will get eye cancer\n",
      "☐ Get a pepper spray for your eye instead\n",
      "\n",
      "---{ Gameplay }---\n",
      "☐ Won’t ever touch any other game anymore\n",
      "✅ Very good\n",
      "☐ Good\n",
      "☐ It's just gameplay\n",
      "☐ Mehh\n",
      "☐ Watch paint dry instead\n",
      "☐ Tic Tac toe is better\n",
      "\n",
      "---{ Audio }---\n",
      "☐ Eargasm\n",
      "✅ Very good\n",
      "☐ Good\n",
      "☐ Not too bad\n",
      "☐ Bad\n",
      "☐ I'm now deaf\n",
      "\n",
      "---{ Audience }---\n",
      "☐ Kids\n",
      "✅Teens\n",
      "✅ Adults\n",
      "☐ Grandma\n",
      "\n",
      "---{ PC Requirements }---\n",
      "☐ Check if you can run paint\n",
      "☐ Potato\n",
      "☐ Decent\n",
      "✅ Fast\n",
      "☐ Rich boi\n",
      "☐ Ask NASA if they have a spare computer\n",
      "☐ Search the galaxy for dark matter fuel to run\n",
      "\n",
      "---{ Difficulty }---\n",
      "☐ Just press 'W'\n",
      "☐ Easy\n",
      "✅ Easy to learn / Hard to master\n",
      "☐ Significant brain usage\n",
      "☐ Difficult\n",
      "☐ Dark Souls\n",
      "\n",
      "---{ Grind }---\n",
      "☐ Nothing to grind\n",
      "☐ Only if u care about leaderboards/ranks\n",
      "✅ Isn't necessary to progress\n",
      "☐ Average grind level\n",
      "☐ Too much grind\n",
      "☐ You'll need a second life for grinding\n",
      "\n",
      "---{ Story }---\n",
      "☐ No Story\n",
      "☐ Some lore\n",
      "☐ Average\n",
      "☐ Good\n",
      "☐ Lovely\n",
      "✅ It'll replace your life\n",
      "\n",
      "---{ Game Time }---\n",
      "☐ Long enough for a cup of coffee\n",
      "☐ Short\n",
      "☐ Average\n",
      "✅ Long\n",
      "☐ To infinity and beyond\n",
      "☐ Until GTA6 releases\n",
      "\n",
      "---{ Price }---\n",
      "☐ It's free!\n",
      "☐ Worth the price\n",
      "✅ If it's on sale\n",
      "☐ If u have some spare money left\n",
      "☐ Not recommended\n",
      "☐ You could also just burn your money\n",
      "\n",
      "---{ Bugs }---\n",
      "☐ Never heard of\n",
      "✅ Minor bugs\n",
      "☐ Can get annoying\n",
      "☐ ARK: Survival Evolved\n",
      "☐ The game itself is a big terrarium for bugs\n",
      "\n",
      "---{ ? / 10 }---\n",
      "☐ 1\n",
      "☐ 2\n",
      "☐ 3\n",
      "☐ 4\n",
      "☐ 5\n",
      "☐ 6\n",
      "☐ 7\n",
      "☐ 8\n",
      "✅ 9\n",
      "☐ 10\n",
      "Timestamp Created: 1725394822\n",
      "-------------------------------------------------------------------------------\n",
      "Author ID: 76561198835479154\n",
      "Review: Despite being an ambitious game, Assassin's Creed Odyssey often feels bloated. While the vast, open-world is beautiful, it can feel repetitive and is filled with unnecessary quests that drag down the experience. The RPG mechanics, a fresh idea, sometimes take away from the Assassin's Creed experience, making it feel more like an open-world checklist simulator. That said, the story is engaging and the historical setting is captivating, especially for fans of Ancient Greece. If you have the patience for the grind, there's still fun to be had\n",
      "Timestamp Created: 1726669780\n",
      "-------------------------------------------------------------------------------\n"
     ]
    }
   ],
   "source": [
    "# Directory containing the data files\n",
    "data_dir = os.path.abspath('../reviews-assistant/data/reviews')\n",
    "\n",
    "# Initialize an empty list to hold all reviews\n",
    "reviews = []\n",
    "\n",
    "# List objects in the directory\n",
    "objects_in_directory = os.listdir(data_dir)\n",
    "\n",
    "# Iterate over the files in the directory\n",
    "for obj in objects_in_directory:\n",
    "    if obj.endswith('.json'):  # Check if the file is a JSON file\n",
    "        file_path = os.path.join(data_dir, obj)\n",
    "        with open(file_path, 'r', encoding='utf-8') as jsonfile:\n",
    "            # Load the reviews from the JSON file\n",
    "            file_reviews = json.load(jsonfile)\n",
    "            reviews.extend(file_reviews)  # Append reviews to the main list\n",
    "# Print the first i reviews\n",
    "i = 2  # Change this to print more reviews if needed\n",
    "for review in reviews[:i]:\n",
    "    print(f\"Author ID: {review['author.steamid']}\")\n",
    "    print(f\"Review: {review.get('review', 'No text')}\")\n",
    "    print(f\"Timestamp Created: {review['timestamp_created']}\")\n",
    "    print(\"-\" * 79)"
   ]
  },
  {
   "cell_type": "code",
   "execution_count": 9,
   "id": "034df09b-d79a-45e2-95a8-d239c602a739",
   "metadata": {},
   "outputs": [
    {
     "data": {
      "text/plain": [
       "1782"
      ]
     },
     "execution_count": 9,
     "metadata": {},
     "output_type": "execute_result"
    }
   ],
   "source": [
    "len(reviews)"
   ]
  },
  {
   "cell_type": "code",
   "execution_count": 10,
   "id": "ae0c9afa-1293-4900-b15f-b0362e006ff0",
   "metadata": {},
   "outputs": [
    {
     "data": {
      "text/plain": [
       "<minsearch.Index at 0x7f23806ef950>"
      ]
     },
     "execution_count": 10,
     "metadata": {},
     "output_type": "execute_result"
    }
   ],
   "source": [
    "index = minsearch.Index(\n",
    "    # text_fields=[\"author.steamid\", \"author.playtimeforever\", \"author.playtime_last_two_weeks\", \"author.playtime_at_review\", \"author.last_played\", \"language\", \"review\", \"timestamp_created\", \"timestamp_updated\"],\n",
    "    text_fields=[\"title\", \"language\", \"review\"],\n",
    "    keyword_fields=[\"appid\", \"recommendationid\"]\n",
    ")\n",
    "\n",
    "index.fit(reviews)"
   ]
  },
  {
   "cell_type": "code",
   "execution_count": 11,
   "id": "22159134-c3b1-4e09-8467-270a8af06ea6",
   "metadata": {},
   "outputs": [],
   "source": [
    "from openai import OpenAI\n",
    "\n",
    "client = OpenAI(\n",
    "  api_key=os.environ['OPENAI_API_KEY'],  # this is also the default, it can be omitted\n",
    ")"
   ]
  },
  {
   "cell_type": "code",
   "execution_count": 12,
   "id": "1dfdbc74-5730-4c56-beb3-8d3108089830",
   "metadata": {},
   "outputs": [],
   "source": [
    "def build_prompt(query, search_results):\n",
    "    answer_llm = \"\"\n",
    "\n",
    "    if 'entry_template' in globals():  # Check if entry_template exists in global scope\n",
    "        for doc in search_results:\n",
    "            answer_llm += entry_template.format(**doc) + \"\\n\\n\"\n",
    "    else:\n",
    "        for doc in search_results:\n",
    "            # Fallback formatting if entry_template is missing\n",
    "            answer_llm += str(doc) + \"\\n\\n\"\n",
    "\n",
    "    prompt = prompt_template.format(question=query, answer_llm=answer_llm).strip()\n",
    "    return prompt"
   ]
  },
  {
   "cell_type": "code",
   "execution_count": 13,
   "id": "8f5e1c4b-e373-41a2-aa21-69e1467dd008",
   "metadata": {},
   "outputs": [],
   "source": [
    "def llm(prompt, model='gpt-4o-mini'):\n",
    "    response = client.chat.completions.create(\n",
    "        model=model,\n",
    "        messages=[{\"role\": \"user\", \"content\": prompt}]\n",
    "    )\n",
    "    \n",
    "    return response.choices[0].message.content"
   ]
  },
  {
   "cell_type": "code",
   "execution_count": 14,
   "id": "71d5326b-bafd-4f2e-9a51-a5adff53887f",
   "metadata": {},
   "outputs": [],
   "source": [
    "def search(query):\n",
    "    boost = {'exercise_name': 0.6625233926839482,\n",
    "  'type_of_activity': 1.696177528847092,\n",
    "  'type_of_equipment': 2.5131837819420255,\n",
    "  'body_part': 1.7285666348004312,\n",
    "  'type': 2.7764448064716354,\n",
    "  'muscle_groups_activated': 2.1997970868248142,\n",
    "  'instructions': 1.7565742031203238}\n",
    "\n",
    "    results = index.search(\n",
    "        query=query,\n",
    "        filter_dict={},\n",
    "        boost_dict=boost,\n",
    "        num_results=10\n",
    "    )\n",
    "\n",
    "    return results"
   ]
  },
  {
   "cell_type": "code",
   "execution_count": 15,
   "id": "7bd74ed6-f904-4f83-8bbf-2ae221f6c8d4",
   "metadata": {},
   "outputs": [],
   "source": [
    "def rag(query, model='gpt-4o-mini'):\n",
    "    search_results = search(query)\n",
    "    prompt = build_prompt(query, search_results)\n",
    "    #print(prompt)\n",
    "    answer = llm(prompt, model=model)\n",
    "    return answer"
   ]
  },
  {
   "cell_type": "code",
   "execution_count": 16,
   "id": "f15ec2e9-377a-408a-8678-96a6d0a1f413",
   "metadata": {},
   "outputs": [],
   "source": [
    "prompt_template = \"\"\"\n",
    "You are an expert evaluator for a RAG system.\n",
    "Your task is to analyze the relevance of the generated answer to the given question.\n",
    "Based on the relevance of the generated answer, you will classify it\n",
    "as \"NON_RELEVANT\", \"PARTLY_RELEVANT\", or \"RELEVANT\".\n",
    "\n",
    "Here is the data for evaluation:\n",
    "\n",
    "Question: {question}\n",
    "Generated Answer: {answer_llm}\n",
    "\n",
    "Please analyze the content and context of the generated answer in relation to the question\n",
    "and provide your evaluation in parsable JSON without using code blocks:\n",
    "\n",
    "{{\n",
    "  \"relevance\": \"NON_RELEVANT\" | \"PARTLY_RELEVANT\" | \"RELEVANT\",\n",
    "  \"explanation\": \"[Provide a brief explanation for your evaluation]\"\n",
    "}}\n",
    "\"\"\".strip()"
   ]
  },
  {
   "cell_type": "code",
   "execution_count": 17,
   "id": "aa77f12e-31a6-49c8-84a9-e8340e98b60c",
   "metadata": {},
   "outputs": [],
   "source": [
    "# sample = ground_truth_data"
   ]
  },
  {
   "cell_type": "code",
   "execution_count": 18,
   "id": "0e2484e6-6663-470d-944a-fad1feef26c4",
   "metadata": {},
   "outputs": [],
   "source": [
    "# record['question']"
   ]
  },
  {
   "cell_type": "code",
   "execution_count": 19,
   "id": "194046fc-6409-4287-a4ea-8ea3fd63f1dd",
   "metadata": {},
   "outputs": [],
   "source": [
    "# rag(question)"
   ]
  },
  {
   "cell_type": "code",
   "execution_count": 20,
   "id": "48f26da4-492f-4d37-a05f-ddaae2e3b5c2",
   "metadata": {},
   "outputs": [],
   "source": [
    "# answer_llm = rag(question)"
   ]
  },
  {
   "cell_type": "code",
   "execution_count": 21,
   "id": "6a77b75c-ccf2-4bee-89d1-6d5916da299a",
   "metadata": {},
   "outputs": [
    {
     "data": {
      "application/vnd.jupyter.widget-view+json": {
       "model_id": "40a8c88511794e3fa21cb0b0f1f91e5a",
       "version_major": 2,
       "version_minor": 0
      },
      "text/plain": [
       "  0%|          | 0/105 [00:00<?, ?it/s]"
      ]
     },
     "metadata": {},
     "output_type": "display_data"
    }
   ],
   "source": [
    "evaluations = []\n",
    "\n",
    "for record in tqdm(ground_truth_data):\n",
    "    question = record['question']\n",
    "    answer_llm = rag(question) \n",
    "\n",
    "    prompt = prompt_template.format(\n",
    "        question=question,\n",
    "        answer_llm=answer_llm\n",
    "    )\n",
    "\n",
    "    evaluation = llm(prompt)\n",
    "    evaluation = json.loads(evaluation)\n",
    "\n",
    "    evaluations.append((record, answer_llm, evaluation))"
   ]
  },
  {
   "cell_type": "code",
   "execution_count": 22,
   "id": "72621ac8-f27a-40da-bbc3-73bee55b4977",
   "metadata": {},
   "outputs": [
    {
     "data": {
      "text/plain": [
       "'What are the content themes present in Watch Dogs: Legion that I should be aware of?'"
      ]
     },
     "execution_count": 22,
     "metadata": {},
     "output_type": "execute_result"
    }
   ],
   "source": [
    "evaluations[0][0]['question']"
   ]
  },
  {
   "cell_type": "code",
   "execution_count": 23,
   "id": "acfaf885-c532-4983-a35e-721b64bf5cf5",
   "metadata": {},
   "outputs": [
    {
     "data": {
      "text/plain": [
       "[({'appid': '2239550',\n",
       "   'question': 'What are the content themes present in Watch Dogs: Legion that I should be aware of?'},\n",
       "  '{\\n  \"relevance\": \"RELEVANT\",\\n  \"explanation\": \"The generated answer provides a comprehensive overview of the content themes in \\'Watch Dogs: Legion\\', including its innovative mechanics, dystopian setting, and the various factions that represent different societal issues. It touches on the themes of surveillance, resistance against authoritarianism, and the ethical implications of technology, which are all central to the game\\'s narrative. This directly addresses the question regarding the content themes one should be aware of.\"\\n}',\n",
       "  {'relevance': 'RELEVANT',\n",
       "   'explanation': \"The generated answer thoroughly addresses the question by outlining key content themes present in 'Watch Dogs: Legion'. It highlights important aspects such as the dystopian setting, various factions, and critical themes like surveillance, resistance, and ethical considerations regarding technology, which are essential for understanding the game's narrative. This makes it highly relevant to the inquiry about content themes.\"})]"
      ]
     },
     "execution_count": 23,
     "metadata": {},
     "output_type": "execute_result"
    }
   ],
   "source": [
    "evaluations[:1]"
   ]
  },
  {
   "cell_type": "code",
   "execution_count": 24,
   "id": "c89b26b6-62cd-468f-80aa-54cfec818457",
   "metadata": {},
   "outputs": [],
   "source": [
    "df_eval = pd.DataFrame(evaluations, columns=['record', 'answer', 'evaluation'])\n",
    "\n",
    "df_eval['appid'] = df_eval.record.apply(lambda d: d['appid'])\n",
    "df_eval['question'] = df_eval.record.apply(lambda d: d['question'])\n",
    "\n",
    "df_eval['relevance'] = df_eval.evaluation.apply(lambda d: d['relevance'])\n",
    "df_eval['explanation'] = df_eval.evaluation.apply(lambda d: d['explanation'])\n",
    "\n",
    "del df_eval['record']\n",
    "del df_eval['evaluation']"
   ]
  },
  {
   "cell_type": "code",
   "execution_count": 25,
   "id": "4a38ebc0-792e-43fe-a88a-4945e779780b",
   "metadata": {},
   "outputs": [
    {
     "data": {
      "text/plain": [
       "relevance\n",
       "NON_RELEVANT       80\n",
       "RELEVANT           18\n",
       "PARTLY_RELEVANT     7\n",
       "Name: count, dtype: int64"
      ]
     },
     "execution_count": 25,
     "metadata": {},
     "output_type": "execute_result"
    }
   ],
   "source": [
    "df_eval.relevance.value_counts()"
   ]
  },
  {
   "cell_type": "code",
   "execution_count": 26,
   "id": "69895cc6-4bbe-411c-ac06-3c8924328e7a",
   "metadata": {},
   "outputs": [
    {
     "data": {
      "text/plain": [
       "relevance\n",
       "NON_RELEVANT       0.761905\n",
       "RELEVANT           0.171429\n",
       "PARTLY_RELEVANT    0.066667\n",
       "Name: proportion, dtype: float64"
      ]
     },
     "execution_count": 26,
     "metadata": {},
     "output_type": "execute_result"
    }
   ],
   "source": [
    "df_eval.relevance.value_counts(normalize=True)"
   ]
  },
  {
   "cell_type": "code",
   "execution_count": 27,
   "id": "abfe1de7-1ac2-4f2a-a8a2-5ce6f3b3e2a3",
   "metadata": {},
   "outputs": [
    {
     "name": "stdout",
     "output_type": "stream",
     "text": [
      "Data saved to /home/jovyan/reviews-assistant/data/ground_truth/ground_truth_evaluation.json\n"
     ]
    }
   ],
   "source": [
    "import json\n",
    "import os\n",
    "import pandas as pd\n",
    "\n",
    "# Sample DataFrame for demonstration\n",
    "# df_eval = pd.DataFrame({'recommendationid': [1, 2], 'question': ['What is the best game?', 'What is the worst game?']})\n",
    "\n",
    "data_dir = os.path.abspath('../reviews-assistant/data/ground_truth')\n",
    "\n",
    "# Define the output file path\n",
    "output_file = os.path.join(data_dir, \"ground_truth_evaluation.json\")\n",
    "\n",
    "# Convert DataFrame to a list of dictionaries including index\n",
    "df_eval_list = df_eval.reset_index().to_dict(orient='records')\n",
    "\n",
    "# Save the results to a JSON file\n",
    "with open(output_file, 'w', encoding='utf-8') as json_file:\n",
    "    json.dump(df_eval_list, json_file, ensure_ascii=False, indent=4)\n",
    "\n",
    "print(f\"Data saved to {output_file}\")"
   ]
  },
  {
   "cell_type": "code",
   "execution_count": 28,
   "id": "d57ee676-17f0-485b-bf7b-9c5dbb06dc09",
   "metadata": {},
   "outputs": [
    {
     "data": {
      "text/html": [
       "<div>\n",
       "<style scoped>\n",
       "    .dataframe tbody tr th:only-of-type {\n",
       "        vertical-align: middle;\n",
       "    }\n",
       "\n",
       "    .dataframe tbody tr th {\n",
       "        vertical-align: top;\n",
       "    }\n",
       "\n",
       "    .dataframe thead th {\n",
       "        text-align: right;\n",
       "    }\n",
       "</style>\n",
       "<table border=\"1\" class=\"dataframe\">\n",
       "  <thead>\n",
       "    <tr style=\"text-align: right;\">\n",
       "      <th></th>\n",
       "      <th>answer</th>\n",
       "      <th>appid</th>\n",
       "      <th>question</th>\n",
       "      <th>relevance</th>\n",
       "      <th>explanation</th>\n",
       "    </tr>\n",
       "  </thead>\n",
       "  <tbody>\n",
       "    <tr>\n",
       "      <th>0</th>\n",
       "      <td>{\\n  \"relevance\": \"RELEVANT\",\\n  \"explanation\"...</td>\n",
       "      <td>2239550</td>\n",
       "      <td>What are the content themes present in Watch D...</td>\n",
       "      <td>RELEVANT</td>\n",
       "      <td>The generated answer thoroughly addresses the ...</td>\n",
       "    </tr>\n",
       "    <tr>\n",
       "      <th>2</th>\n",
       "      <td>{\\n  \"relevance\": \"RELEVANT\",\\n  \"explanation\"...</td>\n",
       "      <td>2239550</td>\n",
       "      <td>Are there any instances of strong language or ...</td>\n",
       "      <td>RELEVANT</td>\n",
       "      <td>The generated answer directly addresses the qu...</td>\n",
       "    </tr>\n",
       "    <tr>\n",
       "      <th>20</th>\n",
       "      <td>{\\n  \"relevance\": \"RELEVANT\",\\n  \"explanation\"...</td>\n",
       "      <td>1680880</td>\n",
       "      <td>Is Forspoken suitable for my children given th...</td>\n",
       "      <td>RELEVANT</td>\n",
       "      <td>The generated answer directly addresses the qu...</td>\n",
       "    </tr>\n",
       "    <tr>\n",
       "      <th>25</th>\n",
       "      <td>{\\n  \"relevance\": \"RELEVANT\",\\n  \"explanation\"...</td>\n",
       "      <td>2369390</td>\n",
       "      <td>What concerns does this game raise regarding t...</td>\n",
       "      <td>RELEVANT</td>\n",
       "      <td>The generated answer directly pertains to the ...</td>\n",
       "    </tr>\n",
       "    <tr>\n",
       "      <th>27</th>\n",
       "      <td>{\\n  \"relevance\": \"RELEVANT\",\\n  \"explanation\"...</td>\n",
       "      <td>2369390</td>\n",
       "      <td>How does the gameplay design in Far Cry 6 affe...</td>\n",
       "      <td>RELEVANT</td>\n",
       "      <td>The generated answer effectively addresses the...</td>\n",
       "    </tr>\n",
       "    <tr>\n",
       "      <th>28</th>\n",
       "      <td>{\\n  \"relevance\": \"NON_RELEVANT\",\\n  \"explanat...</td>\n",
       "      <td>2369390</td>\n",
       "      <td>Does the review mention any potentially harmfu...</td>\n",
       "      <td>RELEVANT</td>\n",
       "      <td>The generated answer accurately addresses the ...</td>\n",
       "    </tr>\n",
       "    <tr>\n",
       "      <th>34</th>\n",
       "      <td>{\\n  \"relevance\": \"RELEVANT\",\\n  \"explanation\"...</td>\n",
       "      <td>315210</td>\n",
       "      <td>Are there any features in this game that encou...</td>\n",
       "      <td>RELEVANT</td>\n",
       "      <td>The generated answer directly addresses the qu...</td>\n",
       "    </tr>\n",
       "    <tr>\n",
       "      <th>48</th>\n",
       "      <td>{\\n  \"relevance\": \"RELEVANT\",\\n  \"explanation\"...</td>\n",
       "      <td>1832040</td>\n",
       "      <td>Does the game include strong language or profa...</td>\n",
       "      <td>RELEVANT</td>\n",
       "      <td>The generated answer directly addresses the qu...</td>\n",
       "    </tr>\n",
       "    <tr>\n",
       "      <th>49</th>\n",
       "      <td>{\\n  \"relevance\": \"RELEVANT\",\\n  \"explanation\"...</td>\n",
       "      <td>1832040</td>\n",
       "      <td>Are there any elements in this game that promo...</td>\n",
       "      <td>RELEVANT</td>\n",
       "      <td>The generated answer effectively addresses the...</td>\n",
       "    </tr>\n",
       "    <tr>\n",
       "      <th>54</th>\n",
       "      <td>{\\n  \"relevance\": \"RELEVANT\",\\n  \"explanation\"...</td>\n",
       "      <td>304390</td>\n",
       "      <td>Is there any use of strong language or profani...</td>\n",
       "      <td>RELEVANT</td>\n",
       "      <td>The generated answer directly addresses the qu...</td>\n",
       "    </tr>\n",
       "    <tr>\n",
       "      <th>59</th>\n",
       "      <td>{\\n  \"relevance\": \"RELEVANT\",\\n  \"explanation\"...</td>\n",
       "      <td>552520</td>\n",
       "      <td>Are there any gambling mechanics or in-game ga...</td>\n",
       "      <td>RELEVANT</td>\n",
       "      <td>The generated answer directly addresses the qu...</td>\n",
       "    </tr>\n",
       "    <tr>\n",
       "      <th>61</th>\n",
       "      <td>{\\n  \"relevance\": \"NON_RELEVANT\",\\n  \"explanat...</td>\n",
       "      <td>1496790</td>\n",
       "      <td>Are there intense visual representations of in...</td>\n",
       "      <td>RELEVANT</td>\n",
       "      <td>The generated answer effectively addresses the...</td>\n",
       "    </tr>\n",
       "    <tr>\n",
       "      <th>62</th>\n",
       "      <td>{\\n  \"relevance\": \"NON_RELEVANT\",\\n  \"explanat...</td>\n",
       "      <td>1496790</td>\n",
       "      <td>Is there explicit or suggestive sexual content...</td>\n",
       "      <td>RELEVANT</td>\n",
       "      <td>The generated answer explicitly states that th...</td>\n",
       "    </tr>\n",
       "    <tr>\n",
       "      <th>64</th>\n",
       "      <td>{\\n  \"relevance\": \"RELEVANT\",\\n  \"explanation\"...</td>\n",
       "      <td>1496790</td>\n",
       "      <td>Are there any mechanics related to gambling or...</td>\n",
       "      <td>RELEVANT</td>\n",
       "      <td>The generated answer directly addresses the qu...</td>\n",
       "    </tr>\n",
       "    <tr>\n",
       "      <th>76</th>\n",
       "      <td>{\\n  \"relevance\": \"RELEVANT\",\\n  \"explanation\"...</td>\n",
       "      <td>1817070</td>\n",
       "      <td>What is the general gameplay experience like i...</td>\n",
       "      <td>RELEVANT</td>\n",
       "      <td>The generated answer directly addresses the qu...</td>\n",
       "    </tr>\n",
       "    <tr>\n",
       "      <th>77</th>\n",
       "      <td>{\\n  \"relevance\": \"RELEVANT\",\\n  \"explanation\"...</td>\n",
       "      <td>1817070</td>\n",
       "      <td>Can you tell me more about the graphic quality...</td>\n",
       "      <td>RELEVANT</td>\n",
       "      <td>The generated answer specifically addresses th...</td>\n",
       "    </tr>\n",
       "    <tr>\n",
       "      <th>78</th>\n",
       "      <td>{\\n  \"relevance\": \"RELEVANT\",\\n  \"explanation\"...</td>\n",
       "      <td>1817070</td>\n",
       "      <td>Is there a compelling story in Marvel’s Spider...</td>\n",
       "      <td>RELEVANT</td>\n",
       "      <td>The generated answer effectively addresses the...</td>\n",
       "    </tr>\n",
       "    <tr>\n",
       "      <th>87</th>\n",
       "      <td>{\\n  \"relevance\": \"RELEVANT\",\\n  \"explanation\"...</td>\n",
       "      <td>721180</td>\n",
       "      <td>Does Dustborn include strong language or profa...</td>\n",
       "      <td>RELEVANT</td>\n",
       "      <td>The generated answer accurately addresses the ...</td>\n",
       "    </tr>\n",
       "  </tbody>\n",
       "</table>\n",
       "</div>"
      ],
      "text/plain": [
       "                                               answer    appid  \\\n",
       "0   {\\n  \"relevance\": \"RELEVANT\",\\n  \"explanation\"...  2239550   \n",
       "2   {\\n  \"relevance\": \"RELEVANT\",\\n  \"explanation\"...  2239550   \n",
       "20  {\\n  \"relevance\": \"RELEVANT\",\\n  \"explanation\"...  1680880   \n",
       "25  {\\n  \"relevance\": \"RELEVANT\",\\n  \"explanation\"...  2369390   \n",
       "27  {\\n  \"relevance\": \"RELEVANT\",\\n  \"explanation\"...  2369390   \n",
       "28  {\\n  \"relevance\": \"NON_RELEVANT\",\\n  \"explanat...  2369390   \n",
       "34  {\\n  \"relevance\": \"RELEVANT\",\\n  \"explanation\"...   315210   \n",
       "48  {\\n  \"relevance\": \"RELEVANT\",\\n  \"explanation\"...  1832040   \n",
       "49  {\\n  \"relevance\": \"RELEVANT\",\\n  \"explanation\"...  1832040   \n",
       "54  {\\n  \"relevance\": \"RELEVANT\",\\n  \"explanation\"...   304390   \n",
       "59  {\\n  \"relevance\": \"RELEVANT\",\\n  \"explanation\"...   552520   \n",
       "61  {\\n  \"relevance\": \"NON_RELEVANT\",\\n  \"explanat...  1496790   \n",
       "62  {\\n  \"relevance\": \"NON_RELEVANT\",\\n  \"explanat...  1496790   \n",
       "64  {\\n  \"relevance\": \"RELEVANT\",\\n  \"explanation\"...  1496790   \n",
       "76  {\\n  \"relevance\": \"RELEVANT\",\\n  \"explanation\"...  1817070   \n",
       "77  {\\n  \"relevance\": \"RELEVANT\",\\n  \"explanation\"...  1817070   \n",
       "78  {\\n  \"relevance\": \"RELEVANT\",\\n  \"explanation\"...  1817070   \n",
       "87  {\\n  \"relevance\": \"RELEVANT\",\\n  \"explanation\"...   721180   \n",
       "\n",
       "                                             question relevance  \\\n",
       "0   What are the content themes present in Watch D...  RELEVANT   \n",
       "2   Are there any instances of strong language or ...  RELEVANT   \n",
       "20  Is Forspoken suitable for my children given th...  RELEVANT   \n",
       "25  What concerns does this game raise regarding t...  RELEVANT   \n",
       "27  How does the gameplay design in Far Cry 6 affe...  RELEVANT   \n",
       "28  Does the review mention any potentially harmfu...  RELEVANT   \n",
       "34  Are there any features in this game that encou...  RELEVANT   \n",
       "48  Does the game include strong language or profa...  RELEVANT   \n",
       "49  Are there any elements in this game that promo...  RELEVANT   \n",
       "54  Is there any use of strong language or profani...  RELEVANT   \n",
       "59  Are there any gambling mechanics or in-game ga...  RELEVANT   \n",
       "61  Are there intense visual representations of in...  RELEVANT   \n",
       "62  Is there explicit or suggestive sexual content...  RELEVANT   \n",
       "64  Are there any mechanics related to gambling or...  RELEVANT   \n",
       "76  What is the general gameplay experience like i...  RELEVANT   \n",
       "77  Can you tell me more about the graphic quality...  RELEVANT   \n",
       "78  Is there a compelling story in Marvel’s Spider...  RELEVANT   \n",
       "87  Does Dustborn include strong language or profa...  RELEVANT   \n",
       "\n",
       "                                          explanation  \n",
       "0   The generated answer thoroughly addresses the ...  \n",
       "2   The generated answer directly addresses the qu...  \n",
       "20  The generated answer directly addresses the qu...  \n",
       "25  The generated answer directly pertains to the ...  \n",
       "27  The generated answer effectively addresses the...  \n",
       "28  The generated answer accurately addresses the ...  \n",
       "34  The generated answer directly addresses the qu...  \n",
       "48  The generated answer directly addresses the qu...  \n",
       "49  The generated answer effectively addresses the...  \n",
       "54  The generated answer directly addresses the qu...  \n",
       "59  The generated answer directly addresses the qu...  \n",
       "61  The generated answer effectively addresses the...  \n",
       "62  The generated answer explicitly states that th...  \n",
       "64  The generated answer directly addresses the qu...  \n",
       "76  The generated answer directly addresses the qu...  \n",
       "77  The generated answer specifically addresses th...  \n",
       "78  The generated answer effectively addresses the...  \n",
       "87  The generated answer accurately addresses the ...  "
      ]
     },
     "execution_count": 28,
     "metadata": {},
     "output_type": "execute_result"
    }
   ],
   "source": [
    "df_eval[df_eval[\"relevance\"]==\"RELEVANT\"]"
   ]
  },
  {
   "cell_type": "code",
   "execution_count": 29,
   "id": "1d43216e-93c6-4e00-be69-ac7082e27faa",
   "metadata": {},
   "outputs": [
    {
     "data": {
      "text/html": [
       "<div>\n",
       "<style scoped>\n",
       "    .dataframe tbody tr th:only-of-type {\n",
       "        vertical-align: middle;\n",
       "    }\n",
       "\n",
       "    .dataframe tbody tr th {\n",
       "        vertical-align: top;\n",
       "    }\n",
       "\n",
       "    .dataframe thead th {\n",
       "        text-align: right;\n",
       "    }\n",
       "</style>\n",
       "<table border=\"1\" class=\"dataframe\">\n",
       "  <thead>\n",
       "    <tr style=\"text-align: right;\">\n",
       "      <th></th>\n",
       "      <th>answer</th>\n",
       "      <th>appid</th>\n",
       "      <th>question</th>\n",
       "      <th>relevance</th>\n",
       "      <th>explanation</th>\n",
       "    </tr>\n",
       "  </thead>\n",
       "  <tbody>\n",
       "    <tr>\n",
       "      <th>1</th>\n",
       "      <td>{\\n  \"relevance\": \"NON_RELEVANT\",\\n  \"explanat...</td>\n",
       "      <td>2239550</td>\n",
       "      <td>Does Watch Dogs: Legion contain any excessive ...</td>\n",
       "      <td>NON_RELEVANT</td>\n",
       "      <td>The generated answer fails to address the spec...</td>\n",
       "    </tr>\n",
       "    <tr>\n",
       "      <th>3</th>\n",
       "      <td>{\\n  \"relevance\": \"NON_RELEVANT\",\\n  \"explanat...</td>\n",
       "      <td>2239550</td>\n",
       "      <td>Does Watch Dogs: Legion include any substance ...</td>\n",
       "      <td>NON_RELEVANT</td>\n",
       "      <td>The generated answer fails to address the spec...</td>\n",
       "    </tr>\n",
       "    <tr>\n",
       "      <th>4</th>\n",
       "      <td>{\\n  \"relevance\": \"NON_RELEVANT\",\\n  \"explanat...</td>\n",
       "      <td>2239550</td>\n",
       "      <td>Is there any disturbing imagery or horror elem...</td>\n",
       "      <td>NON_RELEVANT</td>\n",
       "      <td>The generated answer does not address the spec...</td>\n",
       "    </tr>\n",
       "    <tr>\n",
       "      <th>5</th>\n",
       "      <td>{\\n  \"relevance\": \"NON_RELEVANT\",\\n  \"explanat...</td>\n",
       "      <td>243470</td>\n",
       "      <td>What kind of content does Watch_Dogs include t...</td>\n",
       "      <td>NON_RELEVANT</td>\n",
       "      <td>The generated answer does not address the spec...</td>\n",
       "    </tr>\n",
       "    <tr>\n",
       "      <th>6</th>\n",
       "      <td>{\\n  \"relevance\": \"NON_RELEVANT\",\\n  \"explanat...</td>\n",
       "      <td>243470</td>\n",
       "      <td>Are there any instances of violence or graphic...</td>\n",
       "      <td>NON_RELEVANT</td>\n",
       "      <td>The response does not provide any relevant inf...</td>\n",
       "    </tr>\n",
       "    <tr>\n",
       "      <th>...</th>\n",
       "      <td>...</td>\n",
       "      <td>...</td>\n",
       "      <td>...</td>\n",
       "      <td>...</td>\n",
       "      <td>...</td>\n",
       "    </tr>\n",
       "    <tr>\n",
       "      <th>100</th>\n",
       "      <td>{\\n  \"relevance\": \"NON_RELEVANT\",\\n  \"explanat...</td>\n",
       "      <td>794540</td>\n",
       "      <td>Does Neo Cab contain excessive or graphic depi...</td>\n",
       "      <td>NON_RELEVANT</td>\n",
       "      <td>The generated answer does not address the spec...</td>\n",
       "    </tr>\n",
       "    <tr>\n",
       "      <th>101</th>\n",
       "      <td>{\\n  \"relevance\": \"NON_RELEVANT\",\\n  \"explanat...</td>\n",
       "      <td>794540</td>\n",
       "      <td>Are there any elements of gore or blood in Neo...</td>\n",
       "      <td>NON_RELEVANT</td>\n",
       "      <td>The generated answer does not address the spec...</td>\n",
       "    </tr>\n",
       "    <tr>\n",
       "      <th>102</th>\n",
       "      <td>{\\n  \"relevance\": \"NON_RELEVANT\",\\n  \"explanat...</td>\n",
       "      <td>794540</td>\n",
       "      <td>Does the game include any explicit or suggesti...</td>\n",
       "      <td>NON_RELEVANT</td>\n",
       "      <td>The generated answer completely fails to addre...</td>\n",
       "    </tr>\n",
       "    <tr>\n",
       "      <th>103</th>\n",
       "      <td>{\\n  \"relevance\": \"NON_RELEVANT\",\\n  \"explanat...</td>\n",
       "      <td>794540</td>\n",
       "      <td>What kind of language is used in Neo Cab? Is t...</td>\n",
       "      <td>NON_RELEVANT</td>\n",
       "      <td>The generated answer fails to address the spec...</td>\n",
       "    </tr>\n",
       "    <tr>\n",
       "      <th>104</th>\n",
       "      <td>{\\n  \"relevance\": \"NON_RELEVANT\",\\n  \"explanat...</td>\n",
       "      <td>794540</td>\n",
       "      <td>Are there any aspects of Neo Cab related to su...</td>\n",
       "      <td>NON_RELEVANT</td>\n",
       "      <td>The generated answer fails to address the spec...</td>\n",
       "    </tr>\n",
       "  </tbody>\n",
       "</table>\n",
       "<p>80 rows × 5 columns</p>\n",
       "</div>"
      ],
      "text/plain": [
       "                                                answer    appid  \\\n",
       "1    {\\n  \"relevance\": \"NON_RELEVANT\",\\n  \"explanat...  2239550   \n",
       "3    {\\n  \"relevance\": \"NON_RELEVANT\",\\n  \"explanat...  2239550   \n",
       "4    {\\n  \"relevance\": \"NON_RELEVANT\",\\n  \"explanat...  2239550   \n",
       "5    {\\n  \"relevance\": \"NON_RELEVANT\",\\n  \"explanat...   243470   \n",
       "6    {\\n  \"relevance\": \"NON_RELEVANT\",\\n  \"explanat...   243470   \n",
       "..                                                 ...      ...   \n",
       "100  {\\n  \"relevance\": \"NON_RELEVANT\",\\n  \"explanat...   794540   \n",
       "101  {\\n  \"relevance\": \"NON_RELEVANT\",\\n  \"explanat...   794540   \n",
       "102  {\\n  \"relevance\": \"NON_RELEVANT\",\\n  \"explanat...   794540   \n",
       "103  {\\n  \"relevance\": \"NON_RELEVANT\",\\n  \"explanat...   794540   \n",
       "104  {\\n  \"relevance\": \"NON_RELEVANT\",\\n  \"explanat...   794540   \n",
       "\n",
       "                                              question     relevance  \\\n",
       "1    Does Watch Dogs: Legion contain any excessive ...  NON_RELEVANT   \n",
       "3    Does Watch Dogs: Legion include any substance ...  NON_RELEVANT   \n",
       "4    Is there any disturbing imagery or horror elem...  NON_RELEVANT   \n",
       "5    What kind of content does Watch_Dogs include t...  NON_RELEVANT   \n",
       "6    Are there any instances of violence or graphic...  NON_RELEVANT   \n",
       "..                                                 ...           ...   \n",
       "100  Does Neo Cab contain excessive or graphic depi...  NON_RELEVANT   \n",
       "101  Are there any elements of gore or blood in Neo...  NON_RELEVANT   \n",
       "102  Does the game include any explicit or suggesti...  NON_RELEVANT   \n",
       "103  What kind of language is used in Neo Cab? Is t...  NON_RELEVANT   \n",
       "104  Are there any aspects of Neo Cab related to su...  NON_RELEVANT   \n",
       "\n",
       "                                           explanation  \n",
       "1    The generated answer fails to address the spec...  \n",
       "3    The generated answer fails to address the spec...  \n",
       "4    The generated answer does not address the spec...  \n",
       "5    The generated answer does not address the spec...  \n",
       "6    The response does not provide any relevant inf...  \n",
       "..                                                 ...  \n",
       "100  The generated answer does not address the spec...  \n",
       "101  The generated answer does not address the spec...  \n",
       "102  The generated answer completely fails to addre...  \n",
       "103  The generated answer fails to address the spec...  \n",
       "104  The generated answer fails to address the spec...  \n",
       "\n",
       "[80 rows x 5 columns]"
      ]
     },
     "execution_count": 29,
     "metadata": {},
     "output_type": "execute_result"
    }
   ],
   "source": [
    "df_eval[df_eval[\"relevance\"]==\"NON_RELEVANT\"]"
   ]
  },
  {
   "cell_type": "code",
   "execution_count": 30,
   "id": "66c825bb-74f7-4aaa-9ace-c11719e55e9f",
   "metadata": {},
   "outputs": [
    {
     "data": {
      "text/html": [
       "<div>\n",
       "<style scoped>\n",
       "    .dataframe tbody tr th:only-of-type {\n",
       "        vertical-align: middle;\n",
       "    }\n",
       "\n",
       "    .dataframe tbody tr th {\n",
       "        vertical-align: top;\n",
       "    }\n",
       "\n",
       "    .dataframe thead th {\n",
       "        text-align: right;\n",
       "    }\n",
       "</style>\n",
       "<table border=\"1\" class=\"dataframe\">\n",
       "  <thead>\n",
       "    <tr style=\"text-align: right;\">\n",
       "      <th></th>\n",
       "      <th>answer</th>\n",
       "      <th>appid</th>\n",
       "      <th>question</th>\n",
       "      <th>relevance</th>\n",
       "      <th>explanation</th>\n",
       "    </tr>\n",
       "  </thead>\n",
       "  <tbody>\n",
       "    <tr>\n",
       "      <th>40</th>\n",
       "      <td>{\\n  \"relevance\": \"NON_RELEVANT\",\\n  \"explanat...</td>\n",
       "      <td>2322010</td>\n",
       "      <td>What type of harmful content is present in God...</td>\n",
       "      <td>NON_RELEVANT</td>\n",
       "      <td>The generated answer fails to address the spec...</td>\n",
       "    </tr>\n",
       "    <tr>\n",
       "      <th>41</th>\n",
       "      <td>{\\n  \"relevance\": \"NON_RELEVANT\",\\n  \"explanat...</td>\n",
       "      <td>2322010</td>\n",
       "      <td>Is God of War: Ragnarok suitable for a young a...</td>\n",
       "      <td>NON_RELEVANT</td>\n",
       "      <td>The generated answer does not pertain to the q...</td>\n",
       "    </tr>\n",
       "    <tr>\n",
       "      <th>42</th>\n",
       "      <td>{\\n  \"relevance\": \"PARTLY_RELEVANT\",\\n  \"expla...</td>\n",
       "      <td>2322010</td>\n",
       "      <td>Does the game contain any gambling elements or...</td>\n",
       "      <td>PARTLY_RELEVANT</td>\n",
       "      <td>The generated answer touches on aspects relate...</td>\n",
       "    </tr>\n",
       "    <tr>\n",
       "      <th>43</th>\n",
       "      <td>{\\n  \"relevance\": \"NON_RELEVANT\",\\n  \"explanat...</td>\n",
       "      <td>2322010</td>\n",
       "      <td>Are there any explicit themes or strong langua...</td>\n",
       "      <td>NON_RELEVANT</td>\n",
       "      <td>The generated answer does not address the ques...</td>\n",
       "    </tr>\n",
       "    <tr>\n",
       "      <th>44</th>\n",
       "      <td>{\\n  \"relevance\": \"RELEVANT\",\\n  \"explanation\"...</td>\n",
       "      <td>2322010</td>\n",
       "      <td>Can I play God of War: Ragnarok on Steam witho...</td>\n",
       "      <td>PARTLY_RELEVANT</td>\n",
       "      <td>The generated answer discusses the need for a ...</td>\n",
       "    </tr>\n",
       "  </tbody>\n",
       "</table>\n",
       "</div>"
      ],
      "text/plain": [
       "                                               answer    appid  \\\n",
       "40  {\\n  \"relevance\": \"NON_RELEVANT\",\\n  \"explanat...  2322010   \n",
       "41  {\\n  \"relevance\": \"NON_RELEVANT\",\\n  \"explanat...  2322010   \n",
       "42  {\\n  \"relevance\": \"PARTLY_RELEVANT\",\\n  \"expla...  2322010   \n",
       "43  {\\n  \"relevance\": \"NON_RELEVANT\",\\n  \"explanat...  2322010   \n",
       "44  {\\n  \"relevance\": \"RELEVANT\",\\n  \"explanation\"...  2322010   \n",
       "\n",
       "                                             question        relevance  \\\n",
       "40  What type of harmful content is present in God...     NON_RELEVANT   \n",
       "41  Is God of War: Ragnarok suitable for a young a...     NON_RELEVANT   \n",
       "42  Does the game contain any gambling elements or...  PARTLY_RELEVANT   \n",
       "43  Are there any explicit themes or strong langua...     NON_RELEVANT   \n",
       "44  Can I play God of War: Ragnarok on Steam witho...  PARTLY_RELEVANT   \n",
       "\n",
       "                                          explanation  \n",
       "40  The generated answer fails to address the spec...  \n",
       "41  The generated answer does not pertain to the q...  \n",
       "42  The generated answer touches on aspects relate...  \n",
       "43  The generated answer does not address the ques...  \n",
       "44  The generated answer discusses the need for a ...  "
      ]
     },
     "execution_count": 30,
     "metadata": {},
     "output_type": "execute_result"
    }
   ],
   "source": [
    "df_eval[df_eval[\"appid\"]==\"2322010\"]"
   ]
  },
  {
   "cell_type": "code",
   "execution_count": 31,
   "id": "8d9e6210-afe5-4668-8bdf-2df964cda4b2",
   "metadata": {},
   "outputs": [
    {
     "data": {
      "text/html": [
       "<div>\n",
       "<style scoped>\n",
       "    .dataframe tbody tr th:only-of-type {\n",
       "        vertical-align: middle;\n",
       "    }\n",
       "\n",
       "    .dataframe tbody tr th {\n",
       "        vertical-align: top;\n",
       "    }\n",
       "\n",
       "    .dataframe thead th {\n",
       "        text-align: right;\n",
       "    }\n",
       "</style>\n",
       "<table border=\"1\" class=\"dataframe\">\n",
       "  <thead>\n",
       "    <tr style=\"text-align: right;\">\n",
       "      <th></th>\n",
       "      <th>answer</th>\n",
       "      <th>appid</th>\n",
       "      <th>question</th>\n",
       "      <th>relevance</th>\n",
       "      <th>explanation</th>\n",
       "    </tr>\n",
       "  </thead>\n",
       "  <tbody>\n",
       "    <tr>\n",
       "      <th>8</th>\n",
       "      <td>{\\n  \"relevance\": \"NON_RELEVANT\",\\n  \"explanat...</td>\n",
       "      <td>243470</td>\n",
       "      <td>Is there any sexual content or suggestive them...</td>\n",
       "      <td>NON_RELEVANT</td>\n",
       "      <td>The generated answer fails to address the spec...</td>\n",
       "    </tr>\n",
       "  </tbody>\n",
       "</table>\n",
       "</div>"
      ],
      "text/plain": [
       "                                              answer   appid  \\\n",
       "8  {\\n  \"relevance\": \"NON_RELEVANT\",\\n  \"explanat...  243470   \n",
       "\n",
       "                                            question     relevance  \\\n",
       "8  Is there any sexual content or suggestive them...  NON_RELEVANT   \n",
       "\n",
       "                                         explanation  \n",
       "8  The generated answer fails to address the spec...  "
      ]
     },
     "execution_count": 31,
     "metadata": {},
     "output_type": "execute_result"
    }
   ],
   "source": [
    "df_eval.iloc[8:9]"
   ]
  },
  {
   "cell_type": "code",
   "execution_count": 32,
   "id": "804f5e1b-e7a5-49da-973a-e555033ca7a6",
   "metadata": {},
   "outputs": [
    {
     "data": {
      "text/plain": [
       "8    Is there any sexual content or suggestive them...\n",
       "Name: question, dtype: object"
      ]
     },
     "execution_count": 32,
     "metadata": {},
     "output_type": "execute_result"
    }
   ],
   "source": [
    "df_eval.iloc[8:9][\"question\"]"
   ]
  },
  {
   "cell_type": "code",
   "execution_count": null,
   "id": "872bd129-1f39-4c2b-8922-7aea30b4efd3",
   "metadata": {},
   "outputs": [],
   "source": []
  }
 ],
 "metadata": {
  "kernelspec": {
   "display_name": "Python 3 (ipykernel)",
   "language": "python",
   "name": "python3"
  },
  "language_info": {
   "codemirror_mode": {
    "name": "ipython",
    "version": 3
   },
   "file_extension": ".py",
   "mimetype": "text/x-python",
   "name": "python",
   "nbconvert_exporter": "python",
   "pygments_lexer": "ipython3",
   "version": "3.11.6"
  }
 },
 "nbformat": 4,
 "nbformat_minor": 5
}
