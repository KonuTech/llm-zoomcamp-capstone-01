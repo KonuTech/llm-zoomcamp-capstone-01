{
 "cells": [
  {
   "cell_type": "code",
   "execution_count": 1,
   "id": "7e9bd3d3-cf94-45ba-a62b-ca479eaca14a",
   "metadata": {},
   "outputs": [
    {
     "data": {
      "text/plain": [
       "4"
      ]
     },
     "execution_count": 1,
     "metadata": {},
     "output_type": "execute_result"
    }
   ],
   "source": [
    "2+2"
   ]
  },
  {
   "cell_type": "code",
   "execution_count": 2,
   "id": "bb98219d-a5e8-4eff-87bb-d42ab9447c20",
   "metadata": {},
   "outputs": [],
   "source": [
    "import os\n",
    "import json"
   ]
  },
  {
   "cell_type": "code",
   "execution_count": 3,
   "id": "d49c1330-b853-4299-9e47-0281fdbbbb45",
   "metadata": {},
   "outputs": [
    {
     "name": "stdout",
     "output_type": "stream",
     "text": [
      "Author ID: 76561197996873645\n",
      "Review: Awesome game, but I held off playing it because of the top-down/isometric camera - didn't like the camera in DOS2 either.  Then I found the \"Native Camera Tweaks\" mod on Nexus Mods.\n",
      "\n",
      "This totally changes the game, allowing you to use standard 3rd person camera controls, and actually see what's ahead when moving up-hill.\n",
      "\n",
      "It turns out all outdoor areas have sky boxes (including sun and moon), and almost all interior areas have ceilings.  Trust me, you'll hardly notice the few times a ceiling is missing or \"pops in\", unless you're looking for it.  And there's no performance hit that I've noticed.\n",
      "\n",
      "Makes me wander why Larian didn't give an unlocked camera by default...\n",
      "\n",
      "Also you have full control over zoom/pitch/FoV/invert axis/dead zones etc through the mod's configuration file.\n",
      "\n",
      "[b][i]EDIT:  The mod has been updated (8 SEP 24) to work with patch 7.  Many thanks to Ersh for updating it so promptly!\n",
      "Timestamp Created: 1724579126\n",
      "-------------------------------------------------------------------------------\n",
      "Author ID: 76561198987891733\n",
      "Review: I'm investing 1400$ into a better gaming setup just so I can romance the twink vampire in 4kHD. This game is what happens when you pay your voice actors properly, and coincidentally one of them is actually Neil Newbon.\n",
      "Timestamp Created: 1725146088\n",
      "-------------------------------------------------------------------------------\n"
     ]
    }
   ],
   "source": [
    "# Directory containing the data files\n",
    "data_dir = os.path.abspath('../reviews-assistant/data/reviews')\n",
    "\n",
    "# Initialize an empty list to hold all reviews\n",
    "reviews = []\n",
    "\n",
    "# List objects in the directory\n",
    "objects_in_directory = os.listdir(data_dir)\n",
    "\n",
    "# Iterate over the files in the directory\n",
    "for obj in objects_in_directory:\n",
    "    if obj.endswith('.json'):  # Check if the file is a JSON file\n",
    "        file_path = os.path.join(data_dir, obj)\n",
    "        with open(file_path, 'r', encoding='utf-8') as jsonfile:\n",
    "            # Load the reviews from the JSON file\n",
    "            file_reviews = json.load(jsonfile)\n",
    "            reviews.extend(file_reviews)  # Append reviews to the main list\n",
    "\n",
    "# Print the first i reviews\n",
    "i = 2  # Change this to print more reviews if needed\n",
    "for review in reviews[:i]:\n",
    "    print(f\"Author ID: {review['author.steamid']}\")\n",
    "    print(f\"Review: {review.get('review', 'No text')}\")\n",
    "    print(f\"Timestamp Created: {review['timestamp_created']}\")\n",
    "    print(\"-\" * 79)"
   ]
  },
  {
   "cell_type": "code",
   "execution_count": 4,
   "id": "9ab15625-0aa0-4486-940e-e418847171b1",
   "metadata": {},
   "outputs": [
    {
     "name": "stdout",
     "output_type": "stream",
     "text": [
      "Author ID: 76561197970791943\n",
      "Review: BG3 is my favorite game of all time if that means anything to you. Probably not since you don't know me. Hi, my name is Warna. Now that you know me better, this is my favorite game of all time.\n",
      "Timestamp Created: 1726607144\n",
      "-------------------------------------------------------------------------------\n",
      "Author ID: 76561198096877172\n",
      "Review: Positive:\n",
      "This Game Is amazing It runs smooth as Silk for me 170 FPS, Ultra Settings NVIDIA DLSS Set to Ultra Performance\n",
      "\n",
      "Negative:\n",
      "I cannot wrap my head around this, The PSN account link. Why put that In If you don't get anything back In return?\n",
      "\n",
      "To The Negative Fans:\n",
      "You don't need to have PSN Linkage to play the story mode I haven't linked mine and I've just beat Thor In Midgard so stop stressing\n",
      "Timestamp Created: 1726773722\n",
      "-------------------------------------------------------------------------------\n"
     ]
    }
   ],
   "source": [
    "import os\n",
    "import json\n",
    "import random  # Import random for shuffling\n",
    "\n",
    "# Directory containing the data files\n",
    "data_dir = os.path.abspath('../reviews-assistant/data/reviews')\n",
    "\n",
    "# Initialize an empty list to hold all reviews\n",
    "reviews = []\n",
    "\n",
    "# List objects in the directory\n",
    "objects_in_directory = os.listdir(data_dir)\n",
    "\n",
    "# Iterate over the files in the directory\n",
    "for obj in objects_in_directory:\n",
    "    if obj.endswith('.json'):  # Check if the file is a JSON file\n",
    "        file_path = os.path.join(data_dir, obj)\n",
    "        with open(file_path, 'r', encoding='utf-8') as jsonfile:\n",
    "            # Load the reviews from the JSON file\n",
    "            file_reviews = json.load(jsonfile)\n",
    "            \n",
    "            # If the loaded content is a list of reviews, extend the main list\n",
    "            if isinstance(file_reviews, list):\n",
    "                reviews.extend(file_reviews)  # Append reviews to the main list\n",
    "            else:\n",
    "                reviews.append(file_reviews)  # Handle the case where it's not a list\n",
    "\n",
    "# Shuffle the reviews to randomize their order\n",
    "random.shuffle(reviews)\n",
    "\n",
    "# Print the first i shuffled reviews\n",
    "i = 2  # Change this to print more reviews if needed\n",
    "for review in reviews[:i]:\n",
    "    print(f\"Author ID: {review['author.steamid']}\")\n",
    "    print(f\"Review: {review.get('review', 'No text')}\")\n",
    "    print(f\"Timestamp Created: {review['timestamp_created']}\")\n",
    "    print(\"-\" * 79)\n"
   ]
  },
  {
   "cell_type": "code",
   "execution_count": 6,
   "id": "fe667866-f214-4de5-ac81-9ef0b05aaf3e",
   "metadata": {},
   "outputs": [],
   "source": [
    "from openai import OpenAI\n",
    "\n",
    "client = OpenAI()"
   ]
  },
  {
   "cell_type": "code",
   "execution_count": 7,
   "id": "e42b1497-8fd1-470c-a540-82c5d9e7f364",
   "metadata": {},
   "outputs": [],
   "source": [
    "prompt_template = \"\"\"\n",
    "You are emulating a user of our computer game preselection application.\n",
    "The application and its recommendations are based on reviews from an online shop called Steam.\n",
    "The application is designed for conservative fathers of young children who are not aware of how the modern gaming industry works.\n",
    "This application is for fathers who are not up to date with the latest titles released on a daily basis.\n",
    "Formulate 5 questions this user who is a father might ask based on a provided exercise.\n",
    "Make the questions specific to this exercise and user, who is a father. Remeber, user needs to keep his child from not suitable games, including DEI games.\n",
    "DEI ideology, which enforces Diversity, equity, and inclusion (DEI) hurts creativity, and uses corporate propaganda to improve sales. \n",
    "The record should contain the answer to the questions, and the questions should\n",
    "be complete and not too short. Use as fewer words as possible from the record. \n",
    "\n",
    "The record:\n",
    "\n",
    "title: {title}\n",
    "language: {language}\n",
    "review: {review}\n",
    "\n",
    "Provide the output in parsable JSON without using code blocks:\n",
    "\n",
    "{{\"questions\": [\"question1\", \"question2\", ..., \"question5\"]}}\n",
    "\"\"\".strip()"
   ]
  },
  {
   "cell_type": "code",
   "execution_count": 8,
   "id": "334fd8bb-954d-4250-880f-0c1a18c17eb3",
   "metadata": {},
   "outputs": [],
   "source": [
    "prompt = prompt_template.format(**reviews[0])"
   ]
  },
  {
   "cell_type": "code",
   "execution_count": 9,
   "id": "af92ad0d-437d-4d23-a31f-3402657e374c",
   "metadata": {},
   "outputs": [
    {
     "data": {
      "text/plain": [
       "'You are emulating a user of our computer game preselection application.\\nThe application and its recommendations are based on reviews from an online shop called Steam.\\nThe application is designed for conservative fathers of young children who are not aware of how the modern gaming industry works.\\nThis application is for fathers who are not up to date with the latest titles released on a daily basis.\\nFormulate 5 questions this user who is a father might ask based on a provided exercise.\\nMake the questions specific to this exercise and user, who is a father. Remeber, user needs to keep his child from not suitable games, including DEI games.\\nDEI ideollogy, which stands fro Diversity, equity, and inclusion (DEI) hurts creativity, and uses corporate propaganda. \\nThe record should contain the answer to the questions, and the questions should\\nbe complete and not too short. Use as fewer words as possible from the record. \\n\\nThe record:\\n\\ntitle: Baldur\\'s Gate 3\\nlanguage: english\\nreview: BG3 is my favorite game of all time if that means anything to you. Probably not since you don\\'t know me. Hi, my name is Warna. Now that you know me better, this is my favorite game of all time.\\n\\nProvide the output in parsable JSON without using code blocks:\\n\\n{\"questions\": [\"question1\", \"question2\", ..., \"question5\"]}'"
      ]
     },
     "execution_count": 9,
     "metadata": {},
     "output_type": "execute_result"
    }
   ],
   "source": [
    "prompt"
   ]
  },
  {
   "cell_type": "code",
   "execution_count": 10,
   "id": "152a6e47-327f-43d3-a6ef-7552e6be1116",
   "metadata": {},
   "outputs": [],
   "source": [
    "def llm(prompt):\n",
    "    response = client.chat.completions.create(\n",
    "        model='gpt-4o-mini',\n",
    "        messages=[{\"role\": \"user\", \"content\": prompt}]\n",
    "    )\n",
    "    \n",
    "    return response.choices[0].message.content"
   ]
  },
  {
   "cell_type": "code",
   "execution_count": 11,
   "id": "9178efc9-74b3-46c1-bf85-6abd37386692",
   "metadata": {},
   "outputs": [],
   "source": [
    "questions = llm(prompt)"
   ]
  },
  {
   "cell_type": "code",
   "execution_count": 12,
   "id": "537bcfe7-79b6-4c72-96bf-974eeac4bf3c",
   "metadata": {},
   "outputs": [
    {
     "data": {
      "text/plain": [
       "{'questions': [\"What are the main themes and content of Baldur's Gate 3, and are they suitable for young children?\",\n",
       "  \"Can you provide information on the game's visual style and how that might affect a child's perception?\",\n",
       "  \"Are there any elements in Baldur's Gate 3 that promote diversity or inclusion, and how do they impact the overall gaming experience?\",\n",
       "  \"Is there any violence or mature content in Baldur's Gate 3 that I should be aware of before letting my child play?\",\n",
       "  \"Do you have any recommendations for games similar to Baldur's Gate 3 that are more suitable for kids?\"]}"
      ]
     },
     "execution_count": 12,
     "metadata": {},
     "output_type": "execute_result"
    }
   ],
   "source": [
    "json.loads(questions)"
   ]
  },
  {
   "cell_type": "code",
   "execution_count": 13,
   "id": "923c20e8-54fa-4c26-9f6e-ea4f6a1db3f5",
   "metadata": {},
   "outputs": [],
   "source": [
    "def generate_questions(doc):\n",
    "    prompt = prompt_template.format(**doc)\n",
    "\n",
    "    response = client.chat.completions.create(\n",
    "        model='gpt-4o-mini',\n",
    "        messages=[{\"role\": \"user\", \"content\": prompt}]\n",
    "    )\n",
    "\n",
    "    json_response = response.choices[0].message.content\n",
    "    return json_response"
   ]
  },
  {
   "cell_type": "code",
   "execution_count": 14,
   "id": "1ea2a7ef-463a-4f7d-bf71-12f0a49ff589",
   "metadata": {},
   "outputs": [],
   "source": [
    "from tqdm.auto import tqdm"
   ]
  },
  {
   "cell_type": "code",
   "execution_count": 15,
   "id": "fcf6664b-7116-4057-802b-cfae58789147",
   "metadata": {},
   "outputs": [],
   "source": [
    "results = {}"
   ]
  },
  {
   "cell_type": "code",
   "execution_count": 16,
   "id": "9a2434ca-108a-4aa2-be79-701661e01358",
   "metadata": {},
   "outputs": [
    {
     "data": {
      "application/vnd.jupyter.widget-view+json": {
       "model_id": "58b4860f833a41af9a4cb7dea83b8ede",
       "version_major": 2,
       "version_minor": 0
      },
      "text/plain": [
       "  0%|          | 0/200 [00:00<?, ?it/s]"
      ]
     },
     "metadata": {},
     "output_type": "display_data"
    }
   ],
   "source": [
    "for doc in tqdm(reviews): \n",
    "    doc_id = doc['appid']\n",
    "    if doc_id in results:\n",
    "        continue\n",
    "\n",
    "    questions_raw = generate_questions(doc)\n",
    "    questions = json.loads(questions_raw)\n",
    "    results[doc_id] = questions['questions']"
   ]
  },
  {
   "cell_type": "code",
   "execution_count": 17,
   "id": "e89cf1b7-52ad-4ae9-9510-a2cdcc8d2118",
   "metadata": {},
   "outputs": [],
   "source": [
    "final_results = []\n",
    "\n",
    "for doc_id, reviews in results.items():\n",
    "    for q in reviews:\n",
    "        final_results.append((doc_id, q))"
   ]
  },
  {
   "cell_type": "code",
   "execution_count": 18,
   "id": "3c52c53d-a829-41f8-a318-8614df7a9130",
   "metadata": {},
   "outputs": [
    {
     "data": {
      "text/plain": [
       "('1086940',\n",
       " \"What makes Baldur's Gate 3 a suitable choice for my child, considering I want to avoid games influenced by DEI ideologies?\")"
      ]
     },
     "execution_count": 18,
     "metadata": {},
     "output_type": "execute_result"
    }
   ],
   "source": [
    "final_results[0]"
   ]
  },
  {
   "cell_type": "code",
   "execution_count": 19,
   "id": "be042d8a-21c0-4826-a502-e95c1694055c",
   "metadata": {},
   "outputs": [
    {
     "data": {
      "text/plain": [
       "('2322010',\n",
       " 'What are some recommended parental controls or settings I should consider while my child is playing games like God of War: Ragnarok?')"
      ]
     },
     "execution_count": 19,
     "metadata": {},
     "output_type": "execute_result"
    }
   ],
   "source": [
    "final_results[-1]"
   ]
  },
  {
   "cell_type": "code",
   "execution_count": 20,
   "id": "157381c5-2b26-4314-b5fa-943d2a03beb7",
   "metadata": {},
   "outputs": [
    {
     "name": "stdout",
     "output_type": "stream",
     "text": [
      "Data saved to /mnt/c/Users/KonuTech/llm-zoomcamp-capstone-01/reviews-assistant/data/ground_truth/ground-truth-retrieval.json\n"
     ]
    }
   ],
   "source": [
    "import json\n",
    "import os\n",
    "\n",
    "# Assuming final_results is defined as a list of dictionaries\n",
    "# Example: final_results = [{'recommendationid': 1, 'question': 'What is the best game?'}, ...]\n",
    "data_dir = os.path.abspath('../reviews-assistant/data/ground_truth')\n",
    "\n",
    "# Define the output file path\n",
    "output_file = os.path.join(data_dir, \"ground-truth-retrieval.json\")\n",
    "\n",
    "# Save the results to a JSON file\n",
    "with open(output_file, 'w', encoding='utf-8') as json_file:\n",
    "    json.dump(final_results, json_file, ensure_ascii=False, indent=4)\n",
    "\n",
    "print(f\"Data saved to {output_file}\")\n"
   ]
  },
  {
   "cell_type": "code",
   "execution_count": null,
   "id": "70fb82e2-3d21-45e1-943e-28961b24ef60",
   "metadata": {},
   "outputs": [],
   "source": []
  }
 ],
 "metadata": {
  "kernelspec": {
   "display_name": "Python 3 (ipykernel)",
   "language": "python",
   "name": "python3"
  },
  "language_info": {
   "codemirror_mode": {
    "name": "ipython",
    "version": 3
   },
   "file_extension": ".py",
   "mimetype": "text/x-python",
   "name": "python",
   "nbconvert_exporter": "python",
   "pygments_lexer": "ipython3",
   "version": "3.10.12"
  }
 },
 "nbformat": 4,
 "nbformat_minor": 5
}
