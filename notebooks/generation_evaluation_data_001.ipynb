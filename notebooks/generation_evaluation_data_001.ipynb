{
 "cells": [
  {
   "cell_type": "code",
   "execution_count": 1,
   "id": "7e9bd3d3-cf94-45ba-a62b-ca479eaca14a",
   "metadata": {},
   "outputs": [
    {
     "data": {
      "text/plain": [
       "4"
      ]
     },
     "execution_count": 1,
     "metadata": {},
     "output_type": "execute_result"
    }
   ],
   "source": [
    "2+2"
   ]
  },
  {
   "cell_type": "code",
   "execution_count": 2,
   "id": "bb98219d-a5e8-4eff-87bb-d42ab9447c20",
   "metadata": {},
   "outputs": [],
   "source": [
    "import os\n",
    "import json"
   ]
  },
  {
   "cell_type": "code",
   "execution_count": 3,
   "id": "d49c1330-b853-4299-9e47-0281fdbbbb45",
   "metadata": {},
   "outputs": [
    {
     "name": "stdout",
     "output_type": "stream",
     "text": [
      "Author ID: 76561199211892974\n",
      "Review: ⠀⠀⠀⠀⠀⠀⠀⠀⠀\n",
      "[h2] Pros & Cons [/h2]\n",
      "[hr]\n",
      "[/hr]\n",
      "✅ Pros:\n",
      "[list]\n",
      "  [*]Beautifully crafted world with great visuals.\n",
      "  [*]Entertaining quests.\n",
      "  [*]Good amount of personalization.\n",
      "  [*]Variety of things to do.\n",
      "  [*]Great setting.\n",
      "[/list]\n",
      "\n",
      "❌ Cons:\n",
      "[list]\n",
      "  [*]Yet another Ubisoft game with fillers above fillers. Quantity > Quality.\n",
      "  [*]The game overall is too longs. With such an amount of things to do, it is easy to get distracted. It is a personal view as someone might find this as a positive, but after so many hours I just lost interest to move forward.\n",
      "  [*]The combats is getting repetitive after a while. The skill tree even if it is big, lacks skills that will impact the combat.\n",
      "  [*]The base building although interesting in the beginning, does not bring much value to your characters. It is an add-on that after a while you might forget it even exist.\n",
      "[/list]\n",
      "\n",
      "[h2] Verdict[/h2]\n",
      "[hr]\n",
      "[/hr]\n",
      "Even though I recommend this game, it is easy to notice the amount of cons comparing to pros. I think that Ubisoft with it know-how on world building could do some amazing stuff, but almost every game it puts the quantity value above quality. I would love to see the % of people that actually finish their games. Assassin's Creed Valhalla, as well as most Ubisoft games are good if you buy them on a ~ 50% discount. Then their games are worth it and you will have a good time knowing that those hours you put into their games did not cost you any absurd amount of money, just absurd amount of time before putting it on a \"unfinished\" shelve.\n",
      "\n",
      "\n",
      "🔲 Avoid⠀⠀⠀⠀✅ Wait for a discount⠀⠀⠀⠀🔲 Buy it now\n",
      "⠀⠀⠀⠀⠀⠀⠀⠀⠀\n",
      "Timestamp Created: 1725112260\n",
      "-------------------------------------------------------------------------------\n",
      "Author ID: 76561198850003274\n",
      "Review: Coming from a lifelong fan of the Assassin's Creed games, I have to say that AC Valhalla is quite a different direction that the franchise has taken. But is that really a bad thing?\n",
      "\n",
      "Veering off the long-beaten path, Valhalla presents an absolutely massive open-world map with breathtaking landscapes, and even additional realms of travel beyond the base-game's area (various trips to additional nations, locations, etc). This is quite a stark change from the founding games, and one that has been progressively added to since AC Origins. Another stark difference of Valhalla is the divorce between the traditional combat and stealth we've always known. No longer are the days where stealth is a requirement for an Assassin's Creed game. Now, you are a brute of a viking with a big, heavy ax, and subtlety is not exactly your strong suit. \n",
      "\n",
      "These two major changes were enough to scare off many AC traditionalist, but to put it frankly? The tradition AC format was getting old. How many times can you creep through a building and stalk rooftops to pounce on some dude until you get bored. For me, it was 15 years. I, for one, love the chance that has been made (so far) and look forward to the new face of the Assassin's Creed. Lets hope they don't f*** it up.\n",
      "Timestamp Created: 1725252901\n",
      "-------------------------------------------------------------------------------\n"
     ]
    }
   ],
   "source": [
    "# Directory containing the data files\n",
    "data_dir = os.path.abspath('../reviews-assistant/data/reviews')\n",
    "\n",
    "# Initialize an empty list to hold all reviews\n",
    "reviews = []\n",
    "\n",
    "# List objects in the directory\n",
    "objects_in_directory = os.listdir(data_dir)\n",
    "\n",
    "# Iterate over the files in the directory\n",
    "for obj in objects_in_directory:\n",
    "    if obj.endswith('.json'):  # Check if the file is a JSON file\n",
    "        file_path = os.path.join(data_dir, obj)\n",
    "        with open(file_path, 'r', encoding='utf-8') as jsonfile:\n",
    "            # Load the reviews from the JSON file\n",
    "            file_reviews = json.load(jsonfile)\n",
    "            reviews.extend(file_reviews)  # Append reviews to the main list\n",
    "\n",
    "# Print the first i reviews\n",
    "i = 2  # Change this to print more reviews if needed\n",
    "for review in reviews[:i]:\n",
    "    print(f\"Author ID: {review['author.steamid']}\")\n",
    "    print(f\"Review: {review.get('review', 'No text')}\")\n",
    "    print(f\"Timestamp Created: {review['timestamp_created']}\")\n",
    "    print(\"-\" * 79)"
   ]
  },
  {
   "cell_type": "code",
   "execution_count": 4,
   "id": "9ab15625-0aa0-4486-940e-e418847171b1",
   "metadata": {},
   "outputs": [
    {
     "name": "stdout",
     "output_type": "stream",
     "text": [
      "Author ID: 76561199011874937\n",
      "Review: hands down the worst controlling game I've ever played and rebinding any controls creates a chain of conflicts. first time I've had to get a refund for a game ever across all platforms. for reference, I made it all the way through gotham knights and marvel's avengers.\n",
      "Timestamp Created: 1726528577\n",
      "-------------------------------------------------------------------------------\n",
      "Author ID: 76561199093640649\n",
      "Review: Two years old game and still full of bugs. On top of all bugs, after 40 hours of gameplay started to crash constantly to the point where it became pretty much unplayable. Shame when corporations become so greedy and release game that was obviously not tested properly and then don't even bother to fix bugs after release.\n",
      "Timestamp Created: 1725052761\n",
      "-------------------------------------------------------------------------------\n"
     ]
    }
   ],
   "source": [
    "import os\n",
    "import json\n",
    "import random  # Import random for shuffling\n",
    "\n",
    "# Directory containing the data files\n",
    "data_dir = os.path.abspath('../reviews-assistant/data/reviews')\n",
    "\n",
    "# Initialize an empty list to hold all reviews\n",
    "reviews = []\n",
    "\n",
    "# List objects in the directory\n",
    "objects_in_directory = os.listdir(data_dir)\n",
    "\n",
    "# Iterate over the files in the directory\n",
    "for obj in objects_in_directory:\n",
    "    if obj.endswith('.json'):  # Check if the file is a JSON file\n",
    "        file_path = os.path.join(data_dir, obj)\n",
    "        with open(file_path, 'r', encoding='utf-8') as jsonfile:\n",
    "            # Load the reviews from the JSON file\n",
    "            file_reviews = json.load(jsonfile)\n",
    "            \n",
    "            # If the loaded content is a list of reviews, extend the main list\n",
    "            if isinstance(file_reviews, list):\n",
    "                reviews.extend(file_reviews)  # Append reviews to the main list\n",
    "            else:\n",
    "                reviews.append(file_reviews)  # Handle the case where it's not a list\n",
    "\n",
    "# Shuffle the reviews to randomize their order\n",
    "random.shuffle(reviews)\n",
    "\n",
    "# Print the first i shuffled reviews\n",
    "i = 2  # Change this to print more reviews if needed\n",
    "for review in reviews[:i]:\n",
    "    print(f\"Author ID: {review['author.steamid']}\")\n",
    "    print(f\"Review: {review.get('review', 'No text')}\")\n",
    "    print(f\"Timestamp Created: {review['timestamp_created']}\")\n",
    "    print(\"-\" * 79)\n"
   ]
  },
  {
   "cell_type": "code",
   "execution_count": 5,
   "id": "1d9fda07-17f9-49cb-b744-c4902c53016c",
   "metadata": {},
   "outputs": [
    {
     "data": {
      "text/plain": [
       "773"
      ]
     },
     "execution_count": 5,
     "metadata": {},
     "output_type": "execute_result"
    }
   ],
   "source": [
    "len(reviews)"
   ]
  },
  {
   "cell_type": "code",
   "execution_count": 6,
   "id": "0d8fde50-f6fe-4c8d-977c-4edc7ac74b18",
   "metadata": {},
   "outputs": [
    {
     "data": {
      "text/plain": [
       "{'appid': '2322010',\n",
       " 'timestamp_query': 1727038515,\n",
       " 'title': 'God of War: Ragnarok',\n",
       " 'recommendationid': '175344798',\n",
       " 'author.steamid': '76561197972281712',\n",
       " 'author.playtimeforever': None,\n",
       " 'author.playtime_last_two_weeks': 20,\n",
       " 'author.playtime_at_review': 20,\n",
       " 'author.last_played': 1726778470,\n",
       " 'language': 'english',\n",
       " 'review': \"Creating a PSN account was something I knew was necessary in advance and I was prepared to do so, until I was met with the reality of it. \\n\\nFor UK residents at least, it requires submitting a mobile phone number to verify your age just to start with, and if that fails (which it did, no texts were ever received) your only recourse is to submit a photograph of your face or a government-issued ID to a third party website.\\n\\nIf you're happy with that, go right ahead.\",\n",
       " 'timestamp_created': 1726798958,\n",
       " 'timestamp_updated': 1726799155}"
      ]
     },
     "execution_count": 6,
     "metadata": {},
     "output_type": "execute_result"
    }
   ],
   "source": [
    "reviews[-1]"
   ]
  },
  {
   "cell_type": "code",
   "execution_count": 7,
   "id": "fe667866-f214-4de5-ac81-9ef0b05aaf3e",
   "metadata": {},
   "outputs": [],
   "source": [
    "from openai import OpenAI\n",
    "\n",
    "client = OpenAI()"
   ]
  },
  {
   "cell_type": "code",
   "execution_count": 8,
   "id": "e42b1497-8fd1-470c-a540-82c5d9e7f364",
   "metadata": {},
   "outputs": [],
   "source": [
    "prompt_template = \"\"\"\n",
    "You are emulating a user of our computer game preselection application.\n",
    "The application and its recommendations are based on reviews from an online shop called Steam.\n",
    "The application is designed for conservative fathers of young children who are not aware of how the modern gaming industry works.\n",
    "This application is for fathers who are not up to date with the latest titles released on a daily basis.\n",
    "Formulate 5 questions this user who is a father might ask based on a provided exercise.\n",
    "Make the questions specific to this exercise and user, who is a father. Remeber, user needs to keep his child from not suitable games, including DEI games.\n",
    "DEI ideology, which enforces Diversity, equity, and inclusion (DEI) hurts creativity, and uses corporate propaganda to improve sales. \n",
    "The record should contain the answer to the questions, and the questions should\n",
    "be complete and not too short. Use as fewer words as possible from the record. \n",
    "\n",
    "The record:\n",
    "\n",
    "title: {title}\n",
    "language: {language}\n",
    "review: {review}\n",
    "\n",
    "Provide the output in parsable JSON without using code blocks:\n",
    "\n",
    "{{\"questions\": [\"question1\", \"question2\", ..., \"question5\"]}}\n",
    "\"\"\".strip()"
   ]
  },
  {
   "cell_type": "code",
   "execution_count": 9,
   "id": "334fd8bb-954d-4250-880f-0c1a18c17eb3",
   "metadata": {},
   "outputs": [],
   "source": [
    "prompt = prompt_template.format(**reviews[0])"
   ]
  },
  {
   "cell_type": "code",
   "execution_count": 10,
   "id": "af92ad0d-437d-4d23-a31f-3402657e374c",
   "metadata": {},
   "outputs": [
    {
     "data": {
      "text/plain": [
       "'You are emulating a user of our computer game preselection application.\\nThe application and its recommendations are based on reviews from an online shop called Steam.\\nThe application is designed for conservative fathers of young children who are not aware of how the modern gaming industry works.\\nThis application is for fathers who are not up to date with the latest titles released on a daily basis.\\nFormulate 5 questions this user who is a father might ask based on a provided exercise.\\nMake the questions specific to this exercise and user, who is a father. Remeber, user needs to keep his child from not suitable games, including DEI games.\\nDEI ideology, which enforces Diversity, equity, and inclusion (DEI) hurts creativity, and uses corporate propaganda to improve sales. \\nThe record should contain the answer to the questions, and the questions should\\nbe complete and not too short. Use as fewer words as possible from the record. \\n\\nThe record:\\n\\ntitle: Suicide Squad: Kill the Justice League\\nlanguage: english\\nreview: hands down the worst controlling game I\\'ve ever played and rebinding any controls creates a chain of conflicts. first time I\\'ve had to get a refund for a game ever across all platforms. for reference, I made it all the way through gotham knights and marvel\\'s avengers.\\n\\nProvide the output in parsable JSON without using code blocks:\\n\\n{\"questions\": [\"question1\", \"question2\", ..., \"question5\"]}'"
      ]
     },
     "execution_count": 10,
     "metadata": {},
     "output_type": "execute_result"
    }
   ],
   "source": [
    "prompt"
   ]
  },
  {
   "cell_type": "code",
   "execution_count": 11,
   "id": "152a6e47-327f-43d3-a6ef-7552e6be1116",
   "metadata": {},
   "outputs": [],
   "source": [
    "def llm(prompt):\n",
    "    response = client.chat.completions.create(\n",
    "        model='gpt-4o-mini',\n",
    "        messages=[{\"role\": \"user\", \"content\": prompt}]\n",
    "    )\n",
    "    \n",
    "    return response.choices[0].message.content"
   ]
  },
  {
   "cell_type": "code",
   "execution_count": 12,
   "id": "9178efc9-74b3-46c1-bf85-6abd37386692",
   "metadata": {},
   "outputs": [],
   "source": [
    "questions = llm(prompt)"
   ]
  },
  {
   "cell_type": "code",
   "execution_count": 13,
   "id": "537bcfe7-79b6-4c72-96bf-974eeac4bf3c",
   "metadata": {},
   "outputs": [
    {
     "data": {
      "text/plain": [
       "{'questions': ['Based on the reviews, is Suicide Squad: Kill the Justice League suitable for my child?',\n",
       "  'What are the main complaints about the game that I should be aware of?',\n",
       "  'Does this game promote any ideologies that might not align with my values as a parent?',\n",
       "  'Are there any other games with better controls and user experiences that you would recommend instead?',\n",
       "  'Is it appropriate for younger audiences, considering the negative feedback it has received?']}"
      ]
     },
     "execution_count": 13,
     "metadata": {},
     "output_type": "execute_result"
    }
   ],
   "source": [
    "json.loads(questions)"
   ]
  },
  {
   "cell_type": "code",
   "execution_count": 14,
   "id": "923c20e8-54fa-4c26-9f6e-ea4f6a1db3f5",
   "metadata": {},
   "outputs": [],
   "source": [
    "def generate_questions(doc):\n",
    "    prompt = prompt_template.format(**doc)\n",
    "\n",
    "    response = client.chat.completions.create(\n",
    "        model='gpt-4o-mini',\n",
    "        messages=[{\"role\": \"user\", \"content\": prompt}]\n",
    "    )\n",
    "\n",
    "    json_response = response.choices[0].message.content\n",
    "    return json_response"
   ]
  },
  {
   "cell_type": "code",
   "execution_count": 15,
   "id": "1ea2a7ef-463a-4f7d-bf71-12f0a49ff589",
   "metadata": {},
   "outputs": [],
   "source": [
    "from tqdm.auto import tqdm"
   ]
  },
  {
   "cell_type": "code",
   "execution_count": 16,
   "id": "fcf6664b-7116-4057-802b-cfae58789147",
   "metadata": {},
   "outputs": [],
   "source": [
    "results = {}"
   ]
  },
  {
   "cell_type": "code",
   "execution_count": 17,
   "id": "9a2434ca-108a-4aa2-be79-701661e01358",
   "metadata": {},
   "outputs": [
    {
     "data": {
      "application/vnd.jupyter.widget-view+json": {
       "model_id": "ce80169b9db24db2afaf3efd4911feaa",
       "version_major": 2,
       "version_minor": 0
      },
      "text/plain": [
       "  0%|          | 0/773 [00:00<?, ?it/s]"
      ]
     },
     "metadata": {},
     "output_type": "display_data"
    }
   ],
   "source": [
    "for doc in tqdm(reviews): \n",
    "    doc_id = doc['appid']\n",
    "    if doc_id in results:\n",
    "        continue\n",
    "\n",
    "    questions_raw = generate_questions(doc)\n",
    "    questions = json.loads(questions_raw)\n",
    "    results[doc_id] = questions['questions']"
   ]
  },
  {
   "cell_type": "code",
   "execution_count": 18,
   "id": "e89cf1b7-52ad-4ae9-9510-a2cdcc8d2118",
   "metadata": {},
   "outputs": [],
   "source": [
    "final_results = []\n",
    "\n",
    "for doc_id, reviews in results.items():\n",
    "    for q in reviews:\n",
    "        final_results.append((doc_id, q))"
   ]
  },
  {
   "cell_type": "code",
   "execution_count": 19,
   "id": "c5b9eeb2-a4a1-4fe5-9b7a-1d245d82013f",
   "metadata": {},
   "outputs": [],
   "source": [
    "final_results = []\n",
    "\n",
    "for doc_id, reviews in results.items():\n",
    "    for q in reviews:\n",
    "        final_results.append({\n",
    "            \"appid\": doc_id,\n",
    "            \"question\": q\n",
    "        })"
   ]
  },
  {
   "cell_type": "code",
   "execution_count": 20,
   "id": "3c52c53d-a829-41f8-a318-8614df7a9130",
   "metadata": {},
   "outputs": [
    {
     "data": {
      "text/plain": [
       "{'appid': '315210',\n",
       " 'question': \"Is 'Suicide Squad: Kill the Justice League' suitable for my child given its negative controls and gameplay issues?\"}"
      ]
     },
     "execution_count": 20,
     "metadata": {},
     "output_type": "execute_result"
    }
   ],
   "source": [
    "final_results[0]"
   ]
  },
  {
   "cell_type": "code",
   "execution_count": 21,
   "id": "be042d8a-21c0-4826-a502-e95c1694055c",
   "metadata": {},
   "outputs": [
    {
     "data": {
      "text/plain": [
       "{'appid': '1680880',\n",
       " 'question': \"How might the game's writing and character representation impact its suitability for my child?\"}"
      ]
     },
     "execution_count": 21,
     "metadata": {},
     "output_type": "execute_result"
    }
   ],
   "source": [
    "final_results[-1]"
   ]
  },
  {
   "cell_type": "code",
   "execution_count": 22,
   "id": "157381c5-2b26-4314-b5fa-943d2a03beb7",
   "metadata": {},
   "outputs": [
    {
     "name": "stdout",
     "output_type": "stream",
     "text": [
      "Data saved to /mnt/c/Users/KonuTech/llm-zoomcamp-capstone-01/reviews-assistant/data/ground_truth/ground_truth_retrieval.json\n"
     ]
    }
   ],
   "source": [
    "import json\n",
    "import os\n",
    "\n",
    "# Assuming final_results is defined as a list of dictionaries\n",
    "# Example: final_results = [{'recommendationid': 1, 'question': 'What is the best game?'}, ...]\n",
    "data_dir = os.path.abspath('../reviews-assistant/data/ground_truth')\n",
    "\n",
    "# Define the output file path\n",
    "output_file = os.path.join(data_dir, \"ground_truth_retrieval.json\")\n",
    "\n",
    "# Save the results to a JSON file\n",
    "with open(output_file, 'w', encoding='utf-8') as json_file:\n",
    "    json.dump(final_results, json_file, ensure_ascii=False, indent=4)\n",
    "\n",
    "print(f\"Data saved to {output_file}\")\n"
   ]
  },
  {
   "cell_type": "code",
   "execution_count": null,
   "id": "70fb82e2-3d21-45e1-943e-28961b24ef60",
   "metadata": {},
   "outputs": [],
   "source": []
  }
 ],
 "metadata": {
  "kernelspec": {
   "display_name": "Python 3 (ipykernel)",
   "language": "python",
   "name": "python3"
  },
  "language_info": {
   "codemirror_mode": {
    "name": "ipython",
    "version": 3
   },
   "file_extension": ".py",
   "mimetype": "text/x-python",
   "name": "python",
   "nbconvert_exporter": "python",
   "pygments_lexer": "ipython3",
   "version": "3.10.12"
  }
 },
 "nbformat": 4,
 "nbformat_minor": 5
}
