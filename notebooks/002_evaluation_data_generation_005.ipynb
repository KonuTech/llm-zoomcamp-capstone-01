{
 "cells": [
  {
   "cell_type": "code",
   "execution_count": 1,
   "id": "7e9bd3d3-cf94-45ba-a62b-ca479eaca14a",
   "metadata": {},
   "outputs": [
    {
     "data": {
      "text/plain": [
       "4"
      ]
     },
     "execution_count": 1,
     "metadata": {},
     "output_type": "execute_result"
    }
   ],
   "source": [
    "2+2"
   ]
  },
  {
   "cell_type": "code",
   "execution_count": 2,
   "id": "bb98219d-a5e8-4eff-87bb-d42ab9447c20",
   "metadata": {},
   "outputs": [
    {
     "data": {
      "text/plain": [
       "True"
      ]
     },
     "execution_count": 2,
     "metadata": {},
     "output_type": "execute_result"
    }
   ],
   "source": [
    "import json\n",
    "import os\n",
    "from dotenv import load_dotenv\n",
    "# Load environment variables from .env\n",
    "load_dotenv(\"/home/jovyan/.envrc\")"
   ]
  },
  {
   "cell_type": "code",
   "execution_count": 3,
   "id": "9ab15625-0aa0-4486-940e-e418847171b1",
   "metadata": {
    "scrolled": true
   },
   "outputs": [
    {
     "name": "stdout",
     "output_type": "stream",
     "text": [
      "Author ID: 76561198072094217\n",
      "Review: After putting in the same amount of hours that i needed to 100% finish Odyssey here I am finishing 100% of Valhalla. It was a nice adventure with a lot of fun and cool quests and locations.\n",
      "\n",
      "[h1] The good [/h1]\n",
      "\n",
      "They really nailed the viking experience I felt watching the Vikings tv show from 2013. Even tho it felt like a mini game the whole raiding settlements and monasteries I did enjoy it a lot, but kinda wished they did more with it.\n",
      "\n",
      "The story was ok and I really liked what they did with the whole reincarnation of the 'old gods'. The story could have been better presented or at least give some weight to the alliances you get over the time of playing. After finishing a zone and you get that alliances you might never get a chance to ever go back and you will only see 1 or 2 characters from that zone in conquests to just kick the bucket or tell you they won't help you in the future. This was missed potential and I wished they implemented the story better and not feel like it's a episodic tv show.\n",
      "\n",
      "I liked the items in this game, especially dual wielding axes. It wake up the viking in me. What I didn't like was how spread out the weapons were and for most of the game you were either forced to ignore the story to hunt down map for weapons/armor sets or just play with whatever you have on you.\n",
      "\n",
      "\n",
      "[h1] The bad [/h1]\n",
      "\n",
      "The combat was so boring, most of the time I just spammed left click without event trying to dodge because I had dual spears which is the best build you can make without even caring what spears they are. I wish they didn't make the enemies to annoying to fight with the rest of the weapons, but here we are.\n",
      "\n",
      "I can understand Origins and Odyssey for the lack of actual assassins, but what is the excuse here? Just because Eivor thinks they are stupid we aren't actually an assassin and just go about the country side murdering members of the cult with no personal goal.\n",
      "\n",
      "Even tho I liked to play as Odin and go about my business in the god's land I hated every minute of this. It was so badly implemented and I was surprised when they didn't make just one dlc they made TWO that were a continuation of the story.\n",
      "\n",
      "\n",
      "[h1] The Legend of Beowulf [/h1]\n",
      "\n",
      "Short, boring and uninteresting. They could have made this so much more interesting just by the fact of implementing something like they did with the olympus monsters in Odyssey.\n",
      "\n",
      "\n",
      "[h1] Wrath of the Druids [/h1]\n",
      "\n",
      "I liked the fact that I got o visit Ireland, but I hated the story line with the cliche getting back stabbed by the so called close friend in the end.\n",
      "\n",
      "\n",
      "[h1] The Siege of Paris [/h1]\n",
      "\n",
      "The story felt like it was forced just to make us visit France. The fact that we were the only person that can fix their problems is mind boggling. We weren't even on the same piece of land and had to cross the ocean to get there to help the people with their problems.\n",
      "\n",
      "\n",
      "[h1] Dawn of Ragnarök [/h1]\n",
      "\n",
      "I hated every minute of this garbage.\n",
      "\n",
      "\n",
      "[h1] Conclusion [/h1]\n",
      "\n",
      "\n",
      "Even tho I hated the dlcs and how they implemented the story sections in the base game I did have fun playing as a viking and would recommend this game to anybody who has seen any viking piece of media. Get this game on a sale since it often goes on 75-80% sales.\n",
      "Timestamp Created: 1726170771\n",
      "-------------------------------------------------------------------------------\n",
      "Author ID: 76561198113768652\n",
      "Review: This Far Cry offers nothing new. The gameplay is stale and repetitive, with the same tired mechanics we've seen in countless previous Far Cry titles. The story is bland and unengaging, and the characters are forgettable. The open world feels lifeless and empty, with little to explore or do.\n",
      "\n",
      "If you've played any of the previous Far Cry games, you've essentially played them all. There's no reason to waste your time or money on this sequel.\n",
      "Timestamp Created: 1727549813\n",
      "-------------------------------------------------------------------------------\n"
     ]
    }
   ],
   "source": [
    "import os\n",
    "import json\n",
    "import random  # Import random for shuffling\n",
    "\n",
    "# Directory containing the data files\n",
    "data_dir = os.path.abspath('../reviews-assistant/data/reviews')\n",
    "\n",
    "# Initialize an empty list to hold all reviews\n",
    "reviews = []\n",
    "\n",
    "# List objects in the directory\n",
    "objects_in_directory = os.listdir(data_dir)\n",
    "\n",
    "# Iterate over the files in the directory\n",
    "for obj in objects_in_directory:\n",
    "    if obj.endswith('.json'):  # Check if the file is a JSON file\n",
    "        file_path = os.path.join(data_dir, obj)\n",
    "        with open(file_path, 'r', encoding='utf-8') as jsonfile:\n",
    "            # Load the reviews from the JSON file\n",
    "            file_reviews = json.load(jsonfile)\n",
    "            \n",
    "            # If the loaded content is a list of reviews, extend the main list\n",
    "            if isinstance(file_reviews, list):\n",
    "                reviews.extend(file_reviews)  # Append reviews to the main list\n",
    "            else:\n",
    "                reviews.append(file_reviews)  # Handle the case where it's not a list\n",
    "\n",
    "# Shuffle the reviews to randomize their order\n",
    "random.shuffle(reviews)\n",
    "\n",
    "# Print the first i shuffled reviews\n",
    "i = 2  # Change this to print more reviews if needed\n",
    "for review in reviews[:i]:\n",
    "    print(f\"Author ID: {review['author.steamid']}\")\n",
    "    print(f\"Review: {review.get('review', 'No text')}\")\n",
    "    print(f\"Timestamp Created: {review['timestamp_created']}\")\n",
    "    print(\"-\" * 79)\n"
   ]
  },
  {
   "cell_type": "code",
   "execution_count": 4,
   "id": "1d9fda07-17f9-49cb-b744-c4902c53016c",
   "metadata": {},
   "outputs": [
    {
     "data": {
      "text/plain": [
       "1782"
      ]
     },
     "execution_count": 4,
     "metadata": {},
     "output_type": "execute_result"
    }
   ],
   "source": [
    "len(reviews)"
   ]
  },
  {
   "cell_type": "code",
   "execution_count": 5,
   "id": "0d8fde50-f6fe-4c8d-977c-4edc7ac74b18",
   "metadata": {
    "scrolled": true
   },
   "outputs": [
    {
     "data": {
      "text/plain": [
       "{'appid': '2208920',\n",
       " 'timestamp_query': 1727643597,\n",
       " 'title': \"Assassin's Creed Valhalla\",\n",
       " 'recommendationid': '174722275',\n",
       " 'author.steamid': '76561199291372999',\n",
       " 'author.playtimeforever': None,\n",
       " 'author.playtime_last_two_weeks': 0,\n",
       " 'author.playtime_at_review': 8996,\n",
       " 'author.last_played': 1726115935,\n",
       " 'language': 'english',\n",
       " 'review': 'The Graphics are amazing. I also enjoyed the story line. I never expected Eivor to be the leader eventually. I thought he was just the caretaker.',\n",
       " 'voted_up': True,\n",
       " 'votes_up': 0,\n",
       " 'timestamp_created': 1726050285,\n",
       " 'timestamp_updated': 1726050285}"
      ]
     },
     "execution_count": 5,
     "metadata": {},
     "output_type": "execute_result"
    }
   ],
   "source": [
    "reviews[-1]"
   ]
  },
  {
   "cell_type": "code",
   "execution_count": 6,
   "id": "fe667866-f214-4de5-ac81-9ef0b05aaf3e",
   "metadata": {},
   "outputs": [],
   "source": [
    "from openai import OpenAI\n",
    "\n",
    "client = OpenAI()"
   ]
  },
  {
   "cell_type": "code",
   "execution_count": 7,
   "id": "2adc111f-3136-435d-aa2f-0412dede1a96",
   "metadata": {},
   "outputs": [],
   "source": [
    "prompt_template = \"\"\"\n",
    "You are a PC video game enthusiast who enjoys playing games on their release day.\n",
    "You are aware that it is now common for developers to release unfinished or unoptimized products.\n",
    "You understand that developers often fail to deliver on the promises made about a game prior to its release.\n",
    "You prefer games that function well upon launch and are delivered with proper quality—titles that are not released prematurely.\n",
    "Also, a user does not want to use any external applications for logging or sharing data. They want only to use Steam as a means of buying and playing video games.\n",
    "\n",
    "Formulate 5 questions this user would ask based on the provided inputed review from Steam store.\n",
    "Create only questions that are related to this exercise and type of user.\n",
    "The record should contain the answer to the questions, and the questions should be complete and not too short. Use as few words as possible from the record.\n",
    "That will be the answer field of our output JSON file.\n",
    "\n",
    "After that, assign a single-word label to each question and store it as a label.\n",
    "That will be the section field of our output JSON file.\n",
    "The values for section can cover any issue a video gamer might be interested in: audio, video, hardware, plot, characters, ame mechanics, multiplayer opponents' toxicity, game-breaking bugs,, enemy variety, location variety, violence level, DEI (Diversity, Equity, Inclusion)presence, whether the game is complete, whether the game is functional, whether it is worth the price, etc. Be creative here.\n",
    "Also in output JSON file, assign to each question-answer a review which was used for text generation.\n",
    "\n",
    "The input record:\n",
    "\n",
    "appid: {appid}\n",
    "timestamp_query: {timestamp_query}\n",
    "title: {title}\n",
    "recommendationid: {recommendationid}\n",
    "language: {language}\n",
    "review: {review}\n",
    "voted_up: {voted_up}\n",
    "votes_up: {votes_up}\n",
    "timestamp_created: {timestamp_created}\n",
    "timestamp_updated: {timestamp_updated}\n",
    "\n",
    "Provide the output in parsable JSON without using code blocks:\n",
    "\n",
    "{{\"review\": [\"review1\"], \"question\": [\"question1\", \"question2\", ..., \"question5\"], \"answer\": [\"answer1\", \"answer2\", ..., \"answer5\"], \"section\": [\"section1\", \"section2\", ..., \"section5\"]}}\n",
    "\"\"\".strip()"
   ]
  },
  {
   "cell_type": "code",
   "execution_count": 8,
   "id": "334fd8bb-954d-4250-880f-0c1a18c17eb3",
   "metadata": {},
   "outputs": [],
   "source": [
    "prompt = prompt_template.format(**reviews[0])"
   ]
  },
  {
   "cell_type": "code",
   "execution_count": 9,
   "id": "af92ad0d-437d-4d23-a31f-3402657e374c",
   "metadata": {},
   "outputs": [
    {
     "data": {
      "text/plain": [
       "'You are a PC video game enthusiast who enjoys playing games on their release day.\\nYou are aware that it is now common for developers to release unfinished or unoptimized products.\\nYou understand that developers often fail to deliver on the promises made about a game prior to its release.\\nYou prefer games that function well upon launch and are delivered with proper quality—titles that are not released prematurely.\\nAlso, a user does not want to use any external applications for logging or sharing data. They want only to use Steam as a means of buying and playing video games.\\n\\nFormulate 5 questions this user would ask based on the provided inputed review from Steam store.\\nCreate only questions that are related to this exercise and type of user.\\nThe record should contain the answer to the questions, and the questions should be complete and not too short. Use as few words as possible from the record.\\nThat will be the answer field of our output JSON file.\\n\\nAfter that, assign a single-word label to each question and store it as a label.\\nThat will be the section field of our output JSON file.\\nThe values for section can cover any issue a video gamer might be interested in: audio, video, hardware, plot, characters, ame mechanics, multiplayer opponents\\' toxicity, game-breaking bugs,, enemy variety, location variety, violence level, DEI (Diversity, Equity, Inclusion)presence, whether the game is complete, whether the game is functional, whether it is worth the price, etc. Be creative here.\\nAlso in output JSON file, assign to each question-answer a review which was used for text generation.\\n\\nThe input record:\\n\\nappid: 2208920\\ntimestamp_query: 1727643597\\ntitle: Assassin\\'s Creed Valhalla\\nrecommendationid: 174819428\\nlanguage: english\\nreview: After putting in the same amount of hours that i needed to 100% finish Odyssey here I am finishing 100% of Valhalla. It was a nice adventure with a lot of fun and cool quests and locations.\\n\\n[h1] The good [/h1]\\n\\nThey really nailed the viking experience I felt watching the Vikings tv show from 2013. Even tho it felt like a mini game the whole raiding settlements and monasteries I did enjoy it a lot, but kinda wished they did more with it.\\n\\nThe story was ok and I really liked what they did with the whole reincarnation of the \\'old gods\\'. The story could have been better presented or at least give some weight to the alliances you get over the time of playing. After finishing a zone and you get that alliances you might never get a chance to ever go back and you will only see 1 or 2 characters from that zone in conquests to just kick the bucket or tell you they won\\'t help you in the future. This was missed potential and I wished they implemented the story better and not feel like it\\'s a episodic tv show.\\n\\nI liked the items in this game, especially dual wielding axes. It wake up the viking in me. What I didn\\'t like was how spread out the weapons were and for most of the game you were either forced to ignore the story to hunt down map for weapons/armor sets or just play with whatever you have on you.\\n\\n\\n[h1] The bad [/h1]\\n\\nThe combat was so boring, most of the time I just spammed left click without event trying to dodge because I had dual spears which is the best build you can make without even caring what spears they are. I wish they didn\\'t make the enemies to annoying to fight with the rest of the weapons, but here we are.\\n\\nI can understand Origins and Odyssey for the lack of actual assassins, but what is the excuse here? Just because Eivor thinks they are stupid we aren\\'t actually an assassin and just go about the country side murdering members of the cult with no personal goal.\\n\\nEven tho I liked to play as Odin and go about my business in the god\\'s land I hated every minute of this. It was so badly implemented and I was surprised when they didn\\'t make just one dlc they made TWO that were a continuation of the story.\\n\\n\\n[h1] The Legend of Beowulf [/h1]\\n\\nShort, boring and uninteresting. They could have made this so much more interesting just by the fact of implementing something like they did with the olympus monsters in Odyssey.\\n\\n\\n[h1] Wrath of the Druids [/h1]\\n\\nI liked the fact that I got o visit Ireland, but I hated the story line with the cliche getting back stabbed by the so called close friend in the end.\\n\\n\\n[h1] The Siege of Paris [/h1]\\n\\nThe story felt like it was forced just to make us visit France. The fact that we were the only person that can fix their problems is mind boggling. We weren\\'t even on the same piece of land and had to cross the ocean to get there to help the people with their problems.\\n\\n\\n[h1] Dawn of Ragnarök [/h1]\\n\\nI hated every minute of this garbage.\\n\\n\\n[h1] Conclusion [/h1]\\n\\n\\nEven tho I hated the dlcs and how they implemented the story sections in the base game I did have fun playing as a viking and would recommend this game to anybody who has seen any viking piece of media. Get this game on a sale since it often goes on 75-80% sales.\\nvoted_up: True\\nvotes_up: 14\\ntimestamp_created: 1726170771\\ntimestamp_updated: 1726170771\\n\\nProvide the output in parsable JSON without using code blocks:\\n\\n{\"review\": [\"review1\"], \"question\": [\"question1\", \"question2\", ..., \"question5\"], \"answer\": [\"answer1\", \"answer2\", ..., \"answer5\"], \"section\": [\"section1\", \"section2\", ..., \"section5\"]}'"
      ]
     },
     "execution_count": 9,
     "metadata": {},
     "output_type": "execute_result"
    }
   ],
   "source": [
    "prompt"
   ]
  },
  {
   "cell_type": "code",
   "execution_count": 10,
   "id": "152a6e47-327f-43d3-a6ef-7552e6be1116",
   "metadata": {},
   "outputs": [],
   "source": [
    "def llm(prompt):\n",
    "    response = client.chat.completions.create(\n",
    "        model='gpt-4o-mini',\n",
    "        messages=[{\"role\": \"user\", \"content\": prompt}]\n",
    "    )\n",
    "    \n",
    "    return response.choices[0].message.content"
   ]
  },
  {
   "cell_type": "code",
   "execution_count": 11,
   "id": "9178efc9-74b3-46c1-bf85-6abd37386692",
   "metadata": {},
   "outputs": [],
   "source": [
    "questions = llm(prompt)"
   ]
  },
  {
   "cell_type": "code",
   "execution_count": 12,
   "id": "537bcfe7-79b6-4c72-96bf-974eeac4bf3c",
   "metadata": {},
   "outputs": [
    {
     "data": {
      "text/plain": [
       "{'review': ['After putting in the same amount of hours that i needed to 100% finish Odyssey here I am finishing 100% of Valhalla. It was a nice adventure with a lot of fun and cool quests and locations.'],\n",
       " 'question': ['Does the game feel complete at launch, or are there unfinished elements that detract from the experience?',\n",
       "  'How well does the game perform without issues or bugs on release day?',\n",
       "  'Is there a good variety of quests and gameplay elements that make the game engaging?',\n",
       "  'Does the storyline feel cohesive and satisfying throughout the gameplay experience?',\n",
       "  'Is the game worth the full price considering the quality of content provided at launch?'],\n",
       " 'answer': ['The game feels somewhat incomplete, especially with the implementation of the story and DLCs.',\n",
       "  'There are concerns about combat being repetitive and some segments being poorly received.',\n",
       "  'The quests are fun, but some aspects felt scattered and lacking depth.',\n",
       "  'The storyline has missed potential and felt episodic rather than cohesive.',\n",
       "  'The game is recommended on sale due to its frequent price drops and mixed execution.'],\n",
       " 'section': ['completion', 'functionality', 'game mechanics', 'plot', 'value']}"
      ]
     },
     "execution_count": 12,
     "metadata": {},
     "output_type": "execute_result"
    }
   ],
   "source": [
    "json.loads(questions)"
   ]
  },
  {
   "cell_type": "code",
   "execution_count": 13,
   "id": "c91c0c33-17ef-441c-9229-1a120d22716a",
   "metadata": {},
   "outputs": [
    {
     "data": {
      "application/vnd.jupyter.widget-view+json": {
       "model_id": "31ec0b2db8e04f40a50247ea8d53f3cf",
       "version_major": 2,
       "version_minor": 0
      },
      "text/plain": [
       "  0%|          | 0/1782 [00:00<?, ?it/s]"
      ]
     },
     "metadata": {},
     "output_type": "display_data"
    },
    {
     "name": "stdout",
     "output_type": "stream",
     "text": [
      "Error processing document with appid 315210: JSONDecodeError - Expecting ',' delimiter: line 1 column 1036 (char 1035)\n",
      "Error processing document with appid 721180: JSONDecodeError - Expecting ',' delimiter: line 1 column 4322 (char 4321)\n",
      "Error processing document with appid 2698940: JSONDecodeError - Expecting ',' delimiter: line 1 column 1526 (char 1525)\n",
      "Error processing document with appid 721180: JSONDecodeError - Expecting ',' delimiter: line 1 column 687 (char 686)\n",
      "Error processing document with appid 2443720: JSONDecodeError - Expecting ',' delimiter: line 1 column 749 (char 748)\n",
      "Error processing document with appid 2322010: JSONDecodeError - Unterminated string starting at: line 1 column 2100 (char 2099)\n",
      "Error processing document with appid 2369390: JSONDecodeError - Expecting ',' delimiter: line 1 column 771 (char 770)\n",
      "Error processing document with appid 582160: JSONDecodeError - Expecting ',' delimiter: line 1 column 27 (char 26)\n",
      "Error processing document with appid 315210: JSONDecodeError - Expecting ',' delimiter: line 1 column 1080 (char 1079)\n"
     ]
    }
   ],
   "source": [
    "import json\n",
    "from tqdm.auto import tqdm\n",
    "\n",
    "def generate_questions(doc):\n",
    "    prompt = prompt_template.format(**doc)\n",
    "\n",
    "    response = client.chat.completions.create(\n",
    "        model='gpt-4o-mini',\n",
    "        messages=[{\"role\": \"user\", \"content\": prompt}]\n",
    "    )\n",
    "\n",
    "    json_response = response.choices[0].message.content\n",
    "    return json.loads(json_response)\n",
    "\n",
    "final_results = []\n",
    "\n",
    "# Initialize a unique ID counter starting from 0\n",
    "unique_id_counter = 0\n",
    "\n",
    "# Single pass: generating questions and structuring final results\n",
    "for doc in tqdm(reviews):\n",
    "    doc_id = doc['appid']\n",
    "\n",
    "    try:\n",
    "        # Generate questions, answers, and sections\n",
    "        questions_data = generate_questions(doc)\n",
    "\n",
    "        # Loop through questions, answers, and sections and add to final results\n",
    "        questions = questions_data['question']\n",
    "        answers = questions_data['answer']\n",
    "        sections = questions_data['section']\n",
    "\n",
    "        # Add to final results using the current document\n",
    "        for i in range(len(questions)):\n",
    "            final_results.append({\n",
    "                \"document_id\": unique_id_counter,  # Unique ID starting from 0 and incrementing\n",
    "                \"appid\": doc_id,                 # Add the appid for the game\n",
    "                \"review\": doc,                   # Add the current review document\n",
    "                \"question\": questions[i],         # Add the question\n",
    "                \"answer\": answers[i],             # Add the corresponding answer\n",
    "                \"section\": sections[i]            # Add the corresponding section\n",
    "            })\n",
    "\n",
    "            unique_id_counter += 1  # Increment the unique ID counter for the next entry\n",
    "\n",
    "    except json.JSONDecodeError as e:\n",
    "        print(f\"Error processing document with appid {doc_id}: JSONDecodeError - {e}\")\n",
    "    except Exception as e:\n",
    "        print(f\"Error processing document with appid {doc_id}: {e}\")"
   ]
  },
  {
   "cell_type": "code",
   "execution_count": 15,
   "id": "157381c5-2b26-4314-b5fa-943d2a03beb7",
   "metadata": {},
   "outputs": [
    {
     "name": "stdout",
     "output_type": "stream",
     "text": [
      "Data saved to /home/jovyan/reviews-assistant/data/ground_truth/ground_truth_retrieval.json\n"
     ]
    }
   ],
   "source": [
    "import json\n",
    "import os\n",
    "\n",
    "# Assuming final_results is defined as a list of dictionaries\n",
    "# Example: final_results = [{'recommendationid': 1, 'question': 'What is the best game?'}, ...]\n",
    "data_dir = os.path.abspath('../reviews-assistant/data/ground_truth')\n",
    "\n",
    "# Define the output file path\n",
    "output_file = os.path.join(data_dir, \"ground_truth_retrieval.json\")\n",
    "\n",
    "# Save the results to a JSON file\n",
    "with open(output_file, 'w', encoding='utf-8') as json_file:\n",
    "    json.dump(final_results, json_file, ensure_ascii=False, indent=4)\n",
    "\n",
    "print(f\"Data saved to {output_file}\")\n"
   ]
  },
  {
   "cell_type": "code",
   "execution_count": null,
   "id": "cfb258e6-1878-4584-9c0b-c02f0a3cfba4",
   "metadata": {},
   "outputs": [],
   "source": []
  }
 ],
 "metadata": {
  "kernelspec": {
   "display_name": "Python 3 (ipykernel)",
   "language": "python",
   "name": "python3"
  },
  "language_info": {
   "codemirror_mode": {
    "name": "ipython",
    "version": 3
   },
   "file_extension": ".py",
   "mimetype": "text/x-python",
   "name": "python",
   "nbconvert_exporter": "python",
   "pygments_lexer": "ipython3",
   "version": "3.11.6"
  }
 },
 "nbformat": 4,
 "nbformat_minor": 5
}
