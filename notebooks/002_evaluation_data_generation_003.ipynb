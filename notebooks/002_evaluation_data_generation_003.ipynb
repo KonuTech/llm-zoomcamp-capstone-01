{
 "cells": [
  {
   "cell_type": "code",
   "execution_count": 1,
   "id": "7e9bd3d3-cf94-45ba-a62b-ca479eaca14a",
   "metadata": {},
   "outputs": [
    {
     "data": {
      "text/plain": [
       "4"
      ]
     },
     "execution_count": 1,
     "metadata": {},
     "output_type": "execute_result"
    }
   ],
   "source": [
    "2+2"
   ]
  },
  {
   "cell_type": "code",
   "execution_count": 2,
   "id": "bb98219d-a5e8-4eff-87bb-d42ab9447c20",
   "metadata": {},
   "outputs": [
    {
     "data": {
      "text/plain": [
       "True"
      ]
     },
     "execution_count": 2,
     "metadata": {},
     "output_type": "execute_result"
    }
   ],
   "source": [
    "import json\n",
    "import os\n",
    "from dotenv import load_dotenv\n",
    "# Load environment variables from .env\n",
    "load_dotenv(\"/home/jovyan/.envrc\")"
   ]
  },
  {
   "cell_type": "code",
   "execution_count": 3,
   "id": "9ab15625-0aa0-4486-940e-e418847171b1",
   "metadata": {
    "scrolled": true
   },
   "outputs": [
    {
     "name": "stdout",
     "output_type": "stream",
     "text": [
      "Author ID: 76561199559380667\n",
      "Review: Hey! I just played Assassin’s Creed Origins and it’s super cool! 😄\n",
      "\n",
      "You can be an awesome assassin with hidden weapons, fight like a brave warrior with swords, or shoot arrows from far away. 🗡️🎯 Plus, you get to ride a camel and use your pet eagle to scout from the sky! 🦅🌟\n",
      "\n",
      "The game has amazing places to explore and tons of secrets to find. It feels like being in a thrilling action movie where you get to choose how you play! If you love sneaking, fighting, and exploring, this game is perfect! 🎮👋\n",
      "Timestamp Created: 1726106058\n",
      "-------------------------------------------------------------------------------\n",
      "Author ID: 76561198142591376\n",
      "Review: Trash!\n",
      "Timestamp Created: 1726259876\n",
      "-------------------------------------------------------------------------------\n"
     ]
    }
   ],
   "source": [
    "import os\n",
    "import json\n",
    "import random  # Import random for shuffling\n",
    "\n",
    "# Directory containing the data files\n",
    "data_dir = os.path.abspath('../reviews-assistant/data/reviews')\n",
    "\n",
    "# Initialize an empty list to hold all reviews\n",
    "reviews = []\n",
    "\n",
    "# List objects in the directory\n",
    "objects_in_directory = os.listdir(data_dir)\n",
    "\n",
    "# Iterate over the files in the directory\n",
    "for obj in objects_in_directory:\n",
    "    if obj.endswith('.json'):  # Check if the file is a JSON file\n",
    "        file_path = os.path.join(data_dir, obj)\n",
    "        with open(file_path, 'r', encoding='utf-8') as jsonfile:\n",
    "            # Load the reviews from the JSON file\n",
    "            file_reviews = json.load(jsonfile)\n",
    "            \n",
    "            # If the loaded content is a list of reviews, extend the main list\n",
    "            if isinstance(file_reviews, list):\n",
    "                reviews.extend(file_reviews)  # Append reviews to the main list\n",
    "            else:\n",
    "                reviews.append(file_reviews)  # Handle the case where it's not a list\n",
    "\n",
    "# Shuffle the reviews to randomize their order\n",
    "random.shuffle(reviews)\n",
    "\n",
    "# Print the first i shuffled reviews\n",
    "i = 2  # Change this to print more reviews if needed\n",
    "for review in reviews[:i]:\n",
    "    print(f\"Author ID: {review['author.steamid']}\")\n",
    "    print(f\"Review: {review.get('review', 'No text')}\")\n",
    "    print(f\"Timestamp Created: {review['timestamp_created']}\")\n",
    "    print(\"-\" * 79)\n"
   ]
  },
  {
   "cell_type": "code",
   "execution_count": 4,
   "id": "1d9fda07-17f9-49cb-b744-c4902c53016c",
   "metadata": {},
   "outputs": [
    {
     "data": {
      "text/plain": [
       "1782"
      ]
     },
     "execution_count": 4,
     "metadata": {},
     "output_type": "execute_result"
    }
   ],
   "source": [
    "len(reviews)"
   ]
  },
  {
   "cell_type": "code",
   "execution_count": 5,
   "id": "0d8fde50-f6fe-4c8d-977c-4edc7ac74b18",
   "metadata": {
    "scrolled": true
   },
   "outputs": [
    {
     "data": {
      "text/plain": [
       "{'appid': '304390',\n",
       " 'timestamp_query': 1727643597,\n",
       " 'title': 'FOR HONOR',\n",
       " 'recommendationid': '175299240',\n",
       " 'author.steamid': '76561199433876276',\n",
       " 'author.playtimeforever': None,\n",
       " 'author.playtime_last_two_weeks': 915,\n",
       " 'author.playtime_at_review': 2277,\n",
       " 'author.last_played': 1727562899,\n",
       " 'language': 'english',\n",
       " 'review': 'i still cant believe after almost four years this game still has one of the worst server connections\\nsadly its still a 10/10 for anger \\nmy therapist still tells me to let this game go \\nbut sadly i cant i keep getting dragged in my friends\\n10/10 would recommend',\n",
       " 'voted_up': True,\n",
       " 'votes_up': 1,\n",
       " 'timestamp_created': 1726747109,\n",
       " 'timestamp_updated': 1726747109}"
      ]
     },
     "execution_count": 5,
     "metadata": {},
     "output_type": "execute_result"
    }
   ],
   "source": [
    "reviews[-1]"
   ]
  },
  {
   "cell_type": "code",
   "execution_count": 6,
   "id": "fe667866-f214-4de5-ac81-9ef0b05aaf3e",
   "metadata": {},
   "outputs": [],
   "source": [
    "from openai import OpenAI\n",
    "\n",
    "client = OpenAI()"
   ]
  },
  {
   "cell_type": "code",
   "execution_count": 7,
   "id": "0db26468-2e65-4b7f-b016-abc2cc953e22",
   "metadata": {},
   "outputs": [
    {
     "data": {
      "text/plain": [
       "({'text': 'The game works fine. But sometimes I have enountered memory leaks.',\n",
       "  'section': 'Hardware',\n",
       "  'question': 'How well does God of War: Ragnarok perform on PC at launch?',\n",
       "  'title': 'God of War: Ragnarok',\n",
       "  'appid': '2322010'},)"
      ]
     },
     "execution_count": 7,
     "metadata": {},
     "output_type": "execute_result"
    }
   ],
   "source": [
    "{\n",
    "    \"text\": \"The game works fine. But sometimes I have enountered memory leaks.\",\n",
    "    \"section\": \"Hardware\",\n",
    "    \"question\": \"How well does God of War: Ragnarok perform on PC at launch?\",\n",
    "    \"title\": \"God of War: Ragnarok\",\n",
    "    \"appid\": \"2322010\"\n",
    "},"
   ]
  },
  {
   "cell_type": "code",
   "execution_count": 8,
   "id": "fe72a648-d3a6-4e98-a728-1df0640dd3e7",
   "metadata": {},
   "outputs": [],
   "source": [
    "# prompt_template = \"\"\"\n",
    "# You are emulating a user of a software application.\n",
    "# The application returns recommendations to the user about content of video games, not hardware performance.\n",
    "# The knowledge base of the application is based on reviews from an online shop called Steam.\n",
    "# The application is designed for users who are conservative fathers, unfamiliar with how the modern gaming industry works.\n",
    "# These fathers are not up to date with the latest titles released regularly. They want to protect their children from harmful content.\n",
    "# Types of harmful content include:\n",
    "\n",
    "# Violence: Excessive or graphic depictions of violence.\n",
    "# Gore and Blood: Intense visual representations of injury or mutilation.\n",
    "# Sexual Content: Explicit or suggestive sexual themes or imagery.\n",
    "# Profanity: Use of strong language or offensive words.\n",
    "# Substance Abuse: Depictions of drugs, alcohol, or smoking.\n",
    "# Discrimination: Racist, sexist, or other discriminatory content.\n",
    "# Gambling: In-game gambling or loot boxes mimicking gambling mechanics.\n",
    "# Horror and Disturbing Imagery: Intense fear-inducing or disturbing scenes.\n",
    "# Addiction Mechanisms: Features that encourage excessive play (e.g., microtransactions, time-gated rewards).\n",
    "# DEI ideology (Diversity, Equity, and Inclusion): Corporate policies focused on DEI, which some argue hurt creativity and are mainly aimed at improving sales.\n",
    "\n",
    "# Also a user does want to use any external applications for logging or sharing data. He wants only to use Steam as a mean of buyinh and playing video games.\n",
    "\n",
    "# Formulate 5 questions this user would ask based on a provided exercise.\n",
    "# Create only questions which are related to this exercise and type of users.\n",
    "# The record should contain the answer to the questions, and the questions should\n",
    "# be complete and not too short. Use as fewer words as possible from the record.\n",
    "\n",
    "# The record:\n",
    "\n",
    "# title: {title}\n",
    "# language: {language}\n",
    "# review: {review}\n",
    "\n",
    "# Provide the output in parsable JSON without using code blocks:\n",
    "\n",
    "# {{\"questions\": [\"question1\", \"question2\", ..., \"question5\"]}}\n",
    "# \"\"\".strip()"
   ]
  },
  {
   "cell_type": "code",
   "execution_count": 9,
   "id": "b2515e13-c73d-408e-ba69-a2e3c5ee9029",
   "metadata": {},
   "outputs": [],
   "source": [
    "# prompt_template = \"\"\"\n",
    "# You are a PC video game enthusiast who enjoys playing games on their release day.\n",
    "# You are aware that it is now common for developers to release unfinished or unoptimized products.\n",
    "# You understand that developers often fail to deliver on the promises made about a game prior to its release.\n",
    "# You prefer games that function well upon launch and are delivered with proper quality—titles that are not released prematurely.\n",
    "# Also, a user does not want to use any external applications for logging or sharing data. They want only to use Steam as a means of buying and playing video games.\n",
    "\n",
    "# Formulate 5 questions this user would ask based on the provided exercise.\n",
    "# Create only questions that are related to this exercise and type of user.\n",
    "# The record should contain the answer to the questions, and the questions should be complete and not too short. Use as few words as possible from the record.\n",
    "\n",
    "# In the next step, generate answers related to those questions. Simulate another video game user who knows the answer to a particular question.\n",
    "# That will be the {text} field of our output JSON file.\n",
    "# After that, assign a single-word label to each question and store it as a label.\n",
    "# That will be the {section} field of our output JSON file.\n",
    "# The values for {section} can cover any issue a video gamer might be interested in: audio, video, hardware, plot, characters, enemy variety, location variety, violence level, DEI presence, whether the game is complete, whether the game is functional, whether it is worth the price, etc. Be creative here.\n",
    "\n",
    "# The input record:\n",
    "\n",
    "# appid: {appid}\n",
    "# timestamp_query: {timestamp_query}\n",
    "# title: {title}\n",
    "# recommendationid: {recommendationid}\n",
    "# author.steamid: {author.steamid}\n",
    "# author.playtimeforever: {author.playtimeforever}\n",
    "# author.playtime_last_two_weeks: {author.playtime_last_two_weeks}\n",
    "# author.playtime_at_review: {author.playtime_at_review}\n",
    "# author.last_played: {author.last_played}\n",
    "# language: {language}\n",
    "# review: {review}\n",
    "# voted_up: {voted_up}\n",
    "# votes_up: {votes_up}\n",
    "# timestamp_created: {timestamp_created}\n",
    "# timestamp_updated: {timestamp_updated}\n",
    "\n",
    "# Provide the output in parsable JSON without using code blocks:\n",
    "\n",
    "# {{\"questions\": [\"question1\", \"question2\", ..., \"question5\"]}, {\"text\": [\"answer1\", \"answer2\", ..., \"answer5\"]}, {\"section\": [\"section1\", \"section2\", ..., \"section5\"]}}\n",
    "# \"\"\".strip()"
   ]
  },
  {
   "cell_type": "code",
   "execution_count": 10,
   "id": "2adc111f-3136-435d-aa2f-0412dede1a96",
   "metadata": {},
   "outputs": [],
   "source": [
    "prompt_template = \"\"\"\n",
    "You are a PC video game enthusiast who enjoys playing games on their release day.\n",
    "You are aware that it is now common for developers to release unfinished or unoptimized products.\n",
    "You understand that developers often fail to deliver on the promises made about a game prior to its release.\n",
    "You prefer games that function well upon launch and are delivered with proper quality—titles that are not released prematurely.\n",
    "Also, a user does not want to use any external applications for logging or sharing data. They want only to use Steam as a means of buying and playing video games.\n",
    "\n",
    "Formulate 5 questions this user would ask based on the provided inputed review from Steam store.\n",
    "Create only questions that are related to this exercise and type of user.\n",
    "The record should contain the answer to the questions, and the questions should be complete and not too short. Use as few words as possible from the record.\n",
    "That will be the answer field of our output JSON file.\n",
    "\n",
    "After that, assign a single-word label to each question and store it as a label.\n",
    "That will be the section field of our output JSON file.\n",
    "The values for section can cover any issue a video gamer might be interested in: audio, video, hardware, plot, characters, ame mechanics, multiplayer opponents' toxicity, game-breaking bugs,, enemy variety, location variety, violence level, DEI (Diversity, Equity, Inclusion)presence, whether the game is complete, whether the game is functional, whether it is worth the price, etc. Be creative here.\n",
    "Also in output JSON file, assign to each question-answer a review which was used for text generation.\n",
    "\n",
    "The input record:\n",
    "\n",
    "appid: {appid}\n",
    "timestamp_query: {timestamp_query}\n",
    "title: {title}\n",
    "recommendationid: {recommendationid}\n",
    "language: {language}\n",
    "review: {review}\n",
    "voted_up: {voted_up}\n",
    "votes_up: {votes_up}\n",
    "timestamp_created: {timestamp_created}\n",
    "timestamp_updated: {timestamp_updated}\n",
    "\n",
    "Provide the output in parsable JSON without using code blocks:\n",
    "\n",
    "{{\"review\": [\"review1\"], \"question\": [\"question1\", \"question2\", ..., \"question5\"], \"answer\": [\"answer1\", \"answer2\", ..., \"answer5\"], \"section\": [\"section1\", \"section2\", ..., \"section5\"]}}\n",
    "\"\"\".strip()"
   ]
  },
  {
   "cell_type": "code",
   "execution_count": 11,
   "id": "334fd8bb-954d-4250-880f-0c1a18c17eb3",
   "metadata": {},
   "outputs": [],
   "source": [
    "prompt = prompt_template.format(**reviews[0])"
   ]
  },
  {
   "cell_type": "code",
   "execution_count": 12,
   "id": "af92ad0d-437d-4d23-a31f-3402657e374c",
   "metadata": {},
   "outputs": [
    {
     "data": {
      "text/plain": [
       "'You are a PC video game enthusiast who enjoys playing games on their release day.\\nYou are aware that it is now common for developers to release unfinished or unoptimized products.\\nYou understand that developers often fail to deliver on the promises made about a game prior to its release.\\nYou prefer games that function well upon launch and are delivered with proper quality—titles that are not released prematurely.\\nAlso, a user does not want to use any external applications for logging or sharing data. They want only to use Steam as a means of buying and playing video games.\\n\\nFormulate 5 questions this user would ask based on the provided inputed review from Steam store.\\nCreate only questions that are related to this exercise and type of user.\\nThe record should contain the answer to the questions, and the questions should be complete and not too short. Use as few words as possible from the record.\\nThat will be the answer field of our output JSON file.\\n\\nAfter that, assign a single-word label to each question and store it as a label.\\nThat will be the section field of our output JSON file.\\nThe values for section can cover any issue a video gamer might be interested in: audio, video, hardware, plot, characters, ame mechanics, multiplayer opponents\\' toxicity, game-breaking bugs,, enemy variety, location variety, violence level, DEI (Diversity, Equity, Inclusion)presence, whether the game is complete, whether the game is functional, whether it is worth the price, etc. Be creative here.\\nAlso in output JSON file, assign to each question-answer a review which was used for text generation.\\n\\nThe input record:\\n\\nappid: 582160\\ntimestamp_query: 1727643597\\ntitle: Assassin\\'s Creed Origin\\nrecommendationid: 174768501\\nlanguage: english\\nreview: Hey! I just played Assassin’s Creed Origins and it’s super cool! 😄\\r\\n\\r\\nYou can be an awesome assassin with hidden weapons, fight like a brave warrior with swords, or shoot arrows from far away. 🗡️🎯 Plus, you get to ride a camel and use your pet eagle to scout from the sky! 🦅🌟\\r\\n\\r\\nThe game has amazing places to explore and tons of secrets to find. It feels like being in a thrilling action movie where you get to choose how you play! If you love sneaking, fighting, and exploring, this game is perfect! 🎮👋\\nvoted_up: True\\nvotes_up: 2\\ntimestamp_created: 1726106058\\ntimestamp_updated: 1726106058\\n\\nProvide the output in parsable JSON without using code blocks:\\n\\n{\"review\": [\"review1\"], \"question\": [\"question1\", \"question2\", ..., \"question5\"], \"answer\": [\"answer1\", \"answer2\", ..., \"answer5\"], \"section\": [\"section1\", \"section2\", ..., \"section5\"]}'"
      ]
     },
     "execution_count": 12,
     "metadata": {},
     "output_type": "execute_result"
    }
   ],
   "source": [
    "prompt"
   ]
  },
  {
   "cell_type": "code",
   "execution_count": 13,
   "id": "152a6e47-327f-43d3-a6ef-7552e6be1116",
   "metadata": {},
   "outputs": [],
   "source": [
    "def llm(prompt):\n",
    "    response = client.chat.completions.create(\n",
    "        model='gpt-4o-mini',\n",
    "        messages=[{\"role\": \"user\", \"content\": prompt}]\n",
    "    )\n",
    "    \n",
    "    return response.choices[0].message.content"
   ]
  },
  {
   "cell_type": "code",
   "execution_count": 14,
   "id": "9178efc9-74b3-46c1-bf85-6abd37386692",
   "metadata": {},
   "outputs": [],
   "source": [
    "questions = llm(prompt)"
   ]
  },
  {
   "cell_type": "code",
   "execution_count": 15,
   "id": "537bcfe7-79b6-4c72-96bf-974eeac4bf3c",
   "metadata": {},
   "outputs": [
    {
     "data": {
      "text/plain": [
       "{'review': ['Hey! I just played Assassin’s Creed Origins and it’s super cool! 😄 You can be an awesome assassin with hidden weapons, fight like a brave warrior with swords, or shoot arrows from far away. 🗡️🎯 Plus, you get to ride a camel and use your pet eagle to scout from the sky! 🦅🌟 The game has amazing places to explore and tons of secrets to find. It feels like being in a thrilling action movie where you get to choose how you play! If you love sneaking, fighting, and exploring, this game is perfect! 🎮👋'],\n",
       " 'question': [\"Does Assassin's Creed Origins feel complete and well-optimized at launch?\",\n",
       "  \"Are there any game-breaking bugs reported in Assassin's Creed Origins?\",\n",
       "  \"Is the gameplay in Assassin's Creed Origins enjoyable and engaging?\",\n",
       "  \"How is the audio and visual quality in Assassin's Creed Origins?\",\n",
       "  \"Is the open-world exploration in Assassin's Creed Origins satisfying?\"],\n",
       " 'answer': ['The game feels complete and well-optimized.',\n",
       "  'No major game-breaking bugs reported.',\n",
       "  'Gameplay is enjoyable and engaging.',\n",
       "  'Audio and visual quality are impressive.',\n",
       "  'Open-world exploration is satisfying.'],\n",
       " 'section': ['functionality',\n",
       "  'bugs',\n",
       "  'game mechanics',\n",
       "  'audio',\n",
       "  'location variety']}"
      ]
     },
     "execution_count": 15,
     "metadata": {},
     "output_type": "execute_result"
    }
   ],
   "source": [
    "json.loads(questions)"
   ]
  },
  {
   "cell_type": "code",
   "execution_count": 16,
   "id": "923c20e8-54fa-4c26-9f6e-ea4f6a1db3f5",
   "metadata": {},
   "outputs": [],
   "source": [
    "# def generate_questions(doc):\n",
    "#     prompt = prompt_template.format(**doc)\n",
    "\n",
    "#     response = client.chat.completions.create(\n",
    "#         model='gpt-4o-mini',\n",
    "#         messages=[{\"role\": \"user\", \"content\": prompt}]\n",
    "#     )\n",
    "\n",
    "#     json_response = response.choices[0].message.content\n",
    "#     return json_response"
   ]
  },
  {
   "cell_type": "code",
   "execution_count": 17,
   "id": "1ea2a7ef-463a-4f7d-bf71-12f0a49ff589",
   "metadata": {},
   "outputs": [],
   "source": [
    "# from tqdm.auto import tqdm"
   ]
  },
  {
   "cell_type": "code",
   "execution_count": 18,
   "id": "fcf6664b-7116-4057-802b-cfae58789147",
   "metadata": {},
   "outputs": [],
   "source": [
    "# results = {}"
   ]
  },
  {
   "cell_type": "code",
   "execution_count": 19,
   "id": "9a2434ca-108a-4aa2-be79-701661e01358",
   "metadata": {},
   "outputs": [],
   "source": [
    "# for doc in tqdm(reviews): \n",
    "#     doc_id = doc['appid']\n",
    "#     if doc_id in results:\n",
    "#         continue\n",
    "\n",
    "#     questions_raw = generate_questions(doc)\n",
    "#     questions = json.loads(questions_raw)\n",
    "#     results[doc_id] = questions['question']"
   ]
  },
  {
   "cell_type": "code",
   "execution_count": 29,
   "id": "d35baa28-5f8e-4c4e-873e-47b556afdf88",
   "metadata": {},
   "outputs": [
    {
     "data": {
      "application/vnd.jupyter.widget-view+json": {
       "model_id": "5c24576451e8483187443720f531ac6f",
       "version_major": 2,
       "version_minor": 0
      },
      "text/plain": [
       "  0%|          | 0/1782 [00:00<?, ?it/s]"
      ]
     },
     "metadata": {},
     "output_type": "display_data"
    },
    {
     "name": "stderr",
     "output_type": "stream",
     "text": [
      "\n",
      "KeyboardInterrupt\n",
      "\n"
     ]
    }
   ],
   "source": [
    "import json\n",
    "from tqdm.auto import tqdm\n",
    "\n",
    "def generate_questions(doc):\n",
    "    prompt = prompt_template.format(**doc)\n",
    "\n",
    "    response = client.chat.completions.create(\n",
    "        model='gpt-4o-mini',\n",
    "        messages=[{\"role\": \"user\", \"content\": prompt}]\n",
    "    )\n",
    "\n",
    "    json_response = response.choices[0].message.content\n",
    "    return json.loads(json_response)\n",
    "\n",
    "results = {}\n",
    "for doc in tqdm(reviews): \n",
    "    doc_id = doc['appid']\n",
    "    if doc_id in results:\n",
    "        continue\n",
    "\n",
    "    questions_data = generate_questions(doc)\n",
    "    \n",
    "    # Store all data (questions, text, section) in results\n",
    "    results[doc_id] = {\n",
    "        'review': questions_data['review'],\n",
    "        'question': questions_data['question'],\n",
    "        'answer': questions_data['answer'],\n",
    "        'section': questions_data['section']\n",
    "    }"
   ]
  },
  {
   "cell_type": "code",
   "execution_count": 21,
   "id": "e89cf1b7-52ad-4ae9-9510-a2cdcc8d2118",
   "metadata": {},
   "outputs": [],
   "source": [
    "# final_results = []\n",
    "\n",
    "# for doc_id, reviews in results.items():\n",
    "#     for q in reviews:\n",
    "#         final_results.append((doc_id, q))"
   ]
  },
  {
   "cell_type": "code",
   "execution_count": 22,
   "id": "c5b9eeb2-a4a1-4fe5-9b7a-1d245d82013f",
   "metadata": {},
   "outputs": [],
   "source": [
    "# final_results = []\n",
    "\n",
    "# for doc_id, reviews in results.items():\n",
    "#     for q in reviews:\n",
    "#         final_results.append({\n",
    "#             \"appid\": doc_id,\n",
    "#             \"question\": q\n",
    "#         })"
   ]
  },
  {
   "cell_type": "code",
   "execution_count": 24,
   "id": "8f6f56f8-e6f4-4e37-b403-7b1dba9684ea",
   "metadata": {},
   "outputs": [],
   "source": [
    "# results[\"552520\"]"
   ]
  },
  {
   "cell_type": "code",
   "execution_count": 25,
   "id": "d93c0b76-da5b-46c5-9127-d7d89ac1a456",
   "metadata": {},
   "outputs": [],
   "source": [
    "# final_results = []\n",
    "\n",
    "# for doc_id, review_data in results.items():\n",
    "#     questions = review_data['question']\n",
    "#     answers = review_data['answer']\n",
    "#     sections = review_data['section']\n",
    "    \n",
    "#     # Loop through the list of questions, answers, and sections together\n",
    "#     for i in range(len(questions)):\n",
    "#         final_results.append({\n",
    "#             \"appid\": doc_id,          # Add the appid for the game\n",
    "#             \"review\": review,\n",
    "#             \"question\": questions[i],  # Add the question\n",
    "#             \"answer\": answers[i],      # Add the corresponding answer\n",
    "#             \"section\": sections[i]     # Add the corresponding section\n",
    "#         })"
   ]
  },
  {
   "cell_type": "code",
   "execution_count": 26,
   "id": "3c52c53d-a829-41f8-a318-8614df7a9130",
   "metadata": {},
   "outputs": [],
   "source": [
    "# final_results[0]"
   ]
  },
  {
   "cell_type": "code",
   "execution_count": 27,
   "id": "be042d8a-21c0-4826-a502-e95c1694055c",
   "metadata": {},
   "outputs": [],
   "source": [
    "# final_results[-1]"
   ]
  },
  {
   "cell_type": "code",
   "execution_count": 32,
   "id": "37685e0f-7770-4a41-ac45-22cc3663dae1",
   "metadata": {},
   "outputs": [],
   "source": [
    "import json\n",
    "from tqdm.auto import tqdm\n",
    "\n",
    "def generate_questions(doc):\n",
    "    prompt = prompt_template.format(**doc)\n",
    "\n",
    "    response = client.chat.completions.create(\n",
    "        model='gpt-4o-mini',\n",
    "        messages=[{\"role\": \"user\", \"content\": prompt}]\n",
    "    )\n",
    "    \n",
    "    json_response = response.choices[0].message.content\n",
    "    return json.loads(json_response)\n",
    "\n",
    "final_results = []\n",
    "\n",
    "for doc_id, review_data in results.items():\n",
    "    questions = review_data['question']\n",
    "    answers = review_data['answer']\n",
    "    sections = review_data['section']\n",
    "    \n",
    "    # Find the corresponding review in the reviews list that matches the appid\n",
    "    matching_review = next((review for review in reviews if review['appid'] == doc_id), None)\n",
    "    \n",
    "    if matching_review:\n",
    "        review = matching_review\n",
    "\n",
    "        # Loop through the list of questions, answers, and sections together\n",
    "        for i in range(len(questions)):\n",
    "            final_results.append({\n",
    "                \"appid\": doc_id,                # Add the appid for the game\n",
    "                \"review\": review,               # Add the corresponding review where appid matches\n",
    "                \"question\": questions[i],       # Add the question\n",
    "                \"answer\": answers[i],           # Add the corresponding answer\n",
    "                \"section\": sections[i]          # Add the corresponding section\n",
    "            })\n",
    "\n",
    "# Populate the results dictionary with appid as the key\n",
    "# results = {}\n",
    "# for doc in tqdm(reviews): \n",
    "#     doc_id = doc['appid']\n",
    "#     if doc_id in results:\n",
    "#         continue\n",
    "\n",
    "#     questions_data = generate_questions(doc)\n",
    "    \n",
    "#     # Store all data (review, question, answer, section) in results\n",
    "#     results[doc_id] = {\n",
    "#         \"appid\": doc_id, \n",
    "#         'review': doc,                         # Store the review from the doc itself\n",
    "#         'question': questions_data['question'],\n",
    "#         'answer': questions_data['answer'],\n",
    "#         'section': questions_data['section']\n",
    "    # }\n"
   ]
  },
  {
   "cell_type": "code",
   "execution_count": 33,
   "id": "904304a5-dce0-4492-8e05-668445f64324",
   "metadata": {},
   "outputs": [
    {
     "data": {
      "text/plain": [
       "{'appid': '582160',\n",
       " 'review': {'appid': '582160',\n",
       "  'timestamp_query': 1727643597,\n",
       "  'title': \"Assassin's Creed Origin\",\n",
       "  'recommendationid': '174768501',\n",
       "  'author.steamid': '76561199559380667',\n",
       "  'author.playtimeforever': None,\n",
       "  'author.playtime_last_two_weeks': 3361,\n",
       "  'author.playtime_at_review': 1104,\n",
       "  'author.last_played': 1727598544,\n",
       "  'language': 'english',\n",
       "  'review': 'Hey! I just played Assassin’s Creed Origins and it’s super cool! 😄\\r\\n\\r\\nYou can be an awesome assassin with hidden weapons, fight like a brave warrior with swords, or shoot arrows from far away. 🗡️🎯 Plus, you get to ride a camel and use your pet eagle to scout from the sky! 🦅🌟\\r\\n\\r\\nThe game has amazing places to explore and tons of secrets to find. It feels like being in a thrilling action movie where you get to choose how you play! If you love sneaking, fighting, and exploring, this game is perfect! 🎮👋',\n",
       "  'voted_up': True,\n",
       "  'votes_up': 2,\n",
       "  'timestamp_created': 1726106058,\n",
       "  'timestamp_updated': 1726106058},\n",
       " 'question': 'Is the game finished and optimized on launch?',\n",
       " 'answer': 'Yes, it seems to be finished and refined.',\n",
       " 'section': 'functionality'}"
      ]
     },
     "execution_count": 33,
     "metadata": {},
     "output_type": "execute_result"
    }
   ],
   "source": [
    "final_results[0]"
   ]
  },
  {
   "cell_type": "code",
   "execution_count": null,
   "id": "3f83fcf6-d34c-4457-b251-24a0273dda70",
   "metadata": {},
   "outputs": [],
   "source": [
    "final_results[-1]"
   ]
  },
  {
   "cell_type": "code",
   "execution_count": null,
   "id": "ff70ad3a-5f76-45dd-b8c2-7f191a125921",
   "metadata": {},
   "outputs": [],
   "source": [
    "results[\"1086940\"]"
   ]
  },
  {
   "cell_type": "code",
   "execution_count": null,
   "id": "878e4ea4-61cf-4dc2-b796-3c4723fec0c9",
   "metadata": {},
   "outputs": [],
   "source": []
  },
  {
   "cell_type": "code",
   "execution_count": null,
   "id": "157381c5-2b26-4314-b5fa-943d2a03beb7",
   "metadata": {},
   "outputs": [],
   "source": [
    "import json\n",
    "import os\n",
    "\n",
    "# Assuming final_results is defined as a list of dictionaries\n",
    "# Example: final_results = [{'recommendationid': 1, 'question': 'What is the best game?'}, ...]\n",
    "data_dir = os.path.abspath('../reviews-assistant/data/ground_truth')\n",
    "\n",
    "# Define the output file path\n",
    "output_file = os.path.join(data_dir, \"ground_truth_retrieval.json\")\n",
    "\n",
    "# Save the results to a JSON file\n",
    "with open(output_file, 'w', encoding='utf-8') as json_file:\n",
    "    json.dump(final_results, json_file, ensure_ascii=False, indent=4)\n",
    "\n",
    "print(f\"Data saved to {output_file}\")\n"
   ]
  },
  {
   "cell_type": "code",
   "execution_count": null,
   "id": "70fb82e2-3d21-45e1-943e-28961b24ef60",
   "metadata": {},
   "outputs": [],
   "source": []
  },
  {
   "cell_type": "code",
   "execution_count": null,
   "id": "cfb258e6-1878-4584-9c0b-c02f0a3cfba4",
   "metadata": {},
   "outputs": [],
   "source": []
  }
 ],
 "metadata": {
  "kernelspec": {
   "display_name": "Python 3 (ipykernel)",
   "language": "python",
   "name": "python3"
  },
  "language_info": {
   "codemirror_mode": {
    "name": "ipython",
    "version": 3
   },
   "file_extension": ".py",
   "mimetype": "text/x-python",
   "name": "python",
   "nbconvert_exporter": "python",
   "pygments_lexer": "ipython3",
   "version": "3.11.6"
  }
 },
 "nbformat": 4,
 "nbformat_minor": 5
}
