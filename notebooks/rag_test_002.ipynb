{
 "cells": [
  {
   "cell_type": "code",
   "execution_count": 1,
   "id": "531840c5-b86a-4df9-be75-80ed49eaea93",
   "metadata": {},
   "outputs": [
    {
     "data": {
      "text/plain": [
       "4"
      ]
     },
     "execution_count": 1,
     "metadata": {},
     "output_type": "execute_result"
    }
   ],
   "source": [
    "2+2"
   ]
  },
  {
   "cell_type": "code",
   "execution_count": 2,
   "id": "d77e5346-19bf-4816-97f1-0d31d8c483b9",
   "metadata": {},
   "outputs": [],
   "source": [
    "# https://partner.steamgames.com/doc/store/getreviews"
   ]
  },
  {
   "cell_type": "code",
   "execution_count": 3,
   "id": "9bc7b342-a62f-45db-83c0-41056e34a8a9",
   "metadata": {},
   "outputs": [
    {
     "name": "stdout",
     "output_type": "stream",
     "text": [
      "Reviews for App ID 2322010 (God of War: Ragnarok) saved to /mnt/c/Users/KonuTech/llm-zoomcamp-capstone-01/reviews-assistant/data/reviews/reviews_god_of_war_ragnarok.json\n",
      "Reviews for App ID 1086940 (Baldur's Gate 3) saved to /mnt/c/Users/KonuTech/llm-zoomcamp-capstone-01/reviews-assistant/data/reviews/reviews_baldurs_gate_3.json\n",
      "Reviews for App ID 1680880 (Forspoken) saved to /mnt/c/Users/KonuTech/llm-zoomcamp-capstone-01/reviews-assistant/data/reviews/reviews_forspoken.json\n",
      "Reviews for App ID 1496790 (Gotham Knights) saved to /mnt/c/Users/KonuTech/llm-zoomcamp-capstone-01/reviews-assistant/data/reviews/reviews_gotham_knights.json\n",
      "Reviews for App ID 315210 (Suicide Squad: Kill the Justice League) saved to /mnt/c/Users/KonuTech/llm-zoomcamp-capstone-01/reviews-assistant/data/reviews/reviews_suicide_squad_kill_the_justice_league.json\n",
      "Reviews for App ID 2443720 (Concord) saved to /mnt/c/Users/KonuTech/llm-zoomcamp-capstone-01/reviews-assistant/data/reviews/reviews_concord.json\n",
      "Reviews for App ID 2208920 (Assassin's Creed Valhalla) saved to /mnt/c/Users/KonuTech/llm-zoomcamp-capstone-01/reviews-assistant/data/reviews/reviews_assassins_creed_valhalla.json\n",
      "Reviews for App ID 1817070 (Marvel’s Spider-Man Remastered) saved to /mnt/c/Users/KonuTech/llm-zoomcamp-capstone-01/reviews-assistant/data/reviews/reviews_marvel’s_spider-man_remastered.json\n",
      "Reviews for App ID 1832040 (Flintlock: The Siege of Dawn) saved to /mnt/c/Users/KonuTech/llm-zoomcamp-capstone-01/reviews-assistant/data/reviews/reviews_flintlock_the_siege_of_dawn.json\n"
     ]
    }
   ],
   "source": [
    "import requests\n",
    "import json\n",
    "import csv\n",
    "import sys\n",
    "import os\n",
    "import time  # Import time for the epoch timestamp\n",
    "import re  # Import re for regex\n",
    "\n",
    "\n",
    "# Construct the path to the scripts directory\n",
    "script_path = os.path.abspath('../reviews-assistant/scripts')\n",
    "\n",
    "# Add the path to sys.path\n",
    "if script_path not in sys.path:\n",
    "    sys.path.append(script_path)\n",
    "\n",
    "import minsearch\n",
    "\n",
    "\n",
    "class SteamReviewFetcher:\n",
    "    def __init__(self, appids_with_titles, filter=\"all\", language=\"english\", day_range=30, review_type=\"all\", purchase_type=\"all\"):\n",
    "        \"\"\"\n",
    "        Initializes the SteamReviewFetcher with the required parameters.\n",
    "\n",
    "        :param appids_with_titles: List of tuples containing Steam application IDs and their corresponding titles.\n",
    "        :param filter: Type of review filter.\n",
    "        :param language: Language of the reviews.\n",
    "        :param day_range: Number of days to consider for reviews.\n",
    "        :param review_type: Type of review (all or specific).\n",
    "        :param purchase_type: Type of purchase.\n",
    "        \"\"\"\n",
    "        self.base_url = \"https://store.steampowered.com/appreviews/\"\n",
    "        self.appids_with_titles = appids_with_titles if isinstance(appids_with_titles, list) else [appids_with_titles]\n",
    "        self.filter = filter\n",
    "        self.language = language\n",
    "        self.day_range = day_range\n",
    "        self.review_type = review_type\n",
    "        self.purchase_type = purchase_type\n",
    "        self.data_dir = os.path.abspath('../reviews-assistant/data/reviews')\n",
    "\n",
    "        # Ensure the data directory exists\n",
    "        os.makedirs(self.data_dir, exist_ok=True)\n",
    "\n",
    "    def _construct_url(self, appid):\n",
    "        return f\"{self.base_url}{appid}?json=1\"\n",
    "\n",
    "    def _fetch_reviews(self, appid, num_reviews):\n",
    "        url = self._construct_url(appid)\n",
    "        params = {\n",
    "            \"filter\": self.filter,\n",
    "            \"language\": self.language,\n",
    "            \"day_range\": self.day_range,\n",
    "            \"review_type\": self.review_type,\n",
    "            \"purchase_type\": self.purchase_type,\n",
    "            \"num_per_page\": num_reviews\n",
    "        }\n",
    "        response = requests.get(url, params=params)\n",
    "        response.raise_for_status()\n",
    "        return response.json()\n",
    "\n",
    "    def get_reviews(self, num_reviews=20, print_reviews=True):\n",
    "        all_reviews = {}\n",
    "        for appid, title in self.appids_with_titles:\n",
    "            review_data = self._fetch_reviews(appid, num_reviews)\n",
    "            reviews = review_data.get(\"reviews\", [])\n",
    "            all_reviews[appid] = (title, reviews)  # Store title along with reviews\n",
    "            \n",
    "            if print_reviews:\n",
    "                self.print_first_last_reviews(appid, title, reviews)\n",
    "\n",
    "        return all_reviews\n",
    "\n",
    "    def print_first_last_reviews(self, appid, title, reviews):\n",
    "        total_reviews = len(reviews)\n",
    "        if total_reviews == 0:\n",
    "            print(f\"No reviews found for App ID {appid} ({title}).\")\n",
    "            return\n",
    "\n",
    "        print(f\"\\nFirst 5 Reviews for App ID {appid} ({title}):\")\n",
    "        for review in reviews[:5]:\n",
    "            self._print_review(review)\n",
    "\n",
    "        print(f\"\\nLast 5 Reviews for App ID {appid} ({title}):\")\n",
    "        for review in reviews[-5:]:\n",
    "            self._print_review(review)\n",
    "\n",
    "    def _print_review(self, review):\n",
    "        print(f\"Author: {review['author']['steamid']}\")\n",
    "        print(f\"Review: {review.get('review', 'No text')}\")\n",
    "        print(f\"Rating: {'Positive' if review['voted_up'] else 'Negative'}\")\n",
    "        print(f\"Timestamp: {review['timestamp_created']}\")\n",
    "        print(\"-\" * 79)\n",
    "\n",
    "    def _extract_columns_to_save(self, reviews, appid, title):\n",
    "        extracted_reviews = []\n",
    "        current_time = int(time.time())  # Get current epoch time\n",
    "        for review in reviews:\n",
    "            review_dict = {\n",
    "                \"appid\": appid,  # Move appid to the first field\n",
    "                \"timestamp_query\": current_time,  # Move timestamp_query to the second field\n",
    "                \"title\": title,\n",
    "            }\n",
    "            for column in [\"recommendationid\", \"author.steamid\", \"author.playtimeforever\",\n",
    "                           \"author.playtime_last_two_weeks\", \"author.playtime_at_review\",\n",
    "                           \"author.last_played\", \"language\", \"review\", \"timestamp_created\", \"timestamp_updated\"]:\n",
    "                if column.split('.')[0] == 'author':\n",
    "                    nested_column = column.split('.')[1]\n",
    "                    review_dict[column] = review['author'].get(nested_column)\n",
    "                else:\n",
    "                    review_dict[column] = review.get(column)\n",
    "            extracted_reviews.append(review_dict)\n",
    "        return extracted_reviews\n",
    "\n",
    "    def save_reviews(self, all_reviews, filename_prefix, format):\n",
    "        for appid, (title, reviews) in all_reviews.items():\n",
    "            if not reviews:\n",
    "                print(f\"No reviews to save for App ID {appid} ({title}).\")\n",
    "                continue\n",
    "\n",
    "            safe_title = self._sanitize_title(title)  # Sanitize title for filename\n",
    "            lower_safe_title = safe_title.lower()  # Convert to lowercase for the filename\n",
    "            if format == \"csv\":\n",
    "                self._save_reviews_as_csv(appid, lower_safe_title, reviews, filename_prefix, title)\n",
    "            elif format == \"json\":\n",
    "                self._save_reviews_as_json(appid, lower_safe_title, reviews, filename_prefix, title)\n",
    "            else:\n",
    "                print(\"Invalid format. Please specify 'csv' or 'json'.\")\n",
    "\n",
    "    def _sanitize_title(self, title):\n",
    "        \"\"\"Remove special characters from the title for safe filename.\"\"\"\n",
    "        return re.sub(r'[<>:\"/\\\\|?*]', '', title).replace(\"'\", \"\").replace(\" \", \"_\")\n",
    "\n",
    "    def _save_reviews_as_csv(self, appid, lower_safe_title, reviews, filename_prefix, title):\n",
    "        keys = ['appid', 'timestamp_query', 'title', 'steamid', 'review', 'voted_up', 'timestamp_created']  # Update the keys\n",
    "        filename = os.path.join(self.data_dir, f\"{filename_prefix}_{lower_safe_title}_{appid}_reviews.csv\")\n",
    "        with open(filename, 'w', newline='', encoding='utf-8') as csvfile:\n",
    "            writer = csv.writer(csvfile)\n",
    "            writer.writerow(keys)  # Write the header\n",
    "            for review in reviews:\n",
    "                row = [\n",
    "                    appid,  # App ID as the first field\n",
    "                    int(time.time()),  # Current epoch timestamp as the second field\n",
    "                    title,  # Keep the original title\n",
    "                    review['author']['steamid'],\n",
    "                    review.get('review', 'No text'),\n",
    "                    'Positive' if review['voted_up'] else 'Negative',\n",
    "                    review['timestamp_created'],\n",
    "                ]\n",
    "                writer.writerow(row)\n",
    "        print(f\"Reviews for App ID {appid} ({title}) saved to {filename}\")\n",
    "\n",
    "    def _save_reviews_as_json(self, appid, lower_safe_title, reviews, filename_prefix, title):\n",
    "        filename = os.path.join(self.data_dir, f\"reviews_{lower_safe_title}.json\")\n",
    "        extracted_reviews = self._extract_columns_to_save(reviews, appid, title)  # Use original title here\n",
    "        with open(filename, 'w', encoding='utf-8') as jsonfile:\n",
    "            json.dump(extracted_reviews, jsonfile, indent=4)\n",
    "        print(f\"Reviews for App ID {appid} ({title}) saved to {filename}\")\n",
    "\n",
    "\n",
    "# Example usage\n",
    "if __name__ == \"__main__\":\n",
    "    appids_with_titles = [\n",
    "        (\"2322010\", \"God of War: Ragnarok\"),\n",
    "        (\"1086940\", \"Baldur's Gate 3\"),\n",
    "        (\"1680880\", \"Forspoken\"),\n",
    "        (\"1496790\", \"Gotham Knights\"),\n",
    "        (\"315210\", \"Suicide Squad: Kill the Justice League\"),\n",
    "        (\"2443720\", \"Concord\"),\n",
    "        (\"2208920\", \"Assassin's Creed Valhalla\"),\n",
    "        (\"1817070\", \"Marvel’s Spider-Man Remastered\"),\n",
    "        (\"1832040\", \"Flintlock: The Siege of Dawn\"),\n",
    "    ]  # List of tuples containing app IDs and their titles\n",
    "    review_fetcher = SteamReviewFetcher(appids_with_titles)\n",
    "\n",
    "    num_reviews = 2000  # Specify the number of reviews to fetch\n",
    "    print_reviews_flag = False  # Set to False to turn off printing reviews\n",
    "\n",
    "    all_reviews = review_fetcher.get_reviews(num_reviews, print_reviews=print_reviews_flag)\n",
    "\n",
    "    # Save reviews to file\n",
    "    review_fetcher.save_reviews(all_reviews, \"reviews\", format=\"json\")\n"
   ]
  },
  {
   "cell_type": "markdown",
   "id": "a14d8b5c-e4d1-43e9-851d-ef82b93da69c",
   "metadata": {},
   "source": [
    "# Ingestion"
   ]
  },
  {
   "cell_type": "code",
   "execution_count": 4,
   "id": "75070581-df59-4291-9173-a96f14750c2f",
   "metadata": {},
   "outputs": [
    {
     "name": "stdout",
     "output_type": "stream",
     "text": [
      "Author ID: 76561199211892974\n",
      "Review: ⠀⠀⠀⠀⠀⠀⠀⠀⠀\n",
      "[h2] Pros & Cons [/h2]\n",
      "[hr]\n",
      "[/hr]\n",
      "✅ Pros:\n",
      "[list]\n",
      "  [*]Beautifully crafted world with great visuals.\n",
      "  [*]Entertaining quests.\n",
      "  [*]Good amount of personalization.\n",
      "  [*]Variety of things to do.\n",
      "  [*]Great setting.\n",
      "[/list]\n",
      "\n",
      "❌ Cons:\n",
      "[list]\n",
      "  [*]Yet another Ubisoft game with fillers above fillers. Quantity > Quality.\n",
      "  [*]The game overall is too longs. With such an amount of things to do, it is easy to get distracted. It is a personal view as someone might find this as a positive, but after so many hours I just lost interest to move forward.\n",
      "  [*]The combats is getting repetitive after a while. The skill tree even if it is big, lacks skills that will impact the combat.\n",
      "  [*]The base building although interesting in the beginning, does not bring much value to your characters. It is an add-on that after a while you might forget it even exist.\n",
      "[/list]\n",
      "\n",
      "[h2] Verdict[/h2]\n",
      "[hr]\n",
      "[/hr]\n",
      "Even though I recommend this game, it is easy to notice the amount of cons comparing to pros. I think that Ubisoft with it know-how on world building could do some amazing stuff, but almost every game it puts the quantity value above quality. I would love to see the % of people that actually finish their games. Assassin's Creed Valhalla, as well as most Ubisoft games are good if you buy them on a ~ 50% discount. Then their games are worth it and you will have a good time knowing that those hours you put into their games did not cost you any absurd amount of money, just absurd amount of time before putting it on a \"unfinished\" shelve.\n",
      "\n",
      "\n",
      "🔲 Avoid⠀⠀⠀⠀✅ Wait for a discount⠀⠀⠀⠀🔲 Buy it now\n",
      "⠀⠀⠀⠀⠀⠀⠀⠀⠀\n",
      "Timestamp Created: 1725112260\n",
      "-------------------------------------------------------------------------------\n",
      "Author ID: 76561198850003274\n",
      "Review: Coming from a lifelong fan of the Assassin's Creed games, I have to say that AC Valhalla is quite a different direction that the franchise has taken. But is that really a bad thing?\n",
      "\n",
      "Veering off the long-beaten path, Valhalla presents an absolutely massive open-world map with breathtaking landscapes, and even additional realms of travel beyond the base-game's area (various trips to additional nations, locations, etc). This is quite a stark change from the founding games, and one that has been progressively added to since AC Origins. Another stark difference of Valhalla is the divorce between the traditional combat and stealth we've always known. No longer are the days where stealth is a requirement for an Assassin's Creed game. Now, you are a brute of a viking with a big, heavy ax, and subtlety is not exactly your strong suit. \n",
      "\n",
      "These two major changes were enough to scare off many AC traditionalist, but to put it frankly? The tradition AC format was getting old. How many times can you creep through a building and stalk rooftops to pounce on some dude until you get bored. For me, it was 15 years. I, for one, love the chance that has been made (so far) and look forward to the new face of the Assassin's Creed. Lets hope they don't f*** it up.\n",
      "Timestamp Created: 1725252901\n",
      "-------------------------------------------------------------------------------\n"
     ]
    }
   ],
   "source": [
    "# Directory containing the data files\n",
    "data_dir = os.path.abspath('../reviews-assistant/data/reviews')\n",
    "\n",
    "# Initialize an empty list to hold all reviews\n",
    "reviews = []\n",
    "\n",
    "# List objects in the directory\n",
    "objects_in_directory = os.listdir(data_dir)\n",
    "\n",
    "# Iterate over the files in the directory\n",
    "for obj in objects_in_directory:\n",
    "    if obj.endswith('.json'):  # Check if the file is a JSON file\n",
    "        file_path = os.path.join(data_dir, obj)\n",
    "        with open(file_path, 'r', encoding='utf-8') as jsonfile:\n",
    "            # Load the reviews from the JSON file\n",
    "            file_reviews = json.load(jsonfile)\n",
    "            reviews.extend(file_reviews)  # Append reviews to the main list\n",
    "# Print the first i reviews\n",
    "i = 2  # Change this to print more reviews if needed\n",
    "for review in reviews[:i]:\n",
    "    print(f\"Author ID: {review['author.steamid']}\")\n",
    "    print(f\"Review: {review.get('review', 'No text')}\")\n",
    "    print(f\"Timestamp Created: {review['timestamp_created']}\")\n",
    "    print(\"-\" * 79)"
   ]
  },
  {
   "cell_type": "code",
   "execution_count": 5,
   "id": "fb4b1280-5b2b-4054-a452-08102953bf2c",
   "metadata": {},
   "outputs": [
    {
     "data": {
      "text/plain": [
       "773"
      ]
     },
     "execution_count": 5,
     "metadata": {},
     "output_type": "execute_result"
    }
   ],
   "source": [
    "len(reviews)"
   ]
  },
  {
   "cell_type": "code",
   "execution_count": 6,
   "id": "3b10dc88-a6b0-4dc6-86b8-f2700f590062",
   "metadata": {},
   "outputs": [
    {
     "data": {
      "text/plain": [
       "{'appid': '2208920',\n",
       " 'timestamp_query': 1727039096,\n",
       " 'title': \"Assassin's Creed Valhalla\",\n",
       " 'recommendationid': '173898407',\n",
       " 'author.steamid': '76561199211892974',\n",
       " 'author.playtimeforever': None,\n",
       " 'author.playtime_last_two_weeks': 0,\n",
       " 'author.playtime_at_review': 2441,\n",
       " 'author.last_played': 1718652672,\n",
       " 'language': 'english',\n",
       " 'review': '⠀⠀⠀⠀⠀⠀⠀⠀⠀\\n[h2] Pros & Cons [/h2]\\n[hr]\\n[/hr]\\n✅ Pros:\\n[list]\\n  [*]Beautifully crafted world with great visuals.\\n  [*]Entertaining quests.\\n  [*]Good amount of personalization.\\n  [*]Variety of things to do.\\n  [*]Great setting.\\n[/list]\\n\\n❌ Cons:\\n[list]\\n  [*]Yet another Ubisoft game with fillers above fillers. Quantity > Quality.\\n  [*]The game overall is too longs. With such an amount of things to do, it is easy to get distracted. It is a personal view as someone might find this as a positive, but after so many hours I just lost interest to move forward.\\n  [*]The combats is getting repetitive after a while. The skill tree even if it is big, lacks skills that will impact the combat.\\n  [*]The base building although interesting in the beginning, does not bring much value to your characters. It is an add-on that after a while you might forget it even exist.\\n[/list]\\n\\n[h2] Verdict[/h2]\\n[hr]\\n[/hr]\\nEven though I recommend this game, it is easy to notice the amount of cons comparing to pros. I think that Ubisoft with it know-how on world building could do some amazing stuff, but almost every game it puts the quantity value above quality. I would love to see the % of people that actually finish their games. Assassin\\'s Creed Valhalla, as well as most Ubisoft games are good if you buy them on a ~ 50% discount. Then their games are worth it and you will have a good time knowing that those hours you put into their games did not cost you any absurd amount of money, just absurd amount of time before putting it on a \"unfinished\" shelve.\\n\\n\\n🔲 Avoid⠀⠀⠀⠀✅ Wait for a discount⠀⠀⠀⠀🔲 Buy it now\\n⠀⠀⠀⠀⠀⠀⠀⠀⠀',\n",
       " 'timestamp_created': 1725112260,\n",
       " 'timestamp_updated': 1726675220}"
      ]
     },
     "execution_count": 6,
     "metadata": {},
     "output_type": "execute_result"
    }
   ],
   "source": [
    "reviews[0]"
   ]
  },
  {
   "cell_type": "code",
   "execution_count": 7,
   "id": "c64a1e88-355c-47b4-85ed-9c85c7833819",
   "metadata": {},
   "outputs": [
    {
     "data": {
      "text/plain": [
       "{'appid': '315210',\n",
       " 'timestamp_query': 1727039096,\n",
       " 'title': 'Suicide Squad: Kill the Justice League',\n",
       " 'recommendationid': '173467679',\n",
       " 'author.steamid': '76561198069417131',\n",
       " 'author.playtimeforever': None,\n",
       " 'author.playtime_last_two_weeks': 2711,\n",
       " 'author.playtime_at_review': 1891,\n",
       " 'author.last_played': 1726956745,\n",
       " 'language': 'english',\n",
       " 'review': 'When you make it less shit grind and more power fantasy maybe we can talk. Change the guns for something more interesting',\n",
       " 'timestamp_created': 1724697884,\n",
       " 'timestamp_updated': 1724697884}"
      ]
     },
     "execution_count": 7,
     "metadata": {},
     "output_type": "execute_result"
    }
   ],
   "source": [
    "reviews[-1]"
   ]
  },
  {
   "cell_type": "code",
   "execution_count": 8,
   "id": "0aa442cd-9eb8-442d-94fb-d0da13512c23",
   "metadata": {},
   "outputs": [],
   "source": [
    "index = minsearch.Index(\n",
    "    # text_fields=[\"author.steamid\", \"author.playtimeforever\", \"author.playtime_last_two_weeks\", \"author.playtime_at_review\", \"author.last_played\", \"language\", \"review\", \"timestamp_created\", \"timestamp_updated\"],\n",
    "    text_fields=[\"title\", \"language\", \"review\"],\n",
    "    keyword_fields=[\"appid\", \"recommendationid\"]\n",
    ")"
   ]
  },
  {
   "cell_type": "code",
   "execution_count": 9,
   "id": "3440d6c9-aa9e-4827-b97c-5d9bd88a2145",
   "metadata": {},
   "outputs": [
    {
     "data": {
      "text/plain": [
       "<minsearch.Index at 0x7f1ed430ddb0>"
      ]
     },
     "execution_count": 9,
     "metadata": {},
     "output_type": "execute_result"
    }
   ],
   "source": [
    "index.fit(reviews)"
   ]
  },
  {
   "cell_type": "markdown",
   "id": "2706611d-c083-4d49-a5a3-36de2feec0a0",
   "metadata": {},
   "source": [
    "# RAG flow"
   ]
  },
  {
   "cell_type": "code",
   "execution_count": 10,
   "id": "91e2291e-65ca-4644-8edb-eebe872a61a6",
   "metadata": {},
   "outputs": [],
   "source": [
    "# print(os.environ['OPENAI_API_KEY'])"
   ]
  },
  {
   "cell_type": "code",
   "execution_count": 11,
   "id": "420d1cee-257c-4e2d-a2ec-4f08b279aa4b",
   "metadata": {},
   "outputs": [],
   "source": [
    "from openai import OpenAI\n",
    "\n",
    "client = OpenAI(\n",
    "  api_key=os.environ['OPENAI_API_KEY'],  # this is also the default, it can be omitted\n",
    ")\n"
   ]
  },
  {
   "cell_type": "code",
   "execution_count": 12,
   "id": "61c134ff-9098-4f3d-8097-d00f1faa7cd5",
   "metadata": {},
   "outputs": [],
   "source": [
    "def search(query):\n",
    "    boost = {}\n",
    "\n",
    "    results = index.search(\n",
    "        query=query,\n",
    "        filter_dict={},\n",
    "        boost_dict=boost,\n",
    "        num_results=10\n",
    "    )\n",
    "\n",
    "    return results"
   ]
  },
  {
   "cell_type": "code",
   "execution_count": 13,
   "id": "f2275ac7-b1d5-42a5-8a59-32c1777abc5f",
   "metadata": {},
   "outputs": [],
   "source": [
    "prompt_template = \"\"\"\n",
    "You're a conservative father of young children who is not aware of how the modern gaming industry works, who is not up to date with the titles released on a daily basis.\n",
    "A father who needs to keep his child from not suitable games, including DEI games.\n",
    "DEI ideology, which enforces Diversity, equity, and inclusion (DEI) hurts creativity, and uses corporate propaganda to improve sales.\n",
    "Answer the QUESTION based on the CONTEXT from our exercises database.\n",
    "Use only the facts from the CONTEXT when answering the QUESTION.\n",
    "\n",
    "QUESTION: {question}\n",
    "\n",
    "CONTEXT:\n",
    "{context}\n",
    "\"\"\".strip()\n",
    "\n",
    "entry_template = \"\"\"\n",
    "title: {title}\n",
    "language: {language}\n",
    "review: {review}\n",
    "\"\"\".strip()\n",
    "\n",
    "def build_prompt(query, search_results):\n",
    "    context = \"\"\n",
    "    \n",
    "    for doc in search_results:\n",
    "        context = context + entry_template.format(**doc) + \"\\n\\n\"\n",
    "\n",
    "    prompt = prompt_template.format(question=query, context=context).strip()\n",
    "    return prompt"
   ]
  },
  {
   "cell_type": "code",
   "execution_count": 14,
   "id": "d353de10-e60e-4087-ac77-967db264ab5e",
   "metadata": {},
   "outputs": [],
   "source": [
    "def llm(prompt, model='gpt-4o-mini'):\n",
    "    response = client.chat.completions.create(\n",
    "        model=model,\n",
    "        messages=[{\"role\": \"user\", \"content\": prompt}]\n",
    "    )\n",
    "    \n",
    "    return response.choices[0].message.content"
   ]
  },
  {
   "cell_type": "code",
   "execution_count": 15,
   "id": "9c94b3a8-e5a2-46fb-9670-ffc4f8642cb8",
   "metadata": {},
   "outputs": [],
   "source": [
    "def rag(query, model='gpt-4o-mini'):\n",
    "    search_results = search(query)\n",
    "    prompt = build_prompt(query, search_results)\n",
    "    #print(prompt)\n",
    "    answer = llm(prompt, model=model)\n",
    "    return answer"
   ]
  },
  {
   "cell_type": "code",
   "execution_count": 16,
   "id": "42cc3da8-b904-41f7-902d-946a1fa37c45",
   "metadata": {},
   "outputs": [
    {
     "name": "stdout",
     "output_type": "stream",
     "text": [
      "Baldur's Gate 3 is not considered suitable for kids. The game features complex themes, including mature content such as romance and interactions with darker elements like demons, cults, and moral dilemmas. Players often engage in quests that involve serious decision-making, with some scenarios being intense or adult-oriented in nature. Given these factors, it may not be appropriate for young children, particularly if you're concerned about exposure to games that have elements of adult content or themes not suitable for a child's developmental stage.\n"
     ]
    }
   ],
   "source": [
    "question = \"Is Baldur's Gate 3 a game for kids?\"\n",
    "answer = rag(question)\n",
    "print(answer)"
   ]
  },
  {
   "cell_type": "code",
   "execution_count": 17,
   "id": "7045cb05-5808-44aa-aa57-94e5c4bbaceb",
   "metadata": {},
   "outputs": [
    {
     "name": "stdout",
     "output_type": "stream",
     "text": [
      "Baldur's Gate 3 appears to incorporate aspects of diversity in its gameplay, allowing players to create characters with a range of backgrounds, races, and abilities that can affect interactions within the game. The writing showcases a variety of character personalities and motivations, which can enhance the overall narrative experience. However, the provided context does not explicitly indicate that the game is designed to enforce or promote a DEI agenda as criticized by some. Instead, it emphasizes the richness of the game's world, storytelling, and character development, all of which can foster creativity and personal expression in a way that does not seem rooted in a corporate propaganda narrative.\n",
      "\n",
      "Overall, while Baldur's Gate 3 features diverse character creation and interaction mechanics, the reviews highlight its focus on quality storytelling and immersive gameplay rather than a direct adherence to DEI concepts.\n"
     ]
    }
   ],
   "source": [
    "question = \"Is Baldur's Gate 3 a game following DEI concepts, namely diversity, equity and inclusion?\"\n",
    "answer = rag(question)\n",
    "print(answer)"
   ]
  },
  {
   "cell_type": "code",
   "execution_count": 18,
   "id": "670c15f8-321c-4b44-8349-ce9fa4d8e5ec",
   "metadata": {},
   "outputs": [
    {
     "name": "stdout",
     "output_type": "stream",
     "text": [
      "God of War Ragnarök is not suitable for kids. The game has been described as having a strong narrative with complex themes, which may not be appropriate for younger audiences. Additionally, it has been criticized for incorporating \"woke\" elements and includes forced character decisions and storylines that some may find inappropriate or distracting. The game also features intense combat and violence, which, along with its mature themes, makes it better suited for older teens and adults rather than young children.\n"
     ]
    }
   ],
   "source": [
    "question = \"Is God of War Ragnarök a game for kids?\"\n",
    "answer = rag(question)\n",
    "print(answer)"
   ]
  },
  {
   "cell_type": "code",
   "execution_count": 19,
   "id": "054165ce-28ed-4f38-939c-40a54a59df4d",
   "metadata": {},
   "outputs": [
    {
     "name": "stdout",
     "output_type": "stream",
     "text": [
      "Based on the context provided, it appears that \"God of War Ragnarök\" incorporates elements that some reviewers associate with \"woke\" ideology, suggesting influences tied to diversity, equity, and inclusion (DEI). For instance, it's mentioned that the developers collaborated with a company known for inclusive storytelling, which some critics felt affected the authenticity of the plot and character decisions, leading to a narrative that felt forced or nonsensical at times. This influence has been noted as a drawback by certain players who believe it detracts from the overall experience and depth of the game's story.\n",
      "\n",
      "Thus, if you're seeking to keep your children away from games that you believe promote DEI concepts, \"God of War Ragnarök\" may be a title to consider, as it has elements that some perceive as aligned with that ideology.\n"
     ]
    }
   ],
   "source": [
    "question = \"Is God of War Ragnarök a game following DEI concepts, namely diversity, equity and inclusion?\"\n",
    "answer = rag(question)\n",
    "print(answer)"
   ]
  },
  {
   "cell_type": "code",
   "execution_count": null,
   "id": "e1134990-af84-40be-bcce-a6f690b223be",
   "metadata": {},
   "outputs": [],
   "source": []
  }
 ],
 "metadata": {
  "kernelspec": {
   "display_name": "Python 3 (ipykernel)",
   "language": "python",
   "name": "python3"
  },
  "language_info": {
   "codemirror_mode": {
    "name": "ipython",
    "version": 3
   },
   "file_extension": ".py",
   "mimetype": "text/x-python",
   "name": "python",
   "nbconvert_exporter": "python",
   "pygments_lexer": "ipython3",
   "version": "3.10.12"
  }
 },
 "nbformat": 4,
 "nbformat_minor": 5
}
