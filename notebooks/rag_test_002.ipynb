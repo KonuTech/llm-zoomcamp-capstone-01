{
 "cells": [
  {
   "cell_type": "code",
   "execution_count": 1,
   "id": "531840c5-b86a-4df9-be75-80ed49eaea93",
   "metadata": {},
   "outputs": [
    {
     "data": {
      "text/plain": [
       "4"
      ]
     },
     "execution_count": 1,
     "metadata": {},
     "output_type": "execute_result"
    }
   ],
   "source": [
    "2+2"
   ]
  },
  {
   "cell_type": "code",
   "execution_count": 2,
   "id": "d77e5346-19bf-4816-97f1-0d31d8c483b9",
   "metadata": {},
   "outputs": [],
   "source": [
    "# https://partner.steamgames.com/doc/store/getreviews"
   ]
  },
  {
   "cell_type": "code",
   "execution_count": 26,
   "id": "9bc7b342-a62f-45db-83c0-41056e34a8a9",
   "metadata": {},
   "outputs": [
    {
     "name": "stdout",
     "output_type": "stream",
     "text": [
      "Reviews for App ID 2322010 (God of War: Ragnarok) saved to /mnt/c/Users/KonuTech/llm-zoomcamp-capstone-01/reviews-assistant/data/reviews/reviews_god_of_war_ragnarok.json\n",
      "Reviews for App ID 1086940 (Baldur's Gate 3) saved to /mnt/c/Users/KonuTech/llm-zoomcamp-capstone-01/reviews-assistant/data/reviews/reviews_baldurs_gate_3.json\n"
     ]
    }
   ],
   "source": [
    "import requests\n",
    "import json\n",
    "import csv\n",
    "import sys\n",
    "import os\n",
    "import time  # Import time for the epoch timestamp\n",
    "import re  # Import re for regex\n",
    "\n",
    "\n",
    "# Construct the path to the scripts directory\n",
    "script_path = os.path.abspath('../reviews-assistant/scripts')\n",
    "\n",
    "# Add the path to sys.path\n",
    "if script_path not in sys.path:\n",
    "    sys.path.append(script_path)\n",
    "\n",
    "import minsearch\n",
    "\n",
    "\n",
    "class SteamReviewFetcher:\n",
    "    def __init__(self, appids_with_titles, filter=\"all\", language=\"english\", day_range=30, review_type=\"all\", purchase_type=\"all\"):\n",
    "        \"\"\"\n",
    "        Initializes the SteamReviewFetcher with the required parameters.\n",
    "\n",
    "        :param appids_with_titles: List of tuples containing Steam application IDs and their corresponding titles.\n",
    "        :param filter: Type of review filter.\n",
    "        :param language: Language of the reviews.\n",
    "        :param day_range: Number of days to consider for reviews.\n",
    "        :param review_type: Type of review (all or specific).\n",
    "        :param purchase_type: Type of purchase.\n",
    "        \"\"\"\n",
    "        self.base_url = \"https://store.steampowered.com/appreviews/\"\n",
    "        self.appids_with_titles = appids_with_titles if isinstance(appids_with_titles, list) else [appids_with_titles]\n",
    "        self.filter = filter\n",
    "        self.language = language\n",
    "        self.day_range = day_range\n",
    "        self.review_type = review_type\n",
    "        self.purchase_type = purchase_type\n",
    "        self.data_dir = os.path.abspath('../reviews-assistant/data/reviews')\n",
    "\n",
    "        # Ensure the data directory exists\n",
    "        os.makedirs(self.data_dir, exist_ok=True)\n",
    "\n",
    "    def _construct_url(self, appid):\n",
    "        return f\"{self.base_url}{appid}?json=1\"\n",
    "\n",
    "    def _fetch_reviews(self, appid, num_reviews):\n",
    "        url = self._construct_url(appid)\n",
    "        params = {\n",
    "            \"filter\": self.filter,\n",
    "            \"language\": self.language,\n",
    "            \"day_range\": self.day_range,\n",
    "            \"review_type\": self.review_type,\n",
    "            \"purchase_type\": self.purchase_type,\n",
    "            \"num_per_page\": num_reviews\n",
    "        }\n",
    "        response = requests.get(url, params=params)\n",
    "        response.raise_for_status()\n",
    "        return response.json()\n",
    "\n",
    "    def get_reviews(self, num_reviews=20, print_reviews=True):\n",
    "        all_reviews = {}\n",
    "        for appid, title in self.appids_with_titles:\n",
    "            review_data = self._fetch_reviews(appid, num_reviews)\n",
    "            reviews = review_data.get(\"reviews\", [])\n",
    "            all_reviews[appid] = (title, reviews)  # Store title along with reviews\n",
    "            \n",
    "            if print_reviews:\n",
    "                self.print_first_last_reviews(appid, title, reviews)\n",
    "\n",
    "        return all_reviews\n",
    "\n",
    "    def print_first_last_reviews(self, appid, title, reviews):\n",
    "        total_reviews = len(reviews)\n",
    "        if total_reviews == 0:\n",
    "            print(f\"No reviews found for App ID {appid} ({title}).\")\n",
    "            return\n",
    "\n",
    "        print(f\"\\nFirst 5 Reviews for App ID {appid} ({title}):\")\n",
    "        for review in reviews[:5]:\n",
    "            self._print_review(review)\n",
    "\n",
    "        print(f\"\\nLast 5 Reviews for App ID {appid} ({title}):\")\n",
    "        for review in reviews[-5:]:\n",
    "            self._print_review(review)\n",
    "\n",
    "    def _print_review(self, review):\n",
    "        print(f\"Author: {review['author']['steamid']}\")\n",
    "        print(f\"Review: {review.get('review', 'No text')}\")\n",
    "        print(f\"Rating: {'Positive' if review['voted_up'] else 'Negative'}\")\n",
    "        print(f\"Timestamp: {review['timestamp_created']}\")\n",
    "        print(\"-\" * 79)\n",
    "\n",
    "    def _extract_columns_to_save(self, reviews, appid, title):\n",
    "        extracted_reviews = []\n",
    "        current_time = int(time.time())  # Get current epoch time\n",
    "        for review in reviews:\n",
    "            review_dict = {\n",
    "                \"appid\": appid,  # Move appid to the first field\n",
    "                \"timestamp_query\": current_time,  # Move timestamp_query to the second field\n",
    "                \"title\": title,\n",
    "            }\n",
    "            for column in [\"recommendationid\", \"author.steamid\", \"author.playtimeforever\",\n",
    "                           \"author.playtime_last_two_weeks\", \"author.playtime_at_review\",\n",
    "                           \"author.last_played\", \"language\", \"review\", \"timestamp_created\", \"timestamp_updated\"]:\n",
    "                if column.split('.')[0] == 'author':\n",
    "                    nested_column = column.split('.')[1]\n",
    "                    review_dict[column] = review['author'].get(nested_column)\n",
    "                else:\n",
    "                    review_dict[column] = review.get(column)\n",
    "            extracted_reviews.append(review_dict)\n",
    "        return extracted_reviews\n",
    "\n",
    "    def save_reviews(self, all_reviews, filename_prefix, format):\n",
    "        for appid, (title, reviews) in all_reviews.items():\n",
    "            if not reviews:\n",
    "                print(f\"No reviews to save for App ID {appid} ({title}).\")\n",
    "                continue\n",
    "\n",
    "            safe_title = self._sanitize_title(title)  # Sanitize title for filename\n",
    "            lower_safe_title = safe_title.lower()  # Convert to lowercase for the filename\n",
    "            if format == \"csv\":\n",
    "                self._save_reviews_as_csv(appid, lower_safe_title, reviews, filename_prefix, title)\n",
    "            elif format == \"json\":\n",
    "                self._save_reviews_as_json(appid, lower_safe_title, reviews, filename_prefix, title)\n",
    "            else:\n",
    "                print(\"Invalid format. Please specify 'csv' or 'json'.\")\n",
    "\n",
    "    def _sanitize_title(self, title):\n",
    "        \"\"\"Remove special characters from the title for safe filename.\"\"\"\n",
    "        return re.sub(r'[<>:\"/\\\\|?*]', '', title).replace(\"'\", \"\").replace(\" \", \"_\")\n",
    "\n",
    "    def _save_reviews_as_csv(self, appid, lower_safe_title, reviews, filename_prefix, title):\n",
    "        keys = ['appid', 'timestamp_query', 'title', 'steamid', 'review', 'voted_up', 'timestamp_created']  # Update the keys\n",
    "        filename = os.path.join(self.data_dir, f\"{filename_prefix}_{lower_safe_title}_{appid}_reviews.csv\")\n",
    "        with open(filename, 'w', newline='', encoding='utf-8') as csvfile:\n",
    "            writer = csv.writer(csvfile)\n",
    "            writer.writerow(keys)  # Write the header\n",
    "            for review in reviews:\n",
    "                row = [\n",
    "                    appid,  # App ID as the first field\n",
    "                    int(time.time()),  # Current epoch timestamp as the second field\n",
    "                    title,  # Keep the original title\n",
    "                    review['author']['steamid'],\n",
    "                    review.get('review', 'No text'),\n",
    "                    'Positive' if review['voted_up'] else 'Negative',\n",
    "                    review['timestamp_created'],\n",
    "                ]\n",
    "                writer.writerow(row)\n",
    "        print(f\"Reviews for App ID {appid} ({title}) saved to {filename}\")\n",
    "\n",
    "    def _save_reviews_as_json(self, appid, lower_safe_title, reviews, filename_prefix, title):\n",
    "        filename = os.path.join(self.data_dir, f\"reviews_{lower_safe_title}.json\")\n",
    "        extracted_reviews = self._extract_columns_to_save(reviews, appid, title)  # Use original title here\n",
    "        with open(filename, 'w', encoding='utf-8') as jsonfile:\n",
    "            json.dump(extracted_reviews, jsonfile, indent=4)\n",
    "        print(f\"Reviews for App ID {appid} ({title}) saved to {filename}\")\n",
    "\n",
    "\n",
    "# Example usage\n",
    "if __name__ == \"__main__\":\n",
    "    appids_with_titles = [\n",
    "        (\"2322010\", \"God of War: Ragnarok\"),\n",
    "        (\"1086940\", \"Baldur's Gate 3\")\n",
    "    ]  # List of tuples containing app IDs and their titles\n",
    "    review_fetcher = SteamReviewFetcher(appids_with_titles)\n",
    "\n",
    "    num_reviews = 2000  # Specify the number of reviews to fetch\n",
    "    print_reviews_flag = False  # Set to False to turn off printing reviews\n",
    "\n",
    "    all_reviews = review_fetcher.get_reviews(num_reviews, print_reviews=print_reviews_flag)\n",
    "\n",
    "    # Save reviews to file\n",
    "    review_fetcher.save_reviews(all_reviews, \"reviews\", format=\"json\")\n"
   ]
  },
  {
   "cell_type": "markdown",
   "id": "a14d8b5c-e4d1-43e9-851d-ef82b93da69c",
   "metadata": {},
   "source": [
    "# Ingestion"
   ]
  },
  {
   "cell_type": "code",
   "execution_count": 32,
   "id": "75070581-df59-4291-9173-a96f14750c2f",
   "metadata": {},
   "outputs": [
    {
     "name": "stdout",
     "output_type": "stream",
     "text": [
      "Author ID: 76561197996873645\n",
      "Review: Awesome game, but I held off playing it because of the top-down/isometric camera - didn't like the camera in DOS2 either.  Then I found the \"Native Camera Tweaks\" mod on Nexus Mods.\n",
      "\n",
      "This totally changes the game, allowing you to use standard 3rd person camera controls, and actually see what's ahead when moving up-hill.\n",
      "\n",
      "It turns out all outdoor areas have sky boxes (including sun and moon), and almost all interior areas have ceilings.  Trust me, you'll hardly notice the few times a ceiling is missing or \"pops in\", unless you're looking for it.  And there's no performance hit that I've noticed.\n",
      "\n",
      "Makes me wander why Larian didn't give an unlocked camera by default...\n",
      "\n",
      "Also you have full control over zoom/pitch/FoV/invert axis/dead zones etc through the mod's configuration file.\n",
      "\n",
      "[b][i]EDIT:  The mod has been updated (8 SEP 24) to work with patch 7.  Many thanks to Ersh for updating it so promptly!\n",
      "Timestamp Created: 1724579126\n",
      "-------------------------------------------------------------------------------\n",
      "Author ID: 76561198987891733\n",
      "Review: I'm investing 1400$ into a better gaming setup just so I can romance the twink vampire in 4kHD. This game is what happens when you pay your voice actors properly, and coincidentally one of them is actually Neil Newbon.\n",
      "Timestamp Created: 1725146088\n",
      "-------------------------------------------------------------------------------\n"
     ]
    }
   ],
   "source": [
    "# Directory containing the data files\n",
    "data_dir = os.path.abspath('../reviews-assistant/data/reviews')\n",
    "\n",
    "# Initialize an empty list to hold all reviews\n",
    "reviews = []\n",
    "\n",
    "# List objects in the directory\n",
    "objects_in_directory = os.listdir(data_dir)\n",
    "\n",
    "# Iterate over the files in the directory\n",
    "for obj in objects_in_directory:\n",
    "    if obj.endswith('.json'):  # Check if the file is a JSON file\n",
    "        file_path = os.path.join(data_dir, obj)\n",
    "        with open(file_path, 'r', encoding='utf-8') as jsonfile:\n",
    "            # Load the reviews from the JSON file\n",
    "            file_reviews = json.load(jsonfile)\n",
    "            reviews.extend(file_reviews)  # Append reviews to the main list\n",
    "# Print the first i reviews\n",
    "i = 2  # Change this to print more reviews if needed\n",
    "for review in reviews[:i]:\n",
    "    print(f\"Author ID: {review['author.steamid']}\")\n",
    "    print(f\"Review: {review.get('review', 'No text')}\")\n",
    "    print(f\"Timestamp Created: {review['timestamp_created']}\")\n",
    "    print(\"-\" * 79)"
   ]
  },
  {
   "cell_type": "code",
   "execution_count": 34,
   "id": "0aa442cd-9eb8-442d-94fb-d0da13512c23",
   "metadata": {},
   "outputs": [],
   "source": [
    "index = minsearch.Index(\n",
    "    # text_fields=[\"author.steamid\", \"author.playtimeforever\", \"author.playtime_last_two_weeks\", \"author.playtime_at_review\", \"author.last_played\", \"language\", \"review\", \"timestamp_created\", \"timestamp_updated\"],\n",
    "    text_fields=[\"title\", \"language\", \"review\"],\n",
    "    keyword_fields=[\"appid\", \"recommendationid\"]\n",
    ")"
   ]
  },
  {
   "cell_type": "code",
   "execution_count": 35,
   "id": "3440d6c9-aa9e-4827-b97c-5d9bd88a2145",
   "metadata": {},
   "outputs": [
    {
     "data": {
      "text/plain": [
       "<minsearch.Index at 0x7f078c67f6d0>"
      ]
     },
     "execution_count": 35,
     "metadata": {},
     "output_type": "execute_result"
    }
   ],
   "source": [
    "index.fit(reviews)"
   ]
  },
  {
   "cell_type": "markdown",
   "id": "2706611d-c083-4d49-a5a3-36de2feec0a0",
   "metadata": {},
   "source": [
    "# RAG flow"
   ]
  },
  {
   "cell_type": "code",
   "execution_count": 36,
   "id": "91e2291e-65ca-4644-8edb-eebe872a61a6",
   "metadata": {},
   "outputs": [],
   "source": [
    "# print(os.environ['OPENAI_API_KEY'])"
   ]
  },
  {
   "cell_type": "code",
   "execution_count": 37,
   "id": "420d1cee-257c-4e2d-a2ec-4f08b279aa4b",
   "metadata": {},
   "outputs": [],
   "source": [
    "from openai import OpenAI\n",
    "\n",
    "client = OpenAI(\n",
    "  api_key=os.environ['OPENAI_API_KEY'],  # this is also the default, it can be omitted\n",
    ")\n"
   ]
  },
  {
   "cell_type": "code",
   "execution_count": 38,
   "id": "61c134ff-9098-4f3d-8097-d00f1faa7cd5",
   "metadata": {},
   "outputs": [],
   "source": [
    "def search(query):\n",
    "    boost = {}\n",
    "\n",
    "    results = index.search(\n",
    "        query=query,\n",
    "        filter_dict={},\n",
    "        boost_dict=boost,\n",
    "        num_results=10\n",
    "    )\n",
    "\n",
    "    return results"
   ]
  },
  {
   "cell_type": "code",
   "execution_count": 39,
   "id": "f2275ac7-b1d5-42a5-8a59-32c1777abc5f",
   "metadata": {},
   "outputs": [],
   "source": [
    "prompt_template = \"\"\"\n",
    "You're a conservative father of young children who is not aware of how the modern gaming industry works, who is not up to date with the titles released on a daily basis.\n",
    "Answer the QUESTION based on the CONTEXT from our exercises database.\n",
    "Use only the facts from the CONTEXT when answering the QUESTION.\n",
    "\n",
    "QUESTION: {question}\n",
    "\n",
    "CONTEXT:\n",
    "{context}\n",
    "\"\"\".strip()\n",
    "\n",
    "entry_template = \"\"\"\n",
    "title: {title}\n",
    "language: {language}\n",
    "review: {review}\n",
    "\"\"\".strip()\n",
    "\n",
    "def build_prompt(query, search_results):\n",
    "    context = \"\"\n",
    "    \n",
    "    for doc in search_results:\n",
    "        context = context + entry_template.format(**doc) + \"\\n\\n\"\n",
    "\n",
    "    prompt = prompt_template.format(question=query, context=context).strip()\n",
    "    return prompt"
   ]
  },
  {
   "cell_type": "code",
   "execution_count": 40,
   "id": "d353de10-e60e-4087-ac77-967db264ab5e",
   "metadata": {},
   "outputs": [],
   "source": [
    "def llm(prompt, model='gpt-4o-mini'):\n",
    "    response = client.chat.completions.create(\n",
    "        model=model,\n",
    "        messages=[{\"role\": \"user\", \"content\": prompt}]\n",
    "    )\n",
    "    \n",
    "    return response.choices[0].message.content"
   ]
  },
  {
   "cell_type": "code",
   "execution_count": 41,
   "id": "9c94b3a8-e5a2-46fb-9670-ffc4f8642cb8",
   "metadata": {},
   "outputs": [],
   "source": [
    "def rag(query, model='gpt-4o-mini'):\n",
    "    search_results = search(query)\n",
    "    prompt = build_prompt(query, search_results)\n",
    "    #print(prompt)\n",
    "    answer = llm(prompt, model=model)\n",
    "    return answer"
   ]
  },
  {
   "cell_type": "code",
   "execution_count": 42,
   "id": "42cc3da8-b904-41f7-902d-946a1fa37c45",
   "metadata": {},
   "outputs": [
    {
     "name": "stdout",
     "output_type": "stream",
     "text": [
      "Baldur's Gate 3 is likely not suitable for young children. The game is described as an RPG with complex storytelling, character interactions, and themes that may not be appropriate for kids. Reviews mention encounters with mature content, including dark themes like murder cults and demons, as well as romance elements that reference adult relationships. The writing is noted for its depth and intricacy, which may be challenging for younger players. Additionally, the game is rooted in Dungeons & Dragons mechanics, which often handle adult themes and moral complexities. Therefore, as a conservative father, you might want to consider other games that are specifically designed for children.\n"
     ]
    }
   ],
   "source": [
    "question = \"Is Baldur's Gate 3 a game for kids?\"\n",
    "answer = rag(question)\n",
    "print(answer)"
   ]
  },
  {
   "cell_type": "code",
   "execution_count": 43,
   "id": "7045cb05-5808-44aa-aa57-94e5c4bbaceb",
   "metadata": {},
   "outputs": [
    {
     "name": "stdout",
     "output_type": "stream",
     "text": [
      "Based on the provided context, there isn't any direct mention of Baldur's Gate 3 adhering specifically to Diversity, Equity, and Inclusion (DEI) concepts. However, the game is noted for its inclusivity in character creation, with a wide range of classes and races, allowing for in-depth customization. Players can choose various character backgrounds, which impacts the game world and how NPCs react, suggesting a level of diversity in gameplay and character representation. Ultimately, while the game may promote diverse character options and narratives, there is no explicit indication that it is designed around DEI principles as a central theme.\n"
     ]
    }
   ],
   "source": [
    "question = \"Is Baldur's Gate 3 a game following DEI concepts, namely diversity, equity and inclusion?\"\n",
    "answer = rag(question)\n",
    "print(answer)"
   ]
  },
  {
   "cell_type": "code",
   "execution_count": 44,
   "id": "670c15f8-321c-4b44-8349-ce9fa4d8e5ec",
   "metadata": {},
   "outputs": [
    {
     "name": "stdout",
     "output_type": "stream",
     "text": [
      "God of War Ragnarök is not typically considered a game for kids. It is known for its complex story, mature themes, and intense combat, which might not be suitable for younger audiences. The game includes elements that some may describe as \"woke,\" and it has been noted that it leans into more serious narrative issues that may be challenging for children to understand. Furthermore, the game's design appeals more to adult gamers and older teens who are familiar with the previous titles in the series. Overall, it is advisable for parents to review the game's content and themes before deciding if it is appropriate for their children.\n"
     ]
    }
   ],
   "source": [
    "question = \"Is God of War Ragnarök a game for kids?\"\n",
    "answer = rag(question)\n",
    "print(answer)"
   ]
  },
  {
   "cell_type": "code",
   "execution_count": 45,
   "id": "054165ce-28ed-4f38-939c-40a54a59df4d",
   "metadata": {},
   "outputs": [
    {
     "name": "stdout",
     "output_type": "stream",
     "text": [
      "Based on the context provided, it appears that \"God of War Ragnarök\" does incorporate elements associated with DEI (diversity, equity, and inclusion) concepts. The review mentions that the developers collaborated with a company known for inclusive storytelling, which indicates a focus on inclusivity in the game's narrative and character development. However, there are criticisms from some players about how these elements were implemented, with claims that certain plotlines and character decisions felt forced or detracted from the overall narrative experience.\n",
      "\n",
      "Overall, while there are influences of DEI concepts in \"God of War Ragnarök,\" the reception seems mixed, with some players appreciating the effort and others finding it overdone or not well integrated.\n"
     ]
    }
   ],
   "source": [
    "question = \"Is God of War Ragnarök a game following DEI concepts, namely diversity, equity and inclusion?\"\n",
    "answer = rag(question)\n",
    "print(answer)"
   ]
  },
  {
   "cell_type": "markdown",
   "id": "6b026e51-af66-4a4b-b5ac-62f84f16f140",
   "metadata": {},
   "source": [
    "# Retrieval evaluation"
   ]
  },
  {
   "cell_type": "code",
   "execution_count": null,
   "id": "4ef0933e-6829-4f2f-bc88-b979cd750448",
   "metadata": {},
   "outputs": [],
   "source": [
    "# df_question = pd.read_csv('../data/ground-truth-retrieval.csv')"
   ]
  }
 ],
 "metadata": {
  "kernelspec": {
   "display_name": "Python 3 (ipykernel)",
   "language": "python",
   "name": "python3"
  },
  "language_info": {
   "codemirror_mode": {
    "name": "ipython",
    "version": 3
   },
   "file_extension": ".py",
   "mimetype": "text/x-python",
   "name": "python",
   "nbconvert_exporter": "python",
   "pygments_lexer": "ipython3",
   "version": "3.10.12"
  }
 },
 "nbformat": 4,
 "nbformat_minor": 5
}
