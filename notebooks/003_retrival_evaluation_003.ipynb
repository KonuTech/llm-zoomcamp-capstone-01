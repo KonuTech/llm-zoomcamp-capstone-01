{
 "cells": [
  {
   "cell_type": "code",
   "execution_count": 1,
   "id": "294cfe33-7ce4-4c46-8fdf-a304983ea5a6",
   "metadata": {},
   "outputs": [],
   "source": [
    "# https://github.com/DataTalksClub/llm-zoomcamp/blob/main/03-vector-search/eval/evaluation-metrics.md"
   ]
  },
  {
   "cell_type": "code",
   "execution_count": 2,
   "id": "531840c5-b86a-4df9-be75-80ed49eaea93",
   "metadata": {},
   "outputs": [
    {
     "data": {
      "text/plain": [
       "4"
      ]
     },
     "execution_count": 2,
     "metadata": {},
     "output_type": "execute_result"
    }
   ],
   "source": [
    "2+2"
   ]
  },
  {
   "cell_type": "code",
   "execution_count": 3,
   "id": "84774894-d93d-475c-90a1-ebf83b26bbfe",
   "metadata": {},
   "outputs": [
    {
     "data": {
      "text/plain": [
       "True"
      ]
     },
     "execution_count": 3,
     "metadata": {},
     "output_type": "execute_result"
    }
   ],
   "source": [
    "import pandas as pd\n",
    "from tqdm.auto import tqdm\n",
    "import json\n",
    "import sys\n",
    "import os\n",
    "from dotenv import load_dotenv\n",
    "# Load environment variables from .env\n",
    "load_dotenv(\"/home/jovyan/.envrc\")"
   ]
  },
  {
   "cell_type": "code",
   "execution_count": 4,
   "id": "d05f477c-d890-4555-809b-b3aa799ffa27",
   "metadata": {},
   "outputs": [
    {
     "name": "stdout",
     "output_type": "stream",
     "text": [
      "Elasticsearch is connected!\n"
     ]
    }
   ],
   "source": [
    "from elasticsearch import Elasticsearch\n",
    "\n",
    "# Create an instance of the Elasticsearch client\n",
    "es = Elasticsearch(['http://elasticsearch:9200'])\n",
    "\n",
    "# Check if the connection is established\n",
    "if es.ping():\n",
    "    print(\"Elasticsearch is connected!\")\n",
    "else:\n",
    "    print(\"Elasticsearch is not reachable.\")"
   ]
  },
  {
   "cell_type": "code",
   "execution_count": 5,
   "id": "8da8d673-67d9-43e1-9074-280906b77293",
   "metadata": {},
   "outputs": [],
   "source": [
    "from sentence_transformers import SentenceTransformer"
   ]
  },
  {
   "cell_type": "code",
   "execution_count": 6,
   "id": "307e903f-a736-4399-860c-c510960d6256",
   "metadata": {},
   "outputs": [],
   "source": [
    "from elasticsearch import Elasticsearch"
   ]
  },
  {
   "cell_type": "code",
   "execution_count": 7,
   "id": "20fdd822-04be-44b9-9449-31298909f57e",
   "metadata": {
    "scrolled": true
   },
   "outputs": [],
   "source": [
    "# # Directory containing the data files\n",
    "# data_dir = os.path.abspath('../reviews-assistant/data/reviews')\n",
    "\n",
    "# # Initialize an empty list to hold all reviews\n",
    "# reviews = []\n",
    "\n",
    "# # List objects in the directory\n",
    "# objects_in_directory = os.listdir(data_dir)\n",
    "\n",
    "# # Iterate over the files in the directory\n",
    "# for obj in objects_in_directory:\n",
    "#     if obj.endswith('.json'):  # Check if the file is a JSON file\n",
    "#         file_path = os.path.join(data_dir, obj)\n",
    "#         with open(file_path, 'r', encoding='utf-8') as jsonfile:\n",
    "#             # Load the reviews from the JSON file\n",
    "#             file_reviews = json.load(jsonfile)\n",
    "#             reviews.extend(file_reviews)  # Append reviews to the main list\n",
    "# # Print the first i reviews\n",
    "# i = 2  # Change this to print more reviews if needed\n",
    "# for review in reviews[:i]:\n",
    "#     print(f\"Author ID: {review['author.steamid']}\")\n",
    "#     print(f\"Review: {review.get('review', 'No text')}\")\n",
    "#     print(f\"Timestamp Created: {review['timestamp_created']}\")\n",
    "#     print(\"-\" * 79)"
   ]
  },
  {
   "cell_type": "code",
   "execution_count": 8,
   "id": "824dc330-a24a-47d6-a6eb-95f3cbce7ec3",
   "metadata": {},
   "outputs": [],
   "source": [
    "# len(reviews)"
   ]
  },
  {
   "cell_type": "code",
   "execution_count": 9,
   "id": "2406b4cb-a74d-4371-b0de-11c38df2bd43",
   "metadata": {},
   "outputs": [],
   "source": [
    "# reviews[1:2]"
   ]
  },
  {
   "cell_type": "code",
   "execution_count": 10,
   "id": "6ec1ccc2-5297-4643-b1fd-aa189f1e67ff",
   "metadata": {},
   "outputs": [
    {
     "name": "stderr",
     "output_type": "stream",
     "text": [
      "/opt/conda/lib/python3.11/site-packages/transformers/tokenization_utils_base.py:1617: FutureWarning: `clean_up_tokenization_spaces` was not set. It will be set to `True` by default. This behavior will be deprecated in transformers v4.45, and will be then set to `False` by default. For more details check this issue: https://github.com/huggingface/transformers/issues/31884\n",
      "  warnings.warn(\n"
     ]
    }
   ],
   "source": [
    "model_name = 'multi-qa-MiniLM-L6-cos-v1'\n",
    "model = SentenceTransformer(model_name)"
   ]
  },
  {
   "cell_type": "code",
   "execution_count": 11,
   "id": "f0ea4f7f-7c70-473f-becb-3da33bef75de",
   "metadata": {},
   "outputs": [],
   "source": [
    "# for doc in tqdm(reviews):\n",
    "#     title = doc[\"title\"]\n",
    "#     review = doc['review']\n",
    "#     tr = title + ' ' + review\n",
    "\n",
    "#     doc['title_vector'] = model.encode(title)\n",
    "#     doc['review_vector'] = model.encode(review)\n",
    "#     doc['title_review_vector'] = model.encode(tr)"
   ]
  },
  {
   "cell_type": "code",
   "execution_count": 12,
   "id": "d0a3329f-eeb9-4b36-ad32-ab65cb3db343",
   "metadata": {},
   "outputs": [],
   "source": [
    "# doc.keys()"
   ]
  },
  {
   "cell_type": "code",
   "execution_count": 13,
   "id": "c469b05d-aee1-4a80-93df-f060f6471ebd",
   "metadata": {},
   "outputs": [
    {
     "name": "stdout",
     "output_type": "stream",
     "text": [
      "Connected to Elasticsearch\n"
     ]
    }
   ],
   "source": [
    "from elasticsearch import Elasticsearch, ConnectionError\n",
    "\n",
    "try:\n",
    "    es = Elasticsearch(['http://elasticsearch:9200'])  # Use the service name\n",
    "    if es.ping():\n",
    "        print(\"Connected to Elasticsearch\")\n",
    "    else:\n",
    "        print(\"Could not connect to Elasticsearch\")\n",
    "except ConnectionError as e:\n",
    "    print(f\"Connection error: {e}\")\n"
   ]
  },
  {
   "cell_type": "code",
   "execution_count": 14,
   "id": "554b4dbb-5d32-4d14-ab82-a55cb3faef3e",
   "metadata": {},
   "outputs": [
    {
     "name": "stdout",
     "output_type": "stream",
     "text": [
      "Successfully connected to Elasticsearch.\n",
      "Deleted index: steam-reviews (if it existed)\n",
      "Created index: steam-reviews\n"
     ]
    }
   ],
   "source": [
    "from elasticsearch import Elasticsearch, NotFoundError, ConnectionError\n",
    "from tqdm import tqdm\n",
    "\n",
    "class ReviewIndexer:\n",
    "    def __init__(self, es_host='http://elasticsearch:9200', index_name='steam-reviews', model=None):\n",
    "        self.es = Elasticsearch([es_host])\n",
    "        self.index_name = index_name\n",
    "        self.model = model  # Expecting a model to encode text\n",
    "        \n",
    "        # Check the connection upon initialization\n",
    "        self.check_connection()\n",
    "        \n",
    "        self.index_settings = {\n",
    "            \"settings\": {\n",
    "                \"number_of_shards\": 1,\n",
    "                \"number_of_replicas\": 0\n",
    "            },\n",
    "            \"mappings\": {\n",
    "                \"properties\": {\n",
    "                    \"appid\": {\"type\": \"keyword\"},\n",
    "                    \"timestamp_query\": {\"type\": \"integer\"},\n",
    "                    \"title\": {\"type\": \"keyword\"},\n",
    "                    \"recommendationid\": {\"type\": \"keyword\"},  # Changed to keyword for consistency\n",
    "                    \"author.steamid\": {\"type\": \"keyword\"},\n",
    "                    \"author.playtimeforever\": {\"type\": \"integer\"},\n",
    "                    \"author.playtime_last_two_weeks\": {\"type\": \"integer\"},\n",
    "                    \"author.playtime_at_review\": {\"type\": \"integer\"},\n",
    "                    \"author.last_played\": {\"type\": \"integer\"},\n",
    "                    \"language\": {\"type\": \"keyword\"},\n",
    "                    \"review\": {\"type\": \"text\"},\n",
    "                    \"voted_up\": {\"type\": \"boolean\"},  # Changed to boolean for consistency\n",
    "                    \"votes_up\": {\"type\": \"integer\"},\n",
    "                    \"timestamp_created\": {\"type\": \"integer\"},\n",
    "                    \"timestamp_updated\": {\"type\": \"integer\"},\n",
    "                    \"title_vector\": {\n",
    "                        \"type\": \"dense_vector\",\n",
    "                        \"dims\": 384,\n",
    "                        \"index\": True,\n",
    "                        \"similarity\": \"cosine\"\n",
    "                    },\n",
    "                    \"review_vector\": {\n",
    "                        \"type\": \"dense_vector\",\n",
    "                        \"dims\": 384,\n",
    "                        \"index\": True,\n",
    "                        \"similarity\": \"cosine\"\n",
    "                    },\n",
    "                    \"title_review_vector\": {\n",
    "                        \"type\": \"dense_vector\",\n",
    "                        \"dims\": 384,\n",
    "                        \"index\": True,\n",
    "                        \"similarity\": \"cosine\"\n",
    "                    },\n",
    "                }\n",
    "            }\n",
    "        }\n",
    "\n",
    "    def check_connection(self):\n",
    "        try:\n",
    "            if not self.es.ping():\n",
    "                raise ConnectionError(\"Elasticsearch cluster is down!\")\n",
    "            print(\"Successfully connected to Elasticsearch.\")\n",
    "        except ConnectionError as e:\n",
    "            print(f\"Connection error: {e}\")\n",
    "            raise\n",
    "\n",
    "    def create_index(self):\n",
    "        try:\n",
    "            self.es.indices.delete(index=self.index_name, ignore_unavailable=True)\n",
    "            print(f\"Deleted index: {self.index_name} (if it existed)\")\n",
    "        except NotFoundError:\n",
    "            print(f\"Index {self.index_name} does not exist, nothing to delete.\")\n",
    "        except ConnectionError as e:\n",
    "            print(f\"Error deleting index: {e}\")\n",
    "\n",
    "        try:\n",
    "            self.es.indices.create(index=self.index_name, body=self.index_settings)\n",
    "            print(f\"Created index: {self.index_name}\")\n",
    "        except ConnectionError as e:\n",
    "            print(f\"Error creating index: {e}\")\n",
    "\n",
    "    def prepare_and_index_documents(self, reviews):\n",
    "        \"\"\"\n",
    "        Prepare documents by encoding and indexing them into Elasticsearch.\n",
    "        \n",
    "        :param reviews: List of review documents to be indexed.\n",
    "        \"\"\"\n",
    "        for doc in tqdm(reviews):\n",
    "            # Handle None values for numerical fields\n",
    "            doc['author.playtimeforever'] = doc.get('author.playtimeforever', 0) or 0\n",
    "            doc['author.playtime_last_two_weeks'] = doc.get('author.playtime_last_two_weeks', 0) or 0\n",
    "            doc['author.playtime_at_review'] = doc.get('author.playtime_at_review', 0) or 0\n",
    "            doc['author.last_played'] = doc.get('author.last_played', 0) or 0\n",
    "            doc['votes_up'] = doc.get('votes_up', 0) or 0\n",
    "            doc['timestamp_created'] = doc.get('timestamp_created', 0) or 0\n",
    "            doc['timestamp_updated'] = doc.get('timestamp_updated', 0) or 0\n",
    "\n",
    "            # Encode title and review if a model is provided\n",
    "            if self.model:\n",
    "                title = doc[\"title\"]\n",
    "                review = doc['review']\n",
    "                tr = title + ' ' + review\n",
    "\n",
    "                # Encode the text and convert to lists\n",
    "                doc['title_vector'] = self.model.encode(title).tolist()\n",
    "                doc['review_vector'] = self.model.encode(review).tolist()\n",
    "                doc['title_review_vector'] = self.model.encode(tr).tolist()\n",
    "            else:\n",
    "                # Placeholder if no model is provided\n",
    "                doc['title_vector'] = []\n",
    "                doc['review_vector'] = []\n",
    "                doc['title_review_vector'] = []\n",
    "\n",
    "            # Index the document\n",
    "            try:\n",
    "                self.es.index(index=self.index_name, document=doc)\n",
    "            except Exception as e:\n",
    "                print(f\"Failed to index document {doc}: {e}\")\n",
    "\n",
    "    def fetch_first_documents(self, size=10):\n",
    "        body = {\n",
    "            \"query\": {\n",
    "                \"match_all\": {}\n",
    "            },\n",
    "            \"size\": size\n",
    "        }\n",
    "\n",
    "        try:\n",
    "            response = self.es.search(index=self.index_name, body=body)\n",
    "            return response['hits']['hits']\n",
    "        except NotFoundError:\n",
    "            print(f\"Index {self.index_name} not found.\")\n",
    "        except ConnectionError as e:\n",
    "            print(f\"Error searching index: {e}\")\n",
    "        except Exception as e:\n",
    "            print(f\"An error occurred: {e}\")\n",
    "        return None\n",
    "\n",
    "    \n",
    "    def query_reviews(self, title, query, k=5, num_candidates=10000):\n",
    "        \"\"\"\n",
    "        Query reviews using both KNN and keyword search in a single query, \n",
    "        where both conditions are part of the search request.\n",
    "        \n",
    "        :param title: The title of the game to filter results.\n",
    "        :param query: The natural language query for searching.\n",
    "        :param k: The number of nearest neighbors to retrieve.\n",
    "        :param num_candidates: Number of candidates for KNN search.\n",
    "        :return: The combined search results from KNN and keyword queries.\n",
    "        \"\"\"\n",
    "        # Encode the query into a vector\n",
    "        v_q = self.model.encode(query).tolist()  # Ensure the query is encoded into a list\n",
    "        \n",
    "        # KNN query\n",
    "        knn_query = {\n",
    "            \"field\": \"review_vector\",  # Field for KNN vector search\n",
    "            \"query_vector\": v_q,\n",
    "            \"k\": k,\n",
    "            \"num_candidates\": num_candidates,\n",
    "            \"boost\": 0.5,\n",
    "            \"filter\": {\n",
    "                \"term\": {\n",
    "                    \"title\": title  # Filter by title field\n",
    "                }\n",
    "            }\n",
    "        }\n",
    "    \n",
    "        # Keyword search query using bool/must\n",
    "        keyword_query = {\n",
    "            \"bool\": {\n",
    "                \"must\": {\n",
    "                    \"multi_match\": {\n",
    "                        \"query\": query,\n",
    "                        \"fields\": [\"review^3\", \"title\"],  # Relevant fields for keyword search\n",
    "                        \"type\": \"best_fields\",\n",
    "                        \"boost\": 0.5\n",
    "                    }\n",
    "                },\n",
    "                \"filter\": {\n",
    "                    \"term\": {\n",
    "                        \"title\": title  # Filter by title field\n",
    "                    }\n",
    "                }\n",
    "            }\n",
    "        }\n",
    "    \n",
    "        # Combining both knn and keyword queries into one search query\n",
    "        search_query = {\n",
    "            \"knn\": knn_query,\n",
    "            \"query\": keyword_query,\n",
    "            \"size\": k,\n",
    "            \"_source\": [\"review\", \"title\", \"author.steamid\", \"votes_up\", \"timestamp_created\"]\n",
    "        }\n",
    "    \n",
    "        # Execute the search query\n",
    "        try:\n",
    "            es_results = self.es.search(index=self.index_name, body=search_query)\n",
    "            result_docs = [hit['_source'] for hit in es_results['hits']['hits']]\n",
    "            return result_docs\n",
    "        except Exception as e:\n",
    "            print(f\"An error occurred during the search: {e}\")\n",
    "            return []\n",
    "    \n",
    "    \n",
    "    def query_reviews_hybrid(self, appid, query, v_q, k=2, num_candidates=10000, vector_field=\"review_vector\"):\n",
    "        \"\"\"\n",
    "        Query reviews using both KNN and keyword search in a single query with hybrid search, \n",
    "        where both conditions are part of the search request.\n",
    "        \n",
    "        :param title: The title of the game to filter results.\n",
    "        :param query: The natural language query for searching.\n",
    "        :param k: The number of nearest neighbors to retrieve.\n",
    "        :param num_candidates: Number of candidates for KNN search.\n",
    "        :param vector_field: The field to use for KNN vector search. Can be 'review_vector', 'title_vector', or 'title_review_vector'.\n",
    "        :return: The combined search results from KNN and keyword queries.\n",
    "        \"\"\"\n",
    "        \n",
    "        # Validate the vector field\n",
    "        if vector_field not in [\"review_vector\", \"title_vector\", \"title_review_vector\"]:\n",
    "            raise ValueError(f\"Invalid vector field: {vector_field}. Must be 'review_vector', 'title_vector', or 'title_review_vector'.\")\n",
    "        \n",
    "        # Encode the query into a vector\n",
    "        # v_q = self.model.encode(query).tolist()  # Ensure the query is encoded into a list\n",
    "        \n",
    "        # KNN query\n",
    "        knn_query = {\n",
    "            \"field\": vector_field,  # Use the selected vector field\n",
    "            \"query_vector\": v_q,\n",
    "            \"k\": k,\n",
    "            \"num_candidates\": num_candidates,\n",
    "            \"boost\": 0.5,\n",
    "            \"filter\": {\n",
    "                \"term\": {\n",
    "                    \"appid\": appid  # Filter by title field\n",
    "                }\n",
    "            }\n",
    "        }\n",
    "    \n",
    "        # Keyword search query using bool/must\n",
    "        keyword_query = {\n",
    "            \"bool\": {\n",
    "                \"must\": {\n",
    "                    \"multi_match\": {\n",
    "                        \"query\": query,\n",
    "                        \"fields\": [\"review^3\", \"appid\"],  # Relevant fields for keyword search\n",
    "                        \"type\": \"best_fields\",\n",
    "                        \"boost\": 0.5\n",
    "                    }\n",
    "                },\n",
    "                \"filter\": {\n",
    "                    \"term\": {\n",
    "                        \"appid\": appid  # Filter by title field\n",
    "                    }\n",
    "                }\n",
    "            }\n",
    "        }\n",
    "    \n",
    "        # Combining both knn and keyword queries into one search query\n",
    "        search_query = {\n",
    "            \"knn\": knn_query,\n",
    "            \"query\": keyword_query,\n",
    "            \"size\": k,\n",
    "            \"_source\": [\"review\", \"appid\"]\n",
    "        }\n",
    "    \n",
    "        # Execute the search query\n",
    "        try:\n",
    "            es_results = self.es.search(index=self.index_name, body=search_query)\n",
    "            result_docs = [hit['_source'] for hit in es_results['hits']['hits']]\n",
    "            return result_docs\n",
    "        except Exception as e:\n",
    "            print(f\"An error occurred during the search: {e}\")\n",
    "            return []\n",
    "\n",
    "\n",
    "\n",
    "\n",
    "    def get_distinct_titles(self):\n",
    "        \"\"\"\n",
    "        Get distinct titles from the Elasticsearch index.\n",
    "    \n",
    "        :return: A list of distinct titles.\n",
    "        \"\"\"\n",
    "        try:\n",
    "            # Define the aggregation query\n",
    "            aggs = {\n",
    "                \"distinct_titles\": {\n",
    "                    \"terms\": {\n",
    "                        \"field\": \"title.keyword\",  # Use \".keyword\" for exact matches on keyword fields\n",
    "                        \"size\": 1000  # Adjust this size as needed\n",
    "                    }\n",
    "                }\n",
    "            }\n",
    "    \n",
    "            # Execute the aggregation query\n",
    "            response = self.es.search(index=self.index_name, body={\"size\": 0, \"aggs\": aggs})\n",
    "            distinct_titles = response['aggregations']['distinct_titles']['buckets']\n",
    "    \n",
    "            # Extract titles from the buckets\n",
    "            titles_list = [bucket['key'] for bucket in distinct_titles]\n",
    "            return titles_list\n",
    "    \n",
    "        except Exception as e:\n",
    "            print(f\"An error occurred while fetching distinct titles: {e}\")\n",
    "            return []\n",
    "\n",
    "\n",
    "# Usage example\n",
    "# Assuming you have a list of reviews and a model for encoding\n",
    "indexer = ReviewIndexer(model=model)  # Pass your model here\n",
    "indexer.create_index()  # Ensure the index is created first\n",
    "\n",
    "# Sample input for indexing\n",
    "# reviews = [\n",
    "#     {\n",
    "#         'appid': '721180',\n",
    "#         'timestamp_query': 1727608376,\n",
    "#         'title': 'Dustborn',\n",
    "#         'recommendationid': '173934401',\n",
    "#         'author.steamid': '76561198028269344',\n",
    "#         'author.playtimeforever': None,\n",
    "#         'author.playtime_last_two_weeks': 0,\n",
    "#         'author.playtime_at_review': 90,\n",
    "#         'author.last_played': 1725140143,\n",
    "#         'language': 'english',\n",
    "#         'review': 'I went into this with an open mind...',\n",
    "#         'voted_up': False,\n",
    "#         'votes_up': 401,\n",
    "#         'timestamp_created': 1725142580,\n",
    "#         'timestamp_updated': 1725142580,\n",
    "#         'title_vector': [],  # Initial placeholders\n",
    "#         'review_vector': [],\n",
    "#         'title_review_vector': []\n",
    "#     }\n",
    "# ]\n",
    "\n",
    "# # Prepare and index documents\n",
    "# indexer.prepare_and_index_documents(reviews)\n",
    "\n",
    "# # Fetch and print the first documents after indexing\n",
    "# first_documents = indexer.fetch_first_documents(size=10)\n",
    "# if first_documents:\n",
    "#     for doc in first_documents:\n",
    "#         print(doc['_source'])  # Print the document details\n"
   ]
  },
  {
   "cell_type": "code",
   "execution_count": 15,
   "id": "0568e9dd-ec8a-4c60-94d0-89d81543d9e6",
   "metadata": {
    "scrolled": true
   },
   "outputs": [
    {
     "name": "stdout",
     "output_type": "stream",
     "text": [
      "Author ID: 76561198420943538\n",
      "Review: ---{ Graphics }---\n",
      "✅ You forget what reality is\n",
      "☐ Beautiful\n",
      "☐ Good\n",
      "☐ Decent\n",
      "☐ Bad\n",
      "☐ You will get eye cancer\n",
      "☐ Get a pepper spray for your eye instead\n",
      "\n",
      "---{ Gameplay }---\n",
      "☐ Won’t ever touch any other game anymore\n",
      "✅ Very good\n",
      "☐ Good\n",
      "☐ It's just gameplay\n",
      "☐ Mehh\n",
      "☐ Watch paint dry instead\n",
      "☐ Tic Tac toe is better\n",
      "\n",
      "---{ Audio }---\n",
      "☐ Eargasm\n",
      "✅ Very good\n",
      "☐ Good\n",
      "☐ Not too bad\n",
      "☐ Bad\n",
      "☐ I'm now deaf\n",
      "\n",
      "---{ Audience }---\n",
      "☐ Kids\n",
      "✅Teens\n",
      "✅ Adults\n",
      "☐ Grandma\n",
      "\n",
      "---{ PC Requirements }---\n",
      "☐ Check if you can run paint\n",
      "☐ Potato\n",
      "☐ Decent\n",
      "✅ Fast\n",
      "☐ Rich boi\n",
      "☐ Ask NASA if they have a spare computer\n",
      "☐ Search the galaxy for dark matter fuel to run\n",
      "\n",
      "---{ Difficulty }---\n",
      "☐ Just press 'W'\n",
      "☐ Easy\n",
      "✅ Easy to learn / Hard to master\n",
      "☐ Significant brain usage\n",
      "☐ Difficult\n",
      "☐ Dark Souls\n",
      "\n",
      "---{ Grind }---\n",
      "☐ Nothing to grind\n",
      "☐ Only if u care about leaderboards/ranks\n",
      "✅ Isn't necessary to progress\n",
      "☐ Average grind level\n",
      "☐ Too much grind\n",
      "☐ You'll need a second life for grinding\n",
      "\n",
      "---{ Story }---\n",
      "☐ No Story\n",
      "☐ Some lore\n",
      "☐ Average\n",
      "☐ Good\n",
      "☐ Lovely\n",
      "✅ It'll replace your life\n",
      "\n",
      "---{ Game Time }---\n",
      "☐ Long enough for a cup of coffee\n",
      "☐ Short\n",
      "☐ Average\n",
      "✅ Long\n",
      "☐ To infinity and beyond\n",
      "☐ Until GTA6 releases\n",
      "\n",
      "---{ Price }---\n",
      "☐ It's free!\n",
      "☐ Worth the price\n",
      "✅ If it's on sale\n",
      "☐ If u have some spare money left\n",
      "☐ Not recommended\n",
      "☐ You could also just burn your money\n",
      "\n",
      "---{ Bugs }---\n",
      "☐ Never heard of\n",
      "✅ Minor bugs\n",
      "☐ Can get annoying\n",
      "☐ ARK: Survival Evolved\n",
      "☐ The game itself is a big terrarium for bugs\n",
      "\n",
      "---{ ? / 10 }---\n",
      "☐ 1\n",
      "☐ 2\n",
      "☐ 3\n",
      "☐ 4\n",
      "☐ 5\n",
      "☐ 6\n",
      "☐ 7\n",
      "☐ 8\n",
      "✅ 9\n",
      "☐ 10\n",
      "Timestamp Created: 1725394822\n",
      "-------------------------------------------------------------------------------\n",
      "Author ID: 76561198835479154\n",
      "Review: Despite being an ambitious game, Assassin's Creed Odyssey often feels bloated. While the vast, open-world is beautiful, it can feel repetitive and is filled with unnecessary quests that drag down the experience. The RPG mechanics, a fresh idea, sometimes take away from the Assassin's Creed experience, making it feel more like an open-world checklist simulator. That said, the story is engaging and the historical setting is captivating, especially for fans of Ancient Greece. If you have the patience for the grind, there's still fun to be had\n",
      "Timestamp Created: 1726669780\n",
      "-------------------------------------------------------------------------------\n"
     ]
    }
   ],
   "source": [
    "# Directory containing the data files\n",
    "data_dir = os.path.abspath('../reviews-assistant/data/reviews')\n",
    "\n",
    "# Initialize an empty list to hold all reviews\n",
    "reviews = []\n",
    "\n",
    "# List objects in the directory\n",
    "objects_in_directory = os.listdir(data_dir)\n",
    "\n",
    "# Iterate over the files in the directory\n",
    "for obj in objects_in_directory:\n",
    "    if obj.endswith('.json'):  # Check if the file is a JSON file\n",
    "        file_path = os.path.join(data_dir, obj)\n",
    "        with open(file_path, 'r', encoding='utf-8') as jsonfile:\n",
    "            # Load the reviews from the JSON file\n",
    "            file_reviews = json.load(jsonfile)\n",
    "            reviews.extend(file_reviews)  # Append reviews to the main list\n",
    "# Print the first i reviews\n",
    "i = 2  # Change this to print more reviews if needed\n",
    "for review in reviews[:i]:\n",
    "    print(f\"Author ID: {review['author.steamid']}\")\n",
    "    print(f\"Review: {review.get('review', 'No text')}\")\n",
    "    print(f\"Timestamp Created: {review['timestamp_created']}\")\n",
    "    print(\"-\" * 79)"
   ]
  },
  {
   "cell_type": "code",
   "execution_count": 16,
   "id": "c3d6ecfb-1b80-490c-b59e-862e4c39ee3f",
   "metadata": {},
   "outputs": [
    {
     "data": {
      "text/plain": [
       "1782"
      ]
     },
     "execution_count": 16,
     "metadata": {},
     "output_type": "execute_result"
    }
   ],
   "source": [
    "len(reviews)"
   ]
  },
  {
   "cell_type": "code",
   "execution_count": 17,
   "id": "74245636-2c59-40bb-badb-e27e61b3b577",
   "metadata": {
    "scrolled": true
   },
   "outputs": [
    {
     "data": {
      "text/plain": [
       "{'appid': '812140',\n",
       " 'timestamp_query': 1727643597,\n",
       " 'title': \"Assassin's Creed Odyssey\",\n",
       " 'recommendationid': '174160338',\n",
       " 'author.steamid': '76561198420943538',\n",
       " 'author.playtimeforever': None,\n",
       " 'author.playtime_last_two_weeks': 0,\n",
       " 'author.playtime_at_review': 5599,\n",
       " 'author.last_played': 1696845057,\n",
       " 'language': 'english',\n",
       " 'review': \"---{ Graphics }---\\n✅ You forget what reality is\\n☐ Beautiful\\n☐ Good\\n☐ Decent\\n☐ Bad\\n☐ You will get eye cancer\\n☐ Get a pepper spray for your eye instead\\n\\n---{ Gameplay }---\\n☐ Won’t ever touch any other game anymore\\n✅ Very good\\n☐ Good\\n☐ It's just gameplay\\n☐ Mehh\\n☐ Watch paint dry instead\\n☐ Tic Tac toe is better\\n\\n---{ Audio }---\\n☐ Eargasm\\n✅ Very good\\n☐ Good\\n☐ Not too bad\\n☐ Bad\\n☐ I'm now deaf\\n\\n---{ Audience }---\\n☐ Kids\\n✅Teens\\n✅ Adults\\n☐ Grandma\\n\\n---{ PC Requirements }---\\n☐ Check if you can run paint\\n☐ Potato\\n☐ Decent\\n✅ Fast\\n☐ Rich boi\\n☐ Ask NASA if they have a spare computer\\n☐ Search the galaxy for dark matter fuel to run\\n\\n---{ Difficulty }---\\n☐ Just press 'W'\\n☐ Easy\\n✅ Easy to learn / Hard to master\\n☐ Significant brain usage\\n☐ Difficult\\n☐ Dark Souls\\n\\n---{ Grind }---\\n☐ Nothing to grind\\n☐ Only if u care about leaderboards/ranks\\n✅ Isn't necessary to progress\\n☐ Average grind level\\n☐ Too much grind\\n☐ You'll need a second life for grinding\\n\\n---{ Story }---\\n☐ No Story\\n☐ Some lore\\n☐ Average\\n☐ Good\\n☐ Lovely\\n✅ It'll replace your life\\n\\n---{ Game Time }---\\n☐ Long enough for a cup of coffee\\n☐ Short\\n☐ Average\\n✅ Long\\n☐ To infinity and beyond\\n☐ Until GTA6 releases\\n\\n---{ Price }---\\n☐ It's free!\\n☐ Worth the price\\n✅ If it's on sale\\n☐ If u have some spare money left\\n☐ Not recommended\\n☐ You could also just burn your money\\n\\n---{ Bugs }---\\n☐ Never heard of\\n✅ Minor bugs\\n☐ Can get annoying\\n☐ ARK: Survival Evolved\\n☐ The game itself is a big terrarium for bugs\\n\\n---{ ? / 10 }---\\n☐ 1\\n☐ 2\\n☐ 3\\n☐ 4\\n☐ 5\\n☐ 6\\n☐ 7\\n☐ 8\\n✅ 9\\n☐ 10\",\n",
       " 'voted_up': True,\n",
       " 'votes_up': 111,\n",
       " 'timestamp_created': 1725394822,\n",
       " 'timestamp_updated': 1725394912}"
      ]
     },
     "execution_count": 17,
     "metadata": {},
     "output_type": "execute_result"
    }
   ],
   "source": [
    "reviews[0]"
   ]
  },
  {
   "cell_type": "code",
   "execution_count": 18,
   "id": "d1683b0c-ec77-4d8e-8708-2907b8e32c7b",
   "metadata": {
    "scrolled": true
   },
   "outputs": [
    {
     "data": {
      "text/plain": [
       "{'appid': '2239550',\n",
       " 'timestamp_query': 1727643597,\n",
       " 'title': 'Watch Dogs: Legion',\n",
       " 'recommendationid': '174862159',\n",
       " 'author.steamid': '76561199371555316',\n",
       " 'author.playtimeforever': None,\n",
       " 'author.playtime_last_two_weeks': 1,\n",
       " 'author.playtime_at_review': 109,\n",
       " 'author.last_played': 1726993288,\n",
       " 'language': 'english',\n",
       " 'review': 'meh',\n",
       " 'voted_up': True,\n",
       " 'votes_up': 0,\n",
       " 'timestamp_created': 1726233314,\n",
       " 'timestamp_updated': 1726233314}"
      ]
     },
     "execution_count": 18,
     "metadata": {},
     "output_type": "execute_result"
    }
   ],
   "source": [
    "reviews[-1]"
   ]
  },
  {
   "cell_type": "code",
   "execution_count": 19,
   "id": "a9ccba15-3fa2-4fe7-a0e8-853edef3226e",
   "metadata": {},
   "outputs": [
    {
     "name": "stderr",
     "output_type": "stream",
     "text": [
      "100%|██████████| 1782/1782 [02:41<00:00, 11.07it/s]\n"
     ]
    }
   ],
   "source": [
    "# Prepare and index documents\n",
    "indexer.prepare_and_index_documents(reviews)"
   ]
  },
  {
   "cell_type": "code",
   "execution_count": 20,
   "id": "7c73e1fc-375f-4f47-8165-b996e166f5f7",
   "metadata": {},
   "outputs": [],
   "source": [
    "# print(doc['_source'].keys())"
   ]
  },
  {
   "cell_type": "code",
   "execution_count": 21,
   "id": "fa5b8188-5d19-4a9c-8079-2ef04c51255c",
   "metadata": {},
   "outputs": [],
   "source": [
    "# Fetch and print the first documents after indexing\n",
    "# first_documents = indexer.fetch_first_documents(size=10)\n",
    "# if first_documents:\n",
    "#     for doc in first_documents:\n",
    "#         print(doc['_source'])  # Print the document details"
   ]
  },
  {
   "cell_type": "code",
   "execution_count": 22,
   "id": "75b6eb3e-77f9-433a-954a-018bb3bc8882",
   "metadata": {},
   "outputs": [],
   "source": [
    "# # Create an instance of ReviewIndexer\n",
    "# indexer = ReviewIndexer()\n",
    "\n",
    "# # Get distinct titles\n",
    "# distinct_titles = indexer.get_distinct_titles()\n",
    "\n",
    "# # Print distinct titles\n",
    "# for title in distinct_titles:\n",
    "#     print(title)"
   ]
  },
  {
   "cell_type": "code",
   "execution_count": 23,
   "id": "74d20816-cfb1-4d89-86bf-5c9ce41aca14",
   "metadata": {},
   "outputs": [],
   "source": [
    "# results"
   ]
  },
  {
   "cell_type": "code",
   "execution_count": 24,
   "id": "282cc7a7-9667-4b46-bee6-34a379072864",
   "metadata": {},
   "outputs": [],
   "source": [
    "# # Usage example\n",
    "# indexer = ReviewIndexer(model=model)  # Ensure your model is passed here\n",
    "# # indexer.create_index()  # Ensure the index is created first\n",
    "\n",
    "# # Sample input for querying\n",
    "# title = \"God of War: Ragnarok\"  # Example game title\n",
    "# query = 'Is God of War: Ragnarok a game for kids?'\n",
    "\n",
    "# # Perform the query\n",
    "# results = indexer.query_reviews(title, query)\n",
    "\n",
    "# # Convert the results to a pandas DataFrame\n",
    "# if results:  # Check if results are not empty\n",
    "#     # Extract the source data from the Elasticsearch response\n",
    "#     data = [doc['_source'] for doc in results]\n",
    "    \n",
    "#     # Create a DataFrame\n",
    "#     df_results = pd.DataFrame(data)\n",
    "    \n",
    "#     # Set pandas options to display full content of the 'review' column\n",
    "#     # pd.set_option('display.max_colwidth', None)  # or use a larger number to set a specific width\n",
    "#     # pd.set_option('display.max_rows', None)  # Show all rows if needed\n",
    "#     pd.reset_option('all')\n",
    "\n",
    "#     # Display the DataFrame\n",
    "#     # print(df_results.head())  # or use df_results to view the entire DataFrame\n",
    "# else:\n",
    "#     print(\"No results found.\")"
   ]
  },
  {
   "cell_type": "code",
   "execution_count": 25,
   "id": "7b6b1400-f1e5-4781-a09e-64f71508ab68",
   "metadata": {},
   "outputs": [],
   "source": [
    "title = \"God of War: Ragnarok\"  # Example game title\n",
    "query = 'Is God of War: Ragnarok a game for kids?'\n",
    "\n",
    "# Perform the query\n",
    "results = indexer.query_reviews(title, query)"
   ]
  },
  {
   "cell_type": "code",
   "execution_count": 26,
   "id": "c786bc84-6e1a-4ae3-82e2-a6ec68689e41",
   "metadata": {},
   "outputs": [
    {
     "data": {
      "text/plain": [
       "[{'title': 'God of War: Ragnarok',\n",
       "  'author.steamid': '76561198354466742',\n",
       "  'review': \"to God of War: Ragnarok Dev. Team,\\n\\nI’m writing to bring to your attention an issue regarding the current PC port of God of War: Ragnarok that affects users with 4GB VRAM graphics cards. When attempting to launch the game on such systems, an error message is displayed, indicating that there is not enough VRAM, and the game closes without allowing users to proceed. It is my humble request to kindly reconsider or remove this VRAM limitation. From personal experience and community feedback, I can confirm that the game runs well on certain integrated graphics processors (such as the Ryzen 3 3200G, Ryzen 5 3400G, and Ryzen 7 5700G), which are generally weaker than many 4GB VRAM GPUs available today. God of War: Ragnarok performs on the base PlayStation 4, which further suggests that the game should be capable of running on 4GB VRAM graphics cards, and the latest Steam Hardware Survey shows that one of the most widely used graphics cards among gamers is the GTX 1650, which comes with 4GB of VRAM and is ranked within the top three most popular cards. Limiting access to such a significant portion of the player base can potentially prevent many from enjoying your incredible game. Removing or adjusting this VRAM limitation would greatly benefit the gaming community, ensuring that a larger audience can experience God of War: Ragnarok on PC!\\n\\nEDIT : there’s a workaround and you can bypass this VRAM limit error by using a mod. ( MOD LINK : https://www.nexusmods.com/godofwarragnarok/mods/12?tab=files ) To install it, just drag and drop the files into the game's root folder, and the game should launch without any issues. It's unclear why Jetpack Interactive locked out 4GB VRAM cards, especially since the game runs just fine on them!\",\n",
       "  'votes_up': 989,\n",
       "  'timestamp_created': 1726803482},\n",
       " {'title': 'God of War: Ragnarok',\n",
       "  'author.steamid': '76561198053124774',\n",
       "  'review': \"God of War Ragnarok could have been an unforgettable experience on PC, but the unnecessary and nonsensical PSN/Sony account requirements tarnish what should have been a flawless port, and breaks offline play on Steam Deck. Sony, if you're reading this, stop shackling amazing games with terrible DRM and account dependencies. Especially single player games! Let us enjoy the game we paid for without the extra hoops.\",\n",
       "  'votes_up': 1080,\n",
       "  'timestamp_created': 1726761245},\n",
       " {'title': 'God of War: Ragnarok',\n",
       "  'author.steamid': '76561199237205683',\n",
       "  'review': \"If you played God of War (2018) and liked it, then you'll like Ragnarok as well. The combat is near identical save for a few tweaks to how effective the Runic Attacks are and some new added skills and abilities. The story is very good and engaging, the side quests are also not a chore to complete so exploration is fun. The issue I've had comes with the game crashing every now and then. It'll freeze up and crash maybe once every 2 hours or so, which should not be happening considering my PC specs are well above the minimum requirements for the game. I don't have this issue with any other modern games so I can only assume something is happening with Ragnarok specifically. It can be annoying but it auto-saves frequently and doesn't occur often enough to make the game unplayable, but for a full price AAA game, I still find it unacceptable.\",\n",
       "  'votes_up': 11,\n",
       "  'timestamp_created': 1727249712},\n",
       " {'title': 'God of War: Ragnarok',\n",
       "  'author.steamid': '76561199170479681',\n",
       "  'review': 'Why is this 100% single player experience forcing me to sign in with PSN? I understand that some people are given the OPTION to sign in but for others ( like me) it\\'s a requirement. Why? When I launch the game it just says \"A PSN account is required to play.\" and then I can either sign in, or quit the game. WTF? I hated it when EA did it, I hated it when Microsoft did it. I EPSECIALLY hated it when Ubisoft did it (Seriously GFYS Ubisoft). And I hate it now with Playstation doing it. The difference is that God of War: Ragnarok has ZERO online features. I can somewhat understand for games that are multiplayer or have online features but a single player only game? That\\'s a hard no from me.\\n\\nEdit: To a few of the people who commented. Not everyone does copious amounts of research on every single requirement, recommended specs, and reads the TOS for every game they play. That\\'s a terrible argument and a completely unreasonable expectation. Stop making excuses for bad consumer practices. L corpo bootlicking.',\n",
       "  'votes_up': 261,\n",
       "  'timestamp_created': 1727120061},\n",
       " {'title': 'God of War: Ragnarok',\n",
       "  'author.steamid': '76561198342881763',\n",
       "  'review': 'The days of searching for \"Spider-Man PC, Uncharted PC, Ghost of Tsushima PC, God of War PC\" a million times are finally over.\\n\\n\\nIt\\'s time to bring Bloodborne™ DEMON SOULS .',\n",
       "  'votes_up': 401,\n",
       "  'timestamp_created': 1726767566}]"
      ]
     },
     "execution_count": 26,
     "metadata": {},
     "output_type": "execute_result"
    }
   ],
   "source": [
    "results"
   ]
  },
  {
   "cell_type": "code",
   "execution_count": 27,
   "id": "c0c58caa-5f67-42ab-92b4-2ef5ec2e6579",
   "metadata": {},
   "outputs": [
    {
     "name": "stdout",
     "output_type": "stream",
     "text": [
      "No results found.\n"
     ]
    }
   ],
   "source": [
    "# Usage example\n",
    "# indexer = ReviewIndexer(model=model)  # Ensure your model is passed here\n",
    "\n",
    "# Sample input for querying\n",
    "title = \"God of War: Ragnarok\"  # Example game title\n",
    "appid = \"2322010\"\n",
    "query = 'Is God of War: Ragnarok a game for kids?'\n",
    "\n",
    "# Perform the query\n",
    "results = indexer.query_reviews(appid, query)\n",
    "\n",
    "# Convert the results to a pandas DataFrame\n",
    "if results:  # Check if results are not empty\n",
    "    # Since `results` is already a list of dictionaries (docs), no need to extract '_source'\n",
    "    df_results = pd.DataFrame(results)\n",
    "    \n",
    "    # Reset pandas options to default (if necessary)\n",
    "    pd.reset_option('all')\n",
    "    \n",
    "    # Display the DataFrame\n",
    "    # You can print the DataFrame or use df_results.head() to display the top rows\n",
    "    print(df_results.head())\n",
    "else:\n",
    "    print(\"No results found.\")"
   ]
  },
  {
   "cell_type": "code",
   "execution_count": null,
   "id": "917a69b7-5b26-4b61-ab7c-4911419bafba",
   "metadata": {},
   "outputs": [],
   "source": []
  },
  {
   "cell_type": "code",
   "execution_count": null,
   "id": "ed1ce74a-ef62-4ede-879e-3a5f10f36c8d",
   "metadata": {},
   "outputs": [],
   "source": []
  },
  {
   "cell_type": "code",
   "execution_count": 28,
   "id": "d2f04216-f087-4d8c-b2f5-19260dd9299f",
   "metadata": {},
   "outputs": [
    {
     "name": "stdout",
     "output_type": "stream",
     "text": [
      "\n",
      "Querying with vector field: review_vector\n",
      "     appid                                             review\n",
      "0  2322010  to God of War: Ragnarok Dev. Team,\\n\\nI’m writ...\n",
      "1  2322010  God of War Ragnarok could have been an unforge...\n",
      "\n",
      "Querying with vector field: title_vector\n"
     ]
    },
    {
     "name": "stderr",
     "output_type": "stream",
     "text": [
      "/tmp/ipykernel_58455/3957917344.py:23: FutureWarning: use_inf_as_na option is deprecated and will be removed in a future version. Convert inf values to NaN before operating instead.\n",
      "  pd.reset_option('all')\n",
      "/tmp/ipykernel_58455/3957917344.py:23: FutureWarning: use_inf_as_na option is deprecated and will be removed in a future version. Convert inf values to NaN before operating instead.\n",
      "  pd.reset_option('all')\n"
     ]
    },
    {
     "name": "stdout",
     "output_type": "stream",
     "text": [
      "     appid                                             review\n",
      "0  2322010  to God of War: Ragnarok Dev. Team,\\n\\nI’m writ...\n",
      "1  2322010  God of War Ragnarok could have been an unforge...\n",
      "\n",
      "Querying with vector field: title_review_vector\n",
      "     appid                                             review\n",
      "0  2322010  to God of War: Ragnarok Dev. Team,\\n\\nI’m writ...\n",
      "1  2322010  God of War Ragnarok could have been an unforge...\n"
     ]
    },
    {
     "name": "stderr",
     "output_type": "stream",
     "text": [
      "/tmp/ipykernel_58455/3957917344.py:23: FutureWarning: use_inf_as_na option is deprecated and will be removed in a future version. Convert inf values to NaN before operating instead.\n",
      "  pd.reset_option('all')\n"
     ]
    }
   ],
   "source": [
    "import pandas as pd\n",
    "\n",
    "# Initialize ReviewIndexer with the model\n",
    "# indexer = ReviewIndexer(model=model)  # Ensure your model is passed here\n",
    "# indexer.create_index()  # Ensure the index is created first\n",
    "\n",
    "# Sample input for querying\n",
    "title = \"God of War: Ragnarok\"  # Example game title\n",
    "query = 'Is God of War: Ragnarok a game for kids?'\n",
    "v_q = model.encode(query)\n",
    "\n",
    "# Perform the query using different vector fields\n",
    "for vector_field in [\"review_vector\", \"title_vector\", \"title_review_vector\"]:\n",
    "    print(f\"\\nQuerying with vector field: {vector_field}\")\n",
    "    results = indexer.query_reviews_hybrid(appid, query, v_q, vector_field=vector_field)\n",
    "\n",
    "    # Convert the results to a pandas DataFrame\n",
    "    if results:  # Check if results are not empty\n",
    "        # Since `results` is already a list of dictionaries (docs), no need to extract '_source'\n",
    "        df_results = pd.DataFrame(results)\n",
    "\n",
    "        # Reset pandas options to default (if necessary)\n",
    "        pd.reset_option('all')\n",
    "\n",
    "        # Display the DataFrame\n",
    "        print(df_results.head())  # Display the top rows of the DataFrame\n",
    "    else:\n",
    "        print(\"No results found.\")\n"
   ]
  },
  {
   "cell_type": "code",
   "execution_count": 29,
   "id": "1969dafc-f6a1-49a7-aa25-665a296e0707",
   "metadata": {},
   "outputs": [],
   "source": [
    "def hit_rate(relevance_total):\n",
    "    cnt = 0\n",
    "\n",
    "    for line in relevance_total:\n",
    "        if True in line:\n",
    "            cnt = cnt + 1\n",
    "\n",
    "    return cnt / len(relevance_total)"
   ]
  },
  {
   "cell_type": "code",
   "execution_count": 30,
   "id": "912c16bd-2094-477f-8193-3a985da6aeda",
   "metadata": {},
   "outputs": [],
   "source": [
    "def mrr(relevance_total):\n",
    "    total_score = 0.0\n",
    "\n",
    "    for line in relevance_total:\n",
    "        for rank in range(len(line)):\n",
    "            if line[rank] == True:\n",
    "                total_score += 1 / (rank + 1)\n",
    "                break  # Stop after finding the first relevant document\n",
    "\n",
    "    return total_score / len(relevance_total)\n"
   ]
  },
  {
   "cell_type": "code",
   "execution_count": 31,
   "id": "2e3c7434-cf68-4f5c-91a9-6c5ac0944dd1",
   "metadata": {},
   "outputs": [],
   "source": [
    "# def question_hybrid(q):\n",
    "#     question = q['question']\n",
    "#     course = q['course']\n",
    "\n",
    "#     v_q = model.encode(question)\n",
    "\n",
    "#     return elastic_search_hybrid('question_vector', question, v_q, course)"
   ]
  },
  {
   "cell_type": "code",
   "execution_count": 32,
   "id": "ac67d6b1-24e8-4206-96b6-59bf7e1c9e2f",
   "metadata": {},
   "outputs": [],
   "source": [
    "def question_hybrid(q):\n",
    "    # title = \"God of War: Ragnarok\"  # Example game title\n",
    "    # query = 'Is God of War: Ragnarok a game for kids?'\n",
    "    query=q['question']\n",
    "    appid=q['appid']\n",
    "    v_q = model.encode(query)\n",
    "\n",
    "    return indexer.query_reviews_hybrid(appid, query, v_q, vector_field=\"review_vector\")"
   ]
  },
  {
   "cell_type": "code",
   "execution_count": 33,
   "id": "e3769866-3aba-4cc4-ab81-dd00c6926843",
   "metadata": {},
   "outputs": [],
   "source": [
    "def evaluate(ground_truth, search_function):\n",
    "    relevance_total = []\n",
    "\n",
    "    for q in tqdm(ground_truth):\n",
    "        print(q)\n",
    "        \n",
    "        # doc_id = q['question']\n",
    "        doc_id = q['appid']\n",
    "        \n",
    "        results = search_function(q)\n",
    "        print(results[-1])\n",
    "        \n",
    "        relevance = [d['appid'] == doc_id for d in results]\n",
    "        print(relevance[-1])\n",
    "        relevance_total.append(relevance)\n",
    "\n",
    "    return {\n",
    "        'hit_rate': hit_rate(relevance_total),\n",
    "        'mrr': mrr(relevance_total),\n",
    "    }"
   ]
  },
  {
   "cell_type": "code",
   "execution_count": 34,
   "id": "efcff2f2-6b15-4303-8a3e-674f7c2cdc4f",
   "metadata": {},
   "outputs": [
    {
     "name": "stdout",
     "output_type": "stream",
     "text": [
      "Data loaded from /home/jovyan/reviews-assistant/data/ground_truth/ground_truth_retrieval.json\n",
      "Number of entries: 105\n",
      "[{'appid': '2322010', 'question': 'How well does God of War: Ragnarok perform on PC at launch?'}, {'appid': '2322010', 'question': 'What kind of PC specifications did the reviewer use while playing God of War: Ragnarok?'}, {'appid': '2322010', 'question': 'What resolution and settings were used to play God of War: Ragnarok according to the review?'}, {'appid': '2322010', 'question': 'Did the reviewer experience any performance issues such as stutter while playing God of War: Ragnarok?'}, {'appid': '2322010', 'question': \"Is there any mention of the game's story or gameplay quality in the review?\"}]\n"
     ]
    }
   ],
   "source": [
    "import json\n",
    "import os\n",
    "\n",
    "# Define the data directory path\n",
    "data_dir = os.path.abspath('../reviews-assistant/data/ground_truth')\n",
    "\n",
    "# Define the input file path\n",
    "input_file = os.path.join(data_dir, \"ground_truth_retrieval.json\")\n",
    "\n",
    "# Check if the file exists before attempting to read\n",
    "if os.path.exists(input_file):\n",
    "    # Read the results from the JSON file\n",
    "    with open(input_file, 'r', encoding='utf-8') as json_file:\n",
    "        ground_truth = json.load(json_file)  # Load the JSON data into a Python object\n",
    "\n",
    "    # Now ground_truth contains the data from ground_truth_retrieval.json\n",
    "    print(f\"Data loaded from {input_file}\")\n",
    "    print(f\"Number of entries: {len(ground_truth)}\")\n",
    "    # Optionally display the first few records\n",
    "    print(ground_truth[:5])  # Display the first 5 entries\n",
    "else:\n",
    "    print(f\"File {input_file} does not exist!\")"
   ]
  },
  {
   "cell_type": "code",
   "execution_count": 35,
   "id": "75a81369-8e30-413b-ab92-09d92f17e429",
   "metadata": {},
   "outputs": [
    {
     "data": {
      "text/plain": [
       "[{'appid': '2322010',\n",
       "  'question': 'How well does God of War: Ragnarok perform on PC at launch?'}]"
      ]
     },
     "execution_count": 35,
     "metadata": {},
     "output_type": "execute_result"
    }
   ],
   "source": [
    "ground_truth[:1]"
   ]
  },
  {
   "cell_type": "code",
   "execution_count": 36,
   "id": "3d738b08-507e-4918-b553-0515f7a193b1",
   "metadata": {
    "scrolled": true
   },
   "outputs": [
    {
     "name": "stderr",
     "output_type": "stream",
     "text": [
      "  0%|          | 0/105 [00:00<?, ?it/s]"
     ]
    },
    {
     "name": "stdout",
     "output_type": "stream",
     "text": [
      "{'appid': '2322010', 'question': 'How well does God of War: Ragnarok perform on PC at launch?'}\n",
      "{'appid': '2322010', 'review': \"God of War Ragnarok could have been an unforgettable experience on PC, but the unnecessary and nonsensical PSN/Sony account requirements tarnish what should have been a flawless port, and breaks offline play on Steam Deck. Sony, if you're reading this, stop shackling amazing games with terrible DRM and account dependencies. Especially single player games! Let us enjoy the game we paid for without the extra hoops.\"}\n",
      "True\n",
      "{'appid': '2322010', 'question': 'What kind of PC specifications did the reviewer use while playing God of War: Ragnarok?'}\n"
     ]
    },
    {
     "name": "stderr",
     "output_type": "stream",
     "text": [
      "  5%|▍         | 5/105 [00:00<00:02, 42.96it/s]"
     ]
    },
    {
     "name": "stdout",
     "output_type": "stream",
     "text": [
      "{'appid': '2322010', 'review': \"to God of War: Ragnarok Dev. Team,\\n\\nI’m writing to bring to your attention an issue regarding the current PC port of God of War: Ragnarok that affects users with 4GB VRAM graphics cards. When attempting to launch the game on such systems, an error message is displayed, indicating that there is not enough VRAM, and the game closes without allowing users to proceed. It is my humble request to kindly reconsider or remove this VRAM limitation. From personal experience and community feedback, I can confirm that the game runs well on certain integrated graphics processors (such as the Ryzen 3 3200G, Ryzen 5 3400G, and Ryzen 7 5700G), which are generally weaker than many 4GB VRAM GPUs available today. God of War: Ragnarok performs on the base PlayStation 4, which further suggests that the game should be capable of running on 4GB VRAM graphics cards, and the latest Steam Hardware Survey shows that one of the most widely used graphics cards among gamers is the GTX 1650, which comes with 4GB of VRAM and is ranked within the top three most popular cards. Limiting access to such a significant portion of the player base can potentially prevent many from enjoying your incredible game. Removing or adjusting this VRAM limitation would greatly benefit the gaming community, ensuring that a larger audience can experience God of War: Ragnarok on PC!\\n\\nEDIT : there’s a workaround and you can bypass this VRAM limit error by using a mod. ( MOD LINK : https://www.nexusmods.com/godofwarragnarok/mods/12?tab=files ) To install it, just drag and drop the files into the game's root folder, and the game should launch without any issues. It's unclear why Jetpack Interactive locked out 4GB VRAM cards, especially since the game runs just fine on them!\"}\n",
      "True\n",
      "{'appid': '2322010', 'question': 'What resolution and settings were used to play God of War: Ragnarok according to the review?'}\n",
      "{'appid': '2322010', 'review': \"God of War Ragnarok could have been an unforgettable experience on PC, but the unnecessary and nonsensical PSN/Sony account requirements tarnish what should have been a flawless port, and breaks offline play on Steam Deck. Sony, if you're reading this, stop shackling amazing games with terrible DRM and account dependencies. Especially single player games! Let us enjoy the game we paid for without the extra hoops.\"}\n",
      "True\n",
      "{'appid': '2322010', 'question': 'Did the reviewer experience any performance issues such as stutter while playing God of War: Ragnarok?'}\n",
      "{'appid': '2322010', 'review': \"God of War Ragnarok could have been an unforgettable experience on PC, but the unnecessary and nonsensical PSN/Sony account requirements tarnish what should have been a flawless port, and breaks offline play on Steam Deck. Sony, if you're reading this, stop shackling amazing games with terrible DRM and account dependencies. Especially single player games! Let us enjoy the game we paid for without the extra hoops.\"}\n",
      "True\n",
      "{'appid': '2322010', 'question': \"Is there any mention of the game's story or gameplay quality in the review?\"}\n",
      "{'appid': '2322010', 'review': \"No lifed this game on my four days off and it was an incredible journey. I saw other people commenting on how the ideas didn't seem to form together well, but I think everything has been tied off nicely, especially with the Valhalla mode added after the game's release. I'm both excited and curious to see what they do with future installments, if there will be any at all. The only thing that will suck is having to wait 1-2 years after the next game's release for it to come to PC, but I know the wait will definitely be worth it.\"}\n",
      "True\n",
      "{'appid': '2369390', 'question': 'Is the storytelling in Far Cry 6 engaging, or does it feel janky and clunky compared to other recent titles?'}\n",
      "{'appid': '2369390', 'review': 'As a long-time fan of the Far Cry series, I had high hopes for Far Cry 6, but unfortunately, it left me more frustrated than entertained. While the game had the potential to be another blockbuster in the series, it ultimately fails to live up to its predecessors in several key areas.\\r\\n\\r\\nRepetitive Gameplay:\\r\\nThe most glaring issue with Far Cry 6 is the repetitive nature of its gameplay. After the initial excitement of exploring a new open world and engaging in guerrilla warfare, the missions quickly become monotonous. The game essentially boils down to a rinse-and-repeat cycle of capturing outposts, destroying anti-aircraft sites, and completing fetch quests. There’s little innovation or variation in mission design, making the game feel like a chore rather than an adventure.\\r\\n\\r\\nUnderwhelming Storyline:\\r\\nOne of the series’ strengths has always been its compelling villains, but Anton Castillo, portrayed by Giancarlo Esposito, is disappointingly underutilized. The story lacks depth and fails to engage on an emotional level. The protagonist, Dani Rojas, is also bland, with dialogue that feels forced and lacks the charisma needed to carry the narrative. The moral complexity that previous games offered is missing here, leaving a generic and predictable plot.\\r\\n\\r\\nTechnical Issues:\\r\\nFar Cry 6 is plagued by technical problems that severely hamper the experience. The game suffers from frequent bugs and glitches, including enemies that disappear, missions that don’t trigger properly, and frustratingly long load times. These issues break immersion and make the game feel unfinished. Even on higher-end systems, performance can be inconsistent, with frame drops and stuttering during intense sequences.\\r\\n\\r\\nLack of Innovation:\\r\\nFor a game that is part of a well-established series, Far Cry 6 brings very little new to the table. The formula feels stale, and the game seems content to recycle elements from previous entries without adding anything truly fresh or exciting. The crafting system is cumbersome, and the inclusion of Resolver weapons, while initially intriguing, quickly loses its novelty.\\r\\n\\r\\nTedious Collectibles and Side Content:\\r\\nThe game is bloated with unnecessary collectibles and side activities that feel like padding rather than meaningful content. Chasing after roosters, hunting mythical animals, or collecting USB sticks doesn’t add much to the overall experience and often feels like busywork. These side quests are neither engaging nor rewarding enough to justify the time spent on them.\\r\\n\\r\\nConclusion:\\r\\nFar Cry 6 is a disappointing entry in a franchise that once set the standard for open-world shooters. It struggles with repetitive gameplay, a lackluster story, and technical issues that detract from the overall experience. While it may offer some moments of fun, especially for newcomers to the series, it fails to capture the magic that made its predecessors so beloved. For long-time fans, this installment might feel more like a step backward than a step forward.'}\n",
      "True\n",
      "{'appid': '2369390', 'question': 'Are there excessive cutscenes in Far Cry 6 that interrupt the gameplay experience?'}\n",
      "{'appid': '2369390', 'review': 'As a long-time fan of the Far Cry series, I had high hopes for Far Cry 6, but unfortunately, it left me more frustrated than entertained. While the game had the potential to be another blockbuster in the series, it ultimately fails to live up to its predecessors in several key areas.\\r\\n\\r\\nRepetitive Gameplay:\\r\\nThe most glaring issue with Far Cry 6 is the repetitive nature of its gameplay. After the initial excitement of exploring a new open world and engaging in guerrilla warfare, the missions quickly become monotonous. The game essentially boils down to a rinse-and-repeat cycle of capturing outposts, destroying anti-aircraft sites, and completing fetch quests. There’s little innovation or variation in mission design, making the game feel like a chore rather than an adventure.\\r\\n\\r\\nUnderwhelming Storyline:\\r\\nOne of the series’ strengths has always been its compelling villains, but Anton Castillo, portrayed by Giancarlo Esposito, is disappointingly underutilized. The story lacks depth and fails to engage on an emotional level. The protagonist, Dani Rojas, is also bland, with dialogue that feels forced and lacks the charisma needed to carry the narrative. The moral complexity that previous games offered is missing here, leaving a generic and predictable plot.\\r\\n\\r\\nTechnical Issues:\\r\\nFar Cry 6 is plagued by technical problems that severely hamper the experience. The game suffers from frequent bugs and glitches, including enemies that disappear, missions that don’t trigger properly, and frustratingly long load times. These issues break immersion and make the game feel unfinished. Even on higher-end systems, performance can be inconsistent, with frame drops and stuttering during intense sequences.\\r\\n\\r\\nLack of Innovation:\\r\\nFor a game that is part of a well-established series, Far Cry 6 brings very little new to the table. The formula feels stale, and the game seems content to recycle elements from previous entries without adding anything truly fresh or exciting. The crafting system is cumbersome, and the inclusion of Resolver weapons, while initially intriguing, quickly loses its novelty.\\r\\n\\r\\nTedious Collectibles and Side Content:\\r\\nThe game is bloated with unnecessary collectibles and side activities that feel like padding rather than meaningful content. Chasing after roosters, hunting mythical animals, or collecting USB sticks doesn’t add much to the overall experience and often feels like busywork. These side quests are neither engaging nor rewarding enough to justify the time spent on them.\\r\\n\\r\\nConclusion:\\r\\nFar Cry 6 is a disappointing entry in a franchise that once set the standard for open-world shooters. It struggles with repetitive gameplay, a lackluster story, and technical issues that detract from the overall experience. While it may offer some moments of fun, especially for newcomers to the series, it fails to capture the magic that made its predecessors so beloved. For long-time fans, this installment might feel more like a step backward than a step forward.'}\n",
      "True\n",
      "{'appid': '2369390', 'question': \"How does the story in Far Cry 6 compare to narratives in games like Cyberpunk or Baldur's Gate 3?\"}\n",
      "{'appid': '2369390', 'review': 'fun game. the story is pretty dumb tbh and there are endless cutscenes. Not sure why such a recent game relies on such janky and clunky storytelling, when games like cyberpunk and baldurs gate 3 respond to player actions so much better.'}\n",
      "True\n",
      "{'appid': '2369390', 'question': 'Does Far Cry 6 offer a well-optimized experience at launch, or does it feel unfinished?'}\n"
     ]
    },
    {
     "name": "stderr",
     "output_type": "stream",
     "text": [
      " 10%|▉         | 10/105 [00:00<00:02, 43.51it/s]"
     ]
    },
    {
     "name": "stdout",
     "output_type": "stream",
     "text": [
      "{'appid': '2369390', 'review': 'Despite others opinions this is just genuinely a good game its however only worth getting on a good offer\\r\\nmy overall review\\r\\nmusic: 6/10 but dani sings to the radio sometimes so that makes the music experience an 8/10\\r\\nGameplay: honestly great options for customisation of for your playstyle the maps got some brilliant ways to change up how it feels with anti aircraft and checkpoints id give it a 8/10 pushing a 9/10 would of been a 10/10 if skills and hunting animals for gear was in\\r\\nStory: honestly if your getting this game just for the story dont expect anything like far 3-5 levels of story but it is still okay its not anywhere near as good as previous games though 5/10\\r\\nCharacters: Dani is an amazing character who is very well done and honestly just so glad we dont have a silent character (looking at you far cry 5 and new dawn) and the other side characters are actually fairly well fleshed out and fit well into the story 7/10\\r\\nLooks: great graphics and the map is very good definitely not the best such as games like rdr2 but still good 7/10\\r\\nPrice: 4/10 definetly not worth it for the time the game takes if your not going for things such mainly story with some stuff outside the storyline to get gear which would be about 24ish hours of gameplay but 100% completion its defiently got a large amount for you. DEFINITELY get at a good deal!!!\\r\\nOverall: I do enjoy the game and it does sometimes feel a bit lackluster in some areas however it is still a good game 6/10\\r\\n'}\n",
      "True\n",
      "{'appid': '2369390', 'question': 'Is it worth purchasing Far Cry 6 on Steam despite concerns about its story quality and cutscenes?'}\n",
      "{'appid': '2369390', 'review': \"long time lover of the Far Cry series. \\r\\nstarted with Far Cry 3, loved it.\\r\\nBought Far Cry 4 the day it came out, LOVED IT...\\r\\n waited in extreme anticipation for Far Cry 5, LOVED IT SOOOO MUCH....\\r\\n\\r\\n something about Far Cry 6 is just.,.. different... than the last 3 games... idk what it is exacty...\\r\\n i really dig the physics and mechanics and game play... but the immersion of the STORY is just a notch below the last 3 for me... granted I haven't finished it yet... but i remember being HOOKED by the characters & story line almost immediately in 3, 4, and 5...but in 6, i'm almost 50 hours in and still only playing for the shooting and looting and taking over bases and stuff....\\r\\nits like, there are too many items and places to discover and it overwhelmed me a bit too much to get attached to the story from the beginning. I understand the main gyst of the story but not like i did in the last 3. overall i give it an 8\\\\10 (so far)\\r\\nwith Far Cry 3, 4, & 5 each getting 9/10...\\r\\nthank you Ubisoft <3 peace and love\"}\n",
      "True\n",
      "{'appid': '243470', 'question': 'Is the shooting mechanic in Watch_Dogs considered reliable and enjoyable by players?'}\n",
      "{'appid': '243470', 'review': \"Watch_Dogs™ is like Clone of GTA series placed at Chicago but with some additional you can hack some system with Smartphone. Story/Mission is good and enjoyable, combat also good many tactic you can use. \\n\\nI dont like the UI because is quite simple and for driving I don't like it but still can enjoy it. Also when receive call for mission, when Aiden (MC) running no animation calling. \\n\\nIt's worth it at Sale but if you already have it free at Uplay I'm not recommend for buy it.\"}\n",
      "True\n",
      "{'appid': '243470', 'question': 'How does the driving experience in Watch_Dogs compare to other games?'}\n"
     ]
    },
    {
     "name": "stderr",
     "output_type": "stream",
     "text": [
      " 14%|█▍        | 15/105 [00:00<00:02, 44.79it/s]"
     ]
    },
    {
     "name": "stdout",
     "output_type": "stream",
     "text": [
      "{'appid': '243470', 'review': 'i have already played watch dogs 1 on my console but missed out on bad blood dlc and finally played it on steam. The main story of aiden and dlc both are amazing. When we compare it to other watch dogs, watch dogs 1 and bad blood hold the best story writing. The game does show its age with time but still enjoyable even in 2024. gameplay is really nice but shooting and driving are not the best. After an hour or so u will get used to it though. Best playable on 60 fps, if u play on 120 fps u will run into some issues during elevator animation and few places here and there. But still my favourite watch dogs in the series.'}\n",
      "True\n",
      "{'appid': '243470', 'question': 'What aspects of the story and missions in Watch_Dogs are highlighted as being particularly good?'}\n",
      "{'appid': '243470', 'review': 'The game is good , Graphics are also amazing considering its a 2014 game . Shooting mechanics are shit avoid shooting as much as possible , Driving vehicle feels a little bit awkward because somehow every car starts like a race car , Stealth is good to go . And my god the story and missions are amazing'}\n",
      "True\n",
      "{'appid': '243470', 'question': 'Are the graphics in Watch_Dogs impressive for a game released in 2014?'}\n",
      "{'appid': '243470', 'review': \"This game is in my opinion the best out of the 2 (legion is NOT a game, it is a torture method), this game's story is 100 times better than Watch_Dogs 2, the only real problem with this game is that you have little to no replay value. I still HIGHLY recommend playing this game, since the story is amazing, the gameplay is a unique stealth, where you don't have to go for stealth, but it is way cooler if you do, and the graphics are also good\"}\n",
      "True\n",
      "{'appid': '243470', 'question': 'Does the game have a strong focus on stealth gameplay?'}\n",
      "{'appid': '243470', 'review': 'i have already played watch dogs 1 on my console but missed out on bad blood dlc and finally played it on steam. The main story of aiden and dlc both are amazing. When we compare it to other watch dogs, watch dogs 1 and bad blood hold the best story writing. The game does show its age with time but still enjoyable even in 2024. gameplay is really nice but shooting and driving are not the best. After an hour or so u will get used to it though. Best playable on 60 fps, if u play on 120 fps u will run into some issues during elevator animation and few places here and there. But still my favourite watch dogs in the series.'}\n",
      "True\n",
      "{'appid': '582160', 'question': \"How long does it typically take to achieve 100% completion in Assassin's Creed Origin?\"}\n",
      "{'appid': '582160', 'review': \"Overall a very bland and boring experience. \\nVoice actor for Bayek was excellent, graphics and especially the scenery were extraordinarily good, but its basically a huge thinned out map with fetch quests.\\n\\nAnd worst of all, it is just a Ubisoft open world hack and slay game that they put a assassin's creed skin on. \\n\\nIn its core it has nothing to do what the Assassin's Creed is about even though they tried to shift it somehow in the end to make it fit the story. But really, it's not an AC.\"}\n",
      "True\n",
      "{'appid': '582160', 'question': \"What is the overall rating given to Assassin's Creed Origin based on the review?\"}\n",
      "{'appid': '582160', 'review': \"[h3] Assassin's Creed Origins: A Breathtaking Journey Through Ancient Egypt [/h3]\\n\\n[i] Assassin's Creed Origins [/i] takes players on an epic journey through ancient Egypt, a world filled with wonder, danger, and adventure. The game introduces us to Bayek, a Medjay, whose quest for revenge takes him on a journey through a richly detailed world of political intrigue, ancient mythology, and thrilling action.\\n\\nOne of the most notable aspects of [i] Assassin's Creed Origins [/i] is its stunning graphics and attention to detail. The open-world environment is vast and immersive, with intricate designs and fascinating historical details in every corner of the map. From the towering pyramids to the bustling cities, everything in the game feels meticulously crafted and thoughtfully designed.\\n\\nIn terms of gameplay, [i] Assassin's Creed Origins [/i] makes significant changes to the series' traditional mechanics. Combat has been overhauled to be more challenging and strategic, and the introduction of a skill tree system allows players to tailor Bayek's abilities to their preferred playstyle.\\n\\nThe story of [i] Assassin's Creed Origins [/i] is compelling and emotionally resonant, with Bayek's journey providing a satisfying blend of revenge, justice, and personal growth. The game's side quests are also engaging and often tie into the larger narrative in meaningful ways.\\n\\nOverall, [i] Assassin's Creed Origins [/i] is an excellent addition to the series, offering a richly detailed and immersive world to explore, exciting combat, and a compelling story. Fans of the franchise and newcomers alike will find much to enjoy in this epic adventure through ancient Egypt.\"}\n",
      "True\n",
      "{'appid': '582160', 'question': 'Does the game require grinding to progress, or can players complete it without excessive effort?'}\n",
      "{'appid': '582160', 'review': 'UBISOFT SUCKS\\r\\nI can\\'t login to my account even though I have the password because it needs 2FA. 2FA no longer works because my Google Authenticator no longer has Ubisoft listed. My recovery codes don\\'t work anymore (from 2017) so I can\\'t login to disable or change them. \\r\\nI went on the Ubisoft website to submit a ticket to get it fixed but it won\\'t submit tickets without me being logged in. There is an option to submit without logging in but this just says \"there was an error submitting your case\"'}\n",
      "True\n",
      "{'appid': '582160', 'question': \"What were the standout features mentioned in the review regarding the game's story and mechanics?\"}\n"
     ]
    },
    {
     "name": "stderr",
     "output_type": "stream",
     "text": [
      " 19%|█▉        | 20/105 [00:00<00:01, 44.37it/s]"
     ]
    },
    {
     "name": "stdout",
     "output_type": "stream",
     "text": [
      "{'appid': '582160', 'review': \"Despite being seven years old, the game's graphics are really good. The story isn't groundbreaking, but it's good enough to make me grow attached to the characters—at least most of the time. The open world feels immersive and meaningful, avoiding the trap of being filled with pointless side quests (although I mainly focused on the main story).\\n\\nAs a fan of the original Assassin's Creed games, I found this title strikes a solid balance between RPG elements and classic AC gameplay. While I encountered a few bugs (like ships or enemies popping out of nowhere and getting stuck), none of them were game-breaking. However, the level scaling of enemies sometimes felt bad, as it could take an absurd number of hits to defeat them. I think playing on the max difficulty probably contributed to that too!\\n\\nOverall, the game feels like a prototype for AC Odyssey on the RPG side of things. If you find the game on discount, it's definitely worth picking up. I'll share more thoughts on Odyssey in a separate review after finishing the story.\"}\n",
      "True\n",
      "{'appid': '582160', 'question': 'How does the game perform in terms of graphics, gameplay, audio, and story ratings?'}\n",
      "{'appid': '582160', 'review': \"The game ends with 100% achievement at 53 hours. Amazing story, good mechanics, great story. Another good game from AC Series.\\n\\nGraphic : 8.5/10\\nGameplay : 9/10\\nAudio : 9/10\\nStory : 9/10\\nGame time : 100% Achivement in 53 hour was just nice.\\nGrind : isn't necessary to progress\\n\\n*Old Habit throphy were really pain in the ass!\\n\\nOverall : 9/10\\n\\n\\nSimple and worth to try. Very recommended!\"}\n",
      "True\n",
      "{'appid': '447040', 'question': 'Does Watch_Dogs 2 have any major bugs or performance issues that affect gameplay upon release?'}\n",
      "{'appid': '447040', 'review': 'A fun game that should have been as big and successful as GTA V. Now if only they would add Steam achievements, I feel like more people would be playing Watch_Dogs® 2.'}\n",
      "True\n",
      "{'appid': '447040', 'question': 'How does the storytelling in Watch_Dogs 2 compare to the first game in the series?'}\n"
     ]
    },
    {
     "name": "stderr",
     "output_type": "stream",
     "text": [
      " 24%|██▍       | 25/105 [00:00<00:01, 46.13it/s]"
     ]
    },
    {
     "name": "stdout",
     "output_type": "stream",
     "text": [
      "{'appid': '447040', 'review': 'A fun game that should have been as big and successful as GTA V. Now if only they would add Steam achievements, I feel like more people would be playing Watch_Dogs® 2.'}\n",
      "True\n",
      "{'appid': '447040', 'question': 'Are there any significant gameplay improvements or new features introduced in Watch_Dogs 2?'}\n",
      "{'appid': '447040', 'review': 'A fun game that should have been as big and successful as GTA V. Now if only they would add Steam achievements, I feel like more people would be playing Watch_Dogs® 2.'}\n",
      "True\n",
      "{'appid': '447040', 'question': 'Is the overall tone of Watch_Dogs 2 more comedic and less serious than its predecessor?'}\n",
      "{'appid': '447040', 'review': \"Its the best of the three Watch_Dogs games. Marcus' personality clashes hard with the fact that your going to end up slaughtering dozens of security guards with 3D printed weapons. Serious narrative dissonance. These games are at their best when you can go full stealth, which is pretty hard in this level. This game lacks the hiding in plain sight mechanic that disguises allow you in Legion. Overall I had fun with it. I was surprised to see that the multiplayer is really active despite being an 8 year old game. I had to turn off most of the multiplayer functions because I was getting tired of getting randomly attacked while I was just trying to get to a single player mission and then getting trapped in a ten minute game of hide and seek.\"}\n",
      "True\n",
      "{'appid': '447040', 'question': 'Should I expect a well-optimized game experience if I purchase Watch_Dogs 2 on Steam?'}\n",
      "{'appid': '447040', 'review': \"I have played the entire franchise of Watch_Dogs, and Watch_Dogs 2 remains the best entry in the franchise.  It has the most colorful and interesting map, lots of fun missions and interesting characters to follow. the first game tried to go for a hardcore hacker type of feel, whereas the sequel was more of a game that didn't take itself too seriously, and focused a lot on having fun.  Legion, the third game, kind of stepped back towards the first game, but in my opinion was largely forgettable.  Watch_Dogs 2 is so fun that I have played through the game multiple times, and I look forward to doing so again.\"}\n",
      "True\n",
      "{'appid': '721180', 'question': 'What type of game is Dustborn, and how does it combine different genres?'}\n",
      "{'appid': '721180', 'review': 'This game is cringey-bad. The only real fun was continuously playing the bland and lame song over and over again to annoy and laugh with my friends. We now ironically call each other the \\'Dustborn\". Playing the main character sucks because shes an asshole. Simply put. An @ssh0le who loves to be vocal and manipulate everyone she comes across. The whole shtick of them disguising themselves as punk band seems tone death because they\\'re all about rebelling against the government. While essentially being funded as\"DEI the game\". I played it wasn\\'t for me, I mean I knew that. But youtube and other forums were poking fun at it so I wanted to see what was wrong with it. \\n\\n3/10. Really bad but if these type of lgbtq games is your thing then buy it? idk.'}\n",
      "True\n",
      "{'appid': '721180', 'question': 'Is Dustborn expected to deliver a quality experience at launch, or is there a chance it might feel unfinished?'}\n",
      "{'appid': '721180', 'review': \"Do you like DEI? Do you like being lectured constantly? Do you like weak men who are constantly bullied? Do you like posters about refugees and green intiatives? Do you like knowing the character's gender pronouns and being reminded of them? Do like long, boring dialogues that feel pointless? Awkward third person combat? Characters who are in theory friends but who seem to hate each other? If you answered yes to any of these questions, Dustborn is for you! If not, stay clear.\\n\\nThe best thing about Dustborn was streaming it on Discord and tormenting my gaming buddies. It's a shame that this game is terrible, because the videos looked cool. Even with the moralizing, if the game had more redeeming features, I'd be good with it. Sadly, we were unable to locate them.\\n\\nRequesting a refund now so this dev team gets nothing, as they have earned nothing. In fact, they should be paying myself and my friends for the trauma we suffered. At least there were a few laughs at how lame the experience was and the graphics weren't bad. The credits music was also decent.\\n\\nIf you want to play this as a joke, wait until it's deeply discounted.\"}\n",
      "True\n",
      "{'appid': '721180', 'question': 'Are there any details about the gameplay mechanics in Dustborn that could affect my enjoyment of the game?'}\n",
      "{'appid': '721180', 'review': '\"I used my words as weapons. Every conversation a confrontation. \\nBefore this trip, I didn\\'t know how to listen. So how could I know what to say?\"\\n\\nDustborn, to me, was less a game about different factions fighting for control in an alternate universe where people have superpowers that are neither fully understood nor seen as a good thing, not even by the people who have access to them. \\nIt certainly is that, too, but what really spoke to me was the feeling of accompanying these people on their journey of self-discovery, of trying to find personal meaning in an - at times - out of control situation. None of the characters in the game is in a particularly good spot when the game begins. That is understandable, even if it is unpleasant at times. \\nEven though they are friends, and in this mess of a situation together, they are very isolated and don\\'t necessarily know how to connect with each other. It was really rewarding to me to see them learn how to listen and empathise, even if they disagree. All of this happened slowly over the entire runtime (~20 hours) of the game, so it never felt aprupt or forced.\\n The conversation system and the other ways of interacting with the cast of characters really shone for me. \\nDustborn lets you play your main character with a wide range. Are you going to use your Vox powers at the first possible moment or are you trying to minimize its use? Are you going to only look out for yourself or make room for others needs?\\nAre you going to be abrasive in conversations or take the time to listen? \\nDepending of how you play your cards, situations will be different, and so will the relationships in the game - for better of for worse. \\n\\nI thoroughly enjoyed my time with this game and am looking forward to playing a second run after I\\'ve let the thoughts swirling around in my mind settle for a bit. \\n   \\n'}\n",
      "True\n",
      "{'appid': '721180', 'question': 'Has the developer made any promises regarding the content or experience of Dustborn prior to its release?'}\n",
      "{'appid': '721180', 'review': \"Dustborn is a dialog heavy game with some simple combat on the side. The story is surprisingly slow at times for such a dialogue heavy game, instead focussing more on the character interactions. As such, whether you will enjoy this game depends on whether you like you the cast of the game or not.\\r\\nThe cast of the game is the playable character, Pax, and her 3 companions, Sai, Noam, and Theo. As you play further, the Dustborn crew growths, adding a wide variety of characters. You also influence the characters with your decisions, even being able to push the initial cast of characters towards three different directions (like buddy, dad, and boss in Theo's case).\\r\\nThe dialogue is very slice of life style a lot of time, having the characters talk about whatever topics that come up or situation they find themself in, while also sharing stuff about their privat life. I enjoyed listening to the banter between the characters, finding their jokes and comments regularly amusing.\\r\\nThe story of the game feels slow, putting the focus more on the roadtrip with friend aspect, but it has its moment. I do have to say that after finishing it, while it has interesting elements in its story, it feels like they never fully realised them in the end. The last chapters of the game feels like they had to either cut their initial plans short or like they were rushing to create an end for all the things they sat up. \\r\\nOverall i found the game an enjoyable experience and recommend it, even if it has its flaws.\"}\n",
      "True\n",
      "{'appid': '721180', 'question': 'Can I expect a seamless gaming experience with Dustborn on Steam without needing additional applications?'}\n"
     ]
    },
    {
     "name": "stderr",
     "output_type": "stream",
     "text": [
      " 29%|██▊       | 30/105 [00:00<00:01, 39.32it/s]"
     ]
    },
    {
     "name": "stdout",
     "output_type": "stream",
     "text": [
      "{'appid': '721180', 'review': \"This game won't connect with everyone, but if you are willing to give the game some time it can reveal a surprisingly engaging story set in a lushly detailed world with its own rich history.\\n\\nFans of Quantic Dream developed titles like Beyond: Two Souls will probably find a lot to enjoy here. Despite appearances and what one might be expecting from this game based on its many outspoken critics, the characters are well written and are not constantly focused on identity politics.\\n\\nDustborn is flawed in some ways. The combat and rhythm game sections feel tacked on compared to how well developed the story and dialogue can feel. Regardless, Red Thread made a bold move by creating something so potentially polarizing, and it was a very memorable experience for me.\\n\\nPeep my full critique and review here:\\nhttps://www.youtube.com/watch?v=TxbRt-NsIHo\"}\n",
      "True\n",
      "{'appid': '315210', 'question': 'Is the combat system in Suicide Squad: Kill the Justice League enjoyable and engaging?'}\n",
      "{'appid': '315210', 'review': \"I recently started playing Suicide Squad: Kill the Justice League and I have to say, I’m really getting into the story. At first, I was hesitant to try it out because of the overwhelming negative reviews I’d seen, but I didn’t want anyone else to miss out on something amazing due to that, so here I am sharing my honest experience.\\n\\nAs a huge fan of the Arkham Batman series (they were masterpieces to me in my teenage years, a perfect blend of art and gameplay), it was tough to come to terms with what happens to Batman in this game. But at the same time, it’s fascinating to see how our beloved heroes could be portrayed in their darkest moments.\\n\\nFor me, Suicide Squad: Kill the Justice League feels like a fresh breath of air, especially after Gotham Knights. It's incredibly exciting to step into the shoes of Deadshot and other antiheroes and villains. The gameplay mission with Mrs. Freeze from Season 2 that I watched blew my mind—it’s absolutely stunning!\\n\\nBut on the other hand, the game suffers from poor optimization and performance issues, especially on lower-end devices like the Steam Deck. This really hampers the gaming experience, making it difficult to fully enjoy the game. I hope Rocksteady can address these issues in future patches, as it’s a shame that such a great game is held back by technical problems.\\n\\nRight now, I’m thoroughly enjoying the storyline, which is genuinely engaging, and I can’t wait for new seasons and characters! The gameplay is so varied; you really need to experience it for yourself.\\n\\nA huge thank you to Rocksteady Studios for delivering this masterpiece despite the performance issues! 🎮💥\"}\n",
      "True\n",
      "{'appid': '315210', 'question': \"Are there concerns about the game's political themes affecting the overall experience?\"}\n",
      "{'appid': '315210', 'review': 'A pile of garbage EVEN if it ran with any sort of reasonable performance (it can\\'t). Movement is fun, that is literally it. Clearly this was the misguided foundation of the game, and despite traversal being fun and sometimes satisfying, nearly every other aspect of the game falls short.\\n\\nYou will find negative reviews that call the game\\'s choices for different characters \"woke\" or the like. These trolls are just classic morons and bigots -- the game is trash because the gameplay is hollow, not really the characters. The plot is also weak, but could have been ok if the seasonal content had more development and the bosses weren\\'t so undeveloped and unfun.'}\n",
      "True\n",
      "{'appid': '315210', 'question': 'Given the review mentions poor combat mechanics, should I be cautious about purchasing the game?'}\n",
      "{'appid': '315210', 'review': 'The first achievement of the game pops up after the tutorial and is called \"Trial by Fire\" with the subtitle \"What the Hell just happened?\" and these where my exact thoughts after playing threw the tutorial: \"What the F-Ing Hell just happened\"? Is this really a game developed by the developers of my beloved Arkham Series? \\n\\nThe game\\'s tutorial wanted me to return the title immediately but then I thought come on give it a try it cant be that bad. For starters: I bought that game on an 80% discount (19,99€). I dont even know where to start. Lets start with the combat. This game was made by the company who created the - in my opionion - best combat system in a superhero game -> the freeflow combat system; this system from the Batman Arkham games is till today superb and they exchanged that\\nwith this weirdly mess of shooter gameplay?... oh boi. \\n\\nbest part of my 2h session: introduction of Batman was amazing. Relatively after the Batman encounter you can walk threw \"The Batman Experience\" its basically a walkthrough \\nthrew all the iconic moments from the Arkham games and oh man did they give me a nostalgic kickback. all the cool characters, all the cool scenes and memories about the games.\\nIt seems almost like Suicide Squads wants to mock you and tell you \"this game will never be as good as those games...\".\\n\\nSo in the end, although I enjoyed some of the cutscenes, the gameplay loop killed it for me. It just wasn\\'t fun compared to their previous games. I was looking for a nice story, cool combat, cool traversal systems. \\n\\nIn the story sequences you get a hint that Rocksteady is still able to create and inscenate great story moments, but they gave it away to create a dull and stupid service game. \\n\\nI rarely leave a thumbs down review, but in this case I had no choice. Refunded after 2 hours and it wasnt even worth the 19,99€ I payed.\\n\\nI look on the bright side: hopefully this mess will be the reason that Rocksteady\\'s next game goes back to the roots.'}\n",
      "True\n",
      "{'appid': '315210', 'question': 'Was the game released in a polished state, or are there signs of being unfinished?'}\n"
     ]
    },
    {
     "name": "stderr",
     "output_type": "stream",
     "text": [
      " 33%|███▎      | 35/105 [00:00<00:01, 40.93it/s]"
     ]
    },
    {
     "name": "stdout",
     "output_type": "stream",
     "text": [
      "{'appid': '315210', 'review': \"I wanted to like this game, that's why I kept playing regardless of the issues I faced. Although people online kept saying it was bad in almost every way imaginable I still went in wanting to like this game. I had seen it months before it came out and already made my mind that I was going to like it. And for a while, I wasn't wrong. The gameplay is decent and like everyone else has already said the traversal is very nice. I love the world that rocksteady has created and the character designs (excluding harley) are all incredible, with the facial expressions being probably the best ever in any game. The story isn't that bad, or should I say it isn't as bad as some say, but you can definitely feel they are pushing an agenda. Now onto the biggest problems. A bit after beating the flash boss fight I came across a part of the game where you have to beat a bunch of small side quests for some characters. That's where I got stuck and couldn't progress. Specifically on the missions that you had to hunt down data teminauts the indicator at the corner of the screen most of the time just wouldn't show up so I would wander around aimlessly. I'm not sure if it's intentional and the indicator will only show up when you're close to one but that seems insane. Now, when I try to play the season 2 episodes, I get stuck on the loading screen and literally can't play the game that I paid for. If the technical issues didn't happen, it would be a 7, but now it's really like a 4.5, or just below a 5. I would've recommended you to buy it on sale if there weren't technical problems, but sadly there are.\"}\n",
      "True\n",
      "{'appid': '315210', 'question': 'How does the sale price compare to the perceived value of the game according to user reviews?'}\n",
      "{'appid': '315210', 'review': \"As of the time writing this I have finished the main story, and I gotta say I really enjoyed this game. When it goes on sale it's $14 and it's a hell of a $14 game. If you don't like cheesy superhero movie dialog, don't play this game... Cut scenes almost feel like a movie, the game is also gimmicky as hell. I didn't mind that but I see a lot of reviews bashing it because of it, it's no where near as repetitive as other games I've played (2013 Deadpool game I'm pointing at specifically). Movement is fun but if one character doesn't click it's horrible trying to play as them (King Shark was my most anticipated character to play and I ended up with Captain Boomerang purely for movement in the beginning). JUST DON'T BUY AT FULL PRICE!\"}\n",
      "True\n",
      "{'appid': '2239550', 'question': 'What are the major flaws in Watch Dogs: Legion that contributed to the negative review?'}\n",
      "{'appid': '2239550', 'review': \"Watch Dogs Legion is an interesting insight into a dystopian city that has fallen down the rabbit hole and nobody seems to find a way out. First of all, the innovative (albeit a bit flawed) Play As Anyone mechanic introduced in the video game allows players to recruit virtually any non-playable character in the open world, each bringing unique skills, backgrounds, and personalities to the fight against oppression. The roleplaying implications are vast, as you can immerse yourself in the lives of everyday Londoners, from construction workers and cryptocurrency analysts to paramedics and pickpockets, shifting your playstyle with each character. This mechanic encourages creative approaches to missions (in the simplest possible ways if you so desire) and fosters a deep connection to the individuals you recruit, making the rebellion against authoritarianism feel truly communal and diverse.\\n\\nThe factions in Watch Dogs Legion paint a vivid picture of the powers at play in dystopian London. DedSec, the group you belong to, is a grassroots resistance trying to free the city from the grip of oppressive organizations. Albion, a private military contractor, enforces martial law, symbolizing the rise of corporate-controlled security forces. Clan Kelley operates in the shadows, profiting off of London's underworld through human trafficking and black market deals. Meanwhile, the Signals Intelligence Response Service (SIRS), the intelligence agency, wields control over mass surveillance, presenting a chilling representation of how governments can abuse technology for control. Each faction not only serves as a formidable antagonist but also represents a different aspect of totalitarian rule, from corporate to criminal to governmental.\\n\\nSkye Larsen's story arc encapsulates the game's exploration of transhumanism, pushing the boundaries of what it means to be human. As the visionary behind advanced artificial intelligence and the leader of Project Daybreak (a project that aims to upload human consciousness into machines), Skye Larsen's ambitions raise ethical questions about identity, mortality, and the price of immortality. Her storyline serves as the darkest example of how technology in the wrong hands can dehumanize and exploit life itself. Skye Larsen's character and her experiments on her own family force players to confront the ethical nightmare of playing God, making her one of the most disturbing and tragic figures in Watch Dogs Legion.\\n\\nLondon, as reimagined in Watch Dogs Legion, is a masterclass in world-building, capturing the essence of the city while painting it in a dystopian light. Iconic landmarks such as the Tower of London, Camden Market, and Westminster Abbey are seamlessly integrated into a future where drones, surveillance cameras, and propaganda posters are omnipresent. The streets feel alive with the tension of a city under siege, from graffiti depicting resistance movements and Albion Contractors arresting innocent civilians in the streets after an identity check to automated checkpoints manned by Albion drones and Clan Kelley Associates harassing citizens to enforce their authority in controlled territories. This version of London feels both familiar and unsettling, a city at once modern and trapped under the weight of technological authoritarianism.\\n\\nThe documents scattered throughout the video game's open world and various missions enrich the narrative, giving players deeper insight into the lives of both the oppressors and the oppressed. Audio logs, text files, relics and dialogues reveal the motivations behind the factions, the corruption within the system, and the personal stories of those suffering under Albion and Clan Kelley's rule. These collectibles add layers to the main plot, providing context to major events and fleshing out characters who might otherwise seem one-dimensional or who don't even appear in the video game but played a crucial role in illustrating the violence in a dangerous dystopian London. Collecting these pieces of hidden lore rewards players with a fuller understanding of the world and the true stakes of DedSec's fight for freedom.\\n\\nWatch Dogs Legion, as a narrative video game (if you have this approach in mind when playing it), is a powerful reminder that in the face of overwhelming oppression, it is not just heroes who rise up, but everyday people who are united in the belief that together, they can reclaim their future.\"}\n",
      "True\n",
      "{'appid': '2239550', 'question': 'Does Watch Dogs: Legion offer a polished and optimized experience on release?'}\n",
      "{'appid': '2239550', 'review': 'Watch Dogs: Legion is an ambitious and exhilarating entry in the Watch Dogs franchise. Set in a beautifully rendered near-future London, the game stands out for its unique \"Play as Anyone\" system, which allows you to recruit and control any NPC in the world. This mechanic is a true game-changer, providing endless possibilities for creative gameplay, and making each playthrough feel fresh and personal.\\r\\n\\r\\nThe variety of characters you can recruit—from hackers to construction workers to grandmas—brings a fun, dynamic element to missions. Each character comes with their own set of skills, traits, and personalities, offering new strategies for tackling objectives. The game encourages experimentation, and there’s a real sense of accomplishment when you figure out how to use a seemingly unorthodox recruit to complete a mission.\\r\\n\\r\\nLondon itself is gorgeously crafted, blending iconic landmarks with dystopian flair. The attention to detail in the environments, combined with a compelling storyline that tackles relevant themes of surveillance, authoritarianism, and resistance, gives the game both depth and immediacy.\\r\\n\\r\\nThe missions are well-designed, offering a mix of stealth, combat, and hacking challenges. Whether you\\'re infiltrating a corporate stronghold or liberating a borough from an oppressive regime, the game rewards ingenuity and adaptability. The inclusion of cooperative multiplayer further extends the game\\'s replayability, letting you team up with friends to cause chaos or complete objectives.\\r\\n\\r\\nOverall, Watch Dogs: Legion is a thrilling and innovative experience that brings new life to open-world games. Its emphasis on player freedom, combined with a rich setting and engaging story, makes it a must-play for fans of the genre and newcomers alike.'}\n",
      "True\n",
      "{'appid': '2239550', 'question': 'Were there any promises made about Watch Dogs: Legion that were not fulfilled?'}\n",
      "{'appid': '2239550', 'review': \"Watch Dogs: Legion is certainly an interesting premise for a game, but it unfortunately fails to live up to it's potential, therefore I can't recommend it.\\r\\n\\r\\nJust play the first two games instead; they're vastly superior.\"}\n",
      "True\n",
      "{'appid': '2239550', 'question': 'How does Watch Dogs: Legion perform in terms of technical issues and bugs on launch day?'}\n",
      "{'appid': '2239550', 'review': 'Watch Dogs: Legion is an ambitious and exhilarating entry in the Watch Dogs franchise. Set in a beautifully rendered near-future London, the game stands out for its unique \"Play as Anyone\" system, which allows you to recruit and control any NPC in the world. This mechanic is a true game-changer, providing endless possibilities for creative gameplay, and making each playthrough feel fresh and personal.\\r\\n\\r\\nThe variety of characters you can recruit—from hackers to construction workers to grandmas—brings a fun, dynamic element to missions. Each character comes with their own set of skills, traits, and personalities, offering new strategies for tackling objectives. The game encourages experimentation, and there’s a real sense of accomplishment when you figure out how to use a seemingly unorthodox recruit to complete a mission.\\r\\n\\r\\nLondon itself is gorgeously crafted, blending iconic landmarks with dystopian flair. The attention to detail in the environments, combined with a compelling storyline that tackles relevant themes of surveillance, authoritarianism, and resistance, gives the game both depth and immediacy.\\r\\n\\r\\nThe missions are well-designed, offering a mix of stealth, combat, and hacking challenges. Whether you\\'re infiltrating a corporate stronghold or liberating a borough from an oppressive regime, the game rewards ingenuity and adaptability. The inclusion of cooperative multiplayer further extends the game\\'s replayability, letting you team up with friends to cause chaos or complete objectives.\\r\\n\\r\\nOverall, Watch Dogs: Legion is a thrilling and innovative experience that brings new life to open-world games. Its emphasis on player freedom, combined with a rich setting and engaging story, makes it a must-play for fans of the genre and newcomers alike.'}\n",
      "True\n",
      "{'appid': '2239550', 'question': 'Is it worth purchasing Watch Dogs: Legion on Steam considering the feedback received?'}\n"
     ]
    },
    {
     "name": "stderr",
     "output_type": "stream",
     "text": [
      " 38%|███▊      | 40/105 [00:00<00:01, 43.24it/s]"
     ]
    },
    {
     "name": "stdout",
     "output_type": "stream",
     "text": [
      "{'appid': '2239550', 'review': \"[h2]Watch Dogs Legion[/h2]\\r\\n[h3][i] Hard to Resist[/i][/h3]\\r\\nThis is one of those rare games that had me hooked from start to finish, and even then I wanted more. It's an ingenious game with no true protagonist that makes you grow emotionally attached to procedurally-generated NPCs, of all things. Although you do have to run through the obstacle of Ubisoft's online DRM, this is a rare Ubisoft gem that's actually worth it.\"}\n",
      "True\n",
      "{'appid': '304390', 'question': 'What issues does the game For Honor have with matchmaking?'}\n",
      "{'appid': '304390', 'review': 'Even using through Steam you are still required to use a ubisoft connect account. I have used an old account used by me and another family member back on ps4, thinking it would transfer over. After seeing nothing made it over and instead logged me into their own For Honor account I made my own account and tried to transfer ownsership of the game to it to no avail nor help from ubisoft support. i have spent only so long in my family members account that they said I could use since they were no longer going to play this trainwreck of a game, until an update to ubisoft connect logged me out, and now if I open for honor I only get a ubisoft connect window that says it has trouble verifying ownsership, with a Support button that does nothing when clicked. Do not get this game.'}\n",
      "True\n",
      "{'appid': '304390', 'question': 'Is it common to face uneven team compositions like 3v1 in For Honor?'}\n",
      "{'appid': '304390', 'review': 'Ah, For Honor. Or should I say For Torture? You know a game is great when you spend more time questioning your life choices than actually playing it. It\\'s like they took the mechanics of combat, ran them through a blender, and dumped them out in the middle of a lag-ridden, glitch-filled wasteland where \"honor\" is something you’ll never experience.\\n\\nThe combat? Imagine trying to juggle three flaming swords while riding a unicycle. Blindfolded. That\\'s about as intuitive as it gets. Who needs balance or skill when you can just get obliterated by a Viking with the hand-eye coordination of a potato?\\n\\nAnd let’s talk about the online experience, which is basically a 50/50 gamble on whether you’ll be matched with an opponent or just a loading screen that lasts longer than your will to live. But when you do finally get into a game, you\\'re welcomed by the soothing sounds of your teammates hurling insults at each other because, let’s be real, that’s the true \"community spirit\" here.\\n\\nThe story mode? I didn’t even know it had one until I accidentally clicked on it, and I wish I hadn’t. It’s like a rejected script for a knockoff Game of Thrones fanfiction, but with less coherence and more facepalming.\\n\\nIn conclusion, if you\\'re a masochist who loves the sensation of repeatedly slamming your head into a brick wall while listening to prepubescent kids yell obscenities, For Honor is the game for you. For everyone else: save your time, save your money, and save your sanity.\\n10/10 would recommend'}\n",
      "True\n",
      "{'appid': '304390', 'question': 'How many game modes are available in For Honor and how does it affect player count?'}\n",
      "{'appid': '304390', 'review': 'For Honor is pretty dope, especially with its compelling campaign with plenty of loot to obtain to play in the base game. In year 8, For Honor gives new players access to each main faction\\'s four original warriors of the Vanguard (Balanced), Assassin (Attacker/Damage-Dealer), Heavy (Tank), and Hybrid (Mixed/Unique Gameplay) characters, with the exception of the Wu Lin who give only their vanguard and assassin classes, and the \"Miscellaneous\" Outlanders faction of just all hybrids so far. As for gameplay, you have two large-scale modes of 4v4 with minions, and smaller modes of 1v1 duels or 2v2 brawls, and heroes for both players that want challenging learning curves with their heroes, or alternatively mindless fun (Looking at you, Ocelotl players). Lore was a bit of a mess in previous years, but year 8 is particularly promising with its lore as of year 8 season 3, as this season focuses on factions of knights, vikings, and samurai, instead of the covenants like Horkos and Chimera. I at the very least recommend trying the campaign, and maybe even just getting the game while it is on sale, such as when new heroes are released.'}\n",
      "True\n",
      "{'appid': '304390', 'question': 'What does the review suggest about the overall quality of For Honor?'}\n"
     ]
    },
    {
     "name": "stderr",
     "output_type": "stream",
     "text": [
      " 43%|████▎     | 45/105 [00:01<00:01, 44.77it/s]"
     ]
    },
    {
     "name": "stdout",
     "output_type": "stream",
     "text": [
      "{'appid': '304390', 'review': 'Ah, For Honor. Or should I say For Torture? You know a game is great when you spend more time questioning your life choices than actually playing it. It\\'s like they took the mechanics of combat, ran them through a blender, and dumped them out in the middle of a lag-ridden, glitch-filled wasteland where \"honor\" is something you’ll never experience.\\n\\nThe combat? Imagine trying to juggle three flaming swords while riding a unicycle. Blindfolded. That\\'s about as intuitive as it gets. Who needs balance or skill when you can just get obliterated by a Viking with the hand-eye coordination of a potato?\\n\\nAnd let’s talk about the online experience, which is basically a 50/50 gamble on whether you’ll be matched with an opponent or just a loading screen that lasts longer than your will to live. But when you do finally get into a game, you\\'re welcomed by the soothing sounds of your teammates hurling insults at each other because, let’s be real, that’s the true \"community spirit\" here.\\n\\nThe story mode? I didn’t even know it had one until I accidentally clicked on it, and I wish I hadn’t. It’s like a rejected script for a knockoff Game of Thrones fanfiction, but with less coherence and more facepalming.\\n\\nIn conclusion, if you\\'re a masochist who loves the sensation of repeatedly slamming your head into a brick wall while listening to prepubescent kids yell obscenities, For Honor is the game for you. For everyone else: save your time, save your money, and save your sanity.\\n10/10 would recommend'}\n",
      "True\n",
      "{'appid': '304390', 'question': 'Would you recommend purchasing For Honor based on this review?'}\n",
      "{'appid': '304390', 'review': 'For Honor is pretty dope, especially with its compelling campaign with plenty of loot to obtain to play in the base game. In year 8, For Honor gives new players access to each main faction\\'s four original warriors of the Vanguard (Balanced), Assassin (Attacker/Damage-Dealer), Heavy (Tank), and Hybrid (Mixed/Unique Gameplay) characters, with the exception of the Wu Lin who give only their vanguard and assassin classes, and the \"Miscellaneous\" Outlanders faction of just all hybrids so far. As for gameplay, you have two large-scale modes of 4v4 with minions, and smaller modes of 1v1 duels or 2v2 brawls, and heroes for both players that want challenging learning curves with their heroes, or alternatively mindless fun (Looking at you, Ocelotl players). Lore was a bit of a mess in previous years, but year 8 is particularly promising with its lore as of year 8 season 3, as this season focuses on factions of knights, vikings, and samurai, instead of the covenants like Horkos and Chimera. I at the very least recommend trying the campaign, and maybe even just getting the game while it is on sale, such as when new heroes are released.'}\n",
      "True\n",
      "{'appid': '1680880', 'question': 'What are the main issues mentioned in the review regarding the visual effects of Forspoken?'}\n",
      "{'appid': '1680880', 'review': \"The writing or the main character being a person of color are definitely not the issue except for pale neckbeards\\n\\nThe visual effects are very ugly, it's looks like an eastern asian engine. the world is empty\\n\\nmost importantly you can't get 60fps (3060ti and i9-10900k just fyi)\\n\\nI literally had to refund because megacorps gotta be lazy and normalize games that don't run \\n\\nSKIIIIIIIIIIIIIIIIIIIIIIIIIIIIIP\"}\n",
      "True\n",
      "{'appid': '1680880', 'question': \"How did the reviewer feel about the game's performance on their hardware?\"}\n",
      "{'appid': '1680880', 'review': \"Genuinely one of my favorite gaming experiences. I didn't have any issues with performance, traversal is quick and fun, and the game feel is incredibly satisfying. Dialogue is campy and fun, and the plot, while based in a very heavily overused trope, takes some fun turns that I genuinely didn't see coming. The biggest disappointment for the game, for me, was 114 hours in when I ran out of game to play. This is the gameplay experience I wanted to get from FFXV.\"}\n",
      "True\n",
      "{'appid': '1680880', 'question': 'What action did the reviewer take due to their dissatisfaction with Forspoken?'}\n",
      "{'appid': '1680880', 'review': \"if forspoken has a million fans, i'm one of them\\nif forspoken has one fan, than i am that one.\\nif forspoken has no fans, that means i'm dead.\"}\n",
      "True\n",
      "{'appid': '1680880', 'question': \"Does the review suggest that the game's writing or character representation were problematic?\"}\n",
      "{'appid': '1680880', 'review': 'This game literally just does not work on the PC port. As soon as you open the game it shows a loading screen for 5 seconds n crashes with no error message of any kind. I have extensively researched solutions to this issue and it seems to be very common for the PC port of the game to do this. All solutions that actually seem to help with this problem involve changing setting in your BIOS or downloading third party software. I genuinely think that getting this game on is an utter waste of time and money until Square Enix bothers addressing this issue seriously and optimizing their port to PC.'}\n",
      "True\n",
      "{'appid': '1680880', 'question': 'What reasons did the reviewer give for feeling that developers are becoming lazy with game releases?'}\n"
     ]
    },
    {
     "name": "stderr",
     "output_type": "stream",
     "text": [
      " 48%|████▊     | 50/105 [00:01<00:01, 44.91it/s]"
     ]
    },
    {
     "name": "stdout",
     "output_type": "stream",
     "text": [
      "{'appid': '1680880', 'review': 'So far the game is slow. Not everything requires a cinematic scene and an in depth description on the characters. There is a lot going on as well, e.g. in combat all the flashy colour are a problem. Also on the boss fights the purple \"dodge\" alert are not intended to you alert to an immanent but in 3ish seconds alert. Now that normally is good, but because the developers made it so flashy and noticeable you think its about to happen.\\n\\nI\\'ve only just gotten past the first city with crafting, so I\\'m hoping for a bit less story and just allowing me to play.'}\n",
      "True\n",
      "{'appid': '2208920', 'question': \"What are the key differences in gameplay mechanics compared to Assassin's Creed Odyssey that could affect my enjoyment of Valhalla?\"}\n",
      "{'appid': '2208920', 'review': 'As much as I\\'m being a diehard fan of AC Franchise, starting from being a solid Assassination game with the OGs AC I - Revelations to the whole new settings and mechanics in Origins & Odyssey, this game IS NOT IT. \\r\\n\\r\\nNew trilogy of AC such as Origins is having a strong plot of the story, while Odyssey is having magnificent features and endless customizable gears, the saddest part is Valhalla excels in none of the both. In addition, I could project myself on how BORING this game is just by playing few hours into the game. I feel grateful that this feeling of devastation was also applied from many well spoken figures in the internet, even saying that they felt regret of spending the time to actually 100% finish the game in hope of something rewarding, which does not even happen. \\r\\n\\r\\nIn conclusion,\\r\\nLove the parkour? Get Unity\\r\\nLove the assassination mechanics? Get AC Classics, Unity and Mirage\\r\\nLove the history lessons? Get AC 2 - Revelations, III, IV, Unity, Syndicates, Origins, and Odyssey\\r\\nLove the beauty of the settings? Get AC 2 - Revelations, Unity, Syndicates, and Odyssey\\r\\nLove the plot? Get AC Classics, IV, Rogue and Origins\\r\\n\\r\\nAnything but Valhalla, for the sake of the best quality of your time. Only buy this game if you truly wants to turn off your brain and enjoy it for the sake of \"I just want to play some games whatever that is\", or if you are a diehard Viking fans and don\\'t even know what the hell Assassin\\'s Creed is all about.'}\n",
      "True\n",
      "{'appid': '2208920', 'question': \"How does the stealth system in Assassin's Creed Valhalla compare to previous titles in the series?\"}\n",
      "{'appid': '2208920', 'review': \"This game is a dissapointment in everyway\\n\\nAs a long-time fan of the Assassin's Creed franchise, I had high hopes for Assassin’s Creed Valhalla, but after spending countless hours in this game, I can't help but regret buying it. Ubisoft has turned what could have been a great Viking adventure into a drawn-out, bloated, and lifeless experience.\\n\\nFirst and foremost, the length of the game is absolutely unnecessary. Ubisoft has padded the game with an endless list of fetch quests, useless side missions, and tedious grinding that doesn't feel rewarding. Instead of focusing on meaningful content, Valhalla is stuffed with filler that only serves to artificially inflate the playtime. I’m all for open-world exploration, but when 80% of the game feels like busywork, it’s a problem.\\n\\nAnd then there's the story—or lack thereof. Valhalla arguably has the worst story in the entire Assassin’s Creed franchise. The narrative is disjointed, dull, and lacks any emotional depth. Eivor is a bland protagonist, and the Viking setting, which had so much potential, is squandered by uninspired writing. There’s none of the intrigue or historical depth that made previous titles great. It feels like the Assassin’s Creed identity has been lost in favor of trying to be a generic RPG.\\n\\nTo top it off, Ubisoft’s downward trend continues. Year after year, they seem to care less about delivering quality and more about milking the franchise with microtransactions, repetitive content, and lifeless worlds. Valhalla is the perfect example of a game that prioritizes quantity over quality, and it shows.\\n\\nIn the end, I regret buying this game, and I can only hope Ubisoft listens to its fans before it’s too late. Unfortunately, Assassin’s Creed Valhalla is a game that has overstayed its welcome, and not in a good way.\"}\n",
      "True\n",
      "{'appid': '2208920', 'question': \"Are players generally satisfied with Valhalla's assassination features compared to other games in the franchise?\"}\n",
      "{'appid': '2208920', 'review': \"Assassin's Creed Valhalla is the twelfth main installment in Ubisoft’s renowned Assassin's Creed series. Set during the Viking Age, the game immerses players in the tumultuous era of Norse exploration and conquest. It follows Eivor Varinsdottir, a Viking raider whose story intertwines with the broader conflicts of 9th-century England. With a sprawling open world, intricate lore, and rich character development, Valhalla is a grand entry that continues the series' tradition of blending historical fiction with engaging gameplay. The game’s narrative is set in the late 800s, amidst the Viking invasions of England. Players assume the role of Eivor, who can be male or female, and lead their clan from Norway to England in search of a new home. The story is deeply rooted in Norse mythology and historical events, intertwining the Norse gods with the political and social upheaval of the time. The main storyline revolves around Eivor’s quest to establish a Viking settlement in England while navigating the complex politics of the Anglo-Saxon kingdoms. The narrative is enriched by detailed character arcs, including alliances with historical figures like King Alfred of Wessex and legendary Norse heroes. The game’s story is divided into several acts, with major plot points involving epic battles, treacherous betrayals, and mystical elements tied to the Isu, an ancient civilization central to the series' lore.\\n\\nValhalla boasts a vast and diverse open world that captures the essence of Viking-era Britain. The game world is divided into several regions, each reflecting the distinct culture and geography of medieval England—from the rolling hills of England’s countryside to the frost-bitten landscapes of Norway. The open world is teeming with activities, from main quests and side missions to hidden collectibles and environmental puzzles. The game's exploration is bolstered by a well-designed fast-travel system, horseback riding, and a longship for navigating rivers and coastlines. The dynamic weather system and day-night cycle add realism and depth to the exploration experience. The combat system in Valhalla is robust and satisfying, offering a mix of brutal melee combat and strategic use of abilities. Players can engage in visceral, cinematic battles that involve a variety of weapons such as axes, swords, and bows. The dual-wielding system allows for a high degree of customization, letting players create their own combat style. The game also retains the series' stealth elements, although combat often takes precedence. Eivor can use stealth to approach enemies silently, perform assassinations, and utilize various tools such as smoke bombs and tranquilizer darts. The stealth mechanics are less central than in previous installments, focusing more on blending combat with tactical approach. Valhalla incorporates deep RPG mechanics, including a detailed skill tree, character progression, and customization options. Players earn skill points by completing quests and defeating enemies, which can be spent to unlock new abilities and improve Eivor’s combat and exploration skills. The game also features a dialogue system that allows players to make choices influencing the narrative and relationships with other characters. The settlement-building feature is a key aspect of Valhalla. Players can upgrade and expand their Viking settlement, which provides various benefits such as new gear, resources, and gameplay enhancements. This system adds a layer of strategic depth and personal investment to the game. The game offers a wealth of quests and activities beyond the main storyline. Side quests range from solving local mysteries and assisting NPCs to engaging in mini-games and legendary hunts. Each activity is designed to enhance the immersive experience, providing additional lore and interaction opportunities. Visually, Assassin’s Creed Valhalla is stunning, with detailed environments and character models that bring the Viking Age to life. The game’s graphical fidelity is particularly impressive on next-gen consoles, offering rich textures, realistic lighting, and atmospheric effects. The soundtrack complements the game’s setting with a mix of traditional Norse music and orchestral scores. Voice acting is robust and adds emotional depth to the characters and narrative, enhancing the overall storytelling experience.\\n\\nWhile Valhalla is a technical achievement, it is not without issues. Some players have reported bugs and performance hiccups, particularly on older hardware. However, Ubisoft has released several patches to address these concerns and improve the game’s stability.\\n\\nAssassin’s Creed Valhalla is a monumental addition to the series, offering a captivating Viking adventure that blends historical intrigue with mythological elements. Its expansive open world, engaging combat, and deep RPG mechanics provide a robust and immersive experience. Despite some technical issues and a less pronounced focus on stealth, the game’s strengths make it a worthy journey for both longtime fans and newcomers to the Assassin’s Creed franchise. For those intrigued by Norse mythology, medieval history, and expansive RPGs, Valhalla delivers an epic and satisfying experience that stands out as one of the series' most ambitious entries.\\n\\n\"}\n",
      "True\n",
      "{'appid': '2208920', 'question': \"What reasons do many reviews cite for recommending a refund for Assassin's Creed Valhalla?\"}\n"
     ]
    },
    {
     "name": "stderr",
     "output_type": "stream",
     "text": [
      " 52%|█████▏    | 55/105 [00:01<00:01, 45.67it/s]"
     ]
    },
    {
     "name": "stdout",
     "output_type": "stream",
     "text": [
      "{'appid': '2208920', 'review': \"Assassin's Creed Valhalla doesn't really explain much at the start, and for the first 20 hours, I had no clue what I was supposed to do. The story is pretty boring, mainly because the characters don't leave much impression. It felt really flat, until after 75 hours of playing (I did a lot exploring). Honestly, it's just not as fun as Assassin's Creed Odyssey. On the plus side, the npcs in side quest have more variety in their faces, which is better than Odyssey and the graphics are a big step up from the last game. My advise? Play it as an exploration game because focusing on the story gets pretty dull.\"}\n",
      "True\n",
      "{'appid': '2208920', 'question': 'Is there a strong enough emphasis on storytelling and character development in Valhalla to warrant playing it despite the negative feedback?'}\n",
      "{'appid': '2208920', 'review': \"What is there to say about AC Valhalla other than that it is an RPG Game not an AC Game. while the goodness about the game is the world, story, the graphics, and the attention to detail there are some things i do not like about this game: The story is mostly filler and while i can play an insanely long game AC Valhalla should've been doubled down. The game's plot is all over the place continuing the Isu are Gods theme from Odyssey which they are not gods. The game shouldn't be this expensive for content that increases the game's time locked behind a paywall. You can't even call the protagonist an Assassin because Eivor never joins the Hidden Ones and is only there to defend her people. AC: Valhalla in my opinion is worth buying on sale IF your playing other AC Games and wanna finish Layla Hassan's story from Origins.\"}\n",
      "True\n",
      "{'appid': '1832040', 'question': 'How does Flintlock: The Siege of Dawn balance its combat system between melee and ranged options?'}\n",
      "{'appid': '1832040', 'review': 'Based on my experience so far, this game is quite impressive. It effectively combines several elements from the God of War series with the challenge characteristic of Dark Souls. However, it is important to note that it is not a fully Souls-like game. Playing on the hard difficulty, as I do, often results in being defeated in just 2 - 3 hits.\\n\\nThe combat system is fluid and enjoyable, with a seamless integration of both melee and ranged combat, which adds to the overall excitement. Additionally, the game features platforming elements that provide a refreshing break after intense combat sequences, however, it feels a little rushed sometimes.\\n\\nAt this point, i can recommend this game to anyone who enjoys Souls-like experiences or titles similar to God of War.\\n\\n\\n[url=https://store.steampowered.com/curator/44938427/]Check out my other reviews here[/url]'}\n",
      "True\n",
      "{'appid': '1832040', 'question': 'Is the game designed for players who enjoy challenges similar to those found in Dark Souls?'}\n",
      "{'appid': '1832040', 'review': 'Dark souls meets god of war'}\n",
      "True\n",
      "{'appid': '1832040', 'question': 'Does the game experience any performance issues or appear to be unoptimized upon release?'}\n",
      "{'appid': '1832040', 'review': \"I found this a very approachable game as someone with no soulslike experience. Combat is interesting and requires you to pay attention to animations and mechanics without ever feeling unfair or crushingly difficult. Checkpoints are plentiful, upgrades feel useful, and the game is short enough that I didn't get sick of any of the side content. It's not a life-changing game but it was enjoyable and worthwhile for me.\"}\n",
      "True\n",
      "{'appid': '1832040', 'question': 'Are there significant platforming elements in Flintlock that enhance the gameplay experience?'}\n",
      "{'appid': '1832040', 'review': \"Reviewing as definitely-not-a-souls-like-gamer: Flintlock (on normal) is challenging, but managable and very enjoyable experience. I absolutely love platforming and movement system. Exploration feels rewarding. Good environmental storytelling skeletons.\\n\\nI feel a lot of sympathy for both Nor and Enki, who is such a good companion - with his abilities, personality, and amazing animations. Also voice acting is truly fantastic for both of them.\\n\\nSo my only complain would be that game was sometimes dropping frames in the second part of the game, *BUT* 1) my processor is worse than suggested one in minimum requirement 2) it worked on Ubuntu, so that's on me.\\nAlso I wish it would has more options in photomode, cause capturing Nor and Venki was also very fun.\"}\n",
      "True\n",
      "{'appid': '1832040', 'question': 'Would you recommend Flintlock to players who prefer unfinished or unpolished games?'}\n"
     ]
    },
    {
     "name": "stderr",
     "output_type": "stream",
     "text": [
      " 57%|█████▋    | 60/105 [00:01<00:00, 46.81it/s]"
     ]
    },
    {
     "name": "stdout",
     "output_type": "stream",
     "text": [
      "{'appid': '1832040', 'review': 'Upvoted the game but it has issues. \\n1 - phantom walls that block you from taking a short cut across the map are annoying. You MUST find a specific route to get to some places even though I found a way to get there faster.\\n2 - What\\'s the point of saying I can survive large falls if I do a double jump right before I hit the ground, if you\\'re going to say I died when I jump off a ledge that the game deems \"too far\"? rhetorical..it\\'s not fair to the gamer.\\n3 - Why have areas mapped out on the map I can never go to? It\\'s like they never finished the game or removed things to have it later as DLC. They might be in those areas. Islands and map areas near the outer edge seem to have things to do but I can\\'t get to them. I searched and searched for doorways or access points and nothing. Sometimes it forces you to use the skull jump points or you can\\'t get places.  \\n4 - DO NOT go to the last (3rd) map travel area to go after Uru until you\\'re sure you\\'re ready. I passed/activated a ton of load stones and when I got to Uru\\'s area, I tried to go back to the camp and it said i\\'ts disabled??? I have unfinished side quests I can never do.\\nBTW once you fight Uru, the game just ends. You can\\'t go back and finish side quests.\\nThe graphics and gameplay overall are great though. I used an unlimited potions cheat and had fun with it because it also applies to grenades. You can then throw as many as you like. \\nIt really does look good and plays fine but it has annoyances and things players need to know like, make sure you find everything in side quests before leaving an area to travel. This only applies to people who want to find all the hidden stuff and side quests. \\nWhy are there like 20 slots for guns, grenades, etc etc and there appears to be very few of them. I found a whole 3 helmets. I assume all the other armor set items are in those hidden map areas. I tried to upgrade one axe but it said I didn\\'t have one rare resource. I never saw that resource anywhere. \\nIt was still fun to play.'}\n",
      "True\n",
      "{'appid': '2443720', 'question': 'Is Concord expected to have a polished launch, or will it be unfinished like many recent games?'}\n",
      "{'appid': '2443720', 'review': \"Concord has beautiful visuals and fine-tuned gameplay. \\n\\nThere has not been much story revealed ...YET, but I love what I have seen so far. \\n\\nAlmost all of these live-service games start pretty barebones and every launch the collective conscious forgets this. What's here is a fantastic base to build upon for years to come. (Sadly it's not looking hopeful that future will come).\"}\n",
      "True\n",
      "{'appid': '2443720', 'question': \"What is the game's performance on high-end hardware like the RTX 4070?\"}\n",
      "{'appid': '2443720', 'review': \"A seemingly rushed development that resulted in a bland, quickly processed product that is more quantity than quality. It's extremely unoptimized (averaging 30-40 fps on a 7900 XTX w/ 64GB of RAM, & on NVME).\\n\\nEven if you can get past the performance issues, the game has MAJOR balancing issues between its heroes. For example, Flark's gun is a complete abomination of a weapon that shoots floaty projectiles that do almost nothing for damage, whereas some other characters are running around one-tapping with their weapons. The time-to-kill ratio is VERY fast. For it to be this fast in a hero shooter, there *has* to be some modicum of health regen! Health pickups throughout maps are few and far between. Class-based systems are not emphasized ('Oh, big guy? Must be a tank. Oh, little guy with assault rifle? Must be a DPS...Wait, healer? healer?') You're kind of just left guessing about what to even do or how to strategize (Ironically, the game's training mode is quite enjoyable).\\n\\nIt's 2 core game modes to boot are a standard TDM and Area Control, which is basically Domination? Not bad game modes per se, just not something you would expect from this kind of game. This is something you see in a game like Rogue Company from Hi-Rez, which is completely free to play (and this is a $40-$60 title).\\n\\nIt's a shame because this game's design is fairly charming, almost feels like a Guardians of the Galaxy meets Overwatch type of hero shooter, but....it's riddled with technical issues that keep it from reaching its full potential.\\n\\nMaybe they'll turn it around? idk, but where it currently sits from a developmental standpoint, it seems like its A LOT to ask for. Feels like I played a really early access title.\"}\n",
      "True\n",
      "{'appid': '2443720', 'question': 'Will Concord feature microtransactions or battle passes at launch?'}\n",
      "{'appid': '2443720', 'review': \"Concord has beautiful visuals and fine-tuned gameplay. \\n\\nThere has not been much story revealed ...YET, but I love what I have seen so far. \\n\\nAlmost all of these live-service games start pretty barebones and every launch the collective conscious forgets this. What's here is a fantastic base to build upon for years to come. (Sadly it's not looking hopeful that future will come).\"}\n",
      "True\n",
      "{'appid': '2443720', 'question': \"How does the game's visual quality compare on low settings with DLSS?\"}\n",
      "{'appid': '2443720', 'review': \"A seemingly rushed development that resulted in a bland, quickly processed product that is more quantity than quality. It's extremely unoptimized (averaging 30-40 fps on a 7900 XTX w/ 64GB of RAM, & on NVME).\\n\\nEven if you can get past the performance issues, the game has MAJOR balancing issues between its heroes. For example, Flark's gun is a complete abomination of a weapon that shoots floaty projectiles that do almost nothing for damage, whereas some other characters are running around one-tapping with their weapons. The time-to-kill ratio is VERY fast. For it to be this fast in a hero shooter, there *has* to be some modicum of health regen! Health pickups throughout maps are few and far between. Class-based systems are not emphasized ('Oh, big guy? Must be a tank. Oh, little guy with assault rifle? Must be a DPS...Wait, healer? healer?') You're kind of just left guessing about what to even do or how to strategize (Ironically, the game's training mode is quite enjoyable).\\n\\nIt's 2 core game modes to boot are a standard TDM and Area Control, which is basically Domination? Not bad game modes per se, just not something you would expect from this kind of game. This is something you see in a game like Rogue Company from Hi-Rez, which is completely free to play (and this is a $40-$60 title).\\n\\nIt's a shame because this game's design is fairly charming, almost feels like a Guardians of the Galaxy meets Overwatch type of hero shooter, but....it's riddled with technical issues that keep it from reaching its full potential.\\n\\nMaybe they'll turn it around? idk, but where it currently sits from a developmental standpoint, it seems like its A LOT to ask for. Feels like I played a really early access title.\"}\n",
      "True\n",
      "{'appid': '2443720', 'question': 'Can I purchase and play Concord exclusively through Steam without external applications?'}\n"
     ]
    },
    {
     "name": "stderr",
     "output_type": "stream",
     "text": [
      " 62%|██████▏   | 65/105 [00:01<00:00, 47.62it/s]"
     ]
    },
    {
     "name": "stdout",
     "output_type": "stream",
     "text": [
      "{'appid': '2443720', 'review': \"8 years in development 2 weeks online \\n\\nconcord is no longer available on steam just give us last of us 2  pc and add factions 2 to the last of us 3 game.\\nI was enjoying concord for the short time it lasted but with it ending like this I can't leave a positive review\"}\n",
      "True\n",
      "{'appid': '1545560', 'question': 'What kind of worldbuilding can I expect in Shadow Gambit: The Cursed Crew?'}\n",
      "{'appid': '1545560', 'review': \"Mimimi has refined and expanded the gameplay and flexibility in how you play it but in the process have somewhat lost on the cohesiveness of the story compared to Shadow Tactics and Desperadoes 3.\\n\\nI'm a bit disappointed by the music compared to the previous games.  The previous games were excellent but Shadow Gambit has some tracks that start to wear a bit thin after a while.\\n\\nIt's still a good game and well worth playing but  its predecessors were more to my taste.\"}\n",
      "True\n",
      "{'appid': '1545560', 'question': 'How does the voice direction in Shadow Gambit compare to Desperados III?'}\n",
      "{'appid': '1545560', 'review': 'In Shadow of the Shogun you are Samurai, you fight aganist the bad Samurai \\n\\nIn Desperadoes III you are cowboys, you fight aganist the bad Cowboys\\n\\nIn Shadow Gambit you are pirates, you fight aganist the Imperium of Mathkind'}\n",
      "True\n",
      "{'appid': '1545560', 'question': 'Is Shadow Gambit a real-time strategy game like its predecessor?'}\n",
      "{'appid': '1545560', 'review': 'It is the same game as the previous entries (Desperados 3 and Shadow Gambit), only with far more abilities and content\\n\\nIf you liked the previous, this one is worth it for sure'}\n",
      "True\n",
      "{'appid': '1545560', 'question': 'Are there any reviews mentioning the optimization of Shadow Gambit upon launch?'}\n",
      "{'appid': '1545560', 'review': 'It is the same game as the previous entries (Desperados 3 and Shadow Gambit), only with far more abilities and content\\n\\nIf you liked the previous, this one is worth it for sure'}\n",
      "True\n",
      "{'appid': '1545560', 'question': 'What aspects of Shadow Gambit demonstrate its quality at release?'}\n"
     ]
    },
    {
     "name": "stderr",
     "output_type": "stream",
     "text": [
      " 67%|██████▋   | 70/105 [00:01<00:00, 48.07it/s]"
     ]
    },
    {
     "name": "stdout",
     "output_type": "stream",
     "text": [
      "{'appid': '1545560', 'review': \"Mimimi has refined and expanded the gameplay and flexibility in how you play it but in the process have somewhat lost on the cohesiveness of the story compared to Shadow Tactics and Desperadoes 3.\\n\\nI'm a bit disappointed by the music compared to the previous games.  The previous games were excellent but Shadow Gambit has some tracks that start to wear a bit thin after a while.\\n\\nIt's still a good game and well worth playing but  its predecessors were more to my taste.\"}\n",
      "True\n",
      "{'appid': '1086940', 'question': \"Is Baldur's Gate 3 going to offer a quality experience at launch without bugs or issues?\"}\n",
      "{'appid': '1086940', 'review': \"Baldur's Gate 3: Come for the epic quests, stay because you spent three hours customizing your character's chin. Like come on, saving the world is cool, but have you tried spending 20 minutes deciding if your Dragonborn should wear a cape or not?\"}\n",
      "True\n",
      "{'appid': '1086940', 'question': \"Are there any promises or features from the developers that may not be delivered as expected in Baldur's Gate 3?\"}\n",
      "{'appid': '1086940', 'review': \"[h2]A Delicate Dance Between Story and Sandbox[/h2]\\n\\nI just finished the first half of Act 1, and what impresses me most about [i]Baldur’s Gate III[/i] is its masterful balance between a structured narrative adventure and a sandbox full of creative possibilities.\\n\\nOn one hand, the game presents itself as a polished AAA experience: fully-voiced cinematic cutscenes at nearly every turn, an overwhelming amount of items to collect and interact with, and despite the ever-present danger in the world, there’s no real passage of in-game time, meaning no sense of urgency is forced upon you. You can explore at your own pace.\\n\\nOn the other hand, the game features a sophisticated simulation of physics that allows for emergent gameplay. Characters and items can catch fire, freeze, get soaked in water or acid, and more. Fire spreads, water douses it, conducts lightning, and can even be frozen. Nearly every object in the world can be moved or manipulated, and there’s an impressive range of player abilities that encourage experimentation. These systems lead to creative solutions for combat, exploration, and beyond, allowing for moments that feel entirely unscripted.\\n\\nWhat’s fascinating is how these two elements—the tightly scripted, cinematic storytelling and the open-ended, sandbox mechanics—seem almost at odds, yet they work in perfect harmony. The story keeps you focused and immersed, while the sandbox lets you play your own way, appealing to both story-driven and systems-driven players. The best part? Each system stands strong on its own. Even if you only engage with a fraction of the game’s mechanics, [i]Baldur's Gate III[/i] still feels complete and satisfying. It never overwhelms you with what you “should” be doing; instead, it lets you play at your own pace, focusing on the things you enjoy most.\\n\\nFor example, I spent much of the first act focused on exploration and combat, only to realize later that I could’ve been speaking to my animal companions or raising the dead for extra insight! Meanwhile, other players may speed through the story, missing out on the rich environmental puzzles and clever combat tactics. But that’s the beauty of it—everyone can enjoy [i]Baldur’s Gate III[/i] in their own unique way.\\n\\nThis careful balance between focused narrative and emergent gameplay reminds me of the best parts of [i]Deus Ex[/i], and that’s no small praise. [i]Baldur's Gate III[/i] is a true achievement.\\n\\n[h2]Beyond the Honeymoon: How [i]Baldur's Gate III[/i] Evolves Alongside You[/h2]\\n\\nAs I finished Act 1, what struck me even more than the initial thrill of [i]Baldur’s Gate III[/i] and the delicate balance between the scripted and emergent elements was how the game evolves as you move beyond the honeymoon period.\\n\\nThe introduction gently eases the more story-driven players in with cinematic cutscenes and a strong narrative focus, which makes sense since you need to meet all the characters in your party and understand their motivations. But by midgame, it becomes something different—more open, more mechanically focused, and perhaps even more enjoyable because of it. It’s like a relationship where the early excitement gives way to a deeper, more grounded understanding. What begins as a polished, cinematic adventure turns into a game that embraces its complexity, flaws and all.\\n\\nTake the turn-based combat, for instance. Unlike the real-time systems of earlier games in the series, the slower pace of [i]Baldur's Gate III[/i] could easily frustrate some players. However, the early encounters are kept small and simple, easing players into the tactical depth gradually. This approach helps story-focused players adapt, as they may not have expected the slower rhythm of turn-based combat. By midgame, though, this slower pace feels natural—something you’ve grown to understand and appreciate.\\n\\nSimilarly, the absence of a day-night cycle might seem like a limitation, but it’s cleverly hidden by the fixed camera angles, which prevent players from seeing the sky. (This also likely improves performance by reducing the need for rendering distant objects and environments.) By the time you notice this design choice, it feels like a natural part of the world, something you’ve accepted as part of the journey.\\n\\nThis shift is also reflected in character progression. In Act 1, you level up quickly, racing toward level 10 by the end, just shy of the level cap of 12. But in the midgame, the pace slows dramatically, shifting the focus from leveling to acquiring and managing powerful items, and keeping the party buffed through spells and elixirs that you have, by this point, learned to craft. The game becomes more about optimization, strategy, and exploration rather than just hitting the next level. And by this point, the change feels right—you’ve grown with the game, and it no longer needs to rely on instant gratification to keep you engaged.\\n\\nIn the end, [i]Baldur's Gate III[/i] reveals itself to be more than just the game you started. What begins as a story-driven RPG transforms into a more open-ended, systems-heavy experience, and by the time you realize it, you’ve come to appreciate both its strengths and its flaws. Like any good relationship, it’s the imperfections that make it unique, and it's the journey that helps you see them in a new light.\"}\n",
      "True\n",
      "{'appid': '1086940', 'question': \"Will I be able to purchase and play Baldur's Gate 3 exclusively through Steam?\"}\n",
      "{'appid': '1086940', 'review': \"I wouldn't even know where to begin with reviewing baldur's gate 3. so many people in this amazing community have already said all of the words that deserve to be heard, but I at least wanted to write something to convey my own feelings as simply as possible: you've changed my life. you've created characters that have so much personality and charm, that I and so many of us feel connected to in one way or another. so many of us have felt seen through their stories and experiences, and the themes in the game have been handled so well with obvious love and care. thank you for creating something so wonderful and personalised, a journey that I will never forget, and continue to play for years to come. happy first year anniversary to bg3 and everyone in this extraordinary community. ♥\"}\n",
      "True\n",
      "{'appid': '1086940', 'question': \"How long do players generally spend on Baldur's Gate 3, and does the gameplay provide a fulfilling experience over time?\"}\n",
      "{'appid': '1086940', 'review': \"Baldur's Gate 3\\n\\nIt's taken me about 130~ hours, but I've FINALLY finished this massive, amazing game.\\n\\nAnd I really can't say anything about it that hasn't been said already ten times over.\\n\\nBaldur's Gate 3 is fucking amazing. An awesome RPG loosely based on DnD 5e, with an absolutely phenomenal story and cast of characters to accompany it, along with a solid (though admittedly exploitable) combat system. Every single bit of this game is fun--- Even the 'worst' of Baldur's Gate 3 outshines the best of many other RPGs.\\n\\nAnd the best part? I still haven't seen the entire game. There's so damn much to this game that one playthrough practically isn't enough to see it all, and I can't wait for when I finally feel ready to return to such a beast of a title for my second playthrough.\"}\n",
      "True\n",
      "{'appid': '1086940', 'question': \"What are the reviews saying about the game's performance and quality upon release?\"}\n"
     ]
    },
    {
     "name": "stderr",
     "output_type": "stream",
     "text": [
      " 71%|███████▏  | 75/105 [00:01<00:00, 47.08it/s]"
     ]
    },
    {
     "name": "stdout",
     "output_type": "stream",
     "text": [
      "{'appid': '1086940', 'review': 'This was the first time I got to properly role play in an RPG.\\n\\nThis game is a gem and if you don\\'t mind the turn based combat, this is a must play. I wasn\\'t sure about the turn based combat initially and if you are the same, I would say give it some time, it\\'s a little complicated but once you get the hang of it you can make some really cool builds and combos that encourages creative thinking when it comes to defeating your enemies. By the end of the game some of my party members were so powerful, it felt amazing!\\n\\nAs for role playing, it does a lot: tons of choices with consequences (some of them really dark, so be careful!), class and race specific dialog options, very interesting companions, lots of other memorable NPCs, and the D&D lore and background it\\'s built upon. The world feels very immersive, too immersive in fact - I can\\'t get myself to do an \"evil playthrough\"!'}\n",
      "True\n",
      "{'appid': '552520', 'question': 'What are the main themes explored in Far Cry 5 and do they align with my preference for quality delivery?'}\n",
      "{'appid': '552520', 'review': 'Far Cry franchise seems like a \"casual\" series, but Far Cry 5 delivers some surprisingly disturbing and dark themes. I wasn’t expecting that, and I really appreciate the bold approach it takes.\\r\\n\\r\\nGame blends those dark themes with absurd quests and ridiculous NPCs, and this juxtaposition works surprisingly well. It keeps the game approachable and light-hearted, yet it doesn’t undermine the overall setting. \\r\\n\\r\\nThe soundtrack is briliant! It captures the religious themes of the game while maintaining a distinctly American feel. It has a lot of atmospheric and soothing moments, it\\'s very enjoyable and complements the game\\'s vibe perfectly.\\r\\n\\r\\nAs for the setting, it’s also great. Beautiful landscapes and captivating atmosphere make the American backdrop really immersive. Hiking side missions were really fun to experience in such eye-catching environment.\\r\\n\\r\\nOverall, a solid game with an awesome setting. Don\\'t expect too much and enjoy the scenery, and you\\'ll have a great time.'}\n",
      "True\n",
      "{'appid': '552520', 'question': 'Does Far Cry 5 have a good soundtrack and atmosphere that enhance the gameplay experience?'}\n",
      "{'appid': '552520', 'review': \"Everything in this game is near perfect. It's like Far Cry 3 but this time you have a lot more variety of content. The villain is great, the atmosphere is superb, and the melee throw are actually one of the most satisfying and fun thing that you can do in this game. One thing that I don't really like is that on the hardest difficulty, you can't go roaming around without getting shot by an airplane. Anyway, very recommended to anyone who likes face paced fps that has a good animal AI and companion AI.\"}\n",
      "True\n",
      "{'appid': '552520', 'question': 'How does the game handle its quests and NPCs in terms of execution and engagement?'}\n",
      "{'appid': '552520', 'review': '4/10\\n\\n You know the trope: have you played one Ubisoft game, you have played them all. Your first hours are fun and new, even when you’re familiar with the Ubisoft formula. But the more you venture into the world, you’ll realize its just repetitive slog in every game.\\nAnd then , there is this game. Oddly enough, I bought 5 and New Dawn on sale, and played New Dawn first, and had more fun with the latter . There are so many things wrong with this title and I din’t even realize it, most of the time, because  of the fast gameplay loop. Pew..pew…boom. Katshing.\\n\\nThe map is huge and nice to look at, with lots of things to do. Bet you read that one in many other reviews, So its good value for your money then, right? Maybe, when you don’t think about it.\\nIndeed there are lots of mapmakers, a variety of enemies and wildlife, collectables, notes. All the shallow useless activities we know and love in an Ubisoft game.The map is maybe to big for its own good, either way everything feels facile.\\nSide missions are solely designed to send you somewhere, kill or save someone. Liberate this, collect that. Hunt that animal, catch that fish, They somehow provide less than nothing to the overall story, some are cringeworthy at their best, maybe a little edgy.  [spoiler]For example. In one mission they literally send you out to examine dog shit.) [/spoiler]\\nExploration feels as rewarding as the sound , when you reveal a location. Quick and painless. You´ll discover a location, maybe your check for clues or ways to get in. You’ll find weapons, which are worse than your weapon of choice. Loot in crates or rucksacks is abundant, but you can’t collect everything because, you have no room in in your inventory. (Some of a gamers worst feelings is to leave loot behind).\\nNotes and massages in other games benefit to the world building, here they are just bland, written only to be found. Nearly every note in an abandoned lodge or shelter, tells a story, about…someone, who was here, and is now gone. Or in other notes you’ll discover a cult member upset, that they can’t get in a safe room with good loot, only to find in the next note hints HOW to get in,  And don’t let me start on the collectables. NPCs send you out, in a literal war zone to collect…things. Another mechanic to reveal the map, and waste your time.\\n\\nGunplay feels pertinent, but that’s an easy feat nowadays, So every gun type feel the same, only the paint job and the numbers were slightly different.. I saved up some money at the beginning, bought a prestige weapon in every slot and stuck to it to the endgame. Even when you unlock other weapons, they are still uninteresting as boring. Same goes for the vehicles. Bought a boat and  a helicopter, with mounted weapons, a small cart for fast map traversal, and didn’t bother with other options, even when I unlocked more and bigger vehicles. Note here, Ubisoft hits you with a shiny special currency in safes…and provides  a shop to buy more, with real money, to purchase weapons, outfits and vehicles. You definitely won’t need to. To benefit micro transactions they unwillingly broke the progression in that regard.\\n\\n„New character discovered“! One would think, here is someone important to the story or the gameplay. Besides your followers, most new discovered character provides nothing of value to your immersion, maybe one mission or two, just to sent you out to review more locations.  Main characters have more to say and provide, but are boring either. The gun wielding priest, the sheriff, the redneck, the crazy conspiracy theorist, the woman boss, who doesn’t trust you….  In all that I often felt so lost, at times in the open world, I wouldn’t recognize  what character is talking to me through the radio, Enemy variety is…well, there is a variety. Grunts with beards, melee with no hair but beards, tanks with helmets and beards. Generic classes, which look all the same. And yes, devs even joke about it, that enemy NPCs have lots of weapons but nothing to shave the beards of.\\nAs I heart, in SW:Outlaws you can get mission hints by idle chatter in the open world. Nice idea. Here too, except they have a nice marker above their heads, and the provide useless information and a side quest in your journal. Like I said, nice idea. Until you realize, these are sequenced. One npc in the first region can give you a marker on the other side of the map. Until there is no quests left.  Quickly you’ll forget the little story he gave you with that minor quest. That seems dumb, considering all three factions are isolated in three map sections.  One can only wonder, how to they know about things on the other end of the map? Why don’t they all gather up and fight together against the cult army. Oh right, because you, as the protagonist, with the generic name Rookie, have to do their dirty work.\\n\\nThat brings me to story.The story was ludicrous and in its presentation often insufferably bad. Like the antagonistic cult, Ubisoft wants you to believe, there is a deeper meaning to all of it, like there was in Far Cry 3, Even worse. I felt a strong detachment to the overall story and my own character. Triggered cutscenes offensively undermine  that little agenda I had as a player with my silent character. Every banter with the four main villains is shallow and meaningless, when you can’t answer anything or even to shoot em in the face, like you do  90%  of the game time. Their speeches were insulting and bloated like like they know you inside out. But the only thing they really can judge  the player character is, how I as they lay death and destruction upon all of them. Oh yeah, know this…you are part of the big plan, which is….to fill up the resistance meter in every region, to confront the main villain. So the progress in the story also tied to the resistance in said region. Certain milestones trigger events, like radio massages or abductions. I can live with the mechanic, that my adversaries in a certain region mark me, as worthy foe and send out Elites to kill me. But at every big story milestone, they abduct me, only to provide more bloated speeches and a certain way to go back to the regular gameplay. Until the next part. At times I felt offended  by the ridiculous twists and turns it took, triggered by my own progress, and took completely the control out of my handy..  You can’t tell me ,I am chosen to be a part of your big plan, only to send countless followers with assault rifles or rocket launchers after me. I can walk through fogs of this  Macguffin aka Bliss, only to be knocked out all of a sudden, because its time for another story bit. [spoiler]A hallucination literally forces you to unwillingly kill a main ally, only to be told: nevermind, anyway you are the hero.[/spoiler]. And then these endings. I won’t spoil them, but after reading this, you’ll know my opinion.\\n\\n\\nWhy did you play it then, you ask? Because I have this pitiful urge to play my games till the end… this is type of feeling, Ubisoft is using against their customers. Most of the time I had my fair bit of fun, sneaking up on my enemies. sniping them with my bow or raining down my wrath from my helicopter. Pew,pew…boom!  Katshing. Nonetheless, the turning point was, when I had to catch a fish. Yes. A fish. I tried for five hours on two real days. Even when I knew how the mini game works, I had to look things up, only to read, that the fishing on PC may be bugged, or you’ll have to plug in a controller, then you’ll catch it in 30 seconds. It’s an effing war zone, a world ending plot is going on. People disappear, or die and they send my out to catch a fish. After that I began to write this review, and finished the main story within two hours, didn’t bother finish  some remaining side quests. Overall I am giving this flawed game a cross thumb, because of the fun explosions. But something pulls my thumb down…..'}\n",
      "True\n",
      "{'appid': '552520', 'question': 'Is the game world of Far Cry 5 visually appealing and immersive for exploration?'}\n"
     ]
    },
    {
     "name": "stderr",
     "output_type": "stream",
     "text": [
      " 76%|███████▌  | 80/105 [00:01<00:00, 46.46it/s]"
     ]
    },
    {
     "name": "stdout",
     "output_type": "stream",
     "text": [
      "{'appid': '552520', 'review': \"Far Cry 4 was a great game. Most of the characters were pretty interesting, there were some puzzles to do, some interesting challenges, you could walk from one point of the mission to another without feeling the need to get a vehicle because things were close to each other. Albeit not the best open world, it was better designed than many others.\\r\\n\\r\\nFar Cry 5, on the other hand, is an open world FPS with a very big and a very empty map. All missions seem to be over 1 km away from each other, and without a vehicle or fast travel, getting from point A to point B is daunting. Not only is the game unnecessarily big, it's also empty. At best you'll get to see a barricade and maybe three cultists around the streets while you wait to get from farm A to farm B. No matter how pretty the game looks and how nice the landscapes are, this attempt at an open world is so empty, repetitive, big and boring that I couldn't help but uninstall the game. ~4 hours in the game should be more than enough for things to start getting interesting. Moreover, it doesn't even have the animations that made Far Cry 4 feel immersive, like looting a corpse, skinning an animal, etc. I wouldn't recommend this game.\"}\n",
      "True\n",
      "{'appid': '552520', 'question': 'Can I expect Far Cry 5 to perform well on launch without significant issues or need for external applications?'}\n",
      "{'appid': '552520', 'review': \"Far Cry 4 was a great game. Most of the characters were pretty interesting, there were some puzzles to do, some interesting challenges, you could walk from one point of the mission to another without feeling the need to get a vehicle because things were close to each other. Albeit not the best open world, it was better designed than many others.\\r\\n\\r\\nFar Cry 5, on the other hand, is an open world FPS with a very big and a very empty map. All missions seem to be over 1 km away from each other, and without a vehicle or fast travel, getting from point A to point B is daunting. Not only is the game unnecessarily big, it's also empty. At best you'll get to see a barricade and maybe three cultists around the streets while you wait to get from farm A to farm B. No matter how pretty the game looks and how nice the landscapes are, this attempt at an open world is so empty, repetitive, big and boring that I couldn't help but uninstall the game. ~4 hours in the game should be more than enough for things to start getting interesting. Moreover, it doesn't even have the animations that made Far Cry 4 feel immersive, like looting a corpse, skinning an animal, etc. I wouldn't recommend this game.\"}\n",
      "True\n",
      "{'appid': '2698940', 'question': 'How does The Crew Motorfest compare to The Crew 2 in terms of gameplay mechanics?'}\n",
      "{'appid': '2698940', 'review': \"To be honest I prefer The Crew 2 because the way The Crew MotorFest works is Hella different and weird but other then that game is still good and interesting in a weird way. Would I recommend? No. I wouldn't but if on sale yeah if you have spare money I suppose.\"}\n",
      "True\n",
      "{'appid': '2698940', 'question': \"What specific aspects of The Crew Motorfest are considered to be 'weird' or different?\"}\n",
      "{'appid': '2698940', 'review': 'I was hyped for this games release and while it is a fairly good game it just feels like a forza horizon copy with a few differences.\\nThe playlists are weird and having use loaner cars for every race you do the first time is a horrible idea whats the point of having and upgrading your own cars if you never get to use them. My second biggest gripe is the map, its not bad and it is very detailed and a nice place to drive around and explore but what made the crew stand out in the first place was the HUGE map in the first and second game it made it feel special like no other arcade racer offered a playable area of that scale.\\nThe Graphics are great and the details like steering wheel and shifter movements are great, the driving physics are vastly improved as well, if they made another game with the scale of Crew 1&2 with the polish and feel of Motorfest it would be an epic game.\\nIf you can get Motorfest on sale its a decent buy otherwise imo The Crew 2 offers way more to do and better value'}\n",
      "True\n",
      "{'appid': '2698940', 'question': \"Are there any recommendations for purchasing The Crew Motorfest if it's not well received?\"}\n",
      "{'appid': '2698940', 'review': \"I recently bought The Crew 2 as it was on sale for $1, and I had played it on console a while ago. It is still an amazing game. Then I see Motorfest is on sale as well, and you can transfer cars, which I thought was a nice addition. So after playing The Crew 2 for a few days I bought Motorfest.\\n\\n My initial reactions were not good. The intro was ok, but then you are forced to choose a playlist, which I didn't want to do, as I hadn't even been in the actual game yet, and I wasn't sure what I was even picking. I then choose a playlist and enter the game. Immediately disliked the amount and SIZE of all of the popups that flood your screen. I still haven't found out if there is a way to reduce the size of virtually everything.\\n\\nThen, of course, there is the playlists. Where The Crew 2 had, in my opinion, a fabulous system for organized and separate racing disciplines, The Crew Motorfest has NOTHING of the sort. EVERY SINGLE PLAYLIST is 100% loaned cars. The cars you own are only for replaying races already completed and PVP races.\\n\\nWant a playlist strictly for touring cars? Too bad! Want a playlist where you just get to race without NPC's giving you a storyline about the plot and background? Too bad! Motorfest has stripped virtually all of the progression that made the previous Crew games fun, and FORCE you to use other people's cars.\\n\\nThe map... good lord... the map. Hawaii should have been a DLC for The Crew 2. I want cross-country interstates, long snaking back-roads, mountain passes, and coastal roads that go on for what feels like an eternity. I feel like the enormous maps are kind of a staple for Crew games, no? The map is WAY too small compared to previous Crew games.\\n\\nNow the positive part. The graphics are very good. The sound design and quality... SUBLIME. Map quality and feel (regardless of size) is also very nice. I'm sort of torn on the handling, while I understand others' praise for the more simcade feel, which I like, I also loved the more arcade feel of handling in The Crew 2, just my preference.\\n\\nThis is a GOOD GAME, I just can't say I think it is a good Crew game. It feels nothing like the previous Crew games. I understand games are supposed to change and evolve, but I feel this changed in many ways I wasn't hoping it to.\\n\\nI cannot recommend this game to fans of previous Crew games who loved them for the same reasons I did.\\n\\nLastly, please let us set TCS, ESC, and ABS PER VEHICLE!\\n\\nThank you.\"}\n",
      "True\n",
      "{'appid': '2698940', 'question': 'What feedback does the reviewer give about recommending The Crew Motorfest?'}\n",
      "{'appid': '2698940', 'review': 'I was hyped for this games release and while it is a fairly good game it just feels like a forza horizon copy with a few differences.\\nThe playlists are weird and having use loaner cars for every race you do the first time is a horrible idea whats the point of having and upgrading your own cars if you never get to use them. My second biggest gripe is the map, its not bad and it is very detailed and a nice place to drive around and explore but what made the crew stand out in the first place was the HUGE map in the first and second game it made it feel special like no other arcade racer offered a playable area of that scale.\\nThe Graphics are great and the details like steering wheel and shifter movements are great, the driving physics are vastly improved as well, if they made another game with the scale of Crew 1&2 with the polish and feel of Motorfest it would be an epic game.\\nIf you can get Motorfest on sale its a decent buy otherwise imo The Crew 2 offers way more to do and better value'}\n",
      "True\n",
      "{'appid': '2698940', 'question': 'Is The Crew Motorfest worth buying at full price according to the review?'}\n"
     ]
    },
    {
     "name": "stderr",
     "output_type": "stream",
     "text": [
      " 82%|████████▏ | 86/105 [00:01<00:00, 48.14it/s]"
     ]
    },
    {
     "name": "stdout",
     "output_type": "stream",
     "text": [
      "{'appid': '2698940', 'review': \"I recently bought The Crew 2 as it was on sale for $1, and I had played it on console a while ago. It is still an amazing game. Then I see Motorfest is on sale as well, and you can transfer cars, which I thought was a nice addition. So after playing The Crew 2 for a few days I bought Motorfest.\\n\\n My initial reactions were not good. The intro was ok, but then you are forced to choose a playlist, which I didn't want to do, as I hadn't even been in the actual game yet, and I wasn't sure what I was even picking. I then choose a playlist and enter the game. Immediately disliked the amount and SIZE of all of the popups that flood your screen. I still haven't found out if there is a way to reduce the size of virtually everything.\\n\\nThen, of course, there is the playlists. Where The Crew 2 had, in my opinion, a fabulous system for organized and separate racing disciplines, The Crew Motorfest has NOTHING of the sort. EVERY SINGLE PLAYLIST is 100% loaned cars. The cars you own are only for replaying races already completed and PVP races.\\n\\nWant a playlist strictly for touring cars? Too bad! Want a playlist where you just get to race without NPC's giving you a storyline about the plot and background? Too bad! Motorfest has stripped virtually all of the progression that made the previous Crew games fun, and FORCE you to use other people's cars.\\n\\nThe map... good lord... the map. Hawaii should have been a DLC for The Crew 2. I want cross-country interstates, long snaking back-roads, mountain passes, and coastal roads that go on for what feels like an eternity. I feel like the enormous maps are kind of a staple for Crew games, no? The map is WAY too small compared to previous Crew games.\\n\\nNow the positive part. The graphics are very good. The sound design and quality... SUBLIME. Map quality and feel (regardless of size) is also very nice. I'm sort of torn on the handling, while I understand others' praise for the more simcade feel, which I like, I also loved the more arcade feel of handling in The Crew 2, just my preference.\\n\\nThis is a GOOD GAME, I just can't say I think it is a good Crew game. It feels nothing like the previous Crew games. I understand games are supposed to change and evolve, but I feel this changed in many ways I wasn't hoping it to.\\n\\nI cannot recommend this game to fans of previous Crew games who loved them for the same reasons I did.\\n\\nLastly, please let us set TCS, ESC, and ABS PER VEHICLE!\\n\\nThank you.\"}\n",
      "True\n",
      "{'appid': '812140', 'question': \"Is Assassin's Creed Odyssey a well-optimized game upon release?\"}\n",
      "{'appid': '812140', 'review': \"Probably the best Assassin's Creed game, I can only think of a single real negative thing about it and it shares this with Origins, which is that Ship combat peaked in Black Flag. The ship combat in both Origins and Odyssey is fine but way worse than Black Flag's. With Black Flag style ship combat this might be the perfect Assassins Creed game.\"}\n",
      "True\n",
      "{'appid': '812140', 'question': 'Does the game live up to the promises made prior to its launch?'}\n",
      "{'appid': '812140', 'review': \"My second AC game that I played through the whole thing, first being Syndicate. Odyssey with its Ancient Greek setting was what kept me playing and exploring more, the story line is very good and the quests are interesting. To me the combat system is way better and smoother than Valhalla. I've played the new AC games up to Mirage and I can safely say nothing beats Odyssey\"}\n",
      "True\n",
      "{'appid': '812140', 'question': \"Are there significant grind elements and microtransactions in Assassin's Creed Odyssey?\"}\n",
      "{'appid': '812140', 'review': \"Assassin's Creed Odyssey wouldn’t be among my top five recommendations for someone new to the Assassin's Creed series. Despite its highs and lows, Odyssey feels more like a departure from the core Assassin's Creed experience. For starters, there’s no hidden blade, and the game emphasises action over stealth (even so the combat mechanics can get broken when dealing with a lot of enemies) to the extent of being able to run and do parkour in seemingly any direction and in impossible locations. If the game didn't carry the Assassin's Creed name, I might appreciate it more.\\n\\nAs someone interested in Greek history, especially Spartans, I enjoyed encountering mythical creatures like Medusa and the Cyclops, and playing as a descendant of Leonidas was cool. However, the game’s grindy nature and heavy focus on action does make it feel less like an Assassin's Creed game.\\n\\nOn the positive side, AC Odyssey has impressive animations, stunning graphics, and a vast, engaging game world that feels like a giant playground. However, the writing and story fall flat, with only a few moments designed to keep players engaged.\\n\\nIf you're looking for an action-packed game with a Greek historical backdrop, I’d recommend trying out God of War 1, 2, and 3 first, or even Hades, which has received great reviews. Odyssey would come after those, and that's only because I haven’t explored many games delving into ancient Greek mythology. Overall, I’d give the game a 6.5/10!\"}\n",
      "True\n",
      "{'appid': '812140', 'question': \"How does the world of Assassin's Creed Odyssey compare in liveliness to that of Origins?\"}\n",
      "{'appid': '812140', 'review': \"Assassin's Creed Odyssey wouldn’t be among my top five recommendations for someone new to the Assassin's Creed series. Despite its highs and lows, Odyssey feels more like a departure from the core Assassin's Creed experience. For starters, there’s no hidden blade, and the game emphasises action over stealth (even so the combat mechanics can get broken when dealing with a lot of enemies) to the extent of being able to run and do parkour in seemingly any direction and in impossible locations. If the game didn't carry the Assassin's Creed name, I might appreciate it more.\\n\\nAs someone interested in Greek history, especially Spartans, I enjoyed encountering mythical creatures like Medusa and the Cyclops, and playing as a descendant of Leonidas was cool. However, the game’s grindy nature and heavy focus on action does make it feel less like an Assassin's Creed game.\\n\\nOn the positive side, AC Odyssey has impressive animations, stunning graphics, and a vast, engaging game world that feels like a giant playground. However, the writing and story fall flat, with only a few moments designed to keep players engaged.\\n\\nIf you're looking for an action-packed game with a Greek historical backdrop, I’d recommend trying out God of War 1, 2, and 3 first, or even Hades, which has received great reviews. Odyssey would come after those, and that's only because I haven’t explored many games delving into ancient Greek mythology. Overall, I’d give the game a 6.5/10!\"}\n",
      "True\n",
      "{'appid': '812140', 'question': \"Would you recommend buying Assassin's Creed Odyssey at launch?\"}\n"
     ]
    },
    {
     "name": "stderr",
     "output_type": "stream",
     "text": [
      " 87%|████████▋ | 91/105 [00:01<00:00, 48.33it/s]"
     ]
    },
    {
     "name": "stdout",
     "output_type": "stream",
     "text": [
      "{'appid': '812140', 'review': \"Despite being an ambitious game, Assassin's Creed Odyssey often feels bloated. While the vast, open-world is beautiful, it can feel repetitive and is filled with unnecessary quests that drag down the experience. The RPG mechanics, a fresh idea, sometimes take away from the Assassin's Creed experience, making it feel more like an open-world checklist simulator. That said, the story is engaging and the historical setting is captivating, especially for fans of Ancient Greece. If you have the patience for the grind, there's still fun to be had\"}\n",
      "True\n",
      "{'appid': '1496790', 'question': 'Is the combat system in Gotham Knights limited compared to other action games?'}\n",
      "{'appid': '1496790', 'review': \"Gotham Knights, the game where you don’t get to be Batman but instead play as his lovable understudies. Think of it as the superhero version of being handed a salad when you ordered a steak—it’s technically food, but it’s not what you wanted.\\n\\nThe game sets up an intriguing premise: Gotham without Batman. But the city itself doesn’t feel drastically different from what we’ve seen in the Arkham games. Sure, the criminals are getting bolder, but the absence of Batman doesn’t feel as world-shaking as you’d expect. Instead, Gotham remains more or less the same chaotic place, only now with four caped crusaders instead of one..\\n\\nPlaying Gotham Knights is like stepping into a pair of oversized Batman boots—except they don’t fit right, and you keep tripping over yourself. Combat is fine, the fluidity of Arkham Knight's combat is gone, replaced with a more simplified, button-mashy style that’s serviceable but less refined. Sure, you’ve got different playstyles with the four Knights—Batgirl’s hacking, Robin’s stealth, Nightwing’s agility, and Red Hood’s raw power—but none of them quite capture the poetic brutality of Arkham's free-flow fighting. The problem is that every time you punch a bad guy, you can’t help but think, “Batman would’ve done that cooler.”\\n\\nGotham Knights swaps out gliding for a Batcycle, which is kind of like trading a jet engine for a moped. The Batcycle gets the job done, but it’s not the most exciting ride. And while each Knight does have their own unique traversal abilities (Batgirl can glide like Batman, Nightwing has a Fortnite glider, Robin teleports, and Red Hood jumps around like an angry superhuman), it lacks the thrilling simplicity of Batman’s cape-glide and grapple combo. The movement feels more clunky and less like you’re a stealthy creature of the night.\\n\\nGotham City looks fantastic, as it always does, but it’s less “living, breathing city” and more “superhero theme park”. Everywhere you turn, there’s a conveniently placed group of thugs just waiting for a beatdown.  The side quests are... there. Solve crimes, beat up people, rinse, repeat. But what truly stands out is how every crime feels like the same crime, just copy-pasted into different alleys. I mean, if you’ve fought one Gotham thug, you’ve fought them all. Even the goons look like they’re unionized into using the same 3 wardrobe sets.\\n\\nGotham Knights is fun in its own right—especially with the co-op aspect—but it lacks the refined combat, thrilling traversal, and immersive world that made Arkham Knight so iconic. If you go into the game expecting Batman: Arkham Knight 2, you’re setting yourself up for disappointment.\"}\n",
      "True\n",
      "{'appid': '1496790', 'question': 'Does Gotham Knights allow for killing or is it focused more on stealth?'}\n",
      "{'appid': '1496790', 'review': 'First, I\\'d like to preface to everyone, this is NOT in anyway related to the Arkham series. Not in gameplay, nor story.\\r\\n\\r\\nNow with that out of the way lets start with one subject that bothers a lot of people nowadays. DEI.\\r\\nThis game does have DEI in it, but not in a way that I think woke people would want. A lot of the criminals are women for some reason, which would be normal for the league of shadows but not every mob. And there are a few pride flags hidden around the place. The one in the belfry is on the top floor, an area you\\'ll go to only for certain optional story segments, and a few references of pride parades in emails, that most people will not read. So on the DEI part of the game I\\'d say they just did the bare minimum to get their paycheck without affecting the game or story.\\r\\n\\r\\nGameplay: This isn\\'t Arkham, as I said earlier. It does not have a slingshot combat system with an emphasis on countering attacks. It is more akin to a Spiderman game. You have your melee light/heavy attacks where heavy attacks end combos, And you have a light and heavy ranged attack where heavy has no combo but act as an AoE that can hit multiple enemies and dodging enemies. Other than that you can aim your ranged and dodge in a character specific manner.\\r\\nEvery character has their own skill sets that differentiate the way they play.\\r\\nNightwing is an acrobat so he jumps from target to target very quickly, having a special abilities promote this playstyle, such as an ability to pounce on an enemy, bounce and then grapple towards the next enemy.\\r\\nRed-hood has a ranged playstyle, with greater aimed shot damage, better attack rate with range and abilities that allow him to unload his guns on anyone infront of him.\\r\\nBatgirl is a more balanced fighter, using both her melee and ranged to great effect, using her grapple to bring enemies closer to her and having a variety of special abilities that do no focus on any single asspect of gameplay.\\r\\nRobin is best at AoE and stealth, using his bo-staff to hit multiple enemies at once and quickly disappearing from combat. Being the only one who can stealth knockout large enemies and use perches to tie enemies up, Robin is amazing when stealth is your favorite aspect.\\r\\n\\r\\nTalking of stealth... Since each character has a different playstyle, stealth may feel a bit off for certain characters. Everyone can sneak around, silently take down smaller opponents from any direction, be it from behind, hanging above them, below them or even while mid air or rushing them down quickly before they can alert anyone. But some characters aren\\'t that great at it. Mainly being Red-hood. He is a lot clumsier, and can make you feel like something is really off with the stealth.\\r\\nFor example, every character can aim their ranged attack to attract an enemy to a certain location, but Red-hood uses guns which doesn\\'t make much sense that the enemies will be attracted to the point of impact instead of the source of the gunshot. But hey, it still works...\\r\\nAnd both Robin and Batgirl have special abilities for stealth that Nightwing and Red-hood don\\'t have which increases the off feeling for stealth while playing them.\\r\\nOverall, both the combat and stealth are quite satisfying and fun.\\r\\n\\r\\nStory: The story of the game is servicable. it starts off with an awesome cutscene of batman fighting Ra\\'s Al Ghoul, ending with the death of both and the call to action to our 4 heroes. The game is filled with beautifully made and choreographed cutscenes that are specific to the host player\\'s character, meaning that the story can unfold with 4 variations. The story is still the same, but the attention to detail in the interactions between different characters and the different characters of the main cast is great to see, and IMO is sorely needed in other games that include multiple playable pre-made characters.\\r\\nOther than that, the story falls to mediocraty due to the supporting cast.\\r\\n\\r\\nLoot and progression: Now we\\'re getting into one of the biggest controversy around this game. This game was planned to be a \"games as a service\" type game, and so it include loot and a rudamentry crafting system. And at first glance this system seems like it\\'s important. That it may force you to play a single character and not allow you to enjoy everyone else, or that it will require grinding between story sections. But no, it\\'s actually not that important. Levels are shared for all four heroes, and after every mission you get specific loot for all four characters that is usually better than what you can craft. It does affect end-game, where when you do \"Heroic assault\" This game\\'s dungeon system, you will only get rewards for the specific character you played. Other than that, getting loot is easy, resources are plentiful, and other than a bit a of a drop in power for a few moments after selecting a different character, you come back really quickly.\\r\\nThe downside of this system is that it makes the difficulty of the game spike up and down really drastically.\\r\\nThe game uses a gearscore system, called power, that doesn\\'t really tell you how good your gear is, but simply give an arbitrary number. A 300 power weapon can be weaker than a 100 power weapon, it all depends on the other stats. But the rest of the game follows the power system and adjusts according to that, so you may find yourself with over 1000 power but doing little damage, or the opposite, having 500 power but one-shotting everyone.\\r\\nAlso, enemies have their health and to a lesser degree, their damage, tied to their tier. Regular shooter can be one shot while a veteran may need a bit of a pounding. You\\'d expect that the level next to their health be a more accurate indicator of their power, but not really. Stealth, on the other hand, really balances things out since everyone KO\\'s instantly to stealth, and grapple attacks do so much damage that they either insta KO or remove over half of any enemy\\'s health-bar.\\r\\n\\r\\nTraversal and Open-world: Gotham is a beautiful city, it has shanty-town like  slums, colorful streets with neon signs everywhere lighting up the smog and fog of the city. It has beautiful old sections lined with cobblestone and brick buildings, along the more modern streets with their clean and slick deisgnes. There\\'s art in every corner of this city. Activities in the city are quite normal for open-world games these days. You got random crimes going on around. They can be mugging, attempts to break into buildings, beating up cops, etc. And there\\'s the pre-maditated crimes, which can be more engaging. Bank robberies, Kidnapping, gang wars, etc. Other than that you get the regular activities. Collectibles and races, which we\\'ll get into later.\\r\\nThe rest of Gotham might seem a bit dead. Certain areas are more densely populated than others, but you don\\'t tend to see large groups of people or cars. But this can be explained with the high rate of criminality in Gotham. When passing civilians, some will be in awe of seeing you, most will be apathetic, while others will either shame you or get away from you hinting to the fact that they are likely criminals themselves. Which makes Gotham a dangerous place to walk around at night.\\r\\n\\r\\nNow, how do you traverse Gotham city? Every one of the Bat-family has accesses to their own Motorcycle (batcycle) which can be speedy enough to go around, but after a completing a few early game challanges you can unlock a character specific movement system. Batgirl gets to glide like Batman speeding downwards and converting speed to upwards lift when needed. Robin gets to teleport short distances (I say short, but it\\'s about 300 meters per jump). Nightwing gets a Jet Glider that allows him to fly at a constant rate. While Red-hood gets a mystical jump that allows him to jump on magic platforms in the air, prolonging the distance he can jump. Other than that, every character gets their own grapple to zip around the city, and small arenas.\\r\\n\\r\\n\\r\\nOverall, the game is quite good'}\n",
      "True\n",
      "{'appid': '1496790', 'question': 'Is there a significant amount of dialogue in Gotham Knights that detracts from the action?'}\n",
      "{'appid': '1496790', 'review': \"This game is like being a real superhero or should I say superheroes, you can choose from 4 different characters, each with different dialogue, it's like a superhero game about superhero stories, with dialogue, action and sometimes some dialogue, all in all lots of fun, a bit mediocre, but better than the new Ubisoft Starwars probably!\"}\n",
      "True\n",
      "{'appid': '1496790', 'question': 'What are the reported performance issues, specifically FPS, when playing Gotham Knights on low settings?'}\n",
      "{'appid': '1496790', 'review': 'Gotham Knights is a weird one. Story wise it was engaging and even the side missions were cool. Graphically looks decent and performance wise it ran great. Aside from the network issues with co-op lots of the time. Level gating to me made me enjoy it less unfortunately. Gameplay wise it was fine until you get to the point where you spam the X button to hit the people and it just gets boring. Also jumping/moving at all feels jank for me. Open world wise, not much happening there are crimes to do tho. It got pretty boring for me towards the end which is why I probably wouldn’t recommend it'}\n",
      "True\n",
      "{'appid': '1496790', 'question': 'How does Gotham Knights compare to previous BatMan games in terms of gameplay experience?'}\n",
      "{'appid': '1496790', 'review': 'It\\'s a hollow product that should have stayed in the oven for at least two more years - I went into the game knowing full well it was bad, still I was surprised in both good and bad ways. \\r\\n\\r\\nLet\\'s start with the good things: amazing aesthetic of city design, good looking suits and touching side story sequences. The design team did their job wonderfully and gave us a Gotham design that\\'s almost on par with Arkham Knight\\'s Gotham. Still it lacks substance - the staggering absence of details around the city, and the unvaried building structures.\\r\\n\\r\\nThe real downsides of Gotham Knights are many, namely the horrendous gameplay, bad story progression, uncreative and repetitive side activities, etc. Its combat takes away all the things that made Batman Arkham games great, and gives us a jankier Sleeping Dogs. Sometimes it\\'s required to do Ubisoft-styled missions in order to progress story, meaning you have to find \"clues\" or interrogate thugs through random events. The story progression system is truly evolving backwards. The batcycle is slow AF, the game has to add a wind blowing filter to make it look fast lol. There\\'re also a tons of what I consider to be minor issues, like NPCs repeat lines way too often, NPC models vanish soon as enter a camera blind spot.\\r\\n\\r\\nAll those I can still endure. But my current biggest gripe with it is the the genuinely unfun experience resulting from a combination of widely scattered side activities and severely downgraded (from the Batman Arkham games) traversal system. Gliding and grappling speed is somewhere between Arkham City and Knight, but the traversal as a whole feels wrong on many level - there\\'s no physics or a good sense of control to it. And the lack of detail in Gotham only makes going around the map even worse. \\r\\n\\r\\nTL;DR - the design dev team is 9/10 but the gameplay dev team is 5/10'}\n",
      "True\n",
      "{'appid': '1817070', 'question': \"Is Marvel's Spider-Man Remastered a well-optimized game upon release?\"}\n",
      "{'appid': '1817070', 'review': \"This game is absolutely amazing, its extremely well optimized, great graphics, i dont get tired at looking the beautiful different suits, one of the best stories i've seen in videogames. If you like Spider-Man buy this game. If you liked Spider-Man just a little bit as a kid, like me, buy this game. Even if you don't care much about Spider-Man but like a well-written, solid game, buy this game.\"}\n",
      "True\n",
      "{'appid': '1817070', 'question': \"How does Marvel's Spider-Man Remastered compare to other superhero games like the Batman Arkham series?\"}\n"
     ]
    },
    {
     "name": "stderr",
     "output_type": "stream",
     "text": [
      " 92%|█████████▏| 97/105 [00:02<00:00, 41.97it/s]"
     ]
    },
    {
     "name": "stdout",
     "output_type": "stream",
     "text": [
      "{'appid': '1817070', 'review': \"Marvel’s Spider-Man Remastered is an insanely great open-world superhero game. I never expected a superhero game to be this fun. The stunning visuals and insane graphics, combined with smooth controls and a great storyline, make it a complete package. Insomniac Games has truly outdone themselves with this game.\\n\\nI loved every moment of it, including all the DLCs. The skill tree, gadgets, and different suits with unique powers provide a fresh look and new ways to play every time. It’s so easy to recommend this game to anyone. Marvel’s Spider-Man Remastered is a must-play for any gaming enthusiast. I'm so excited for the sequel to drop on PC.\"}\n",
      "True\n",
      "{'appid': '1817070', 'question': \"Can players enjoy Marvel's Spider-Man Remastered without focusing on story missions?\"}\n"
     ]
    },
    {
     "name": "stderr",
     "output_type": "stream",
     "text": [
      " 97%|█████████▋| 102/105 [00:02<00:00, 42.91it/s]"
     ]
    },
    {
     "name": "stdout",
     "output_type": "stream",
     "text": [
      "{'appid': '1817070', 'review': \"Spider-Man Remastered really takes an already amazing game and just makes it so much better. Visual improvements in this are stunning, and swinging through New York feels smoother than ever. Even the faster load times and updated character models give it a different feel, but it still retains all the fun of the original. It still retains a story that is just as gripping, and the combat is super fluid, satisfying. Honestly, a replay or jumping in for the first time, it is one of the best superhero games out there.\\r\\n\\r\\nJust incredible visual improvements, smoother mechanics, and faster load times take an already great game in Spider-Man Remastered and elevate the experience to a whole new level. The story remains compelling and emotionally engaging, while the combat and traversal mechanics continue to shine, offering a fluid and dynamic gameplay experience. However, the open world can feel a bit repetitive at times, and some stealth and puzzle sections may slow down the pace. For those who haven't played the original, the remastered version is a must-play, delivering one of the best superhero games available. If you already own the original, it comes down to how much you value the enhanced graphics and next-gen performance. If you're eager for the best possible version of the game, it's worth the investment. However, if you're satisfied with the original, the remaster might not offer enough to warrant a second purchase.\\r\\n\\r\\nSpider-Man Remastered doesn't just look great—it tells a fantastic story too. It goes really in-depth into Peter Parker's life, with the juggling of responsibilities as both a superhuman and an everyday man. You get to see him juggle his relationships, face certain choices of action, and go up against iconic villains such as Doctor Octopus, Rhino, and the Vulture. The way the game tackles storytelling is just so legitimate and emotional; Peter's struggles have made him super relatable. Plus, its character development is pretty spot on, mainly the building up of his relationship with characters like MJ and Aunt May. The story mixed with the amazing gameplay really makes it an immersive experience. For sure, the mechanics within Spider-Man Remastered make it really great.\\r\\n\\r\\nSwinging through New York is slick, instinctive practice that manages to capture a very real sense of freedom as you sweep between skyscrapers. The combat flows well, with the correct dose of web-slinging, acrobatics, and gadgets that will make combat with enemies quite varied and entertaining. There is a feel that you can pull off awesome combos and dodge attacks with Spidey agility deftly, using the environment against foes. The stealth aspect in the game is equally well-implemented, where the player can sneak around and silently take out enemies where required. Whether you’re in a high-speed chase or taking on a group of thugs, the controls are responsive, making the action feel satisfying every time. While Spider-Man Remastered is an amazing game, it does have a few minor flaws. It's wonderfully designed, but sometimes the open world feels a little same-ish.\\r\\n\\r\\nSide missions and random street crimes tend to be very similar, and oftentimes will feel somewhat like filler after a while. A few of these puzzle and stealth sections-especially ones where you switch to playing as MJ or Miles-can suck the air out of what would otherwise be pulsating with high-energy action. Whether or not the Spider-Man Remastered version is worth purchasing really depends on how much you value the visual upgrades and next-generation performance improvements if you already own the original Spider-Man game. The remastered version looks absolutely beautiful, and with quicker loading and an altogether smoother experience, it really gives the game polish. Still, the underlying story and gameplay remain the same. If you’re a huge fan of the game and want to see it in its best possible form, the remaster is worth the investment. But if you’re content with the original and aren’t too concerned about the graphical improvements, it might not be a must-buy.\\r\\n\\r\\nIn conclusion, Spider-Man Remastered elevates an already fantastic game with stunning visual improvements, smoother mechanics, and faster load times, making the experience even more enjoyable. The story remains compelling and emotionally engaging, while the combat and traversal mechanics continue to shine, offering a fluid and dynamic gameplay experience. However, the open world can feel a bit repetitive at times, and some stealth and puzzle sections may slow down the pace.\\r\\n\\r\\nFor those who haven't played the original, the remastered version is a must-play, delivering one of the best superhero games available. If you already own the original, it comes down to how much you value the enhanced graphics and next-gen performance. If you're eager for the best possible version of the game, it's worth the investment. However, if you're satisfied with the original, the remaster might not offer enough to warrant a second purchase.\"}\n",
      "True\n",
      "{'appid': '1817070', 'question': \"What are the main highlights of the gameplay experience in Marvel's Spider-Man Remastered?\"}\n",
      "{'appid': '1817070', 'review': \"Spider-Man Remastered really takes an already amazing game and just makes it so much better. Visual improvements in this are stunning, and swinging through New York feels smoother than ever. Even the faster load times and updated character models give it a different feel, but it still retains all the fun of the original. It still retains a story that is just as gripping, and the combat is super fluid, satisfying. Honestly, a replay or jumping in for the first time, it is one of the best superhero games out there.\\r\\n\\r\\nJust incredible visual improvements, smoother mechanics, and faster load times take an already great game in Spider-Man Remastered and elevate the experience to a whole new level. The story remains compelling and emotionally engaging, while the combat and traversal mechanics continue to shine, offering a fluid and dynamic gameplay experience. However, the open world can feel a bit repetitive at times, and some stealth and puzzle sections may slow down the pace. For those who haven't played the original, the remastered version is a must-play, delivering one of the best superhero games available. If you already own the original, it comes down to how much you value the enhanced graphics and next-gen performance. If you're eager for the best possible version of the game, it's worth the investment. However, if you're satisfied with the original, the remaster might not offer enough to warrant a second purchase.\\r\\n\\r\\nSpider-Man Remastered doesn't just look great—it tells a fantastic story too. It goes really in-depth into Peter Parker's life, with the juggling of responsibilities as both a superhuman and an everyday man. You get to see him juggle his relationships, face certain choices of action, and go up against iconic villains such as Doctor Octopus, Rhino, and the Vulture. The way the game tackles storytelling is just so legitimate and emotional; Peter's struggles have made him super relatable. Plus, its character development is pretty spot on, mainly the building up of his relationship with characters like MJ and Aunt May. The story mixed with the amazing gameplay really makes it an immersive experience. For sure, the mechanics within Spider-Man Remastered make it really great.\\r\\n\\r\\nSwinging through New York is slick, instinctive practice that manages to capture a very real sense of freedom as you sweep between skyscrapers. The combat flows well, with the correct dose of web-slinging, acrobatics, and gadgets that will make combat with enemies quite varied and entertaining. There is a feel that you can pull off awesome combos and dodge attacks with Spidey agility deftly, using the environment against foes. The stealth aspect in the game is equally well-implemented, where the player can sneak around and silently take out enemies where required. Whether you’re in a high-speed chase or taking on a group of thugs, the controls are responsive, making the action feel satisfying every time. While Spider-Man Remastered is an amazing game, it does have a few minor flaws. It's wonderfully designed, but sometimes the open world feels a little same-ish.\\r\\n\\r\\nSide missions and random street crimes tend to be very similar, and oftentimes will feel somewhat like filler after a while. A few of these puzzle and stealth sections-especially ones where you switch to playing as MJ or Miles-can suck the air out of what would otherwise be pulsating with high-energy action. Whether or not the Spider-Man Remastered version is worth purchasing really depends on how much you value the visual upgrades and next-generation performance improvements if you already own the original Spider-Man game. The remastered version looks absolutely beautiful, and with quicker loading and an altogether smoother experience, it really gives the game polish. Still, the underlying story and gameplay remain the same. If you’re a huge fan of the game and want to see it in its best possible form, the remaster is worth the investment. But if you’re content with the original and aren’t too concerned about the graphical improvements, it might not be a must-buy.\\r\\n\\r\\nIn conclusion, Spider-Man Remastered elevates an already fantastic game with stunning visual improvements, smoother mechanics, and faster load times, making the experience even more enjoyable. The story remains compelling and emotionally engaging, while the combat and traversal mechanics continue to shine, offering a fluid and dynamic gameplay experience. However, the open world can feel a bit repetitive at times, and some stealth and puzzle sections may slow down the pace.\\r\\n\\r\\nFor those who haven't played the original, the remastered version is a must-play, delivering one of the best superhero games available. If you already own the original, it comes down to how much you value the enhanced graphics and next-gen performance. If you're eager for the best possible version of the game, it's worth the investment. However, if you're satisfied with the original, the remaster might not offer enough to warrant a second purchase.\"}\n",
      "True\n",
      "{'appid': '1817070', 'question': \"Is Marvel's Spider-Man Remastered available for purchase on Steam?\"}\n",
      "{'appid': '1817070', 'review': \"Marvel's Spider-Man Remastered may not be as well-rounded an experience as Rocksteady's Arkham series. But when you're swinging through Time Square in glorious sunshine as New York's citizenry gazes at you from below, well, it's a superhero high that even the Caped Crusader would struggle to beat.\"}\n",
      "True\n",
      "{'appid': '794540', 'question': 'Is Neo Cab a fully optimized game that functions well upon launch?'}\n",
      "{'appid': '794540', 'review': 'Giving it a thumbs up but with heavy reservations.\\r\\n\\r\\nNeo Cab has us take a role of Lina, a cab driver in a neo-futuristic city. She\\'s just moved in to the city to live with her best friend from the past whom she hasn\\'t seen in ages. However, on the first night, her friend goes missing and Lina takes it upon herself to find out what happened to her friend and who is responsible while at the same time trying to make a living by driving passengers.\\r\\n\\r\\nSo in a sense, Neo Cab is a hybrid of a visual novel story and management gameplay which involves serving customers, making enough money to get by, and making sure your star rating stays high. Normally, this kind of genre mixing can be risky, but what the game has is connected well enough, without either aspect getting in the way of the other. The story is giving us an end goal to strive towards, whereas the management aspect is giving us something to do and think about while we\\'re progressing through the plot. The gameplay isn\\'t complicated really and all you need to keep track of are your money and your rating.\\r\\n\\r\\nWhile transporting customers, we get to learn a bit about them. They come in all kinds, the young and the old, the boring and the weird, the friendly and the hostile. Most (if not all) of them we get to meet multiple times throughout the game, so we get to know them really well and they could end up even helping us along during the main plot. In the way the customers are integrated into the game\\'s story is pretty decent because we do learn something from each of them.\\r\\n\\r\\nSo the game loop is quite simple - you drive 3 customers per night, and occasionally visit some story-related location, then spend the night at a motel or one of those futuristic capsules, and then do the same the next night till six nights have passed. I personally was quite surprised how quickly and somewhat abruptly the game ended. I kind of expected it to go on for longer, with investigation taking more nights and requiring more tasks on our behalf, but it was pretty short and for many players might feel rather underwhelming. \\r\\n\\r\\nThe game\\'s world is interesting and tackles interesting subjects relating to the near future, particularly automation of the workforce and the ways in which corporations could use and abuse new technology for their own personal benefit. But the main plot of searching for your friend and uncovering what on Earth she got involved in fell rather short in my opinion.\\r\\n\\r\\nWhenever we interact with customers and any other characters, we often are given dialogue choices of what to say. This can impact how they feel about us and whether they would give us a good rating or share important information with us. One annoyance though that many other players seem to agree with is that the game often doesn\\'t let you pick the dialogue choices you want to pick, possibly because the character is not in the right mood or something, so they outright refuse to say what you tell them to say. And speaking of their mood - it seems to jump all over the place at the drop of a hat, and this can be very hard to keep track of, especially that most times it really isn\\'t clear how a particular dialogue branch will affect her mood. Most times you might as well just taking a wild guess at it (we can see how her mood gets changed due to a device she starts wearing on her wrist from early on in the game).\\r\\n\\r\\nGraphically the game is magnificent. In fact, the visuals are probably its biggest strength. The whole art style is very colourful, pleasing and in great style, fitting that neo-future aesthetic the game is going for. Coupled with decent background music in the style of synthwave, and the game is pretty enjoyable in its presentation. There is no voice acting here, which to some players may seem odd for a game like this, but to me personally it wasn\\'t a big deal as I just treated it as a visual novel. \\r\\n\\r\\nI think the save system could be vastly improved though. It isn\\'t clear when exactly the game gets saved, and the first time when I returned to the game, I realised the game didn\\'t save a big chunk from my first sitting. In fact, I don\\'t see a reason why the game couldn\\'t just allow saving at any time. But even without it, it should be saving after every scene, including when you go to recharge the battery of your car, which for some reason the game doesn\\'t save after. And when your progress is saved should be shown clearly.\\r\\n\\r\\nOverall, I felt Neo Cab introduced an interesting world and some cool ideas, but as the game got to the late stages, it just fell flat and left me kind of disappointed. I can\\'t say it\\'s a bad game, but it left me with a rather plain and lukewarm taste at the end, especially with the \"I went through all that just for this\" ending that I got. So I\\'d say, if you\\'re not a fan of this game genre or cyberpunk settings, then just safely ignore it, as you\\'re not missing out. If you are a fan of these things, then best to get it on a discount.'}\n",
      "True\n",
      "{'appid': '794540', 'question': 'Does Neo Cab deliver on the promises made by its developers prior to release?'}\n",
      "{'appid': '794540', 'review': \"Cyberpunk Uber simulator but as a San Francisco visual novel set in cyber Los Ochos.  It's obviously written by Leigh Alexander and her narrative voice shines through.  The graphics are beautiful especially for something made in Unity.  The atmosphere and music is nice although it can be slow at times.  You're basically exploring the narratives of your customers which are delivered episodically.  The final emotional battle between Savvy and Lina owes a lot to the insult sword fights from Monkey Island.\\n\\nWorth playing if you've got it in your backlog and worth a buy if it's 85% off.  It'll last you a quick night or two.  It just kind of ends without anything visible occurring on camera.  Sometimes it feels weirdly prescient like the germophobe and giant worms before COVID and the Dune remakes.  Most of the passengers are jerks in a San Francisco techie/tedious revolutionary kind of way.  It's definitely written by an American, not a single passenger sits in the front passenger seat.\\n\\nPretty much everything Fellow Traveller publishes seems to be worth a look and is very highly polished.  Suzerain and The Pale Beyond are both better as games than Neo Cab, but it's no slouch and worth a look.\"}\n",
      "True\n",
      "{'appid': '794540', 'question': 'How does the dialogue in Neo Cab contribute to the overall experience of the game?'}\n"
     ]
    },
    {
     "name": "stderr",
     "output_type": "stream",
     "text": [
      "100%|██████████| 105/105 [00:02<00:00, 44.74it/s]"
     ]
    },
    {
     "name": "stdout",
     "output_type": "stream",
     "text": [
      "{'appid': '794540', 'review': 'Giving it a thumbs up but with heavy reservations.\\r\\n\\r\\nNeo Cab has us take a role of Lina, a cab driver in a neo-futuristic city. She\\'s just moved in to the city to live with her best friend from the past whom she hasn\\'t seen in ages. However, on the first night, her friend goes missing and Lina takes it upon herself to find out what happened to her friend and who is responsible while at the same time trying to make a living by driving passengers.\\r\\n\\r\\nSo in a sense, Neo Cab is a hybrid of a visual novel story and management gameplay which involves serving customers, making enough money to get by, and making sure your star rating stays high. Normally, this kind of genre mixing can be risky, but what the game has is connected well enough, without either aspect getting in the way of the other. The story is giving us an end goal to strive towards, whereas the management aspect is giving us something to do and think about while we\\'re progressing through the plot. The gameplay isn\\'t complicated really and all you need to keep track of are your money and your rating.\\r\\n\\r\\nWhile transporting customers, we get to learn a bit about them. They come in all kinds, the young and the old, the boring and the weird, the friendly and the hostile. Most (if not all) of them we get to meet multiple times throughout the game, so we get to know them really well and they could end up even helping us along during the main plot. In the way the customers are integrated into the game\\'s story is pretty decent because we do learn something from each of them.\\r\\n\\r\\nSo the game loop is quite simple - you drive 3 customers per night, and occasionally visit some story-related location, then spend the night at a motel or one of those futuristic capsules, and then do the same the next night till six nights have passed. I personally was quite surprised how quickly and somewhat abruptly the game ended. I kind of expected it to go on for longer, with investigation taking more nights and requiring more tasks on our behalf, but it was pretty short and for many players might feel rather underwhelming. \\r\\n\\r\\nThe game\\'s world is interesting and tackles interesting subjects relating to the near future, particularly automation of the workforce and the ways in which corporations could use and abuse new technology for their own personal benefit. But the main plot of searching for your friend and uncovering what on Earth she got involved in fell rather short in my opinion.\\r\\n\\r\\nWhenever we interact with customers and any other characters, we often are given dialogue choices of what to say. This can impact how they feel about us and whether they would give us a good rating or share important information with us. One annoyance though that many other players seem to agree with is that the game often doesn\\'t let you pick the dialogue choices you want to pick, possibly because the character is not in the right mood or something, so they outright refuse to say what you tell them to say. And speaking of their mood - it seems to jump all over the place at the drop of a hat, and this can be very hard to keep track of, especially that most times it really isn\\'t clear how a particular dialogue branch will affect her mood. Most times you might as well just taking a wild guess at it (we can see how her mood gets changed due to a device she starts wearing on her wrist from early on in the game).\\r\\n\\r\\nGraphically the game is magnificent. In fact, the visuals are probably its biggest strength. The whole art style is very colourful, pleasing and in great style, fitting that neo-future aesthetic the game is going for. Coupled with decent background music in the style of synthwave, and the game is pretty enjoyable in its presentation. There is no voice acting here, which to some players may seem odd for a game like this, but to me personally it wasn\\'t a big deal as I just treated it as a visual novel. \\r\\n\\r\\nI think the save system could be vastly improved though. It isn\\'t clear when exactly the game gets saved, and the first time when I returned to the game, I realised the game didn\\'t save a big chunk from my first sitting. In fact, I don\\'t see a reason why the game couldn\\'t just allow saving at any time. But even without it, it should be saving after every scene, including when you go to recharge the battery of your car, which for some reason the game doesn\\'t save after. And when your progress is saved should be shown clearly.\\r\\n\\r\\nOverall, I felt Neo Cab introduced an interesting world and some cool ideas, but as the game got to the late stages, it just fell flat and left me kind of disappointed. I can\\'t say it\\'s a bad game, but it left me with a rather plain and lukewarm taste at the end, especially with the \"I went through all that just for this\" ending that I got. So I\\'d say, if you\\'re not a fan of this game genre or cyberpunk settings, then just safely ignore it, as you\\'re not missing out. If you are a fan of these things, then best to get it on a discount.'}\n",
      "True\n",
      "{'appid': '794540', 'question': 'What themes are explored in Neo Cab through its narrative and character interactions?'}\n",
      "{'appid': '794540', 'review': \"Cyberpunk Uber simulator but as a San Francisco visual novel set in cyber Los Ochos.  It's obviously written by Leigh Alexander and her narrative voice shines through.  The graphics are beautiful especially for something made in Unity.  The atmosphere and music is nice although it can be slow at times.  You're basically exploring the narratives of your customers which are delivered episodically.  The final emotional battle between Savvy and Lina owes a lot to the insult sword fights from Monkey Island.\\n\\nWorth playing if you've got it in your backlog and worth a buy if it's 85% off.  It'll last you a quick night or two.  It just kind of ends without anything visible occurring on camera.  Sometimes it feels weirdly prescient like the germophobe and giant worms before COVID and the Dune remakes.  Most of the passengers are jerks in a San Francisco techie/tedious revolutionary kind of way.  It's definitely written by an American, not a single passenger sits in the front passenger seat.\\n\\nPretty much everything Fellow Traveller publishes seems to be worth a look and is very highly polished.  Suzerain and The Pale Beyond are both better as games than Neo Cab, but it's no slouch and worth a look.\"}\n",
      "True\n",
      "{'appid': '794540', 'question': 'Is there a built-in system for saving progress in Neo Cab, and how does it work?'}\n",
      "{'appid': '794540', 'review': 'Giving it a thumbs up but with heavy reservations.\\r\\n\\r\\nNeo Cab has us take a role of Lina, a cab driver in a neo-futuristic city. She\\'s just moved in to the city to live with her best friend from the past whom she hasn\\'t seen in ages. However, on the first night, her friend goes missing and Lina takes it upon herself to find out what happened to her friend and who is responsible while at the same time trying to make a living by driving passengers.\\r\\n\\r\\nSo in a sense, Neo Cab is a hybrid of a visual novel story and management gameplay which involves serving customers, making enough money to get by, and making sure your star rating stays high. Normally, this kind of genre mixing can be risky, but what the game has is connected well enough, without either aspect getting in the way of the other. The story is giving us an end goal to strive towards, whereas the management aspect is giving us something to do and think about while we\\'re progressing through the plot. The gameplay isn\\'t complicated really and all you need to keep track of are your money and your rating.\\r\\n\\r\\nWhile transporting customers, we get to learn a bit about them. They come in all kinds, the young and the old, the boring and the weird, the friendly and the hostile. Most (if not all) of them we get to meet multiple times throughout the game, so we get to know them really well and they could end up even helping us along during the main plot. In the way the customers are integrated into the game\\'s story is pretty decent because we do learn something from each of them.\\r\\n\\r\\nSo the game loop is quite simple - you drive 3 customers per night, and occasionally visit some story-related location, then spend the night at a motel or one of those futuristic capsules, and then do the same the next night till six nights have passed. I personally was quite surprised how quickly and somewhat abruptly the game ended. I kind of expected it to go on for longer, with investigation taking more nights and requiring more tasks on our behalf, but it was pretty short and for many players might feel rather underwhelming. \\r\\n\\r\\nThe game\\'s world is interesting and tackles interesting subjects relating to the near future, particularly automation of the workforce and the ways in which corporations could use and abuse new technology for their own personal benefit. But the main plot of searching for your friend and uncovering what on Earth she got involved in fell rather short in my opinion.\\r\\n\\r\\nWhenever we interact with customers and any other characters, we often are given dialogue choices of what to say. This can impact how they feel about us and whether they would give us a good rating or share important information with us. One annoyance though that many other players seem to agree with is that the game often doesn\\'t let you pick the dialogue choices you want to pick, possibly because the character is not in the right mood or something, so they outright refuse to say what you tell them to say. And speaking of their mood - it seems to jump all over the place at the drop of a hat, and this can be very hard to keep track of, especially that most times it really isn\\'t clear how a particular dialogue branch will affect her mood. Most times you might as well just taking a wild guess at it (we can see how her mood gets changed due to a device she starts wearing on her wrist from early on in the game).\\r\\n\\r\\nGraphically the game is magnificent. In fact, the visuals are probably its biggest strength. The whole art style is very colourful, pleasing and in great style, fitting that neo-future aesthetic the game is going for. Coupled with decent background music in the style of synthwave, and the game is pretty enjoyable in its presentation. There is no voice acting here, which to some players may seem odd for a game like this, but to me personally it wasn\\'t a big deal as I just treated it as a visual novel. \\r\\n\\r\\nI think the save system could be vastly improved though. It isn\\'t clear when exactly the game gets saved, and the first time when I returned to the game, I realised the game didn\\'t save a big chunk from my first sitting. In fact, I don\\'t see a reason why the game couldn\\'t just allow saving at any time. But even without it, it should be saving after every scene, including when you go to recharge the battery of your car, which for some reason the game doesn\\'t save after. And when your progress is saved should be shown clearly.\\r\\n\\r\\nOverall, I felt Neo Cab introduced an interesting world and some cool ideas, but as the game got to the late stages, it just fell flat and left me kind of disappointed. I can\\'t say it\\'s a bad game, but it left me with a rather plain and lukewarm taste at the end, especially with the \"I went through all that just for this\" ending that I got. So I\\'d say, if you\\'re not a fan of this game genre or cyberpunk settings, then just safely ignore it, as you\\'re not missing out. If you are a fan of these things, then best to get it on a discount.'}\n",
      "True\n"
     ]
    },
    {
     "name": "stderr",
     "output_type": "stream",
     "text": [
      "\n"
     ]
    },
    {
     "data": {
      "text/plain": [
       "{'hit_rate': 1.0, 'mrr': 1.0}"
      ]
     },
     "execution_count": 36,
     "metadata": {},
     "output_type": "execute_result"
    }
   ],
   "source": [
    "evaluate(ground_truth, question_hybrid)"
   ]
  },
  {
   "cell_type": "code",
   "execution_count": 61,
   "id": "843d8726-8e49-43b0-a3ff-fcf920a49941",
   "metadata": {},
   "outputs": [],
   "source": [
    "# {'appid': '1817070', 'question': \"Is Marvel's Spider-Man Remastered a well-optimized game upon release?\"}\n",
    "# {'appid': '1817070', 'review': \"This game is absolutely amazing, its extremely well optimized, great graphics, i dont get tired at looking the beautiful different suits, one of the best stories i've seen in videogames. If you like Spider-Man buy this game. If you liked Spider-Man just a little bit as a kid, like me, buy this game. Even if you don't care much about Spider-Man but like a well-written, solid game, buy this game.\"}\n",
    "# True"
   ]
  },
  {
   "cell_type": "code",
   "execution_count": 62,
   "id": "d7f45dfc-02f8-4849-ba1e-5f21886a87f2",
   "metadata": {},
   "outputs": [],
   "source": [
    "query=\"Is Marvel's Spider-Man Remastered a well-optimized game upon release?\""
   ]
  },
  {
   "cell_type": "code",
   "execution_count": 65,
   "id": "cfa4548e-6a37-415d-9315-f5ba7fa1b47d",
   "metadata": {},
   "outputs": [],
   "source": [
    "appid=\"1817070\""
   ]
  },
  {
   "cell_type": "code",
   "execution_count": 68,
   "id": "aaa5f9c0-0db8-44ae-9b28-04ec788b240b",
   "metadata": {},
   "outputs": [],
   "source": [
    "v_q = model.encode(query)"
   ]
  },
  {
   "cell_type": "code",
   "execution_count": 71,
   "id": "2dd5457c-76b3-4b78-9a48-b2dc9f0c8384",
   "metadata": {},
   "outputs": [],
   "source": [
    "results = indexer.query_reviews_hybrid(appid, query, v_q, vector_field=\"title_review_vector\")"
   ]
  },
  {
   "cell_type": "code",
   "execution_count": 72,
   "id": "dff9688e-3539-4f69-a593-29d7c2e2cd97",
   "metadata": {},
   "outputs": [
    {
     "data": {
      "text/plain": [
       "[{'appid': '1817070',\n",
       "  'review': \"Marvel's Spider-Man Remastered may not be as well-rounded an experience as Rocksteady's Arkham series. But when you're swinging through Time Square in glorious sunshine as New York's citizenry gazes at you from below, well, it's a superhero high that even the Caped Crusader would struggle to beat.\"},\n",
       " {'appid': '1817070',\n",
       "  'review': \"This game is absolutely amazing, its extremely well optimized, great graphics, i dont get tired at looking the beautiful different suits, one of the best stories i've seen in videogames. If you like Spider-Man buy this game. If you liked Spider-Man just a little bit as a kid, like me, buy this game. Even if you don't care much about Spider-Man but like a well-written, solid game, buy this game.\"}]"
      ]
     },
     "execution_count": 72,
     "metadata": {},
     "output_type": "execute_result"
    }
   ],
   "source": [
    "results"
   ]
  },
  {
   "cell_type": "code",
   "execution_count": 40,
   "id": "2d101708-0225-4de5-84ad-8649e5fd0344",
   "metadata": {},
   "outputs": [
    {
     "name": "stdout",
     "output_type": "stream",
     "text": [
      "Data loaded from /home/jovyan/reviews-assistant/data/ground_truth/ground_truth_retrieval.json\n",
      "Number of entries: 105\n",
      "[{'appid': '2322010', 'question': 'How well does God of War: Ragnarok perform on PC at launch?'}, {'appid': '2322010', 'question': 'What kind of PC specifications did the reviewer use while playing God of War: Ragnarok?'}, {'appid': '2322010', 'question': 'What resolution and settings were used to play God of War: Ragnarok according to the review?'}, {'appid': '2322010', 'question': 'Did the reviewer experience any performance issues such as stutter while playing God of War: Ragnarok?'}, {'appid': '2322010', 'question': \"Is there any mention of the game's story or gameplay quality in the review?\"}]\n"
     ]
    }
   ],
   "source": [
    "import json\n",
    "import os\n",
    "\n",
    "# Define the data directory path\n",
    "data_dir = os.path.abspath('../reviews-assistant/data/ground_truth')\n",
    "\n",
    "# Define the input file path\n",
    "input_file = os.path.join(data_dir, \"ground_truth_retrieval.json\")\n",
    "\n",
    "# Check if the file exists before attempting to read\n",
    "if os.path.exists(input_file):\n",
    "    # Read the results from the JSON file\n",
    "    with open(input_file, 'r', encoding='utf-8') as json_file:\n",
    "        ground_truth = json.load(json_file)  # Load the JSON data into a Python object\n",
    "\n",
    "    # Now ground_truth contains the data from ground_truth_retrieval.json\n",
    "    print(f\"Data loaded from {input_file}\")\n",
    "    print(f\"Number of entries: {len(ground_truth)}\")\n",
    "    # Optionally display the first few records\n",
    "    print(ground_truth[:5])  # Display the first 5 entries\n",
    "else:\n",
    "    print(f\"File {input_file} does not exist!\")"
   ]
  },
  {
   "cell_type": "code",
   "execution_count": 41,
   "id": "4e923f8d-b3df-45c8-af7c-db5fce9cd8c2",
   "metadata": {},
   "outputs": [
    {
     "data": {
      "text/plain": [
       "[{'appid': '2322010',\n",
       "  'question': 'How well does God of War: Ragnarok perform on PC at launch?'},\n",
       " {'appid': '2322010',\n",
       "  'question': 'What kind of PC specifications did the reviewer use while playing God of War: Ragnarok?'}]"
      ]
     },
     "execution_count": 41,
     "metadata": {},
     "output_type": "execute_result"
    }
   ],
   "source": [
    "ground_truth[:2]"
   ]
  },
  {
   "cell_type": "code",
   "execution_count": null,
   "id": "c7eeda61-8ec1-43b5-8611-b0321778d345",
   "metadata": {},
   "outputs": [],
   "source": []
  },
  {
   "cell_type": "code",
   "execution_count": null,
   "id": "6e044054-27c3-4158-b42f-a81e077e8e44",
   "metadata": {},
   "outputs": [],
   "source": []
  },
  {
   "cell_type": "code",
   "execution_count": 42,
   "id": "7933fe18-7561-42ae-b836-c558c464645b",
   "metadata": {},
   "outputs": [],
   "source": [
    "from openai import OpenAI\n",
    "\n",
    "client = OpenAI(\n",
    "  api_key=os.environ['OPENAI_API_KEY'],  # this is also the default, it can be omitted\n",
    ")"
   ]
  },
  {
   "cell_type": "code",
   "execution_count": 43,
   "id": "a19e29c4-5224-4092-997e-1954244f37d3",
   "metadata": {},
   "outputs": [],
   "source": [
    "def build_prompt(query, search_results):\n",
    "    answer_llm = \"\"\n",
    "\n",
    "    if 'entry_template' in globals():  # Check if entry_template exists in global scope\n",
    "        for doc in search_results:\n",
    "            answer_llm += entry_template.format(**doc) + \"\\n\\n\"\n",
    "    else:\n",
    "        for doc in search_results:\n",
    "            # Fallback formatting if entry_template is missing\n",
    "            answer_llm += str(doc) + \"\\n\\n\"\n",
    "\n",
    "    prompt = prompt_template.format(question=query, answer_llm=answer_llm).strip()\n",
    "    return prompt"
   ]
  },
  {
   "cell_type": "code",
   "execution_count": 44,
   "id": "38eefa6f-8176-4b80-9a6f-e24f4463fa68",
   "metadata": {},
   "outputs": [],
   "source": [
    "def llm(prompt, model='gpt-4o-mini'):\n",
    "    response = client.chat.completions.create(\n",
    "        model=model,\n",
    "        messages=[{\"role\": \"user\", \"content\": prompt}]\n",
    "    )\n",
    "    \n",
    "    return response.choices[0].message.content"
   ]
  },
  {
   "cell_type": "code",
   "execution_count": 45,
   "id": "77fdac07-f37d-482e-8571-555e62cddf5c",
   "metadata": {},
   "outputs": [],
   "source": [
    "def rag(query, model='gpt-4o-mini'):\n",
    "    # search_results = search(query)\n",
    "    search_results = indexer.query_reviews_hybrid(appid, query, v_q, vector_field=vector_field)\n",
    "    print(search_results)\n",
    "    prompt = build_prompt(query, search_results)\n",
    "    #print(prompt)\n",
    "    answer = llm(prompt, model=model)\n",
    "    # print(answer)\n",
    "    return answer"
   ]
  },
  {
   "cell_type": "code",
   "execution_count": 46,
   "id": "df13f381-40c2-4909-93be-e945f84a187f",
   "metadata": {},
   "outputs": [],
   "source": [
    "prompt_template = \"\"\"\n",
    "You are an expert evaluator for a RAG system.\n",
    "Your task is to analyze the relevance of the generated answer to the given question.\n",
    "Based on the relevance of the generated answer, you will classify it\n",
    "as \"NON_RELEVANT\", \"PARTLY_RELEVANT\", or \"RELEVANT\".\n",
    "\n",
    "Here is the data for evaluation:\n",
    "\n",
    "Question: {question}\n",
    "Generated Answer: {answer_llm}\n",
    "\n",
    "Please analyze the content and context of the generated answer in relation to the question\n",
    "and provide your evaluation in parsable JSON without using code blocks:\n",
    "\n",
    "{{\n",
    "  \"relevance\": \"NON_RELEVANT\" | \"PARTLY_RELEVANT\" | \"RELEVANT\",\n",
    "  \"explanation\": \"[Provide a brief explanation for your evaluation]\"\n",
    "}}\n",
    "\"\"\".strip()"
   ]
  },
  {
   "cell_type": "code",
   "execution_count": 47,
   "id": "220d3e10-3acd-4e85-9c69-87d880370c90",
   "metadata": {
    "scrolled": true
   },
   "outputs": [
    {
     "name": "stderr",
     "output_type": "stream",
     "text": [
      "  0%|          | 0/105 [00:00<?, ?it/s]"
     ]
    },
    {
     "name": "stdout",
     "output_type": "stream",
     "text": [
      "How well does God of War: Ragnarok perform on PC at launch?\n",
      "[{'appid': '2322010', 'review': \"to God of War: Ragnarok Dev. Team,\\n\\nI’m writing to bring to your attention an issue regarding the current PC port of God of War: Ragnarok that affects users with 4GB VRAM graphics cards. When attempting to launch the game on such systems, an error message is displayed, indicating that there is not enough VRAM, and the game closes without allowing users to proceed. It is my humble request to kindly reconsider or remove this VRAM limitation. From personal experience and community feedback, I can confirm that the game runs well on certain integrated graphics processors (such as the Ryzen 3 3200G, Ryzen 5 3400G, and Ryzen 7 5700G), which are generally weaker than many 4GB VRAM GPUs available today. God of War: Ragnarok performs on the base PlayStation 4, which further suggests that the game should be capable of running on 4GB VRAM graphics cards, and the latest Steam Hardware Survey shows that one of the most widely used graphics cards among gamers is the GTX 1650, which comes with 4GB of VRAM and is ranked within the top three most popular cards. Limiting access to such a significant portion of the player base can potentially prevent many from enjoying your incredible game. Removing or adjusting this VRAM limitation would greatly benefit the gaming community, ensuring that a larger audience can experience God of War: Ragnarok on PC!\\n\\nEDIT : there’s a workaround and you can bypass this VRAM limit error by using a mod. ( MOD LINK : https://www.nexusmods.com/godofwarragnarok/mods/12?tab=files ) To install it, just drag and drop the files into the game's root folder, and the game should launch without any issues. It's unclear why Jetpack Interactive locked out 4GB VRAM cards, especially since the game runs just fine on them!\"}, {'appid': '2322010', 'review': \"God of War Ragnarok could have been an unforgettable experience on PC, but the unnecessary and nonsensical PSN/Sony account requirements tarnish what should have been a flawless port, and breaks offline play on Steam Deck. Sony, if you're reading this, stop shackling amazing games with terrible DRM and account dependencies. Especially single player games! Let us enjoy the game we paid for without the extra hoops.\"}]\n"
     ]
    },
    {
     "name": "stderr",
     "output_type": "stream",
     "text": [
      "  1%|          | 1/105 [00:02<04:29,  2.59s/it]"
     ]
    },
    {
     "name": "stdout",
     "output_type": "stream",
     "text": [
      "What kind of PC specifications did the reviewer use while playing God of War: Ragnarok?\n",
      "[{'appid': '2322010', 'review': \"God of War Ragnarok could have been an unforgettable experience on PC, but the unnecessary and nonsensical PSN/Sony account requirements tarnish what should have been a flawless port, and breaks offline play on Steam Deck. Sony, if you're reading this, stop shackling amazing games with terrible DRM and account dependencies. Especially single player games! Let us enjoy the game we paid for without the extra hoops.\"}, {'appid': '2322010', 'review': \"to God of War: Ragnarok Dev. Team,\\n\\nI’m writing to bring to your attention an issue regarding the current PC port of God of War: Ragnarok that affects users with 4GB VRAM graphics cards. When attempting to launch the game on such systems, an error message is displayed, indicating that there is not enough VRAM, and the game closes without allowing users to proceed. It is my humble request to kindly reconsider or remove this VRAM limitation. From personal experience and community feedback, I can confirm that the game runs well on certain integrated graphics processors (such as the Ryzen 3 3200G, Ryzen 5 3400G, and Ryzen 7 5700G), which are generally weaker than many 4GB VRAM GPUs available today. God of War: Ragnarok performs on the base PlayStation 4, which further suggests that the game should be capable of running on 4GB VRAM graphics cards, and the latest Steam Hardware Survey shows that one of the most widely used graphics cards among gamers is the GTX 1650, which comes with 4GB of VRAM and is ranked within the top three most popular cards. Limiting access to such a significant portion of the player base can potentially prevent many from enjoying your incredible game. Removing or adjusting this VRAM limitation would greatly benefit the gaming community, ensuring that a larger audience can experience God of War: Ragnarok on PC!\\n\\nEDIT : there’s a workaround and you can bypass this VRAM limit error by using a mod. ( MOD LINK : https://www.nexusmods.com/godofwarragnarok/mods/12?tab=files ) To install it, just drag and drop the files into the game's root folder, and the game should launch without any issues. It's unclear why Jetpack Interactive locked out 4GB VRAM cards, especially since the game runs just fine on them!\"}]\n"
     ]
    },
    {
     "name": "stderr",
     "output_type": "stream",
     "text": [
      "  2%|▏         | 2/105 [00:06<05:24,  3.16s/it]"
     ]
    },
    {
     "name": "stdout",
     "output_type": "stream",
     "text": [
      "What resolution and settings were used to play God of War: Ragnarok according to the review?\n",
      "[{'appid': '2322010', 'review': \"to God of War: Ragnarok Dev. Team,\\n\\nI’m writing to bring to your attention an issue regarding the current PC port of God of War: Ragnarok that affects users with 4GB VRAM graphics cards. When attempting to launch the game on such systems, an error message is displayed, indicating that there is not enough VRAM, and the game closes without allowing users to proceed. It is my humble request to kindly reconsider or remove this VRAM limitation. From personal experience and community feedback, I can confirm that the game runs well on certain integrated graphics processors (such as the Ryzen 3 3200G, Ryzen 5 3400G, and Ryzen 7 5700G), which are generally weaker than many 4GB VRAM GPUs available today. God of War: Ragnarok performs on the base PlayStation 4, which further suggests that the game should be capable of running on 4GB VRAM graphics cards, and the latest Steam Hardware Survey shows that one of the most widely used graphics cards among gamers is the GTX 1650, which comes with 4GB of VRAM and is ranked within the top three most popular cards. Limiting access to such a significant portion of the player base can potentially prevent many from enjoying your incredible game. Removing or adjusting this VRAM limitation would greatly benefit the gaming community, ensuring that a larger audience can experience God of War: Ragnarok on PC!\\n\\nEDIT : there’s a workaround and you can bypass this VRAM limit error by using a mod. ( MOD LINK : https://www.nexusmods.com/godofwarragnarok/mods/12?tab=files ) To install it, just drag and drop the files into the game's root folder, and the game should launch without any issues. It's unclear why Jetpack Interactive locked out 4GB VRAM cards, especially since the game runs just fine on them!\"}, {'appid': '2322010', 'review': \"God of War Ragnarok could have been an unforgettable experience on PC, but the unnecessary and nonsensical PSN/Sony account requirements tarnish what should have been a flawless port, and breaks offline play on Steam Deck. Sony, if you're reading this, stop shackling amazing games with terrible DRM and account dependencies. Especially single player games! Let us enjoy the game we paid for without the extra hoops.\"}]\n"
     ]
    },
    {
     "name": "stderr",
     "output_type": "stream",
     "text": [
      "  3%|▎         | 3/105 [00:08<04:24,  2.60s/it]"
     ]
    },
    {
     "name": "stdout",
     "output_type": "stream",
     "text": [
      "Did the reviewer experience any performance issues such as stutter while playing God of War: Ragnarok?\n",
      "[{'appid': '2322010', 'review': \"to God of War: Ragnarok Dev. Team,\\n\\nI’m writing to bring to your attention an issue regarding the current PC port of God of War: Ragnarok that affects users with 4GB VRAM graphics cards. When attempting to launch the game on such systems, an error message is displayed, indicating that there is not enough VRAM, and the game closes without allowing users to proceed. It is my humble request to kindly reconsider or remove this VRAM limitation. From personal experience and community feedback, I can confirm that the game runs well on certain integrated graphics processors (such as the Ryzen 3 3200G, Ryzen 5 3400G, and Ryzen 7 5700G), which are generally weaker than many 4GB VRAM GPUs available today. God of War: Ragnarok performs on the base PlayStation 4, which further suggests that the game should be capable of running on 4GB VRAM graphics cards, and the latest Steam Hardware Survey shows that one of the most widely used graphics cards among gamers is the GTX 1650, which comes with 4GB of VRAM and is ranked within the top three most popular cards. Limiting access to such a significant portion of the player base can potentially prevent many from enjoying your incredible game. Removing or adjusting this VRAM limitation would greatly benefit the gaming community, ensuring that a larger audience can experience God of War: Ragnarok on PC!\\n\\nEDIT : there’s a workaround and you can bypass this VRAM limit error by using a mod. ( MOD LINK : https://www.nexusmods.com/godofwarragnarok/mods/12?tab=files ) To install it, just drag and drop the files into the game's root folder, and the game should launch without any issues. It's unclear why Jetpack Interactive locked out 4GB VRAM cards, especially since the game runs just fine on them!\"}, {'appid': '2322010', 'review': \"God of War Ragnarok could have been an unforgettable experience on PC, but the unnecessary and nonsensical PSN/Sony account requirements tarnish what should have been a flawless port, and breaks offline play on Steam Deck. Sony, if you're reading this, stop shackling amazing games with terrible DRM and account dependencies. Especially single player games! Let us enjoy the game we paid for without the extra hoops.\"}]\n"
     ]
    },
    {
     "name": "stderr",
     "output_type": "stream",
     "text": [
      "  4%|▍         | 4/105 [00:10<04:02,  2.40s/it]"
     ]
    },
    {
     "name": "stdout",
     "output_type": "stream",
     "text": [
      "Is there any mention of the game's story or gameplay quality in the review?\n",
      "[{'appid': '2322010', 'review': 'I\\'ve platinumed this game on PS5 already and 100% of the collectables already and highly recommend this game for the 10/10 story telling, an epic squeal to the reboot of 2018 GoW, and all around a fun hack and slash game that I love very much.\\n\\nBut this review is more about the morons on steam talking about how the game is bad because of the need of a PSN account because of \"stealing data\". My brother in Christ, if you\\'ve ever made an account for any online website/game you have already been a victim of it at some point. Don\\'t base your review off of one point to try and boycott a game. Like cope harder bozo'}, {'appid': '2322010', 'review': \"No lifed this game on my four days off and it was an incredible journey. I saw other people commenting on how the ideas didn't seem to form together well, but I think everything has been tied off nicely, especially with the Valhalla mode added after the game's release. I'm both excited and curious to see what they do with future installments, if there will be any at all. The only thing that will suck is having to wait 1-2 years after the next game's release for it to come to PC, but I know the wait will definitely be worth it.\"}]\n"
     ]
    },
    {
     "name": "stderr",
     "output_type": "stream",
     "text": [
      "  5%|▍         | 5/105 [00:12<03:59,  2.40s/it]"
     ]
    },
    {
     "name": "stdout",
     "output_type": "stream",
     "text": [
      "Is the storytelling in Far Cry 6 engaging, or does it feel janky and clunky compared to other recent titles?\n",
      "[{'appid': '2322010', 'review': 'So the developers clearly never tested the game at resolutions other than 4K. At 1440p the text and icon scaling makes all UI elements look terrible. I had to resort to running the game at 4K via Dynamic Super Resolution to fix this which is beyond ridiculous.\\n\\nEDIT: a recent patch has fixed this, will revisit review once I complete the game.'}, {'appid': '2322010', 'review': \"Having to sign in with a PS account is already annoying, but it will not allow me to access my account what so ever even after resetting my password. Also why does a PS account matter, i still have to repurchase this game or any of the other countless games that i have already own on PlayStation. I then tried to make a new account, I made a new gmail for this account and it still would not let me finish making it.  I can't play this game at the moment.\"}]\n"
     ]
    },
    {
     "name": "stderr",
     "output_type": "stream",
     "text": [
      "  6%|▌         | 6/105 [00:16<04:38,  2.81s/it]"
     ]
    },
    {
     "name": "stdout",
     "output_type": "stream",
     "text": [
      "Are there excessive cutscenes in Far Cry 6 that interrupt the gameplay experience?\n",
      "[{'appid': '2322010', 'review': \"Steam Deck users \\n\\nGame run very smoothly just fought Thor part 1 my experience so far of this game is  runs better in the first game much better visuals so far not encounter any problems apart from the subtitles have a blurry box overlay but this can be changed here ( subtitles - subtitles and captions background set to none ) this is the only issue I found so far on my experience of this game \\n\\nEdited - found one fault need to use touch screen to remove some pop up text as button won't always work to remove notifications \\n\\nMore on to tech\\nCurrently own a LCD version of the steam deck running game at 30 FPS full screen mode with no problem at all \\n\\nDisplay Graphics settings \\nFull screen \\nAspect ratio 16.9\\nFrame limits off \\n\\nScaling \\nMethod AMD 3.1 ( balance ) \\nAll presets set to low \\n\\nThis game looks super pretty as is and haven't killed my battery in nearly two hours gameplay \\n\\nNeed to mention!!!!!!\\n I do currently have cryo-utilities installed from the first game so that might be playing a huge part in smooth gameplay\"}, {'appid': '2322010', 'review': \"a children's game for little babies. every puzzle is just 'find the correct spot to stand in and then press L2 and R2'. fighting is ok but not very inspired and literally the same as the first one. the game looks and sounds nice, animations and voice acting are great, but the story and cutscenes are just marvel tier slop. fuck you\"}]\n"
     ]
    },
    {
     "name": "stderr",
     "output_type": "stream",
     "text": [
      "  7%|▋         | 7/105 [00:21<05:46,  3.54s/it]"
     ]
    },
    {
     "name": "stdout",
     "output_type": "stream",
     "text": [
      "How does the story in Far Cry 6 compare to narratives in games like Cyberpunk or Baldur's Gate 3?\n",
      "[{'appid': '2322010', 'review': 'Seriously misguiding players with this PSN requirement... \\n\\n1) when you launch it, it basically asks you to sign into PSN or quit the game\\n\\n2) but then after having already made a PSN account, it seems you dont even NEED to be signed in on the game to play it...\\n\\n3) I was never asked to sign back into PSN.... make up your mind SONY, why did you lie to me with the first POPUP? saying either sign in or quit?!\\n\\n\\nOtherwise its a visually beautiful game so far. \\n\\n\\nDecent game so far but I should not have to make a PSN game to enjoy a game I paid full price for.'}, {'appid': '2322010', 'review': 'Why is this 100% single player experience forcing me to sign in with PSN? I understand that some people are given the OPTION to sign in but for others ( like me) it\\'s a requirement. Why? When I launch the game it just says \"A PSN account is required to play.\" and then I can either sign in, or quit the game. WTF? I hated it when EA did it, I hated it when Microsoft did it. I EPSECIALLY hated it when Ubisoft did it (Seriously GFYS Ubisoft). And I hate it now with Playstation doing it. The difference is that God of War: Ragnarok has ZERO online features. I can somewhat understand for games that are multiplayer or have online features but a single player only game? That\\'s a hard no from me.\\n\\nEdit: To a few of the people who commented. Not everyone does copious amounts of research on every single requirement, recommended specs, and reads the TOS for every game they play. That\\'s a terrible argument and a completely unreasonable expectation. Stop making excuses for bad consumer practices. L corpo bootlicking.'}]\n"
     ]
    },
    {
     "name": "stderr",
     "output_type": "stream",
     "text": [
      "  8%|▊         | 8/105 [00:23<05:07,  3.17s/it]"
     ]
    },
    {
     "name": "stdout",
     "output_type": "stream",
     "text": [
      "Does Far Cry 6 offer a well-optimized experience at launch, or does it feel unfinished?\n",
      "[{'appid': '2322010', 'review': \"This is more then just a game, it's an experience. Full of the cleanest animations and fight scenes to the uncountable amount of dialog between characters that builds them along with the story. For a game centered around gods, it does an amazing job at making me feel pleasantly human. I have nothing but love and adoration for this game.\"}, {'appid': '2322010', 'review': 'Why is this 100% single player experience forcing me to sign in with PSN? I understand that some people are given the OPTION to sign in but for others ( like me) it\\'s a requirement. Why? When I launch the game it just says \"A PSN account is required to play.\" and then I can either sign in, or quit the game. WTF? I hated it when EA did it, I hated it when Microsoft did it. I EPSECIALLY hated it when Ubisoft did it (Seriously GFYS Ubisoft). And I hate it now with Playstation doing it. The difference is that God of War: Ragnarok has ZERO online features. I can somewhat understand for games that are multiplayer or have online features but a single player only game? That\\'s a hard no from me.\\n\\nEdit: To a few of the people who commented. Not everyone does copious amounts of research on every single requirement, recommended specs, and reads the TOS for every game they play. That\\'s a terrible argument and a completely unreasonable expectation. Stop making excuses for bad consumer practices. L corpo bootlicking.'}]\n"
     ]
    },
    {
     "name": "stderr",
     "output_type": "stream",
     "text": [
      "  9%|▊         | 9/105 [00:26<04:49,  3.02s/it]"
     ]
    },
    {
     "name": "stdout",
     "output_type": "stream",
     "text": [
      "Is it worth purchasing Far Cry 6 on Steam despite concerns about its story quality and cutscenes?\n",
      "[{'appid': '2322010', 'review': \"Sorry for the countries that cannot make PSN accounts and there for can't play the game I fully feel for you. Those of you that can and are complaining whomp whomp it ain't that hard at least you can play the game. Steam deck users, not sure why but I didnt have to log into PSN via steam deck for some odd reason. Pressed play, got a black screen briefly and then the game loaded.\\n\\nNow for people who want to know if this runs on the steam deck. I'm currently getting between 30-45 fps, low settings, AMD FSR 3.1 balanced , vsync off, fps limit off. Steam deck settings I've now locked the fps here as leaving it at 90fps I found it was a bit choppy. I've locked it to 36 fps and 1 hour in the game feels pretty damn smooth.\\n\\nEdit: after playing further into the game when reaching svartalfheim there was a pretty big tank in performance on the steam deck. Upon entering svartalfheim I got roughly 25-30 fps some times dropping to 20 fps, however, after reaching the free roam area via boat the performance increased. I am actually able to play AMD FSR Quality between 30-45 fps I've now unlocked the refresh rate via steam deck settings and it is smoother than when I previously locked  it to 36fps. Also thank you for the clown awards, free points and I can play the game in peace knowing I didn't have to log into PSN network and cry about it.\"}, {'appid': '2322010', 'review': \"Absolutely terrible on boarding process. Why do I need a sony account for a single player game?\\n\\nI tried to create a sony account\\n\\nsony account requires age verification, this steam account is old enough to buy its own beer! \\n\\nAge verification process is either uploading a copy of ID, having a facial scan, or receiving an SMS, I dont have a camera so am limited to SMS... which doesn't work, The SMS didn't come through... I close and open to start again, still nothing, then I hit a rate limit. Now the connection to the server times out. I literally can't play the game I bought. Its taking longer to sign up for an account I dont want than it took to download the game\\n\\nAvoid purchasing this\"}]\n"
     ]
    },
    {
     "name": "stderr",
     "output_type": "stream",
     "text": [
      " 10%|▉         | 10/105 [00:29<05:00,  3.17s/it]"
     ]
    },
    {
     "name": "stdout",
     "output_type": "stream",
     "text": [
      "Is the shooting mechanic in Watch_Dogs considered reliable and enjoyable by players?\n",
      "[{'appid': '2322010', 'review': 'God of War Ragnarök is a one of a kind, unforgettable experience/journey. It is a direct sequel to 2018\\'s Santa Monica\\'s - God of War which won GOTY. I have played every single GOW game to 100% completion and the story of Kratos is unforgettable. From his origin to now, with his son Atreus, who also goes by the name of \"Loki\". \\n\\nI pre-ordered the collectors edition of GOW:R for my PS5 and, to this date, I do not regret a thing because this is what a story game (and collectors edition) should be like. \\n\\nBelow I will tell you why GOW:R is an unforgettable experience and I will also share my thoughts and opinions on the game but before I get into anything, a quick disclaimer below!!\\n\\n[b] This review is MY opinion, MY own personal experience and MY thoughts. I am brutally honest when it comes to reviewing games. If you do not like my opinion, my time or respect my personal experience, please move on. [/b] \\n\\n[h1][b] PSN REQUIRMENT/The only Con[/b][/h1] \\nSo I just want to start off by saying that the game does indeed require a PSN account to play the game which baffles me a little. Why does a SINGLE-PLAYER game require a THIRD-PARTY account to play on STEAM - the platform it is being launched on. \\n\\nNow, I do not mind to much personally because I own a PSN account but to the thousands of gamers/players out there that only use PC... Sony... you need to re-think this requirement because you are forcing players to make an account with your services to BOOST your \"apparent\" - players that own a PS console. \\n\\nEnough of this - now on to the review!!\\n\\n[h1][b] Pros [/b][/h1] \\n⚫The story is unforgettable. (no spoilers!!!)\\n⚫Not a single issue running the game at all. No freezing, stuttering, FPS drops... NOTHING. This is an unbelievable PC port. Bloodborne next?!?! Sony? Please?!!!\\n⚫The combat is so damn fluent just like 2018\\'s GOW! Throwing your leviathan axe, turning it to ice for more damage, the catch for recalling it is just so smooth. The parrying is skillbased and very rewarding as you can punish your foes witth a slew of different combos and then you have your blocking which you can pull a full 180 turn to cover your rear in combat showing Kratos\\'s Spartan reflexes.\\n⚫The boss fights... are just amazing. Figthing Thor, the god of thunder at tge start of the game was an absolute thrill ride to begin our epic journey across these realms. (only one I\\'m going to mention!!)\\n⚫Fighting giant mythological mini-boss\\'s that are extremely punishing on GIVE ME GOD OF WAR difficulty and the vast array of enemies in the game will have you perfecting your combat prowess from start to finish. \\n⚫The soundtrack is gorgeous!! I love it!\\n⚫Christopher Judge and Sunny Suljic really bring Kratos and Atreus to life and we all know the \"BOY\" statement by now! That\\'s not all, Freya is voiced by the talented Danielle Bisutti and Thor who is voiced by Ryan Hurst (known for Sons of Anarchy or The Walking Dead\\'s Omega).\\n⚫There is tonnes of lore, collectables and hidden little areas for you to explore! Remnants for one and Odins puzzles another. Not all collectables can be collected until you complete the game so you are in for a long journey!\\n⚫In any typical game you get side missions that are just downright boring and bland but in GOW:R they side quests REALLY standout as they add an unbelievable amount of character development behind them.\\n⚫The graphics are superb. Gorgeous even and picture-perfect-post-card worthy at times. \\n⚫You can freely explore several different realms, if you have played 2018\\'s GOW then you will know of Alfheim, which has been changed a little but for the better which makes it stand out amongst all the other realms! \\n⚫The attention to detail is phenomenal. This is what you call a WORK OF ART. A LABOR OF LOVE. You can tell the people that worked on GOW:R have true love and passion about the game!!!\\n⚫The old armour customisation has now been streamlined and has been made very straightforward. Now you can take your favourite piece of equipment with you from start to end of the game!! \\n⚫The puzzles are fun and new puzzles are introduced regularly which means you will not be doing the same thing over and over again for several hours till a new one comes into play.\\n\\n[h1][b] My Verdict [/b][/h1] \\nPhew... after all of that is said and done, I could go on and on and on in detail about each element of the game. Combat. Story. Graphics. Sound e.t.c but I cannot as Steam only allows a certain amount of words sadly but I think I have said enough for anyone looking to get into GOW:R!\\n\\nSo, would I recommend God of War Ragnarök. DAMN RIGHT I WOULD!!! This is what you call a \"VIDEO-GAME\" that is true to both it\\'s origins and it\\'s future! It is made with love and passion, clearly, and will forever me the highest standpoint for future games of it\\'s kind!\\n\\n[h1][b] 10/10 - GOTY worthy and undeniably unforgettable! A single-player game that blows away all others! [/b][/h1]'}, {'appid': '2322010', 'review': \"So far the game has been nothing but amazing - however, I do not agree with Sony forcing PC players to log into a PSN account, hence the negative review. Some people state that it is optional and can be skipped - maybe for them it was but not for me - I could either create an otherwise completely useless account (that for some reason needed my home address) to play a fully single player game or I could quit - yes, quit - a game I paid for.\\n\\nIn the end I did give in and create a PSN account since this is the only way for me to legally play this game I have been waiting for but I want to leave this negative review as a sign that I do not agree with Sony's practices of forcing PC players to use their account system for no good reason - because I do not consider collecting data and bloating the amount of PSN accounts to show their shareholders this artificial growth a good enough reason.\"}]\n"
     ]
    },
    {
     "name": "stderr",
     "output_type": "stream",
     "text": [
      " 10%|█         | 11/105 [00:32<04:36,  2.94s/it]"
     ]
    },
    {
     "name": "stdout",
     "output_type": "stream",
     "text": [
      "How does the driving experience in Watch_Dogs compare to other games?\n",
      "[{'appid': '2322010', 'review': \"Having to sign in with a PS account is already annoying, but it will not allow me to access my account what so ever even after resetting my password. Also why does a PS account matter, i still have to repurchase this game or any of the other countless games that i have already own on PlayStation. I then tried to make a new account, I made a new gmail for this account and it still would not let me finish making it.  I can't play this game at the moment.\"}, {'appid': '2322010', 'review': \"Issues so far:\\n-Mouse not working\\n-Does not detect my 5.1 setup (literally every other game including GOW 2018 detects it)\\n-Completely crashed my graphics output\\n-The PSN account creation works perfectly\\n\\nGuys, learn from me and don't purchase this day one. Refunding the game and will probably pick for a sale if this shit is actually fixed. The only benefit of paying $60 nowadays is getting some beta testing experience on your resume.\"}]\n"
     ]
    },
    {
     "name": "stderr",
     "output_type": "stream",
     "text": [
      " 11%|█▏        | 12/105 [00:34<04:17,  2.77s/it]"
     ]
    },
    {
     "name": "stdout",
     "output_type": "stream",
     "text": [
      "What aspects of the story and missions in Watch_Dogs are highlighted as being particularly good?\n",
      "[{'appid': '2322010', 'review': 'after hearing so many negative things about ragnarok, having 100%ed the game now i have to say. glad i didnt listen and played it myself. game is peak, combat is a massive improvement over the first, the realms are more fleshed out then in the first game. the story while not being as tightly written as the first is still awesome, a good finale story to end off the norse saga. my only big negative of the game is the countless walk and talks and atreus secions. they end up making the game harder to replay then the first and replayablity is a big important thing to me. the added roguelike mode does help with this but even it has some things i dont like, the patheing for it is 3 fights, a valhalla chose fight then a boss, then a greek arena to do a couple fights then a tyr fight. really wish they added an infinite mode for it cause when i wana hop in and do that comabt it would of been perfect.\\r\\n\\r\\nbut yea to give my final thoughts, game good go play it.'}, {'appid': '2322010', 'review': \"When you boot up the game you are given 2 options: create a PSN account or quit the game... A PSN account being required for a single player game is bullshit. What if the servers go down? What if you live in a country where you can't create a PSN account? What if they release God of War 3 and decide people should play that instead? I think this will push people to pirate the game. Hopefully someone creates a mod to remove this completely unnecessary requirement.\"}]\n"
     ]
    },
    {
     "name": "stderr",
     "output_type": "stream",
     "text": [
      " 12%|█▏        | 13/105 [00:36<03:55,  2.55s/it]"
     ]
    },
    {
     "name": "stdout",
     "output_type": "stream",
     "text": [
      "Are the graphics in Watch_Dogs impressive for a game released in 2014?\n",
      "[{'appid': '2322010', 'review': \"[h1]A Great Sequel, Held Back by Woke[/h1]\\n\\n[h3]Introduction[/h3]\\n\\nI played God of War: Ragnarök earlier this year on my PS5, spending over 90 hours to get the platinum for both the base game and the Valhalla DLC. You can check my stats and trophies here from the comments. After all those hours of gameplay, I can confidently say that Ragnarök delivers a great experience, though it has some issues that hold it back from being a masterpiece like its predecessor.\\n\\n[h3]Not Just a DLC[/h3] \\n \\nOne of the biggest criticisms people have thrown at Ragnarök is that it feels like a glorified DLC of the 2018 game, but I strongly disagree with that take. Sure, it has a similar design and gameplay structure, but that doesn’t make it a mere DLC. There’s more than enough new content, including new realms, characters, and abilities, to call it a full-fledged sequel. The combat, which was already excellent in God of War 2018, feels more refined. Plus, the new variety of enemies and more boss fights elevate the action to another level.\\n\\n[h3]Expanded Gameplay and Content[/h3] \\n\\nThe gameplay in Ragnarök is much more expanded compared to God of War 2018. There’s more variety in combat options, and the game offers deeper customization for your weapons, armor, and abilities, allowing players to tailor their playstyle in even more ways. Content-wise, the game also delivers far more to do, with a much richer world to explore. One major complaint about God of War 2018 was the repetitive enemy and boss fights. Thankfully, Ragnarök improves on this significantly. While there are still some repeated enemies and bosses, it happens far less often than in the previous game. One of the standout improvements in Ragnarök is the optional content. I've found them very fun to do and the same with hunting trophies once again, like the prequel. These side quests don’t feel like chores; they’re genuinely rewarding and worth doing. The post-launch Valhalla DLC is also a cool addition. While it’s much shorter than I expected and I wish there was more of it to sink into, but I can’t complain since it’s free.\\n\\n[h3]The Woke Influence[/h3]\\n\\nThere’s an undeniable feeling that Ragnarök leans into a more woke tone. This isn’t just a personal opinion. There’s actual evidence that points to this. The developers worked with Sweet Baby Inc., a company known for inclusive storytelling, and that influence is noticeable throughout the game. Certain plotlines and character decisions feel forced, and at times, the story becomes nonsensical. While this may not bother some players, I found it detracted from the experience, making the narrative feel weaker. Replacing Cory Barlog as the main director was a huge mistake.\\n\\nhttps://steamcommunity.com/sharedfiles/filedetails/?id=3210225946\\n\\n[h3]Story and Narrative Issues[/h3] \\n\\nNow, let’s talk about one of the game’s major drawbacks: the narrative. The 2018 game told a tight, focused narrative centered on the relationship between Kratos and Atreus. In contrast, Ragnarök introduces a lot more characters and plotlines, which can sometimes feel overwhelming. Unfortunately, the game doesn’t spend enough time fully developing these new elements, and as a result, the story feels rushed in certain parts. Instead of the tight, emotional focus of the first game, Ragnarök tries to do too much and wraps up many plot points too quickly. Compared to the more compact, well-told story of God of War 2018, Ragnarök struggles to find the same emotional depth and coherence. This is a huge bummer since I was really hoping for a great story and narrative after the bar set by the predecessor. \\n\\n[h3]Graphics – A Missed Opportunity[/h3]  \\n\\nVisually, Ragnarök is a step up from God of War 2018, but not by much. The graphics are definitely a little better, with sharper textures and improved lighting effects. However, I can't help but feel that the game’s visual potential was held back because it was also released for the PS4. If Ragnarök had been a PS5 exclusive, I think the graphics could have been way better and more impressive. By having to cater to last-gen hardware, the game wasn’t able to push the boundaries as far as it could have, which is a bit disappointing. Still, the game looked beautiful on the PS5 and I am sure it looks even better on PC.\\n\\n[h3]Music – Less Memorable[/h3]  \\n\\nSurprisingly, I didn’t enjoy Ragnarök’s soundtrack not even close to as I did the 2018 game's music. The composer, Bear McCreary, is the same for both, yet, the music in Ragnarök didn’t stick with me in the same way. That's because Ragnarök’s soundtrack mainly consists of redone versions of tracks from its predecessor, with not many new compositions that stand out. This lack of fresh and impactful new music made the soundtrack feel less original and less memorable. I still occasionally listen to God of War 2018’s soundtrack because it was so impactful, but I’ve never felt the urge to listen to Ragnarök’s music outside the game.\\n\\n[h3]Expands, But Doesn’t Elevate[/h3]\\n  \\nOverall, I feel like there’s not much more to say about God of War Ragnarök. The game’s strengths are obvious, and they are mostly the same as in 2018. I’ve also mentioned the negatives, such as the woke elements and narrative problems. On top of that, the fact that it plays so safe and similarly to God of War 2018, is a negative for me. When a sequel feels too close to its predecessor, it loses some of its impact for me. Don't get me wrong -Ragnarök is a great game, and I highly recommend it- it just doesn’t feel like the groundbreaking game that God of War 2018 was for me.\\n\\n[h1]GOLDEN MEDAL[/h1]\\n\\nFollow My [URL=https://store.steampowered.com/curator/40523765-Bearsonal/]Curator Page ⚜️[/URL]\"}, {'appid': '2322010', 'review': 'Sony needs to learn their lesson. PSN accounts are ONLY NEEDED TO COLLECT YOUR DATA. THATS IT. Also the UI and the button prompts in the game look like ps1 graphics for some reason.'}]\n"
     ]
    },
    {
     "name": "stderr",
     "output_type": "stream",
     "text": [
      " 13%|█▎        | 14/105 [00:39<03:49,  2.52s/it]"
     ]
    },
    {
     "name": "stdout",
     "output_type": "stream",
     "text": [
      "Does the game have a strong focus on stealth gameplay?\n",
      "[{'appid': '2322010', 'review': \"Having to sign in with a PS account is already annoying, but it will not allow me to access my account what so ever even after resetting my password. Also why does a PS account matter, i still have to repurchase this game or any of the other countless games that i have already own on PlayStation. I then tried to make a new account, I made a new gmail for this account and it still would not let me finish making it.  I can't play this game at the moment.\"}, {'appid': '2322010', 'review': \"This is more then just a game, it's an experience. Full of the cleanest animations and fight scenes to the uncountable amount of dialog between characters that builds them along with the story. For a game centered around gods, it does an amazing job at making me feel pleasantly human. I have nothing but love and adoration for this game.\"}]\n"
     ]
    },
    {
     "name": "stderr",
     "output_type": "stream",
     "text": [
      " 14%|█▍        | 15/105 [00:41<03:33,  2.37s/it]"
     ]
    },
    {
     "name": "stdout",
     "output_type": "stream",
     "text": [
      "How long does it typically take to achieve 100% completion in Assassin's Creed Origin?\n",
      "[{'appid': '2322010', 'review': 'God of War Ragnarök is a one of a kind, unforgettable experience/journey. It is a direct sequel to 2018\\'s Santa Monica\\'s - God of War which won GOTY. I have played every single GOW game to 100% completion and the story of Kratos is unforgettable. From his origin to now, with his son Atreus, who also goes by the name of \"Loki\". \\n\\nI pre-ordered the collectors edition of GOW:R for my PS5 and, to this date, I do not regret a thing because this is what a story game (and collectors edition) should be like. \\n\\nBelow I will tell you why GOW:R is an unforgettable experience and I will also share my thoughts and opinions on the game but before I get into anything, a quick disclaimer below!!\\n\\n[b] This review is MY opinion, MY own personal experience and MY thoughts. I am brutally honest when it comes to reviewing games. If you do not like my opinion, my time or respect my personal experience, please move on. [/b] \\n\\n[h1][b] PSN REQUIRMENT/The only Con[/b][/h1] \\nSo I just want to start off by saying that the game does indeed require a PSN account to play the game which baffles me a little. Why does a SINGLE-PLAYER game require a THIRD-PARTY account to play on STEAM - the platform it is being launched on. \\n\\nNow, I do not mind to much personally because I own a PSN account but to the thousands of gamers/players out there that only use PC... Sony... you need to re-think this requirement because you are forcing players to make an account with your services to BOOST your \"apparent\" - players that own a PS console. \\n\\nEnough of this - now on to the review!!\\n\\n[h1][b] Pros [/b][/h1] \\n⚫The story is unforgettable. (no spoilers!!!)\\n⚫Not a single issue running the game at all. No freezing, stuttering, FPS drops... NOTHING. This is an unbelievable PC port. Bloodborne next?!?! Sony? Please?!!!\\n⚫The combat is so damn fluent just like 2018\\'s GOW! Throwing your leviathan axe, turning it to ice for more damage, the catch for recalling it is just so smooth. The parrying is skillbased and very rewarding as you can punish your foes witth a slew of different combos and then you have your blocking which you can pull a full 180 turn to cover your rear in combat showing Kratos\\'s Spartan reflexes.\\n⚫The boss fights... are just amazing. Figthing Thor, the god of thunder at tge start of the game was an absolute thrill ride to begin our epic journey across these realms. (only one I\\'m going to mention!!)\\n⚫Fighting giant mythological mini-boss\\'s that are extremely punishing on GIVE ME GOD OF WAR difficulty and the vast array of enemies in the game will have you perfecting your combat prowess from start to finish. \\n⚫The soundtrack is gorgeous!! I love it!\\n⚫Christopher Judge and Sunny Suljic really bring Kratos and Atreus to life and we all know the \"BOY\" statement by now! That\\'s not all, Freya is voiced by the talented Danielle Bisutti and Thor who is voiced by Ryan Hurst (known for Sons of Anarchy or The Walking Dead\\'s Omega).\\n⚫There is tonnes of lore, collectables and hidden little areas for you to explore! Remnants for one and Odins puzzles another. Not all collectables can be collected until you complete the game so you are in for a long journey!\\n⚫In any typical game you get side missions that are just downright boring and bland but in GOW:R they side quests REALLY standout as they add an unbelievable amount of character development behind them.\\n⚫The graphics are superb. Gorgeous even and picture-perfect-post-card worthy at times. \\n⚫You can freely explore several different realms, if you have played 2018\\'s GOW then you will know of Alfheim, which has been changed a little but for the better which makes it stand out amongst all the other realms! \\n⚫The attention to detail is phenomenal. This is what you call a WORK OF ART. A LABOR OF LOVE. You can tell the people that worked on GOW:R have true love and passion about the game!!!\\n⚫The old armour customisation has now been streamlined and has been made very straightforward. Now you can take your favourite piece of equipment with you from start to end of the game!! \\n⚫The puzzles are fun and new puzzles are introduced regularly which means you will not be doing the same thing over and over again for several hours till a new one comes into play.\\n\\n[h1][b] My Verdict [/b][/h1] \\nPhew... after all of that is said and done, I could go on and on and on in detail about each element of the game. Combat. Story. Graphics. Sound e.t.c but I cannot as Steam only allows a certain amount of words sadly but I think I have said enough for anyone looking to get into GOW:R!\\n\\nSo, would I recommend God of War Ragnarök. DAMN RIGHT I WOULD!!! This is what you call a \"VIDEO-GAME\" that is true to both it\\'s origins and it\\'s future! It is made with love and passion, clearly, and will forever me the highest standpoint for future games of it\\'s kind!\\n\\n[h1][b] 10/10 - GOTY worthy and undeniably unforgettable! A single-player game that blows away all others! [/b][/h1]'}, {'appid': '2322010', 'review': \"So i pre purchased the game weeks before this and when i got to actually playing the game when it asked me to make a playstation network account i was like fine i'll make one it wouldn't let me cause i couldn't connect to the server so I had to wait 4 more days just play it cause thats how long it took me that long for it to let me make an account to play it\"}]\n"
     ]
    },
    {
     "name": "stderr",
     "output_type": "stream",
     "text": [
      " 15%|█▌        | 16/105 [00:43<03:24,  2.30s/it]"
     ]
    },
    {
     "name": "stdout",
     "output_type": "stream",
     "text": [
      "What is the overall rating given to Assassin's Creed Origin based on the review?\n",
      "[{'appid': '2322010', 'review': \"When you boot up the game you are given 2 options: create a PSN account or quit the game... A PSN account being required for a single player game is bullshit. What if the servers go down? What if you live in a country where you can't create a PSN account? What if they release God of War 3 and decide people should play that instead? I think this will push people to pirate the game. Hopefully someone creates a mod to remove this completely unnecessary requirement.\"}, {'appid': '2322010', 'review': \"Awesome game all around, but I cannot give a positive rating as you must be online to play it. I have a home desktop and a steam deck. I love playing both at home and while I have a stable internet connection. I travel frequently and love bringing the deck on the plane. If I can't play a game I paid $60 for, while traveling without internet, I'm not going to give it a positive rating.\"}]\n"
     ]
    },
    {
     "name": "stderr",
     "output_type": "stream",
     "text": [
      " 16%|█▌        | 17/105 [00:46<03:40,  2.51s/it]"
     ]
    },
    {
     "name": "stdout",
     "output_type": "stream",
     "text": [
      "Does the game require grinding to progress, or can players complete it without excessive effort?\n",
      "[{'appid': '2322010', 'review': 'God of War Ragnarök is a one of a kind, unforgettable experience/journey. It is a direct sequel to 2018\\'s Santa Monica\\'s - God of War which won GOTY. I have played every single GOW game to 100% completion and the story of Kratos is unforgettable. From his origin to now, with his son Atreus, who also goes by the name of \"Loki\". \\n\\nI pre-ordered the collectors edition of GOW:R for my PS5 and, to this date, I do not regret a thing because this is what a story game (and collectors edition) should be like. \\n\\nBelow I will tell you why GOW:R is an unforgettable experience and I will also share my thoughts and opinions on the game but before I get into anything, a quick disclaimer below!!\\n\\n[b] This review is MY opinion, MY own personal experience and MY thoughts. I am brutally honest when it comes to reviewing games. If you do not like my opinion, my time or respect my personal experience, please move on. [/b] \\n\\n[h1][b] PSN REQUIRMENT/The only Con[/b][/h1] \\nSo I just want to start off by saying that the game does indeed require a PSN account to play the game which baffles me a little. Why does a SINGLE-PLAYER game require a THIRD-PARTY account to play on STEAM - the platform it is being launched on. \\n\\nNow, I do not mind to much personally because I own a PSN account but to the thousands of gamers/players out there that only use PC... Sony... you need to re-think this requirement because you are forcing players to make an account with your services to BOOST your \"apparent\" - players that own a PS console. \\n\\nEnough of this - now on to the review!!\\n\\n[h1][b] Pros [/b][/h1] \\n⚫The story is unforgettable. (no spoilers!!!)\\n⚫Not a single issue running the game at all. No freezing, stuttering, FPS drops... NOTHING. This is an unbelievable PC port. Bloodborne next?!?! Sony? Please?!!!\\n⚫The combat is so damn fluent just like 2018\\'s GOW! Throwing your leviathan axe, turning it to ice for more damage, the catch for recalling it is just so smooth. The parrying is skillbased and very rewarding as you can punish your foes witth a slew of different combos and then you have your blocking which you can pull a full 180 turn to cover your rear in combat showing Kratos\\'s Spartan reflexes.\\n⚫The boss fights... are just amazing. Figthing Thor, the god of thunder at tge start of the game was an absolute thrill ride to begin our epic journey across these realms. (only one I\\'m going to mention!!)\\n⚫Fighting giant mythological mini-boss\\'s that are extremely punishing on GIVE ME GOD OF WAR difficulty and the vast array of enemies in the game will have you perfecting your combat prowess from start to finish. \\n⚫The soundtrack is gorgeous!! I love it!\\n⚫Christopher Judge and Sunny Suljic really bring Kratos and Atreus to life and we all know the \"BOY\" statement by now! That\\'s not all, Freya is voiced by the talented Danielle Bisutti and Thor who is voiced by Ryan Hurst (known for Sons of Anarchy or The Walking Dead\\'s Omega).\\n⚫There is tonnes of lore, collectables and hidden little areas for you to explore! Remnants for one and Odins puzzles another. Not all collectables can be collected until you complete the game so you are in for a long journey!\\n⚫In any typical game you get side missions that are just downright boring and bland but in GOW:R they side quests REALLY standout as they add an unbelievable amount of character development behind them.\\n⚫The graphics are superb. Gorgeous even and picture-perfect-post-card worthy at times. \\n⚫You can freely explore several different realms, if you have played 2018\\'s GOW then you will know of Alfheim, which has been changed a little but for the better which makes it stand out amongst all the other realms! \\n⚫The attention to detail is phenomenal. This is what you call a WORK OF ART. A LABOR OF LOVE. You can tell the people that worked on GOW:R have true love and passion about the game!!!\\n⚫The old armour customisation has now been streamlined and has been made very straightforward. Now you can take your favourite piece of equipment with you from start to end of the game!! \\n⚫The puzzles are fun and new puzzles are introduced regularly which means you will not be doing the same thing over and over again for several hours till a new one comes into play.\\n\\n[h1][b] My Verdict [/b][/h1] \\nPhew... after all of that is said and done, I could go on and on and on in detail about each element of the game. Combat. Story. Graphics. Sound e.t.c but I cannot as Steam only allows a certain amount of words sadly but I think I have said enough for anyone looking to get into GOW:R!\\n\\nSo, would I recommend God of War Ragnarök. DAMN RIGHT I WOULD!!! This is what you call a \"VIDEO-GAME\" that is true to both it\\'s origins and it\\'s future! It is made with love and passion, clearly, and will forever me the highest standpoint for future games of it\\'s kind!\\n\\n[h1][b] 10/10 - GOTY worthy and undeniably unforgettable! A single-player game that blows away all others! [/b][/h1]'}, {'appid': '2322010', 'review': \"If you played God of War (2018) and liked it, then you'll like Ragnarok as well. The combat is near identical save for a few tweaks to how effective the Runic Attacks are and some new added skills and abilities. The story is very good and engaging, the side quests are also not a chore to complete so exploration is fun. The issue I've had comes with the game crashing every now and then. It'll freeze up and crash maybe once every 2 hours or so, which should not be happening considering my PC specs are well above the minimum requirements for the game. I don't have this issue with any other modern games so I can only assume something is happening with Ragnarok specifically. It can be annoying but it auto-saves frequently and doesn't occur often enough to make the game unplayable, but for a full price AAA game, I still find it unacceptable.\"}]\n"
     ]
    },
    {
     "name": "stderr",
     "output_type": "stream",
     "text": [
      " 17%|█▋        | 18/105 [00:48<03:36,  2.49s/it]"
     ]
    },
    {
     "name": "stdout",
     "output_type": "stream",
     "text": [
      "What were the standout features mentioned in the review regarding the game's story and mechanics?\n",
      "[{'appid': '2322010', 'review': \"Finished it, got all the achievements, now I can easily confirm that what I said earlier was true. The game is spectacular, it's just one of THOSE GAMES where you just want to forget everything the second you are done with the game just so you can play it for the first time again. I love the series, love the story, love the characters and especially creatures in the game. Also the DLC although kinda repetitive, still fun for a few hours and it's free so yeah. No horrible performance issues either = my mouse stopped working once (restart fixed it), dropped frames few times (it was for a few seconds so i'm cool with it), and my game dropped once (i have 72 hours and my game dropped ONCE) so idk what everyone else is talking about but it's in the state of playable for sure and jesus giving negative review because of PSN accounts when it's so easily avoidable is just annoying, the same way Sony is with forcing it on people. As I said before, go have fun with it!!\\n\\nOkay I usually make reviews after 100%ing the game, but this time I can't help myself but give it now because I feel like most of the negative reviews are either due to the PSN accounts (which don't get me wrong, it does really suck but I don't think the game deserve the hate for something Sony does, it's not fair to the people that gave it hundreds of hours creating, they really did not make that stupid decision) and the other ones are because of optimization? I did not stumble upon any big issues regarding that, if I don't count one boat floating in the air lmao. I had chills playing this game from the first minute, I can't wait what's ahead of me and these negative reviews should not make you reconsider buying the game. Trust me, if you liked the first one, you will love the second one:) I do not regret paying 60 euros for such a gem. Now go have fun with it!!\"}, {'appid': '2322010', 'review': 'Ragnarok is more of everything that was great in the 2018 release, combined with the epic scale of the original trilogy. \\nThe continuing story is outstanding, with thoroughly developed characters along with so much lore to chew on. Looks incredible and features once again brilliant, heartfelt voice acting (and mocap). Exceptionally well crafted environments and realms make exploration so fun, especially with the way they evolve throughout the story. \\nCombat is as satisfying, brutal and rewarding as ever with some truly breathtaking boss fights. \\nAn undeniably superlative experience.'}]\n"
     ]
    },
    {
     "name": "stderr",
     "output_type": "stream",
     "text": [
      " 18%|█▊        | 19/105 [00:51<03:33,  2.48s/it]"
     ]
    },
    {
     "name": "stdout",
     "output_type": "stream",
     "text": [
      "How does the game perform in terms of graphics, gameplay, audio, and story ratings?\n",
      "[{'appid': '2322010', 'review': 'Good gameplay, good sountrack, good graphics. Could use some more UI settings, and is missing some audio calibration types and menu looks too much zoomed in. But overally good game.'}, {'appid': '2322010', 'review': 'Gameplay and story awesome. State of the game now? Abysmal. Constant crashes, audio bugs, visual bugs, sudden ultra low FPS in the tree loading screen. If these things bug you, wait a few patches'}]\n"
     ]
    },
    {
     "name": "stderr",
     "output_type": "stream",
     "text": [
      " 19%|█▉        | 20/105 [00:53<03:26,  2.43s/it]"
     ]
    },
    {
     "name": "stdout",
     "output_type": "stream",
     "text": [
      "Does Watch_Dogs 2 have any major bugs or performance issues that affect gameplay upon release?\n",
      "[{'appid': '2322010', 'review': \"Finished it, got all the achievements, now I can easily confirm that what I said earlier was true. The game is spectacular, it's just one of THOSE GAMES where you just want to forget everything the second you are done with the game just so you can play it for the first time again. I love the series, love the story, love the characters and especially creatures in the game. Also the DLC although kinda repetitive, still fun for a few hours and it's free so yeah. No horrible performance issues either = my mouse stopped working once (restart fixed it), dropped frames few times (it was for a few seconds so i'm cool with it), and my game dropped once (i have 72 hours and my game dropped ONCE) so idk what everyone else is talking about but it's in the state of playable for sure and jesus giving negative review because of PSN accounts when it's so easily avoidable is just annoying, the same way Sony is with forcing it on people. As I said before, go have fun with it!!\\n\\nOkay I usually make reviews after 100%ing the game, but this time I can't help myself but give it now because I feel like most of the negative reviews are either due to the PSN accounts (which don't get me wrong, it does really suck but I don't think the game deserve the hate for something Sony does, it's not fair to the people that gave it hundreds of hours creating, they really did not make that stupid decision) and the other ones are because of optimization? I did not stumble upon any big issues regarding that, if I don't count one boat floating in the air lmao. I had chills playing this game from the first minute, I can't wait what's ahead of me and these negative reviews should not make you reconsider buying the game. Trust me, if you liked the first one, you will love the second one:) I do not regret paying 60 euros for such a gem. Now go have fun with it!!\"}, {'appid': '2322010', 'review': 'I mean whatever on the crybabies and the PSN accounts, this game has some very annoying performance and memory leaking issues. Ive had to restart my COMPUTER more than 3 times and ive barely gotten into the game. At some points you can get massive stuttering, or better yet if you use a controller it will essentially \"desync\" after about 30 minutes of playing where your inputs get a nice 2-4 second delay. \\n\\nAudio cutting in and out, I\\'ve had to reload checkpoints due to gamebreaking bugs on the very first mission, and the fact that some boxes wont let you open them.\\n\\nWouldnt buy this right now, wait until they patch the garbage out. I played the PS4 god of war about a year after it came out on PC so this is a little shocking for things to be in this much disarray.'}]\n"
     ]
    },
    {
     "name": "stderr",
     "output_type": "stream",
     "text": [
      " 20%|██        | 21/105 [00:56<03:34,  2.56s/it]"
     ]
    },
    {
     "name": "stdout",
     "output_type": "stream",
     "text": [
      "How does the storytelling in Watch_Dogs 2 compare to the first game in the series?\n",
      "[{'appid': '2322010', 'review': \"An hour in and the game is already a mastapiece. Loved the first game and this ones shaping up to be another 10/10. Now we just need Bloodborne and TLOU Part 2 and i'll be happy\"}, {'appid': '2322010', 'review': \"Finished it, got all the achievements, now I can easily confirm that what I said earlier was true. The game is spectacular, it's just one of THOSE GAMES where you just want to forget everything the second you are done with the game just so you can play it for the first time again. I love the series, love the story, love the characters and especially creatures in the game. Also the DLC although kinda repetitive, still fun for a few hours and it's free so yeah. No horrible performance issues either = my mouse stopped working once (restart fixed it), dropped frames few times (it was for a few seconds so i'm cool with it), and my game dropped once (i have 72 hours and my game dropped ONCE) so idk what everyone else is talking about but it's in the state of playable for sure and jesus giving negative review because of PSN accounts when it's so easily avoidable is just annoying, the same way Sony is with forcing it on people. As I said before, go have fun with it!!\\n\\nOkay I usually make reviews after 100%ing the game, but this time I can't help myself but give it now because I feel like most of the negative reviews are either due to the PSN accounts (which don't get me wrong, it does really suck but I don't think the game deserve the hate for something Sony does, it's not fair to the people that gave it hundreds of hours creating, they really did not make that stupid decision) and the other ones are because of optimization? I did not stumble upon any big issues regarding that, if I don't count one boat floating in the air lmao. I had chills playing this game from the first minute, I can't wait what's ahead of me and these negative reviews should not make you reconsider buying the game. Trust me, if you liked the first one, you will love the second one:) I do not regret paying 60 euros for such a gem. Now go have fun with it!!\"}]\n"
     ]
    },
    {
     "name": "stderr",
     "output_type": "stream",
     "text": [
      " 21%|██        | 22/105 [00:58<03:18,  2.39s/it]"
     ]
    },
    {
     "name": "stdout",
     "output_type": "stream",
     "text": [
      "Are there any significant gameplay improvements or new features introduced in Watch_Dogs 2?\n",
      "[{'appid': '2322010', 'review': 'Why is this 100% single player experience forcing me to sign in with PSN? I understand that some people are given the OPTION to sign in but for others ( like me) it\\'s a requirement. Why? When I launch the game it just says \"A PSN account is required to play.\" and then I can either sign in, or quit the game. WTF? I hated it when EA did it, I hated it when Microsoft did it. I EPSECIALLY hated it when Ubisoft did it (Seriously GFYS Ubisoft). And I hate it now with Playstation doing it. The difference is that God of War: Ragnarok has ZERO online features. I can somewhat understand for games that are multiplayer or have online features but a single player only game? That\\'s a hard no from me.\\n\\nEdit: To a few of the people who commented. Not everyone does copious amounts of research on every single requirement, recommended specs, and reads the TOS for every game they play. That\\'s a terrible argument and a completely unreasonable expectation. Stop making excuses for bad consumer practices. L corpo bootlicking.'}, {'appid': '2322010', 'review': \"If you played God of War (2018) and liked it, then you'll like Ragnarok as well. The combat is near identical save for a few tweaks to how effective the Runic Attacks are and some new added skills and abilities. The story is very good and engaging, the side quests are also not a chore to complete so exploration is fun. The issue I've had comes with the game crashing every now and then. It'll freeze up and crash maybe once every 2 hours or so, which should not be happening considering my PC specs are well above the minimum requirements for the game. I don't have this issue with any other modern games so I can only assume something is happening with Ragnarok specifically. It can be annoying but it auto-saves frequently and doesn't occur often enough to make the game unplayable, but for a full price AAA game, I still find it unacceptable.\"}]\n"
     ]
    },
    {
     "name": "stderr",
     "output_type": "stream",
     "text": [
      " 22%|██▏       | 23/105 [01:01<03:24,  2.50s/it]"
     ]
    },
    {
     "name": "stdout",
     "output_type": "stream",
     "text": [
      "Is the overall tone of Watch_Dogs 2 more comedic and less serious than its predecessor?\n",
      "[{'appid': '2322010', 'review': \"[h1]A Great Sequel, Held Back by Woke[/h1]\\n\\n[h3]Introduction[/h3]\\n\\nI played God of War: Ragnarök earlier this year on my PS5, spending over 90 hours to get the platinum for both the base game and the Valhalla DLC. You can check my stats and trophies here from the comments. After all those hours of gameplay, I can confidently say that Ragnarök delivers a great experience, though it has some issues that hold it back from being a masterpiece like its predecessor.\\n\\n[h3]Not Just a DLC[/h3] \\n \\nOne of the biggest criticisms people have thrown at Ragnarök is that it feels like a glorified DLC of the 2018 game, but I strongly disagree with that take. Sure, it has a similar design and gameplay structure, but that doesn’t make it a mere DLC. There’s more than enough new content, including new realms, characters, and abilities, to call it a full-fledged sequel. The combat, which was already excellent in God of War 2018, feels more refined. Plus, the new variety of enemies and more boss fights elevate the action to another level.\\n\\n[h3]Expanded Gameplay and Content[/h3] \\n\\nThe gameplay in Ragnarök is much more expanded compared to God of War 2018. There’s more variety in combat options, and the game offers deeper customization for your weapons, armor, and abilities, allowing players to tailor their playstyle in even more ways. Content-wise, the game also delivers far more to do, with a much richer world to explore. One major complaint about God of War 2018 was the repetitive enemy and boss fights. Thankfully, Ragnarök improves on this significantly. While there are still some repeated enemies and bosses, it happens far less often than in the previous game. One of the standout improvements in Ragnarök is the optional content. I've found them very fun to do and the same with hunting trophies once again, like the prequel. These side quests don’t feel like chores; they’re genuinely rewarding and worth doing. The post-launch Valhalla DLC is also a cool addition. While it’s much shorter than I expected and I wish there was more of it to sink into, but I can’t complain since it’s free.\\n\\n[h3]The Woke Influence[/h3]\\n\\nThere’s an undeniable feeling that Ragnarök leans into a more woke tone. This isn’t just a personal opinion. There’s actual evidence that points to this. The developers worked with Sweet Baby Inc., a company known for inclusive storytelling, and that influence is noticeable throughout the game. Certain plotlines and character decisions feel forced, and at times, the story becomes nonsensical. While this may not bother some players, I found it detracted from the experience, making the narrative feel weaker. Replacing Cory Barlog as the main director was a huge mistake.\\n\\nhttps://steamcommunity.com/sharedfiles/filedetails/?id=3210225946\\n\\n[h3]Story and Narrative Issues[/h3] \\n\\nNow, let’s talk about one of the game’s major drawbacks: the narrative. The 2018 game told a tight, focused narrative centered on the relationship between Kratos and Atreus. In contrast, Ragnarök introduces a lot more characters and plotlines, which can sometimes feel overwhelming. Unfortunately, the game doesn’t spend enough time fully developing these new elements, and as a result, the story feels rushed in certain parts. Instead of the tight, emotional focus of the first game, Ragnarök tries to do too much and wraps up many plot points too quickly. Compared to the more compact, well-told story of God of War 2018, Ragnarök struggles to find the same emotional depth and coherence. This is a huge bummer since I was really hoping for a great story and narrative after the bar set by the predecessor. \\n\\n[h3]Graphics – A Missed Opportunity[/h3]  \\n\\nVisually, Ragnarök is a step up from God of War 2018, but not by much. The graphics are definitely a little better, with sharper textures and improved lighting effects. However, I can't help but feel that the game’s visual potential was held back because it was also released for the PS4. If Ragnarök had been a PS5 exclusive, I think the graphics could have been way better and more impressive. By having to cater to last-gen hardware, the game wasn’t able to push the boundaries as far as it could have, which is a bit disappointing. Still, the game looked beautiful on the PS5 and I am sure it looks even better on PC.\\n\\n[h3]Music – Less Memorable[/h3]  \\n\\nSurprisingly, I didn’t enjoy Ragnarök’s soundtrack not even close to as I did the 2018 game's music. The composer, Bear McCreary, is the same for both, yet, the music in Ragnarök didn’t stick with me in the same way. That's because Ragnarök’s soundtrack mainly consists of redone versions of tracks from its predecessor, with not many new compositions that stand out. This lack of fresh and impactful new music made the soundtrack feel less original and less memorable. I still occasionally listen to God of War 2018’s soundtrack because it was so impactful, but I’ve never felt the urge to listen to Ragnarök’s music outside the game.\\n\\n[h3]Expands, But Doesn’t Elevate[/h3]\\n  \\nOverall, I feel like there’s not much more to say about God of War Ragnarök. The game’s strengths are obvious, and they are mostly the same as in 2018. I’ve also mentioned the negatives, such as the woke elements and narrative problems. On top of that, the fact that it plays so safe and similarly to God of War 2018, is a negative for me. When a sequel feels too close to its predecessor, it loses some of its impact for me. Don't get me wrong -Ragnarök is a great game, and I highly recommend it- it just doesn’t feel like the groundbreaking game that God of War 2018 was for me.\\n\\n[h1]GOLDEN MEDAL[/h1]\\n\\nFollow My [URL=https://store.steampowered.com/curator/40523765-Bearsonal/]Curator Page ⚜️[/URL]\"}, {'appid': '2322010', 'review': \"This game requires a playstation network account to play and the support for reactivating such an account is spotty at best. \\n\\nUnfortunate because I loved its predecessor.\\n\\nAt the time of writing I am unable to access my PSN account due to a recent two factor identification update that I was not aware of and have no way to provide. After navigating to the Playstation website and was routed through the problem FAQ's to contact customer service. Customer service connected me with a chatbot, which then got stuck in a loop informing me that customer service was not available at this time, despite being within operating hours, which it also provided. \\n\\nAfter several more attempts and an apparent alignment of supernatural forces, I was able to convince the chatbot to place me in the queue to live chat with an agent. At time of writing my position was well over 100 from being able to chat. All this to recover an account for a service I do not want, to play a game that I have purchased through a separate service. \\n\\nThis review will not change unless the PSN requirement is removed from the game.\"}]\n"
     ]
    },
    {
     "name": "stderr",
     "output_type": "stream",
     "text": [
      " 23%|██▎       | 24/105 [01:03<03:16,  2.43s/it]"
     ]
    },
    {
     "name": "stdout",
     "output_type": "stream",
     "text": [
      "Should I expect a well-optimized game experience if I purchase Watch_Dogs 2 on Steam?\n",
      "[{'appid': '2322010', 'review': \"God of War Ragnarok could have been an unforgettable experience on PC, but the unnecessary and nonsensical PSN/Sony account requirements tarnish what should have been a flawless port, and breaks offline play on Steam Deck. Sony, if you're reading this, stop shackling amazing games with terrible DRM and account dependencies. Especially single player games! Let us enjoy the game we paid for without the extra hoops.\"}, {'appid': '2322010', 'review': 'I can recommend this game to anyone who is allowed by Sony to buy it!\\nThe game is alright to play even today so long after it came out on PlayStation, runs very well on my hardware, looks pretty good and is good to play, it aged well. Devs went extra mile implementing framegen, upscaling, suround sound and proper HDR.\\nNow to why I do join the negative reviews. The thing is my brother lives in a country where this game is blocked to be purchased on Steam by Sony. Let me repeat myself - Steam platform is legal and supported in that country, but Sony said Valve to block their new games from said country. There is absolutely no reason to do this. No justification. I understand Sony is blocking some countries from their own platform - PSN for reasons, but telling Valve to block countries that Steam supports for any other game except all upcoming Sony published games is just complete disaster. My brother has even bought most of previous Sony games that are still to this day available on Steam for purchase, but all of a sudden all newly released and upcoming single player games are blocked.\\nThe dumbest part is that my brother was forced to move to one of EU countries, not some jungle or desert in middle of nowhere, it is EU country and Sony forced Valve to block the country for absolutely no reason from buying some single player games.\\nThis is just wrong, very very wrong!'}]\n"
     ]
    },
    {
     "name": "stderr",
     "output_type": "stream",
     "text": [
      " 24%|██▍       | 25/105 [01:06<03:28,  2.60s/it]"
     ]
    },
    {
     "name": "stdout",
     "output_type": "stream",
     "text": [
      "What type of game is Dustborn, and how does it combine different genres?\n",
      "[{'appid': '2322010', 'review': \"Having to sign in with a PS account is already annoying, but it will not allow me to access my account what so ever even after resetting my password. Also why does a PS account matter, i still have to repurchase this game or any of the other countless games that i have already own on PlayStation. I then tried to make a new account, I made a new gmail for this account and it still would not let me finish making it.  I can't play this game at the moment.\"}, {'appid': '2322010', 'review': \"Finished it, got all the achievements, now I can easily confirm that what I said earlier was true. The game is spectacular, it's just one of THOSE GAMES where you just want to forget everything the second you are done with the game just so you can play it for the first time again. I love the series, love the story, love the characters and especially creatures in the game. Also the DLC although kinda repetitive, still fun for a few hours and it's free so yeah. No horrible performance issues either = my mouse stopped working once (restart fixed it), dropped frames few times (it was for a few seconds so i'm cool with it), and my game dropped once (i have 72 hours and my game dropped ONCE) so idk what everyone else is talking about but it's in the state of playable for sure and jesus giving negative review because of PSN accounts when it's so easily avoidable is just annoying, the same way Sony is with forcing it on people. As I said before, go have fun with it!!\\n\\nOkay I usually make reviews after 100%ing the game, but this time I can't help myself but give it now because I feel like most of the negative reviews are either due to the PSN accounts (which don't get me wrong, it does really suck but I don't think the game deserve the hate for something Sony does, it's not fair to the people that gave it hundreds of hours creating, they really did not make that stupid decision) and the other ones are because of optimization? I did not stumble upon any big issues regarding that, if I don't count one boat floating in the air lmao. I had chills playing this game from the first minute, I can't wait what's ahead of me and these negative reviews should not make you reconsider buying the game. Trust me, if you liked the first one, you will love the second one:) I do not regret paying 60 euros for such a gem. Now go have fun with it!!\"}]\n"
     ]
    },
    {
     "name": "stderr",
     "output_type": "stream",
     "text": [
      " 25%|██▍       | 26/105 [01:09<03:36,  2.75s/it]"
     ]
    },
    {
     "name": "stdout",
     "output_type": "stream",
     "text": [
      "Is Dustborn expected to deliver a quality experience at launch, or is there a chance it might feel unfinished?\n",
      "[{'appid': '2322010', 'review': \"to God of War: Ragnarok Dev. Team,\\n\\nI’m writing to bring to your attention an issue regarding the current PC port of God of War: Ragnarok that affects users with 4GB VRAM graphics cards. When attempting to launch the game on such systems, an error message is displayed, indicating that there is not enough VRAM, and the game closes without allowing users to proceed. It is my humble request to kindly reconsider or remove this VRAM limitation. From personal experience and community feedback, I can confirm that the game runs well on certain integrated graphics processors (such as the Ryzen 3 3200G, Ryzen 5 3400G, and Ryzen 7 5700G), which are generally weaker than many 4GB VRAM GPUs available today. God of War: Ragnarok performs on the base PlayStation 4, which further suggests that the game should be capable of running on 4GB VRAM graphics cards, and the latest Steam Hardware Survey shows that one of the most widely used graphics cards among gamers is the GTX 1650, which comes with 4GB of VRAM and is ranked within the top three most popular cards. Limiting access to such a significant portion of the player base can potentially prevent many from enjoying your incredible game. Removing or adjusting this VRAM limitation would greatly benefit the gaming community, ensuring that a larger audience can experience God of War: Ragnarok on PC!\\n\\nEDIT : there’s a workaround and you can bypass this VRAM limit error by using a mod. ( MOD LINK : https://www.nexusmods.com/godofwarragnarok/mods/12?tab=files ) To install it, just drag and drop the files into the game's root folder, and the game should launch without any issues. It's unclear why Jetpack Interactive locked out 4GB VRAM cards, especially since the game runs just fine on them!\"}, {'appid': '2322010', 'review': 'Why is this 100% single player experience forcing me to sign in with PSN? I understand that some people are given the OPTION to sign in but for others ( like me) it\\'s a requirement. Why? When I launch the game it just says \"A PSN account is required to play.\" and then I can either sign in, or quit the game. WTF? I hated it when EA did it, I hated it when Microsoft did it. I EPSECIALLY hated it when Ubisoft did it (Seriously GFYS Ubisoft). And I hate it now with Playstation doing it. The difference is that God of War: Ragnarok has ZERO online features. I can somewhat understand for games that are multiplayer or have online features but a single player only game? That\\'s a hard no from me.\\n\\nEdit: To a few of the people who commented. Not everyone does copious amounts of research on every single requirement, recommended specs, and reads the TOS for every game they play. That\\'s a terrible argument and a completely unreasonable expectation. Stop making excuses for bad consumer practices. L corpo bootlicking.'}]\n"
     ]
    },
    {
     "name": "stderr",
     "output_type": "stream",
     "text": [
      " 26%|██▌       | 27/105 [01:11<03:22,  2.59s/it]"
     ]
    },
    {
     "name": "stdout",
     "output_type": "stream",
     "text": [
      "Are there any details about the gameplay mechanics in Dustborn that could affect my enjoyment of the game?\n",
      "[{'appid': '2322010', 'review': \"[h1]A Great Sequel, Held Back by Woke[/h1]\\n\\n[h3]Introduction[/h3]\\n\\nI played God of War: Ragnarök earlier this year on my PS5, spending over 90 hours to get the platinum for both the base game and the Valhalla DLC. You can check my stats and trophies here from the comments. After all those hours of gameplay, I can confidently say that Ragnarök delivers a great experience, though it has some issues that hold it back from being a masterpiece like its predecessor.\\n\\n[h3]Not Just a DLC[/h3] \\n \\nOne of the biggest criticisms people have thrown at Ragnarök is that it feels like a glorified DLC of the 2018 game, but I strongly disagree with that take. Sure, it has a similar design and gameplay structure, but that doesn’t make it a mere DLC. There’s more than enough new content, including new realms, characters, and abilities, to call it a full-fledged sequel. The combat, which was already excellent in God of War 2018, feels more refined. Plus, the new variety of enemies and more boss fights elevate the action to another level.\\n\\n[h3]Expanded Gameplay and Content[/h3] \\n\\nThe gameplay in Ragnarök is much more expanded compared to God of War 2018. There’s more variety in combat options, and the game offers deeper customization for your weapons, armor, and abilities, allowing players to tailor their playstyle in even more ways. Content-wise, the game also delivers far more to do, with a much richer world to explore. One major complaint about God of War 2018 was the repetitive enemy and boss fights. Thankfully, Ragnarök improves on this significantly. While there are still some repeated enemies and bosses, it happens far less often than in the previous game. One of the standout improvements in Ragnarök is the optional content. I've found them very fun to do and the same with hunting trophies once again, like the prequel. These side quests don’t feel like chores; they’re genuinely rewarding and worth doing. The post-launch Valhalla DLC is also a cool addition. While it’s much shorter than I expected and I wish there was more of it to sink into, but I can’t complain since it’s free.\\n\\n[h3]The Woke Influence[/h3]\\n\\nThere’s an undeniable feeling that Ragnarök leans into a more woke tone. This isn’t just a personal opinion. There’s actual evidence that points to this. The developers worked with Sweet Baby Inc., a company known for inclusive storytelling, and that influence is noticeable throughout the game. Certain plotlines and character decisions feel forced, and at times, the story becomes nonsensical. While this may not bother some players, I found it detracted from the experience, making the narrative feel weaker. Replacing Cory Barlog as the main director was a huge mistake.\\n\\nhttps://steamcommunity.com/sharedfiles/filedetails/?id=3210225946\\n\\n[h3]Story and Narrative Issues[/h3] \\n\\nNow, let’s talk about one of the game’s major drawbacks: the narrative. The 2018 game told a tight, focused narrative centered on the relationship between Kratos and Atreus. In contrast, Ragnarök introduces a lot more characters and plotlines, which can sometimes feel overwhelming. Unfortunately, the game doesn’t spend enough time fully developing these new elements, and as a result, the story feels rushed in certain parts. Instead of the tight, emotional focus of the first game, Ragnarök tries to do too much and wraps up many plot points too quickly. Compared to the more compact, well-told story of God of War 2018, Ragnarök struggles to find the same emotional depth and coherence. This is a huge bummer since I was really hoping for a great story and narrative after the bar set by the predecessor. \\n\\n[h3]Graphics – A Missed Opportunity[/h3]  \\n\\nVisually, Ragnarök is a step up from God of War 2018, but not by much. The graphics are definitely a little better, with sharper textures and improved lighting effects. However, I can't help but feel that the game’s visual potential was held back because it was also released for the PS4. If Ragnarök had been a PS5 exclusive, I think the graphics could have been way better and more impressive. By having to cater to last-gen hardware, the game wasn’t able to push the boundaries as far as it could have, which is a bit disappointing. Still, the game looked beautiful on the PS5 and I am sure it looks even better on PC.\\n\\n[h3]Music – Less Memorable[/h3]  \\n\\nSurprisingly, I didn’t enjoy Ragnarök’s soundtrack not even close to as I did the 2018 game's music. The composer, Bear McCreary, is the same for both, yet, the music in Ragnarök didn’t stick with me in the same way. That's because Ragnarök’s soundtrack mainly consists of redone versions of tracks from its predecessor, with not many new compositions that stand out. This lack of fresh and impactful new music made the soundtrack feel less original and less memorable. I still occasionally listen to God of War 2018’s soundtrack because it was so impactful, but I’ve never felt the urge to listen to Ragnarök’s music outside the game.\\n\\n[h3]Expands, But Doesn’t Elevate[/h3]\\n  \\nOverall, I feel like there’s not much more to say about God of War Ragnarök. The game’s strengths are obvious, and they are mostly the same as in 2018. I’ve also mentioned the negatives, such as the woke elements and narrative problems. On top of that, the fact that it plays so safe and similarly to God of War 2018, is a negative for me. When a sequel feels too close to its predecessor, it loses some of its impact for me. Don't get me wrong -Ragnarök is a great game, and I highly recommend it- it just doesn’t feel like the groundbreaking game that God of War 2018 was for me.\\n\\n[h1]GOLDEN MEDAL[/h1]\\n\\nFollow My [URL=https://store.steampowered.com/curator/40523765-Bearsonal/]Curator Page ⚜️[/URL]\"}, {'appid': '2322010', 'review': 'God of War Ragnarök is a one of a kind, unforgettable experience/journey. It is a direct sequel to 2018\\'s Santa Monica\\'s - God of War which won GOTY. I have played every single GOW game to 100% completion and the story of Kratos is unforgettable. From his origin to now, with his son Atreus, who also goes by the name of \"Loki\". \\n\\nI pre-ordered the collectors edition of GOW:R for my PS5 and, to this date, I do not regret a thing because this is what a story game (and collectors edition) should be like. \\n\\nBelow I will tell you why GOW:R is an unforgettable experience and I will also share my thoughts and opinions on the game but before I get into anything, a quick disclaimer below!!\\n\\n[b] This review is MY opinion, MY own personal experience and MY thoughts. I am brutally honest when it comes to reviewing games. If you do not like my opinion, my time or respect my personal experience, please move on. [/b] \\n\\n[h1][b] PSN REQUIRMENT/The only Con[/b][/h1] \\nSo I just want to start off by saying that the game does indeed require a PSN account to play the game which baffles me a little. Why does a SINGLE-PLAYER game require a THIRD-PARTY account to play on STEAM - the platform it is being launched on. \\n\\nNow, I do not mind to much personally because I own a PSN account but to the thousands of gamers/players out there that only use PC... Sony... you need to re-think this requirement because you are forcing players to make an account with your services to BOOST your \"apparent\" - players that own a PS console. \\n\\nEnough of this - now on to the review!!\\n\\n[h1][b] Pros [/b][/h1] \\n⚫The story is unforgettable. (no spoilers!!!)\\n⚫Not a single issue running the game at all. No freezing, stuttering, FPS drops... NOTHING. This is an unbelievable PC port. Bloodborne next?!?! Sony? Please?!!!\\n⚫The combat is so damn fluent just like 2018\\'s GOW! Throwing your leviathan axe, turning it to ice for more damage, the catch for recalling it is just so smooth. The parrying is skillbased and very rewarding as you can punish your foes witth a slew of different combos and then you have your blocking which you can pull a full 180 turn to cover your rear in combat showing Kratos\\'s Spartan reflexes.\\n⚫The boss fights... are just amazing. Figthing Thor, the god of thunder at tge start of the game was an absolute thrill ride to begin our epic journey across these realms. (only one I\\'m going to mention!!)\\n⚫Fighting giant mythological mini-boss\\'s that are extremely punishing on GIVE ME GOD OF WAR difficulty and the vast array of enemies in the game will have you perfecting your combat prowess from start to finish. \\n⚫The soundtrack is gorgeous!! I love it!\\n⚫Christopher Judge and Sunny Suljic really bring Kratos and Atreus to life and we all know the \"BOY\" statement by now! That\\'s not all, Freya is voiced by the talented Danielle Bisutti and Thor who is voiced by Ryan Hurst (known for Sons of Anarchy or The Walking Dead\\'s Omega).\\n⚫There is tonnes of lore, collectables and hidden little areas for you to explore! Remnants for one and Odins puzzles another. Not all collectables can be collected until you complete the game so you are in for a long journey!\\n⚫In any typical game you get side missions that are just downright boring and bland but in GOW:R they side quests REALLY standout as they add an unbelievable amount of character development behind them.\\n⚫The graphics are superb. Gorgeous even and picture-perfect-post-card worthy at times. \\n⚫You can freely explore several different realms, if you have played 2018\\'s GOW then you will know of Alfheim, which has been changed a little but for the better which makes it stand out amongst all the other realms! \\n⚫The attention to detail is phenomenal. This is what you call a WORK OF ART. A LABOR OF LOVE. You can tell the people that worked on GOW:R have true love and passion about the game!!!\\n⚫The old armour customisation has now been streamlined and has been made very straightforward. Now you can take your favourite piece of equipment with you from start to end of the game!! \\n⚫The puzzles are fun and new puzzles are introduced regularly which means you will not be doing the same thing over and over again for several hours till a new one comes into play.\\n\\n[h1][b] My Verdict [/b][/h1] \\nPhew... after all of that is said and done, I could go on and on and on in detail about each element of the game. Combat. Story. Graphics. Sound e.t.c but I cannot as Steam only allows a certain amount of words sadly but I think I have said enough for anyone looking to get into GOW:R!\\n\\nSo, would I recommend God of War Ragnarök. DAMN RIGHT I WOULD!!! This is what you call a \"VIDEO-GAME\" that is true to both it\\'s origins and it\\'s future! It is made with love and passion, clearly, and will forever me the highest standpoint for future games of it\\'s kind!\\n\\n[h1][b] 10/10 - GOTY worthy and undeniably unforgettable! A single-player game that blows away all others! [/b][/h1]'}]\n"
     ]
    },
    {
     "name": "stderr",
     "output_type": "stream",
     "text": [
      " 27%|██▋       | 28/105 [01:13<03:09,  2.46s/it]"
     ]
    },
    {
     "name": "stdout",
     "output_type": "stream",
     "text": [
      "Has the developer made any promises regarding the content or experience of Dustborn prior to its release?\n",
      "[{'appid': '2322010', 'review': \"No lifed this game on my four days off and it was an incredible journey. I saw other people commenting on how the ideas didn't seem to form together well, but I think everything has been tied off nicely, especially with the Valhalla mode added after the game's release. I'm both excited and curious to see what they do with future installments, if there will be any at all. The only thing that will suck is having to wait 1-2 years after the next game's release for it to come to PC, but I know the wait will definitely be worth it.\"}, {'appid': '2322010', 'review': \"to God of War: Ragnarok Dev. Team,\\n\\nI’m writing to bring to your attention an issue regarding the current PC port of God of War: Ragnarok that affects users with 4GB VRAM graphics cards. When attempting to launch the game on such systems, an error message is displayed, indicating that there is not enough VRAM, and the game closes without allowing users to proceed. It is my humble request to kindly reconsider or remove this VRAM limitation. From personal experience and community feedback, I can confirm that the game runs well on certain integrated graphics processors (such as the Ryzen 3 3200G, Ryzen 5 3400G, and Ryzen 7 5700G), which are generally weaker than many 4GB VRAM GPUs available today. God of War: Ragnarok performs on the base PlayStation 4, which further suggests that the game should be capable of running on 4GB VRAM graphics cards, and the latest Steam Hardware Survey shows that one of the most widely used graphics cards among gamers is the GTX 1650, which comes with 4GB of VRAM and is ranked within the top three most popular cards. Limiting access to such a significant portion of the player base can potentially prevent many from enjoying your incredible game. Removing or adjusting this VRAM limitation would greatly benefit the gaming community, ensuring that a larger audience can experience God of War: Ragnarok on PC!\\n\\nEDIT : there’s a workaround and you can bypass this VRAM limit error by using a mod. ( MOD LINK : https://www.nexusmods.com/godofwarragnarok/mods/12?tab=files ) To install it, just drag and drop the files into the game's root folder, and the game should launch without any issues. It's unclear why Jetpack Interactive locked out 4GB VRAM cards, especially since the game runs just fine on them!\"}]\n"
     ]
    },
    {
     "name": "stderr",
     "output_type": "stream",
     "text": [
      " 28%|██▊       | 29/105 [01:16<03:02,  2.40s/it]"
     ]
    },
    {
     "name": "stdout",
     "output_type": "stream",
     "text": [
      "Can I expect a seamless gaming experience with Dustborn on Steam without needing additional applications?\n",
      "[{'appid': '2322010', 'review': \"to God of War: Ragnarok Dev. Team,\\n\\nI’m writing to bring to your attention an issue regarding the current PC port of God of War: Ragnarok that affects users with 4GB VRAM graphics cards. When attempting to launch the game on such systems, an error message is displayed, indicating that there is not enough VRAM, and the game closes without allowing users to proceed. It is my humble request to kindly reconsider or remove this VRAM limitation. From personal experience and community feedback, I can confirm that the game runs well on certain integrated graphics processors (such as the Ryzen 3 3200G, Ryzen 5 3400G, and Ryzen 7 5700G), which are generally weaker than many 4GB VRAM GPUs available today. God of War: Ragnarok performs on the base PlayStation 4, which further suggests that the game should be capable of running on 4GB VRAM graphics cards, and the latest Steam Hardware Survey shows that one of the most widely used graphics cards among gamers is the GTX 1650, which comes with 4GB of VRAM and is ranked within the top three most popular cards. Limiting access to such a significant portion of the player base can potentially prevent many from enjoying your incredible game. Removing or adjusting this VRAM limitation would greatly benefit the gaming community, ensuring that a larger audience can experience God of War: Ragnarok on PC!\\n\\nEDIT : there’s a workaround and you can bypass this VRAM limit error by using a mod. ( MOD LINK : https://www.nexusmods.com/godofwarragnarok/mods/12?tab=files ) To install it, just drag and drop the files into the game's root folder, and the game should launch without any issues. It's unclear why Jetpack Interactive locked out 4GB VRAM cards, especially since the game runs just fine on them!\"}, {'appid': '2322010', 'review': \"God of War Ragnarok could have been an unforgettable experience on PC, but the unnecessary and nonsensical PSN/Sony account requirements tarnish what should have been a flawless port, and breaks offline play on Steam Deck. Sony, if you're reading this, stop shackling amazing games with terrible DRM and account dependencies. Especially single player games! Let us enjoy the game we paid for without the extra hoops.\"}]\n"
     ]
    },
    {
     "name": "stderr",
     "output_type": "stream",
     "text": [
      " 29%|██▊       | 30/105 [01:18<03:06,  2.49s/it]"
     ]
    },
    {
     "name": "stdout",
     "output_type": "stream",
     "text": [
      "Is the combat system in Suicide Squad: Kill the Justice League enjoyable and engaging?\n",
      "[{'appid': '2322010', 'review': 'Level design is on top, multiple puzzles and great award system. Each location is filled with treasures and focal guides. They tell the story here.\\n\\nThe story telling itself is great. GoW 2018, compared to Ragnarök, felt more \"hopeful\" and positive in a way, whilst Ragnarök setting feels like desperation and end of times (as it should tho). Great work of Santa Monica Studio.\\n\\nSpoiler [spoiler] Not a fan playing as Atreus. He\\'s got great moves and fun combat, but the Ironwood level was too long and boring in most parts. [/spoiler]\\n\\nAs for PSN account, I\\'ve had one before, so it took me literally a few seconds to log in. Not sure how the process goes for those who do not have any accounts, but the fact that it is required in order to play a singleplayer game sucks.\\n\\nGreat game tho.'}, {'appid': '2322010', 'review': \"If you played God of War (2018) and liked it, then you'll like Ragnarok as well. The combat is near identical save for a few tweaks to how effective the Runic Attacks are and some new added skills and abilities. The story is very good and engaging, the side quests are also not a chore to complete so exploration is fun. The issue I've had comes with the game crashing every now and then. It'll freeze up and crash maybe once every 2 hours or so, which should not be happening considering my PC specs are well above the minimum requirements for the game. I don't have this issue with any other modern games so I can only assume something is happening with Ragnarok specifically. It can be annoying but it auto-saves frequently and doesn't occur often enough to make the game unplayable, but for a full price AAA game, I still find it unacceptable.\"}]\n"
     ]
    },
    {
     "name": "stderr",
     "output_type": "stream",
     "text": [
      " 30%|██▉       | 31/105 [01:21<03:00,  2.44s/it]"
     ]
    },
    {
     "name": "stdout",
     "output_type": "stream",
     "text": [
      "Are there concerns about the game's political themes affecting the overall experience?\n",
      "[{'appid': '2322010', 'review': \"No lifed this game on my four days off and it was an incredible journey. I saw other people commenting on how the ideas didn't seem to form together well, but I think everything has been tied off nicely, especially with the Valhalla mode added after the game's release. I'm both excited and curious to see what they do with future installments, if there will be any at all. The only thing that will suck is having to wait 1-2 years after the next game's release for it to come to PC, but I know the wait will definitely be worth it.\"}, {'appid': '2322010', 'review': \"to God of War: Ragnarok Dev. Team,\\n\\nI’m writing to bring to your attention an issue regarding the current PC port of God of War: Ragnarok that affects users with 4GB VRAM graphics cards. When attempting to launch the game on such systems, an error message is displayed, indicating that there is not enough VRAM, and the game closes without allowing users to proceed. It is my humble request to kindly reconsider or remove this VRAM limitation. From personal experience and community feedback, I can confirm that the game runs well on certain integrated graphics processors (such as the Ryzen 3 3200G, Ryzen 5 3400G, and Ryzen 7 5700G), which are generally weaker than many 4GB VRAM GPUs available today. God of War: Ragnarok performs on the base PlayStation 4, which further suggests that the game should be capable of running on 4GB VRAM graphics cards, and the latest Steam Hardware Survey shows that one of the most widely used graphics cards among gamers is the GTX 1650, which comes with 4GB of VRAM and is ranked within the top three most popular cards. Limiting access to such a significant portion of the player base can potentially prevent many from enjoying your incredible game. Removing or adjusting this VRAM limitation would greatly benefit the gaming community, ensuring that a larger audience can experience God of War: Ragnarok on PC!\\n\\nEDIT : there’s a workaround and you can bypass this VRAM limit error by using a mod. ( MOD LINK : https://www.nexusmods.com/godofwarragnarok/mods/12?tab=files ) To install it, just drag and drop the files into the game's root folder, and the game should launch without any issues. It's unclear why Jetpack Interactive locked out 4GB VRAM cards, especially since the game runs just fine on them!\"}]\n"
     ]
    },
    {
     "name": "stderr",
     "output_type": "stream",
     "text": [
      " 30%|███       | 32/105 [01:23<02:52,  2.36s/it]"
     ]
    },
    {
     "name": "stdout",
     "output_type": "stream",
     "text": [
      "Given the review mentions poor combat mechanics, should I be cautious about purchasing the game?\n",
      "[{'appid': '2322010', 'review': \"When you boot up the game you are given 2 options: create a PSN account or quit the game... A PSN account being required for a single player game is bullshit. What if the servers go down? What if you live in a country where you can't create a PSN account? What if they release God of War 3 and decide people should play that instead? I think this will push people to pirate the game. Hopefully someone creates a mod to remove this completely unnecessary requirement.\"}, {'appid': '2322010', 'review': 'I\\'ve platinumed this game on PS5 already and 100% of the collectables already and highly recommend this game for the 10/10 story telling, an epic squeal to the reboot of 2018 GoW, and all around a fun hack and slash game that I love very much.\\n\\nBut this review is more about the morons on steam talking about how the game is bad because of the need of a PSN account because of \"stealing data\". My brother in Christ, if you\\'ve ever made an account for any online website/game you have already been a victim of it at some point. Don\\'t base your review off of one point to try and boycott a game. Like cope harder bozo'}]\n"
     ]
    },
    {
     "name": "stderr",
     "output_type": "stream",
     "text": [
      " 31%|███▏      | 33/105 [01:25<02:41,  2.24s/it]"
     ]
    },
    {
     "name": "stdout",
     "output_type": "stream",
     "text": [
      "Was the game released in a polished state, or are there signs of being unfinished?\n",
      "[{'appid': '2322010', 'review': \"The game is amazing and I'm really enjoying it, however I can't recommend it in it's current state. A single player game requiring a Sony PSN login and not being able to play it offline? Really Sony? Are you serious?\"}, {'appid': '2322010', 'review': \"Same problem as others here! Unfortunately, I found that after about 1 hour of play, the buttery smooth 120 frames turned into lousy performance (30FPS). I don't think it's due to my setup. The graphics card is a 4070 Super. I noticed that after time, the VRAM utilization was at 150% instead of the initial 60%. \\n\\nThe icons, subtitles and the entire UI also look unfinished!\\n\\n\\nToo bad, I was really looking forward to the game... Unfortunately, it's unplayable after an hour.\\n\\nThat's why I have to leave a bad rating for now! That should be better! :/\\n\\nEdit: \\nIt is a known problem. It is not due to my hardware. It doesn't make any sense - then I should have 30fps throughout. I'm just sick of being a beta tester for a game I paid 80 euros for.\\n\\nHere is a link to two discussions that deal with this topic:\\n\\nMemory Leak:\\nhttps://steamcommunity.com/app/2322010/discussions/0/4843147950366339026/\\n\\nUI / Icon problem:\\nhttps://steamcommunity.com/app/2322010/discussions/0/4843147760499953314/\"}]\n"
     ]
    },
    {
     "name": "stderr",
     "output_type": "stream",
     "text": [
      " 32%|███▏      | 34/105 [01:27<02:40,  2.26s/it]"
     ]
    },
    {
     "name": "stdout",
     "output_type": "stream",
     "text": [
      "How does the sale price compare to the perceived value of the game according to user reviews?\n",
      "[{'appid': '2322010', 'review': \"Finished it, got all the achievements, now I can easily confirm that what I said earlier was true. The game is spectacular, it's just one of THOSE GAMES where you just want to forget everything the second you are done with the game just so you can play it for the first time again. I love the series, love the story, love the characters and especially creatures in the game. Also the DLC although kinda repetitive, still fun for a few hours and it's free so yeah. No horrible performance issues either = my mouse stopped working once (restart fixed it), dropped frames few times (it was for a few seconds so i'm cool with it), and my game dropped once (i have 72 hours and my game dropped ONCE) so idk what everyone else is talking about but it's in the state of playable for sure and jesus giving negative review because of PSN accounts when it's so easily avoidable is just annoying, the same way Sony is with forcing it on people. As I said before, go have fun with it!!\\n\\nOkay I usually make reviews after 100%ing the game, but this time I can't help myself but give it now because I feel like most of the negative reviews are either due to the PSN accounts (which don't get me wrong, it does really suck but I don't think the game deserve the hate for something Sony does, it's not fair to the people that gave it hundreds of hours creating, they really did not make that stupid decision) and the other ones are because of optimization? I did not stumble upon any big issues regarding that, if I don't count one boat floating in the air lmao. I had chills playing this game from the first minute, I can't wait what's ahead of me and these negative reviews should not make you reconsider buying the game. Trust me, if you liked the first one, you will love the second one:) I do not regret paying 60 euros for such a gem. Now go have fun with it!!\"}, {'appid': '2322010', 'review': \"[h1]Good Overall, but something is funky with the performance[/h1]\\n\\nLook, it's God of War, Ragnarok. It's a good game--you've probably seen the reviews for the PS5 and PS4 version. It's got great combat, a great story, great graphics--the whole nine yards. \\n\\nI'm enjoying it so far, but as far as a PC port goes, there's... something not quite right. \\n\\nI have a fairly powerful PC (RTX 4070 TI, 5800x3D), and the overall framerate, even at native resolution (1440p) with DLAA enabled is good, but there's clearly some kind of issue with frame pacing. The average framerate is around 100 fps, in most scenarios--which is pretty darn good, especially for a single player game--but it just feels... [i]off[/i]. Stuttery and jerky, unsmooth despite an, on paper, rock solid framerate. \\n\\nIt seems to be related to two issues--the above mentioned frame pacing issue (something also shown by MSI afterburner, on my pc), as well as the fact that my monitors VRR just. Doesn't work properly with this game? It sometimes reduces the refresh rate, as it's supposed to, but most of the time it's stuck at the max value--240 hz. \\n\\nThere's possibly an issue with the latest Nvidea driver--reinstalling the driver seemed to fix this issue, at least at first, but I played the game again today and it was still an issue. The only solution was capping the frame rate--80 fps seems to work okay, and fits within my monitor's native refresh rate. \\n\\nOverall, it's good, and I'm rating it as good, but the performance issues are disappointing.\"}]\n"
     ]
    },
    {
     "name": "stderr",
     "output_type": "stream",
     "text": [
      " 33%|███▎      | 35/105 [01:30<02:48,  2.40s/it]"
     ]
    },
    {
     "name": "stdout",
     "output_type": "stream",
     "text": [
      "What are the major flaws in Watch Dogs: Legion that contributed to the negative review?\n",
      "[{'appid': '2322010', 'review': \"Finished it, got all the achievements, now I can easily confirm that what I said earlier was true. The game is spectacular, it's just one of THOSE GAMES where you just want to forget everything the second you are done with the game just so you can play it for the first time again. I love the series, love the story, love the characters and especially creatures in the game. Also the DLC although kinda repetitive, still fun for a few hours and it's free so yeah. No horrible performance issues either = my mouse stopped working once (restart fixed it), dropped frames few times (it was for a few seconds so i'm cool with it), and my game dropped once (i have 72 hours and my game dropped ONCE) so idk what everyone else is talking about but it's in the state of playable for sure and jesus giving negative review because of PSN accounts when it's so easily avoidable is just annoying, the same way Sony is with forcing it on people. As I said before, go have fun with it!!\\n\\nOkay I usually make reviews after 100%ing the game, but this time I can't help myself but give it now because I feel like most of the negative reviews are either due to the PSN accounts (which don't get me wrong, it does really suck but I don't think the game deserve the hate for something Sony does, it's not fair to the people that gave it hundreds of hours creating, they really did not make that stupid decision) and the other ones are because of optimization? I did not stumble upon any big issues regarding that, if I don't count one boat floating in the air lmao. I had chills playing this game from the first minute, I can't wait what's ahead of me and these negative reviews should not make you reconsider buying the game. Trust me, if you liked the first one, you will love the second one:) I do not regret paying 60 euros for such a gem. Now go have fun with it!!\"}, {'appid': '2322010', 'review': \"So far the game has been nothing but amazing - however, I do not agree with Sony forcing PC players to log into a PSN account, hence the negative review. Some people state that it is optional and can be skipped - maybe for them it was but not for me - I could either create an otherwise completely useless account (that for some reason needed my home address) to play a fully single player game or I could quit - yes, quit - a game I paid for.\\n\\nIn the end I did give in and create a PSN account since this is the only way for me to legally play this game I have been waiting for but I want to leave this negative review as a sign that I do not agree with Sony's practices of forcing PC players to use their account system for no good reason - because I do not consider collecting data and bloating the amount of PSN accounts to show their shareholders this artificial growth a good enough reason.\"}]\n"
     ]
    },
    {
     "name": "stderr",
     "output_type": "stream",
     "text": [
      " 34%|███▍      | 36/105 [01:32<02:45,  2.40s/it]"
     ]
    },
    {
     "name": "stdout",
     "output_type": "stream",
     "text": [
      "Does Watch Dogs: Legion offer a polished and optimized experience on release?\n",
      "[{'appid': '2322010', 'review': 'Ragnarok is more of everything that was great in the 2018 release, combined with the epic scale of the original trilogy. \\nThe continuing story is outstanding, with thoroughly developed characters along with so much lore to chew on. Looks incredible and features once again brilliant, heartfelt voice acting (and mocap). Exceptionally well crafted environments and realms make exploration so fun, especially with the way they evolve throughout the story. \\nCombat is as satisfying, brutal and rewarding as ever with some truly breathtaking boss fights. \\nAn undeniably superlative experience.'}, {'appid': '2322010', 'review': 'Poorly optimized port. Requires PNS login despite being a single player game. PSN will actively collect your information and even asks how much information they can collect from you for this single player game. Even on the lowest graphic settings, all inputs will either get dropped or will be delayed by upwards of an entire second. This game is unplayable.'}]\n"
     ]
    },
    {
     "name": "stderr",
     "output_type": "stream",
     "text": [
      " 35%|███▌      | 37/105 [01:35<03:00,  2.65s/it]"
     ]
    },
    {
     "name": "stdout",
     "output_type": "stream",
     "text": [
      "Were there any promises made about Watch Dogs: Legion that were not fulfilled?\n",
      "[{'appid': '2322010', 'review': \"I really wanted to give this game a thumbs up because it IS actually a good game, but the PSN requirement is stupid as hell and Sony needs to know that gamers will not stand for this. Not only did the PSN SDK fail to launch on Linux and prevented me from playing the game until I made it think that I was playing on a Steam Deck using the `SteamDeck=1 %command%` launch option, it also prevented users from regions unsupported by PSN from playing at all.\\n\\nSony, this is a single player game. Demanding an account sign up is just ridiculous and completely unnecessary. You're literally losing sales from players all over the world who want to play this otherwise amazing game. You're also making it difficult for paying customers on Steam Deck and Linux to play this game on the platform of their choice. You were gaining so much good will before with your PC ports. Gamers were literally double dipping and buying your games twice just to play on PC, but you've absolutely squandered that good will with the PSN requirement. Stop letting corporate managers fuck up your PC launches and start thinking about what gamers actually care about.\"}, {'appid': '2322010', 'review': 'I\\'ve platinumed this game on PS5 already and 100% of the collectables already and highly recommend this game for the 10/10 story telling, an epic squeal to the reboot of 2018 GoW, and all around a fun hack and slash game that I love very much.\\n\\nBut this review is more about the morons on steam talking about how the game is bad because of the need of a PSN account because of \"stealing data\". My brother in Christ, if you\\'ve ever made an account for any online website/game you have already been a victim of it at some point. Don\\'t base your review off of one point to try and boycott a game. Like cope harder bozo'}]\n"
     ]
    },
    {
     "name": "stderr",
     "output_type": "stream",
     "text": [
      " 36%|███▌      | 38/105 [01:38<02:49,  2.52s/it]"
     ]
    },
    {
     "name": "stdout",
     "output_type": "stream",
     "text": [
      "How does Watch Dogs: Legion perform in terms of technical issues and bugs on launch day?\n",
      "[{'appid': '2322010', 'review': \"Issues so far:\\n-Mouse not working\\n-Does not detect my 5.1 setup (literally every other game including GOW 2018 detects it)\\n-Completely crashed my graphics output\\n-The PSN account creation works perfectly\\n\\nGuys, learn from me and don't purchase this day one. Refunding the game and will probably pick for a sale if this shit is actually fixed. The only benefit of paying $60 nowadays is getting some beta testing experience on your resume.\"}, {'appid': '2322010', 'review': \"Fantastic so far. Basically a bigger, more fleshed out and prettier version of the last game with new worlds and biomes to explore, and new enemies to fight. Mostly the same type of gameplay, puzzle solving and banter between familiar characters. Though combat has been expanded with more combos and skills. So if you enjoyed GoW 2018, you'll feel right at home.\\n\\nThe day 2 patch fixed all the minor day-1 issues I had - performance is better, frame generation now works, audio balancing is fixed, and the low-resolution HUD graphics are fixed.\\n\\nOn a 4080 and i7 13700K, it's running at 160-200fps maxed out at 2560x1440. Looks and feels incredibly smooth.\"}]\n"
     ]
    },
    {
     "name": "stderr",
     "output_type": "stream",
     "text": [
      " 37%|███▋      | 39/105 [01:40<02:50,  2.59s/it]"
     ]
    },
    {
     "name": "stdout",
     "output_type": "stream",
     "text": [
      "Is it worth purchasing Watch Dogs: Legion on Steam considering the feedback received?\n",
      "[{'appid': '2322010', 'review': \"Absolutely terrible on boarding process. Why do I need a sony account for a single player game?\\n\\nI tried to create a sony account\\n\\nsony account requires age verification, this steam account is old enough to buy its own beer! \\n\\nAge verification process is either uploading a copy of ID, having a facial scan, or receiving an SMS, I dont have a camera so am limited to SMS... which doesn't work, The SMS didn't come through... I close and open to start again, still nothing, then I hit a rate limit. Now the connection to the server times out. I literally can't play the game I bought. Its taking longer to sign up for an account I dont want than it took to download the game\\n\\nAvoid purchasing this\"}, {'appid': '2322010', 'review': \"You do NOT need a PSN account. It's an optional option.\\nThere is an option for it on the main menu, but I've booted and started the game without touching it. I'm not sure why the notice is on the store page.\\n\\nI do have a PSN account for when I played the first game on my mates PS5. I also use it for the Horizon games. I purposefully did not sign in to test and sure enough, the game worked fine. Again, there are OPTIONS to log in and link to steam, but it's so far not Mandatory.\\n\\nNow I'll update this when I've actually put some time into the game. So far I've done the opening scene and put the dogs to bed.\"}]\n"
     ]
    },
    {
     "name": "stderr",
     "output_type": "stream",
     "text": [
      " 38%|███▊      | 40/105 [01:43<02:48,  2.59s/it]"
     ]
    },
    {
     "name": "stdout",
     "output_type": "stream",
     "text": [
      "What issues does the game For Honor have with matchmaking?\n",
      "[{'appid': '2322010', 'review': \"Finished it, got all the achievements, now I can easily confirm that what I said earlier was true. The game is spectacular, it's just one of THOSE GAMES where you just want to forget everything the second you are done with the game just so you can play it for the first time again. I love the series, love the story, love the characters and especially creatures in the game. Also the DLC although kinda repetitive, still fun for a few hours and it's free so yeah. No horrible performance issues either = my mouse stopped working once (restart fixed it), dropped frames few times (it was for a few seconds so i'm cool with it), and my game dropped once (i have 72 hours and my game dropped ONCE) so idk what everyone else is talking about but it's in the state of playable for sure and jesus giving negative review because of PSN accounts when it's so easily avoidable is just annoying, the same way Sony is with forcing it on people. As I said before, go have fun with it!!\\n\\nOkay I usually make reviews after 100%ing the game, but this time I can't help myself but give it now because I feel like most of the negative reviews are either due to the PSN accounts (which don't get me wrong, it does really suck but I don't think the game deserve the hate for something Sony does, it's not fair to the people that gave it hundreds of hours creating, they really did not make that stupid decision) and the other ones are because of optimization? I did not stumble upon any big issues regarding that, if I don't count one boat floating in the air lmao. I had chills playing this game from the first minute, I can't wait what's ahead of me and these negative reviews should not make you reconsider buying the game. Trust me, if you liked the first one, you will love the second one:) I do not regret paying 60 euros for such a gem. Now go have fun with it!!\"}, {'appid': '2322010', 'review': \"Having to sign in with a PS account is already annoying, but it will not allow me to access my account what so ever even after resetting my password. Also why does a PS account matter, i still have to repurchase this game or any of the other countless games that i have already own on PlayStation. I then tried to make a new account, I made a new gmail for this account and it still would not let me finish making it.  I can't play this game at the moment.\"}]\n"
     ]
    },
    {
     "name": "stderr",
     "output_type": "stream",
     "text": [
      " 39%|███▉      | 41/105 [01:45<02:31,  2.36s/it]"
     ]
    },
    {
     "name": "stdout",
     "output_type": "stream",
     "text": [
      "Is it common to face uneven team compositions like 3v1 in For Honor?\n",
      "[{'appid': '2322010', 'review': \"Just use a mod to bypass the PSN requirement.\\n\\nSeparate accounts for single-player games should never be required. I would understand if it was optional, but it's not (for SOME people it is, it depends on regions). People can view this as petty all they want, but stuff like this should not become common practice.\"}, {'appid': '2322010', 'review': \"Sorry to the Team who made the game, as it's brilliant so far, but as others I feel like I need to post a negative review for forcing the PSN account. Its not acceptable practice these days and unless we make a stand it will continue. Will happily change my review if this is fixed.\"}]\n"
     ]
    },
    {
     "name": "stderr",
     "output_type": "stream",
     "text": [
      " 40%|████      | 42/105 [01:47<02:33,  2.44s/it]"
     ]
    },
    {
     "name": "stdout",
     "output_type": "stream",
     "text": [
      "How many game modes are available in For Honor and how does it affect player count?\n",
      "[{'appid': '2322010', 'review': \"incredibly frustrating to see the enforcement of a PSN account for a SINGLE PLAYER game. No matter how good the game is, you shouldn't be forced to do that.\"}, {'appid': '2322010', 'review': 'Poorly optimized port. Requires PNS login despite being a single player game. PSN will actively collect your information and even asks how much information they can collect from you for this single player game. Even on the lowest graphic settings, all inputs will either get dropped or will be delayed by upwards of an entire second. This game is unplayable.'}]\n"
     ]
    },
    {
     "name": "stderr",
     "output_type": "stream",
     "text": [
      " 41%|████      | 43/105 [01:50<02:27,  2.37s/it]"
     ]
    },
    {
     "name": "stdout",
     "output_type": "stream",
     "text": [
      "What does the review suggest about the overall quality of For Honor?\n",
      "[{'appid': '2322010', 'review': 'I\\'ve platinumed this game on PS5 already and 100% of the collectables already and highly recommend this game for the 10/10 story telling, an epic squeal to the reboot of 2018 GoW, and all around a fun hack and slash game that I love very much.\\n\\nBut this review is more about the morons on steam talking about how the game is bad because of the need of a PSN account because of \"stealing data\". My brother in Christ, if you\\'ve ever made an account for any online website/game you have already been a victim of it at some point. Don\\'t base your review off of one point to try and boycott a game. Like cope harder bozo'}, {'appid': '2322010', 'review': \"Finished it, got all the achievements, now I can easily confirm that what I said earlier was true. The game is spectacular, it's just one of THOSE GAMES where you just want to forget everything the second you are done with the game just so you can play it for the first time again. I love the series, love the story, love the characters and especially creatures in the game. Also the DLC although kinda repetitive, still fun for a few hours and it's free so yeah. No horrible performance issues either = my mouse stopped working once (restart fixed it), dropped frames few times (it was for a few seconds so i'm cool with it), and my game dropped once (i have 72 hours and my game dropped ONCE) so idk what everyone else is talking about but it's in the state of playable for sure and jesus giving negative review because of PSN accounts when it's so easily avoidable is just annoying, the same way Sony is with forcing it on people. As I said before, go have fun with it!!\\n\\nOkay I usually make reviews after 100%ing the game, but this time I can't help myself but give it now because I feel like most of the negative reviews are either due to the PSN accounts (which don't get me wrong, it does really suck but I don't think the game deserve the hate for something Sony does, it's not fair to the people that gave it hundreds of hours creating, they really did not make that stupid decision) and the other ones are because of optimization? I did not stumble upon any big issues regarding that, if I don't count one boat floating in the air lmao. I had chills playing this game from the first minute, I can't wait what's ahead of me and these negative reviews should not make you reconsider buying the game. Trust me, if you liked the first one, you will love the second one:) I do not regret paying 60 euros for such a gem. Now go have fun with it!!\"}]\n"
     ]
    },
    {
     "name": "stderr",
     "output_type": "stream",
     "text": [
      " 42%|████▏     | 44/105 [01:52<02:30,  2.46s/it]"
     ]
    },
    {
     "name": "stdout",
     "output_type": "stream",
     "text": [
      "Would you recommend purchasing For Honor based on this review?\n",
      "[{'appid': '2322010', 'review': 'I\\'ve platinumed this game on PS5 already and 100% of the collectables already and highly recommend this game for the 10/10 story telling, an epic squeal to the reboot of 2018 GoW, and all around a fun hack and slash game that I love very much.\\n\\nBut this review is more about the morons on steam talking about how the game is bad because of the need of a PSN account because of \"stealing data\". My brother in Christ, if you\\'ve ever made an account for any online website/game you have already been a victim of it at some point. Don\\'t base your review off of one point to try and boycott a game. Like cope harder bozo'}, {'appid': '2322010', 'review': \"Absolutely terrible on boarding process. Why do I need a sony account for a single player game?\\n\\nI tried to create a sony account\\n\\nsony account requires age verification, this steam account is old enough to buy its own beer! \\n\\nAge verification process is either uploading a copy of ID, having a facial scan, or receiving an SMS, I dont have a camera so am limited to SMS... which doesn't work, The SMS didn't come through... I close and open to start again, still nothing, then I hit a rate limit. Now the connection to the server times out. I literally can't play the game I bought. Its taking longer to sign up for an account I dont want than it took to download the game\\n\\nAvoid purchasing this\"}]\n"
     ]
    },
    {
     "name": "stderr",
     "output_type": "stream",
     "text": [
      " 43%|████▎     | 45/105 [01:55<02:29,  2.48s/it]"
     ]
    },
    {
     "name": "stdout",
     "output_type": "stream",
     "text": [
      "What are the main issues mentioned in the review regarding the visual effects of Forspoken?\n",
      "[{'appid': '2322010', 'review': \"Finished it, got all the achievements, now I can easily confirm that what I said earlier was true. The game is spectacular, it's just one of THOSE GAMES where you just want to forget everything the second you are done with the game just so you can play it for the first time again. I love the series, love the story, love the characters and especially creatures in the game. Also the DLC although kinda repetitive, still fun for a few hours and it's free so yeah. No horrible performance issues either = my mouse stopped working once (restart fixed it), dropped frames few times (it was for a few seconds so i'm cool with it), and my game dropped once (i have 72 hours and my game dropped ONCE) so idk what everyone else is talking about but it's in the state of playable for sure and jesus giving negative review because of PSN accounts when it's so easily avoidable is just annoying, the same way Sony is with forcing it on people. As I said before, go have fun with it!!\\n\\nOkay I usually make reviews after 100%ing the game, but this time I can't help myself but give it now because I feel like most of the negative reviews are either due to the PSN accounts (which don't get me wrong, it does really suck but I don't think the game deserve the hate for something Sony does, it's not fair to the people that gave it hundreds of hours creating, they really did not make that stupid decision) and the other ones are because of optimization? I did not stumble upon any big issues regarding that, if I don't count one boat floating in the air lmao. I had chills playing this game from the first minute, I can't wait what's ahead of me and these negative reviews should not make you reconsider buying the game. Trust me, if you liked the first one, you will love the second one:) I do not regret paying 60 euros for such a gem. Now go have fun with it!!\"}, {'appid': '2322010', 'review': \"[h1]A Great Sequel, Held Back by Woke[/h1]\\n\\n[h3]Introduction[/h3]\\n\\nI played God of War: Ragnarök earlier this year on my PS5, spending over 90 hours to get the platinum for both the base game and the Valhalla DLC. You can check my stats and trophies here from the comments. After all those hours of gameplay, I can confidently say that Ragnarök delivers a great experience, though it has some issues that hold it back from being a masterpiece like its predecessor.\\n\\n[h3]Not Just a DLC[/h3] \\n \\nOne of the biggest criticisms people have thrown at Ragnarök is that it feels like a glorified DLC of the 2018 game, but I strongly disagree with that take. Sure, it has a similar design and gameplay structure, but that doesn’t make it a mere DLC. There’s more than enough new content, including new realms, characters, and abilities, to call it a full-fledged sequel. The combat, which was already excellent in God of War 2018, feels more refined. Plus, the new variety of enemies and more boss fights elevate the action to another level.\\n\\n[h3]Expanded Gameplay and Content[/h3] \\n\\nThe gameplay in Ragnarök is much more expanded compared to God of War 2018. There’s more variety in combat options, and the game offers deeper customization for your weapons, armor, and abilities, allowing players to tailor their playstyle in even more ways. Content-wise, the game also delivers far more to do, with a much richer world to explore. One major complaint about God of War 2018 was the repetitive enemy and boss fights. Thankfully, Ragnarök improves on this significantly. While there are still some repeated enemies and bosses, it happens far less often than in the previous game. One of the standout improvements in Ragnarök is the optional content. I've found them very fun to do and the same with hunting trophies once again, like the prequel. These side quests don’t feel like chores; they’re genuinely rewarding and worth doing. The post-launch Valhalla DLC is also a cool addition. While it’s much shorter than I expected and I wish there was more of it to sink into, but I can’t complain since it’s free.\\n\\n[h3]The Woke Influence[/h3]\\n\\nThere’s an undeniable feeling that Ragnarök leans into a more woke tone. This isn’t just a personal opinion. There’s actual evidence that points to this. The developers worked with Sweet Baby Inc., a company known for inclusive storytelling, and that influence is noticeable throughout the game. Certain plotlines and character decisions feel forced, and at times, the story becomes nonsensical. While this may not bother some players, I found it detracted from the experience, making the narrative feel weaker. Replacing Cory Barlog as the main director was a huge mistake.\\n\\nhttps://steamcommunity.com/sharedfiles/filedetails/?id=3210225946\\n\\n[h3]Story and Narrative Issues[/h3] \\n\\nNow, let’s talk about one of the game’s major drawbacks: the narrative. The 2018 game told a tight, focused narrative centered on the relationship between Kratos and Atreus. In contrast, Ragnarök introduces a lot more characters and plotlines, which can sometimes feel overwhelming. Unfortunately, the game doesn’t spend enough time fully developing these new elements, and as a result, the story feels rushed in certain parts. Instead of the tight, emotional focus of the first game, Ragnarök tries to do too much and wraps up many plot points too quickly. Compared to the more compact, well-told story of God of War 2018, Ragnarök struggles to find the same emotional depth and coherence. This is a huge bummer since I was really hoping for a great story and narrative after the bar set by the predecessor. \\n\\n[h3]Graphics – A Missed Opportunity[/h3]  \\n\\nVisually, Ragnarök is a step up from God of War 2018, but not by much. The graphics are definitely a little better, with sharper textures and improved lighting effects. However, I can't help but feel that the game’s visual potential was held back because it was also released for the PS4. If Ragnarök had been a PS5 exclusive, I think the graphics could have been way better and more impressive. By having to cater to last-gen hardware, the game wasn’t able to push the boundaries as far as it could have, which is a bit disappointing. Still, the game looked beautiful on the PS5 and I am sure it looks even better on PC.\\n\\n[h3]Music – Less Memorable[/h3]  \\n\\nSurprisingly, I didn’t enjoy Ragnarök’s soundtrack not even close to as I did the 2018 game's music. The composer, Bear McCreary, is the same for both, yet, the music in Ragnarök didn’t stick with me in the same way. That's because Ragnarök’s soundtrack mainly consists of redone versions of tracks from its predecessor, with not many new compositions that stand out. This lack of fresh and impactful new music made the soundtrack feel less original and less memorable. I still occasionally listen to God of War 2018’s soundtrack because it was so impactful, but I’ve never felt the urge to listen to Ragnarök’s music outside the game.\\n\\n[h3]Expands, But Doesn’t Elevate[/h3]\\n  \\nOverall, I feel like there’s not much more to say about God of War Ragnarök. The game’s strengths are obvious, and they are mostly the same as in 2018. I’ve also mentioned the negatives, such as the woke elements and narrative problems. On top of that, the fact that it plays so safe and similarly to God of War 2018, is a negative for me. When a sequel feels too close to its predecessor, it loses some of its impact for me. Don't get me wrong -Ragnarök is a great game, and I highly recommend it- it just doesn’t feel like the groundbreaking game that God of War 2018 was for me.\\n\\n[h1]GOLDEN MEDAL[/h1]\\n\\nFollow My [URL=https://store.steampowered.com/curator/40523765-Bearsonal/]Curator Page ⚜️[/URL]\"}]\n"
     ]
    },
    {
     "name": "stderr",
     "output_type": "stream",
     "text": [
      " 44%|████▍     | 46/105 [01:57<02:16,  2.32s/it]"
     ]
    },
    {
     "name": "stdout",
     "output_type": "stream",
     "text": [
      "How did the reviewer feel about the game's performance on their hardware?\n",
      "[{'appid': '2322010', 'review': \"No lifed this game on my four days off and it was an incredible journey. I saw other people commenting on how the ideas didn't seem to form together well, but I think everything has been tied off nicely, especially with the Valhalla mode added after the game's release. I'm both excited and curious to see what they do with future installments, if there will be any at all. The only thing that will suck is having to wait 1-2 years after the next game's release for it to come to PC, but I know the wait will definitely be worth it.\"}, {'appid': '2322010', 'review': \"Same problem as others here! Unfortunately, I found that after about 1 hour of play, the buttery smooth 120 frames turned into lousy performance (30FPS). I don't think it's due to my setup. The graphics card is a 4070 Super. I noticed that after time, the VRAM utilization was at 150% instead of the initial 60%. \\n\\nThe icons, subtitles and the entire UI also look unfinished!\\n\\n\\nToo bad, I was really looking forward to the game... Unfortunately, it's unplayable after an hour.\\n\\nThat's why I have to leave a bad rating for now! That should be better! :/\\n\\nEdit: \\nIt is a known problem. It is not due to my hardware. It doesn't make any sense - then I should have 30fps throughout. I'm just sick of being a beta tester for a game I paid 80 euros for.\\n\\nHere is a link to two discussions that deal with this topic:\\n\\nMemory Leak:\\nhttps://steamcommunity.com/app/2322010/discussions/0/4843147950366339026/\\n\\nUI / Icon problem:\\nhttps://steamcommunity.com/app/2322010/discussions/0/4843147760499953314/\"}]\n"
     ]
    },
    {
     "name": "stderr",
     "output_type": "stream",
     "text": [
      " 45%|████▍     | 47/105 [01:59<02:10,  2.26s/it]"
     ]
    },
    {
     "name": "stdout",
     "output_type": "stream",
     "text": [
      "What action did the reviewer take due to their dissatisfaction with Forspoken?\n",
      "[{'appid': '2322010', 'review': \"Finished it, got all the achievements, now I can easily confirm that what I said earlier was true. The game is spectacular, it's just one of THOSE GAMES where you just want to forget everything the second you are done with the game just so you can play it for the first time again. I love the series, love the story, love the characters and especially creatures in the game. Also the DLC although kinda repetitive, still fun for a few hours and it's free so yeah. No horrible performance issues either = my mouse stopped working once (restart fixed it), dropped frames few times (it was for a few seconds so i'm cool with it), and my game dropped once (i have 72 hours and my game dropped ONCE) so idk what everyone else is talking about but it's in the state of playable for sure and jesus giving negative review because of PSN accounts when it's so easily avoidable is just annoying, the same way Sony is with forcing it on people. As I said before, go have fun with it!!\\n\\nOkay I usually make reviews after 100%ing the game, but this time I can't help myself but give it now because I feel like most of the negative reviews are either due to the PSN accounts (which don't get me wrong, it does really suck but I don't think the game deserve the hate for something Sony does, it's not fair to the people that gave it hundreds of hours creating, they really did not make that stupid decision) and the other ones are because of optimization? I did not stumble upon any big issues regarding that, if I don't count one boat floating in the air lmao. I had chills playing this game from the first minute, I can't wait what's ahead of me and these negative reviews should not make you reconsider buying the game. Trust me, if you liked the first one, you will love the second one:) I do not regret paying 60 euros for such a gem. Now go have fun with it!!\"}, {'appid': '2322010', 'review': \"I really wanted to give this game a thumbs up because it IS actually a good game, but the PSN requirement is stupid as hell and Sony needs to know that gamers will not stand for this. Not only did the PSN SDK fail to launch on Linux and prevented me from playing the game until I made it think that I was playing on a Steam Deck using the `SteamDeck=1 %command%` launch option, it also prevented users from regions unsupported by PSN from playing at all.\\n\\nSony, this is a single player game. Demanding an account sign up is just ridiculous and completely unnecessary. You're literally losing sales from players all over the world who want to play this otherwise amazing game. You're also making it difficult for paying customers on Steam Deck and Linux to play this game on the platform of their choice. You were gaining so much good will before with your PC ports. Gamers were literally double dipping and buying your games twice just to play on PC, but you've absolutely squandered that good will with the PSN requirement. Stop letting corporate managers fuck up your PC launches and start thinking about what gamers actually care about.\"}]\n"
     ]
    },
    {
     "name": "stderr",
     "output_type": "stream",
     "text": [
      " 46%|████▌     | 48/105 [02:02<02:27,  2.59s/it]"
     ]
    },
    {
     "name": "stdout",
     "output_type": "stream",
     "text": [
      "Does the review suggest that the game's writing or character representation were problematic?\n",
      "[{'appid': '2322010', 'review': 'PSN account is mandatory with no option to skip. Refunded and will only re-buy and update this review if Sony makes the account optional. When creating an account, age verification is required via a third party (Yoti) which requires either facial scan, ID or mobile number. There is no law in my country (Ireland) requiring age verification for videogames, so Sony has no excuse for making this mandatory. The game also installs Playstation PC SDK Runtime and does not uninstall it when uninstalling the game.'}, {'appid': '2322010', 'review': \"This game requires a playstation network account to play and the support for reactivating such an account is spotty at best. \\n\\nUnfortunate because I loved its predecessor.\\n\\nAt the time of writing I am unable to access my PSN account due to a recent two factor identification update that I was not aware of and have no way to provide. After navigating to the Playstation website and was routed through the problem FAQ's to contact customer service. Customer service connected me with a chatbot, which then got stuck in a loop informing me that customer service was not available at this time, despite being within operating hours, which it also provided. \\n\\nAfter several more attempts and an apparent alignment of supernatural forces, I was able to convince the chatbot to place me in the queue to live chat with an agent. At time of writing my position was well over 100 from being able to chat. All this to recover an account for a service I do not want, to play a game that I have purchased through a separate service. \\n\\nThis review will not change unless the PSN requirement is removed from the game.\"}]\n"
     ]
    },
    {
     "name": "stderr",
     "output_type": "stream",
     "text": [
      " 47%|████▋     | 49/105 [02:05<02:23,  2.57s/it]"
     ]
    },
    {
     "name": "stdout",
     "output_type": "stream",
     "text": [
      "What reasons did the reviewer give for feeling that developers are becoming lazy with game releases?\n",
      "[{'appid': '2322010', 'review': \"I get why people are upset about the PlayStation account stuff. It sucks when developers stuff online features into a single-player game. But I don't even understand because I could play fine without logging in.  It sucks because those reviews are gonna turn people away from an incredible game. I'm only an hour in and i'm already feeling the nostalgia of playing GOW 2018 for the first time. So please, take all those reviews with a grain of salt and play the game if you really want to. The world won't end if you sign into or make a PlayStation account. Just enjoy the game.\"}, {'appid': '2322010', 'review': \"Having to connect your palystation account to play a single player game game is so fucking stupid. Tried to login to my old account that has been unused for like 10 years, but apparently they can't be used without permission from a family manager wich I can't fix without customer support, the customer support that of course goes off work at the exact time this game releases so i have to wait until tomorrow to try to fix things. Even without all my personal issues with connecting account having too connect it in the first place is something that taints what is probably an amazing game.\"}]\n"
     ]
    },
    {
     "name": "stderr",
     "output_type": "stream",
     "text": [
      " 48%|████▊     | 50/105 [02:07<02:20,  2.55s/it]"
     ]
    },
    {
     "name": "stdout",
     "output_type": "stream",
     "text": [
      "What are the key differences in gameplay mechanics compared to Assassin's Creed Odyssey that could affect my enjoyment of Valhalla?\n",
      "[{'appid': '2322010', 'review': \"[h1]A Great Sequel, Held Back by Woke[/h1]\\n\\n[h3]Introduction[/h3]\\n\\nI played God of War: Ragnarök earlier this year on my PS5, spending over 90 hours to get the platinum for both the base game and the Valhalla DLC. You can check my stats and trophies here from the comments. After all those hours of gameplay, I can confidently say that Ragnarök delivers a great experience, though it has some issues that hold it back from being a masterpiece like its predecessor.\\n\\n[h3]Not Just a DLC[/h3] \\n \\nOne of the biggest criticisms people have thrown at Ragnarök is that it feels like a glorified DLC of the 2018 game, but I strongly disagree with that take. Sure, it has a similar design and gameplay structure, but that doesn’t make it a mere DLC. There’s more than enough new content, including new realms, characters, and abilities, to call it a full-fledged sequel. The combat, which was already excellent in God of War 2018, feels more refined. Plus, the new variety of enemies and more boss fights elevate the action to another level.\\n\\n[h3]Expanded Gameplay and Content[/h3] \\n\\nThe gameplay in Ragnarök is much more expanded compared to God of War 2018. There’s more variety in combat options, and the game offers deeper customization for your weapons, armor, and abilities, allowing players to tailor their playstyle in even more ways. Content-wise, the game also delivers far more to do, with a much richer world to explore. One major complaint about God of War 2018 was the repetitive enemy and boss fights. Thankfully, Ragnarök improves on this significantly. While there are still some repeated enemies and bosses, it happens far less often than in the previous game. One of the standout improvements in Ragnarök is the optional content. I've found them very fun to do and the same with hunting trophies once again, like the prequel. These side quests don’t feel like chores; they’re genuinely rewarding and worth doing. The post-launch Valhalla DLC is also a cool addition. While it’s much shorter than I expected and I wish there was more of it to sink into, but I can’t complain since it’s free.\\n\\n[h3]The Woke Influence[/h3]\\n\\nThere’s an undeniable feeling that Ragnarök leans into a more woke tone. This isn’t just a personal opinion. There’s actual evidence that points to this. The developers worked with Sweet Baby Inc., a company known for inclusive storytelling, and that influence is noticeable throughout the game. Certain plotlines and character decisions feel forced, and at times, the story becomes nonsensical. While this may not bother some players, I found it detracted from the experience, making the narrative feel weaker. Replacing Cory Barlog as the main director was a huge mistake.\\n\\nhttps://steamcommunity.com/sharedfiles/filedetails/?id=3210225946\\n\\n[h3]Story and Narrative Issues[/h3] \\n\\nNow, let’s talk about one of the game’s major drawbacks: the narrative. The 2018 game told a tight, focused narrative centered on the relationship between Kratos and Atreus. In contrast, Ragnarök introduces a lot more characters and plotlines, which can sometimes feel overwhelming. Unfortunately, the game doesn’t spend enough time fully developing these new elements, and as a result, the story feels rushed in certain parts. Instead of the tight, emotional focus of the first game, Ragnarök tries to do too much and wraps up many plot points too quickly. Compared to the more compact, well-told story of God of War 2018, Ragnarök struggles to find the same emotional depth and coherence. This is a huge bummer since I was really hoping for a great story and narrative after the bar set by the predecessor. \\n\\n[h3]Graphics – A Missed Opportunity[/h3]  \\n\\nVisually, Ragnarök is a step up from God of War 2018, but not by much. The graphics are definitely a little better, with sharper textures and improved lighting effects. However, I can't help but feel that the game’s visual potential was held back because it was also released for the PS4. If Ragnarök had been a PS5 exclusive, I think the graphics could have been way better and more impressive. By having to cater to last-gen hardware, the game wasn’t able to push the boundaries as far as it could have, which is a bit disappointing. Still, the game looked beautiful on the PS5 and I am sure it looks even better on PC.\\n\\n[h3]Music – Less Memorable[/h3]  \\n\\nSurprisingly, I didn’t enjoy Ragnarök’s soundtrack not even close to as I did the 2018 game's music. The composer, Bear McCreary, is the same for both, yet, the music in Ragnarök didn’t stick with me in the same way. That's because Ragnarök’s soundtrack mainly consists of redone versions of tracks from its predecessor, with not many new compositions that stand out. This lack of fresh and impactful new music made the soundtrack feel less original and less memorable. I still occasionally listen to God of War 2018’s soundtrack because it was so impactful, but I’ve never felt the urge to listen to Ragnarök’s music outside the game.\\n\\n[h3]Expands, But Doesn’t Elevate[/h3]\\n  \\nOverall, I feel like there’s not much more to say about God of War Ragnarök. The game’s strengths are obvious, and they are mostly the same as in 2018. I’ve also mentioned the negatives, such as the woke elements and narrative problems. On top of that, the fact that it plays so safe and similarly to God of War 2018, is a negative for me. When a sequel feels too close to its predecessor, it loses some of its impact for me. Don't get me wrong -Ragnarök is a great game, and I highly recommend it- it just doesn’t feel like the groundbreaking game that God of War 2018 was for me.\\n\\n[h1]GOLDEN MEDAL[/h1]\\n\\nFollow My [URL=https://store.steampowered.com/curator/40523765-Bearsonal/]Curator Page ⚜️[/URL]\"}, {'appid': '2322010', 'review': \"No lifed this game on my four days off and it was an incredible journey. I saw other people commenting on how the ideas didn't seem to form together well, but I think everything has been tied off nicely, especially with the Valhalla mode added after the game's release. I'm both excited and curious to see what they do with future installments, if there will be any at all. The only thing that will suck is having to wait 1-2 years after the next game's release for it to come to PC, but I know the wait will definitely be worth it.\"}]\n"
     ]
    },
    {
     "name": "stderr",
     "output_type": "stream",
     "text": [
      " 49%|████▊     | 51/105 [02:10<02:13,  2.47s/it]"
     ]
    },
    {
     "name": "stdout",
     "output_type": "stream",
     "text": [
      "How does the stealth system in Assassin's Creed Valhalla compare to previous titles in the series?\n",
      "[{'appid': '2322010', 'review': \"I was anticipating the launch of this game on steam, since I'm a fan of the GOW series and also loved the setting of the previous GOW game. At first I didn't care having to create a PSN account, since in my region it is available. Anyway as soon as I started the game and had to log in to said PSN account it kept infinitely looping between me having to sign in and the default screen where you can either continue to the sighn-in page or quit the game. Any actions in trying to repair the files and re-installing the game have unfortunately failed. The PSN support, if you can call it that has also failed to provide a feasible solution. Only stating that it should work after the file verification.\\n\\nSo I chose to refund this product which leaves me disappointed, since I was looking forward to playing this game. Guess if they didn't choose to implement that PSN requirement, just as they didn't in the previous GOW everything would've worked fine.\"}, {'appid': '2322010', 'review': 'after hearing so many negative things about ragnarok, having 100%ed the game now i have to say. glad i didnt listen and played it myself. game is peak, combat is a massive improvement over the first, the realms are more fleshed out then in the first game. the story while not being as tightly written as the first is still awesome, a good finale story to end off the norse saga. my only big negative of the game is the countless walk and talks and atreus secions. they end up making the game harder to replay then the first and replayablity is a big important thing to me. the added roguelike mode does help with this but even it has some things i dont like, the patheing for it is 3 fights, a valhalla chose fight then a boss, then a greek arena to do a couple fights then a tyr fight. really wish they added an infinite mode for it cause when i wana hop in and do that comabt it would of been perfect.\\r\\n\\r\\nbut yea to give my final thoughts, game good go play it.'}]\n"
     ]
    },
    {
     "name": "stderr",
     "output_type": "stream",
     "text": [
      " 50%|████▉     | 52/105 [02:12<02:06,  2.38s/it]"
     ]
    },
    {
     "name": "stdout",
     "output_type": "stream",
     "text": [
      "Are players generally satisfied with Valhalla's assassination features compared to other games in the franchise?\n",
      "[{'appid': '2322010', 'review': 'Why is this 100% single player experience forcing me to sign in with PSN? I understand that some people are given the OPTION to sign in but for others ( like me) it\\'s a requirement. Why? When I launch the game it just says \"A PSN account is required to play.\" and then I can either sign in, or quit the game. WTF? I hated it when EA did it, I hated it when Microsoft did it. I EPSECIALLY hated it when Ubisoft did it (Seriously GFYS Ubisoft). And I hate it now with Playstation doing it. The difference is that God of War: Ragnarok has ZERO online features. I can somewhat understand for games that are multiplayer or have online features but a single player only game? That\\'s a hard no from me.\\n\\nEdit: To a few of the people who commented. Not everyone does copious amounts of research on every single requirement, recommended specs, and reads the TOS for every game they play. That\\'s a terrible argument and a completely unreasonable expectation. Stop making excuses for bad consumer practices. L corpo bootlicking.'}, {'appid': '2322010', 'review': \"I get why people are upset about the PlayStation account stuff. It sucks when developers stuff online features into a single-player game. But I don't even understand because I could play fine without logging in.  It sucks because those reviews are gonna turn people away from an incredible game. I'm only an hour in and i'm already feeling the nostalgia of playing GOW 2018 for the first time. So please, take all those reviews with a grain of salt and play the game if you really want to. The world won't end if you sign into or make a PlayStation account. Just enjoy the game.\"}]\n"
     ]
    },
    {
     "name": "stderr",
     "output_type": "stream",
     "text": [
      " 50%|█████     | 53/105 [02:15<02:17,  2.64s/it]"
     ]
    },
    {
     "name": "stdout",
     "output_type": "stream",
     "text": [
      "What reasons do many reviews cite for recommending a refund for Assassin's Creed Valhalla?\n",
      "[{'appid': '2322010', 'review': 'I can recommend this game to anyone who is allowed by Sony to buy it!\\nThe game is alright to play even today so long after it came out on PlayStation, runs very well on my hardware, looks pretty good and is good to play, it aged well. Devs went extra mile implementing framegen, upscaling, suround sound and proper HDR.\\nNow to why I do join the negative reviews. The thing is my brother lives in a country where this game is blocked to be purchased on Steam by Sony. Let me repeat myself - Steam platform is legal and supported in that country, but Sony said Valve to block their new games from said country. There is absolutely no reason to do this. No justification. I understand Sony is blocking some countries from their own platform - PSN for reasons, but telling Valve to block countries that Steam supports for any other game except all upcoming Sony published games is just complete disaster. My brother has even bought most of previous Sony games that are still to this day available on Steam for purchase, but all of a sudden all newly released and upcoming single player games are blocked.\\nThe dumbest part is that my brother was forced to move to one of EU countries, not some jungle or desert in middle of nowhere, it is EU country and Sony forced Valve to block the country for absolutely no reason from buying some single player games.\\nThis is just wrong, very very wrong!'}, {'appid': '2322010', 'review': \"No lifed this game on my four days off and it was an incredible journey. I saw other people commenting on how the ideas didn't seem to form together well, but I think everything has been tied off nicely, especially with the Valhalla mode added after the game's release. I'm both excited and curious to see what they do with future installments, if there will be any at all. The only thing that will suck is having to wait 1-2 years after the next game's release for it to come to PC, but I know the wait will definitely be worth it.\"}]\n"
     ]
    },
    {
     "name": "stderr",
     "output_type": "stream",
     "text": [
      " 51%|█████▏    | 54/105 [02:17<02:04,  2.44s/it]"
     ]
    },
    {
     "name": "stdout",
     "output_type": "stream",
     "text": [
      "Is there a strong enough emphasis on storytelling and character development in Valhalla to warrant playing it despite the negative feedback?\n",
      "[{'appid': '2322010', 'review': 'after hearing so many negative things about ragnarok, having 100%ed the game now i have to say. glad i didnt listen and played it myself. game is peak, combat is a massive improvement over the first, the realms are more fleshed out then in the first game. the story while not being as tightly written as the first is still awesome, a good finale story to end off the norse saga. my only big negative of the game is the countless walk and talks and atreus secions. they end up making the game harder to replay then the first and replayablity is a big important thing to me. the added roguelike mode does help with this but even it has some things i dont like, the patheing for it is 3 fights, a valhalla chose fight then a boss, then a greek arena to do a couple fights then a tyr fight. really wish they added an infinite mode for it cause when i wana hop in and do that comabt it would of been perfect.\\r\\n\\r\\nbut yea to give my final thoughts, game good go play it.'}, {'appid': '2322010', 'review': \"[h1]A Great Sequel, Held Back by Woke[/h1]\\n\\n[h3]Introduction[/h3]\\n\\nI played God of War: Ragnarök earlier this year on my PS5, spending over 90 hours to get the platinum for both the base game and the Valhalla DLC. You can check my stats and trophies here from the comments. After all those hours of gameplay, I can confidently say that Ragnarök delivers a great experience, though it has some issues that hold it back from being a masterpiece like its predecessor.\\n\\n[h3]Not Just a DLC[/h3] \\n \\nOne of the biggest criticisms people have thrown at Ragnarök is that it feels like a glorified DLC of the 2018 game, but I strongly disagree with that take. Sure, it has a similar design and gameplay structure, but that doesn’t make it a mere DLC. There’s more than enough new content, including new realms, characters, and abilities, to call it a full-fledged sequel. The combat, which was already excellent in God of War 2018, feels more refined. Plus, the new variety of enemies and more boss fights elevate the action to another level.\\n\\n[h3]Expanded Gameplay and Content[/h3] \\n\\nThe gameplay in Ragnarök is much more expanded compared to God of War 2018. There’s more variety in combat options, and the game offers deeper customization for your weapons, armor, and abilities, allowing players to tailor their playstyle in even more ways. Content-wise, the game also delivers far more to do, with a much richer world to explore. One major complaint about God of War 2018 was the repetitive enemy and boss fights. Thankfully, Ragnarök improves on this significantly. While there are still some repeated enemies and bosses, it happens far less often than in the previous game. One of the standout improvements in Ragnarök is the optional content. I've found them very fun to do and the same with hunting trophies once again, like the prequel. These side quests don’t feel like chores; they’re genuinely rewarding and worth doing. The post-launch Valhalla DLC is also a cool addition. While it’s much shorter than I expected and I wish there was more of it to sink into, but I can’t complain since it’s free.\\n\\n[h3]The Woke Influence[/h3]\\n\\nThere’s an undeniable feeling that Ragnarök leans into a more woke tone. This isn’t just a personal opinion. There’s actual evidence that points to this. The developers worked with Sweet Baby Inc., a company known for inclusive storytelling, and that influence is noticeable throughout the game. Certain plotlines and character decisions feel forced, and at times, the story becomes nonsensical. While this may not bother some players, I found it detracted from the experience, making the narrative feel weaker. Replacing Cory Barlog as the main director was a huge mistake.\\n\\nhttps://steamcommunity.com/sharedfiles/filedetails/?id=3210225946\\n\\n[h3]Story and Narrative Issues[/h3] \\n\\nNow, let’s talk about one of the game’s major drawbacks: the narrative. The 2018 game told a tight, focused narrative centered on the relationship between Kratos and Atreus. In contrast, Ragnarök introduces a lot more characters and plotlines, which can sometimes feel overwhelming. Unfortunately, the game doesn’t spend enough time fully developing these new elements, and as a result, the story feels rushed in certain parts. Instead of the tight, emotional focus of the first game, Ragnarök tries to do too much and wraps up many plot points too quickly. Compared to the more compact, well-told story of God of War 2018, Ragnarök struggles to find the same emotional depth and coherence. This is a huge bummer since I was really hoping for a great story and narrative after the bar set by the predecessor. \\n\\n[h3]Graphics – A Missed Opportunity[/h3]  \\n\\nVisually, Ragnarök is a step up from God of War 2018, but not by much. The graphics are definitely a little better, with sharper textures and improved lighting effects. However, I can't help but feel that the game’s visual potential was held back because it was also released for the PS4. If Ragnarök had been a PS5 exclusive, I think the graphics could have been way better and more impressive. By having to cater to last-gen hardware, the game wasn’t able to push the boundaries as far as it could have, which is a bit disappointing. Still, the game looked beautiful on the PS5 and I am sure it looks even better on PC.\\n\\n[h3]Music – Less Memorable[/h3]  \\n\\nSurprisingly, I didn’t enjoy Ragnarök’s soundtrack not even close to as I did the 2018 game's music. The composer, Bear McCreary, is the same for both, yet, the music in Ragnarök didn’t stick with me in the same way. That's because Ragnarök’s soundtrack mainly consists of redone versions of tracks from its predecessor, with not many new compositions that stand out. This lack of fresh and impactful new music made the soundtrack feel less original and less memorable. I still occasionally listen to God of War 2018’s soundtrack because it was so impactful, but I’ve never felt the urge to listen to Ragnarök’s music outside the game.\\n\\n[h3]Expands, But Doesn’t Elevate[/h3]\\n  \\nOverall, I feel like there’s not much more to say about God of War Ragnarök. The game’s strengths are obvious, and they are mostly the same as in 2018. I’ve also mentioned the negatives, such as the woke elements and narrative problems. On top of that, the fact that it plays so safe and similarly to God of War 2018, is a negative for me. When a sequel feels too close to its predecessor, it loses some of its impact for me. Don't get me wrong -Ragnarök is a great game, and I highly recommend it- it just doesn’t feel like the groundbreaking game that God of War 2018 was for me.\\n\\n[h1]GOLDEN MEDAL[/h1]\\n\\nFollow My [URL=https://store.steampowered.com/curator/40523765-Bearsonal/]Curator Page ⚜️[/URL]\"}]\n"
     ]
    },
    {
     "name": "stderr",
     "output_type": "stream",
     "text": [
      " 52%|█████▏    | 55/105 [02:20<02:04,  2.49s/it]"
     ]
    },
    {
     "name": "stdout",
     "output_type": "stream",
     "text": [
      "How does Flintlock: The Siege of Dawn balance its combat system between melee and ranged options?\n",
      "[{'appid': '2322010', 'review': \"This is more then just a game, it's an experience. Full of the cleanest animations and fight scenes to the uncountable amount of dialog between characters that builds them along with the story. For a game centered around gods, it does an amazing job at making me feel pleasantly human. I have nothing but love and adoration for this game.\"}, {'appid': '2322010', 'review': 'Level design is on top, multiple puzzles and great award system. Each location is filled with treasures and focal guides. They tell the story here.\\n\\nThe story telling itself is great. GoW 2018, compared to Ragnarök, felt more \"hopeful\" and positive in a way, whilst Ragnarök setting feels like desperation and end of times (as it should tho). Great work of Santa Monica Studio.\\n\\nSpoiler [spoiler] Not a fan playing as Atreus. He\\'s got great moves and fun combat, but the Ironwood level was too long and boring in most parts. [/spoiler]\\n\\nAs for PSN account, I\\'ve had one before, so it took me literally a few seconds to log in. Not sure how the process goes for those who do not have any accounts, but the fact that it is required in order to play a singleplayer game sucks.\\n\\nGreat game tho.'}]\n"
     ]
    },
    {
     "name": "stderr",
     "output_type": "stream",
     "text": [
      " 53%|█████▎    | 56/105 [02:22<02:03,  2.53s/it]"
     ]
    },
    {
     "name": "stdout",
     "output_type": "stream",
     "text": [
      "Is the game designed for players who enjoy challenges similar to those found in Dark Souls?\n",
      "[{'appid': '2322010', 'review': \"I get why people are upset about the PlayStation account stuff. It sucks when developers stuff online features into a single-player game. But I don't even understand because I could play fine without logging in.  It sucks because those reviews are gonna turn people away from an incredible game. I'm only an hour in and i'm already feeling the nostalgia of playing GOW 2018 for the first time. So please, take all those reviews with a grain of salt and play the game if you really want to. The world won't end if you sign into or make a PlayStation account. Just enjoy the game.\"}, {'appid': '2322010', 'review': \"Sorry for the countries that cannot make PSN accounts and there for can't play the game I fully feel for you. Those of you that can and are complaining whomp whomp it ain't that hard at least you can play the game. Steam deck users, not sure why but I didnt have to log into PSN via steam deck for some odd reason. Pressed play, got a black screen briefly and then the game loaded.\\n\\nNow for people who want to know if this runs on the steam deck. I'm currently getting between 30-45 fps, low settings, AMD FSR 3.1 balanced , vsync off, fps limit off. Steam deck settings I've now locked the fps here as leaving it at 90fps I found it was a bit choppy. I've locked it to 36 fps and 1 hour in the game feels pretty damn smooth.\\n\\nEdit: after playing further into the game when reaching svartalfheim there was a pretty big tank in performance on the steam deck. Upon entering svartalfheim I got roughly 25-30 fps some times dropping to 20 fps, however, after reaching the free roam area via boat the performance increased. I am actually able to play AMD FSR Quality between 30-45 fps I've now unlocked the refresh rate via steam deck settings and it is smoother than when I previously locked  it to 36fps. Also thank you for the clown awards, free points and I can play the game in peace knowing I didn't have to log into PSN network and cry about it.\"}]\n"
     ]
    },
    {
     "name": "stderr",
     "output_type": "stream",
     "text": [
      " 54%|█████▍    | 57/105 [02:24<01:57,  2.46s/it]"
     ]
    },
    {
     "name": "stdout",
     "output_type": "stream",
     "text": [
      "Does the game experience any performance issues or appear to be unoptimized upon release?\n",
      "[{'appid': '2322010', 'review': \"No lifed this game on my four days off and it was an incredible journey. I saw other people commenting on how the ideas didn't seem to form together well, but I think everything has been tied off nicely, especially with the Valhalla mode added after the game's release. I'm both excited and curious to see what they do with future installments, if there will be any at all. The only thing that will suck is having to wait 1-2 years after the next game's release for it to come to PC, but I know the wait will definitely be worth it.\"}, {'appid': '2322010', 'review': \"Finished it, got all the achievements, now I can easily confirm that what I said earlier was true. The game is spectacular, it's just one of THOSE GAMES where you just want to forget everything the second you are done with the game just so you can play it for the first time again. I love the series, love the story, love the characters and especially creatures in the game. Also the DLC although kinda repetitive, still fun for a few hours and it's free so yeah. No horrible performance issues either = my mouse stopped working once (restart fixed it), dropped frames few times (it was for a few seconds so i'm cool with it), and my game dropped once (i have 72 hours and my game dropped ONCE) so idk what everyone else is talking about but it's in the state of playable for sure and jesus giving negative review because of PSN accounts when it's so easily avoidable is just annoying, the same way Sony is with forcing it on people. As I said before, go have fun with it!!\\n\\nOkay I usually make reviews after 100%ing the game, but this time I can't help myself but give it now because I feel like most of the negative reviews are either due to the PSN accounts (which don't get me wrong, it does really suck but I don't think the game deserve the hate for something Sony does, it's not fair to the people that gave it hundreds of hours creating, they really did not make that stupid decision) and the other ones are because of optimization? I did not stumble upon any big issues regarding that, if I don't count one boat floating in the air lmao. I had chills playing this game from the first minute, I can't wait what's ahead of me and these negative reviews should not make you reconsider buying the game. Trust me, if you liked the first one, you will love the second one:) I do not regret paying 60 euros for such a gem. Now go have fun with it!!\"}]\n"
     ]
    },
    {
     "name": "stderr",
     "output_type": "stream",
     "text": [
      " 55%|█████▌    | 58/105 [02:27<01:51,  2.37s/it]"
     ]
    },
    {
     "name": "stdout",
     "output_type": "stream",
     "text": [
      "Are there significant platforming elements in Flintlock that enhance the gameplay experience?\n",
      "[{'appid': '2322010', 'review': \"[h1]A Great Sequel, Held Back by Woke[/h1]\\n\\n[h3]Introduction[/h3]\\n\\nI played God of War: Ragnarök earlier this year on my PS5, spending over 90 hours to get the platinum for both the base game and the Valhalla DLC. You can check my stats and trophies here from the comments. After all those hours of gameplay, I can confidently say that Ragnarök delivers a great experience, though it has some issues that hold it back from being a masterpiece like its predecessor.\\n\\n[h3]Not Just a DLC[/h3] \\n \\nOne of the biggest criticisms people have thrown at Ragnarök is that it feels like a glorified DLC of the 2018 game, but I strongly disagree with that take. Sure, it has a similar design and gameplay structure, but that doesn’t make it a mere DLC. There’s more than enough new content, including new realms, characters, and abilities, to call it a full-fledged sequel. The combat, which was already excellent in God of War 2018, feels more refined. Plus, the new variety of enemies and more boss fights elevate the action to another level.\\n\\n[h3]Expanded Gameplay and Content[/h3] \\n\\nThe gameplay in Ragnarök is much more expanded compared to God of War 2018. There’s more variety in combat options, and the game offers deeper customization for your weapons, armor, and abilities, allowing players to tailor their playstyle in even more ways. Content-wise, the game also delivers far more to do, with a much richer world to explore. One major complaint about God of War 2018 was the repetitive enemy and boss fights. Thankfully, Ragnarök improves on this significantly. While there are still some repeated enemies and bosses, it happens far less often than in the previous game. One of the standout improvements in Ragnarök is the optional content. I've found them very fun to do and the same with hunting trophies once again, like the prequel. These side quests don’t feel like chores; they’re genuinely rewarding and worth doing. The post-launch Valhalla DLC is also a cool addition. While it’s much shorter than I expected and I wish there was more of it to sink into, but I can’t complain since it’s free.\\n\\n[h3]The Woke Influence[/h3]\\n\\nThere’s an undeniable feeling that Ragnarök leans into a more woke tone. This isn’t just a personal opinion. There’s actual evidence that points to this. The developers worked with Sweet Baby Inc., a company known for inclusive storytelling, and that influence is noticeable throughout the game. Certain plotlines and character decisions feel forced, and at times, the story becomes nonsensical. While this may not bother some players, I found it detracted from the experience, making the narrative feel weaker. Replacing Cory Barlog as the main director was a huge mistake.\\n\\nhttps://steamcommunity.com/sharedfiles/filedetails/?id=3210225946\\n\\n[h3]Story and Narrative Issues[/h3] \\n\\nNow, let’s talk about one of the game’s major drawbacks: the narrative. The 2018 game told a tight, focused narrative centered on the relationship between Kratos and Atreus. In contrast, Ragnarök introduces a lot more characters and plotlines, which can sometimes feel overwhelming. Unfortunately, the game doesn’t spend enough time fully developing these new elements, and as a result, the story feels rushed in certain parts. Instead of the tight, emotional focus of the first game, Ragnarök tries to do too much and wraps up many plot points too quickly. Compared to the more compact, well-told story of God of War 2018, Ragnarök struggles to find the same emotional depth and coherence. This is a huge bummer since I was really hoping for a great story and narrative after the bar set by the predecessor. \\n\\n[h3]Graphics – A Missed Opportunity[/h3]  \\n\\nVisually, Ragnarök is a step up from God of War 2018, but not by much. The graphics are definitely a little better, with sharper textures and improved lighting effects. However, I can't help but feel that the game’s visual potential was held back because it was also released for the PS4. If Ragnarök had been a PS5 exclusive, I think the graphics could have been way better and more impressive. By having to cater to last-gen hardware, the game wasn’t able to push the boundaries as far as it could have, which is a bit disappointing. Still, the game looked beautiful on the PS5 and I am sure it looks even better on PC.\\n\\n[h3]Music – Less Memorable[/h3]  \\n\\nSurprisingly, I didn’t enjoy Ragnarök’s soundtrack not even close to as I did the 2018 game's music. The composer, Bear McCreary, is the same for both, yet, the music in Ragnarök didn’t stick with me in the same way. That's because Ragnarök’s soundtrack mainly consists of redone versions of tracks from its predecessor, with not many new compositions that stand out. This lack of fresh and impactful new music made the soundtrack feel less original and less memorable. I still occasionally listen to God of War 2018’s soundtrack because it was so impactful, but I’ve never felt the urge to listen to Ragnarök’s music outside the game.\\n\\n[h3]Expands, But Doesn’t Elevate[/h3]\\n  \\nOverall, I feel like there’s not much more to say about God of War Ragnarök. The game’s strengths are obvious, and they are mostly the same as in 2018. I’ve also mentioned the negatives, such as the woke elements and narrative problems. On top of that, the fact that it plays so safe and similarly to God of War 2018, is a negative for me. When a sequel feels too close to its predecessor, it loses some of its impact for me. Don't get me wrong -Ragnarök is a great game, and I highly recommend it- it just doesn’t feel like the groundbreaking game that God of War 2018 was for me.\\n\\n[h1]GOLDEN MEDAL[/h1]\\n\\nFollow My [URL=https://store.steampowered.com/curator/40523765-Bearsonal/]Curator Page ⚜️[/URL]\"}, {'appid': '2322010', 'review': \"to God of War: Ragnarok Dev. Team,\\n\\nI’m writing to bring to your attention an issue regarding the current PC port of God of War: Ragnarok that affects users with 4GB VRAM graphics cards. When attempting to launch the game on such systems, an error message is displayed, indicating that there is not enough VRAM, and the game closes without allowing users to proceed. It is my humble request to kindly reconsider or remove this VRAM limitation. From personal experience and community feedback, I can confirm that the game runs well on certain integrated graphics processors (such as the Ryzen 3 3200G, Ryzen 5 3400G, and Ryzen 7 5700G), which are generally weaker than many 4GB VRAM GPUs available today. God of War: Ragnarok performs on the base PlayStation 4, which further suggests that the game should be capable of running on 4GB VRAM graphics cards, and the latest Steam Hardware Survey shows that one of the most widely used graphics cards among gamers is the GTX 1650, which comes with 4GB of VRAM and is ranked within the top three most popular cards. Limiting access to such a significant portion of the player base can potentially prevent many from enjoying your incredible game. Removing or adjusting this VRAM limitation would greatly benefit the gaming community, ensuring that a larger audience can experience God of War: Ragnarok on PC!\\n\\nEDIT : there’s a workaround and you can bypass this VRAM limit error by using a mod. ( MOD LINK : https://www.nexusmods.com/godofwarragnarok/mods/12?tab=files ) To install it, just drag and drop the files into the game's root folder, and the game should launch without any issues. It's unclear why Jetpack Interactive locked out 4GB VRAM cards, especially since the game runs just fine on them!\"}]\n"
     ]
    },
    {
     "name": "stderr",
     "output_type": "stream",
     "text": [
      " 56%|█████▌    | 59/105 [02:29<01:42,  2.23s/it]"
     ]
    },
    {
     "name": "stdout",
     "output_type": "stream",
     "text": [
      "Would you recommend Flintlock to players who prefer unfinished or unpolished games?\n",
      "[{'appid': '2322010', 'review': 'God of War Ragnarök is a one of a kind, unforgettable experience/journey. It is a direct sequel to 2018\\'s Santa Monica\\'s - God of War which won GOTY. I have played every single GOW game to 100% completion and the story of Kratos is unforgettable. From his origin to now, with his son Atreus, who also goes by the name of \"Loki\". \\n\\nI pre-ordered the collectors edition of GOW:R for my PS5 and, to this date, I do not regret a thing because this is what a story game (and collectors edition) should be like. \\n\\nBelow I will tell you why GOW:R is an unforgettable experience and I will also share my thoughts and opinions on the game but before I get into anything, a quick disclaimer below!!\\n\\n[b] This review is MY opinion, MY own personal experience and MY thoughts. I am brutally honest when it comes to reviewing games. If you do not like my opinion, my time or respect my personal experience, please move on. [/b] \\n\\n[h1][b] PSN REQUIRMENT/The only Con[/b][/h1] \\nSo I just want to start off by saying that the game does indeed require a PSN account to play the game which baffles me a little. Why does a SINGLE-PLAYER game require a THIRD-PARTY account to play on STEAM - the platform it is being launched on. \\n\\nNow, I do not mind to much personally because I own a PSN account but to the thousands of gamers/players out there that only use PC... Sony... you need to re-think this requirement because you are forcing players to make an account with your services to BOOST your \"apparent\" - players that own a PS console. \\n\\nEnough of this - now on to the review!!\\n\\n[h1][b] Pros [/b][/h1] \\n⚫The story is unforgettable. (no spoilers!!!)\\n⚫Not a single issue running the game at all. No freezing, stuttering, FPS drops... NOTHING. This is an unbelievable PC port. Bloodborne next?!?! Sony? Please?!!!\\n⚫The combat is so damn fluent just like 2018\\'s GOW! Throwing your leviathan axe, turning it to ice for more damage, the catch for recalling it is just so smooth. The parrying is skillbased and very rewarding as you can punish your foes witth a slew of different combos and then you have your blocking which you can pull a full 180 turn to cover your rear in combat showing Kratos\\'s Spartan reflexes.\\n⚫The boss fights... are just amazing. Figthing Thor, the god of thunder at tge start of the game was an absolute thrill ride to begin our epic journey across these realms. (only one I\\'m going to mention!!)\\n⚫Fighting giant mythological mini-boss\\'s that are extremely punishing on GIVE ME GOD OF WAR difficulty and the vast array of enemies in the game will have you perfecting your combat prowess from start to finish. \\n⚫The soundtrack is gorgeous!! I love it!\\n⚫Christopher Judge and Sunny Suljic really bring Kratos and Atreus to life and we all know the \"BOY\" statement by now! That\\'s not all, Freya is voiced by the talented Danielle Bisutti and Thor who is voiced by Ryan Hurst (known for Sons of Anarchy or The Walking Dead\\'s Omega).\\n⚫There is tonnes of lore, collectables and hidden little areas for you to explore! Remnants for one and Odins puzzles another. Not all collectables can be collected until you complete the game so you are in for a long journey!\\n⚫In any typical game you get side missions that are just downright boring and bland but in GOW:R they side quests REALLY standout as they add an unbelievable amount of character development behind them.\\n⚫The graphics are superb. Gorgeous even and picture-perfect-post-card worthy at times. \\n⚫You can freely explore several different realms, if you have played 2018\\'s GOW then you will know of Alfheim, which has been changed a little but for the better which makes it stand out amongst all the other realms! \\n⚫The attention to detail is phenomenal. This is what you call a WORK OF ART. A LABOR OF LOVE. You can tell the people that worked on GOW:R have true love and passion about the game!!!\\n⚫The old armour customisation has now been streamlined and has been made very straightforward. Now you can take your favourite piece of equipment with you from start to end of the game!! \\n⚫The puzzles are fun and new puzzles are introduced regularly which means you will not be doing the same thing over and over again for several hours till a new one comes into play.\\n\\n[h1][b] My Verdict [/b][/h1] \\nPhew... after all of that is said and done, I could go on and on and on in detail about each element of the game. Combat. Story. Graphics. Sound e.t.c but I cannot as Steam only allows a certain amount of words sadly but I think I have said enough for anyone looking to get into GOW:R!\\n\\nSo, would I recommend God of War Ragnarök. DAMN RIGHT I WOULD!!! This is what you call a \"VIDEO-GAME\" that is true to both it\\'s origins and it\\'s future! It is made with love and passion, clearly, and will forever me the highest standpoint for future games of it\\'s kind!\\n\\n[h1][b] 10/10 - GOTY worthy and undeniably unforgettable! A single-player game that blows away all others! [/b][/h1]'}, {'appid': '2322010', 'review': 'Seriously misguiding players with this PSN requirement... \\n\\n1) when you launch it, it basically asks you to sign into PSN or quit the game\\n\\n2) but then after having already made a PSN account, it seems you dont even NEED to be signed in on the game to play it...\\n\\n3) I was never asked to sign back into PSN.... make up your mind SONY, why did you lie to me with the first POPUP? saying either sign in or quit?!\\n\\n\\nOtherwise its a visually beautiful game so far. \\n\\n\\nDecent game so far but I should not have to make a PSN game to enjoy a game I paid full price for.'}]\n"
     ]
    },
    {
     "name": "stderr",
     "output_type": "stream",
     "text": [
      " 57%|█████▋    | 60/105 [02:32<01:54,  2.54s/it]"
     ]
    },
    {
     "name": "stdout",
     "output_type": "stream",
     "text": [
      "Is Concord expected to have a polished launch, or will it be unfinished like many recent games?\n",
      "[{'appid': '2322010', 'review': 'Why is this 100% single player experience forcing me to sign in with PSN? I understand that some people are given the OPTION to sign in but for others ( like me) it\\'s a requirement. Why? When I launch the game it just says \"A PSN account is required to play.\" and then I can either sign in, or quit the game. WTF? I hated it when EA did it, I hated it when Microsoft did it. I EPSECIALLY hated it when Ubisoft did it (Seriously GFYS Ubisoft). And I hate it now with Playstation doing it. The difference is that God of War: Ragnarok has ZERO online features. I can somewhat understand for games that are multiplayer or have online features but a single player only game? That\\'s a hard no from me.\\n\\nEdit: To a few of the people who commented. Not everyone does copious amounts of research on every single requirement, recommended specs, and reads the TOS for every game they play. That\\'s a terrible argument and a completely unreasonable expectation. Stop making excuses for bad consumer practices. L corpo bootlicking.'}, {'appid': '2322010', 'review': 'Seriously misguiding players with this PSN requirement... \\n\\n1) when you launch it, it basically asks you to sign into PSN or quit the game\\n\\n2) but then after having already made a PSN account, it seems you dont even NEED to be signed in on the game to play it...\\n\\n3) I was never asked to sign back into PSN.... make up your mind SONY, why did you lie to me with the first POPUP? saying either sign in or quit?!\\n\\n\\nOtherwise its a visually beautiful game so far. \\n\\n\\nDecent game so far but I should not have to make a PSN game to enjoy a game I paid full price for.'}]\n"
     ]
    },
    {
     "name": "stderr",
     "output_type": "stream",
     "text": [
      " 58%|█████▊    | 61/105 [02:35<01:54,  2.61s/it]"
     ]
    },
    {
     "name": "stdout",
     "output_type": "stream",
     "text": [
      "What is the game's performance on high-end hardware like the RTX 4070?\n",
      "[{'appid': '2322010', 'review': \"Same problem as others here! Unfortunately, I found that after about 1 hour of play, the buttery smooth 120 frames turned into lousy performance (30FPS). I don't think it's due to my setup. The graphics card is a 4070 Super. I noticed that after time, the VRAM utilization was at 150% instead of the initial 60%. \\n\\nThe icons, subtitles and the entire UI also look unfinished!\\n\\n\\nToo bad, I was really looking forward to the game... Unfortunately, it's unplayable after an hour.\\n\\nThat's why I have to leave a bad rating for now! That should be better! :/\\n\\nEdit: \\nIt is a known problem. It is not due to my hardware. It doesn't make any sense - then I should have 30fps throughout. I'm just sick of being a beta tester for a game I paid 80 euros for.\\n\\nHere is a link to two discussions that deal with this topic:\\n\\nMemory Leak:\\nhttps://steamcommunity.com/app/2322010/discussions/0/4843147950366339026/\\n\\nUI / Icon problem:\\nhttps://steamcommunity.com/app/2322010/discussions/0/4843147760499953314/\"}, {'appid': '2322010', 'review': \"[h1]Good Overall, but something is funky with the performance[/h1]\\n\\nLook, it's God of War, Ragnarok. It's a good game--you've probably seen the reviews for the PS5 and PS4 version. It's got great combat, a great story, great graphics--the whole nine yards. \\n\\nI'm enjoying it so far, but as far as a PC port goes, there's... something not quite right. \\n\\nI have a fairly powerful PC (RTX 4070 TI, 5800x3D), and the overall framerate, even at native resolution (1440p) with DLAA enabled is good, but there's clearly some kind of issue with frame pacing. The average framerate is around 100 fps, in most scenarios--which is pretty darn good, especially for a single player game--but it just feels... [i]off[/i]. Stuttery and jerky, unsmooth despite an, on paper, rock solid framerate. \\n\\nIt seems to be related to two issues--the above mentioned frame pacing issue (something also shown by MSI afterburner, on my pc), as well as the fact that my monitors VRR just. Doesn't work properly with this game? It sometimes reduces the refresh rate, as it's supposed to, but most of the time it's stuck at the max value--240 hz. \\n\\nThere's possibly an issue with the latest Nvidea driver--reinstalling the driver seemed to fix this issue, at least at first, but I played the game again today and it was still an issue. The only solution was capping the frame rate--80 fps seems to work okay, and fits within my monitor's native refresh rate. \\n\\nOverall, it's good, and I'm rating it as good, but the performance issues are disappointing.\"}]\n"
     ]
    },
    {
     "name": "stderr",
     "output_type": "stream",
     "text": [
      " 59%|█████▉    | 62/105 [02:37<01:45,  2.45s/it]"
     ]
    },
    {
     "name": "stdout",
     "output_type": "stream",
     "text": [
      "Will Concord feature microtransactions or battle passes at launch?\n",
      "[{'appid': '2322010', 'review': \"I really wanted to give this game a thumbs up because it IS actually a good game, but the PSN requirement is stupid as hell and Sony needs to know that gamers will not stand for this. Not only did the PSN SDK fail to launch on Linux and prevented me from playing the game until I made it think that I was playing on a Steam Deck using the `SteamDeck=1 %command%` launch option, it also prevented users from regions unsupported by PSN from playing at all.\\n\\nSony, this is a single player game. Demanding an account sign up is just ridiculous and completely unnecessary. You're literally losing sales from players all over the world who want to play this otherwise amazing game. You're also making it difficult for paying customers on Steam Deck and Linux to play this game on the platform of their choice. You were gaining so much good will before with your PC ports. Gamers were literally double dipping and buying your games twice just to play on PC, but you've absolutely squandered that good will with the PSN requirement. Stop letting corporate managers fuck up your PC launches and start thinking about what gamers actually care about.\"}, {'appid': '2322010', 'review': 'Seriously misguiding players with this PSN requirement... \\n\\n1) when you launch it, it basically asks you to sign into PSN or quit the game\\n\\n2) but then after having already made a PSN account, it seems you dont even NEED to be signed in on the game to play it...\\n\\n3) I was never asked to sign back into PSN.... make up your mind SONY, why did you lie to me with the first POPUP? saying either sign in or quit?!\\n\\n\\nOtherwise its a visually beautiful game so far. \\n\\n\\nDecent game so far but I should not have to make a PSN game to enjoy a game I paid full price for.'}]\n"
     ]
    },
    {
     "name": "stderr",
     "output_type": "stream",
     "text": [
      " 60%|██████    | 63/105 [02:39<01:39,  2.36s/it]"
     ]
    },
    {
     "name": "stdout",
     "output_type": "stream",
     "text": [
      "How does the game's visual quality compare on low settings with DLSS?\n",
      "[{'appid': '2322010', 'review': \"One of the best ports i played in years, ZERO stutter\\nRTX 4060Ti + i5-13400, 1440p (DLSS Balanced without Frame Gen - that is not working for nvidia) around 80~150 FPS (if the game is running 120fps, then 1% low is around 100 FPS)\\nand about the game story/gameplay we already know, it's VERY good\"}, {'appid': '2322010', 'review': 'Gameplay and story awesome. State of the game now? Abysmal. Constant crashes, audio bugs, visual bugs, sudden ultra low FPS in the tree loading screen. If these things bug you, wait a few patches'}]\n"
     ]
    },
    {
     "name": "stderr",
     "output_type": "stream",
     "text": [
      " 61%|██████    | 64/105 [02:42<01:45,  2.56s/it]"
     ]
    },
    {
     "name": "stdout",
     "output_type": "stream",
     "text": [
      "Can I purchase and play Concord exclusively through Steam without external applications?\n",
      "[{'appid': '2322010', 'review': 'I can recommend this game to anyone who is allowed by Sony to buy it!\\nThe game is alright to play even today so long after it came out on PlayStation, runs very well on my hardware, looks pretty good and is good to play, it aged well. Devs went extra mile implementing framegen, upscaling, suround sound and proper HDR.\\nNow to why I do join the negative reviews. The thing is my brother lives in a country where this game is blocked to be purchased on Steam by Sony. Let me repeat myself - Steam platform is legal and supported in that country, but Sony said Valve to block their new games from said country. There is absolutely no reason to do this. No justification. I understand Sony is blocking some countries from their own platform - PSN for reasons, but telling Valve to block countries that Steam supports for any other game except all upcoming Sony published games is just complete disaster. My brother has even bought most of previous Sony games that are still to this day available on Steam for purchase, but all of a sudden all newly released and upcoming single player games are blocked.\\nThe dumbest part is that my brother was forced to move to one of EU countries, not some jungle or desert in middle of nowhere, it is EU country and Sony forced Valve to block the country for absolutely no reason from buying some single player games.\\nThis is just wrong, very very wrong!'}, {'appid': '2322010', 'review': \"Awesome game all around, but I cannot give a positive rating as you must be online to play it. I have a home desktop and a steam deck. I love playing both at home and while I have a stable internet connection. I travel frequently and love bringing the deck on the plane. If I can't play a game I paid $60 for, while traveling without internet, I'm not going to give it a positive rating.\"}]\n"
     ]
    },
    {
     "name": "stderr",
     "output_type": "stream",
     "text": [
      " 62%|██████▏   | 65/105 [02:45<01:49,  2.74s/it]"
     ]
    },
    {
     "name": "stdout",
     "output_type": "stream",
     "text": [
      "What kind of worldbuilding can I expect in Shadow Gambit: The Cursed Crew?\n",
      "[{'appid': '2322010', 'review': \"We own a PC...we are playing a single player game...why on earth FORCE this PSN shit on us?\\n\\nSweet Baby Inc involved here btw so you know what to expect...If you can,just pirate this game...I only found out after buying it since I wasn't really waiting for this release.\\n\\nAlso, locking the max resolution to your desktop resolution is dumb...My monitor is a QHD ultrawide but I aways upscale games to 4k...and that's only possible with GoW Ragnarok if you also upsacale your desktop resolution.\\n\\nGreat game...dumb moves.\"}, {'appid': '2322010', 'review': 'God of War Ragnarök is a one of a kind, unforgettable experience/journey. It is a direct sequel to 2018\\'s Santa Monica\\'s - God of War which won GOTY. I have played every single GOW game to 100% completion and the story of Kratos is unforgettable. From his origin to now, with his son Atreus, who also goes by the name of \"Loki\". \\n\\nI pre-ordered the collectors edition of GOW:R for my PS5 and, to this date, I do not regret a thing because this is what a story game (and collectors edition) should be like. \\n\\nBelow I will tell you why GOW:R is an unforgettable experience and I will also share my thoughts and opinions on the game but before I get into anything, a quick disclaimer below!!\\n\\n[b] This review is MY opinion, MY own personal experience and MY thoughts. I am brutally honest when it comes to reviewing games. If you do not like my opinion, my time or respect my personal experience, please move on. [/b] \\n\\n[h1][b] PSN REQUIRMENT/The only Con[/b][/h1] \\nSo I just want to start off by saying that the game does indeed require a PSN account to play the game which baffles me a little. Why does a SINGLE-PLAYER game require a THIRD-PARTY account to play on STEAM - the platform it is being launched on. \\n\\nNow, I do not mind to much personally because I own a PSN account but to the thousands of gamers/players out there that only use PC... Sony... you need to re-think this requirement because you are forcing players to make an account with your services to BOOST your \"apparent\" - players that own a PS console. \\n\\nEnough of this - now on to the review!!\\n\\n[h1][b] Pros [/b][/h1] \\n⚫The story is unforgettable. (no spoilers!!!)\\n⚫Not a single issue running the game at all. No freezing, stuttering, FPS drops... NOTHING. This is an unbelievable PC port. Bloodborne next?!?! Sony? Please?!!!\\n⚫The combat is so damn fluent just like 2018\\'s GOW! Throwing your leviathan axe, turning it to ice for more damage, the catch for recalling it is just so smooth. The parrying is skillbased and very rewarding as you can punish your foes witth a slew of different combos and then you have your blocking which you can pull a full 180 turn to cover your rear in combat showing Kratos\\'s Spartan reflexes.\\n⚫The boss fights... are just amazing. Figthing Thor, the god of thunder at tge start of the game was an absolute thrill ride to begin our epic journey across these realms. (only one I\\'m going to mention!!)\\n⚫Fighting giant mythological mini-boss\\'s that are extremely punishing on GIVE ME GOD OF WAR difficulty and the vast array of enemies in the game will have you perfecting your combat prowess from start to finish. \\n⚫The soundtrack is gorgeous!! I love it!\\n⚫Christopher Judge and Sunny Suljic really bring Kratos and Atreus to life and we all know the \"BOY\" statement by now! That\\'s not all, Freya is voiced by the talented Danielle Bisutti and Thor who is voiced by Ryan Hurst (known for Sons of Anarchy or The Walking Dead\\'s Omega).\\n⚫There is tonnes of lore, collectables and hidden little areas for you to explore! Remnants for one and Odins puzzles another. Not all collectables can be collected until you complete the game so you are in for a long journey!\\n⚫In any typical game you get side missions that are just downright boring and bland but in GOW:R they side quests REALLY standout as they add an unbelievable amount of character development behind them.\\n⚫The graphics are superb. Gorgeous even and picture-perfect-post-card worthy at times. \\n⚫You can freely explore several different realms, if you have played 2018\\'s GOW then you will know of Alfheim, which has been changed a little but for the better which makes it stand out amongst all the other realms! \\n⚫The attention to detail is phenomenal. This is what you call a WORK OF ART. A LABOR OF LOVE. You can tell the people that worked on GOW:R have true love and passion about the game!!!\\n⚫The old armour customisation has now been streamlined and has been made very straightforward. Now you can take your favourite piece of equipment with you from start to end of the game!! \\n⚫The puzzles are fun and new puzzles are introduced regularly which means you will not be doing the same thing over and over again for several hours till a new one comes into play.\\n\\n[h1][b] My Verdict [/b][/h1] \\nPhew... after all of that is said and done, I could go on and on and on in detail about each element of the game. Combat. Story. Graphics. Sound e.t.c but I cannot as Steam only allows a certain amount of words sadly but I think I have said enough for anyone looking to get into GOW:R!\\n\\nSo, would I recommend God of War Ragnarök. DAMN RIGHT I WOULD!!! This is what you call a \"VIDEO-GAME\" that is true to both it\\'s origins and it\\'s future! It is made with love and passion, clearly, and will forever me the highest standpoint for future games of it\\'s kind!\\n\\n[h1][b] 10/10 - GOTY worthy and undeniably unforgettable! A single-player game that blows away all others! [/b][/h1]'}]\n"
     ]
    },
    {
     "name": "stderr",
     "output_type": "stream",
     "text": [
      " 63%|██████▎   | 66/105 [02:47<01:39,  2.55s/it]"
     ]
    },
    {
     "name": "stdout",
     "output_type": "stream",
     "text": [
      "How does the voice direction in Shadow Gambit compare to Desperados III?\n",
      "[{'appid': '2322010', 'review': \"a children's game for little babies. every puzzle is just 'find the correct spot to stand in and then press L2 and R2'. fighting is ok but not very inspired and literally the same as the first one. the game looks and sounds nice, animations and voice acting are great, but the story and cutscenes are just marvel tier slop. fuck you\"}, {'appid': '2322010', 'review': 'Ragnarok is more of everything that was great in the 2018 release, combined with the epic scale of the original trilogy. \\nThe continuing story is outstanding, with thoroughly developed characters along with so much lore to chew on. Looks incredible and features once again brilliant, heartfelt voice acting (and mocap). Exceptionally well crafted environments and realms make exploration so fun, especially with the way they evolve throughout the story. \\nCombat is as satisfying, brutal and rewarding as ever with some truly breathtaking boss fights. \\nAn undeniably superlative experience.'}]\n"
     ]
    },
    {
     "name": "stderr",
     "output_type": "stream",
     "text": [
      " 64%|██████▍   | 67/105 [02:52<02:01,  3.19s/it]"
     ]
    },
    {
     "name": "stdout",
     "output_type": "stream",
     "text": [
      "Is Shadow Gambit a real-time strategy game like its predecessor?\n",
      "[{'appid': '2322010', 'review': \"This game requires a playstation network account to play and the support for reactivating such an account is spotty at best. \\n\\nUnfortunate because I loved its predecessor.\\n\\nAt the time of writing I am unable to access my PSN account due to a recent two factor identification update that I was not aware of and have no way to provide. After navigating to the Playstation website and was routed through the problem FAQ's to contact customer service. Customer service connected me with a chatbot, which then got stuck in a loop informing me that customer service was not available at this time, despite being within operating hours, which it also provided. \\n\\nAfter several more attempts and an apparent alignment of supernatural forces, I was able to convince the chatbot to place me in the queue to live chat with an agent. At time of writing my position was well over 100 from being able to chat. All this to recover an account for a service I do not want, to play a game that I have purchased through a separate service. \\n\\nThis review will not change unless the PSN requirement is removed from the game.\"}, {'appid': '2322010', 'review': \"[h1]A Great Sequel, Held Back by Woke[/h1]\\n\\n[h3]Introduction[/h3]\\n\\nI played God of War: Ragnarök earlier this year on my PS5, spending over 90 hours to get the platinum for both the base game and the Valhalla DLC. You can check my stats and trophies here from the comments. After all those hours of gameplay, I can confidently say that Ragnarök delivers a great experience, though it has some issues that hold it back from being a masterpiece like its predecessor.\\n\\n[h3]Not Just a DLC[/h3] \\n \\nOne of the biggest criticisms people have thrown at Ragnarök is that it feels like a glorified DLC of the 2018 game, but I strongly disagree with that take. Sure, it has a similar design and gameplay structure, but that doesn’t make it a mere DLC. There’s more than enough new content, including new realms, characters, and abilities, to call it a full-fledged sequel. The combat, which was already excellent in God of War 2018, feels more refined. Plus, the new variety of enemies and more boss fights elevate the action to another level.\\n\\n[h3]Expanded Gameplay and Content[/h3] \\n\\nThe gameplay in Ragnarök is much more expanded compared to God of War 2018. There’s more variety in combat options, and the game offers deeper customization for your weapons, armor, and abilities, allowing players to tailor their playstyle in even more ways. Content-wise, the game also delivers far more to do, with a much richer world to explore. One major complaint about God of War 2018 was the repetitive enemy and boss fights. Thankfully, Ragnarök improves on this significantly. While there are still some repeated enemies and bosses, it happens far less often than in the previous game. One of the standout improvements in Ragnarök is the optional content. I've found them very fun to do and the same with hunting trophies once again, like the prequel. These side quests don’t feel like chores; they’re genuinely rewarding and worth doing. The post-launch Valhalla DLC is also a cool addition. While it’s much shorter than I expected and I wish there was more of it to sink into, but I can’t complain since it’s free.\\n\\n[h3]The Woke Influence[/h3]\\n\\nThere’s an undeniable feeling that Ragnarök leans into a more woke tone. This isn’t just a personal opinion. There’s actual evidence that points to this. The developers worked with Sweet Baby Inc., a company known for inclusive storytelling, and that influence is noticeable throughout the game. Certain plotlines and character decisions feel forced, and at times, the story becomes nonsensical. While this may not bother some players, I found it detracted from the experience, making the narrative feel weaker. Replacing Cory Barlog as the main director was a huge mistake.\\n\\nhttps://steamcommunity.com/sharedfiles/filedetails/?id=3210225946\\n\\n[h3]Story and Narrative Issues[/h3] \\n\\nNow, let’s talk about one of the game’s major drawbacks: the narrative. The 2018 game told a tight, focused narrative centered on the relationship between Kratos and Atreus. In contrast, Ragnarök introduces a lot more characters and plotlines, which can sometimes feel overwhelming. Unfortunately, the game doesn’t spend enough time fully developing these new elements, and as a result, the story feels rushed in certain parts. Instead of the tight, emotional focus of the first game, Ragnarök tries to do too much and wraps up many plot points too quickly. Compared to the more compact, well-told story of God of War 2018, Ragnarök struggles to find the same emotional depth and coherence. This is a huge bummer since I was really hoping for a great story and narrative after the bar set by the predecessor. \\n\\n[h3]Graphics – A Missed Opportunity[/h3]  \\n\\nVisually, Ragnarök is a step up from God of War 2018, but not by much. The graphics are definitely a little better, with sharper textures and improved lighting effects. However, I can't help but feel that the game’s visual potential was held back because it was also released for the PS4. If Ragnarök had been a PS5 exclusive, I think the graphics could have been way better and more impressive. By having to cater to last-gen hardware, the game wasn’t able to push the boundaries as far as it could have, which is a bit disappointing. Still, the game looked beautiful on the PS5 and I am sure it looks even better on PC.\\n\\n[h3]Music – Less Memorable[/h3]  \\n\\nSurprisingly, I didn’t enjoy Ragnarök’s soundtrack not even close to as I did the 2018 game's music. The composer, Bear McCreary, is the same for both, yet, the music in Ragnarök didn’t stick with me in the same way. That's because Ragnarök’s soundtrack mainly consists of redone versions of tracks from its predecessor, with not many new compositions that stand out. This lack of fresh and impactful new music made the soundtrack feel less original and less memorable. I still occasionally listen to God of War 2018’s soundtrack because it was so impactful, but I’ve never felt the urge to listen to Ragnarök’s music outside the game.\\n\\n[h3]Expands, But Doesn’t Elevate[/h3]\\n  \\nOverall, I feel like there’s not much more to say about God of War Ragnarök. The game’s strengths are obvious, and they are mostly the same as in 2018. I’ve also mentioned the negatives, such as the woke elements and narrative problems. On top of that, the fact that it plays so safe and similarly to God of War 2018, is a negative for me. When a sequel feels too close to its predecessor, it loses some of its impact for me. Don't get me wrong -Ragnarök is a great game, and I highly recommend it- it just doesn’t feel like the groundbreaking game that God of War 2018 was for me.\\n\\n[h1]GOLDEN MEDAL[/h1]\\n\\nFollow My [URL=https://store.steampowered.com/curator/40523765-Bearsonal/]Curator Page ⚜️[/URL]\"}]\n"
     ]
    },
    {
     "name": "stderr",
     "output_type": "stream",
     "text": [
      " 65%|██████▍   | 68/105 [02:54<01:52,  3.03s/it]"
     ]
    },
    {
     "name": "stdout",
     "output_type": "stream",
     "text": [
      "Are there any reviews mentioning the optimization of Shadow Gambit upon launch?\n",
      "[{'appid': '2322010', 'review': \"Finished it, got all the achievements, now I can easily confirm that what I said earlier was true. The game is spectacular, it's just one of THOSE GAMES where you just want to forget everything the second you are done with the game just so you can play it for the first time again. I love the series, love the story, love the characters and especially creatures in the game. Also the DLC although kinda repetitive, still fun for a few hours and it's free so yeah. No horrible performance issues either = my mouse stopped working once (restart fixed it), dropped frames few times (it was for a few seconds so i'm cool with it), and my game dropped once (i have 72 hours and my game dropped ONCE) so idk what everyone else is talking about but it's in the state of playable for sure and jesus giving negative review because of PSN accounts when it's so easily avoidable is just annoying, the same way Sony is with forcing it on people. As I said before, go have fun with it!!\\n\\nOkay I usually make reviews after 100%ing the game, but this time I can't help myself but give it now because I feel like most of the negative reviews are either due to the PSN accounts (which don't get me wrong, it does really suck but I don't think the game deserve the hate for something Sony does, it's not fair to the people that gave it hundreds of hours creating, they really did not make that stupid decision) and the other ones are because of optimization? I did not stumble upon any big issues regarding that, if I don't count one boat floating in the air lmao. I had chills playing this game from the first minute, I can't wait what's ahead of me and these negative reviews should not make you reconsider buying the game. Trust me, if you liked the first one, you will love the second one:) I do not regret paying 60 euros for such a gem. Now go have fun with it!!\"}, {'appid': '2322010', 'review': \"to God of War: Ragnarok Dev. Team,\\n\\nI’m writing to bring to your attention an issue regarding the current PC port of God of War: Ragnarok that affects users with 4GB VRAM graphics cards. When attempting to launch the game on such systems, an error message is displayed, indicating that there is not enough VRAM, and the game closes without allowing users to proceed. It is my humble request to kindly reconsider or remove this VRAM limitation. From personal experience and community feedback, I can confirm that the game runs well on certain integrated graphics processors (such as the Ryzen 3 3200G, Ryzen 5 3400G, and Ryzen 7 5700G), which are generally weaker than many 4GB VRAM GPUs available today. God of War: Ragnarok performs on the base PlayStation 4, which further suggests that the game should be capable of running on 4GB VRAM graphics cards, and the latest Steam Hardware Survey shows that one of the most widely used graphics cards among gamers is the GTX 1650, which comes with 4GB of VRAM and is ranked within the top three most popular cards. Limiting access to such a significant portion of the player base can potentially prevent many from enjoying your incredible game. Removing or adjusting this VRAM limitation would greatly benefit the gaming community, ensuring that a larger audience can experience God of War: Ragnarok on PC!\\n\\nEDIT : there’s a workaround and you can bypass this VRAM limit error by using a mod. ( MOD LINK : https://www.nexusmods.com/godofwarragnarok/mods/12?tab=files ) To install it, just drag and drop the files into the game's root folder, and the game should launch without any issues. It's unclear why Jetpack Interactive locked out 4GB VRAM cards, especially since the game runs just fine on them!\"}]\n"
     ]
    },
    {
     "name": "stderr",
     "output_type": "stream",
     "text": [
      " 66%|██████▌   | 69/105 [02:58<01:50,  3.08s/it]"
     ]
    },
    {
     "name": "stdout",
     "output_type": "stream",
     "text": [
      "What aspects of Shadow Gambit demonstrate its quality at release?\n",
      "[{'appid': '2322010', 'review': \"No lifed this game on my four days off and it was an incredible journey. I saw other people commenting on how the ideas didn't seem to form together well, but I think everything has been tied off nicely, especially with the Valhalla mode added after the game's release. I'm both excited and curious to see what they do with future installments, if there will be any at all. The only thing that will suck is having to wait 1-2 years after the next game's release for it to come to PC, but I know the wait will definitely be worth it.\"}, {'appid': '2322010', 'review': \"When you boot up the game you are given 2 options: create a PSN account or quit the game... A PSN account being required for a single player game is bullshit. What if the servers go down? What if you live in a country where you can't create a PSN account? What if they release God of War 3 and decide people should play that instead? I think this will push people to pirate the game. Hopefully someone creates a mod to remove this completely unnecessary requirement.\"}]\n"
     ]
    },
    {
     "name": "stderr",
     "output_type": "stream",
     "text": [
      " 67%|██████▋   | 70/105 [03:00<01:45,  3.01s/it]"
     ]
    },
    {
     "name": "stdout",
     "output_type": "stream",
     "text": [
      "Is Baldur's Gate 3 going to offer a quality experience at launch without bugs or issues?\n",
      "[{'appid': '2322010', 'review': \"to God of War: Ragnarok Dev. Team,\\n\\nI’m writing to bring to your attention an issue regarding the current PC port of God of War: Ragnarok that affects users with 4GB VRAM graphics cards. When attempting to launch the game on such systems, an error message is displayed, indicating that there is not enough VRAM, and the game closes without allowing users to proceed. It is my humble request to kindly reconsider or remove this VRAM limitation. From personal experience and community feedback, I can confirm that the game runs well on certain integrated graphics processors (such as the Ryzen 3 3200G, Ryzen 5 3400G, and Ryzen 7 5700G), which are generally weaker than many 4GB VRAM GPUs available today. God of War: Ragnarok performs on the base PlayStation 4, which further suggests that the game should be capable of running on 4GB VRAM graphics cards, and the latest Steam Hardware Survey shows that one of the most widely used graphics cards among gamers is the GTX 1650, which comes with 4GB of VRAM and is ranked within the top three most popular cards. Limiting access to such a significant portion of the player base can potentially prevent many from enjoying your incredible game. Removing or adjusting this VRAM limitation would greatly benefit the gaming community, ensuring that a larger audience can experience God of War: Ragnarok on PC!\\n\\nEDIT : there’s a workaround and you can bypass this VRAM limit error by using a mod. ( MOD LINK : https://www.nexusmods.com/godofwarragnarok/mods/12?tab=files ) To install it, just drag and drop the files into the game's root folder, and the game should launch without any issues. It's unclear why Jetpack Interactive locked out 4GB VRAM cards, especially since the game runs just fine on them!\"}, {'appid': '2322010', 'review': 'I mean whatever on the crybabies and the PSN accounts, this game has some very annoying performance and memory leaking issues. Ive had to restart my COMPUTER more than 3 times and ive barely gotten into the game. At some points you can get massive stuttering, or better yet if you use a controller it will essentially \"desync\" after about 30 minutes of playing where your inputs get a nice 2-4 second delay. \\n\\nAudio cutting in and out, I\\'ve had to reload checkpoints due to gamebreaking bugs on the very first mission, and the fact that some boxes wont let you open them.\\n\\nWouldnt buy this right now, wait until they patch the garbage out. I played the PS4 god of war about a year after it came out on PC so this is a little shocking for things to be in this much disarray.'}]\n"
     ]
    },
    {
     "name": "stderr",
     "output_type": "stream",
     "text": [
      " 68%|██████▊   | 71/105 [03:04<01:42,  3.02s/it]"
     ]
    },
    {
     "name": "stdout",
     "output_type": "stream",
     "text": [
      "Are there any promises or features from the developers that may not be delivered as expected in Baldur's Gate 3?\n",
      "[{'appid': '2322010', 'review': \"I get why people are upset about the PlayStation account stuff. It sucks when developers stuff online features into a single-player game. But I don't even understand because I could play fine without logging in.  It sucks because those reviews are gonna turn people away from an incredible game. I'm only an hour in and i'm already feeling the nostalgia of playing GOW 2018 for the first time. So please, take all those reviews with a grain of salt and play the game if you really want to. The world won't end if you sign into or make a PlayStation account. Just enjoy the game.\"}, {'appid': '2322010', 'review': '- Requires online connection for a single player game\\n- Requires PSN Account\\n- (North, Central, and South America) Both PSN account and 3rd party game EULA enters you into a forced arbitration agreement from the date you purchase the game (not install) unless you send a physical letter to Sony\\'s U.S HQ:\\nIF YOU ARE A UNITED STATES RESIDENT OR A RESIDENT OF A COUNTRY IN NORTH, CENTRAL OR SOUTH AMERICA, TO THE FULLEST EXTENT PERMITTED BY LAW, THIS AGREEMENT CONTAINS A BINDING INDIVIDUAL ARBITRATION AND CLASS ACTION WAIVER PROVISION IN SECTION 9 THAT AFFECTS YOUR RIGHTS UNDER THIS AGREEMENT AND WITH RESPECT TO ANY \"DISPUTE\" (AS DEFINED IN SECTION 9) BETWEEN YOU AND A SONY ENTITY (AS DEFINED IN SECTION 9)\\n....\\nIF YOU DO NOT WISH TO BE BOUND BY THE BINDING ARBITRATION AND CLASS ACTION WAIVER IN THIS SECTION 9, YOU MUST NOTIFY SIE IN WRITING WITHIN 30 DAYS OF THE DATE THAT YOU FIRST PURCHASE OR DOWNLOAD THE SOFTWARE (WHICHEVER IS EARLIER). YOUR WRITTEN NOTIFICATION MUST BE MAILED TO SONY INTERACTIVE ENTERTAINMENT LLC, 2207 BRIDGEPOINTE PARKWAY, SAN MATEO, CA 94404, UNITED STATES, ATTN: LEGAL DEPARTMENT - WAIVER, AND MUST INCLUDE: (1) YOUR NAME, (2) YOUR ADDRESS, (3) YOUR PLAYSTATION NETWORK SIGN-IN ID IF YOU HAVE ONE, AND (4) A CLEAR STATEMENT THAT YOU DO NOT WISH TO RESOLVE DISPUTES WITH SONY ENTITY THROUGH ARBITRATION.\\n\\nThe game also forces data collection: one of the first options is default set to \"full data collection\" and you can toggle between that and minimal collection, which, for a single player game, is not necessary. As though the $80 price is not enough for Sony.\\n'}]\n"
     ]
    },
    {
     "name": "stderr",
     "output_type": "stream",
     "text": [
      " 69%|██████▊   | 72/105 [03:06<01:34,  2.87s/it]"
     ]
    },
    {
     "name": "stdout",
     "output_type": "stream",
     "text": [
      "Will I be able to purchase and play Baldur's Gate 3 exclusively through Steam?\n",
      "[{'appid': '2322010', 'review': \"This game requires a playstation network account to play and the support for reactivating such an account is spotty at best. \\n\\nUnfortunate because I loved its predecessor.\\n\\nAt the time of writing I am unable to access my PSN account due to a recent two factor identification update that I was not aware of and have no way to provide. After navigating to the Playstation website and was routed through the problem FAQ's to contact customer service. Customer service connected me with a chatbot, which then got stuck in a loop informing me that customer service was not available at this time, despite being within operating hours, which it also provided. \\n\\nAfter several more attempts and an apparent alignment of supernatural forces, I was able to convince the chatbot to place me in the queue to live chat with an agent. At time of writing my position was well over 100 from being able to chat. All this to recover an account for a service I do not want, to play a game that I have purchased through a separate service. \\n\\nThis review will not change unless the PSN requirement is removed from the game.\"}, {'appid': '2322010', 'review': 'Requiring a PSN account to play a PC game is stupid as fuck. I even tried to create an account, kept running into \"connection to server timeout\". Fuck you.\\n\\nEdit: I finally was able to successfully create an account. For anyone receiving the \"connection to server timed out\" error when trying to create a login ID, try a different ID. I just added a couple numbers to mine and it went through, now I\\'m able to play the game. \\n\\nThis review is staying negative tho until Sony gets their shit together.'}]\n"
     ]
    },
    {
     "name": "stderr",
     "output_type": "stream",
     "text": [
      " 70%|██████▉   | 73/105 [03:08<01:24,  2.63s/it]"
     ]
    },
    {
     "name": "stdout",
     "output_type": "stream",
     "text": [
      "How long do players generally spend on Baldur's Gate 3, and does the gameplay provide a fulfilling experience over time?\n",
      "[{'appid': '2322010', 'review': 'God of War Ragnarök is a one of a kind, unforgettable experience/journey. It is a direct sequel to 2018\\'s Santa Monica\\'s - God of War which won GOTY. I have played every single GOW game to 100% completion and the story of Kratos is unforgettable. From his origin to now, with his son Atreus, who also goes by the name of \"Loki\". \\n\\nI pre-ordered the collectors edition of GOW:R for my PS5 and, to this date, I do not regret a thing because this is what a story game (and collectors edition) should be like. \\n\\nBelow I will tell you why GOW:R is an unforgettable experience and I will also share my thoughts and opinions on the game but before I get into anything, a quick disclaimer below!!\\n\\n[b] This review is MY opinion, MY own personal experience and MY thoughts. I am brutally honest when it comes to reviewing games. If you do not like my opinion, my time or respect my personal experience, please move on. [/b] \\n\\n[h1][b] PSN REQUIRMENT/The only Con[/b][/h1] \\nSo I just want to start off by saying that the game does indeed require a PSN account to play the game which baffles me a little. Why does a SINGLE-PLAYER game require a THIRD-PARTY account to play on STEAM - the platform it is being launched on. \\n\\nNow, I do not mind to much personally because I own a PSN account but to the thousands of gamers/players out there that only use PC... Sony... you need to re-think this requirement because you are forcing players to make an account with your services to BOOST your \"apparent\" - players that own a PS console. \\n\\nEnough of this - now on to the review!!\\n\\n[h1][b] Pros [/b][/h1] \\n⚫The story is unforgettable. (no spoilers!!!)\\n⚫Not a single issue running the game at all. No freezing, stuttering, FPS drops... NOTHING. This is an unbelievable PC port. Bloodborne next?!?! Sony? Please?!!!\\n⚫The combat is so damn fluent just like 2018\\'s GOW! Throwing your leviathan axe, turning it to ice for more damage, the catch for recalling it is just so smooth. The parrying is skillbased and very rewarding as you can punish your foes witth a slew of different combos and then you have your blocking which you can pull a full 180 turn to cover your rear in combat showing Kratos\\'s Spartan reflexes.\\n⚫The boss fights... are just amazing. Figthing Thor, the god of thunder at tge start of the game was an absolute thrill ride to begin our epic journey across these realms. (only one I\\'m going to mention!!)\\n⚫Fighting giant mythological mini-boss\\'s that are extremely punishing on GIVE ME GOD OF WAR difficulty and the vast array of enemies in the game will have you perfecting your combat prowess from start to finish. \\n⚫The soundtrack is gorgeous!! I love it!\\n⚫Christopher Judge and Sunny Suljic really bring Kratos and Atreus to life and we all know the \"BOY\" statement by now! That\\'s not all, Freya is voiced by the talented Danielle Bisutti and Thor who is voiced by Ryan Hurst (known for Sons of Anarchy or The Walking Dead\\'s Omega).\\n⚫There is tonnes of lore, collectables and hidden little areas for you to explore! Remnants for one and Odins puzzles another. Not all collectables can be collected until you complete the game so you are in for a long journey!\\n⚫In any typical game you get side missions that are just downright boring and bland but in GOW:R they side quests REALLY standout as they add an unbelievable amount of character development behind them.\\n⚫The graphics are superb. Gorgeous even and picture-perfect-post-card worthy at times. \\n⚫You can freely explore several different realms, if you have played 2018\\'s GOW then you will know of Alfheim, which has been changed a little but for the better which makes it stand out amongst all the other realms! \\n⚫The attention to detail is phenomenal. This is what you call a WORK OF ART. A LABOR OF LOVE. You can tell the people that worked on GOW:R have true love and passion about the game!!!\\n⚫The old armour customisation has now been streamlined and has been made very straightforward. Now you can take your favourite piece of equipment with you from start to end of the game!! \\n⚫The puzzles are fun and new puzzles are introduced regularly which means you will not be doing the same thing over and over again for several hours till a new one comes into play.\\n\\n[h1][b] My Verdict [/b][/h1] \\nPhew... after all of that is said and done, I could go on and on and on in detail about each element of the game. Combat. Story. Graphics. Sound e.t.c but I cannot as Steam only allows a certain amount of words sadly but I think I have said enough for anyone looking to get into GOW:R!\\n\\nSo, would I recommend God of War Ragnarök. DAMN RIGHT I WOULD!!! This is what you call a \"VIDEO-GAME\" that is true to both it\\'s origins and it\\'s future! It is made with love and passion, clearly, and will forever me the highest standpoint for future games of it\\'s kind!\\n\\n[h1][b] 10/10 - GOTY worthy and undeniably unforgettable! A single-player game that blows away all others! [/b][/h1]'}, {'appid': '2322010', 'review': \"This game requires a playstation network account to play and the support for reactivating such an account is spotty at best. \\n\\nUnfortunate because I loved its predecessor.\\n\\nAt the time of writing I am unable to access my PSN account due to a recent two factor identification update that I was not aware of and have no way to provide. After navigating to the Playstation website and was routed through the problem FAQ's to contact customer service. Customer service connected me with a chatbot, which then got stuck in a loop informing me that customer service was not available at this time, despite being within operating hours, which it also provided. \\n\\nAfter several more attempts and an apparent alignment of supernatural forces, I was able to convince the chatbot to place me in the queue to live chat with an agent. At time of writing my position was well over 100 from being able to chat. All this to recover an account for a service I do not want, to play a game that I have purchased through a separate service. \\n\\nThis review will not change unless the PSN requirement is removed from the game.\"}]\n"
     ]
    },
    {
     "name": "stderr",
     "output_type": "stream",
     "text": [
      " 70%|███████   | 74/105 [03:10<01:18,  2.54s/it]"
     ]
    },
    {
     "name": "stdout",
     "output_type": "stream",
     "text": [
      "What are the reviews saying about the game's performance and quality upon release?\n",
      "[{'appid': '2322010', 'review': \"No lifed this game on my four days off and it was an incredible journey. I saw other people commenting on how the ideas didn't seem to form together well, but I think everything has been tied off nicely, especially with the Valhalla mode added after the game's release. I'm both excited and curious to see what they do with future installments, if there will be any at all. The only thing that will suck is having to wait 1-2 years after the next game's release for it to come to PC, but I know the wait will definitely be worth it.\"}, {'appid': '2322010', 'review': \"Finished it, got all the achievements, now I can easily confirm that what I said earlier was true. The game is spectacular, it's just one of THOSE GAMES where you just want to forget everything the second you are done with the game just so you can play it for the first time again. I love the series, love the story, love the characters and especially creatures in the game. Also the DLC although kinda repetitive, still fun for a few hours and it's free so yeah. No horrible performance issues either = my mouse stopped working once (restart fixed it), dropped frames few times (it was for a few seconds so i'm cool with it), and my game dropped once (i have 72 hours and my game dropped ONCE) so idk what everyone else is talking about but it's in the state of playable for sure and jesus giving negative review because of PSN accounts when it's so easily avoidable is just annoying, the same way Sony is with forcing it on people. As I said before, go have fun with it!!\\n\\nOkay I usually make reviews after 100%ing the game, but this time I can't help myself but give it now because I feel like most of the negative reviews are either due to the PSN accounts (which don't get me wrong, it does really suck but I don't think the game deserve the hate for something Sony does, it's not fair to the people that gave it hundreds of hours creating, they really did not make that stupid decision) and the other ones are because of optimization? I did not stumble upon any big issues regarding that, if I don't count one boat floating in the air lmao. I had chills playing this game from the first minute, I can't wait what's ahead of me and these negative reviews should not make you reconsider buying the game. Trust me, if you liked the first one, you will love the second one:) I do not regret paying 60 euros for such a gem. Now go have fun with it!!\"}]\n"
     ]
    },
    {
     "name": "stderr",
     "output_type": "stream",
     "text": [
      " 71%|███████▏  | 75/105 [03:13<01:18,  2.63s/it]"
     ]
    },
    {
     "name": "stdout",
     "output_type": "stream",
     "text": [
      "What are the main themes explored in Far Cry 5 and do they align with my preference for quality delivery?\n",
      "[{'appid': '2322010', 'review': \"You do NOT need a PSN account. It's an optional option.\\nThere is an option for it on the main menu, but I've booted and started the game without touching it. I'm not sure why the notice is on the store page.\\n\\nI do have a PSN account for when I played the first game on my mates PS5. I also use it for the Horizon games. I purposefully did not sign in to test and sure enough, the game worked fine. Again, there are OPTIONS to log in and link to steam, but it's so far not Mandatory.\\n\\nNow I'll update this when I've actually put some time into the game. So far I've done the opening scene and put the dogs to bed.\"}, {'appid': '2322010', 'review': \"I'm not even mad about the stupid psn account shit, the minimum pc requirements for this game are NOT CORRECT. This game will fuck you RAW after you get done installing this bloated fat fuck game for 4 hours. Sorry I didn't realized I needed to make 6 figures a year to run a game the ps5 shitblock can fart out. I checked when they first released the spec requirements that I had the minimum. I should be running this at high quality but instead I'm cockblocked by vram error messages. Why the fuck did they approve my gpu when it doesn't have enough vram to run it? Fuck the idiots who made this port, and fuck the other idiots who made the requirement list.\\n\\nI love this game so much why would they do me like this. I preordered when they first allowed and now I'm considering refunding unless they fix this asap.\"}]\n"
     ]
    },
    {
     "name": "stderr",
     "output_type": "stream",
     "text": [
      " 72%|███████▏  | 76/105 [03:15<01:12,  2.51s/it]"
     ]
    },
    {
     "name": "stdout",
     "output_type": "stream",
     "text": [
      "Does Far Cry 5 have a good soundtrack and atmosphere that enhance the gameplay experience?\n",
      "[{'appid': '2322010', 'review': \"Steam Deck users \\n\\nGame run very smoothly just fought Thor part 1 my experience so far of this game is  runs better in the first game much better visuals so far not encounter any problems apart from the subtitles have a blurry box overlay but this can be changed here ( subtitles - subtitles and captions background set to none ) this is the only issue I found so far on my experience of this game \\n\\nEdited - found one fault need to use touch screen to remove some pop up text as button won't always work to remove notifications \\n\\nMore on to tech\\nCurrently own a LCD version of the steam deck running game at 30 FPS full screen mode with no problem at all \\n\\nDisplay Graphics settings \\nFull screen \\nAspect ratio 16.9\\nFrame limits off \\n\\nScaling \\nMethod AMD 3.1 ( balance ) \\nAll presets set to low \\n\\nThis game looks super pretty as is and haven't killed my battery in nearly two hours gameplay \\n\\nNeed to mention!!!!!!\\n I do currently have cryo-utilities installed from the first game so that might be playing a huge part in smooth gameplay\"}, {'appid': '2322010', 'review': \"[h1]A Great Sequel, Held Back by Woke[/h1]\\n\\n[h3]Introduction[/h3]\\n\\nI played God of War: Ragnarök earlier this year on my PS5, spending over 90 hours to get the platinum for both the base game and the Valhalla DLC. You can check my stats and trophies here from the comments. After all those hours of gameplay, I can confidently say that Ragnarök delivers a great experience, though it has some issues that hold it back from being a masterpiece like its predecessor.\\n\\n[h3]Not Just a DLC[/h3] \\n \\nOne of the biggest criticisms people have thrown at Ragnarök is that it feels like a glorified DLC of the 2018 game, but I strongly disagree with that take. Sure, it has a similar design and gameplay structure, but that doesn’t make it a mere DLC. There’s more than enough new content, including new realms, characters, and abilities, to call it a full-fledged sequel. The combat, which was already excellent in God of War 2018, feels more refined. Plus, the new variety of enemies and more boss fights elevate the action to another level.\\n\\n[h3]Expanded Gameplay and Content[/h3] \\n\\nThe gameplay in Ragnarök is much more expanded compared to God of War 2018. There’s more variety in combat options, and the game offers deeper customization for your weapons, armor, and abilities, allowing players to tailor their playstyle in even more ways. Content-wise, the game also delivers far more to do, with a much richer world to explore. One major complaint about God of War 2018 was the repetitive enemy and boss fights. Thankfully, Ragnarök improves on this significantly. While there are still some repeated enemies and bosses, it happens far less often than in the previous game. One of the standout improvements in Ragnarök is the optional content. I've found them very fun to do and the same with hunting trophies once again, like the prequel. These side quests don’t feel like chores; they’re genuinely rewarding and worth doing. The post-launch Valhalla DLC is also a cool addition. While it’s much shorter than I expected and I wish there was more of it to sink into, but I can’t complain since it’s free.\\n\\n[h3]The Woke Influence[/h3]\\n\\nThere’s an undeniable feeling that Ragnarök leans into a more woke tone. This isn’t just a personal opinion. There’s actual evidence that points to this. The developers worked with Sweet Baby Inc., a company known for inclusive storytelling, and that influence is noticeable throughout the game. Certain plotlines and character decisions feel forced, and at times, the story becomes nonsensical. While this may not bother some players, I found it detracted from the experience, making the narrative feel weaker. Replacing Cory Barlog as the main director was a huge mistake.\\n\\nhttps://steamcommunity.com/sharedfiles/filedetails/?id=3210225946\\n\\n[h3]Story and Narrative Issues[/h3] \\n\\nNow, let’s talk about one of the game’s major drawbacks: the narrative. The 2018 game told a tight, focused narrative centered on the relationship between Kratos and Atreus. In contrast, Ragnarök introduces a lot more characters and plotlines, which can sometimes feel overwhelming. Unfortunately, the game doesn’t spend enough time fully developing these new elements, and as a result, the story feels rushed in certain parts. Instead of the tight, emotional focus of the first game, Ragnarök tries to do too much and wraps up many plot points too quickly. Compared to the more compact, well-told story of God of War 2018, Ragnarök struggles to find the same emotional depth and coherence. This is a huge bummer since I was really hoping for a great story and narrative after the bar set by the predecessor. \\n\\n[h3]Graphics – A Missed Opportunity[/h3]  \\n\\nVisually, Ragnarök is a step up from God of War 2018, but not by much. The graphics are definitely a little better, with sharper textures and improved lighting effects. However, I can't help but feel that the game’s visual potential was held back because it was also released for the PS4. If Ragnarök had been a PS5 exclusive, I think the graphics could have been way better and more impressive. By having to cater to last-gen hardware, the game wasn’t able to push the boundaries as far as it could have, which is a bit disappointing. Still, the game looked beautiful on the PS5 and I am sure it looks even better on PC.\\n\\n[h3]Music – Less Memorable[/h3]  \\n\\nSurprisingly, I didn’t enjoy Ragnarök’s soundtrack not even close to as I did the 2018 game's music. The composer, Bear McCreary, is the same for both, yet, the music in Ragnarök didn’t stick with me in the same way. That's because Ragnarök’s soundtrack mainly consists of redone versions of tracks from its predecessor, with not many new compositions that stand out. This lack of fresh and impactful new music made the soundtrack feel less original and less memorable. I still occasionally listen to God of War 2018’s soundtrack because it was so impactful, but I’ve never felt the urge to listen to Ragnarök’s music outside the game.\\n\\n[h3]Expands, But Doesn’t Elevate[/h3]\\n  \\nOverall, I feel like there’s not much more to say about God of War Ragnarök. The game’s strengths are obvious, and they are mostly the same as in 2018. I’ve also mentioned the negatives, such as the woke elements and narrative problems. On top of that, the fact that it plays so safe and similarly to God of War 2018, is a negative for me. When a sequel feels too close to its predecessor, it loses some of its impact for me. Don't get me wrong -Ragnarök is a great game, and I highly recommend it- it just doesn’t feel like the groundbreaking game that God of War 2018 was for me.\\n\\n[h1]GOLDEN MEDAL[/h1]\\n\\nFollow My [URL=https://store.steampowered.com/curator/40523765-Bearsonal/]Curator Page ⚜️[/URL]\"}]\n"
     ]
    },
    {
     "name": "stderr",
     "output_type": "stream",
     "text": [
      " 73%|███████▎  | 77/105 [03:18<01:09,  2.47s/it]"
     ]
    },
    {
     "name": "stdout",
     "output_type": "stream",
     "text": [
      "How does the game handle its quests and NPCs in terms of execution and engagement?\n",
      "[{'appid': '2322010', 'review': 'absolutely love this game! 10x better than the last one in terms of story and characters and boss battles. 15/10 would recommend'}, {'appid': '2322010', 'review': 'I’ve been happily playing since launch on my steam deck. Despite having a PSN account I’ve never been asked to login. I didn’t want to mess around with FSR 3.1, I capped my game at 30fps and it has been consistent. Despite its name, low settings looks great and I only had the game crash once; this is better optimised than 2018.\\n\\nIf you absolutely fell in love with 2018 like me, then I think the gameplay improvements will have you hooked. I like Kratos’s moveset, I like the weapon changes and additions, I like that all gear is viable now thanks to crafting. Instead of 3 boss fights in 2018, Ragnarok has at least 30+ and I liked (nearly) all of them. At some points you play as Artreus and I like his increased mobility and bow combat in short bites.\\n\\nThe story is really bad and very predictable. It feels too safe, it also feels too messy. It lacks the care and thought 2018 had. Gods don’t talk like gods anymore, everyone talks like a Marvel superhero, and a LOT of out-of-character can be heard, especially from Kratos. I thought they had the Norse story planned from the beginning but evidently not, I derived zero satisfaction from this tale and all the questions I had led to boring answers. Mimir went from my faviourte character to an annoyance and I think they forgot he’s meant to be the smartest man alive.\\n\\nUltimately I enjoyed my time with the game thanks to the gameplay and I think you get your moneys worth in terms of content but as a sequel to 2018’s game of the year; it fails spectacularly.'}]\n"
     ]
    },
    {
     "name": "stderr",
     "output_type": "stream",
     "text": [
      " 74%|███████▍  | 78/105 [03:20<01:05,  2.42s/it]"
     ]
    },
    {
     "name": "stdout",
     "output_type": "stream",
     "text": [
      "Is the game world of Far Cry 5 visually appealing and immersive for exploration?\n",
      "[{'appid': '2322010', 'review': 'Seriously misguiding players with this PSN requirement... \\n\\n1) when you launch it, it basically asks you to sign into PSN or quit the game\\n\\n2) but then after having already made a PSN account, it seems you dont even NEED to be signed in on the game to play it...\\n\\n3) I was never asked to sign back into PSN.... make up your mind SONY, why did you lie to me with the first POPUP? saying either sign in or quit?!\\n\\n\\nOtherwise its a visually beautiful game so far. \\n\\n\\nDecent game so far but I should not have to make a PSN game to enjoy a game I paid full price for.'}, {'appid': '2322010', 'review': \"If you played God of War (2018) and liked it, then you'll like Ragnarok as well. The combat is near identical save for a few tweaks to how effective the Runic Attacks are and some new added skills and abilities. The story is very good and engaging, the side quests are also not a chore to complete so exploration is fun. The issue I've had comes with the game crashing every now and then. It'll freeze up and crash maybe once every 2 hours or so, which should not be happening considering my PC specs are well above the minimum requirements for the game. I don't have this issue with any other modern games so I can only assume something is happening with Ragnarok specifically. It can be annoying but it auto-saves frequently and doesn't occur often enough to make the game unplayable, but for a full price AAA game, I still find it unacceptable.\"}]\n"
     ]
    },
    {
     "name": "stderr",
     "output_type": "stream",
     "text": [
      " 75%|███████▌  | 79/105 [03:22<01:00,  2.34s/it]"
     ]
    },
    {
     "name": "stdout",
     "output_type": "stream",
     "text": [
      "Can I expect Far Cry 5 to perform well on launch without significant issues or need for external applications?\n",
      "[{'appid': '2322010', 'review': \"to God of War: Ragnarok Dev. Team,\\n\\nI’m writing to bring to your attention an issue regarding the current PC port of God of War: Ragnarok that affects users with 4GB VRAM graphics cards. When attempting to launch the game on such systems, an error message is displayed, indicating that there is not enough VRAM, and the game closes without allowing users to proceed. It is my humble request to kindly reconsider or remove this VRAM limitation. From personal experience and community feedback, I can confirm that the game runs well on certain integrated graphics processors (such as the Ryzen 3 3200G, Ryzen 5 3400G, and Ryzen 7 5700G), which are generally weaker than many 4GB VRAM GPUs available today. God of War: Ragnarok performs on the base PlayStation 4, which further suggests that the game should be capable of running on 4GB VRAM graphics cards, and the latest Steam Hardware Survey shows that one of the most widely used graphics cards among gamers is the GTX 1650, which comes with 4GB of VRAM and is ranked within the top three most popular cards. Limiting access to such a significant portion of the player base can potentially prevent many from enjoying your incredible game. Removing or adjusting this VRAM limitation would greatly benefit the gaming community, ensuring that a larger audience can experience God of War: Ragnarok on PC!\\n\\nEDIT : there’s a workaround and you can bypass this VRAM limit error by using a mod. ( MOD LINK : https://www.nexusmods.com/godofwarragnarok/mods/12?tab=files ) To install it, just drag and drop the files into the game's root folder, and the game should launch without any issues. It's unclear why Jetpack Interactive locked out 4GB VRAM cards, especially since the game runs just fine on them!\"}, {'appid': '2322010', 'review': 'Seriously misguiding players with this PSN requirement... \\n\\n1) when you launch it, it basically asks you to sign into PSN or quit the game\\n\\n2) but then after having already made a PSN account, it seems you dont even NEED to be signed in on the game to play it...\\n\\n3) I was never asked to sign back into PSN.... make up your mind SONY, why did you lie to me with the first POPUP? saying either sign in or quit?!\\n\\n\\nOtherwise its a visually beautiful game so far. \\n\\n\\nDecent game so far but I should not have to make a PSN game to enjoy a game I paid full price for.'}]\n"
     ]
    },
    {
     "name": "stderr",
     "output_type": "stream",
     "text": [
      " 76%|███████▌  | 80/105 [03:24<00:57,  2.29s/it]"
     ]
    },
    {
     "name": "stdout",
     "output_type": "stream",
     "text": [
      "How does The Crew Motorfest compare to The Crew 2 in terms of gameplay mechanics?\n",
      "[{'appid': '2322010', 'review': 'absolutely love this game! 10x better than the last one in terms of story and characters and boss battles. 15/10 would recommend'}, {'appid': '2322010', 'review': 'I’ve been happily playing since launch on my steam deck. Despite having a PSN account I’ve never been asked to login. I didn’t want to mess around with FSR 3.1, I capped my game at 30fps and it has been consistent. Despite its name, low settings looks great and I only had the game crash once; this is better optimised than 2018.\\n\\nIf you absolutely fell in love with 2018 like me, then I think the gameplay improvements will have you hooked. I like Kratos’s moveset, I like the weapon changes and additions, I like that all gear is viable now thanks to crafting. Instead of 3 boss fights in 2018, Ragnarok has at least 30+ and I liked (nearly) all of them. At some points you play as Artreus and I like his increased mobility and bow combat in short bites.\\n\\nThe story is really bad and very predictable. It feels too safe, it also feels too messy. It lacks the care and thought 2018 had. Gods don’t talk like gods anymore, everyone talks like a Marvel superhero, and a LOT of out-of-character can be heard, especially from Kratos. I thought they had the Norse story planned from the beginning but evidently not, I derived zero satisfaction from this tale and all the questions I had led to boring answers. Mimir went from my faviourte character to an annoyance and I think they forgot he’s meant to be the smartest man alive.\\n\\nUltimately I enjoyed my time with the game thanks to the gameplay and I think you get your moneys worth in terms of content but as a sequel to 2018’s game of the year; it fails spectacularly.'}]\n"
     ]
    },
    {
     "name": "stderr",
     "output_type": "stream",
     "text": [
      " 77%|███████▋  | 81/105 [03:27<00:55,  2.31s/it]"
     ]
    },
    {
     "name": "stdout",
     "output_type": "stream",
     "text": [
      "What specific aspects of The Crew Motorfest are considered to be 'weird' or different?\n",
      "[{'appid': '2322010', 'review': \"When you boot up the game you are given 2 options: create a PSN account or quit the game... A PSN account being required for a single player game is bullshit. What if the servers go down? What if you live in a country where you can't create a PSN account? What if they release God of War 3 and decide people should play that instead? I think this will push people to pirate the game. Hopefully someone creates a mod to remove this completely unnecessary requirement.\"}, {'appid': '2322010', 'review': 'God of War Ragnarök is a one of a kind, unforgettable experience/journey. It is a direct sequel to 2018\\'s Santa Monica\\'s - God of War which won GOTY. I have played every single GOW game to 100% completion and the story of Kratos is unforgettable. From his origin to now, with his son Atreus, who also goes by the name of \"Loki\". \\n\\nI pre-ordered the collectors edition of GOW:R for my PS5 and, to this date, I do not regret a thing because this is what a story game (and collectors edition) should be like. \\n\\nBelow I will tell you why GOW:R is an unforgettable experience and I will also share my thoughts and opinions on the game but before I get into anything, a quick disclaimer below!!\\n\\n[b] This review is MY opinion, MY own personal experience and MY thoughts. I am brutally honest when it comes to reviewing games. If you do not like my opinion, my time or respect my personal experience, please move on. [/b] \\n\\n[h1][b] PSN REQUIRMENT/The only Con[/b][/h1] \\nSo I just want to start off by saying that the game does indeed require a PSN account to play the game which baffles me a little. Why does a SINGLE-PLAYER game require a THIRD-PARTY account to play on STEAM - the platform it is being launched on. \\n\\nNow, I do not mind to much personally because I own a PSN account but to the thousands of gamers/players out there that only use PC... Sony... you need to re-think this requirement because you are forcing players to make an account with your services to BOOST your \"apparent\" - players that own a PS console. \\n\\nEnough of this - now on to the review!!\\n\\n[h1][b] Pros [/b][/h1] \\n⚫The story is unforgettable. (no spoilers!!!)\\n⚫Not a single issue running the game at all. No freezing, stuttering, FPS drops... NOTHING. This is an unbelievable PC port. Bloodborne next?!?! Sony? Please?!!!\\n⚫The combat is so damn fluent just like 2018\\'s GOW! Throwing your leviathan axe, turning it to ice for more damage, the catch for recalling it is just so smooth. The parrying is skillbased and very rewarding as you can punish your foes witth a slew of different combos and then you have your blocking which you can pull a full 180 turn to cover your rear in combat showing Kratos\\'s Spartan reflexes.\\n⚫The boss fights... are just amazing. Figthing Thor, the god of thunder at tge start of the game was an absolute thrill ride to begin our epic journey across these realms. (only one I\\'m going to mention!!)\\n⚫Fighting giant mythological mini-boss\\'s that are extremely punishing on GIVE ME GOD OF WAR difficulty and the vast array of enemies in the game will have you perfecting your combat prowess from start to finish. \\n⚫The soundtrack is gorgeous!! I love it!\\n⚫Christopher Judge and Sunny Suljic really bring Kratos and Atreus to life and we all know the \"BOY\" statement by now! That\\'s not all, Freya is voiced by the talented Danielle Bisutti and Thor who is voiced by Ryan Hurst (known for Sons of Anarchy or The Walking Dead\\'s Omega).\\n⚫There is tonnes of lore, collectables and hidden little areas for you to explore! Remnants for one and Odins puzzles another. Not all collectables can be collected until you complete the game so you are in for a long journey!\\n⚫In any typical game you get side missions that are just downright boring and bland but in GOW:R they side quests REALLY standout as they add an unbelievable amount of character development behind them.\\n⚫The graphics are superb. Gorgeous even and picture-perfect-post-card worthy at times. \\n⚫You can freely explore several different realms, if you have played 2018\\'s GOW then you will know of Alfheim, which has been changed a little but for the better which makes it stand out amongst all the other realms! \\n⚫The attention to detail is phenomenal. This is what you call a WORK OF ART. A LABOR OF LOVE. You can tell the people that worked on GOW:R have true love and passion about the game!!!\\n⚫The old armour customisation has now been streamlined and has been made very straightforward. Now you can take your favourite piece of equipment with you from start to end of the game!! \\n⚫The puzzles are fun and new puzzles are introduced regularly which means you will not be doing the same thing over and over again for several hours till a new one comes into play.\\n\\n[h1][b] My Verdict [/b][/h1] \\nPhew... after all of that is said and done, I could go on and on and on in detail about each element of the game. Combat. Story. Graphics. Sound e.t.c but I cannot as Steam only allows a certain amount of words sadly but I think I have said enough for anyone looking to get into GOW:R!\\n\\nSo, would I recommend God of War Ragnarök. DAMN RIGHT I WOULD!!! This is what you call a \"VIDEO-GAME\" that is true to both it\\'s origins and it\\'s future! It is made with love and passion, clearly, and will forever me the highest standpoint for future games of it\\'s kind!\\n\\n[h1][b] 10/10 - GOTY worthy and undeniably unforgettable! A single-player game that blows away all others! [/b][/h1]'}]\n"
     ]
    },
    {
     "name": "stderr",
     "output_type": "stream",
     "text": [
      " 78%|███████▊  | 82/105 [03:29<00:53,  2.33s/it]"
     ]
    },
    {
     "name": "stdout",
     "output_type": "stream",
     "text": [
      "Are there any recommendations for purchasing The Crew Motorfest if it's not well received?\n",
      "[{'appid': '2322010', 'review': \"If you played God of War (2018) and liked it, then you'll like Ragnarok as well. The combat is near identical save for a few tweaks to how effective the Runic Attacks are and some new added skills and abilities. The story is very good and engaging, the side quests are also not a chore to complete so exploration is fun. The issue I've had comes with the game crashing every now and then. It'll freeze up and crash maybe once every 2 hours or so, which should not be happening considering my PC specs are well above the minimum requirements for the game. I don't have this issue with any other modern games so I can only assume something is happening with Ragnarok specifically. It can be annoying but it auto-saves frequently and doesn't occur often enough to make the game unplayable, but for a full price AAA game, I still find it unacceptable.\"}, {'appid': '2322010', 'review': \"You do NOT need a PSN account. It's an optional option.\\nThere is an option for it on the main menu, but I've booted and started the game without touching it. I'm not sure why the notice is on the store page.\\n\\nI do have a PSN account for when I played the first game on my mates PS5. I also use it for the Horizon games. I purposefully did not sign in to test and sure enough, the game worked fine. Again, there are OPTIONS to log in and link to steam, but it's so far not Mandatory.\\n\\nNow I'll update this when I've actually put some time into the game. So far I've done the opening scene and put the dogs to bed.\"}]\n"
     ]
    },
    {
     "name": "stderr",
     "output_type": "stream",
     "text": [
      " 79%|███████▉  | 83/105 [03:31<00:49,  2.24s/it]"
     ]
    },
    {
     "name": "stdout",
     "output_type": "stream",
     "text": [
      "What feedback does the reviewer give about recommending The Crew Motorfest?\n",
      "[{'appid': '2322010', 'review': \"Finished it, got all the achievements, now I can easily confirm that what I said earlier was true. The game is spectacular, it's just one of THOSE GAMES where you just want to forget everything the second you are done with the game just so you can play it for the first time again. I love the series, love the story, love the characters and especially creatures in the game. Also the DLC although kinda repetitive, still fun for a few hours and it's free so yeah. No horrible performance issues either = my mouse stopped working once (restart fixed it), dropped frames few times (it was for a few seconds so i'm cool with it), and my game dropped once (i have 72 hours and my game dropped ONCE) so idk what everyone else is talking about but it's in the state of playable for sure and jesus giving negative review because of PSN accounts when it's so easily avoidable is just annoying, the same way Sony is with forcing it on people. As I said before, go have fun with it!!\\n\\nOkay I usually make reviews after 100%ing the game, but this time I can't help myself but give it now because I feel like most of the negative reviews are either due to the PSN accounts (which don't get me wrong, it does really suck but I don't think the game deserve the hate for something Sony does, it's not fair to the people that gave it hundreds of hours creating, they really did not make that stupid decision) and the other ones are because of optimization? I did not stumble upon any big issues regarding that, if I don't count one boat floating in the air lmao. I had chills playing this game from the first minute, I can't wait what's ahead of me and these negative reviews should not make you reconsider buying the game. Trust me, if you liked the first one, you will love the second one:) I do not regret paying 60 euros for such a gem. Now go have fun with it!!\"}, {'appid': '2322010', 'review': 'after hearing so many negative things about ragnarok, having 100%ed the game now i have to say. glad i didnt listen and played it myself. game is peak, combat is a massive improvement over the first, the realms are more fleshed out then in the first game. the story while not being as tightly written as the first is still awesome, a good finale story to end off the norse saga. my only big negative of the game is the countless walk and talks and atreus secions. they end up making the game harder to replay then the first and replayablity is a big important thing to me. the added roguelike mode does help with this but even it has some things i dont like, the patheing for it is 3 fights, a valhalla chose fight then a boss, then a greek arena to do a couple fights then a tyr fight. really wish they added an infinite mode for it cause when i wana hop in and do that comabt it would of been perfect.\\r\\n\\r\\nbut yea to give my final thoughts, game good go play it.'}]\n"
     ]
    },
    {
     "name": "stderr",
     "output_type": "stream",
     "text": [
      " 80%|████████  | 84/105 [03:33<00:46,  2.22s/it]"
     ]
    },
    {
     "name": "stdout",
     "output_type": "stream",
     "text": [
      "Is The Crew Motorfest worth buying at full price according to the review?\n",
      "[{'appid': '2322010', 'review': \"---{ Graphics }---\\n☑ You forget what reality is\\n☐ Beautiful\\n☐ Good\\n☐ Decent\\n☐ Bad\\n☐ Don‘t look too long at it\\n☐ MS-DOS\\n\\n---{ Gameplay }---\\n☑ Very good\\n☐ Good\\n☐ It's just gameplay\\n☐ Mehh\\n☐ Watch paint dry instead\\n☐ Just don't\\n\\n---{ Audio }---\\n☑ Eargasm\\n☐Very good\\n☐ Good\\n☐ Not too bad\\n☐ Bad\\n☐ I'm now deaf\\n\\n---{ Audience }---\\n☐ Kids\\n☑ Teens\\n☑ Adults\\n☐ Grandma\\n\\n---{ PC Requirements }---\\n☐ Check if you can run paint\\n☐ Potato\\n☐ Decent\\n☑ Fast\\n☐ Rich boi\\n☐ Ask NASA if they have a spare computer\\n\\n---{ Game Size }---\\n☐ Floppy Disk\\n☐ Old Fashioned\\n☐ Workable\\n☑ Big\\n☐ Will eat 10% of your 1TB hard drive\\n☐ You will want an entire hard drive to hold it\\n☐ You will need to invest in a black hole to hold all the data\\n\\n---{ Difficulty }---\\n☐ Just press 'W'\\n☐ Easy\\n☐ Easy to learn / Hard to master\\n☑ Significant brain usage\\n☐ Difficult\\n☐ Dark Souls\\n\\n---{ Grind }---\\n☐ Nothing to grind\\n☐ Only if u care about leaderboards/ranks\\n☑ Isn't necessary to progress\\n☐ Average grind level\\n☐ Too much grind\\n☐ You'll need a second life for grinding\\n\\n---{ Story }---\\n☐ No Story\\n☐ Some lore\\n☐ Average\\n☐ Good\\n☑ Lovely\\n☐ It'll replace your life\\n\\n---{ Game Time }---\\n☐ Long enough for a cup of coffee\\n☐ Short\\n☐ Average\\n☑ Long\\n☐ To infinity and beyond\\n\\n---{ Price }---\\n☐ It's free!\\n☑ Worth the price\\n☐ If it's on sale\\n☐ If u have some spare money left\\n☐ Not recommended\\n☐ You could also just burn your money\\n\\n---{ Bugs }---\\n☑ Havn't Seen Yet\\n☐ Minor bugs\\n☐ Can get annoying\\n☐ ARK: Survival Evolved\\n☐ The game itself is a big terrarium for bugs\\n\\n---{ ? / 10 }---\\n☐ 1\\n☐ 2\\n☐ 3\\n☐ 4\\n☐ 5\\n☐ 6\\n☐ 7\\n☐ 8\\n☐ 9\\n☑ 10 \\n\\nFew More Words:\\nIts one of the best Sony IP you can play. the GOW 2018 is Epic and this is the continuation of that story. this is my 2nd Time Buying this game at full Price. One of the best Emotional and Story Driven game you can play in you entire life. the PC port is Solid Running ultra with 2k and 144 FPS on a 3080 . They ask you to Login to PS Network. but before starting the game they will ask you to accept sharing data you can skip that.\"}, {'appid': '2322010', 'review': 'So the developers clearly never tested the game at resolutions other than 4K. At 1440p the text and icon scaling makes all UI elements look terrible. I had to resort to running the game at 4K via Dynamic Super Resolution to fix this which is beyond ridiculous.\\n\\nEDIT: a recent patch has fixed this, will revisit review once I complete the game.'}]\n"
     ]
    },
    {
     "name": "stderr",
     "output_type": "stream",
     "text": [
      " 81%|████████  | 85/105 [03:36<00:44,  2.24s/it]"
     ]
    },
    {
     "name": "stdout",
     "output_type": "stream",
     "text": [
      "Is Assassin's Creed Odyssey a well-optimized game upon release?\n",
      "[{'appid': '2322010', 'review': \"No lifed this game on my four days off and it was an incredible journey. I saw other people commenting on how the ideas didn't seem to form together well, but I think everything has been tied off nicely, especially with the Valhalla mode added after the game's release. I'm both excited and curious to see what they do with future installments, if there will be any at all. The only thing that will suck is having to wait 1-2 years after the next game's release for it to come to PC, but I know the wait will definitely be worth it.\"}, {'appid': '2322010', 'review': 'Poorly optimized port. Requires PNS login despite being a single player game. PSN will actively collect your information and even asks how much information they can collect from you for this single player game. Even on the lowest graphic settings, all inputs will either get dropped or will be delayed by upwards of an entire second. This game is unplayable.'}]\n"
     ]
    },
    {
     "name": "stderr",
     "output_type": "stream",
     "text": [
      " 82%|████████▏ | 86/105 [03:38<00:43,  2.31s/it]"
     ]
    },
    {
     "name": "stdout",
     "output_type": "stream",
     "text": [
      "Does the game live up to the promises made prior to its launch?\n",
      "[{'appid': '2322010', 'review': 'Seriously misguiding players with this PSN requirement... \\n\\n1) when you launch it, it basically asks you to sign into PSN or quit the game\\n\\n2) but then after having already made a PSN account, it seems you dont even NEED to be signed in on the game to play it...\\n\\n3) I was never asked to sign back into PSN.... make up your mind SONY, why did you lie to me with the first POPUP? saying either sign in or quit?!\\n\\n\\nOtherwise its a visually beautiful game so far. \\n\\n\\nDecent game so far but I should not have to make a PSN game to enjoy a game I paid full price for.'}, {'appid': '2322010', 'review': \"I really wanted to give this game a thumbs up because it IS actually a good game, but the PSN requirement is stupid as hell and Sony needs to know that gamers will not stand for this. Not only did the PSN SDK fail to launch on Linux and prevented me from playing the game until I made it think that I was playing on a Steam Deck using the `SteamDeck=1 %command%` launch option, it also prevented users from regions unsupported by PSN from playing at all.\\n\\nSony, this is a single player game. Demanding an account sign up is just ridiculous and completely unnecessary. You're literally losing sales from players all over the world who want to play this otherwise amazing game. You're also making it difficult for paying customers on Steam Deck and Linux to play this game on the platform of their choice. You were gaining so much good will before with your PC ports. Gamers were literally double dipping and buying your games twice just to play on PC, but you've absolutely squandered that good will with the PSN requirement. Stop letting corporate managers fuck up your PC launches and start thinking about what gamers actually care about.\"}]\n"
     ]
    },
    {
     "name": "stderr",
     "output_type": "stream",
     "text": [
      " 83%|████████▎ | 87/105 [03:41<00:42,  2.35s/it]"
     ]
    },
    {
     "name": "stdout",
     "output_type": "stream",
     "text": [
      "Are there significant grind elements and microtransactions in Assassin's Creed Odyssey?\n",
      "[{'appid': '2322010', 'review': \"\\n---{ Graphics }---\\n☑ BOY!\\n☐ Beautiful\\n☐ Good\\n☐ Decent\\n☐ Bad\\n☐ Don‘t look too long at it\\n☐ MS-DOS\\n\\n---{ Gameplay }---\\n☑ BOY!\\n☐ Good\\n☐ It's just gameplay\\n☐ Mehh\\n☐ Watch paint dry instead\\n☐ Just don't\\n\\n---{ Audio }---\\n☑ BOY!\\n☐ Very good\\n☐ Good\\n☐ Not too bad\\n☐ Bad\\n☐ I'm now deaf\\n\\n---{ Audience }---\\n☐ Kids\\n☐ Teens\\n☑ BOY!\\n☐ Grandma\\n\\n---{ PC Requirements }---\\n☐ Check if you can run paint\\n☐ Potato\\n☐ Decent\\n☑ BOY!\\n☐ Rich boi\\n☐ Ask NASA if they have a spare computer\\n\\n---{ Game Size }---\\n☐ Floppy Disk\\n☐ Old Fashioned\\n☐ Workable\\n☑ BOY!\\n☐ Will eat 10% of your 1TB hard drive\\n☐ You will want an entire hard drive to hold it\\n☐ You will need to invest in a black hole to hold all the data\\n\\n---{ Difficulty }---\\n☐ Just press 'W'\\n☑ BOY!\\n☐ Easy to learn / Hard to master\\n☐ Significant brain usage\\n☐ Difficult\\n☐ Dark Souls\\n\\n---{ Grind }---\\n☑ BOY!\\n☐ Only if u care about leaderboards/ranks\\n☐ Isn't necessary to progress\\n☐ Average grind level\\n☐ Too much grind\\n☐ You'll need a second life for grinding\\n\\n---{ Story }---\\n☐ No Story\\n☐ Some lore\\n☐ Average\\n☐ Good\\n☑ BOY!\\n☐ It'll replace your life\\n\\n---{ Game Time }---\\n☐ Long enough for a cup of coffee\\n☐ Short\\n☑ BOY!\\n☐ Long\\n☐ To infinity and beyond\\n\\n---{ Price }---\\n☐ It's free!\\n☑ BOY!\\n☐ If it's on sale\\n☐ If u have some spare money left\\n☐ Not recommended\\n☐ You could also just burn your money\\n\\n---{ Bugs }---\\n☑ BOY!\\n☐ Minor bugs\\n☐ Can get annoying\\n☐ ARK: Survival Evolved\\n☐ The game itself is a big terrarium for bugs\\n\\n---{ ? / 10 }---\\n☐ 1\\n☐ 2\\n☐ 3\\n☐ 4\\n☐ 5\\n☐ 6\\n☐ 7\\n☐ 8\\n☐ 9\\n☑ BOY!\"}, {'appid': '2322010', 'review': \"---{ Graphics }---\\n☑ You forget what reality is\\n☐ Beautiful\\n☐ Good\\n☐ Decent\\n☐ Bad\\n☐ Don‘t look too long at it\\n☐ MS-DOS\\n\\n---{ Gameplay }---\\n☑ Very good\\n☐ Good\\n☐ It's just gameplay\\n☐ Mehh\\n☐ Watch paint dry instead\\n☐ Just don't\\n\\n---{ Audio }---\\n☑ Eargasm\\n☐Very good\\n☐ Good\\n☐ Not too bad\\n☐ Bad\\n☐ I'm now deaf\\n\\n---{ Audience }---\\n☐ Kids\\n☑ Teens\\n☑ Adults\\n☐ Grandma\\n\\n---{ PC Requirements }---\\n☐ Check if you can run paint\\n☐ Potato\\n☐ Decent\\n☑ Fast\\n☐ Rich boi\\n☐ Ask NASA if they have a spare computer\\n\\n---{ Game Size }---\\n☐ Floppy Disk\\n☐ Old Fashioned\\n☐ Workable\\n☑ Big\\n☐ Will eat 10% of your 1TB hard drive\\n☐ You will want an entire hard drive to hold it\\n☐ You will need to invest in a black hole to hold all the data\\n\\n---{ Difficulty }---\\n☐ Just press 'W'\\n☐ Easy\\n☐ Easy to learn / Hard to master\\n☑ Significant brain usage\\n☐ Difficult\\n☐ Dark Souls\\n\\n---{ Grind }---\\n☐ Nothing to grind\\n☐ Only if u care about leaderboards/ranks\\n☑ Isn't necessary to progress\\n☐ Average grind level\\n☐ Too much grind\\n☐ You'll need a second life for grinding\\n\\n---{ Story }---\\n☐ No Story\\n☐ Some lore\\n☐ Average\\n☐ Good\\n☑ Lovely\\n☐ It'll replace your life\\n\\n---{ Game Time }---\\n☐ Long enough for a cup of coffee\\n☐ Short\\n☐ Average\\n☑ Long\\n☐ To infinity and beyond\\n\\n---{ Price }---\\n☐ It's free!\\n☑ Worth the price\\n☐ If it's on sale\\n☐ If u have some spare money left\\n☐ Not recommended\\n☐ You could also just burn your money\\n\\n---{ Bugs }---\\n☑ Havn't Seen Yet\\n☐ Minor bugs\\n☐ Can get annoying\\n☐ ARK: Survival Evolved\\n☐ The game itself is a big terrarium for bugs\\n\\n---{ ? / 10 }---\\n☐ 1\\n☐ 2\\n☐ 3\\n☐ 4\\n☐ 5\\n☐ 6\\n☐ 7\\n☐ 8\\n☐ 9\\n☑ 10 \\n\\nFew More Words:\\nIts one of the best Sony IP you can play. the GOW 2018 is Epic and this is the continuation of that story. this is my 2nd Time Buying this game at full Price. One of the best Emotional and Story Driven game you can play in you entire life. the PC port is Solid Running ultra with 2k and 144 FPS on a 3080 . They ask you to Login to PS Network. but before starting the game they will ask you to accept sharing data you can skip that.\"}]\n"
     ]
    },
    {
     "name": "stderr",
     "output_type": "stream",
     "text": [
      " 84%|████████▍ | 88/105 [03:43<00:41,  2.46s/it]"
     ]
    },
    {
     "name": "stdout",
     "output_type": "stream",
     "text": [
      "How does the world of Assassin's Creed Odyssey compare in liveliness to that of Origins?\n",
      "[{'appid': '2322010', 'review': 'Why is this 100% single player experience forcing me to sign in with PSN? I understand that some people are given the OPTION to sign in but for others ( like me) it\\'s a requirement. Why? When I launch the game it just says \"A PSN account is required to play.\" and then I can either sign in, or quit the game. WTF? I hated it when EA did it, I hated it when Microsoft did it. I EPSECIALLY hated it when Ubisoft did it (Seriously GFYS Ubisoft). And I hate it now with Playstation doing it. The difference is that God of War: Ragnarok has ZERO online features. I can somewhat understand for games that are multiplayer or have online features but a single player only game? That\\'s a hard no from me.\\n\\nEdit: To a few of the people who commented. Not everyone does copious amounts of research on every single requirement, recommended specs, and reads the TOS for every game they play. That\\'s a terrible argument and a completely unreasonable expectation. Stop making excuses for bad consumer practices. L corpo bootlicking.'}, {'appid': '2322010', 'review': 'God of War Ragnarök is a one of a kind, unforgettable experience/journey. It is a direct sequel to 2018\\'s Santa Monica\\'s - God of War which won GOTY. I have played every single GOW game to 100% completion and the story of Kratos is unforgettable. From his origin to now, with his son Atreus, who also goes by the name of \"Loki\". \\n\\nI pre-ordered the collectors edition of GOW:R for my PS5 and, to this date, I do not regret a thing because this is what a story game (and collectors edition) should be like. \\n\\nBelow I will tell you why GOW:R is an unforgettable experience and I will also share my thoughts and opinions on the game but before I get into anything, a quick disclaimer below!!\\n\\n[b] This review is MY opinion, MY own personal experience and MY thoughts. I am brutally honest when it comes to reviewing games. If you do not like my opinion, my time or respect my personal experience, please move on. [/b] \\n\\n[h1][b] PSN REQUIRMENT/The only Con[/b][/h1] \\nSo I just want to start off by saying that the game does indeed require a PSN account to play the game which baffles me a little. Why does a SINGLE-PLAYER game require a THIRD-PARTY account to play on STEAM - the platform it is being launched on. \\n\\nNow, I do not mind to much personally because I own a PSN account but to the thousands of gamers/players out there that only use PC... Sony... you need to re-think this requirement because you are forcing players to make an account with your services to BOOST your \"apparent\" - players that own a PS console. \\n\\nEnough of this - now on to the review!!\\n\\n[h1][b] Pros [/b][/h1] \\n⚫The story is unforgettable. (no spoilers!!!)\\n⚫Not a single issue running the game at all. No freezing, stuttering, FPS drops... NOTHING. This is an unbelievable PC port. Bloodborne next?!?! Sony? Please?!!!\\n⚫The combat is so damn fluent just like 2018\\'s GOW! Throwing your leviathan axe, turning it to ice for more damage, the catch for recalling it is just so smooth. The parrying is skillbased and very rewarding as you can punish your foes witth a slew of different combos and then you have your blocking which you can pull a full 180 turn to cover your rear in combat showing Kratos\\'s Spartan reflexes.\\n⚫The boss fights... are just amazing. Figthing Thor, the god of thunder at tge start of the game was an absolute thrill ride to begin our epic journey across these realms. (only one I\\'m going to mention!!)\\n⚫Fighting giant mythological mini-boss\\'s that are extremely punishing on GIVE ME GOD OF WAR difficulty and the vast array of enemies in the game will have you perfecting your combat prowess from start to finish. \\n⚫The soundtrack is gorgeous!! I love it!\\n⚫Christopher Judge and Sunny Suljic really bring Kratos and Atreus to life and we all know the \"BOY\" statement by now! That\\'s not all, Freya is voiced by the talented Danielle Bisutti and Thor who is voiced by Ryan Hurst (known for Sons of Anarchy or The Walking Dead\\'s Omega).\\n⚫There is tonnes of lore, collectables and hidden little areas for you to explore! Remnants for one and Odins puzzles another. Not all collectables can be collected until you complete the game so you are in for a long journey!\\n⚫In any typical game you get side missions that are just downright boring and bland but in GOW:R they side quests REALLY standout as they add an unbelievable amount of character development behind them.\\n⚫The graphics are superb. Gorgeous even and picture-perfect-post-card worthy at times. \\n⚫You can freely explore several different realms, if you have played 2018\\'s GOW then you will know of Alfheim, which has been changed a little but for the better which makes it stand out amongst all the other realms! \\n⚫The attention to detail is phenomenal. This is what you call a WORK OF ART. A LABOR OF LOVE. You can tell the people that worked on GOW:R have true love and passion about the game!!!\\n⚫The old armour customisation has now been streamlined and has been made very straightforward. Now you can take your favourite piece of equipment with you from start to end of the game!! \\n⚫The puzzles are fun and new puzzles are introduced regularly which means you will not be doing the same thing over and over again for several hours till a new one comes into play.\\n\\n[h1][b] My Verdict [/b][/h1] \\nPhew... after all of that is said and done, I could go on and on and on in detail about each element of the game. Combat. Story. Graphics. Sound e.t.c but I cannot as Steam only allows a certain amount of words sadly but I think I have said enough for anyone looking to get into GOW:R!\\n\\nSo, would I recommend God of War Ragnarök. DAMN RIGHT I WOULD!!! This is what you call a \"VIDEO-GAME\" that is true to both it\\'s origins and it\\'s future! It is made with love and passion, clearly, and will forever me the highest standpoint for future games of it\\'s kind!\\n\\n[h1][b] 10/10 - GOTY worthy and undeniably unforgettable! A single-player game that blows away all others! [/b][/h1]'}]\n"
     ]
    },
    {
     "name": "stderr",
     "output_type": "stream",
     "text": [
      " 85%|████████▍ | 89/105 [03:46<00:38,  2.41s/it]"
     ]
    },
    {
     "name": "stdout",
     "output_type": "stream",
     "text": [
      "Would you recommend buying Assassin's Creed Odyssey at launch?\n",
      "[{'appid': '2322010', 'review': \"I really wanted to give this game a thumbs up because it IS actually a good game, but the PSN requirement is stupid as hell and Sony needs to know that gamers will not stand for this. Not only did the PSN SDK fail to launch on Linux and prevented me from playing the game until I made it think that I was playing on a Steam Deck using the `SteamDeck=1 %command%` launch option, it also prevented users from regions unsupported by PSN from playing at all.\\n\\nSony, this is a single player game. Demanding an account sign up is just ridiculous and completely unnecessary. You're literally losing sales from players all over the world who want to play this otherwise amazing game. You're also making it difficult for paying customers on Steam Deck and Linux to play this game on the platform of their choice. You were gaining so much good will before with your PC ports. Gamers were literally double dipping and buying your games twice just to play on PC, but you've absolutely squandered that good will with the PSN requirement. Stop letting corporate managers fuck up your PC launches and start thinking about what gamers actually care about.\"}, {'appid': '2322010', 'review': 'absolutely love this game! 10x better than the last one in terms of story and characters and boss battles. 15/10 would recommend'}]\n"
     ]
    },
    {
     "name": "stderr",
     "output_type": "stream",
     "text": [
      " 86%|████████▌ | 90/105 [03:48<00:36,  2.40s/it]"
     ]
    },
    {
     "name": "stdout",
     "output_type": "stream",
     "text": [
      "Is the combat system in Gotham Knights limited compared to other action games?\n",
      "[{'appid': '2322010', 'review': 'Level design is on top, multiple puzzles and great award system. Each location is filled with treasures and focal guides. They tell the story here.\\n\\nThe story telling itself is great. GoW 2018, compared to Ragnarök, felt more \"hopeful\" and positive in a way, whilst Ragnarök setting feels like desperation and end of times (as it should tho). Great work of Santa Monica Studio.\\n\\nSpoiler [spoiler] Not a fan playing as Atreus. He\\'s got great moves and fun combat, but the Ironwood level was too long and boring in most parts. [/spoiler]\\n\\nAs for PSN account, I\\'ve had one before, so it took me literally a few seconds to log in. Not sure how the process goes for those who do not have any accounts, but the fact that it is required in order to play a singleplayer game sucks.\\n\\nGreat game tho.'}, {'appid': '2322010', 'review': 'I can recommend this game to anyone who is allowed by Sony to buy it!\\nThe game is alright to play even today so long after it came out on PlayStation, runs very well on my hardware, looks pretty good and is good to play, it aged well. Devs went extra mile implementing framegen, upscaling, suround sound and proper HDR.\\nNow to why I do join the negative reviews. The thing is my brother lives in a country where this game is blocked to be purchased on Steam by Sony. Let me repeat myself - Steam platform is legal and supported in that country, but Sony said Valve to block their new games from said country. There is absolutely no reason to do this. No justification. I understand Sony is blocking some countries from their own platform - PSN for reasons, but telling Valve to block countries that Steam supports for any other game except all upcoming Sony published games is just complete disaster. My brother has even bought most of previous Sony games that are still to this day available on Steam for purchase, but all of a sudden all newly released and upcoming single player games are blocked.\\nThe dumbest part is that my brother was forced to move to one of EU countries, not some jungle or desert in middle of nowhere, it is EU country and Sony forced Valve to block the country for absolutely no reason from buying some single player games.\\nThis is just wrong, very very wrong!'}]\n"
     ]
    },
    {
     "name": "stderr",
     "output_type": "stream",
     "text": [
      " 87%|████████▋ | 91/105 [03:50<00:33,  2.40s/it]"
     ]
    },
    {
     "name": "stdout",
     "output_type": "stream",
     "text": [
      "Does Gotham Knights allow for killing or is it focused more on stealth?\n",
      "[{'appid': '2322010', 'review': \"Having to sign in with a PS account is already annoying, but it will not allow me to access my account what so ever even after resetting my password. Also why does a PS account matter, i still have to repurchase this game or any of the other countless games that i have already own on PlayStation. I then tried to make a new account, I made a new gmail for this account and it still would not let me finish making it.  I can't play this game at the moment.\"}, {'appid': '2322010', 'review': 'Played it on PS4pro, which almost melted every time I played it in 30FPS.\\nPlayed it on PS5, which made me chose between 30FPS fidelity and 60FPS 2k blurfest*.\\nPlaying it on PC right now, looks twice as good, 4k, everything ultra, full DLAA, still 60-90 FPS. \\nNow I\\'m happy.\\nThank you, SONY\\nNOW\\nGIVE\\nME\\nBLOODBORNE\\nON\\nPC\\n\\nPretty please\\n\\n*OK, have to clarify since I got a ton of angry comments below the review. \\n(Oh boy, that will teach me not to tick the \"allow comments\" ever again.)\\nPS5 1440p mode looks fine on my TV and it looks fine on my 2k monitor. 1440p does NOT look fine on a monitor with a native 5120x2880 resolution, which is my primary.\\n\\nRegarding PSN:\\nComplaints come from people with a steam account, a paypal account, an apple or Samsung phone, and 5 different social media accounts. All of your online behaviour is tracked anyways. Deal with it and adapt. In case you need to snort coca**n out of a lad*b**s b*ttcr**ck, use VPN and always pay cash.\\nUpdate: Nexusmod got a 1.6MB file that gets rid of PSN completely.'}]\n"
     ]
    },
    {
     "name": "stderr",
     "output_type": "stream",
     "text": [
      " 88%|████████▊ | 92/105 [03:52<00:29,  2.25s/it]"
     ]
    },
    {
     "name": "stdout",
     "output_type": "stream",
     "text": [
      "Is there a significant amount of dialogue in Gotham Knights that detracts from the action?\n",
      "[{'appid': '2322010', 'review': '- Requires online connection for a single player game\\n- Requires PSN Account\\n- (North, Central, and South America) Both PSN account and 3rd party game EULA enters you into a forced arbitration agreement from the date you purchase the game (not install) unless you send a physical letter to Sony\\'s U.S HQ:\\nIF YOU ARE A UNITED STATES RESIDENT OR A RESIDENT OF A COUNTRY IN NORTH, CENTRAL OR SOUTH AMERICA, TO THE FULLEST EXTENT PERMITTED BY LAW, THIS AGREEMENT CONTAINS A BINDING INDIVIDUAL ARBITRATION AND CLASS ACTION WAIVER PROVISION IN SECTION 9 THAT AFFECTS YOUR RIGHTS UNDER THIS AGREEMENT AND WITH RESPECT TO ANY \"DISPUTE\" (AS DEFINED IN SECTION 9) BETWEEN YOU AND A SONY ENTITY (AS DEFINED IN SECTION 9)\\n....\\nIF YOU DO NOT WISH TO BE BOUND BY THE BINDING ARBITRATION AND CLASS ACTION WAIVER IN THIS SECTION 9, YOU MUST NOTIFY SIE IN WRITING WITHIN 30 DAYS OF THE DATE THAT YOU FIRST PURCHASE OR DOWNLOAD THE SOFTWARE (WHICHEVER IS EARLIER). YOUR WRITTEN NOTIFICATION MUST BE MAILED TO SONY INTERACTIVE ENTERTAINMENT LLC, 2207 BRIDGEPOINTE PARKWAY, SAN MATEO, CA 94404, UNITED STATES, ATTN: LEGAL DEPARTMENT - WAIVER, AND MUST INCLUDE: (1) YOUR NAME, (2) YOUR ADDRESS, (3) YOUR PLAYSTATION NETWORK SIGN-IN ID IF YOU HAVE ONE, AND (4) A CLEAR STATEMENT THAT YOU DO NOT WISH TO RESOLVE DISPUTES WITH SONY ENTITY THROUGH ARBITRATION.\\n\\nThe game also forces data collection: one of the first options is default set to \"full data collection\" and you can toggle between that and minimal collection, which, for a single player game, is not necessary. As though the $80 price is not enough for Sony.\\n'}, {'appid': '2322010', 'review': \"to God of War: Ragnarok Dev. Team,\\n\\nI’m writing to bring to your attention an issue regarding the current PC port of God of War: Ragnarok that affects users with 4GB VRAM graphics cards. When attempting to launch the game on such systems, an error message is displayed, indicating that there is not enough VRAM, and the game closes without allowing users to proceed. It is my humble request to kindly reconsider or remove this VRAM limitation. From personal experience and community feedback, I can confirm that the game runs well on certain integrated graphics processors (such as the Ryzen 3 3200G, Ryzen 5 3400G, and Ryzen 7 5700G), which are generally weaker than many 4GB VRAM GPUs available today. God of War: Ragnarok performs on the base PlayStation 4, which further suggests that the game should be capable of running on 4GB VRAM graphics cards, and the latest Steam Hardware Survey shows that one of the most widely used graphics cards among gamers is the GTX 1650, which comes with 4GB of VRAM and is ranked within the top three most popular cards. Limiting access to such a significant portion of the player base can potentially prevent many from enjoying your incredible game. Removing or adjusting this VRAM limitation would greatly benefit the gaming community, ensuring that a larger audience can experience God of War: Ragnarok on PC!\\n\\nEDIT : there’s a workaround and you can bypass this VRAM limit error by using a mod. ( MOD LINK : https://www.nexusmods.com/godofwarragnarok/mods/12?tab=files ) To install it, just drag and drop the files into the game's root folder, and the game should launch without any issues. It's unclear why Jetpack Interactive locked out 4GB VRAM cards, especially since the game runs just fine on them!\"}]\n"
     ]
    },
    {
     "name": "stderr",
     "output_type": "stream",
     "text": [
      " 89%|████████▊ | 93/105 [03:55<00:27,  2.26s/it]"
     ]
    },
    {
     "name": "stdout",
     "output_type": "stream",
     "text": [
      "What are the reported performance issues, specifically FPS, when playing Gotham Knights on low settings?\n",
      "[{'appid': '2322010', 'review': \"Sorry for the countries that cannot make PSN accounts and there for can't play the game I fully feel for you. Those of you that can and are complaining whomp whomp it ain't that hard at least you can play the game. Steam deck users, not sure why but I didnt have to log into PSN via steam deck for some odd reason. Pressed play, got a black screen briefly and then the game loaded.\\n\\nNow for people who want to know if this runs on the steam deck. I'm currently getting between 30-45 fps, low settings, AMD FSR 3.1 balanced , vsync off, fps limit off. Steam deck settings I've now locked the fps here as leaving it at 90fps I found it was a bit choppy. I've locked it to 36 fps and 1 hour in the game feels pretty damn smooth.\\n\\nEdit: after playing further into the game when reaching svartalfheim there was a pretty big tank in performance on the steam deck. Upon entering svartalfheim I got roughly 25-30 fps some times dropping to 20 fps, however, after reaching the free roam area via boat the performance increased. I am actually able to play AMD FSR Quality between 30-45 fps I've now unlocked the refresh rate via steam deck settings and it is smoother than when I previously locked  it to 36fps. Also thank you for the clown awards, free points and I can play the game in peace knowing I didn't have to log into PSN network and cry about it.\"}, {'appid': '2322010', 'review': \"Fantastic so far. Basically a bigger, more fleshed out and prettier version of the last game with new worlds and biomes to explore, and new enemies to fight. Mostly the same type of gameplay, puzzle solving and banter between familiar characters. Though combat has been expanded with more combos and skills. So if you enjoyed GoW 2018, you'll feel right at home.\\n\\nThe day 2 patch fixed all the minor day-1 issues I had - performance is better, frame generation now works, audio balancing is fixed, and the low-resolution HUD graphics are fixed.\\n\\nOn a 4080 and i7 13700K, it's running at 160-200fps maxed out at 2560x1440. Looks and feels incredibly smooth.\"}]\n"
     ]
    },
    {
     "name": "stderr",
     "output_type": "stream",
     "text": [
      " 90%|████████▉ | 94/105 [03:58<00:27,  2.46s/it]"
     ]
    },
    {
     "name": "stdout",
     "output_type": "stream",
     "text": [
      "How does Gotham Knights compare to previous BatMan games in terms of gameplay experience?\n",
      "[{'appid': '2322010', 'review': 'absolutely love this game! 10x better than the last one in terms of story and characters and boss battles. 15/10 would recommend'}, {'appid': '2322010', 'review': 'Why is this 100% single player experience forcing me to sign in with PSN? I understand that some people are given the OPTION to sign in but for others ( like me) it\\'s a requirement. Why? When I launch the game it just says \"A PSN account is required to play.\" and then I can either sign in, or quit the game. WTF? I hated it when EA did it, I hated it when Microsoft did it. I EPSECIALLY hated it when Ubisoft did it (Seriously GFYS Ubisoft). And I hate it now with Playstation doing it. The difference is that God of War: Ragnarok has ZERO online features. I can somewhat understand for games that are multiplayer or have online features but a single player only game? That\\'s a hard no from me.\\n\\nEdit: To a few of the people who commented. Not everyone does copious amounts of research on every single requirement, recommended specs, and reads the TOS for every game they play. That\\'s a terrible argument and a completely unreasonable expectation. Stop making excuses for bad consumer practices. L corpo bootlicking.'}]\n"
     ]
    },
    {
     "name": "stderr",
     "output_type": "stream",
     "text": [
      " 90%|█████████ | 95/105 [04:00<00:23,  2.36s/it]"
     ]
    },
    {
     "name": "stdout",
     "output_type": "stream",
     "text": [
      "Is Marvel's Spider-Man Remastered a well-optimized game upon release?\n",
      "[{'appid': '2322010', 'review': \"GOW Ragnarök 10/10\\nFast release Demon's Souls, Stellar Blade, Spider Man 2, TLOU 2 Remastered and Bloodborne :)\\n\"}, {'appid': '2322010', 'review': 'The days of searching for \"Spider-Man PC, Uncharted PC, Ghost of Tsushima PC, God of War PC\" a million times are finally over.\\n\\n\\nIt\\'s time to bring Bloodborne™ DEMON SOULS .'}]\n"
     ]
    },
    {
     "name": "stderr",
     "output_type": "stream",
     "text": [
      " 91%|█████████▏| 96/105 [04:02<00:20,  2.24s/it]"
     ]
    },
    {
     "name": "stdout",
     "output_type": "stream",
     "text": [
      "How does Marvel's Spider-Man Remastered compare to other superhero games like the Batman Arkham series?\n",
      "[{'appid': '2322010', 'review': \"GOW Ragnarök 10/10\\nFast release Demon's Souls, Stellar Blade, Spider Man 2, TLOU 2 Remastered and Bloodborne :)\\n\"}, {'appid': '2322010', 'review': 'The days of searching for \"Spider-Man PC, Uncharted PC, Ghost of Tsushima PC, God of War PC\" a million times are finally over.\\n\\n\\nIt\\'s time to bring Bloodborne™ DEMON SOULS .'}]\n"
     ]
    },
    {
     "name": "stderr",
     "output_type": "stream",
     "text": [
      " 92%|█████████▏| 97/105 [04:03<00:16,  2.12s/it]"
     ]
    },
    {
     "name": "stdout",
     "output_type": "stream",
     "text": [
      "Can players enjoy Marvel's Spider-Man Remastered without focusing on story missions?\n",
      "[{'appid': '2322010', 'review': \"GOW Ragnarök 10/10\\nFast release Demon's Souls, Stellar Blade, Spider Man 2, TLOU 2 Remastered and Bloodborne :)\\n\"}, {'appid': '2322010', 'review': 'The days of searching for \"Spider-Man PC, Uncharted PC, Ghost of Tsushima PC, God of War PC\" a million times are finally over.\\n\\n\\nIt\\'s time to bring Bloodborne™ DEMON SOULS .'}]\n"
     ]
    },
    {
     "name": "stderr",
     "output_type": "stream",
     "text": [
      " 93%|█████████▎| 98/105 [04:06<00:15,  2.19s/it]"
     ]
    },
    {
     "name": "stdout",
     "output_type": "stream",
     "text": [
      "What are the main highlights of the gameplay experience in Marvel's Spider-Man Remastered?\n",
      "[{'appid': '2322010', 'review': \"GOW Ragnarök 10/10\\nFast release Demon's Souls, Stellar Blade, Spider Man 2, TLOU 2 Remastered and Bloodborne :)\\n\"}, {'appid': '2322010', 'review': 'The days of searching for \"Spider-Man PC, Uncharted PC, Ghost of Tsushima PC, God of War PC\" a million times are finally over.\\n\\n\\nIt\\'s time to bring Bloodborne™ DEMON SOULS .'}]\n"
     ]
    },
    {
     "name": "stderr",
     "output_type": "stream",
     "text": [
      " 94%|█████████▍| 99/105 [04:09<00:14,  2.50s/it]"
     ]
    },
    {
     "name": "stdout",
     "output_type": "stream",
     "text": [
      "Is Marvel's Spider-Man Remastered available for purchase on Steam?\n",
      "[{'appid': '2322010', 'review': \"GOW Ragnarök 10/10\\nFast release Demon's Souls, Stellar Blade, Spider Man 2, TLOU 2 Remastered and Bloodborne :)\\n\"}, {'appid': '2322010', 'review': 'I can recommend this game to anyone who is allowed by Sony to buy it!\\nThe game is alright to play even today so long after it came out on PlayStation, runs very well on my hardware, looks pretty good and is good to play, it aged well. Devs went extra mile implementing framegen, upscaling, suround sound and proper HDR.\\nNow to why I do join the negative reviews. The thing is my brother lives in a country where this game is blocked to be purchased on Steam by Sony. Let me repeat myself - Steam platform is legal and supported in that country, but Sony said Valve to block their new games from said country. There is absolutely no reason to do this. No justification. I understand Sony is blocking some countries from their own platform - PSN for reasons, but telling Valve to block countries that Steam supports for any other game except all upcoming Sony published games is just complete disaster. My brother has even bought most of previous Sony games that are still to this day available on Steam for purchase, but all of a sudden all newly released and upcoming single player games are blocked.\\nThe dumbest part is that my brother was forced to move to one of EU countries, not some jungle or desert in middle of nowhere, it is EU country and Sony forced Valve to block the country for absolutely no reason from buying some single player games.\\nThis is just wrong, very very wrong!'}]\n"
     ]
    },
    {
     "name": "stderr",
     "output_type": "stream",
     "text": [
      " 95%|█████████▌| 100/105 [04:12<00:12,  2.49s/it]"
     ]
    },
    {
     "name": "stdout",
     "output_type": "stream",
     "text": [
      "Is Neo Cab a fully optimized game that functions well upon launch?\n",
      "[{'appid': '2322010', 'review': \"to God of War: Ragnarok Dev. Team,\\n\\nI’m writing to bring to your attention an issue regarding the current PC port of God of War: Ragnarok that affects users with 4GB VRAM graphics cards. When attempting to launch the game on such systems, an error message is displayed, indicating that there is not enough VRAM, and the game closes without allowing users to proceed. It is my humble request to kindly reconsider or remove this VRAM limitation. From personal experience and community feedback, I can confirm that the game runs well on certain integrated graphics processors (such as the Ryzen 3 3200G, Ryzen 5 3400G, and Ryzen 7 5700G), which are generally weaker than many 4GB VRAM GPUs available today. God of War: Ragnarok performs on the base PlayStation 4, which further suggests that the game should be capable of running on 4GB VRAM graphics cards, and the latest Steam Hardware Survey shows that one of the most widely used graphics cards among gamers is the GTX 1650, which comes with 4GB of VRAM and is ranked within the top three most popular cards. Limiting access to such a significant portion of the player base can potentially prevent many from enjoying your incredible game. Removing or adjusting this VRAM limitation would greatly benefit the gaming community, ensuring that a larger audience can experience God of War: Ragnarok on PC!\\n\\nEDIT : there’s a workaround and you can bypass this VRAM limit error by using a mod. ( MOD LINK : https://www.nexusmods.com/godofwarragnarok/mods/12?tab=files ) To install it, just drag and drop the files into the game's root folder, and the game should launch without any issues. It's unclear why Jetpack Interactive locked out 4GB VRAM cards, especially since the game runs just fine on them!\"}, {'appid': '2322010', 'review': \"Sorry for the countries that cannot make PSN accounts and there for can't play the game I fully feel for you. Those of you that can and are complaining whomp whomp it ain't that hard at least you can play the game. Steam deck users, not sure why but I didnt have to log into PSN via steam deck for some odd reason. Pressed play, got a black screen briefly and then the game loaded.\\n\\nNow for people who want to know if this runs on the steam deck. I'm currently getting between 30-45 fps, low settings, AMD FSR 3.1 balanced , vsync off, fps limit off. Steam deck settings I've now locked the fps here as leaving it at 90fps I found it was a bit choppy. I've locked it to 36 fps and 1 hour in the game feels pretty damn smooth.\\n\\nEdit: after playing further into the game when reaching svartalfheim there was a pretty big tank in performance on the steam deck. Upon entering svartalfheim I got roughly 25-30 fps some times dropping to 20 fps, however, after reaching the free roam area via boat the performance increased. I am actually able to play AMD FSR Quality between 30-45 fps I've now unlocked the refresh rate via steam deck settings and it is smoother than when I previously locked  it to 36fps. Also thank you for the clown awards, free points and I can play the game in peace knowing I didn't have to log into PSN network and cry about it.\"}]\n"
     ]
    },
    {
     "name": "stderr",
     "output_type": "stream",
     "text": [
      " 96%|█████████▌| 101/105 [04:14<00:09,  2.37s/it]"
     ]
    },
    {
     "name": "stdout",
     "output_type": "stream",
     "text": [
      "Does Neo Cab deliver on the promises made by its developers prior to release?\n",
      "[{'appid': '2322010', 'review': \"No lifed this game on my four days off and it was an incredible journey. I saw other people commenting on how the ideas didn't seem to form together well, but I think everything has been tied off nicely, especially with the Valhalla mode added after the game's release. I'm both excited and curious to see what they do with future installments, if there will be any at all. The only thing that will suck is having to wait 1-2 years after the next game's release for it to come to PC, but I know the wait will definitely be worth it.\"}, {'appid': '2322010', 'review': \"Having to sign in with a PS account is already annoying, but it will not allow me to access my account what so ever even after resetting my password. Also why does a PS account matter, i still have to repurchase this game or any of the other countless games that i have already own on PlayStation. I then tried to make a new account, I made a new gmail for this account and it still would not let me finish making it.  I can't play this game at the moment.\"}]\n"
     ]
    },
    {
     "name": "stderr",
     "output_type": "stream",
     "text": [
      " 97%|█████████▋| 102/105 [04:16<00:07,  2.51s/it]"
     ]
    },
    {
     "name": "stdout",
     "output_type": "stream",
     "text": [
      "How does the dialogue in Neo Cab contribute to the overall experience of the game?\n",
      "[{'appid': '2322010', 'review': \"This is more then just a game, it's an experience. Full of the cleanest animations and fight scenes to the uncountable amount of dialog between characters that builds them along with the story. For a game centered around gods, it does an amazing job at making me feel pleasantly human. I have nothing but love and adoration for this game.\"}, {'appid': '2322010', 'review': 'Why is this 100% single player experience forcing me to sign in with PSN? I understand that some people are given the OPTION to sign in but for others ( like me) it\\'s a requirement. Why? When I launch the game it just says \"A PSN account is required to play.\" and then I can either sign in, or quit the game. WTF? I hated it when EA did it, I hated it when Microsoft did it. I EPSECIALLY hated it when Ubisoft did it (Seriously GFYS Ubisoft). And I hate it now with Playstation doing it. The difference is that God of War: Ragnarok has ZERO online features. I can somewhat understand for games that are multiplayer or have online features but a single player only game? That\\'s a hard no from me.\\n\\nEdit: To a few of the people who commented. Not everyone does copious amounts of research on every single requirement, recommended specs, and reads the TOS for every game they play. That\\'s a terrible argument and a completely unreasonable expectation. Stop making excuses for bad consumer practices. L corpo bootlicking.'}]\n"
     ]
    },
    {
     "name": "stderr",
     "output_type": "stream",
     "text": [
      " 98%|█████████▊| 103/105 [04:18<00:04,  2.36s/it]"
     ]
    },
    {
     "name": "stdout",
     "output_type": "stream",
     "text": [
      "What themes are explored in Neo Cab through its narrative and character interactions?\n",
      "[{'appid': '2322010', 'review': \"[h1]A Great Sequel, Held Back by Woke[/h1]\\n\\n[h3]Introduction[/h3]\\n\\nI played God of War: Ragnarök earlier this year on my PS5, spending over 90 hours to get the platinum for both the base game and the Valhalla DLC. You can check my stats and trophies here from the comments. After all those hours of gameplay, I can confidently say that Ragnarök delivers a great experience, though it has some issues that hold it back from being a masterpiece like its predecessor.\\n\\n[h3]Not Just a DLC[/h3] \\n \\nOne of the biggest criticisms people have thrown at Ragnarök is that it feels like a glorified DLC of the 2018 game, but I strongly disagree with that take. Sure, it has a similar design and gameplay structure, but that doesn’t make it a mere DLC. There’s more than enough new content, including new realms, characters, and abilities, to call it a full-fledged sequel. The combat, which was already excellent in God of War 2018, feels more refined. Plus, the new variety of enemies and more boss fights elevate the action to another level.\\n\\n[h3]Expanded Gameplay and Content[/h3] \\n\\nThe gameplay in Ragnarök is much more expanded compared to God of War 2018. There’s more variety in combat options, and the game offers deeper customization for your weapons, armor, and abilities, allowing players to tailor their playstyle in even more ways. Content-wise, the game also delivers far more to do, with a much richer world to explore. One major complaint about God of War 2018 was the repetitive enemy and boss fights. Thankfully, Ragnarök improves on this significantly. While there are still some repeated enemies and bosses, it happens far less often than in the previous game. One of the standout improvements in Ragnarök is the optional content. I've found them very fun to do and the same with hunting trophies once again, like the prequel. These side quests don’t feel like chores; they’re genuinely rewarding and worth doing. The post-launch Valhalla DLC is also a cool addition. While it’s much shorter than I expected and I wish there was more of it to sink into, but I can’t complain since it’s free.\\n\\n[h3]The Woke Influence[/h3]\\n\\nThere’s an undeniable feeling that Ragnarök leans into a more woke tone. This isn’t just a personal opinion. There’s actual evidence that points to this. The developers worked with Sweet Baby Inc., a company known for inclusive storytelling, and that influence is noticeable throughout the game. Certain plotlines and character decisions feel forced, and at times, the story becomes nonsensical. While this may not bother some players, I found it detracted from the experience, making the narrative feel weaker. Replacing Cory Barlog as the main director was a huge mistake.\\n\\nhttps://steamcommunity.com/sharedfiles/filedetails/?id=3210225946\\n\\n[h3]Story and Narrative Issues[/h3] \\n\\nNow, let’s talk about one of the game’s major drawbacks: the narrative. The 2018 game told a tight, focused narrative centered on the relationship between Kratos and Atreus. In contrast, Ragnarök introduces a lot more characters and plotlines, which can sometimes feel overwhelming. Unfortunately, the game doesn’t spend enough time fully developing these new elements, and as a result, the story feels rushed in certain parts. Instead of the tight, emotional focus of the first game, Ragnarök tries to do too much and wraps up many plot points too quickly. Compared to the more compact, well-told story of God of War 2018, Ragnarök struggles to find the same emotional depth and coherence. This is a huge bummer since I was really hoping for a great story and narrative after the bar set by the predecessor. \\n\\n[h3]Graphics – A Missed Opportunity[/h3]  \\n\\nVisually, Ragnarök is a step up from God of War 2018, but not by much. The graphics are definitely a little better, with sharper textures and improved lighting effects. However, I can't help but feel that the game’s visual potential was held back because it was also released for the PS4. If Ragnarök had been a PS5 exclusive, I think the graphics could have been way better and more impressive. By having to cater to last-gen hardware, the game wasn’t able to push the boundaries as far as it could have, which is a bit disappointing. Still, the game looked beautiful on the PS5 and I am sure it looks even better on PC.\\n\\n[h3]Music – Less Memorable[/h3]  \\n\\nSurprisingly, I didn’t enjoy Ragnarök’s soundtrack not even close to as I did the 2018 game's music. The composer, Bear McCreary, is the same for both, yet, the music in Ragnarök didn’t stick with me in the same way. That's because Ragnarök’s soundtrack mainly consists of redone versions of tracks from its predecessor, with not many new compositions that stand out. This lack of fresh and impactful new music made the soundtrack feel less original and less memorable. I still occasionally listen to God of War 2018’s soundtrack because it was so impactful, but I’ve never felt the urge to listen to Ragnarök’s music outside the game.\\n\\n[h3]Expands, But Doesn’t Elevate[/h3]\\n  \\nOverall, I feel like there’s not much more to say about God of War Ragnarök. The game’s strengths are obvious, and they are mostly the same as in 2018. I’ve also mentioned the negatives, such as the woke elements and narrative problems. On top of that, the fact that it plays so safe and similarly to God of War 2018, is a negative for me. When a sequel feels too close to its predecessor, it loses some of its impact for me. Don't get me wrong -Ragnarök is a great game, and I highly recommend it- it just doesn’t feel like the groundbreaking game that God of War 2018 was for me.\\n\\n[h1]GOLDEN MEDAL[/h1]\\n\\nFollow My [URL=https://store.steampowered.com/curator/40523765-Bearsonal/]Curator Page ⚜️[/URL]\"}, {'appid': '2322010', 'review': \"When you boot up the game you are given 2 options: create a PSN account or quit the game... A PSN account being required for a single player game is bullshit. What if the servers go down? What if you live in a country where you can't create a PSN account? What if they release God of War 3 and decide people should play that instead? I think this will push people to pirate the game. Hopefully someone creates a mod to remove this completely unnecessary requirement.\"}]\n"
     ]
    },
    {
     "name": "stderr",
     "output_type": "stream",
     "text": [
      " 99%|█████████▉| 104/105 [04:21<00:02,  2.29s/it]"
     ]
    },
    {
     "name": "stdout",
     "output_type": "stream",
     "text": [
      "Is there a built-in system for saving progress in Neo Cab, and how does it work?\n",
      "[{'appid': '2322010', 'review': 'Level design is on top, multiple puzzles and great award system. Each location is filled with treasures and focal guides. They tell the story here.\\n\\nThe story telling itself is great. GoW 2018, compared to Ragnarök, felt more \"hopeful\" and positive in a way, whilst Ragnarök setting feels like desperation and end of times (as it should tho). Great work of Santa Monica Studio.\\n\\nSpoiler [spoiler] Not a fan playing as Atreus. He\\'s got great moves and fun combat, but the Ironwood level was too long and boring in most parts. [/spoiler]\\n\\nAs for PSN account, I\\'ve had one before, so it took me literally a few seconds to log in. Not sure how the process goes for those who do not have any accounts, but the fact that it is required in order to play a singleplayer game sucks.\\n\\nGreat game tho.'}, {'appid': '2322010', 'review': 'PSN account is mandatory with no option to skip. Refunded and will only re-buy and update this review if Sony makes the account optional. When creating an account, age verification is required via a third party (Yoti) which requires either facial scan, ID or mobile number. There is no law in my country (Ireland) requiring age verification for videogames, so Sony has no excuse for making this mandatory. The game also installs Playstation PC SDK Runtime and does not uninstall it when uninstalling the game.'}]\n"
     ]
    },
    {
     "name": "stderr",
     "output_type": "stream",
     "text": [
      "100%|██████████| 105/105 [04:23<00:00,  2.51s/it]\n"
     ]
    }
   ],
   "source": [
    "evaluations = []\n",
    "\n",
    "for record in tqdm(ground_truth):\n",
    "    question = record['question']\n",
    "    print(question)\n",
    "    answer_llm = rag(question) \n",
    "\n",
    "    prompt = prompt_template.format(\n",
    "        question=question,\n",
    "        answer_llm=answer_llm\n",
    "    )\n",
    "\n",
    "    evaluation = llm(prompt)\n",
    "    evaluation = json.loads(evaluation)\n",
    "\n",
    "    evaluations.append((record, answer_llm, evaluation))"
   ]
  },
  {
   "cell_type": "code",
   "execution_count": null,
   "id": "01bcb3da-9e87-4a81-a92e-2d31d0903d20",
   "metadata": {},
   "outputs": [],
   "source": []
  },
  {
   "cell_type": "code",
   "execution_count": 49,
   "id": "f1dc2bb9-8d56-4508-983e-49e3fecbe34d",
   "metadata": {},
   "outputs": [],
   "source": [
    "df_eval = pd.DataFrame(evaluations, columns=['record', 'answer', 'evaluation'])\n",
    "\n",
    "df_eval['appid'] = df_eval.record.apply(lambda d: d['appid'])\n",
    "df_eval['question'] = df_eval.record.apply(lambda d: d['question'])\n",
    "\n",
    "df_eval['relevance'] = df_eval.evaluation.apply(lambda d: d['relevance'])\n",
    "df_eval['explanation'] = df_eval.evaluation.apply(lambda d: d['explanation'])\n",
    "\n",
    "del df_eval['record']\n",
    "del df_eval['evaluation']"
   ]
  },
  {
   "cell_type": "code",
   "execution_count": 50,
   "id": "b71ebab5-857c-4fb1-ad33-b484c3bccc9b",
   "metadata": {},
   "outputs": [
    {
     "data": {
      "text/plain": [
       "relevance\n",
       "NON_RELEVANT       72\n",
       "PARTLY_RELEVANT    23\n",
       "RELEVANT           10\n",
       "Name: count, dtype: int64"
      ]
     },
     "execution_count": 50,
     "metadata": {},
     "output_type": "execute_result"
    }
   ],
   "source": [
    "df_eval.relevance.value_counts()"
   ]
  },
  {
   "cell_type": "code",
   "execution_count": 51,
   "id": "fd8e3118-9444-4314-9bfa-29a8cd02b782",
   "metadata": {},
   "outputs": [
    {
     "data": {
      "text/plain": [
       "relevance\n",
       "NON_RELEVANT       0.685714\n",
       "PARTLY_RELEVANT    0.219048\n",
       "RELEVANT           0.095238\n",
       "Name: proportion, dtype: float64"
      ]
     },
     "execution_count": 51,
     "metadata": {},
     "output_type": "execute_result"
    }
   ],
   "source": [
    "df_eval.relevance.value_counts(normalize=True)"
   ]
  },
  {
   "cell_type": "code",
   "execution_count": 52,
   "id": "ecfd9722-b2bc-40d0-8751-da1621bac330",
   "metadata": {},
   "outputs": [
    {
     "data": {
      "text/html": [
       "<div>\n",
       "<style scoped>\n",
       "    .dataframe tbody tr th:only-of-type {\n",
       "        vertical-align: middle;\n",
       "    }\n",
       "\n",
       "    .dataframe tbody tr th {\n",
       "        vertical-align: top;\n",
       "    }\n",
       "\n",
       "    .dataframe thead th {\n",
       "        text-align: right;\n",
       "    }\n",
       "</style>\n",
       "<table border=\"1\" class=\"dataframe\">\n",
       "  <thead>\n",
       "    <tr style=\"text-align: right;\">\n",
       "      <th></th>\n",
       "      <th>answer</th>\n",
       "      <th>appid</th>\n",
       "      <th>question</th>\n",
       "      <th>relevance</th>\n",
       "      <th>explanation</th>\n",
       "    </tr>\n",
       "  </thead>\n",
       "  <tbody>\n",
       "    <tr>\n",
       "      <th>4</th>\n",
       "      <td>{\\n  \"relevance\": \"RELEVANT\",\\n  \"explanation\"...</td>\n",
       "      <td>2322010</td>\n",
       "      <td>Is there any mention of the game's story or ga...</td>\n",
       "      <td>RELEVANT</td>\n",
       "      <td>The generated answer clearly indicates that bo...</td>\n",
       "    </tr>\n",
       "    <tr>\n",
       "      <th>18</th>\n",
       "      <td>{\\n  \"relevance\": \"RELEVANT\",\\n  \"explanation\"...</td>\n",
       "      <td>582160</td>\n",
       "      <td>What were the standout features mentioned in t...</td>\n",
       "      <td>RELEVANT</td>\n",
       "      <td>The generated answer explicitly addresses the ...</td>\n",
       "    </tr>\n",
       "    <tr>\n",
       "      <th>20</th>\n",
       "      <td>{\\n  \"relevance\": \"PARTLY_RELEVANT\",\\n  \"expla...</td>\n",
       "      <td>447040</td>\n",
       "      <td>Does Watch_Dogs 2 have any major bugs or perfo...</td>\n",
       "      <td>RELEVANT</td>\n",
       "      <td>The generated answer directly addresses the qu...</td>\n",
       "    </tr>\n",
       "    <tr>\n",
       "      <th>33</th>\n",
       "      <td>{\\n  \"relevance\": \"RELEVANT\",\\n  \"explanation\"...</td>\n",
       "      <td>315210</td>\n",
       "      <td>Was the game released in a polished state, or ...</td>\n",
       "      <td>RELEVANT</td>\n",
       "      <td>The generated answer clearly addresses the que...</td>\n",
       "    </tr>\n",
       "    <tr>\n",
       "      <th>46</th>\n",
       "      <td>{\\n  \"relevance\": \"RELEVANT\",\\n  \"explanation\"...</td>\n",
       "      <td>1680880</td>\n",
       "      <td>How did the reviewer feel about the game's per...</td>\n",
       "      <td>RELEVANT</td>\n",
       "      <td>The generated answer effectively summarizes th...</td>\n",
       "    </tr>\n",
       "    <tr>\n",
       "      <th>57</th>\n",
       "      <td>{\\n  \"relevance\": \"RELEVANT\",\\n  \"explanation\"...</td>\n",
       "      <td>1832040</td>\n",
       "      <td>Does the game experience any performance issue...</td>\n",
       "      <td>RELEVANT</td>\n",
       "      <td>The generated answer directly addresses the qu...</td>\n",
       "    </tr>\n",
       "    <tr>\n",
       "      <th>61</th>\n",
       "      <td>{\\n  \"relevance\": \"RELEVANT\",\\n  \"explanation\"...</td>\n",
       "      <td>2443720</td>\n",
       "      <td>What is the game's performance on high-end har...</td>\n",
       "      <td>RELEVANT</td>\n",
       "      <td>The generated answer accurately addresses the ...</td>\n",
       "    </tr>\n",
       "    <tr>\n",
       "      <th>74</th>\n",
       "      <td>{\\n  \"relevance\": \"RELEVANT\",\\n  \"explanation\"...</td>\n",
       "      <td>1086940</td>\n",
       "      <td>What are the reviews saying about the game's p...</td>\n",
       "      <td>RELEVANT</td>\n",
       "      <td>The generated answer directly addresses the qu...</td>\n",
       "    </tr>\n",
       "    <tr>\n",
       "      <th>84</th>\n",
       "      <td>{\\n  \"relevance\": \"RELEVANT\",\\n  \"explanation\"...</td>\n",
       "      <td>2698940</td>\n",
       "      <td>Is The Crew Motorfest worth buying at full pri...</td>\n",
       "      <td>RELEVANT</td>\n",
       "      <td>The generated answer addresses the question di...</td>\n",
       "    </tr>\n",
       "    <tr>\n",
       "      <th>93</th>\n",
       "      <td>{\\n  \"relevance\": \"RELEVANT\",\\n  \"explanation\"...</td>\n",
       "      <td>1496790</td>\n",
       "      <td>What are the reported performance issues, spec...</td>\n",
       "      <td>RELEVANT</td>\n",
       "      <td>The generated answer directly addresses the qu...</td>\n",
       "    </tr>\n",
       "  </tbody>\n",
       "</table>\n",
       "</div>"
      ],
      "text/plain": [
       "                                               answer    appid  \\\n",
       "4   {\\n  \"relevance\": \"RELEVANT\",\\n  \"explanation\"...  2322010   \n",
       "18  {\\n  \"relevance\": \"RELEVANT\",\\n  \"explanation\"...   582160   \n",
       "20  {\\n  \"relevance\": \"PARTLY_RELEVANT\",\\n  \"expla...   447040   \n",
       "33  {\\n  \"relevance\": \"RELEVANT\",\\n  \"explanation\"...   315210   \n",
       "46  {\\n  \"relevance\": \"RELEVANT\",\\n  \"explanation\"...  1680880   \n",
       "57  {\\n  \"relevance\": \"RELEVANT\",\\n  \"explanation\"...  1832040   \n",
       "61  {\\n  \"relevance\": \"RELEVANT\",\\n  \"explanation\"...  2443720   \n",
       "74  {\\n  \"relevance\": \"RELEVANT\",\\n  \"explanation\"...  1086940   \n",
       "84  {\\n  \"relevance\": \"RELEVANT\",\\n  \"explanation\"...  2698940   \n",
       "93  {\\n  \"relevance\": \"RELEVANT\",\\n  \"explanation\"...  1496790   \n",
       "\n",
       "                                             question relevance  \\\n",
       "4   Is there any mention of the game's story or ga...  RELEVANT   \n",
       "18  What were the standout features mentioned in t...  RELEVANT   \n",
       "20  Does Watch_Dogs 2 have any major bugs or perfo...  RELEVANT   \n",
       "33  Was the game released in a polished state, or ...  RELEVANT   \n",
       "46  How did the reviewer feel about the game's per...  RELEVANT   \n",
       "57  Does the game experience any performance issue...  RELEVANT   \n",
       "61  What is the game's performance on high-end har...  RELEVANT   \n",
       "74  What are the reviews saying about the game's p...  RELEVANT   \n",
       "84  Is The Crew Motorfest worth buying at full pri...  RELEVANT   \n",
       "93  What are the reported performance issues, spec...  RELEVANT   \n",
       "\n",
       "                                          explanation  \n",
       "4   The generated answer clearly indicates that bo...  \n",
       "18  The generated answer explicitly addresses the ...  \n",
       "20  The generated answer directly addresses the qu...  \n",
       "33  The generated answer clearly addresses the que...  \n",
       "46  The generated answer effectively summarizes th...  \n",
       "57  The generated answer directly addresses the qu...  \n",
       "61  The generated answer accurately addresses the ...  \n",
       "74  The generated answer directly addresses the qu...  \n",
       "84  The generated answer addresses the question di...  \n",
       "93  The generated answer directly addresses the qu...  "
      ]
     },
     "execution_count": 52,
     "metadata": {},
     "output_type": "execute_result"
    }
   ],
   "source": [
    "df_eval[df_eval[\"relevance\"]==\"RELEVANT\"]"
   ]
  },
  {
   "cell_type": "code",
   "execution_count": 53,
   "id": "fa818317-7e10-40bf-992e-d92489fe1b1d",
   "metadata": {},
   "outputs": [
    {
     "data": {
      "text/html": [
       "<div>\n",
       "<style scoped>\n",
       "    .dataframe tbody tr th:only-of-type {\n",
       "        vertical-align: middle;\n",
       "    }\n",
       "\n",
       "    .dataframe tbody tr th {\n",
       "        vertical-align: top;\n",
       "    }\n",
       "\n",
       "    .dataframe thead th {\n",
       "        text-align: right;\n",
       "    }\n",
       "</style>\n",
       "<table border=\"1\" class=\"dataframe\">\n",
       "  <thead>\n",
       "    <tr style=\"text-align: right;\">\n",
       "      <th></th>\n",
       "      <th>answer</th>\n",
       "      <th>appid</th>\n",
       "      <th>question</th>\n",
       "      <th>relevance</th>\n",
       "      <th>explanation</th>\n",
       "    </tr>\n",
       "  </thead>\n",
       "  <tbody>\n",
       "    <tr>\n",
       "      <th>1</th>\n",
       "      <td>{\\n  \"relevance\": \"NON_RELEVANT\",\\n  \"explanat...</td>\n",
       "      <td>2322010</td>\n",
       "      <td>What kind of PC specifications did the reviewe...</td>\n",
       "      <td>NON_RELEVANT</td>\n",
       "      <td>The answer does not address the specific quest...</td>\n",
       "    </tr>\n",
       "    <tr>\n",
       "      <th>2</th>\n",
       "      <td>{\\n  \"relevance\": \"NON_RELEVANT\",\\n  \"explanat...</td>\n",
       "      <td>2322010</td>\n",
       "      <td>What resolution and settings were used to play...</td>\n",
       "      <td>NON_RELEVANT</td>\n",
       "      <td>The generated answer does not provide any info...</td>\n",
       "    </tr>\n",
       "    <tr>\n",
       "      <th>3</th>\n",
       "      <td>{\\n  \"relevance\": \"NON_RELEVANT\",\\n  \"explanat...</td>\n",
       "      <td>2322010</td>\n",
       "      <td>Did the reviewer experience any performance is...</td>\n",
       "      <td>NON_RELEVANT</td>\n",
       "      <td>The generated answer does not address the spec...</td>\n",
       "    </tr>\n",
       "    <tr>\n",
       "      <th>5</th>\n",
       "      <td>{\\n  \"relevance\": \"NON_RELEVANT\",\\n  \"explanat...</td>\n",
       "      <td>2369390</td>\n",
       "      <td>Is the storytelling in Far Cry 6 engaging, or ...</td>\n",
       "      <td>NON_RELEVANT</td>\n",
       "      <td>The generated answer does not address the ques...</td>\n",
       "    </tr>\n",
       "    <tr>\n",
       "      <th>7</th>\n",
       "      <td>{\\n  \"relevance\": \"NON_RELEVANT\",\\n  \"explanat...</td>\n",
       "      <td>2369390</td>\n",
       "      <td>How does the story in Far Cry 6 compare to nar...</td>\n",
       "      <td>NON_RELEVANT</td>\n",
       "      <td>The generated answer does not provide any info...</td>\n",
       "    </tr>\n",
       "    <tr>\n",
       "      <th>...</th>\n",
       "      <td>...</td>\n",
       "      <td>...</td>\n",
       "      <td>...</td>\n",
       "      <td>...</td>\n",
       "      <td>...</td>\n",
       "    </tr>\n",
       "    <tr>\n",
       "      <th>100</th>\n",
       "      <td>{\\n  \"relevance\": \"NON_RELEVANT\",\\n  \"explanat...</td>\n",
       "      <td>794540</td>\n",
       "      <td>Is Neo Cab a fully optimized game that functio...</td>\n",
       "      <td>NON_RELEVANT</td>\n",
       "      <td>The generated answer completely deviates from ...</td>\n",
       "    </tr>\n",
       "    <tr>\n",
       "      <th>101</th>\n",
       "      <td>{\\n  \"relevance\": \"NON_RELEVANT\",\\n  \"explanat...</td>\n",
       "      <td>794540</td>\n",
       "      <td>Does Neo Cab deliver on the promises made by i...</td>\n",
       "      <td>NON_RELEVANT</td>\n",
       "      <td>The generated answer fails to address the ques...</td>\n",
       "    </tr>\n",
       "    <tr>\n",
       "      <th>102</th>\n",
       "      <td>{\\n  \"relevance\": \"NON_RELEVANT\",\\n  \"explanat...</td>\n",
       "      <td>794540</td>\n",
       "      <td>How does the dialogue in Neo Cab contribute to...</td>\n",
       "      <td>NON_RELEVANT</td>\n",
       "      <td>The generated answer fails to discuss the dial...</td>\n",
       "    </tr>\n",
       "    <tr>\n",
       "      <th>103</th>\n",
       "      <td>{\\n  \"relevance\": \"NON_RELEVANT\",\\n  \"explanat...</td>\n",
       "      <td>794540</td>\n",
       "      <td>What themes are explored in Neo Cab through it...</td>\n",
       "      <td>NON_RELEVANT</td>\n",
       "      <td>The generated answer completely fails to addre...</td>\n",
       "    </tr>\n",
       "    <tr>\n",
       "      <th>104</th>\n",
       "      <td>{\\n  \"relevance\": \"NON_RELEVANT\",\\n  \"explanat...</td>\n",
       "      <td>794540</td>\n",
       "      <td>Is there a built-in system for saving progress...</td>\n",
       "      <td>NON_RELEVANT</td>\n",
       "      <td>The generated answer does not pertain to the q...</td>\n",
       "    </tr>\n",
       "  </tbody>\n",
       "</table>\n",
       "<p>72 rows × 5 columns</p>\n",
       "</div>"
      ],
      "text/plain": [
       "                                                answer    appid  \\\n",
       "1    {\\n  \"relevance\": \"NON_RELEVANT\",\\n  \"explanat...  2322010   \n",
       "2    {\\n  \"relevance\": \"NON_RELEVANT\",\\n  \"explanat...  2322010   \n",
       "3    {\\n  \"relevance\": \"NON_RELEVANT\",\\n  \"explanat...  2322010   \n",
       "5    {\\n  \"relevance\": \"NON_RELEVANT\",\\n  \"explanat...  2369390   \n",
       "7    {\\n  \"relevance\": \"NON_RELEVANT\",\\n  \"explanat...  2369390   \n",
       "..                                                 ...      ...   \n",
       "100  {\\n  \"relevance\": \"NON_RELEVANT\",\\n  \"explanat...   794540   \n",
       "101  {\\n  \"relevance\": \"NON_RELEVANT\",\\n  \"explanat...   794540   \n",
       "102  {\\n  \"relevance\": \"NON_RELEVANT\",\\n  \"explanat...   794540   \n",
       "103  {\\n  \"relevance\": \"NON_RELEVANT\",\\n  \"explanat...   794540   \n",
       "104  {\\n  \"relevance\": \"NON_RELEVANT\",\\n  \"explanat...   794540   \n",
       "\n",
       "                                              question     relevance  \\\n",
       "1    What kind of PC specifications did the reviewe...  NON_RELEVANT   \n",
       "2    What resolution and settings were used to play...  NON_RELEVANT   \n",
       "3    Did the reviewer experience any performance is...  NON_RELEVANT   \n",
       "5    Is the storytelling in Far Cry 6 engaging, or ...  NON_RELEVANT   \n",
       "7    How does the story in Far Cry 6 compare to nar...  NON_RELEVANT   \n",
       "..                                                 ...           ...   \n",
       "100  Is Neo Cab a fully optimized game that functio...  NON_RELEVANT   \n",
       "101  Does Neo Cab deliver on the promises made by i...  NON_RELEVANT   \n",
       "102  How does the dialogue in Neo Cab contribute to...  NON_RELEVANT   \n",
       "103  What themes are explored in Neo Cab through it...  NON_RELEVANT   \n",
       "104  Is there a built-in system for saving progress...  NON_RELEVANT   \n",
       "\n",
       "                                           explanation  \n",
       "1    The answer does not address the specific quest...  \n",
       "2    The generated answer does not provide any info...  \n",
       "3    The generated answer does not address the spec...  \n",
       "5    The generated answer does not address the ques...  \n",
       "7    The generated answer does not provide any info...  \n",
       "..                                                 ...  \n",
       "100  The generated answer completely deviates from ...  \n",
       "101  The generated answer fails to address the ques...  \n",
       "102  The generated answer fails to discuss the dial...  \n",
       "103  The generated answer completely fails to addre...  \n",
       "104  The generated answer does not pertain to the q...  \n",
       "\n",
       "[72 rows x 5 columns]"
      ]
     },
     "execution_count": 53,
     "metadata": {},
     "output_type": "execute_result"
    }
   ],
   "source": [
    "df_eval[df_eval[\"relevance\"]==\"NON_RELEVANT\"]"
   ]
  },
  {
   "cell_type": "code",
   "execution_count": 54,
   "id": "72c99f94-15d7-47e5-8639-28f05acdb64f",
   "metadata": {},
   "outputs": [
    {
     "data": {
      "text/html": [
       "<div>\n",
       "<style scoped>\n",
       "    .dataframe tbody tr th:only-of-type {\n",
       "        vertical-align: middle;\n",
       "    }\n",
       "\n",
       "    .dataframe tbody tr th {\n",
       "        vertical-align: top;\n",
       "    }\n",
       "\n",
       "    .dataframe thead th {\n",
       "        text-align: right;\n",
       "    }\n",
       "</style>\n",
       "<table border=\"1\" class=\"dataframe\">\n",
       "  <thead>\n",
       "    <tr style=\"text-align: right;\">\n",
       "      <th></th>\n",
       "      <th>answer</th>\n",
       "      <th>appid</th>\n",
       "      <th>question</th>\n",
       "      <th>relevance</th>\n",
       "      <th>explanation</th>\n",
       "    </tr>\n",
       "  </thead>\n",
       "  <tbody>\n",
       "    <tr>\n",
       "      <th>0</th>\n",
       "      <td>{\\n  \"relevance\": \"PARTLY_RELEVANT\",\\n  \"expla...</td>\n",
       "      <td>2322010</td>\n",
       "      <td>How well does God of War: Ragnarok perform on ...</td>\n",
       "      <td>PARTLY_RELEVANT</td>\n",
       "      <td>The generated answer acknowledges some aspects...</td>\n",
       "    </tr>\n",
       "    <tr>\n",
       "      <th>1</th>\n",
       "      <td>{\\n  \"relevance\": \"NON_RELEVANT\",\\n  \"explanat...</td>\n",
       "      <td>2322010</td>\n",
       "      <td>What kind of PC specifications did the reviewe...</td>\n",
       "      <td>NON_RELEVANT</td>\n",
       "      <td>The answer does not address the specific quest...</td>\n",
       "    </tr>\n",
       "    <tr>\n",
       "      <th>2</th>\n",
       "      <td>{\\n  \"relevance\": \"NON_RELEVANT\",\\n  \"explanat...</td>\n",
       "      <td>2322010</td>\n",
       "      <td>What resolution and settings were used to play...</td>\n",
       "      <td>NON_RELEVANT</td>\n",
       "      <td>The generated answer does not provide any info...</td>\n",
       "    </tr>\n",
       "    <tr>\n",
       "      <th>3</th>\n",
       "      <td>{\\n  \"relevance\": \"NON_RELEVANT\",\\n  \"explanat...</td>\n",
       "      <td>2322010</td>\n",
       "      <td>Did the reviewer experience any performance is...</td>\n",
       "      <td>NON_RELEVANT</td>\n",
       "      <td>The generated answer does not address the spec...</td>\n",
       "    </tr>\n",
       "    <tr>\n",
       "      <th>4</th>\n",
       "      <td>{\\n  \"relevance\": \"RELEVANT\",\\n  \"explanation\"...</td>\n",
       "      <td>2322010</td>\n",
       "      <td>Is there any mention of the game's story or ga...</td>\n",
       "      <td>RELEVANT</td>\n",
       "      <td>The generated answer clearly indicates that bo...</td>\n",
       "    </tr>\n",
       "  </tbody>\n",
       "</table>\n",
       "</div>"
      ],
      "text/plain": [
       "                                              answer    appid  \\\n",
       "0  {\\n  \"relevance\": \"PARTLY_RELEVANT\",\\n  \"expla...  2322010   \n",
       "1  {\\n  \"relevance\": \"NON_RELEVANT\",\\n  \"explanat...  2322010   \n",
       "2  {\\n  \"relevance\": \"NON_RELEVANT\",\\n  \"explanat...  2322010   \n",
       "3  {\\n  \"relevance\": \"NON_RELEVANT\",\\n  \"explanat...  2322010   \n",
       "4  {\\n  \"relevance\": \"RELEVANT\",\\n  \"explanation\"...  2322010   \n",
       "\n",
       "                                            question        relevance  \\\n",
       "0  How well does God of War: Ragnarok perform on ...  PARTLY_RELEVANT   \n",
       "1  What kind of PC specifications did the reviewe...     NON_RELEVANT   \n",
       "2  What resolution and settings were used to play...     NON_RELEVANT   \n",
       "3  Did the reviewer experience any performance is...     NON_RELEVANT   \n",
       "4  Is there any mention of the game's story or ga...         RELEVANT   \n",
       "\n",
       "                                         explanation  \n",
       "0  The generated answer acknowledges some aspects...  \n",
       "1  The answer does not address the specific quest...  \n",
       "2  The generated answer does not provide any info...  \n",
       "3  The generated answer does not address the spec...  \n",
       "4  The generated answer clearly indicates that bo...  "
      ]
     },
     "execution_count": 54,
     "metadata": {},
     "output_type": "execute_result"
    }
   ],
   "source": [
    "df_eval[df_eval[\"appid\"]==\"2322010\"]"
   ]
  },
  {
   "cell_type": "code",
   "execution_count": 55,
   "id": "55e18cc1-fd50-4508-9d58-2bd5ee94234e",
   "metadata": {},
   "outputs": [
    {
     "name": "stdout",
     "output_type": "stream",
     "text": [
      "Data saved to /home/jovyan/reviews-assistant/data/ground_truth/ground_truth_evaluation.json\n"
     ]
    }
   ],
   "source": [
    "import json\n",
    "import os\n",
    "import pandas as pd\n",
    "\n",
    "# Sample DataFrame for demonstration\n",
    "# df_eval = pd.DataFrame({'recommendationid': [1, 2], 'question': ['What is the best game?', 'What is the worst game?']})\n",
    "\n",
    "data_dir = os.path.abspath('../reviews-assistant/data/ground_truth')\n",
    "\n",
    "# Define the output file path\n",
    "output_file = os.path.join(data_dir, \"ground_truth_evaluation.json\")\n",
    "6\n",
    "# Convert DataFrame to a list of dictionaries including index\n",
    "df_eval_list = df_eval.reset_index().to_dict(orient='records')\n",
    "\n",
    "# Save the results to a JSON file\n",
    "with open(output_file, 'w', encoding='utf-8') as json_file:\n",
    "    json.dump(df_eval_list, json_file, ensure_ascii=False, indent=4)\n",
    "\n",
    "print(f\"Data saved to {output_file}\")"
   ]
  },
  {
   "cell_type": "code",
   "execution_count": 56,
   "id": "35dd71e9-bc42-4d24-b052-bf94c977fdd8",
   "metadata": {
    "scrolled": true
   },
   "outputs": [
    {
     "data": {
      "text/plain": [
       "{'appid': '812140',\n",
       " 'timestamp_query': 1727643597,\n",
       " 'title': \"Assassin's Creed Odyssey\",\n",
       " 'recommendationid': '174160338',\n",
       " 'author.steamid': '76561198420943538',\n",
       " 'author.playtimeforever': 0,\n",
       " 'author.playtime_last_two_weeks': 0,\n",
       " 'author.playtime_at_review': 5599,\n",
       " 'author.last_played': 1696845057,\n",
       " 'language': 'english',\n",
       " 'review': \"---{ Graphics }---\\n✅ You forget what reality is\\n☐ Beautiful\\n☐ Good\\n☐ Decent\\n☐ Bad\\n☐ You will get eye cancer\\n☐ Get a pepper spray for your eye instead\\n\\n---{ Gameplay }---\\n☐ Won’t ever touch any other game anymore\\n✅ Very good\\n☐ Good\\n☐ It's just gameplay\\n☐ Mehh\\n☐ Watch paint dry instead\\n☐ Tic Tac toe is better\\n\\n---{ Audio }---\\n☐ Eargasm\\n✅ Very good\\n☐ Good\\n☐ Not too bad\\n☐ Bad\\n☐ I'm now deaf\\n\\n---{ Audience }---\\n☐ Kids\\n✅Teens\\n✅ Adults\\n☐ Grandma\\n\\n---{ PC Requirements }---\\n☐ Check if you can run paint\\n☐ Potato\\n☐ Decent\\n✅ Fast\\n☐ Rich boi\\n☐ Ask NASA if they have a spare computer\\n☐ Search the galaxy for dark matter fuel to run\\n\\n---{ Difficulty }---\\n☐ Just press 'W'\\n☐ Easy\\n✅ Easy to learn / Hard to master\\n☐ Significant brain usage\\n☐ Difficult\\n☐ Dark Souls\\n\\n---{ Grind }---\\n☐ Nothing to grind\\n☐ Only if u care about leaderboards/ranks\\n✅ Isn't necessary to progress\\n☐ Average grind level\\n☐ Too much grind\\n☐ You'll need a second life for grinding\\n\\n---{ Story }---\\n☐ No Story\\n☐ Some lore\\n☐ Average\\n☐ Good\\n☐ Lovely\\n✅ It'll replace your life\\n\\n---{ Game Time }---\\n☐ Long enough for a cup of coffee\\n☐ Short\\n☐ Average\\n✅ Long\\n☐ To infinity and beyond\\n☐ Until GTA6 releases\\n\\n---{ Price }---\\n☐ It's free!\\n☐ Worth the price\\n✅ If it's on sale\\n☐ If u have some spare money left\\n☐ Not recommended\\n☐ You could also just burn your money\\n\\n---{ Bugs }---\\n☐ Never heard of\\n✅ Minor bugs\\n☐ Can get annoying\\n☐ ARK: Survival Evolved\\n☐ The game itself is a big terrarium for bugs\\n\\n---{ ? / 10 }---\\n☐ 1\\n☐ 2\\n☐ 3\\n☐ 4\\n☐ 5\\n☐ 6\\n☐ 7\\n☐ 8\\n✅ 9\\n☐ 10\",\n",
       " 'voted_up': True,\n",
       " 'votes_up': 111,\n",
       " 'timestamp_created': 1725394822,\n",
       " 'timestamp_updated': 1725394912,\n",
       " 'title_vector': [0.01829216629266739,\n",
       "  -0.00221725320443511,\n",
       "  -0.10289765894412994,\n",
       "  -0.07697086781263351,\n",
       "  -0.04360188916325569,\n",
       "  0.03980034217238426,\n",
       "  0.006978109013289213,\n",
       "  -0.0556001178920269,\n",
       "  0.0761142447590828,\n",
       "  0.01950688473880291,\n",
       "  -0.053603217005729675,\n",
       "  0.07322242856025696,\n",
       "  -0.0250598955899477,\n",
       "  -0.018783289939165115,\n",
       "  -0.06757640093564987,\n",
       "  -0.017369646579027176,\n",
       "  0.07175007462501526,\n",
       "  0.0037282228004187346,\n",
       "  0.011171870864927769,\n",
       "  -0.036905355751514435,\n",
       "  -0.10419987887144089,\n",
       "  -0.06815016269683838,\n",
       "  0.0094304159283638,\n",
       "  0.034252915531396866,\n",
       "  -0.07161515951156616,\n",
       "  -0.0010434057330712676,\n",
       "  0.008080570958554745,\n",
       "  0.015809429809451103,\n",
       "  -0.10050717741250992,\n",
       "  0.00963960774242878,\n",
       "  0.0219759251922369,\n",
       "  -0.10665692389011383,\n",
       "  0.010275470092892647,\n",
       "  -0.005888317711651325,\n",
       "  -0.024636585265398026,\n",
       "  -0.04921160265803337,\n",
       "  0.002514804247766733,\n",
       "  -0.014731433242559433,\n",
       "  -0.08801434934139252,\n",
       "  -0.03809617459774017,\n",
       "  0.025775892660021782,\n",
       "  0.02722357213497162,\n",
       "  -0.052484944462776184,\n",
       "  -0.0057787345722317696,\n",
       "  0.02727687917649746,\n",
       "  -0.03098195232450962,\n",
       "  -0.10885348916053772,\n",
       "  0.01841115951538086,\n",
       "  0.056009478867053986,\n",
       "  0.030975928530097008,\n",
       "  0.00695393281057477,\n",
       "  0.0579487606883049,\n",
       "  -0.0346558652818203,\n",
       "  -0.10235660523176193,\n",
       "  -0.031127313151955605,\n",
       "  -0.013322634622454643,\n",
       "  -0.04418346658349037,\n",
       "  0.01569989323616028,\n",
       "  -0.005411624908447266,\n",
       "  -0.03072679042816162,\n",
       "  -0.03180383890867233,\n",
       "  -0.020013311877846718,\n",
       "  0.03660360351204872,\n",
       "  0.09170182049274445,\n",
       "  -0.034091729670763016,\n",
       "  -0.005086159333586693,\n",
       "  0.0528467632830143,\n",
       "  0.028111619874835014,\n",
       "  -0.001465387875214219,\n",
       "  -0.011429261416196823,\n",
       "  -0.07898781448602676,\n",
       "  -0.0026344135403633118,\n",
       "  0.0009104398195631802,\n",
       "  -0.1220906674861908,\n",
       "  -0.01728113740682602,\n",
       "  0.004199748858809471,\n",
       "  0.007141477428376675,\n",
       "  -0.059261951595544815,\n",
       "  0.007853909395635128,\n",
       "  -0.04064024239778519,\n",
       "  0.0918455570936203,\n",
       "  -0.028681879863142967,\n",
       "  -0.026546034961938858,\n",
       "  0.031722377985715866,\n",
       "  0.022896571084856987,\n",
       "  0.08730730414390564,\n",
       "  -0.0014067733427509665,\n",
       "  0.0720626711845398,\n",
       "  0.1228717491030693,\n",
       "  -0.058111272752285004,\n",
       "  0.01730107143521309,\n",
       "  -0.05800347030162811,\n",
       "  0.03840428963303566,\n",
       "  0.010525238700211048,\n",
       "  0.02123114839196205,\n",
       "  -0.014304975047707558,\n",
       "  0.023318957537412643,\n",
       "  -0.0901632085442543,\n",
       "  -0.05656766891479492,\n",
       "  0.0986599400639534,\n",
       "  -0.05893152579665184,\n",
       "  -0.022829445078969002,\n",
       "  0.031163332983851433,\n",
       "  -0.0016323380405083299,\n",
       "  -0.02465570531785488,\n",
       "  0.04350503534078598,\n",
       "  0.06100151687860489,\n",
       "  0.0006375627708621323,\n",
       "  -0.07752992957830429,\n",
       "  0.00055562739726156,\n",
       "  -0.016565432772040367,\n",
       "  -0.04625259339809418,\n",
       "  0.03832985833287239,\n",
       "  -0.0392063744366169,\n",
       "  0.14783699810504913,\n",
       "  -0.008604438044130802,\n",
       "  -0.06189544126391411,\n",
       "  -0.028659185394644737,\n",
       "  -0.023462310433387756,\n",
       "  0.08141585439443588,\n",
       "  0.05834668129682541,\n",
       "  -0.03922262042760849,\n",
       "  0.04633604735136032,\n",
       "  0.11716704070568085,\n",
       "  0.014118114486336708,\n",
       "  0.02510591223835945,\n",
       "  0.017141135409474373,\n",
       "  8.387814231535404e-31,\n",
       "  -0.05553119257092476,\n",
       "  0.05310223251581192,\n",
       "  0.0637480691075325,\n",
       "  0.0697169378399849,\n",
       "  -0.027372492477297783,\n",
       "  0.024608271196484566,\n",
       "  0.015495704486966133,\n",
       "  0.039390094578266144,\n",
       "  -0.04353225976228714,\n",
       "  0.0877259150147438,\n",
       "  0.008773908950388432,\n",
       "  -0.002034371718764305,\n",
       "  0.010114530101418495,\n",
       "  0.09601029753684998,\n",
       "  0.03945249319076538,\n",
       "  0.01857459917664528,\n",
       "  0.024937940761446953,\n",
       "  0.037833087146282196,\n",
       "  -0.014341968111693859,\n",
       "  -0.04012347757816315,\n",
       "  -0.014546853490173817,\n",
       "  -0.0003526403452269733,\n",
       "  -0.05170753598213196,\n",
       "  -0.015222083777189255,\n",
       "  0.031436987221241,\n",
       "  0.07975071668624878,\n",
       "  -0.025211436673998833,\n",
       "  -0.009944004006683826,\n",
       "  0.08146791905164719,\n",
       "  0.048093631863594055,\n",
       "  -0.0682283565402031,\n",
       "  0.05673215165734291,\n",
       "  -0.07883218675851822,\n",
       "  -0.05806892737746239,\n",
       "  -0.002828211523592472,\n",
       "  0.030425360426306725,\n",
       "  -0.07704509794712067,\n",
       "  -0.0200174693018198,\n",
       "  -0.037154730409383774,\n",
       "  0.07838181406259537,\n",
       "  -0.050177961587905884,\n",
       "  0.010930820368230343,\n",
       "  -0.044806379824876785,\n",
       "  -0.08380024880170822,\n",
       "  0.005256350617855787,\n",
       "  0.0022395614068955183,\n",
       "  0.05707339569926262,\n",
       "  0.0158601775765419,\n",
       "  -0.018853971734642982,\n",
       "  0.06567034125328064,\n",
       "  0.011346029117703438,\n",
       "  0.020676352083683014,\n",
       "  -0.04579784348607063,\n",
       "  -0.025014793500304222,\n",
       "  0.008360148407518864,\n",
       "  0.004872586112469435,\n",
       "  -0.04498112574219704,\n",
       "  0.01512937992811203,\n",
       "  0.09359835833311081,\n",
       "  0.01942136324942112,\n",
       "  0.06750789284706116,\n",
       "  -0.07076489925384521,\n",
       "  -0.039913054555654526,\n",
       "  -0.10252784937620163,\n",
       "  -0.09591930359601974,\n",
       "  -0.005470598582178354,\n",
       "  -0.04808538407087326,\n",
       "  0.007608643267303705,\n",
       "  0.004440594930201769,\n",
       "  0.12555089592933655,\n",
       "  -0.03091399371623993,\n",
       "  0.0008903879206627607,\n",
       "  0.06034727394580841,\n",
       "  0.05233065038919449,\n",
       "  0.09967371076345444,\n",
       "  0.009544962085783482,\n",
       "  0.006639436818659306,\n",
       "  0.007048518862575293,\n",
       "  -0.09208837896585464,\n",
       "  -0.012216313742101192,\n",
       "  -0.08254433423280716,\n",
       "  -0.013405595906078815,\n",
       "  -0.04884238541126251,\n",
       "  -0.01456383801996708,\n",
       "  -0.006876631174236536,\n",
       "  0.014275063760578632,\n",
       "  0.04935755208134651,\n",
       "  0.008430592715740204,\n",
       "  -0.011783840134739876,\n",
       "  -0.005862784571945667,\n",
       "  -0.01563122682273388,\n",
       "  -0.02852410078048706,\n",
       "  -0.038783375173807144,\n",
       "  0.07348529994487762,\n",
       "  0.03649112582206726,\n",
       "  -2.5348562219223355e-33,\n",
       "  0.007404345087707043,\n",
       "  -0.11765246838331223,\n",
       "  -0.056665848940610886,\n",
       "  -0.08356748521327972,\n",
       "  0.02170538529753685,\n",
       "  -0.021455401554703712,\n",
       "  -0.021451495587825775,\n",
       "  0.009195986203849316,\n",
       "  -0.057570185512304306,\n",
       "  0.009203532710671425,\n",
       "  -0.06347493082284927,\n",
       "  0.002669147215783596,\n",
       "  0.06836418062448502,\n",
       "  0.025953970849514008,\n",
       "  0.08360324800014496,\n",
       "  -0.09053289890289307,\n",
       "  -0.0057426635175943375,\n",
       "  -0.006202039308845997,\n",
       "  0.052289675921201706,\n",
       "  0.08068866282701492,\n",
       "  0.026683073490858078,\n",
       "  0.042697370052337646,\n",
       "  0.05024983361363411,\n",
       "  -0.04867351055145264,\n",
       "  0.039939507842063904,\n",
       "  0.010940978303551674,\n",
       "  0.047305408865213394,\n",
       "  0.041475310921669006,\n",
       "  -0.027014927938580513,\n",
       "  0.0031589786522090435,\n",
       "  0.005941617302596569,\n",
       "  -0.04196455702185631,\n",
       "  -0.022363251075148582,\n",
       "  0.09351687878370285,\n",
       "  -0.015793029218912125,\n",
       "  0.13612471520900726,\n",
       "  0.06254611909389496,\n",
       "  0.005609895568341017,\n",
       "  -0.09874272346496582,\n",
       "  -0.04591042175889015,\n",
       "  0.0016033542342483997,\n",
       "  -0.006503521930426359,\n",
       "  -0.032349828630685806,\n",
       "  0.024497797712683678,\n",
       "  0.06867269426584244,\n",
       "  0.073166623711586,\n",
       "  0.11725366115570068,\n",
       "  0.08251914381980896,\n",
       "  0.005445017479360104,\n",
       "  0.02318187616765499,\n",
       "  0.013758666813373566,\n",
       "  0.02074904553592205,\n",
       "  -0.04037823900580406,\n",
       "  0.009195885621011257,\n",
       "  0.002935865893959999,\n",
       "  0.03982299566268921,\n",
       "  -0.009254599921405315,\n",
       "  -0.0297123733907938,\n",
       "  -0.018383005633950233,\n",
       "  0.014650868251919746,\n",
       "  0.018046285957098007,\n",
       "  0.005933287553489208,\n",
       "  -0.06183972954750061,\n",
       "  -0.00011191950034117326,\n",
       "  0.0023314552381634712,\n",
       "  -0.0918351486325264,\n",
       "  -0.04628463461995125,\n",
       "  0.031087299808859825,\n",
       "  -0.09824221581220627,\n",
       "  0.04602314904332161,\n",
       "  -0.09536412358283997,\n",
       "  -0.08723859488964081,\n",
       "  -0.039428502321243286,\n",
       "  0.031110210344195366,\n",
       "  0.023908384144306183,\n",
       "  -0.020148025825619698,\n",
       "  -0.036595068871974945,\n",
       "  -0.08299469202756882,\n",
       "  0.02881181612610817,\n",
       "  -0.0042535122483968735,\n",
       "  -0.06756336241960526,\n",
       "  -0.023481491953134537,\n",
       "  -0.03861701115965843,\n",
       "  0.08523204177618027,\n",
       "  -0.002001016167923808,\n",
       "  0.09535142034292221,\n",
       "  0.0194698553532362,\n",
       "  -0.04802371934056282,\n",
       "  -0.05295892432332039,\n",
       "  0.03789600729942322,\n",
       "  0.03532286733388901,\n",
       "  0.08967092633247375,\n",
       "  0.04920370131731033,\n",
       "  0.04886101931333542,\n",
       "  -0.06898634880781174,\n",
       "  -3.071936835748154e-33,\n",
       "  0.04850490391254425,\n",
       "  -0.01650361903011799,\n",
       "  0.0297978725284338,\n",
       "  0.008444794453680515,\n",
       "  0.009035555645823479,\n",
       "  -0.004465628881007433,\n",
       "  0.011317932046949863,\n",
       "  -0.020876048132777214,\n",
       "  -0.09659101814031601,\n",
       "  0.008886191993951797,\n",
       "  0.024096110835671425,\n",
       "  -0.04216376319527626,\n",
       "  0.05666779726743698,\n",
       "  -0.03812934830784798,\n",
       "  -0.04939185082912445,\n",
       "  0.04256416857242584,\n",
       "  0.05020465329289436,\n",
       "  0.0032608238980174065,\n",
       "  -0.03583913668990135,\n",
       "  -0.11869750171899796,\n",
       "  0.03296787664294243,\n",
       "  0.0010614839848130941,\n",
       "  0.08034473657608032,\n",
       "  -0.11808265745639801,\n",
       "  -0.02684922330081463,\n",
       "  -0.012798844836652279,\n",
       "  0.030393360182642937,\n",
       "  -0.10519608855247498,\n",
       "  0.03555809333920479,\n",
       "  0.04442479461431503,\n",
       "  0.006566518452018499,\n",
       "  -0.0027558747678995132,\n",
       "  0.059959303587675095,\n",
       "  -0.03089355118572712,\n",
       "  0.08903441578149796,\n",
       "  -0.009841146878898144,\n",
       "  0.04842572659254074,\n",
       "  0.06830242276191711,\n",
       "  0.01596958003938198,\n",
       "  -0.1128503605723381,\n",
       "  0.034636471420526505,\n",
       "  0.05999714136123657,\n",
       "  0.03690623864531517,\n",
       "  -0.0356389619410038,\n",
       "  0.02956809476017952,\n",
       "  0.05441008880734444,\n",
       "  0.04851730540394783,\n",
       "  -0.1452646553516388,\n",
       "  -0.0015252705197781324,\n",
       "  -0.023411421105265617,\n",
       "  -0.008888651616871357,\n",
       "  -0.018274081870913506,\n",
       "  -0.012376910075545311,\n",
       "  0.0019602372776716948,\n",
       "  0.08857623487710953,\n",
       "  -0.07113691419363022,\n",
       "  0.005708368495106697,\n",
       "  0.0095460070297122,\n",
       "  0.025191109627485275,\n",
       "  0.00837124977260828,\n",
       "  -0.024796340614557266,\n",
       "  0.05701512470841408,\n",
       "  -0.007711753249168396,\n",
       "  -0.016107812523841858],\n",
       " 'review_vector': [0.01866304688155651,\n",
       "  -0.00044632283970713615,\n",
       "  0.07889866083860397,\n",
       "  0.008536359295248985,\n",
       "  0.008011991158127785,\n",
       "  0.004731477703899145,\n",
       "  0.05124765634536743,\n",
       "  -0.03840233013033867,\n",
       "  0.027066756039857864,\n",
       "  0.058936767280101776,\n",
       "  0.0037092610727995634,\n",
       "  -0.09738335013389587,\n",
       "  0.04162101075053215,\n",
       "  -0.04776989668607712,\n",
       "  0.011024529114365578,\n",
       "  -0.038336191326379776,\n",
       "  -0.02482805959880352,\n",
       "  -0.03235770761966705,\n",
       "  -0.05514346808195114,\n",
       "  -0.054265096783638,\n",
       "  -0.09734546393156052,\n",
       "  -0.0715223103761673,\n",
       "  -0.0100692268460989,\n",
       "  0.0470273457467556,\n",
       "  -0.01006997562944889,\n",
       "  0.05550676956772804,\n",
       "  -0.03944063559174538,\n",
       "  -0.015557294711470604,\n",
       "  -0.028302539139986038,\n",
       "  0.03553321957588196,\n",
       "  0.004971482325345278,\n",
       "  0.10646309703588486,\n",
       "  0.015512775629758835,\n",
       "  -0.011502698063850403,\n",
       "  0.018281549215316772,\n",
       "  0.06445961445569992,\n",
       "  8.63048480823636e-05,\n",
       "  -0.041852254420518875,\n",
       "  -0.022420963272452354,\n",
       "  -0.023230066522955894,\n",
       "  -0.07214639335870743,\n",
       "  -0.08209069818258286,\n",
       "  0.013713909313082695,\n",
       "  0.042645253241062164,\n",
       "  0.05495529621839523,\n",
       "  -0.023102303966879845,\n",
       "  -0.053988657891750336,\n",
       "  -0.026962529867887497,\n",
       "  -0.05927770957350731,\n",
       "  -0.012957517988979816,\n",
       "  -0.09280692040920258,\n",
       "  0.0006051810341887176,\n",
       "  -0.07989680767059326,\n",
       "  -0.029750077053904533,\n",
       "  0.023652883246541023,\n",
       "  0.027860254049301147,\n",
       "  0.004771518986672163,\n",
       "  -0.053870171308517456,\n",
       "  0.02612568996846676,\n",
       "  -0.019726620987057686,\n",
       "  0.025892633944749832,\n",
       "  -0.03452219441533089,\n",
       "  -0.016992395743727684,\n",
       "  0.03385138139128685,\n",
       "  0.05580552667379379,\n",
       "  -0.046938542276620865,\n",
       "  0.0030876004602760077,\n",
       "  0.04089246690273285,\n",
       "  0.03599102050065994,\n",
       "  0.09535539150238037,\n",
       "  -0.01925453171133995,\n",
       "  0.0003909266379196197,\n",
       "  0.027040669694542885,\n",
       "  -0.006169394589960575,\n",
       "  -0.07499121129512787,\n",
       "  0.014704281464219093,\n",
       "  0.04328538477420807,\n",
       "  -0.1361059844493866,\n",
       "  -0.047743383795022964,\n",
       "  0.03625459596514702,\n",
       "  0.006023222580552101,\n",
       "  0.007195739541202784,\n",
       "  0.01226275134831667,\n",
       "  -0.06263142079114914,\n",
       "  -0.03768124431371689,\n",
       "  0.04364469274878502,\n",
       "  -0.013466520234942436,\n",
       "  -0.035317275673151016,\n",
       "  0.05991809442639351,\n",
       "  -0.03181519731879234,\n",
       "  0.019550874829292297,\n",
       "  0.05242485553026199,\n",
       "  0.0649731382727623,\n",
       "  0.10890594124794006,\n",
       "  0.057735078036785126,\n",
       "  0.03171814978122711,\n",
       "  -0.0125171709805727,\n",
       "  -0.0811808854341507,\n",
       "  -0.05757395178079605,\n",
       "  0.08653663843870163,\n",
       "  -0.05014745146036148,\n",
       "  0.009589718654751778,\n",
       "  0.049848396331071854,\n",
       "  -0.029639674350619316,\n",
       "  0.02427138388156891,\n",
       "  -0.02175123803317547,\n",
       "  -0.007390737067908049,\n",
       "  -0.024190163239836693,\n",
       "  -0.006111015100032091,\n",
       "  0.0333222821354866,\n",
       "  -0.009041724726557732,\n",
       "  0.02597835287451744,\n",
       "  -0.05595988780260086,\n",
       "  -0.023448850959539413,\n",
       "  0.07547742873430252,\n",
       "  -0.01327880471944809,\n",
       "  -0.07811103016138077,\n",
       "  -0.01826789602637291,\n",
       "  0.04670904204249382,\n",
       "  0.09085343033075333,\n",
       "  0.056178200989961624,\n",
       "  0.04948686808347702,\n",
       "  -0.04113340750336647,\n",
       "  0.04291698336601257,\n",
       "  0.044728901237249374,\n",
       "  -0.0028552189469337463,\n",
       "  -0.12243996560573578,\n",
       "  -3.3299782479274725e-31,\n",
       "  0.022833963856101036,\n",
       "  0.053993698209524155,\n",
       "  0.03494452312588692,\n",
       "  0.031486429274082184,\n",
       "  -0.003946597222238779,\n",
       "  0.009677881374955177,\n",
       "  -0.002703888574615121,\n",
       "  -0.05723552033305168,\n",
       "  -0.026806911453604698,\n",
       "  0.14441806077957153,\n",
       "  0.033738873898983,\n",
       "  0.11972840130329132,\n",
       "  -0.14776664972305298,\n",
       "  0.13828372955322266,\n",
       "  0.07543715834617615,\n",
       "  -0.037304576486349106,\n",
       "  -0.09389381855726242,\n",
       "  -0.06432567536830902,\n",
       "  -0.001470771268941462,\n",
       "  -0.018261369317770004,\n",
       "  0.001121527748182416,\n",
       "  -0.0005061259143985808,\n",
       "  0.060755133628845215,\n",
       "  -0.01316411979496479,\n",
       "  0.02949272282421589,\n",
       "  0.03712804242968559,\n",
       "  0.014284766279160976,\n",
       "  -0.07749958336353302,\n",
       "  -0.012116366066038609,\n",
       "  0.043205391615629196,\n",
       "  0.017109112814068794,\n",
       "  0.04791070893406868,\n",
       "  -0.018810326233506203,\n",
       "  -0.08476629853248596,\n",
       "  -0.03949682414531708,\n",
       "  -0.0979468896985054,\n",
       "  -0.08214367181062698,\n",
       "  -0.07821723073720932,\n",
       "  0.010568798519670963,\n",
       "  0.005676513072103262,\n",
       "  -0.04159314185380936,\n",
       "  0.051560137420892715,\n",
       "  -0.06678947061300278,\n",
       "  0.018296197056770325,\n",
       "  0.07216533273458481,\n",
       "  -0.00203676987439394,\n",
       "  -0.06413473933935165,\n",
       "  -0.05589626729488373,\n",
       "  -0.09969918429851532,\n",
       "  -0.018190445378422737,\n",
       "  -0.07306907325983047,\n",
       "  -0.0005872840411029756,\n",
       "  0.047325532883405685,\n",
       "  -0.01202808041125536,\n",
       "  0.016945647075772285,\n",
       "  -0.10398682206869125,\n",
       "  0.05661594867706299,\n",
       "  -0.002812966937199235,\n",
       "  -0.05714043974876404,\n",
       "  0.031541548669338226,\n",
       "  -0.03587757423520088,\n",
       "  -0.10260268300771713,\n",
       "  0.007997923530638218,\n",
       "  0.015537869185209274,\n",
       "  -0.010565495118498802,\n",
       "  0.053093329071998596,\n",
       "  -0.012890975922346115,\n",
       "  -0.007795663084834814,\n",
       "  -0.005295256618410349,\n",
       "  -0.025154555216431618,\n",
       "  -0.016872208565473557,\n",
       "  0.011295677162706852,\n",
       "  0.04425572603940964,\n",
       "  0.01057905238121748,\n",
       "  0.0029513065237551928,\n",
       "  -0.0034367081243544817,\n",
       "  -0.0485113263130188,\n",
       "  -0.08459048718214035,\n",
       "  -0.0932096540927887,\n",
       "  0.005053057800978422,\n",
       "  -0.059079378843307495,\n",
       "  0.02064603567123413,\n",
       "  -0.14325565099716187,\n",
       "  -0.00463715847581625,\n",
       "  0.07906319200992584,\n",
       "  0.042652469128370285,\n",
       "  0.01964118890464306,\n",
       "  -0.10523267835378647,\n",
       "  0.054287705570459366,\n",
       "  -0.007504617795348167,\n",
       "  -0.16891272366046906,\n",
       "  -0.012803486548364162,\n",
       "  0.05157771706581116,\n",
       "  -0.021687014028429985,\n",
       "  -0.07513022422790527,\n",
       "  -7.41087548208431e-33,\n",
       "  -0.02718086540699005,\n",
       "  0.03156270459294319,\n",
       "  -0.06690395623445511,\n",
       "  0.09209668636322021,\n",
       "  0.05791021138429642,\n",
       "  -0.02940092235803604,\n",
       "  0.02040776237845421,\n",
       "  -0.0061172121204435825,\n",
       "  0.009804116562008858,\n",
       "  0.033395618200302124,\n",
       "  -0.08282880485057831,\n",
       "  0.06722959131002426,\n",
       "  -0.004138494376093149,\n",
       "  0.023416701704263687,\n",
       "  -0.04029332473874092,\n",
       "  -0.07342489063739777,\n",
       "  0.10223783552646637,\n",
       "  -0.058919381350278854,\n",
       "  -0.037615180015563965,\n",
       "  0.04617767408490181,\n",
       "  0.013888302259147167,\n",
       "  0.07724419236183167,\n",
       "  -0.13079999387264252,\n",
       "  -0.019707856699824333,\n",
       "  0.020732516422867775,\n",
       "  0.12174014747142792,\n",
       "  -0.004165950231254101,\n",
       "  -0.02361968159675598,\n",
       "  -0.009031329303979874,\n",
       "  0.03479080647230148,\n",
       "  0.04374218359589577,\n",
       "  0.016913218423724174,\n",
       "  0.0269183237105608,\n",
       "  0.015069604851305485,\n",
       "  0.027121884748339653,\n",
       "  -0.010417573153972626,\n",
       "  0.007760149426758289,\n",
       "  -0.06899643689393997,\n",
       "  -0.06349655985832214,\n",
       "  0.0009428695193491876,\n",
       "  -0.003296734532341361,\n",
       "  -0.017549501731991768,\n",
       "  -0.012285865843296051,\n",
       "  0.02554303966462612,\n",
       "  -0.013697466813027859,\n",
       "  -0.0052413977682590485,\n",
       "  -0.004562700167298317,\n",
       "  -0.06290051341056824,\n",
       "  -0.012141385115683079,\n",
       "  -0.006800132803618908,\n",
       "  0.04253745824098587,\n",
       "  -0.026275666430592537,\n",
       "  -0.06369254738092422,\n",
       "  -0.004098293371498585,\n",
       "  0.030463552102446556,\n",
       "  -0.028221450746059418,\n",
       "  0.0033489931374788284,\n",
       "  -0.020716140046715736,\n",
       "  -0.01645771786570549,\n",
       "  0.030801743268966675,\n",
       "  -0.016951104626059532,\n",
       "  0.09438276290893555,\n",
       "  -0.03384314104914665,\n",
       "  0.04870480298995972,\n",
       "  0.010142022743821144,\n",
       "  0.014910128898918629,\n",
       "  -0.012070161290466785,\n",
       "  0.022774843499064445,\n",
       "  -0.0030174849089235067,\n",
       "  -0.03170385956764221,\n",
       "  -0.07027056813240051,\n",
       "  0.017545094713568687,\n",
       "  -0.13075654208660126,\n",
       "  -0.02904614806175232,\n",
       "  -0.028673455119132996,\n",
       "  0.08375568687915802,\n",
       "  -0.02628179080784321,\n",
       "  0.004015651997178793,\n",
       "  0.031443703919649124,\n",
       "  0.01987752504646778,\n",
       "  0.03169047832489014,\n",
       "  -0.06373678892850876,\n",
       "  -0.0007148333825170994,\n",
       "  0.07559958845376968,\n",
       "  -0.053038135170936584,\n",
       "  0.08363835513591766,\n",
       "  -0.010885700583457947,\n",
       "  0.006429987493902445,\n",
       "  0.034855425357818604,\n",
       "  -0.025960789993405342,\n",
       "  0.017703518271446228,\n",
       "  0.0031924645882099867,\n",
       "  -0.05934648960828781,\n",
       "  0.04605991020798683,\n",
       "  0.052408698946237564,\n",
       "  -8.339361000916403e-33,\n",
       "  0.012913726270198822,\n",
       "  0.016634277999401093,\n",
       "  0.045615170150995255,\n",
       "  0.03477504104375839,\n",
       "  0.0546148419380188,\n",
       "  0.007350984029471874,\n",
       "  0.006646900437772274,\n",
       "  0.06098054721951485,\n",
       "  0.00015866861212998629,\n",
       "  0.05486372858285904,\n",
       "  0.0490928590297699,\n",
       "  -0.010028747841715813,\n",
       "  -0.03202638775110245,\n",
       "  0.028909267857670784,\n",
       "  0.014891822822391987,\n",
       "  0.1071813553571701,\n",
       "  -0.026041146367788315,\n",
       "  0.10507414489984512,\n",
       "  -0.007103085983544588,\n",
       "  -0.007489036303013563,\n",
       "  0.025558751076459885,\n",
       "  0.08214499801397324,\n",
       "  -0.012844173237681389,\n",
       "  -0.09353209286928177,\n",
       "  -0.11662192642688751,\n",
       "  -0.040721118450164795,\n",
       "  -0.006491286680102348,\n",
       "  -0.004584680777043104,\n",
       "  -0.06952454894781113,\n",
       "  0.09892304241657257,\n",
       "  0.11896439641714096,\n",
       "  -0.032861992716789246,\n",
       "  0.05972293019294739,\n",
       "  -0.04108006879687309,\n",
       "  0.06279701739549637,\n",
       "  -0.020112253725528717,\n",
       "  0.047940995544195175,\n",
       "  0.020413396880030632,\n",
       "  0.027874739840626717,\n",
       "  0.056345630437135696,\n",
       "  -0.0428459607064724,\n",
       "  0.027107112109661102,\n",
       "  0.01889558508992195,\n",
       "  -0.0007606020662933588,\n",
       "  -0.0755067840218544,\n",
       "  -0.015076341107487679,\n",
       "  -0.027118990197777748,\n",
       "  -0.04254525899887085,\n",
       "  -0.028085242956876755,\n",
       "  -0.006162465084344149,\n",
       "  0.017841223627328873,\n",
       "  0.03681199997663498,\n",
       "  -0.03863675147294998,\n",
       "  0.007108358200639486,\n",
       "  0.06391402333974838,\n",
       "  0.07143277674913406,\n",
       "  0.007441122550517321,\n",
       "  0.08554743230342865,\n",
       "  -0.06611105054616928,\n",
       "  -0.005778064019978046,\n",
       "  0.07610152661800385,\n",
       "  0.025837332010269165,\n",
       "  -0.042518697679042816,\n",
       "  0.015493313781917095],\n",
       " 'title_review_vector': [0.007200094871222973,\n",
       "  -0.0024622625205665827,\n",
       "  0.017635921016335487,\n",
       "  -0.0320124626159668,\n",
       "  0.014612499624490738,\n",
       "  0.0234223622828722,\n",
       "  0.03889302536845207,\n",
       "  -0.05395449697971344,\n",
       "  0.026405420154333115,\n",
       "  0.06646942347288132,\n",
       "  -0.00992920994758606,\n",
       "  -0.031887706369161606,\n",
       "  0.029944803565740585,\n",
       "  -0.043661944568157196,\n",
       "  -0.0473865307867527,\n",
       "  -0.03504986688494682,\n",
       "  0.029896842315793037,\n",
       "  0.0026953108608722687,\n",
       "  -0.06132102385163307,\n",
       "  -0.062015946954488754,\n",
       "  -0.13786375522613525,\n",
       "  -0.0685625821352005,\n",
       "  0.00425764499232173,\n",
       "  0.07157337665557861,\n",
       "  -0.04415588080883026,\n",
       "  0.046389028429985046,\n",
       "  -0.03484179452061653,\n",
       "  -0.0073202308267354965,\n",
       "  -0.08203739672899246,\n",
       "  0.03147745132446289,\n",
       "  0.04495732858777046,\n",
       "  0.041608020663261414,\n",
       "  0.023285361006855965,\n",
       "  0.0004560254164971411,\n",
       "  0.02273610606789589,\n",
       "  0.013302216306328773,\n",
       "  -0.015108708292245865,\n",
       "  -0.030078960582613945,\n",
       "  -0.021319091320037842,\n",
       "  -0.0253760926425457,\n",
       "  -0.016475584357976913,\n",
       "  -0.06636489927768707,\n",
       "  -0.020524470135569572,\n",
       "  0.030782034620642662,\n",
       "  0.057136815041303635,\n",
       "  -0.027289174497127533,\n",
       "  -0.09623778611421585,\n",
       "  0.0015087981009855866,\n",
       "  -0.038670673966407776,\n",
       "  -8.328360127052292e-05,\n",
       "  -0.062369272112846375,\n",
       "  0.03220481425523758,\n",
       "  -0.09011422097682953,\n",
       "  -0.08536817878484726,\n",
       "  -0.039109401404857635,\n",
       "  -0.01381660159677267,\n",
       "  -0.040538888424634933,\n",
       "  -0.005462555214762688,\n",
       "  -0.002181765390560031,\n",
       "  -0.011470879428088665,\n",
       "  0.00841658003628254,\n",
       "  -0.02510305494070053,\n",
       "  -0.009995036758482456,\n",
       "  0.043369315564632416,\n",
       "  -0.019651172682642937,\n",
       "  -0.02997012250125408,\n",
       "  0.02881220169365406,\n",
       "  0.05521087348461151,\n",
       "  0.0031154213938862085,\n",
       "  0.09605443477630615,\n",
       "  -0.04589836671948433,\n",
       "  0.004537478089332581,\n",
       "  0.019259711727499962,\n",
       "  -0.06594846397638321,\n",
       "  -0.056371647864580154,\n",
       "  0.015086052007973194,\n",
       "  0.025698646903038025,\n",
       "  -0.14885637164115906,\n",
       "  -0.03512803465127945,\n",
       "  0.0053131128661334515,\n",
       "  0.051911842077970505,\n",
       "  0.006743751000612974,\n",
       "  -0.02181856334209442,\n",
       "  -0.039046693593263626,\n",
       "  -0.015960535034537315,\n",
       "  0.07795871049165726,\n",
       "  -0.0250608678907156,\n",
       "  -0.00912229623645544,\n",
       "  0.09341342747211456,\n",
       "  -0.061563123017549515,\n",
       "  0.02409500442445278,\n",
       "  0.013147072866559029,\n",
       "  0.06313948333263397,\n",
       "  0.07694507390260696,\n",
       "  0.06474237143993378,\n",
       "  0.008596542291343212,\n",
       "  -0.010236017405986786,\n",
       "  -0.10030734539031982,\n",
       "  -0.06917605549097061,\n",
       "  0.07700910419225693,\n",
       "  -0.0637725293636322,\n",
       "  0.002319624414667487,\n",
       "  0.04779292270541191,\n",
       "  -0.0161199402064085,\n",
       "  0.005077243782579899,\n",
       "  0.03461652621626854,\n",
       "  0.018663888797163963,\n",
       "  -0.013751634396612644,\n",
       "  -0.04366503283381462,\n",
       "  0.004930569790303707,\n",
       "  -0.0002668951638042927,\n",
       "  -0.008702226914465427,\n",
       "  -0.04661380499601364,\n",
       "  -0.06706449389457703,\n",
       "  0.12903539836406708,\n",
       "  -0.015299306251108646,\n",
       "  -0.10355442762374878,\n",
       "  -0.052604906260967255,\n",
       "  0.03521021082997322,\n",
       "  0.11051243543624878,\n",
       "  0.05536392703652382,\n",
       "  0.01924414187669754,\n",
       "  0.0038900976069271564,\n",
       "  0.10343407094478607,\n",
       "  0.05057448893785477,\n",
       "  0.022238103672862053,\n",
       "  -0.0776718258857727,\n",
       "  -4.351594980953109e-31,\n",
       "  -0.034132879227399826,\n",
       "  0.09717635065317154,\n",
       "  0.04496011137962341,\n",
       "  0.04542935639619827,\n",
       "  -0.04410862550139427,\n",
       "  0.021731410175561905,\n",
       "  -0.008304569870233536,\n",
       "  -0.017941143363714218,\n",
       "  -0.018629783764481544,\n",
       "  0.1571028232574463,\n",
       "  0.05222444236278534,\n",
       "  0.10295110195875168,\n",
       "  -0.09862711280584335,\n",
       "  0.18458831310272217,\n",
       "  0.09973021596670151,\n",
       "  -0.007731173187494278,\n",
       "  -0.04658152535557747,\n",
       "  -0.06252198666334152,\n",
       "  -0.019640956073999405,\n",
       "  -0.030751308426260948,\n",
       "  -0.024032965302467346,\n",
       "  -0.015083528123795986,\n",
       "  0.026265772059559822,\n",
       "  0.007157782092690468,\n",
       "  0.040197379887104034,\n",
       "  0.06414299458265305,\n",
       "  -0.016818255186080933,\n",
       "  -0.07072021067142487,\n",
       "  0.03524859994649887,\n",
       "  0.04186607524752617,\n",
       "  -0.008649596013128757,\n",
       "  0.08020790666341782,\n",
       "  -0.035175103694200516,\n",
       "  -0.07940931618213654,\n",
       "  -0.03205850347876549,\n",
       "  -0.06569600105285645,\n",
       "  -0.10669957101345062,\n",
       "  -0.06968500465154648,\n",
       "  -0.01828252151608467,\n",
       "  0.04752378910779953,\n",
       "  -0.062014829367399216,\n",
       "  0.05194326862692833,\n",
       "  -0.05287069454789162,\n",
       "  -0.024170082062482834,\n",
       "  0.08422654867172241,\n",
       "  -0.0008923438144847751,\n",
       "  -0.03287958726286888,\n",
       "  -0.0255088172852993,\n",
       "  -0.08314799517393112,\n",
       "  0.004910889081656933,\n",
       "  -0.04359118267893791,\n",
       "  0.016991877928376198,\n",
       "  0.034104276448488235,\n",
       "  -0.022898895666003227,\n",
       "  -0.0002741374191828072,\n",
       "  -0.08952169865369797,\n",
       "  0.014601490460336208,\n",
       "  0.025823980569839478,\n",
       "  -0.003494113450869918,\n",
       "  0.025637833401560783,\n",
       "  0.0019224814604967833,\n",
       "  -0.10061464458703995,\n",
       "  -0.02365054003894329,\n",
       "  -0.04830546677112579,\n",
       "  -0.04965364187955856,\n",
       "  0.05533905327320099,\n",
       "  -0.02426924929022789,\n",
       "  0.018094142898917198,\n",
       "  -0.011244921013712883,\n",
       "  0.04361112415790558,\n",
       "  -0.012436305172741413,\n",
       "  0.015566014684736729,\n",
       "  0.06444665044546127,\n",
       "  0.049819525331258774,\n",
       "  0.06942544132471085,\n",
       "  0.025516478344798088,\n",
       "  -0.004165875259786844,\n",
       "  -0.048380568623542786,\n",
       "  -0.11417276412248611,\n",
       "  -0.005163435824215412,\n",
       "  -0.06367345154285431,\n",
       "  -0.010369264520704746,\n",
       "  -0.1270829141139984,\n",
       "  -0.015298750251531601,\n",
       "  0.04681021720170975,\n",
       "  0.04913057014346123,\n",
       "  0.011840485036373138,\n",
       "  -0.0733446329832077,\n",
       "  0.043253976851701736,\n",
       "  0.01479297410696745,\n",
       "  -0.12541638314723969,\n",
       "  -0.015829863026738167,\n",
       "  0.023542135953903198,\n",
       "  0.05865935608744621,\n",
       "  -0.02207352966070175,\n",
       "  -7.767375000697878e-33,\n",
       "  -0.002845057286322117,\n",
       "  -0.03106878511607647,\n",
       "  -0.08091279864311218,\n",
       "  0.04124690592288971,\n",
       "  0.04642799496650696,\n",
       "  -0.044104598462581635,\n",
       "  -0.008558322675526142,\n",
       "  -0.02086835727095604,\n",
       "  -0.02698664925992489,\n",
       "  0.035129956901073456,\n",
       "  -0.08149813860654831,\n",
       "  0.043462421745061874,\n",
       "  0.04059740900993347,\n",
       "  0.02815220318734646,\n",
       "  0.0016046947566792369,\n",
       "  -0.11035238951444626,\n",
       "  0.04141020029783249,\n",
       "  -0.06061391904950142,\n",
       "  0.009109013713896275,\n",
       "  0.09352675825357437,\n",
       "  0.017909472808241844,\n",
       "  0.07075666636228561,\n",
       "  -0.08352386951446533,\n",
       "  -0.02105921320617199,\n",
       "  0.03527919575572014,\n",
       "  0.1027902215719223,\n",
       "  -0.0021112377289682627,\n",
       "  0.0011037263320758939,\n",
       "  0.0035593381617218256,\n",
       "  0.031127553433179855,\n",
       "  0.03292195498943329,\n",
       "  -0.002154384274035692,\n",
       "  0.03449917584657669,\n",
       "  0.04984992370009422,\n",
       "  0.012421123683452606,\n",
       "  0.04089188948273659,\n",
       "  0.020900828763842583,\n",
       "  -0.04988018795847893,\n",
       "  -0.09652000665664673,\n",
       "  -0.011341812089085579,\n",
       "  -0.009606780484318733,\n",
       "  -0.025799084454774857,\n",
       "  -0.024755101650953293,\n",
       "  0.032745566219091415,\n",
       "  0.03226432949304581,\n",
       "  0.029081124812364578,\n",
       "  0.02828899212181568,\n",
       "  -0.04044434428215027,\n",
       "  -0.0004691525246016681,\n",
       "  0.01190972700715065,\n",
       "  0.03496812283992767,\n",
       "  -0.01791747286915779,\n",
       "  -0.07843627035617828,\n",
       "  0.006365669425576925,\n",
       "  0.02038867026567459,\n",
       "  -0.018729597330093384,\n",
       "  0.005560566205531359,\n",
       "  -0.02509455196559429,\n",
       "  -0.02539767511188984,\n",
       "  0.0320565365254879,\n",
       "  0.002156073460355401,\n",
       "  0.0898919627070427,\n",
       "  -0.053277771919965744,\n",
       "  0.0529312826693058,\n",
       "  0.006354383192956448,\n",
       "  -0.030129650607705116,\n",
       "  -0.03845890611410141,\n",
       "  0.026576271280646324,\n",
       "  -0.06463246047496796,\n",
       "  0.012704231776297092,\n",
       "  -0.08220891654491425,\n",
       "  -0.013978131115436554,\n",
       "  -0.1112382560968399,\n",
       "  -0.009283890016376972,\n",
       "  -0.020150359719991684,\n",
       "  0.06325022131204605,\n",
       "  -0.04035332798957825,\n",
       "  -0.0392698310315609,\n",
       "  0.03542528674006462,\n",
       "  0.02947925217449665,\n",
       "  -0.0041870856657624245,\n",
       "  -0.07136763632297516,\n",
       "  -0.026626860722899437,\n",
       "  0.09500899165868759,\n",
       "  -0.03164065629243851,\n",
       "  0.12274961918592453,\n",
       "  -0.020131168887019157,\n",
       "  -0.028315791860222816,\n",
       "  -0.0012868745252490044,\n",
       "  0.004707097541540861,\n",
       "  0.013858655467629433,\n",
       "  0.015964191406965256,\n",
       "  -0.0025124612729996443,\n",
       "  0.03548208996653557,\n",
       "  -0.02082064189016819,\n",
       "  -8.32993206685487e-33,\n",
       "  0.041332781314849854,\n",
       "  0.015157677233219147,\n",
       "  0.05704352259635925,\n",
       "  0.0488157644867897,\n",
       "  0.05627188831567764,\n",
       "  -0.015657182782888412,\n",
       "  0.003821329679340124,\n",
       "  0.056884195655584335,\n",
       "  -0.03473672643303871,\n",
       "  0.04807363450527191,\n",
       "  0.03331880643963814,\n",
       "  -0.041505150496959686,\n",
       "  0.004445338621735573,\n",
       "  -0.002709911437705159,\n",
       "  -0.011923357844352722,\n",
       "  0.07757697999477386,\n",
       "  -0.02046579122543335,\n",
       "  0.06240251287817955,\n",
       "  -0.009081684984266758,\n",
       "  -0.07393041253089905,\n",
       "  0.03228559345006943,\n",
       "  0.0893029123544693,\n",
       "  0.01486984547227621,\n",
       "  -0.12814651429653168,\n",
       "  -0.1183169037103653,\n",
       "  -0.052307821810245514,\n",
       "  0.03303134813904762,\n",
       "  -0.03640016168355942,\n",
       "  -0.03267032280564308,\n",
       "  0.12833860516548157,\n",
       "  0.06709863245487213,\n",
       "  -0.048914581537246704,\n",
       "  0.08247780054807663,\n",
       "  -0.06645895540714264,\n",
       "  0.09901097416877747,\n",
       "  -0.017311185598373413,\n",
       "  0.06775452941656113,\n",
       "  0.029703253880143166,\n",
       "  0.020105283707380295,\n",
       "  -0.003407674375921488,\n",
       "  -0.02916881814599037,\n",
       "  0.030597444623708725,\n",
       "  0.020188942551612854,\n",
       "  -0.03820193186402321,\n",
       "  -0.05403469130396843,\n",
       "  0.013765174895524979,\n",
       "  0.008326445706188679,\n",
       "  -0.10230416804552078,\n",
       "  -0.020728863775730133,\n",
       "  -0.0067181456834077835,\n",
       "  0.027145951986312866,\n",
       "  0.020645376294851303,\n",
       "  -0.03838964179158211,\n",
       "  0.012948805466294289,\n",
       "  0.08886934816837311,\n",
       "  0.004238470457494259,\n",
       "  -0.006349868606775999,\n",
       "  0.05831211432814598,\n",
       "  -0.0018782723927870393,\n",
       "  -0.016184059903025627,\n",
       "  0.030737336724996567,\n",
       "  0.04315243288874626,\n",
       "  -0.038846537470817566,\n",
       "  0.026056790724396706]}"
      ]
     },
     "execution_count": 56,
     "metadata": {},
     "output_type": "execute_result"
    }
   ],
   "source": [
    "reviews[0]"
   ]
  },
  {
   "cell_type": "code",
   "execution_count": 57,
   "id": "c250da6c-6eb2-4370-8164-4f2853e22f86",
   "metadata": {
    "scrolled": true
   },
   "outputs": [
    {
     "data": {
      "text/plain": [
       "{'appid': '2239550',\n",
       " 'timestamp_query': 1727643597,\n",
       " 'title': 'Watch Dogs: Legion',\n",
       " 'recommendationid': '174862159',\n",
       " 'author.steamid': '76561199371555316',\n",
       " 'author.playtimeforever': 0,\n",
       " 'author.playtime_last_two_weeks': 1,\n",
       " 'author.playtime_at_review': 109,\n",
       " 'author.last_played': 1726993288,\n",
       " 'language': 'english',\n",
       " 'review': 'meh',\n",
       " 'voted_up': True,\n",
       " 'votes_up': 0,\n",
       " 'timestamp_created': 1726233314,\n",
       " 'timestamp_updated': 1726233314,\n",
       " 'title_vector': [-0.031208040192723274,\n",
       "  -0.04140456020832062,\n",
       "  0.007626562379300594,\n",
       "  -0.05640276148915291,\n",
       "  0.017036626115441322,\n",
       "  0.07028614729642868,\n",
       "  -0.02655501663684845,\n",
       "  -0.03512350469827652,\n",
       "  0.05046771839261055,\n",
       "  -0.004683449864387512,\n",
       "  0.0064065903425216675,\n",
       "  -0.034316763281822205,\n",
       "  0.06852371990680695,\n",
       "  -0.0006094787968322635,\n",
       "  0.007349507883191109,\n",
       "  -0.016963135451078415,\n",
       "  0.0868942141532898,\n",
       "  0.009798023849725723,\n",
       "  0.03648601472377777,\n",
       "  -0.01720307394862175,\n",
       "  -0.06752648204565048,\n",
       "  -0.03290846198797226,\n",
       "  0.010983460582792759,\n",
       "  0.09153090417385101,\n",
       "  -0.06792537868022919,\n",
       "  -0.0010255476227030158,\n",
       "  -0.033887505531311035,\n",
       "  -0.059596989303827286,\n",
       "  -0.008516279980540276,\n",
       "  0.010958184488117695,\n",
       "  -0.003238930366933346,\n",
       "  0.010467675514519215,\n",
       "  -0.11534693837165833,\n",
       "  -0.014388442039489746,\n",
       "  -0.05029360577464104,\n",
       "  0.03909860551357269,\n",
       "  0.08587874472141266,\n",
       "  0.02703506126999855,\n",
       "  -0.05490242689847946,\n",
       "  0.06014999374747276,\n",
       "  0.047575443983078,\n",
       "  -0.016008401289582253,\n",
       "  0.08683641254901886,\n",
       "  -0.0512453094124794,\n",
       "  0.006733673624694347,\n",
       "  0.019655726850032806,\n",
       "  -0.07975980639457703,\n",
       "  -0.035144973546266556,\n",
       "  0.068309485912323,\n",
       "  0.015474237501621246,\n",
       "  0.037934284657239914,\n",
       "  -0.006144693586975336,\n",
       "  0.03596527874469757,\n",
       "  0.004430920816957951,\n",
       "  -0.014872529543936253,\n",
       "  -0.05200868472456932,\n",
       "  -0.06949661672115326,\n",
       "  -0.00845620222389698,\n",
       "  0.028940342366695404,\n",
       "  0.018042070791125298,\n",
       "  0.02717761881649494,\n",
       "  0.056609462946653366,\n",
       "  -0.02693784236907959,\n",
       "  0.05597957596182823,\n",
       "  -0.03194938972592354,\n",
       "  0.008476600050926208,\n",
       "  -0.01867963932454586,\n",
       "  0.08210393041372299,\n",
       "  0.029065489768981934,\n",
       "  -0.0432523712515831,\n",
       "  0.025807280093431473,\n",
       "  -0.0008061855915002525,\n",
       "  0.08722980320453644,\n",
       "  -0.03797463700175285,\n",
       "  -0.020215237513184547,\n",
       "  0.03208215907216072,\n",
       "  -5.053657150710933e-05,\n",
       "  -0.06508215516805649,\n",
       "  0.07356369495391846,\n",
       "  -0.11377197504043579,\n",
       "  -0.10034670680761337,\n",
       "  -0.08360403031110764,\n",
       "  -0.0026780145708471537,\n",
       "  0.03974217176437378,\n",
       "  0.11196351796388626,\n",
       "  0.018720267340540886,\n",
       "  0.004403737373650074,\n",
       "  0.027651505544781685,\n",
       "  0.01487103383988142,\n",
       "  0.025258447974920273,\n",
       "  -0.04310403764247894,\n",
       "  0.008292222395539284,\n",
       "  -0.02513021044433117,\n",
       "  0.0006216635811142623,\n",
       "  -0.029427532106637955,\n",
       "  0.04189527779817581,\n",
       "  0.00775063456967473,\n",
       "  0.014315050095319748,\n",
       "  -0.03756251558661461,\n",
       "  0.0891142413020134,\n",
       "  -0.0044150021858513355,\n",
       "  -0.0017735264264047146,\n",
       "  0.0348421074450016,\n",
       "  -0.026986664161086082,\n",
       "  0.017268309369683266,\n",
       "  -0.043876033276319504,\n",
       "  -0.028519680723547935,\n",
       "  0.04901082441210747,\n",
       "  -0.030772389844059944,\n",
       "  -0.009284544736146927,\n",
       "  0.05135282501578331,\n",
       "  0.0488976314663887,\n",
       "  0.017146175727248192,\n",
       "  -0.0015612825518473983,\n",
       "  0.04089704155921936,\n",
       "  0.028035320341587067,\n",
       "  0.00721896905452013,\n",
       "  -0.09758605062961578,\n",
       "  -0.01692299172282219,\n",
       "  0.06458374112844467,\n",
       "  0.12317456305027008,\n",
       "  0.015369733795523643,\n",
       "  -0.06652329862117767,\n",
       "  0.0531776137650013,\n",
       "  0.07309500128030777,\n",
       "  0.025408582761883736,\n",
       "  0.05705929920077324,\n",
       "  1.1819102930286236e-30,\n",
       "  -0.02593263052403927,\n",
       "  -0.06068895757198334,\n",
       "  -0.003395459381863475,\n",
       "  -0.023419322445988655,\n",
       "  -0.026334907859563828,\n",
       "  0.008872839622199535,\n",
       "  -0.002986202947795391,\n",
       "  -0.0077453190460801125,\n",
       "  -0.07447020709514618,\n",
       "  -0.012931957840919495,\n",
       "  -0.004049069248139858,\n",
       "  0.04806649684906006,\n",
       "  0.03581206128001213,\n",
       "  -0.031184298917651176,\n",
       "  0.02550737001001835,\n",
       "  -0.11019783467054367,\n",
       "  -0.009372199885547161,\n",
       "  -0.018660079687833786,\n",
       "  0.11250901967287064,\n",
       "  -0.06149667873978615,\n",
       "  -0.011226083151996136,\n",
       "  -0.02241903357207775,\n",
       "  -0.05424771085381508,\n",
       "  -0.05173921585083008,\n",
       "  -0.04956787824630737,\n",
       "  -0.04673706367611885,\n",
       "  0.0017868370050564408,\n",
       "  -0.06420080363750458,\n",
       "  0.09369098395109177,\n",
       "  0.07987842708826065,\n",
       "  -0.05223116651177406,\n",
       "  -0.05857180058956146,\n",
       "  0.026077300310134888,\n",
       "  -0.007886097766458988,\n",
       "  -0.033428408205509186,\n",
       "  -0.0027008778415620327,\n",
       "  -0.06678616255521774,\n",
       "  -0.07320107519626617,\n",
       "  -0.0237292293459177,\n",
       "  -0.033869437873363495,\n",
       "  -0.00682635186240077,\n",
       "  0.031052587553858757,\n",
       "  -0.07991810142993927,\n",
       "  0.009937911294400692,\n",
       "  -0.030590711161494255,\n",
       "  0.03364449739456177,\n",
       "  -0.0020268703810870647,\n",
       "  -0.06238015368580818,\n",
       "  0.006141037214547396,\n",
       "  0.04455689340829849,\n",
       "  0.03202433884143829,\n",
       "  0.022950666025280952,\n",
       "  -0.06629403680562973,\n",
       "  -0.11775562167167664,\n",
       "  0.04188757762312889,\n",
       "  0.06397710740566254,\n",
       "  -0.013576610013842583,\n",
       "  0.0718032494187355,\n",
       "  -0.014267194084823132,\n",
       "  -0.05027562379837036,\n",
       "  0.02779463492333889,\n",
       "  0.02886848896741867,\n",
       "  0.02797534689307213,\n",
       "  -0.032483477145433426,\n",
       "  0.06000863015651703,\n",
       "  -0.07458899170160294,\n",
       "  -0.0050715068355202675,\n",
       "  -0.009195382706820965,\n",
       "  -0.09064670652151108,\n",
       "  -0.025527890771627426,\n",
       "  -0.03616728261113167,\n",
       "  0.06254638731479645,\n",
       "  0.057193879038095474,\n",
       "  -0.04105011746287346,\n",
       "  0.059745799750089645,\n",
       "  -0.005128693301230669,\n",
       "  0.09039022028446198,\n",
       "  0.03215520456433296,\n",
       "  -0.025904381647706032,\n",
       "  -0.025873949751257896,\n",
       "  0.027974851429462433,\n",
       "  0.0013069375418126583,\n",
       "  -0.01985233835875988,\n",
       "  0.1383242905139923,\n",
       "  0.02760341949760914,\n",
       "  0.005574473645538092,\n",
       "  0.055550847202539444,\n",
       "  -0.0217483751475811,\n",
       "  -0.1275842934846878,\n",
       "  -0.12009987235069275,\n",
       "  0.018959231674671173,\n",
       "  0.0017605088651180267,\n",
       "  0.07448899000883102,\n",
       "  -0.04590136930346489,\n",
       "  -0.06025899201631546,\n",
       "  -1.7446317976209836e-33,\n",
       "  -0.003200120758265257,\n",
       "  -0.0037904190830886364,\n",
       "  0.07632394880056381,\n",
       "  -0.07926882803440094,\n",
       "  0.05245072767138481,\n",
       "  0.011219127103686333,\n",
       "  -0.06909796595573425,\n",
       "  0.06459731608629227,\n",
       "  -0.0043479823507368565,\n",
       "  0.08150380104780197,\n",
       "  -0.07547693699598312,\n",
       "  -0.01805821992456913,\n",
       "  -0.12428685277700424,\n",
       "  0.04290107265114784,\n",
       "  -0.015911782160401344,\n",
       "  -0.06417519599199295,\n",
       "  0.07404367625713348,\n",
       "  0.016376566141843796,\n",
       "  0.018661756068468094,\n",
       "  0.009910446591675282,\n",
       "  -0.005787455011159182,\n",
       "  0.10128507018089294,\n",
       "  0.028943853452801704,\n",
       "  -0.04039587080478668,\n",
       "  -0.03324222192168236,\n",
       "  0.03333456441760063,\n",
       "  0.04570448771119118,\n",
       "  0.05818120017647743,\n",
       "  -0.0343715138733387,\n",
       "  -0.13052289187908173,\n",
       "  0.023036006838083267,\n",
       "  -0.051168184727430344,\n",
       "  0.015823833644390106,\n",
       "  0.005024753976613283,\n",
       "  -0.009697853587567806,\n",
       "  0.02245624177157879,\n",
       "  0.12150514125823975,\n",
       "  -0.013127323240041733,\n",
       "  -0.06919322162866592,\n",
       "  -0.05060536414384842,\n",
       "  0.01004021242260933,\n",
       "  0.03302706405520439,\n",
       "  -0.04962291568517685,\n",
       "  -0.01089660357683897,\n",
       "  -0.027264762669801712,\n",
       "  0.022774122655391693,\n",
       "  0.0375143364071846,\n",
       "  0.0475415401160717,\n",
       "  -0.07635577768087387,\n",
       "  0.030030332505702972,\n",
       "  -0.05302273854613304,\n",
       "  -0.007368836551904678,\n",
       "  -0.07113377749919891,\n",
       "  -0.07769383490085602,\n",
       "  -0.03855288401246071,\n",
       "  0.023184560239315033,\n",
       "  -0.04680096358060837,\n",
       "  -0.08801139891147614,\n",
       "  0.007980979979038239,\n",
       "  -0.05242448300123215,\n",
       "  -0.008817299269139767,\n",
       "  -0.042077746242284775,\n",
       "  -0.12103443592786789,\n",
       "  0.07163285464048386,\n",
       "  -0.04946436733007431,\n",
       "  -0.023607544600963593,\n",
       "  -0.056869544088840485,\n",
       "  0.04225170239806175,\n",
       "  -0.03987947851419449,\n",
       "  0.0290538277477026,\n",
       "  -0.05600231885910034,\n",
       "  0.050087470561265945,\n",
       "  -0.08529587090015411,\n",
       "  -0.0444432757794857,\n",
       "  0.07602303475141525,\n",
       "  -0.004314500838518143,\n",
       "  0.03577229380607605,\n",
       "  -0.06491727381944656,\n",
       "  0.028122568503022194,\n",
       "  0.05640198662877083,\n",
       "  0.016980089247226715,\n",
       "  -0.03724490851163864,\n",
       "  -0.016365081071853638,\n",
       "  0.03227601200342178,\n",
       "  0.018961535766720772,\n",
       "  0.04265627637505531,\n",
       "  0.019933268427848816,\n",
       "  0.1257372796535492,\n",
       "  0.04473617672920227,\n",
       "  -0.0015334805939346552,\n",
       "  0.05709568411111832,\n",
       "  0.019116295501589775,\n",
       "  0.06207910552620888,\n",
       "  0.01367999892681837,\n",
       "  0.05474543571472168,\n",
       "  -3.205198038526069e-33,\n",
       "  0.043280377984046936,\n",
       "  0.012703735381364822,\n",
       "  -0.061233408749103546,\n",
       "  0.030956894159317017,\n",
       "  -0.00452098622918129,\n",
       "  0.031880397349596024,\n",
       "  -0.1282908022403717,\n",
       "  -0.0936160460114479,\n",
       "  0.01010402012616396,\n",
       "  0.003027727361768484,\n",
       "  0.07872173190116882,\n",
       "  -0.06318920105695724,\n",
       "  -0.05441002920269966,\n",
       "  -0.057467926293611526,\n",
       "  -0.016384558752179146,\n",
       "  -0.0067613571882247925,\n",
       "  -0.018602924421429634,\n",
       "  -0.030379485338926315,\n",
       "  -0.0400947742164135,\n",
       "  0.05719840154051781,\n",
       "  -0.03014792501926422,\n",
       "  0.061399225145578384,\n",
       "  0.05873144418001175,\n",
       "  -0.04665546491742134,\n",
       "  -0.02157878316938877,\n",
       "  -0.0046945298090577126,\n",
       "  -0.02377430535852909,\n",
       "  -0.047679297626018524,\n",
       "  -0.0034044617787003517,\n",
       "  0.027198946103453636,\n",
       "  -0.024802852421998978,\n",
       "  0.0797203928232193,\n",
       "  -0.08461903035640717,\n",
       "  -0.02571374922990799,\n",
       "  0.08510377258062363,\n",
       "  -0.04539945349097252,\n",
       "  -0.006042686756700277,\n",
       "  0.019926341250538826,\n",
       "  0.016976285725831985,\n",
       "  0.12333681434392929,\n",
       "  0.06550130248069763,\n",
       "  0.07266799360513687,\n",
       "  0.027669282630085945,\n",
       "  0.04120582342147827,\n",
       "  0.0845818743109703,\n",
       "  0.014578809030354023,\n",
       "  0.14413543045520782,\n",
       "  -0.07042001187801361,\n",
       "  0.036253657191991806,\n",
       "  -0.0976729691028595,\n",
       "  -0.03381691500544548,\n",
       "  -0.03832228481769562,\n",
       "  0.028074229136109352,\n",
       "  -0.02552196756005287,\n",
       "  -0.0005593020468950272,\n",
       "  0.06966856122016907,\n",
       "  0.05523562803864479,\n",
       "  -0.040977321565151215,\n",
       "  -0.006915624253451824,\n",
       "  -0.0016232812777161598,\n",
       "  0.037340179085731506,\n",
       "  0.0217796228826046,\n",
       "  -0.005403226241469383,\n",
       "  0.056747615337371826],\n",
       " 'review_vector': [0.002216038526967168,\n",
       "  0.05666728690266609,\n",
       "  0.012745944783091545,\n",
       "  -0.020678704604506493,\n",
       "  0.022270798683166504,\n",
       "  -0.07456779479980469,\n",
       "  0.12552855908870697,\n",
       "  0.03533368557691574,\n",
       "  -0.013881653547286987,\n",
       "  0.0034963020589202642,\n",
       "  -0.03245576098561287,\n",
       "  -0.08519621193408966,\n",
       "  0.04890495538711548,\n",
       "  -0.023689288645982742,\n",
       "  -0.05133754387497902,\n",
       "  0.04610783979296684,\n",
       "  0.006990298628807068,\n",
       "  -0.09840954095125198,\n",
       "  -0.02771747298538685,\n",
       "  -0.03731830045580864,\n",
       "  -0.07372863590717316,\n",
       "  0.02166164480149746,\n",
       "  0.0048768725246191025,\n",
       "  0.003500687889754772,\n",
       "  -0.011637070216238499,\n",
       "  -0.015048663131892681,\n",
       "  -0.0023864225950092077,\n",
       "  0.048268262296915054,\n",
       "  -0.01135818101465702,\n",
       "  -0.06478220969438553,\n",
       "  -0.056130606681108475,\n",
       "  0.035185664892196655,\n",
       "  0.058347757905721664,\n",
       "  0.01288683246821165,\n",
       "  -0.03177691251039505,\n",
       "  0.11326266080141068,\n",
       "  0.0836719423532486,\n",
       "  -0.05949804186820984,\n",
       "  -0.033409614115953445,\n",
       "  0.07000557333230972,\n",
       "  0.0021629028487950563,\n",
       "  -0.08799681812524796,\n",
       "  0.1006045714020729,\n",
       "  0.004090897738933563,\n",
       "  0.039388637989759445,\n",
       "  0.04827149957418442,\n",
       "  -0.07516621053218842,\n",
       "  0.006492633372545242,\n",
       "  -0.02930855192244053,\n",
       "  0.08319434523582458,\n",
       "  -0.0033797835931181908,\n",
       "  0.049497295171022415,\n",
       "  -0.04384510591626167,\n",
       "  0.10276187211275101,\n",
       "  0.04771587997674942,\n",
       "  0.055161017924547195,\n",
       "  -0.07363613694906235,\n",
       "  0.03856495022773743,\n",
       "  -0.01896442286670208,\n",
       "  0.025741511955857277,\n",
       "  0.0013126047560945153,\n",
       "  0.06520102173089981,\n",
       "  0.03466197848320007,\n",
       "  0.08573952317237854,\n",
       "  0.06873422116041183,\n",
       "  0.05112909898161888,\n",
       "  0.001980699598789215,\n",
       "  0.02007490023970604,\n",
       "  -0.07554945349693298,\n",
       "  0.042459141463041306,\n",
       "  0.01186425145715475,\n",
       "  -0.02056173048913479,\n",
       "  -0.0065209525637328625,\n",
       "  0.013433692045509815,\n",
       "  0.05298211798071861,\n",
       "  -0.053192559629678726,\n",
       "  -0.02987344190478325,\n",
       "  -0.04850712791085243,\n",
       "  0.07399331033229828,\n",
       "  -0.02072862908244133,\n",
       "  -0.02512804977595806,\n",
       "  -0.08659351617097855,\n",
       "  0.09299052506685257,\n",
       "  -0.1242903620004654,\n",
       "  -0.0031531481072306633,\n",
       "  -0.011609526351094246,\n",
       "  -0.0022469821851700544,\n",
       "  0.03371934965252876,\n",
       "  -0.014988965354859829,\n",
       "  -0.041241683065891266,\n",
       "  -0.04862622916698456,\n",
       "  -0.12203140556812286,\n",
       "  -0.04538346081972122,\n",
       "  -0.03383645415306091,\n",
       "  -0.003910957369953394,\n",
       "  0.038427021354436874,\n",
       "  -0.01912633888423443,\n",
       "  0.032826054841279984,\n",
       "  -0.011617645621299744,\n",
       "  0.2041960209608078,\n",
       "  -0.02782977558672428,\n",
       "  -0.007615617476403713,\n",
       "  -0.05756186693906784,\n",
       "  -0.059206072241067886,\n",
       "  -0.06924689561128616,\n",
       "  -0.01605263538658619,\n",
       "  -0.056456971913576126,\n",
       "  0.055725742131471634,\n",
       "  0.0384533554315567,\n",
       "  0.02688061073422432,\n",
       "  -0.040492527186870575,\n",
       "  -0.07303661108016968,\n",
       "  0.06783247739076614,\n",
       "  -0.03175817430019379,\n",
       "  0.030779484659433365,\n",
       "  0.03866121545433998,\n",
       "  0.05084940046072006,\n",
       "  -0.01956404559314251,\n",
       "  0.07739438116550446,\n",
       "  -0.06206360086798668,\n",
       "  0.048631150275468826,\n",
       "  0.01567337103188038,\n",
       "  -0.002157752402126789,\n",
       "  0.02092365175485611,\n",
       "  -0.06560689955949783,\n",
       "  0.015684306621551514,\n",
       "  0.0027935844846069813,\n",
       "  5.442261897838137e-31,\n",
       "  -0.03382164612412453,\n",
       "  0.01520383171737194,\n",
       "  0.052094750106334686,\n",
       "  0.03260926157236099,\n",
       "  -0.011213366873562336,\n",
       "  -0.052164025604724884,\n",
       "  -0.07016807049512863,\n",
       "  -0.0025720642879605293,\n",
       "  -0.09375378489494324,\n",
       "  -0.03346030041575432,\n",
       "  0.05094733089208603,\n",
       "  -0.05645756050944328,\n",
       "  -0.018646398559212685,\n",
       "  -0.0209853183478117,\n",
       "  -0.007327053230255842,\n",
       "  -0.074380062520504,\n",
       "  0.01563548855483532,\n",
       "  -0.0692770928144455,\n",
       "  -0.04785706475377083,\n",
       "  0.045904502272605896,\n",
       "  0.04439016804099083,\n",
       "  0.04605727642774582,\n",
       "  -0.08396803587675095,\n",
       "  0.020429888740181923,\n",
       "  0.012726505286991596,\n",
       "  -0.07318192720413208,\n",
       "  0.046414121985435486,\n",
       "  -0.015238812193274498,\n",
       "  0.003551250556483865,\n",
       "  0.01977654919028282,\n",
       "  -0.00687958812341094,\n",
       "  0.027537789195775986,\n",
       "  -0.07966397702693939,\n",
       "  -0.04051568731665611,\n",
       "  -0.1214129626750946,\n",
       "  -0.11099770665168762,\n",
       "  -0.015549873933196068,\n",
       "  -0.03254370763897896,\n",
       "  0.0593516007065773,\n",
       "  -0.054627757519483566,\n",
       "  -0.03409479558467865,\n",
       "  0.049256619065999985,\n",
       "  0.05362842231988907,\n",
       "  -0.05918783321976662,\n",
       "  -0.04734352231025696,\n",
       "  0.10541461408138275,\n",
       "  0.0760895162820816,\n",
       "  -0.05340206250548363,\n",
       "  0.0017616590484976768,\n",
       "  0.011666296049952507,\n",
       "  -0.03405177593231201,\n",
       "  -0.025494031608104706,\n",
       "  0.021646007895469666,\n",
       "  0.0252500269562006,\n",
       "  -0.02340519055724144,\n",
       "  0.020541811361908913,\n",
       "  -0.024127105250954628,\n",
       "  0.01431491132825613,\n",
       "  -0.004483990371227264,\n",
       "  0.0714937373995781,\n",
       "  0.025576088577508926,\n",
       "  -0.004265712108463049,\n",
       "  -0.021601947024464607,\n",
       "  0.06255204230546951,\n",
       "  -0.0392097607254982,\n",
       "  -0.11235815286636353,\n",
       "  -0.014129480347037315,\n",
       "  -0.024352287873625755,\n",
       "  0.05512852594256401,\n",
       "  0.10946109890937805,\n",
       "  0.017231034114956856,\n",
       "  -0.02176438271999359,\n",
       "  -0.032302383333444595,\n",
       "  0.05153879150748253,\n",
       "  -0.044648002833127975,\n",
       "  0.038466159254312515,\n",
       "  0.08333268016576767,\n",
       "  -0.053556688129901886,\n",
       "  -0.053846437484025955,\n",
       "  -0.008085680194199085,\n",
       "  -0.01146629173308611,\n",
       "  0.044316910207271576,\n",
       "  0.014893653802573681,\n",
       "  0.03658716753125191,\n",
       "  0.015239493921399117,\n",
       "  0.04907352104783058,\n",
       "  0.028089474886655807,\n",
       "  -0.009416905231773853,\n",
       "  0.010360962711274624,\n",
       "  0.051465440541505814,\n",
       "  -0.11334104835987091,\n",
       "  -0.03272256627678871,\n",
       "  0.12787331640720367,\n",
       "  -0.035009097307920456,\n",
       "  -0.11472978442907333,\n",
       "  -2.412447403396403e-33,\n",
       "  -0.034875720739364624,\n",
       "  -0.016654495149850845,\n",
       "  -0.035283755511045456,\n",
       "  0.03313925489783287,\n",
       "  -0.003908168990164995,\n",
       "  0.010233910754323006,\n",
       "  0.1362384408712387,\n",
       "  0.10474735498428345,\n",
       "  0.0053503504022955894,\n",
       "  -0.019726591184735298,\n",
       "  -0.012421987019479275,\n",
       "  0.046737585216760635,\n",
       "  -0.021286193281412125,\n",
       "  0.07130787521600723,\n",
       "  0.02819192409515381,\n",
       "  -0.03824683651328087,\n",
       "  0.04078990966081619,\n",
       "  -0.005909346509724855,\n",
       "  0.01516038179397583,\n",
       "  0.057350046932697296,\n",
       "  0.0036411192268133163,\n",
       "  0.08561301976442337,\n",
       "  -0.009269416332244873,\n",
       "  -0.034309789538383484,\n",
       "  -0.044658489525318146,\n",
       "  0.040695175528526306,\n",
       "  0.027865778654813766,\n",
       "  -0.04128424823284149,\n",
       "  -0.0031591076403856277,\n",
       "  0.04791674017906189,\n",
       "  -0.043073639273643494,\n",
       "  -0.04579993709921837,\n",
       "  -0.11042365431785583,\n",
       "  0.04748835042119026,\n",
       "  -0.021192897111177444,\n",
       "  0.012235489673912525,\n",
       "  0.008029559627175331,\n",
       "  -0.029282238334417343,\n",
       "  -0.059394147247076035,\n",
       "  -0.045497551560401917,\n",
       "  -0.012672445736825466,\n",
       "  0.004742272663861513,\n",
       "  -0.03468063101172447,\n",
       "  0.12041667103767395,\n",
       "  -0.020373240113258362,\n",
       "  0.014673025347292423,\n",
       "  -0.04306390509009361,\n",
       "  0.02682255394756794,\n",
       "  -0.053822897374629974,\n",
       "  -0.01116570271551609,\n",
       "  -0.13584820926189423,\n",
       "  -0.02271137572824955,\n",
       "  0.021242406219244003,\n",
       "  -0.06132549047470093,\n",
       "  -0.034850649535655975,\n",
       "  0.03674331307411194,\n",
       "  -0.021425168961286545,\n",
       "  -0.018225057050585747,\n",
       "  0.01666044071316719,\n",
       "  0.04512367025017738,\n",
       "  -0.04799775034189224,\n",
       "  0.05560371279716492,\n",
       "  -0.01690443977713585,\n",
       "  -0.025710295885801315,\n",
       "  -0.03603077307343483,\n",
       "  -0.009027356281876564,\n",
       "  -0.009072510525584221,\n",
       "  -0.007706370670348406,\n",
       "  0.006543862633407116,\n",
       "  0.025389257818460464,\n",
       "  -0.010546067729592323,\n",
       "  -0.003582888748496771,\n",
       "  -0.06384944170713425,\n",
       "  0.052592866122722626,\n",
       "  0.03283928707242012,\n",
       "  -0.06081091985106468,\n",
       "  -0.00738637475296855,\n",
       "  0.02808678150177002,\n",
       "  -0.00864019151777029,\n",
       "  -0.01658882200717926,\n",
       "  0.0432143360376358,\n",
       "  0.09524459391832352,\n",
       "  -0.08406665921211243,\n",
       "  -0.016190411522984505,\n",
       "  -0.03472454845905304,\n",
       "  -0.04107435420155525,\n",
       "  0.037214554846286774,\n",
       "  0.017088932916522026,\n",
       "  0.029094835743308067,\n",
       "  0.030482564121484756,\n",
       "  -0.0011882804101333022,\n",
       "  0.11998724192380905,\n",
       "  -0.11882244795560837,\n",
       "  0.02266668900847435,\n",
       "  0.021666212007403374,\n",
       "  -2.825435486709728e-33,\n",
       "  0.06714852154254913,\n",
       "  -0.0646543949842453,\n",
       "  0.08359626680612564,\n",
       "  0.018098635599017143,\n",
       "  0.03019268624484539,\n",
       "  -0.032147761434316635,\n",
       "  0.051242273300886154,\n",
       "  -0.05134180933237076,\n",
       "  -0.018944861367344856,\n",
       "  0.029309915378689766,\n",
       "  0.05957166850566864,\n",
       "  0.029602641239762306,\n",
       "  0.031702637672424316,\n",
       "  -0.057116273790597916,\n",
       "  -0.014115137048065662,\n",
       "  0.020152999088168144,\n",
       "  0.02036384865641594,\n",
       "  -0.011207252740859985,\n",
       "  -0.07589396089315414,\n",
       "  0.023323705419898033,\n",
       "  0.029279956594109535,\n",
       "  0.02657730132341385,\n",
       "  0.010552572086453438,\n",
       "  0.00942426361143589,\n",
       "  -0.07420293986797333,\n",
       "  -0.036316338926553726,\n",
       "  0.009488527663052082,\n",
       "  -0.0038379672914743423,\n",
       "  -0.06210169196128845,\n",
       "  0.004954732488840818,\n",
       "  0.05284572020173073,\n",
       "  0.06255088746547699,\n",
       "  -0.05843883007764816,\n",
       "  -0.0030055325478315353,\n",
       "  0.04648977145552635,\n",
       "  0.033821698278188705,\n",
       "  -0.032039761543273926,\n",
       "  0.0576823465526104,\n",
       "  -0.009951863437891006,\n",
       "  -0.13568580150604248,\n",
       "  0.03027275763452053,\n",
       "  -0.04513087496161461,\n",
       "  0.022853653877973557,\n",
       "  0.06020722538232803,\n",
       "  0.03464512526988983,\n",
       "  -0.029257087036967278,\n",
       "  -0.015105199068784714,\n",
       "  -0.09851598739624023,\n",
       "  0.05583162605762482,\n",
       "  -0.009703872725367546,\n",
       "  0.019481029361486435,\n",
       "  0.03531757742166519,\n",
       "  0.023828180506825447,\n",
       "  0.055029213428497314,\n",
       "  0.051876265555620193,\n",
       "  -0.020117364823818207,\n",
       "  0.02812798321247101,\n",
       "  -0.012441527098417282,\n",
       "  -0.05458845570683479,\n",
       "  -0.05546730011701584,\n",
       "  0.14427442848682404,\n",
       "  -0.0195450596511364,\n",
       "  0.020865483209490776,\n",
       "  -0.0448295958340168],\n",
       " 'title_review_vector': [-0.023737143725156784,\n",
       "  -0.01774951070547104,\n",
       "  0.022224679589271545,\n",
       "  -0.06357601284980774,\n",
       "  0.03347111865878105,\n",
       "  0.03141489252448082,\n",
       "  0.01113502960652113,\n",
       "  -0.013385280966758728,\n",
       "  0.05512889102101326,\n",
       "  -0.001103422837331891,\n",
       "  -0.014558098278939724,\n",
       "  -0.04995923861861229,\n",
       "  0.059492483735084534,\n",
       "  -0.0039254240691661835,\n",
       "  -0.02079787105321884,\n",
       "  -0.0025661687832325697,\n",
       "  0.10660350322723389,\n",
       "  -0.0075027309358119965,\n",
       "  0.041547149419784546,\n",
       "  -0.03184497356414795,\n",
       "  -0.08174310624599457,\n",
       "  -0.021664762869477272,\n",
       "  0.005640519317239523,\n",
       "  0.07134677469730377,\n",
       "  -0.08820448815822601,\n",
       "  -0.020129526033997536,\n",
       "  -0.034459736198186874,\n",
       "  -0.03187844529747963,\n",
       "  -0.01785178668797016,\n",
       "  -0.004684239625930786,\n",
       "  -0.008161697536706924,\n",
       "  0.020397469401359558,\n",
       "  -0.09841585904359818,\n",
       "  -0.00029959005769342184,\n",
       "  -0.05624571070075035,\n",
       "  0.07558387517929077,\n",
       "  0.09124632179737091,\n",
       "  -0.005038328468799591,\n",
       "  -0.07137870043516159,\n",
       "  0.07334192097187042,\n",
       "  0.046152181923389435,\n",
       "  -0.009047786705195904,\n",
       "  0.12568867206573486,\n",
       "  -0.039283834397792816,\n",
       "  0.0170791856944561,\n",
       "  0.04049529880285263,\n",
       "  -0.10255877673625946,\n",
       "  -0.025237230584025383,\n",
       "  0.05905754864215851,\n",
       "  0.0423613116145134,\n",
       "  0.024677416309714317,\n",
       "  0.022587116807699203,\n",
       "  0.021642465144395828,\n",
       "  0.05682870000600815,\n",
       "  -0.00647799763828516,\n",
       "  -0.022843845188617706,\n",
       "  -0.08226225525140762,\n",
       "  0.022502673789858818,\n",
       "  0.021989306434988976,\n",
       "  0.03969224542379379,\n",
       "  0.024858228862285614,\n",
       "  0.07302990555763245,\n",
       "  0.002615041332319379,\n",
       "  0.048981912434101105,\n",
       "  -0.016865354031324387,\n",
       "  0.021464340388774872,\n",
       "  -0.011740954592823982,\n",
       "  0.08749908953905106,\n",
       "  0.02340836077928543,\n",
       "  -0.005263288039714098,\n",
       "  0.02437698468565941,\n",
       "  -0.006096146069467068,\n",
       "  0.061764780431985855,\n",
       "  -0.040338288992643356,\n",
       "  -0.0033091031946241856,\n",
       "  -0.017115281894803047,\n",
       "  -0.027071233838796616,\n",
       "  -0.10555506497621536,\n",
       "  0.08408299833536148,\n",
       "  -0.10194312036037445,\n",
       "  -0.09739013016223907,\n",
       "  -0.10141300410032272,\n",
       "  0.02166551537811756,\n",
       "  -0.020541884005069733,\n",
       "  0.09860225021839142,\n",
       "  0.003726725932210684,\n",
       "  0.005883659701794386,\n",
       "  0.032908592373132706,\n",
       "  -0.006733179558068514,\n",
       "  0.016952302306890488,\n",
       "  -0.055741049349308014,\n",
       "  -0.0375191755592823,\n",
       "  -0.058471884578466415,\n",
       "  -0.03043374791741371,\n",
       "  -0.023893794044852257,\n",
       "  0.03849557042121887,\n",
       "  0.012469904497265816,\n",
       "  0.036946456879377365,\n",
       "  -0.025946538895368576,\n",
       "  0.07152771949768066,\n",
       "  0.0056561571545898914,\n",
       "  -0.011113067157566547,\n",
       "  0.002966732019558549,\n",
       "  -0.01894645020365715,\n",
       "  -0.015375591814517975,\n",
       "  -0.034610018134117126,\n",
       "  -0.028166351839900017,\n",
       "  0.0737340897321701,\n",
       "  -0.02279749885201454,\n",
       "  0.0022087800316512585,\n",
       "  0.04146691411733627,\n",
       "  0.019881168380379677,\n",
       "  0.03897921368479729,\n",
       "  -0.027262704446911812,\n",
       "  0.050823941826820374,\n",
       "  0.04880334064364433,\n",
       "  0.033003874123096466,\n",
       "  -0.09943868964910507,\n",
       "  0.008641358464956284,\n",
       "  0.03266489505767822,\n",
       "  0.12489457428455353,\n",
       "  -0.00708265183493495,\n",
       "  -0.047164421528577805,\n",
       "  0.0345604307949543,\n",
       "  0.05264206975698471,\n",
       "  0.06499458849430084,\n",
       "  0.06737931817770004,\n",
       "  8.703012227160373e-31,\n",
       "  -0.028122758492827415,\n",
       "  -0.04613254591822624,\n",
       "  0.001383163034915924,\n",
       "  -0.0018454735400155187,\n",
       "  -0.02016136609017849,\n",
       "  -0.014231566339731216,\n",
       "  -0.034513361752033234,\n",
       "  0.00966575276106596,\n",
       "  -0.0855930745601654,\n",
       "  -0.025014333426952362,\n",
       "  0.02045387774705887,\n",
       "  0.020451653748750687,\n",
       "  0.022614840418100357,\n",
       "  -0.023900186643004417,\n",
       "  -0.0031059528701007366,\n",
       "  -0.12007343769073486,\n",
       "  -0.006135785020887852,\n",
       "  -0.05431742966175079,\n",
       "  0.07758469134569168,\n",
       "  -0.022061102092266083,\n",
       "  0.0209211353212595,\n",
       "  -0.02295636758208275,\n",
       "  -0.07479532063007355,\n",
       "  -0.04243072122335434,\n",
       "  -0.03197624534368515,\n",
       "  -0.06435898691415787,\n",
       "  0.0069368863478302956,\n",
       "  -0.044928960502147675,\n",
       "  0.07741428911685944,\n",
       "  0.06215434521436691,\n",
       "  -0.04812639206647873,\n",
       "  -0.03315829485654831,\n",
       "  -0.005856486037373543,\n",
       "  -0.009583179838955402,\n",
       "  -0.07130573689937592,\n",
       "  -0.04087557643651962,\n",
       "  -0.07339450716972351,\n",
       "  -0.06613264977931976,\n",
       "  0.0001033732551150024,\n",
       "  -0.04933341592550278,\n",
       "  -0.008977164514362812,\n",
       "  0.042661529034376144,\n",
       "  -0.038703106343746185,\n",
       "  -0.03612007945775986,\n",
       "  -0.05074670910835266,\n",
       "  0.07082895934581757,\n",
       "  0.01852584257721901,\n",
       "  -0.03890953212976456,\n",
       "  -0.0037936479784548283,\n",
       "  0.029559826478362083,\n",
       "  0.031863417476415634,\n",
       "  0.02705887146294117,\n",
       "  -0.05958353355526924,\n",
       "  -0.11259613931179047,\n",
       "  0.03386734798550606,\n",
       "  0.06785168498754501,\n",
       "  -0.019711153581738472,\n",
       "  0.05054382234811783,\n",
       "  0.00952872633934021,\n",
       "  -0.024067983031272888,\n",
       "  0.04373253509402275,\n",
       "  0.011476007290184498,\n",
       "  0.01381678692996502,\n",
       "  -0.0019246398005634546,\n",
       "  0.06601669639348984,\n",
       "  -0.10431329160928726,\n",
       "  -0.0018628621473908424,\n",
       "  -0.017848771065473557,\n",
       "  -0.054730020463466644,\n",
       "  0.019634230062365532,\n",
       "  -0.03929922357201576,\n",
       "  0.04259452596306801,\n",
       "  0.04990008473396301,\n",
       "  -0.04491035267710686,\n",
       "  0.05184929445385933,\n",
       "  0.0025248974561691284,\n",
       "  0.10007641464471817,\n",
       "  0.02238098718225956,\n",
       "  -0.02895987406373024,\n",
       "  -0.04427231475710869,\n",
       "  0.041989803314208984,\n",
       "  0.024617888033390045,\n",
       "  -0.02414516918361187,\n",
       "  0.15112896263599396,\n",
       "  0.036248672753572464,\n",
       "  0.019825227558612823,\n",
       "  0.05228916555643082,\n",
       "  -0.021721666678786278,\n",
       "  -0.11288844048976898,\n",
       "  -0.0768437534570694,\n",
       "  -0.021672576665878296,\n",
       "  -0.02003292366862297,\n",
       "  0.10332214087247849,\n",
       "  -0.0683024451136589,\n",
       "  -0.0866265520453453,\n",
       "  -2.1382144895831482e-33,\n",
       "  -0.02601604536175728,\n",
       "  0.019904784858226776,\n",
       "  0.030715972185134888,\n",
       "  -0.0872136801481247,\n",
       "  0.05420036241412163,\n",
       "  0.026177426800131798,\n",
       "  -0.016266390681266785,\n",
       "  0.08197136968374252,\n",
       "  0.0033121444284915924,\n",
       "  0.062017928808927536,\n",
       "  -0.07843281328678131,\n",
       "  0.010658472776412964,\n",
       "  -0.129676952958107,\n",
       "  0.07148518413305283,\n",
       "  -0.011763740330934525,\n",
       "  -0.08165678381919861,\n",
       "  0.07331731915473938,\n",
       "  0.011804432608187199,\n",
       "  0.029533913359045982,\n",
       "  0.006138307973742485,\n",
       "  -0.016548052430152893,\n",
       "  0.12451545894145966,\n",
       "  0.030506044626235962,\n",
       "  -0.04051428660750389,\n",
       "  -0.0346551388502121,\n",
       "  0.03355134651064873,\n",
       "  0.03443649783730507,\n",
       "  0.06164320930838585,\n",
       "  -0.012135113589465618,\n",
       "  -0.0988786444067955,\n",
       "  -0.00441324058920145,\n",
       "  -0.036302585154771805,\n",
       "  -0.022001925855875015,\n",
       "  0.024524249136447906,\n",
       "  -0.010134445503354073,\n",
       "  0.019008571282029152,\n",
       "  0.09057363122701645,\n",
       "  -0.018453504890203476,\n",
       "  -0.08851392567157745,\n",
       "  -0.06016981229186058,\n",
       "  0.01048329845070839,\n",
       "  0.03786556422710419,\n",
       "  -0.05652625113725662,\n",
       "  0.02281983755528927,\n",
       "  -0.052403420209884644,\n",
       "  0.03521854802966118,\n",
       "  -0.00963091105222702,\n",
       "  0.06739761680364609,\n",
       "  -0.09466823935508728,\n",
       "  0.02210047096014023,\n",
       "  -0.11009389907121658,\n",
       "  -0.022060319781303406,\n",
       "  -0.06043374538421631,\n",
       "  -0.10266478359699249,\n",
       "  -0.057878874242305756,\n",
       "  0.034807413816452026,\n",
       "  -0.031864896416664124,\n",
       "  -0.10621500015258789,\n",
       "  0.014279035851359367,\n",
       "  -0.03911573439836502,\n",
       "  -0.0501197911798954,\n",
       "  -0.049219761043787,\n",
       "  -0.11114335805177689,\n",
       "  0.0530412383377552,\n",
       "  -0.059822842478752136,\n",
       "  -0.013239894062280655,\n",
       "  -0.03479376062750816,\n",
       "  0.028284689411520958,\n",
       "  -0.020021824166178703,\n",
       "  0.03257782757282257,\n",
       "  -0.056756436824798584,\n",
       "  0.07023230940103531,\n",
       "  -0.05413299798965454,\n",
       "  -0.012564604170620441,\n",
       "  0.09551060199737549,\n",
       "  -0.027056049555540085,\n",
       "  0.01888488605618477,\n",
       "  -0.053959932178258896,\n",
       "  0.018689347431063652,\n",
       "  0.043463610112667084,\n",
       "  0.01860354095697403,\n",
       "  0.006261548958718777,\n",
       "  -0.03702576085925102,\n",
       "  0.0222835261374712,\n",
       "  0.01874914951622486,\n",
       "  0.019313663244247437,\n",
       "  0.0023559604305773973,\n",
       "  0.12839391827583313,\n",
       "  0.07047361880540848,\n",
       "  -0.010226024314761162,\n",
       "  0.04091661050915718,\n",
       "  0.07132197171449661,\n",
       "  0.01274970080703497,\n",
       "  0.02113880030810833,\n",
       "  0.06241477280855179,\n",
       "  -2.3644308468882125e-33,\n",
       "  0.05739065259695053,\n",
       "  -0.021136555820703506,\n",
       "  -0.01912989839911461,\n",
       "  0.02522667869925499,\n",
       "  -0.01458750944584608,\n",
       "  0.017893485724925995,\n",
       "  -0.0818113163113594,\n",
       "  -0.09980180859565735,\n",
       "  0.0045514474622905254,\n",
       "  0.01027446985244751,\n",
       "  0.06550994515419006,\n",
       "  -0.04749758169054985,\n",
       "  -0.023742567747831345,\n",
       "  -0.0821339413523674,\n",
       "  -0.039545897394418716,\n",
       "  0.019099194556474686,\n",
       "  -0.004911812953650951,\n",
       "  -0.03684839606285095,\n",
       "  -0.050784479826688766,\n",
       "  0.07064902037382126,\n",
       "  -0.01758960634469986,\n",
       "  0.05388529971241951,\n",
       "  0.04741329699754715,\n",
       "  -0.05918971076607704,\n",
       "  -0.054868102073669434,\n",
       "  -0.006482794880867004,\n",
       "  -0.023296264931559563,\n",
       "  -0.057064201682806015,\n",
       "  -0.02780972421169281,\n",
       "  0.04035383090376854,\n",
       "  0.005004686303436756,\n",
       "  0.0811578705906868,\n",
       "  -0.08551247417926788,\n",
       "  -0.01019370835274458,\n",
       "  0.07968553900718689,\n",
       "  -0.027945948764681816,\n",
       "  -0.03293636441230774,\n",
       "  0.04771444573998451,\n",
       "  0.018566975370049477,\n",
       "  0.04833446443080902,\n",
       "  0.07810956239700317,\n",
       "  0.04817289113998413,\n",
       "  0.02790546789765358,\n",
       "  0.053282178938388824,\n",
       "  0.08040007948875427,\n",
       "  -0.004057611804455519,\n",
       "  0.11779309809207916,\n",
       "  -0.08428666740655899,\n",
       "  0.06745222955942154,\n",
       "  -0.062290120869874954,\n",
       "  -0.017226791009306908,\n",
       "  -0.03333950415253639,\n",
       "  0.029859501868486404,\n",
       "  0.00978206004947424,\n",
       "  0.014513051137328148,\n",
       "  0.04870417341589928,\n",
       "  0.0485423319041729,\n",
       "  -0.0542251393198967,\n",
       "  0.0018845717422664165,\n",
       "  -0.03795711323618889,\n",
       "  0.07968773692846298,\n",
       "  0.011961663141846657,\n",
       "  -0.02793022431433201,\n",
       "  0.0458163358271122]}"
      ]
     },
     "execution_count": 57,
     "metadata": {},
     "output_type": "execute_result"
    }
   ],
   "source": [
    "reviews[-1]"
   ]
  },
  {
   "cell_type": "code",
   "execution_count": null,
   "id": "58dc88f4-0ef1-4fae-977a-e251dd2969cb",
   "metadata": {},
   "outputs": [],
   "source": []
  }
 ],
 "metadata": {
  "kernelspec": {
   "display_name": "Python 3 (ipykernel)",
   "language": "python",
   "name": "python3"
  },
  "language_info": {
   "codemirror_mode": {
    "name": "ipython",
    "version": 3
   },
   "file_extension": ".py",
   "mimetype": "text/x-python",
   "name": "python",
   "nbconvert_exporter": "python",
   "pygments_lexer": "ipython3",
   "version": "3.11.6"
  }
 },
 "nbformat": 4,
 "nbformat_minor": 5
}
